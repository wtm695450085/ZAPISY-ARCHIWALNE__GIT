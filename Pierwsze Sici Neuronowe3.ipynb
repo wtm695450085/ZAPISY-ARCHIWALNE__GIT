{
 "cells": [
  {
   "cell_type": "code",
   "execution_count": 1,
   "metadata": {},
   "outputs": [],
   "source": [
    "import torch\n",
    "import torch.nn as nn"
   ]
  },
  {
   "cell_type": "markdown",
   "metadata": {},
   "source": [
    "https://colab.research.google.com/drive/109gHWFUlUzuwhgXROpzIuVoSPZA_qeoy#scrollTo=zcms4BCySKXj"
   ]
  },
  {
   "cell_type": "markdown",
   "metadata": {},
   "source": [
    "### <span style=\"color:blue\">1. Pobranie baza danych csv</span>\n",
    "Zacznijmy od utworzenia przykładowych danych za pomocą torch."
   ]
  },
  {
   "cell_type": "code",
   "execution_count": 2,
   "metadata": {},
   "outputs": [
    {
     "data": {
      "text/html": [
       "<div>\n",
       "<style scoped>\n",
       "    .dataframe tbody tr th:only-of-type {\n",
       "        vertical-align: middle;\n",
       "    }\n",
       "\n",
       "    .dataframe tbody tr th {\n",
       "        vertical-align: top;\n",
       "    }\n",
       "\n",
       "    .dataframe thead th {\n",
       "        text-align: right;\n",
       "    }\n",
       "</style>\n",
       "<table border=\"1\" class=\"dataframe\">\n",
       "  <thead>\n",
       "    <tr style=\"text-align: right;\">\n",
       "      <th></th>\n",
       "      <th>Month</th>\n",
       "      <th>Year</th>\n",
       "      <th>Lat</th>\n",
       "      <th>Lon</th>\n",
       "      <th>Value</th>\n",
       "    </tr>\n",
       "  </thead>\n",
       "  <tbody>\n",
       "    <tr>\n",
       "      <th>0</th>\n",
       "      <td>3</td>\n",
       "      <td>14</td>\n",
       "      <td>9.95</td>\n",
       "      <td>-9.70</td>\n",
       "      <td>122.0</td>\n",
       "    </tr>\n",
       "    <tr>\n",
       "      <th>1</th>\n",
       "      <td>4</td>\n",
       "      <td>14</td>\n",
       "      <td>9.95</td>\n",
       "      <td>-9.70</td>\n",
       "      <td>224.0</td>\n",
       "    </tr>\n",
       "    <tr>\n",
       "      <th>2</th>\n",
       "      <td>5</td>\n",
       "      <td>14</td>\n",
       "      <td>9.95</td>\n",
       "      <td>-9.70</td>\n",
       "      <td>291.0</td>\n",
       "    </tr>\n",
       "    <tr>\n",
       "      <th>3</th>\n",
       "      <td>6</td>\n",
       "      <td>14</td>\n",
       "      <td>9.95</td>\n",
       "      <td>-9.70</td>\n",
       "      <td>413.0</td>\n",
       "    </tr>\n",
       "    <tr>\n",
       "      <th>4</th>\n",
       "      <td>7</td>\n",
       "      <td>14</td>\n",
       "      <td>9.95</td>\n",
       "      <td>-9.70</td>\n",
       "      <td>460.0</td>\n",
       "    </tr>\n",
       "    <tr>\n",
       "      <th>5</th>\n",
       "      <td>8</td>\n",
       "      <td>14</td>\n",
       "      <td>9.95</td>\n",
       "      <td>-9.70</td>\n",
       "      <td>771.0</td>\n",
       "    </tr>\n",
       "    <tr>\n",
       "      <th>6</th>\n",
       "      <td>9</td>\n",
       "      <td>14</td>\n",
       "      <td>9.95</td>\n",
       "      <td>-9.70</td>\n",
       "      <td>1022.0</td>\n",
       "    </tr>\n",
       "    <tr>\n",
       "      <th>7</th>\n",
       "      <td>10</td>\n",
       "      <td>14</td>\n",
       "      <td>9.95</td>\n",
       "      <td>-9.70</td>\n",
       "      <td>NaN</td>\n",
       "    </tr>\n",
       "    <tr>\n",
       "      <th>8</th>\n",
       "      <td>11</td>\n",
       "      <td>14</td>\n",
       "      <td>9.95</td>\n",
       "      <td>-9.70</td>\n",
       "      <td>NaN</td>\n",
       "    </tr>\n",
       "    <tr>\n",
       "      <th>9</th>\n",
       "      <td>12</td>\n",
       "      <td>14</td>\n",
       "      <td>9.95</td>\n",
       "      <td>-9.70</td>\n",
       "      <td>NaN</td>\n",
       "    </tr>\n",
       "    <tr>\n",
       "      <th>10</th>\n",
       "      <td>4</td>\n",
       "      <td>14</td>\n",
       "      <td>6.43</td>\n",
       "      <td>-9.43</td>\n",
       "      <td>35.0</td>\n",
       "    </tr>\n",
       "    <tr>\n",
       "      <th>11</th>\n",
       "      <td>5</td>\n",
       "      <td>14</td>\n",
       "      <td>6.43</td>\n",
       "      <td>-9.43</td>\n",
       "      <td>13.0</td>\n",
       "    </tr>\n",
       "    <tr>\n",
       "      <th>12</th>\n",
       "      <td>6</td>\n",
       "      <td>14</td>\n",
       "      <td>6.43</td>\n",
       "      <td>-9.43</td>\n",
       "      <td>107.0</td>\n",
       "    </tr>\n",
       "  </tbody>\n",
       "</table>\n",
       "</div>"
      ],
      "text/plain": [
       "    Month  Year   Lat   Lon   Value\n",
       "0       3    14  9.95 -9.70   122.0\n",
       "1       4    14  9.95 -9.70   224.0\n",
       "2       5    14  9.95 -9.70   291.0\n",
       "3       6    14  9.95 -9.70   413.0\n",
       "4       7    14  9.95 -9.70   460.0\n",
       "5       8    14  9.95 -9.70   771.0\n",
       "6       9    14  9.95 -9.70  1022.0\n",
       "7      10    14  9.95 -9.70     NaN\n",
       "8      11    14  9.95 -9.70     NaN\n",
       "9      12    14  9.95 -9.70     NaN\n",
       "10      4    14  6.43 -9.43    35.0\n",
       "11      5    14  6.43 -9.43    13.0\n",
       "12      6    14  6.43 -9.43   107.0"
      ]
     },
     "execution_count": 2,
     "metadata": {},
     "output_type": "execute_result"
    }
   ],
   "source": [
    "import pandas as pd\n",
    "df = pd.read_csv('c:/1/2014_ebola.csv', usecols=[1,2,3,4,5])\n",
    "df.head(13)"
   ]
  },
  {
   "cell_type": "code",
   "execution_count": 3,
   "metadata": {},
   "outputs": [
    {
     "data": {
      "text/plain": [
       "(31, 5)"
      ]
     },
     "execution_count": 3,
     "metadata": {},
     "output_type": "execute_result"
    }
   ],
   "source": [
    "df.shape"
   ]
  },
  {
   "cell_type": "markdown",
   "metadata": {},
   "source": [
    "### <span style=\"color:blue\">2. Usuwanie pustych komórek NaN </span>\n",
    "Sieci nieuronowe nie lubiś pustych komórek NaN"
   ]
  },
  {
   "cell_type": "code",
   "execution_count": 4,
   "metadata": {},
   "outputs": [
    {
     "data": {
      "text/plain": [
       "Month    0\n",
       "Year     0\n",
       "Lat      0\n",
       "Lon      0\n",
       "Value    0\n",
       "dtype: int64"
      ]
     },
     "execution_count": 4,
     "metadata": {},
     "output_type": "execute_result"
    }
   ],
   "source": [
    "df = df.dropna(how ='any')\n",
    "df.isnull().sum()"
   ]
  },
  {
   "cell_type": "markdown",
   "metadata": {},
   "source": [
    "### <span style=\"color:blue\">3. Przekształcanie na tensor zmiennych niezależnych</span>"
   ]
  },
  {
   "cell_type": "code",
   "execution_count": 5,
   "metadata": {},
   "outputs": [
    {
     "data": {
      "text/plain": [
       "tensor([[  3.0000,   4.0000,   5.0000,   6.0000,   7.0000,   8.0000,   9.0000,\n",
       "           4.0000,   5.0000,   6.0000,   7.0000,   8.0000,   9.0000,  10.0000,\n",
       "          11.0000,   8.0000,   9.0000,   5.0000,   6.0000,   7.0000,   8.0000,\n",
       "           9.0000],\n",
       "        [ 14.0000,  14.0000,  14.0000,  14.0000,  14.0000,  14.0000,  14.0000,\n",
       "          14.0000,  14.0000,  14.0000,  14.0000,  14.0000,  14.0000,  14.0000,\n",
       "          14.0000,  14.0000,  14.0000,  14.0000,  14.0000,  14.0000,  14.0000,\n",
       "          14.0000],\n",
       "        [  9.9500,   9.9500,   9.9500,   9.9500,   9.9500,   9.9500,   9.9500,\n",
       "           6.4300,   6.4300,   6.4300,   6.4300,   6.4300,   6.4300,  17.5700,\n",
       "          17.5700,  14.5000,  14.5000,   8.4600,   8.4600,   8.4600,   8.4600,\n",
       "           8.4600],\n",
       "        [ -9.7000,  -9.7000,  -9.7000,  -9.7000,  -9.7000,  -9.7000,  -9.7000,\n",
       "          -9.4300,  -9.4300,  -9.4300,  -9.4300,  -9.4300,  -9.4300,  -4.0000,\n",
       "          -4.0000, -14.4500, -14.4500, -11.7800, -11.7800, -11.7800, -11.7800,\n",
       "         -11.7800]])"
      ]
     },
     "execution_count": 5,
     "metadata": {},
     "output_type": "execute_result"
    }
   ],
   "source": [
    "X = torch.tensor((df.Month, df.Year, df.Lat, df.Lon), dtype=torch.float)\n",
    "X"
   ]
  },
  {
   "cell_type": "markdown",
   "metadata": {},
   "source": [
    "#### <span style=\"color:blue\"> 3.1 TRansponuje wektor zmiennych niezależnych aby stał się kolumną</span>"
   ]
  },
  {
   "cell_type": "code",
   "execution_count": 6,
   "metadata": {},
   "outputs": [
    {
     "data": {
      "text/plain": [
       "tensor([[ -9.7000,   9.9500,  14.0000,   3.0000],\n",
       "        [ -9.7000,   9.9500,  14.0000,   4.0000],\n",
       "        [ -9.7000,   9.9500,  14.0000,   5.0000],\n",
       "        [ -9.7000,   9.9500,  14.0000,   6.0000],\n",
       "        [ -9.7000,   9.9500,  14.0000,   7.0000],\n",
       "        [ -9.7000,   9.9500,  14.0000,   8.0000],\n",
       "        [ -9.7000,   9.9500,  14.0000,   9.0000],\n",
       "        [ -9.4300,   6.4300,  14.0000,   4.0000],\n",
       "        [ -9.4300,   6.4300,  14.0000,   5.0000],\n",
       "        [ -9.4300,   6.4300,  14.0000,   6.0000],\n",
       "        [ -9.4300,   6.4300,  14.0000,   7.0000],\n",
       "        [ -9.4300,   6.4300,  14.0000,   8.0000],\n",
       "        [ -9.4300,   6.4300,  14.0000,   9.0000],\n",
       "        [ -4.0000,  17.5700,  14.0000,  10.0000],\n",
       "        [ -4.0000,  17.5700,  14.0000,  11.0000],\n",
       "        [-14.4500,  14.5000,  14.0000,   8.0000],\n",
       "        [-14.4500,  14.5000,  14.0000,   9.0000],\n",
       "        [-11.7800,   8.4600,  14.0000,   5.0000],\n",
       "        [-11.7800,   8.4600,  14.0000,   6.0000],\n",
       "        [-11.7800,   8.4600,  14.0000,   7.0000],\n",
       "        [-11.7800,   8.4600,  14.0000,   8.0000],\n",
       "        [-11.7800,   8.4600,  14.0000,   9.0000]])"
      ]
     },
     "execution_count": 6,
     "metadata": {},
     "output_type": "execute_result"
    }
   ],
   "source": [
    "X = torch.transpose(X.flip(0),0,1)\n",
    "X"
   ]
  },
  {
   "cell_type": "markdown",
   "metadata": {},
   "source": [
    "Ma mieć 22 obserwacje i jeden wymiar wynikowy\n",
    "\n",
    "<span style=\"color:green\">torch.Size([22, 4])</span>"
   ]
  },
  {
   "cell_type": "code",
   "execution_count": 7,
   "metadata": {},
   "outputs": [
    {
     "data": {
      "text/plain": [
       "torch.Size([22, 4])"
      ]
     },
     "execution_count": 7,
     "metadata": {},
     "output_type": "execute_result"
    }
   ],
   "source": [
    "X.size()"
   ]
  },
  {
   "cell_type": "markdown",
   "metadata": {},
   "source": [
    "### <span style=\"color:blue\">4. Przekształcanie na tensor zmiennych zależnych</span>"
   ]
  },
  {
   "cell_type": "code",
   "execution_count": 8,
   "metadata": {},
   "outputs": [
    {
     "data": {
      "text/plain": [
       "tensor([1.2200e+02, 2.2400e+02, 2.9100e+02, 4.1300e+02, 4.6000e+02, 7.7100e+02,\n",
       "        1.0220e+03, 3.5000e+01, 1.3000e+01, 1.0700e+02, 3.2900e+02, 1.3950e+03,\n",
       "        3.3620e+03, 1.0000e+00, 8.0000e+00, 1.0000e+00, 3.0000e+00, 5.0000e+01,\n",
       "        2.3900e+02, 5.3300e+02, 1.2160e+03, 1.9400e+03])"
      ]
     },
     "execution_count": 8,
     "metadata": {},
     "output_type": "execute_result"
    }
   ],
   "source": [
    "y = torch.tensor((df.Value), dtype=torch.float)\n",
    "y"
   ]
  },
  {
   "cell_type": "markdown",
   "metadata": {},
   "source": [
    "#### <span style=\"color:blue\"> 4.1 TRansponuje wektor wynikowy aby stał się kolumną</span>"
   ]
  },
  {
   "cell_type": "code",
   "execution_count": 9,
   "metadata": {},
   "outputs": [],
   "source": [
    "y = y.view(y.shape[0],1)"
   ]
  },
  {
   "cell_type": "code",
   "execution_count": 10,
   "metadata": {},
   "outputs": [
    {
     "data": {
      "text/plain": [
       "tensor([[1.2200e+02],\n",
       "        [2.2400e+02],\n",
       "        [2.9100e+02],\n",
       "        [4.1300e+02],\n",
       "        [4.6000e+02],\n",
       "        [7.7100e+02],\n",
       "        [1.0220e+03],\n",
       "        [3.5000e+01],\n",
       "        [1.3000e+01],\n",
       "        [1.0700e+02],\n",
       "        [3.2900e+02],\n",
       "        [1.3950e+03],\n",
       "        [3.3620e+03],\n",
       "        [1.0000e+00],\n",
       "        [8.0000e+00],\n",
       "        [1.0000e+00],\n",
       "        [3.0000e+00],\n",
       "        [5.0000e+01],\n",
       "        [2.3900e+02],\n",
       "        [5.3300e+02],\n",
       "        [1.2160e+03],\n",
       "        [1.9400e+03]])"
      ]
     },
     "execution_count": 10,
     "metadata": {},
     "output_type": "execute_result"
    }
   ],
   "source": [
    "y"
   ]
  },
  {
   "cell_type": "markdown",
   "metadata": {},
   "source": [
    "Ma mieć 22 obserwacje i jeden wymiar wynikowy\n",
    "\n",
    "<span style=\"color:green\">torch.Size([22, 1])</span>"
   ]
  },
  {
   "cell_type": "code",
   "execution_count": 11,
   "metadata": {},
   "outputs": [
    {
     "data": {
      "text/plain": [
       "torch.Size([22, 1])"
      ]
     },
     "execution_count": 11,
     "metadata": {},
     "output_type": "execute_result"
    }
   ],
   "source": [
    "y.size()"
   ]
  },
  {
   "cell_type": "markdown",
   "metadata": {},
   "source": [
    "#### Sprawdzam czy wyniki tensorów są OK"
   ]
  },
  {
   "cell_type": "code",
   "execution_count": 12,
   "metadata": {},
   "outputs": [
    {
     "name": "stdout",
     "output_type": "stream",
     "text": [
      "Tensor zmiennych opisujących: torch.Size([22, 4])\n",
      "Tensor zmiennych wynikowych:  torch.Size([22, 1])\n"
     ]
    }
   ],
   "source": [
    "print('Tensor zmiennych opisujących:', X.size())\n",
    "print('Tensor zmiennych wynikowych: ',y.size())"
   ]
  },
  {
   "cell_type": "markdown",
   "metadata": {},
   "source": [
    "#### Wartość xPredicted\n",
    "\n",
    "Zmienna xPredicted jest pojedynczym wejściem, dla którego chcemy przewidzieć ocenę z wykorzystaniem parametrów wyuczonych przez sieć neuronową."
   ]
  },
  {
   "cell_type": "code",
   "execution_count": 13,
   "metadata": {},
   "outputs": [
    {
     "name": "stdout",
     "output_type": "stream",
     "text": [
      "Tensor zmiennych do prognozy:  torch.Size([4])\n"
     ]
    }
   ],
   "source": [
    "xPredicted = torch.tensor(([6, 14, 6.43, -9.70]), dtype=torch.float)\n",
    "print('Tensor zmiennych do prognozy: ',xPredicted.size())"
   ]
  },
  {
   "cell_type": "markdown",
   "metadata": {},
   "source": [
    "#### Sprawdzam czy wymiary tensorów są OK\n",
    "\n",
    "Tensor zmiennych opisujących   : torch.Size([22, 4])\n",
    "\n",
    "Tensor zmiennych wynikowych    : torch.Size([22, 1])\n",
    "\n",
    "Tensor 1 obserwacji do prognozy: torch.Size([4])"
   ]
  },
  {
   "cell_type": "code",
   "execution_count": 14,
   "metadata": {},
   "outputs": [
    {
     "name": "stdout",
     "output_type": "stream",
     "text": [
      "Tensor zmiennych opisujących   : torch.Size([22, 4])\n",
      "Tensor zmiennych wynikowych    : torch.Size([22, 1])\n",
      "Tensor 1 obserwacji do prognozy: torch.Size([4])\n"
     ]
    }
   ],
   "source": [
    "print('Tensor zmiennych opisujących   :',X.size())\n",
    "print('Tensor zmiennych wynikowych    :',y.size())\n",
    "print('Tensor 1 obserwacji do prognozy:',xPredicted.size())"
   ]
  },
  {
   "attachments": {
    "image.png": {
     "image/png": "[encoded data removed]"
    }
   },
   "cell_type": "markdown",
   "metadata": {},
   "source": [
    "### Skalowanie i normalizacja\n",
    "Dane przetwarzane przez sieć pochodzą najczęściej z obserwacji pewnych wartości w badanym modelu. Ich skala wartości zazwyczaj nie na bezpośrednie wprowadzenie na wejścia sieci. Istnieje kilka popularnych metod skalowania: \n",
    "\n",
    "skalowanie względem wartości maksymalnej: \n",
    "\n",
    "![image.png](attachment:image.png)\n"
   ]
  },
  {
   "cell_type": "markdown",
   "metadata": {},
   "source": [
    "### Skalowanie wartości X"
   ]
  },
  {
   "cell_type": "code",
   "execution_count": 15,
   "metadata": {},
   "outputs": [
    {
     "name": "stdout",
     "output_type": "stream",
     "text": [
      "tensor([[2.4250, 0.5663, 1.0000, 0.2727],\n",
      "        [2.4250, 0.5663, 1.0000, 0.3636],\n",
      "        [2.4250, 0.5663, 1.0000, 0.4545],\n",
      "        [2.4250, 0.5663, 1.0000, 0.5455],\n",
      "        [2.4250, 0.5663, 1.0000, 0.6364],\n",
      "        [2.4250, 0.5663, 1.0000, 0.7273],\n",
      "        [2.4250, 0.5663, 1.0000, 0.8182],\n",
      "        [2.3575, 0.3660, 1.0000, 0.3636],\n",
      "        [2.3575, 0.3660, 1.0000, 0.4545],\n",
      "        [2.3575, 0.3660, 1.0000, 0.5455],\n",
      "        [2.3575, 0.3660, 1.0000, 0.6364],\n",
      "        [2.3575, 0.3660, 1.0000, 0.7273],\n",
      "        [2.3575, 0.3660, 1.0000, 0.8182],\n",
      "        [1.0000, 1.0000, 1.0000, 0.9091],\n",
      "        [1.0000, 1.0000, 1.0000, 1.0000],\n",
      "        [3.6125, 0.8253, 1.0000, 0.7273],\n",
      "        [3.6125, 0.8253, 1.0000, 0.8182],\n",
      "        [2.9450, 0.4815, 1.0000, 0.4545],\n",
      "        [2.9450, 0.4815, 1.0000, 0.5455],\n",
      "        [2.9450, 0.4815, 1.0000, 0.6364],\n",
      "        [2.9450, 0.4815, 1.0000, 0.7273],\n",
      "        [2.9450, 0.4815, 1.0000, 0.8182]])\n"
     ]
    }
   ],
   "source": [
    "# scale units\n",
    "X_max, _ = torch.max(X, 0)\n",
    "X = torch.div(X, X_max)\n",
    "\n",
    "\n",
    "print(X)"
   ]
  },
  {
   "cell_type": "markdown",
   "metadata": {},
   "source": [
    "### Skalowanie wartości y i wartości pod którą szukamy prognozy"
   ]
  },
  {
   "cell_type": "code",
   "execution_count": 16,
   "metadata": {},
   "outputs": [
    {
     "name": "stdout",
     "output_type": "stream",
     "text": [
      "tensor([ 0.4286,  1.0000,  0.4593, -0.6929])\n",
      "tensor([[1.2200e+00],\n",
      "        [2.2400e+00],\n",
      "        [2.9100e+00],\n",
      "        [4.1300e+00],\n",
      "        [4.6000e+00],\n",
      "        [7.7100e+00],\n",
      "        [1.0220e+01],\n",
      "        [3.5000e-01],\n",
      "        [1.3000e-01],\n",
      "        [1.0700e+00],\n",
      "        [3.2900e+00],\n",
      "        [1.3950e+01],\n",
      "        [3.3620e+01],\n",
      "        [1.0000e-02],\n",
      "        [8.0000e-02],\n",
      "        [1.0000e-02],\n",
      "        [3.0000e-02],\n",
      "        [5.0000e-01],\n",
      "        [2.3900e+00],\n",
      "        [5.3300e+00],\n",
      "        [1.2160e+01],\n",
      "        [1.9400e+01]])\n"
     ]
    }
   ],
   "source": [
    "xPredicted_max, _ = torch.max(xPredicted, 0)\n",
    "xPredicted = torch.div(xPredicted, xPredicted_max)\n",
    "y = y / 100  # max test score is 100\n",
    "print(xPredicted)\n",
    "print(y)"
   ]
  },
  {
   "cell_type": "markdown",
   "metadata": {},
   "source": [
    "#### DEFINIOWANIE MODELU"
   ]
  },
  {
   "cell_type": "code",
   "execution_count": 17,
   "metadata": {},
   "outputs": [],
   "source": [
    "class Neural_Network(nn.Module):\n",
    "    def __init__(self, ):\n",
    "        super(Neural_Network, self).__init__()\n",
    "        # parameters\n",
    "        # TODO: parameters can be parameterized instead of declaring them here\n",
    "        self.inputSize = 4   # ---Tyle ile jest obserwacji (kolumn po trnspozycji macierzy X)\n",
    "        self.outputSize = 1\n",
    "        self.hiddenSize = 4  # ---Tyle ile jest obserwacji (kolumn po trnspozycji macierzy X)\n",
    "        \n",
    "        # weights\n",
    "        self.W1 = torch.randn(self.inputSize, self.hiddenSize) # 6 X 4 tensor\n",
    "        self.W2 = torch.randn(self.hiddenSize, self.outputSize) # 6 X 1 tensor\n",
    "        \n",
    "    def forward(self, X):\n",
    "        self.z = torch.matmul(X, self.W1) # 3 X 3 \".dot\" does not broadcast in PyTorch\n",
    "        self.z2 = self.sigmoid(self.z) # activation function\n",
    "        self.z3 = torch.matmul(self.z2, self.W2)\n",
    "        o = self.sigmoid(self.z3) # final activation function\n",
    "        return o\n",
    "        \n",
    "    def sigmoid(self, s):\n",
    "        return 1 / (1 + torch.exp(-s))\n",
    "    \n",
    "    def sigmoidPrime(self, s):\n",
    "        # derivative of sigmoid\n",
    "        return s * (1 - s)\n",
    "    \n",
    "    def backward(self, X, y, o):\n",
    "        self.o_error = y - o # error in output\n",
    "        self.o_delta = self.o_error * self.sigmoidPrime(o) # derivative of sig to error\n",
    "        self.z2_error = torch.matmul(self.o_delta, torch.t(self.W2))\n",
    "        self.z2_delta = self.z2_error * self.sigmoidPrime(self.z2)\n",
    "        self.W1 += torch.matmul(torch.t(X), self.z2_delta)\n",
    "        self.W2 += torch.matmul(torch.t(self.z2), self.o_delta)\n",
    "        \n",
    "    def train(self, X, y):\n",
    "        # forward + backward pass for training\n",
    "        o = self.forward(X)\n",
    "        self.backward(X, y, o)\n",
    "        \n",
    "    def saveWeights(self, model):\n",
    "        # we will use the PyTorch internal storage functions\n",
    "        torch.save(model, \"NN\")\n",
    "        # you can reload model with all the weights and so forth with:\n",
    "        # torch.load(\"NN\")\n",
    "        \n",
    "    def predict(self):\n",
    "        print (\"Predicted data based on trained weights: \")\n",
    "        print (\"Input (scaled): \\n\" + str(xPredicted))\n",
    "        print (\"Output: \\n\" + str(self.forward(xPredicted)))      "
   ]
  },
  {
   "cell_type": "markdown",
   "metadata": {},
   "source": [
    "### Trening\n",
    "Pozostało już tylko trenować sieć neuronową. Najpierw tworzymy instancję wykresu obliczeniowego, który właśnie zbudowaliśmy:"
   ]
  },
  {
   "cell_type": "code",
   "execution_count": 18,
   "metadata": {},
   "outputs": [],
   "source": [
    "NN = Neural_Network()"
   ]
  },
  {
   "cell_type": "code",
   "execution_count": 19,
   "metadata": {},
   "outputs": [
    {
     "data": {
      "text/plain": [
       "torch.Size([22, 4])"
      ]
     },
     "execution_count": 19,
     "metadata": {},
     "output_type": "execute_result"
    }
   ],
   "source": [
    "X.size()"
   ]
  },
  {
   "cell_type": "code",
   "execution_count": 20,
   "metadata": {},
   "outputs": [
    {
     "data": {
      "text/plain": [
       "torch.Size([22, 1])"
      ]
     },
     "execution_count": 20,
     "metadata": {},
     "output_type": "execute_result"
    }
   ],
   "source": [
    "y.size()"
   ]
  },
  {
   "cell_type": "markdown",
   "metadata": {},
   "source": [
    "Następnie trenujemy model do 150 rund. Zauważ, że w PyTorch NN(X) automatycznie wywołuje funkcję forward, więc nie ma potrzeby jawnego wywoływania NN.forward(X).\n",
    "\n",
    "Po uzyskaniu przewidywanego wyniku dla każdej rundy szkolenia, obliczamy stratę za pomocą następującego kodu:"
   ]
  },
  {
   "cell_type": "code",
   "execution_count": 21,
   "metadata": {},
   "outputs": [
    {
     "data": {
      "text/plain": [
       "87.79571533203125"
      ]
     },
     "execution_count": 21,
     "metadata": {},
     "output_type": "execute_result"
    }
   ],
   "source": [
    "torch.mean((y - NN(X))**2).detach().item()"
   ]
  },
  {
   "cell_type": "code",
   "execution_count": 22,
   "metadata": {},
   "outputs": [
    {
     "name": "stdout",
     "output_type": "stream",
     "text": [
      "#0 Loss: 88.52689361572266\n",
      "#1 Loss: 85.6364974975586\n",
      "#2 Loss: 85.6364974975586\n",
      "#3 Loss: 85.6364974975586\n",
      "#4 Loss: 85.6364974975586\n",
      "#5 Loss: 85.6364974975586\n",
      "#6 Loss: 85.6364974975586\n",
      "#7 Loss: 85.6364974975586\n",
      "#8 Loss: 85.6364974975586\n",
      "#9 Loss: 85.6364974975586\n",
      "#10 Loss: 85.6364974975586\n",
      "#11 Loss: 85.6364974975586\n",
      "#12 Loss: 85.6364974975586\n",
      "#13 Loss: 85.6364974975586\n",
      "#14 Loss: 85.6364974975586\n",
      "#15 Loss: 85.6364974975586\n",
      "#16 Loss: 85.6364974975586\n",
      "#17 Loss: 85.6364974975586\n",
      "#18 Loss: 85.6364974975586\n",
      "#19 Loss: 85.6364974975586\n",
      "#20 Loss: 85.6364974975586\n",
      "#21 Loss: 85.6364974975586\n",
      "#22 Loss: 85.6364974975586\n",
      "#23 Loss: 85.6364974975586\n",
      "#24 Loss: 85.6364974975586\n",
      "#25 Loss: 85.6364974975586\n",
      "#26 Loss: 85.6364974975586\n",
      "#27 Loss: 85.6364974975586\n",
      "#28 Loss: 85.6364974975586\n",
      "#29 Loss: 85.6364974975586\n",
      "#30 Loss: 85.6364974975586\n",
      "#31 Loss: 85.6364974975586\n",
      "#32 Loss: 85.6364974975586\n",
      "#33 Loss: 85.6364974975586\n",
      "#34 Loss: 85.6364974975586\n",
      "#35 Loss: 85.6364974975586\n",
      "#36 Loss: 85.6364974975586\n",
      "#37 Loss: 85.6364974975586\n",
      "#38 Loss: 85.6364974975586\n",
      "#39 Loss: 85.6364974975586\n",
      "#40 Loss: 85.6364974975586\n",
      "#41 Loss: 85.6364974975586\n",
      "#42 Loss: 85.6364974975586\n",
      "#43 Loss: 85.6364974975586\n",
      "#44 Loss: 85.6364974975586\n",
      "#45 Loss: 85.6364974975586\n",
      "#46 Loss: 85.6364974975586\n",
      "#47 Loss: 85.6364974975586\n",
      "#48 Loss: 85.6364974975586\n",
      "#49 Loss: 85.6364974975586\n",
      "#50 Loss: 85.6364974975586\n",
      "#51 Loss: 85.6364974975586\n",
      "#52 Loss: 85.6364974975586\n",
      "#53 Loss: 85.6364974975586\n",
      "#54 Loss: 85.6364974975586\n",
      "#55 Loss: 85.6364974975586\n",
      "#56 Loss: 85.6364974975586\n",
      "#57 Loss: 85.6364974975586\n",
      "#58 Loss: 85.6364974975586\n",
      "#59 Loss: 85.6364974975586\n",
      "#60 Loss: 85.6364974975586\n",
      "#61 Loss: 85.6364974975586\n",
      "#62 Loss: 85.6364974975586\n",
      "#63 Loss: 85.6364974975586\n",
      "#64 Loss: 85.6364974975586\n",
      "#65 Loss: 85.6364974975586\n",
      "#66 Loss: 85.6364974975586\n",
      "#67 Loss: 85.6364974975586\n",
      "#68 Loss: 85.6364974975586\n",
      "#69 Loss: 85.6364974975586\n",
      "#70 Loss: 85.6364974975586\n",
      "#71 Loss: 85.6364974975586\n",
      "#72 Loss: 85.6364974975586\n",
      "#73 Loss: 85.6364974975586\n",
      "#74 Loss: 85.6364974975586\n",
      "#75 Loss: 85.6364974975586\n",
      "#76 Loss: 85.6364974975586\n",
      "#77 Loss: 85.6364974975586\n",
      "#78 Loss: 85.6364974975586\n",
      "#79 Loss: 85.6364974975586\n",
      "#80 Loss: 85.6364974975586\n",
      "#81 Loss: 85.6364974975586\n",
      "#82 Loss: 85.6364974975586\n",
      "#83 Loss: 85.6364974975586\n",
      "#84 Loss: 85.6364974975586\n",
      "#85 Loss: 85.6364974975586\n",
      "#86 Loss: 85.6364974975586\n",
      "#87 Loss: 85.6364974975586\n",
      "#88 Loss: 85.6364974975586\n",
      "#89 Loss: 85.6364974975586\n",
      "#90 Loss: 85.6364974975586\n",
      "#91 Loss: 85.6364974975586\n",
      "#92 Loss: 85.6364974975586\n",
      "#93 Loss: 85.6364974975586\n",
      "#94 Loss: 85.6364974975586\n",
      "#95 Loss: 85.6364974975586\n",
      "#96 Loss: 85.6364974975586\n",
      "#97 Loss: 85.6364974975586\n",
      "#98 Loss: 85.6364974975586\n",
      "#99 Loss: 85.6364974975586\n",
      "#100 Loss: 85.6364974975586\n",
      "#101 Loss: 85.6364974975586\n",
      "#102 Loss: 85.6364974975586\n",
      "#103 Loss: 85.6364974975586\n",
      "#104 Loss: 85.6364974975586\n",
      "#105 Loss: 85.6364974975586\n",
      "#106 Loss: 85.6364974975586\n",
      "#107 Loss: 85.6364974975586\n",
      "#108 Loss: 85.6364974975586\n",
      "#109 Loss: 85.6364974975586\n",
      "#110 Loss: 85.6364974975586\n",
      "#111 Loss: 85.6364974975586\n",
      "#112 Loss: 85.6364974975586\n",
      "#113 Loss: 85.6364974975586\n",
      "#114 Loss: 85.6364974975586\n",
      "#115 Loss: 85.6364974975586\n",
      "#116 Loss: 85.6364974975586\n",
      "#117 Loss: 85.6364974975586\n",
      "#118 Loss: 85.6364974975586\n",
      "#119 Loss: 85.6364974975586\n",
      "#120 Loss: 85.6364974975586\n",
      "#121 Loss: 85.6364974975586\n",
      "#122 Loss: 85.6364974975586\n",
      "#123 Loss: 85.6364974975586\n",
      "#124 Loss: 85.6364974975586\n",
      "#125 Loss: 85.6364974975586\n",
      "#126 Loss: 85.6364974975586\n",
      "#127 Loss: 85.6364974975586\n",
      "#128 Loss: 85.6364974975586\n",
      "#129 Loss: 85.6364974975586\n",
      "#130 Loss: 85.6364974975586\n",
      "#131 Loss: 85.6364974975586\n",
      "#132 Loss: 85.6364974975586\n",
      "#133 Loss: 85.6364974975586\n",
      "#134 Loss: 85.6364974975586\n",
      "#135 Loss: 85.6364974975586\n",
      "#136 Loss: 85.6364974975586\n",
      "#137 Loss: 85.6364974975586\n",
      "#138 Loss: 85.6364974975586\n",
      "#139 Loss: 85.6364974975586\n",
      "#140 Loss: 85.6364974975586\n",
      "#141 Loss: 85.6364974975586\n",
      "#142 Loss: 85.6364974975586\n",
      "#143 Loss: 85.6364974975586\n",
      "#144 Loss: 85.6364974975586\n",
      "#145 Loss: 85.6364974975586\n",
      "#146 Loss: 85.6364974975586\n",
      "#147 Loss: 85.6364974975586\n",
      "#148 Loss: 85.6364974975586\n",
      "#149 Loss: 85.6364974975586\n"
     ]
    },
    {
     "name": "stderr",
     "output_type": "stream",
     "text": [
      "C:\\ProgramData\\Anaconda3\\lib\\site-packages\\torch\\serialization.py:360: UserWarning: Couldn't retrieve source code for container of type Neural_Network. It won't be checked for correctness upon loading.\n",
      "  \"type \" + obj.__name__ + \". It won't be checked \"\n"
     ]
    },
    {
     "name": "stdout",
     "output_type": "stream",
     "text": [
      "Predicted data based on trained weights: \n",
      "Input (scaled): \n",
      "tensor([ 0.4286,  1.0000,  0.4593, -0.6929])\n",
      "Output: \n",
      "tensor([1.])\n"
     ]
    }
   ],
   "source": [
    "NN = Neural_Network()\n",
    "for i in range(150):  # trains the NN 150 times\n",
    "    print (\"#\" + str(i) + \" Loss: \" + str(torch.mean((y - NN(X))**2).detach().item()))  # mean sum squared loss\n",
    "    NN.train(X, y)\n",
    "NN.saveWeights(NN)\n",
    "NN.predict()"
   ]
  },
  {
   "cell_type": "code",
   "execution_count": null,
   "metadata": {},
   "outputs": [],
   "source": []
  },
  {
   "cell_type": "code",
   "execution_count": null,
   "metadata": {},
   "outputs": [],
   "source": []
  },
  {
   "cell_type": "code",
   "execution_count": null,
   "metadata": {},
   "outputs": [],
   "source": []
  },
  {
   "cell_type": "code",
   "execution_count": null,
   "metadata": {},
   "outputs": [],
   "source": []
  },
  {
   "cell_type": "code",
   "execution_count": null,
   "metadata": {},
   "outputs": [],
   "source": []
  },
  {
   "cell_type": "code",
   "execution_count": null,
   "metadata": {},
   "outputs": [],
   "source": []
  }
 ],
 "metadata": {
  "kernelspec": {
   "display_name": "Python 3",
   "language": "python",
   "name": "python3"
  },
  "language_info": {
   "codemirror_mode": {
    "name": "ipython",
    "version": 3
   },
   "file_extension": ".py",
   "mimetype": "text/x-python",
   "name": "python",
   "nbconvert_exporter": "python",
   "pygments_lexer": "ipython3",
   "version": "3.6.8"
  }
 },
 "nbformat": 4,
 "nbformat_minor": 2
}
