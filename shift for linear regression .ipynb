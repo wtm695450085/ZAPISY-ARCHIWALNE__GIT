{
 "cells": [
  {
   "cell_type": "markdown",
   "metadata": {},
   "source": [
    "#  Example of the use of shift for linear regression in Python. How to find optimal correlation shift?"
   ]
  },
  {
   "cell_type": "markdown",
   "metadata": {},
   "source": [
    "\n",
    "# <span style=\"color:#0c343d\">What is this the correlation shift?</span>\n",
    "\n",
    "In supervised deep machine learning we have two directions: classification and regression. Regression needs continuous values of data. Because from time to time we are forced to transform discrete data into continues values.\n",
    "\n",
    "More important, have to say, is to find linear correlation between independent variables and dependent variable who represents result.\n",
    "\n",
    "#### <span style=\"color:#0c343d\">How to find correlation?</span>\n",
    "\n",
    "In natural environment everything is correlated each other. Rain causes the level of the lake to rise. Hot sun causes of the level of the lake to down. It is obvious examples of linear correlation.\n",
    "\n",
    "But to observe it, use simple correlation can be insufficient. \n",
    "\n",
    "The problem is in the shift. Rain contribute to rise water in river but this rise appears after couple of hours. Sun makes level of water to down after couple of days. Frankly speaking most correlation in all environments have longer or shorter delays."
   ]
  },
  {
   "cell_type": "markdown",
   "metadata": {},
   "source": [
    "# <span style=\"color:#0c343d\">How to find correlation shift?</span>"
   ]
  },
  {
   "cell_type": "code",
   "execution_count": 1,
   "metadata": {},
   "outputs": [],
   "source": [
    "from scipy import signal, fftpack\n",
    "import pandas as pd\n",
    "import numpy"
   ]
  },
  {
   "cell_type": "markdown",
   "metadata": {},
   "source": [
    "Let's build this dataframe."
   ]
  },
  {
   "cell_type": "code",
   "execution_count": 2,
   "metadata": {},
   "outputs": [
    {
     "data": {
      "text/html": [
       "<div>\n",
       "<style scoped>\n",
       "    .dataframe tbody tr th:only-of-type {\n",
       "        vertical-align: middle;\n",
       "    }\n",
       "\n",
       "    .dataframe tbody tr th {\n",
       "        vertical-align: top;\n",
       "    }\n",
       "\n",
       "    .dataframe thead th {\n",
       "        text-align: right;\n",
       "    }\n",
       "</style>\n",
       "<table border=\"1\" class=\"dataframe\">\n",
       "  <thead>\n",
       "    <tr style=\"text-align: right;\">\n",
       "      <th></th>\n",
       "      <th>AAA</th>\n",
       "      <th>BBB</th>\n",
       "      <th>CCC</th>\n",
       "      <th>DDD</th>\n",
       "      <th>RESULT</th>\n",
       "    </tr>\n",
       "  </thead>\n",
       "  <tbody>\n",
       "    <tr>\n",
       "      <th>0</th>\n",
       "      <td>295</td>\n",
       "      <td>123</td>\n",
       "      <td>124</td>\n",
       "      <td>437</td>\n",
       "      <td>35</td>\n",
       "    </tr>\n",
       "    <tr>\n",
       "      <th>1</th>\n",
       "      <td>370</td>\n",
       "      <td>221</td>\n",
       "      <td>154</td>\n",
       "      <td>453</td>\n",
       "      <td>50</td>\n",
       "    </tr>\n",
       "    <tr>\n",
       "      <th>2</th>\n",
       "      <td>310</td>\n",
       "      <td>113</td>\n",
       "      <td>130</td>\n",
       "      <td>764</td>\n",
       "      <td>38</td>\n",
       "    </tr>\n",
       "    <tr>\n",
       "      <th>3</th>\n",
       "      <td>385</td>\n",
       "      <td>105</td>\n",
       "      <td>160</td>\n",
       "      <td>346</td>\n",
       "      <td>53</td>\n",
       "    </tr>\n",
       "    <tr>\n",
       "      <th>4</th>\n",
       "      <td>325</td>\n",
       "      <td>150</td>\n",
       "      <td>136</td>\n",
       "      <td>239</td>\n",
       "      <td>41</td>\n",
       "    </tr>\n",
       "  </tbody>\n",
       "</table>\n",
       "</div>"
      ],
      "text/plain": [
       "   AAA  BBB  CCC  DDD  RESULT\n",
       "0  295  123  124  437      35\n",
       "1  370  221  154  453      50\n",
       "2  310  113  130  764      38\n",
       "3  385  105  160  346      53\n",
       "4  325  150  136  239      41"
      ]
     },
     "execution_count": 2,
     "metadata": {},
     "output_type": "execute_result"
    }
   ],
   "source": [
    "AAA = [295, 370, 310, 385, 325, 400, 340, 415, 355, 430, 370, 175, 250,\n",
    "       190, 265, 205, 280, 220, 295, 235, 310, 250, 325, 265, 340, 280,\n",
    "       355, 295, 370, 310, 385, 325, 400, 340, 415, 355, 430, 370, 445,\n",
    "       385, 460, 400, 475, 415, 490, 430, 175, 250, 190, 265, 205, 280,\n",
    "       220, 295, 235, 310, 250, 325, 265, 340, 280, 355, 295, 370, 310,\n",
    "       385, 325, 400, 340, 415, 355, 430, 370, 445, 385, 460, 400, 475,\n",
    "       415, 490, 430, 505, 445, 175, 250, 190, 265, 205, 280, 220, 295,\n",
    "       235, 310, 250, 325, 265, 340, 280, 355]\n",
    "\n",
    "BBB = [123, 221, 113, 105, 150, 114, 159, 123, 168, 132, 177, 141, 186,\n",
    "       150, 195, 159, 204, 168, 213, 177, 222, 186, 231, 195, 240, 204,\n",
    "       249, 213, 258, 222, 267, 231, 276, 240, 285, 249, 294, 258, 105,\n",
    "       150, 114, 159, 123, 168, 132, 177, 141, 186, 150, 195, 159, 204,\n",
    "       168, 213, 177, 222, 186, 231, 195, 240, 204, 249, 213, 258, 222,\n",
    "       267, 231, 276, 240, 285, 249, 294, 258, 303, 267, 105, 150, 114,\n",
    "       159, 123, 168, 132, 177, 141, 186, 150, 195, 159, 204, 168, 213,\n",
    "       177, 222, 186, 231, 195, 240, 204, 249]\n",
    "\n",
    "CCC = [124, 154, 130, 160, 136, 166, 142, 172, 148,  70, 100,  76, 106,\n",
    "        82, 112,  88, 118,  94, 124, 100, 130, 106, 136, 112, 142, 118,\n",
    "       148, 124, 154, 130, 160, 136, 166, 142, 172, 148, 178, 154, 184,\n",
    "       160, 190, 166, 196, 172,  70, 100,  76, 106,  82, 112,  88, 118,\n",
    "        94, 124, 100, 130, 106, 136, 112, 142, 118, 148, 124, 154, 130,\n",
    "       160, 136, 166, 142, 172, 148, 178, 154, 184, 160, 190, 166, 196,\n",
    "       172, 202, 178,  70, 100,  76, 106,  82, 112,  88, 118,  94, 124,\n",
    "       100, 130, 106, 136, 112, 142, 118, 148]\n",
    "\n",
    "DDD = [ 437,  453,  764,  346,  239,  420,  600,  456,  636,  492,  672,\n",
    "        528,  708,  564,  744,  600,  780,  636,  816,  672,  852,  708,\n",
    "        888,  744,  924,  780,  960,  816,  996,  852, 1032,  888, 1068,\n",
    "        924, 1104,  960, 1140,  996, 1176, 1032,  420,  600,  456,  636,\n",
    "        492,  672,  528,  708,  564,  744,  600,  780,  636,  816,  672,\n",
    "        852,  708,  888,  744,  924,  780,  960,  816,  996,  852, 1032,\n",
    "        888, 1068,  924, 1104,  960, 1140,  996, 1176, 1032, 1212, 1068,\n",
    "        420,  600,  456,  636,  492,  672,  528,  708,  564,  744,  600,\n",
    "        780,  636,  816,  672,  852,  708,  888,  744,  924,  780,  960]\n",
    "\n",
    "RESULT = [ 35,  50,  38,  53,  41,  56,  44,  59,  47,  62,  50,  65,  53,\n",
    "        68,  56,  71,  59,  74,  62,  77,  65,  80,  68,  83,  71,  86,\n",
    "        74,  89,  77,  92,  80,  95,  83,  98,  86,  35,  50,  38,  53,\n",
    "        41,  56,  44,  59,  47,  62,  50,  65,  53,  68,  56,  71,  59,\n",
    "        74,  62,  77,  65,  80,  68,  83,  71,  86,  74,  89,  77,  92,\n",
    "        80,  95,  83,  98,  86, 101,  89,  35,  50,  38,  53,  41,  56,\n",
    "        44,  59,  47,  62,  50,  65,  53,  68,  56,  71,  59,  74,  62,\n",
    "        77,  65,  80,  68,  83,  71,  86,  74]\n",
    "\n",
    "\n",
    "df = pd.DataFrame({'AAA': AAA, 'BBB': BBB,'CCC':CCC,'DDD':DDD, 'RESULT':RESULT})\n",
    "\n",
    "df.head()"
   ]
  },
  {
   "cell_type": "markdown",
   "metadata": {},
   "source": [
    "Descriptive in the DataFrame phenomena are perfectly correlated. But we don't know about it. Now we use ordinary method of searching correlation."
   ]
  },
  {
   "cell_type": "code",
   "execution_count": 3,
   "metadata": {},
   "outputs": [
    {
     "data": {
      "text/html": [
       "<div>\n",
       "<style scoped>\n",
       "    .dataframe tbody tr th:only-of-type {\n",
       "        vertical-align: middle;\n",
       "    }\n",
       "\n",
       "    .dataframe tbody tr th {\n",
       "        vertical-align: top;\n",
       "    }\n",
       "\n",
       "    .dataframe thead th {\n",
       "        text-align: right;\n",
       "    }\n",
       "</style>\n",
       "<table border=\"1\" class=\"dataframe\">\n",
       "  <thead>\n",
       "    <tr style=\"text-align: right;\">\n",
       "      <th></th>\n",
       "      <th>AAA</th>\n",
       "      <th>BBB</th>\n",
       "      <th>CCC</th>\n",
       "      <th>DDD</th>\n",
       "      <th>RESULT</th>\n",
       "    </tr>\n",
       "  </thead>\n",
       "  <tbody>\n",
       "    <tr>\n",
       "      <th>AAA</th>\n",
       "      <td>1.000000</td>\n",
       "      <td>0.072278</td>\n",
       "      <td>0.715892</td>\n",
       "      <td>0.206945</td>\n",
       "      <td>-0.261955</td>\n",
       "    </tr>\n",
       "    <tr>\n",
       "      <th>BBB</th>\n",
       "      <td>0.072278</td>\n",
       "      <td>1.000000</td>\n",
       "      <td>0.244349</td>\n",
       "      <td>0.748050</td>\n",
       "      <td>0.383326</td>\n",
       "    </tr>\n",
       "    <tr>\n",
       "      <th>CCC</th>\n",
       "      <td>0.715892</td>\n",
       "      <td>0.244349</td>\n",
       "      <td>1.000000</td>\n",
       "      <td>0.389072</td>\n",
       "      <td>-0.169164</td>\n",
       "    </tr>\n",
       "    <tr>\n",
       "      <th>DDD</th>\n",
       "      <td>0.206945</td>\n",
       "      <td>0.748050</td>\n",
       "      <td>0.389072</td>\n",
       "      <td>1.000000</td>\n",
       "      <td>0.248511</td>\n",
       "    </tr>\n",
       "    <tr>\n",
       "      <th>RESULT</th>\n",
       "      <td>-0.261955</td>\n",
       "      <td>0.383326</td>\n",
       "      <td>-0.169164</td>\n",
       "      <td>0.248511</td>\n",
       "      <td>1.000000</td>\n",
       "    </tr>\n",
       "  </tbody>\n",
       "</table>\n",
       "</div>"
      ],
      "text/plain": [
       "             AAA       BBB       CCC       DDD    RESULT\n",
       "AAA     1.000000  0.072278  0.715892  0.206945 -0.261955\n",
       "BBB     0.072278  1.000000  0.244349  0.748050  0.383326\n",
       "CCC     0.715892  0.244349  1.000000  0.389072 -0.169164\n",
       "DDD     0.206945  0.748050  0.389072  1.000000  0.248511\n",
       "RESULT -0.261955  0.383326 -0.169164  0.248511  1.000000"
      ]
     },
     "execution_count": 3,
     "metadata": {},
     "output_type": "execute_result"
    }
   ],
   "source": [
    "corr = df.corr()\n",
    "corr"
   ]
  },
  {
   "cell_type": "code",
   "execution_count": 4,
   "metadata": {},
   "outputs": [
    {
     "data": {
      "text/plain": [
       "AAA      -0.261955\n",
       "BBB       0.383326\n",
       "CCC      -0.169164\n",
       "DDD       0.248511\n",
       "RESULT    1.000000\n",
       "Name: RESULT, dtype: float64"
      ]
     },
     "execution_count": 4,
     "metadata": {},
     "output_type": "execute_result"
    }
   ],
   "source": [
    "corr['RESULT']"
   ]
  },
  {
   "cell_type": "markdown",
   "metadata": {},
   "source": [
    "Is it all? Is it entire correlation for linear regression? How to find correlation delay?"
   ]
  },
  {
   "cell_type": "markdown",
   "metadata": {},
   "source": [
    "# <span style=\"color:#0c343d\">Function to find optimal correlation shift</span>\n",
    "\n",
    "I made special function to detect optimal shift values for maximal linear correlation between dependent and independent variables."
   ]
  },
  {
   "cell_type": "code",
   "execution_count": 5,
   "metadata": {},
   "outputs": [],
   "source": [
    "def cross_corr(x, y, lag=0):\n",
    "    return x.corr(y.shift(lag))\n",
    "\n",
    "def shift_Factor(x,y,R):\n",
    "    x_corr = [cross_corr(x, y, lag=i) for i in range(R)]\n",
    "    \n",
    "    # R factor is the number of the shifts who should be checked by the function\n",
    "    Kot = pd.DataFrame(list(x_corr)).reset_index()\n",
    "    Kot.rename(columns={0:'Corr', 'index':'Shift_num'}, inplace=True)\n",
    "    \n",
    "    # We find optimal correlation shift\n",
    "    Kot['abs'] = Kot['Corr'].abs()\n",
    "    SF = Kot.loc[Kot['abs']==Kot['abs'].max(), 'Shift_num']\n",
    "    p1 = SF.to_frame()\n",
    "    SF = p1.Shift_num.max()\n",
    "    \n",
    "    return SF"
   ]
  },
  {
   "cell_type": "markdown",
   "metadata": {},
   "source": [
    "<span style=\"color:#0c343d\">We declare variables to function.</span>"
   ]
  },
  {
   "cell_type": "code",
   "execution_count": 6,
   "metadata": {},
   "outputs": [],
   "source": [
    "x = df.AAA       # independent variable\n",
    "y = df.RESULT    # dependent variable\n",
    "R = 20           # number of shifts who will be checked"
   ]
  },
  {
   "cell_type": "markdown",
   "metadata": {},
   "source": [
    "# <span style=\"color:#0c343d\">Shift for variable AAA</span>\n",
    "\n",
    "We are looking optimal correlation shift in variable AAA."
   ]
  },
  {
   "cell_type": "code",
   "execution_count": 13,
   "metadata": {},
   "outputs": [
    {
     "name": "stdout",
     "output_type": "stream",
     "text": [
      "Optimal shift for AAA:  11\n"
     ]
    }
   ],
   "source": [
    "SKO = shift_Factor(x,y,R)\n",
    "print('Optimal shift for AAA: ',SKO)"
   ]
  },
  {
   "cell_type": "markdown",
   "metadata": {},
   "source": [
    "We calculate that in 11 rows of shifts there are the biggest correlations between AAA independent variable and RESULT variable (in absolute values). What is the level of correlation?"
   ]
  },
  {
   "cell_type": "code",
   "execution_count": 8,
   "metadata": {},
   "outputs": [
    {
     "data": {
      "text/plain": [
       "0.9999999999999996"
      ]
     },
     "execution_count": 8,
     "metadata": {},
     "output_type": "execute_result"
    }
   ],
   "source": [
    "cross_corr(x, y, lag=SKO)"
   ]
  },
  {
   "cell_type": "markdown",
   "metadata": {},
   "source": [
    "We create new DateFrame with optimal shift."
   ]
  },
  {
   "cell_type": "code",
   "execution_count": 9,
   "metadata": {},
   "outputs": [],
   "source": [
    "def df_shif(df, target=None, lag=0):\n",
    "    if not lag and not target:\n",
    "        return df       \n",
    "    new = {}\n",
    "    for h in df.columns:\n",
    "        if h == target:\n",
    "            new[h] = df[target]\n",
    "        else:\n",
    "            new[h] = df[h].shift(periods=lag)\n",
    "    return  pd.DataFrame(data=new)"
   ]
  },
  {
   "cell_type": "code",
   "execution_count": 10,
   "metadata": {},
   "outputs": [
    {
     "data": {
      "text/html": [
       "<div>\n",
       "<style scoped>\n",
       "    .dataframe tbody tr th:only-of-type {\n",
       "        vertical-align: middle;\n",
       "    }\n",
       "\n",
       "    .dataframe tbody tr th {\n",
       "        vertical-align: top;\n",
       "    }\n",
       "\n",
       "    .dataframe thead th {\n",
       "        text-align: right;\n",
       "    }\n",
       "</style>\n",
       "<table border=\"1\" class=\"dataframe\">\n",
       "  <thead>\n",
       "    <tr style=\"text-align: right;\">\n",
       "      <th></th>\n",
       "      <th>SHIFTED AAA</th>\n",
       "      <th>BBB</th>\n",
       "      <th>CCC</th>\n",
       "      <th>DDD</th>\n",
       "      <th>RESULT</th>\n",
       "    </tr>\n",
       "  </thead>\n",
       "  <tbody>\n",
       "    <tr>\n",
       "      <th>0</th>\n",
       "      <td>295</td>\n",
       "      <td>NaN</td>\n",
       "      <td>NaN</td>\n",
       "      <td>NaN</td>\n",
       "      <td>NaN</td>\n",
       "    </tr>\n",
       "    <tr>\n",
       "      <th>1</th>\n",
       "      <td>370</td>\n",
       "      <td>NaN</td>\n",
       "      <td>NaN</td>\n",
       "      <td>NaN</td>\n",
       "      <td>NaN</td>\n",
       "    </tr>\n",
       "    <tr>\n",
       "      <th>2</th>\n",
       "      <td>310</td>\n",
       "      <td>NaN</td>\n",
       "      <td>NaN</td>\n",
       "      <td>NaN</td>\n",
       "      <td>NaN</td>\n",
       "    </tr>\n",
       "    <tr>\n",
       "      <th>3</th>\n",
       "      <td>385</td>\n",
       "      <td>NaN</td>\n",
       "      <td>NaN</td>\n",
       "      <td>NaN</td>\n",
       "      <td>NaN</td>\n",
       "    </tr>\n",
       "    <tr>\n",
       "      <th>4</th>\n",
       "      <td>325</td>\n",
       "      <td>NaN</td>\n",
       "      <td>NaN</td>\n",
       "      <td>NaN</td>\n",
       "      <td>NaN</td>\n",
       "    </tr>\n",
       "    <tr>\n",
       "      <th>5</th>\n",
       "      <td>400</td>\n",
       "      <td>NaN</td>\n",
       "      <td>NaN</td>\n",
       "      <td>NaN</td>\n",
       "      <td>NaN</td>\n",
       "    </tr>\n",
       "    <tr>\n",
       "      <th>6</th>\n",
       "      <td>340</td>\n",
       "      <td>NaN</td>\n",
       "      <td>NaN</td>\n",
       "      <td>NaN</td>\n",
       "      <td>NaN</td>\n",
       "    </tr>\n",
       "    <tr>\n",
       "      <th>7</th>\n",
       "      <td>415</td>\n",
       "      <td>NaN</td>\n",
       "      <td>NaN</td>\n",
       "      <td>NaN</td>\n",
       "      <td>NaN</td>\n",
       "    </tr>\n",
       "    <tr>\n",
       "      <th>8</th>\n",
       "      <td>355</td>\n",
       "      <td>NaN</td>\n",
       "      <td>NaN</td>\n",
       "      <td>NaN</td>\n",
       "      <td>NaN</td>\n",
       "    </tr>\n",
       "    <tr>\n",
       "      <th>9</th>\n",
       "      <td>430</td>\n",
       "      <td>NaN</td>\n",
       "      <td>NaN</td>\n",
       "      <td>NaN</td>\n",
       "      <td>NaN</td>\n",
       "    </tr>\n",
       "    <tr>\n",
       "      <th>10</th>\n",
       "      <td>370</td>\n",
       "      <td>NaN</td>\n",
       "      <td>NaN</td>\n",
       "      <td>NaN</td>\n",
       "      <td>NaN</td>\n",
       "    </tr>\n",
       "    <tr>\n",
       "      <th>11</th>\n",
       "      <td>175</td>\n",
       "      <td>123.0</td>\n",
       "      <td>124.0</td>\n",
       "      <td>437.0</td>\n",
       "      <td>35.0</td>\n",
       "    </tr>\n",
       "    <tr>\n",
       "      <th>12</th>\n",
       "      <td>250</td>\n",
       "      <td>221.0</td>\n",
       "      <td>154.0</td>\n",
       "      <td>453.0</td>\n",
       "      <td>50.0</td>\n",
       "    </tr>\n",
       "  </tbody>\n",
       "</table>\n",
       "</div>"
      ],
      "text/plain": [
       "    SHIFTED AAA    BBB    CCC    DDD  RESULT\n",
       "0           295    NaN    NaN    NaN     NaN\n",
       "1           370    NaN    NaN    NaN     NaN\n",
       "2           310    NaN    NaN    NaN     NaN\n",
       "3           385    NaN    NaN    NaN     NaN\n",
       "4           325    NaN    NaN    NaN     NaN\n",
       "5           400    NaN    NaN    NaN     NaN\n",
       "6           340    NaN    NaN    NaN     NaN\n",
       "7           415    NaN    NaN    NaN     NaN\n",
       "8           355    NaN    NaN    NaN     NaN\n",
       "9           430    NaN    NaN    NaN     NaN\n",
       "10          370    NaN    NaN    NaN     NaN\n",
       "11          175  123.0  124.0  437.0    35.0\n",
       "12          250  221.0  154.0  453.0    50.0"
      ]
     },
     "execution_count": 10,
     "metadata": {},
     "output_type": "execute_result"
    }
   ],
   "source": [
    "df2 = df_shif(df, 'AAA', lag=SKO)\n",
    "df2.rename(columns={'AAA':'SHIFTED AAA'}, inplace=True) \n",
    "df2.head(13)"
   ]
  },
  {
   "cell_type": "markdown",
   "metadata": {},
   "source": [
    "Now we repeat these manuals for rest independent variables."
   ]
  },
  {
   "cell_type": "markdown",
   "metadata": {},
   "source": [
    "# <span style=\"color:#0c343d\">Shift for variable BBB</span>"
   ]
  },
  {
   "cell_type": "code",
   "execution_count": 11,
   "metadata": {},
   "outputs": [],
   "source": [
    "BBB = df.BBB       # independent variable"
   ]
  },
  {
   "cell_type": "code",
   "execution_count": 14,
   "metadata": {},
   "outputs": [
    {
     "name": "stdout",
     "output_type": "stream",
     "text": [
      "Optimal shift for BBB:  3\n"
     ]
    }
   ],
   "source": [
    "SKS = shift_Factor(BBB,y,R)\n",
    "print('Optimal shift for BBB: ',SKS)"
   ]
  },
  {
   "cell_type": "code",
   "execution_count": 16,
   "metadata": {},
   "outputs": [],
   "source": [
    "df3 = df_shif(df2, 'BBB', lag=SKS)\n",
    "df3.rename(columns={'BBB':'SHIFTED BBB'}, inplace=True)"
   ]
  },
  {
   "cell_type": "markdown",
   "metadata": {},
   "source": [
    "# <span style=\"color:#0c343d\">Shift for variable CCC</span>"
   ]
  },
  {
   "cell_type": "code",
   "execution_count": 18,
   "metadata": {},
   "outputs": [],
   "source": [
    "CCC = df.CCC"
   ]
  },
  {
   "cell_type": "code",
   "execution_count": 26,
   "metadata": {},
   "outputs": [
    {
     "name": "stdout",
     "output_type": "stream",
     "text": [
      "Optimal shift for CCC:  9\n"
     ]
    }
   ],
   "source": [
    "SKK = shift_Factor(CCC,y,R)\n",
    "print('Optimal shift for CCC: ',SKK)"
   ]
  },
  {
   "cell_type": "code",
   "execution_count": 22,
   "metadata": {},
   "outputs": [],
   "source": [
    "df4 = df_shif(df3, 'CCC', lag=SKK)\n",
    "df4.rename(columns={'CCC':'SHIFTED CCC'}, inplace=True)"
   ]
  },
  {
   "cell_type": "markdown",
   "metadata": {},
   "source": [
    "# <span style=\"color:#0c343d\">Shift for variable DDD</span>"
   ]
  },
  {
   "cell_type": "code",
   "execution_count": 23,
   "metadata": {},
   "outputs": [],
   "source": [
    "DDD = df.DDD"
   ]
  },
  {
   "cell_type": "code",
   "execution_count": 27,
   "metadata": {},
   "outputs": [
    {
     "name": "stdout",
     "output_type": "stream",
     "text": [
      "Optimal shift for DDD:  5\n"
     ]
    }
   ],
   "source": [
    "PKP = shift_Factor(DDD,y,R)\n",
    "print('Optimal shift for DDD: ',PKP)"
   ]
  },
  {
   "cell_type": "code",
   "execution_count": 31,
   "metadata": {},
   "outputs": [],
   "source": [
    "df5 = df_shif(df4, 'DDD', lag=PKP)\n",
    "df5.rename(columns={'DDD':'SHIFTED DDD'}, inplace=True)"
   ]
  },
  {
   "cell_type": "markdown",
   "metadata": {},
   "source": [
    "\n",
    "# <span style=\"color:#0c343d\">Correlation after make the shifts </span>\n",
    "\n",
    "I wipe rows in dataframe where appear NaN values and calculate correlation."
   ]
  },
  {
   "cell_type": "code",
   "execution_count": 33,
   "metadata": {},
   "outputs": [
    {
     "data": {
      "text/html": [
       "<div>\n",
       "<style scoped>\n",
       "    .dataframe tbody tr th:only-of-type {\n",
       "        vertical-align: middle;\n",
       "    }\n",
       "\n",
       "    .dataframe tbody tr th {\n",
       "        vertical-align: top;\n",
       "    }\n",
       "\n",
       "    .dataframe thead th {\n",
       "        text-align: right;\n",
       "    }\n",
       "</style>\n",
       "<table border=\"1\" class=\"dataframe\">\n",
       "  <thead>\n",
       "    <tr style=\"text-align: right;\">\n",
       "      <th></th>\n",
       "      <th>SHIFTED AAA</th>\n",
       "      <th>SHIFTED BBB</th>\n",
       "      <th>SHIFTED CCC</th>\n",
       "      <th>SHIFTED DDD</th>\n",
       "      <th>RESULT</th>\n",
       "    </tr>\n",
       "  </thead>\n",
       "  <tbody>\n",
       "    <tr>\n",
       "      <th>28</th>\n",
       "      <td>175.0</td>\n",
       "      <td>105.0</td>\n",
       "      <td>70.0</td>\n",
       "      <td>420.0</td>\n",
       "      <td>35.0</td>\n",
       "    </tr>\n",
       "    <tr>\n",
       "      <th>29</th>\n",
       "      <td>250.0</td>\n",
       "      <td>150.0</td>\n",
       "      <td>100.0</td>\n",
       "      <td>600.0</td>\n",
       "      <td>50.0</td>\n",
       "    </tr>\n",
       "    <tr>\n",
       "      <th>30</th>\n",
       "      <td>190.0</td>\n",
       "      <td>114.0</td>\n",
       "      <td>76.0</td>\n",
       "      <td>456.0</td>\n",
       "      <td>38.0</td>\n",
       "    </tr>\n",
       "  </tbody>\n",
       "</table>\n",
       "</div>"
      ],
      "text/plain": [
       "    SHIFTED AAA  SHIFTED BBB  SHIFTED CCC  SHIFTED DDD  RESULT\n",
       "28        175.0        105.0         70.0        420.0    35.0\n",
       "29        250.0        150.0        100.0        600.0    50.0\n",
       "30        190.0        114.0         76.0        456.0    38.0"
      ]
     },
     "execution_count": 33,
     "metadata": {},
     "output_type": "execute_result"
    }
   ],
   "source": [
    "df5 = df5.dropna(how='any')\n",
    "df5.head(3)"
   ]
  },
  {
   "cell_type": "code",
   "execution_count": 34,
   "metadata": {},
   "outputs": [
    {
     "data": {
      "text/html": [
       "<div>\n",
       "<style scoped>\n",
       "    .dataframe tbody tr th:only-of-type {\n",
       "        vertical-align: middle;\n",
       "    }\n",
       "\n",
       "    .dataframe tbody tr th {\n",
       "        vertical-align: top;\n",
       "    }\n",
       "\n",
       "    .dataframe thead th {\n",
       "        text-align: right;\n",
       "    }\n",
       "</style>\n",
       "<table border=\"1\" class=\"dataframe\">\n",
       "  <thead>\n",
       "    <tr style=\"text-align: right;\">\n",
       "      <th></th>\n",
       "      <th>SHIFTED AAA</th>\n",
       "      <th>SHIFTED BBB</th>\n",
       "      <th>SHIFTED CCC</th>\n",
       "      <th>SHIFTED DDD</th>\n",
       "      <th>RESULT</th>\n",
       "    </tr>\n",
       "  </thead>\n",
       "  <tbody>\n",
       "    <tr>\n",
       "      <th>SHIFTED AAA</th>\n",
       "      <td>1.0</td>\n",
       "      <td>1.0</td>\n",
       "      <td>1.0</td>\n",
       "      <td>1.0</td>\n",
       "      <td>1.0</td>\n",
       "    </tr>\n",
       "    <tr>\n",
       "      <th>SHIFTED BBB</th>\n",
       "      <td>1.0</td>\n",
       "      <td>1.0</td>\n",
       "      <td>1.0</td>\n",
       "      <td>1.0</td>\n",
       "      <td>1.0</td>\n",
       "    </tr>\n",
       "    <tr>\n",
       "      <th>SHIFTED CCC</th>\n",
       "      <td>1.0</td>\n",
       "      <td>1.0</td>\n",
       "      <td>1.0</td>\n",
       "      <td>1.0</td>\n",
       "      <td>1.0</td>\n",
       "    </tr>\n",
       "    <tr>\n",
       "      <th>SHIFTED DDD</th>\n",
       "      <td>1.0</td>\n",
       "      <td>1.0</td>\n",
       "      <td>1.0</td>\n",
       "      <td>1.0</td>\n",
       "      <td>1.0</td>\n",
       "    </tr>\n",
       "    <tr>\n",
       "      <th>RESULT</th>\n",
       "      <td>1.0</td>\n",
       "      <td>1.0</td>\n",
       "      <td>1.0</td>\n",
       "      <td>1.0</td>\n",
       "      <td>1.0</td>\n",
       "    </tr>\n",
       "  </tbody>\n",
       "</table>\n",
       "</div>"
      ],
      "text/plain": [
       "             SHIFTED AAA  SHIFTED BBB  SHIFTED CCC  SHIFTED DDD  RESULT\n",
       "SHIFTED AAA          1.0          1.0          1.0          1.0     1.0\n",
       "SHIFTED BBB          1.0          1.0          1.0          1.0     1.0\n",
       "SHIFTED CCC          1.0          1.0          1.0          1.0     1.0\n",
       "SHIFTED DDD          1.0          1.0          1.0          1.0     1.0\n",
       "RESULT               1.0          1.0          1.0          1.0     1.0"
      ]
     },
     "execution_count": 34,
     "metadata": {},
     "output_type": "execute_result"
    }
   ],
   "source": [
    "corr = df5.corr()\n",
    "corr"
   ]
  },
  {
   "cell_type": "code",
   "execution_count": 35,
   "metadata": {},
   "outputs": [
    {
     "data": {
      "text/plain": [
       "SHIFTED AAA    1.0\n",
       "SHIFTED BBB    1.0\n",
       "SHIFTED CCC    1.0\n",
       "SHIFTED DDD    1.0\n",
       "RESULT         1.0\n",
       "Name: RESULT, dtype: float64"
      ]
     },
     "execution_count": 35,
     "metadata": {},
     "output_type": "execute_result"
    }
   ],
   "source": [
    "corr['RESULT']"
   ]
  },
  {
   "cell_type": "markdown",
   "metadata": {},
   "source": [
    "As we see, independent variables are perfectly correlated with result variable. This phenomenon was hidden because there were existing shifts. \n",
    "I hope I convinced that researchers should enter rule of checking shifts during model making."
   ]
  }
 ],
 "metadata": {
  "kernelspec": {
   "display_name": "Python 3",
   "language": "python",
   "name": "python3"
  },
  "language_info": {
   "codemirror_mode": {
    "name": "ipython",
    "version": 3
   },
   "file_extension": ".py",
   "mimetype": "text/x-python",
   "name": "python",
   "nbconvert_exporter": "python",
   "pygments_lexer": "ipython3",
   "version": "3.7.4"
  }
 },
 "nbformat": 4,
 "nbformat_minor": 2
}
