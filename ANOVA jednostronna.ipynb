{
 "cells": [
  {
   "cell_type": "markdown",
   "metadata": {},
   "source": [
    "# ANOVA jednostronna test zgodności wariancji"
   ]
  },
  {
   "cell_type": "markdown",
   "metadata": {},
   "source": [
    "https://reneshbedre.github.io/blog/anova.html"
   ]
  },
  {
   "cell_type": "code",
   "execution_count": 1,
   "metadata": {},
   "outputs": [
    {
     "data": {
      "text/html": [
       "<div>\n",
       "<style scoped>\n",
       "    .dataframe tbody tr th:only-of-type {\n",
       "        vertical-align: middle;\n",
       "    }\n",
       "\n",
       "    .dataframe tbody tr th {\n",
       "        vertical-align: top;\n",
       "    }\n",
       "\n",
       "    .dataframe thead th {\n",
       "        text-align: right;\n",
       "    }\n",
       "</style>\n",
       "<table border=\"1\" class=\"dataframe\">\n",
       "  <thead>\n",
       "    <tr style=\"text-align: right;\">\n",
       "      <th></th>\n",
       "      <th>A</th>\n",
       "      <th>B</th>\n",
       "      <th>C</th>\n",
       "      <th>D</th>\n",
       "    </tr>\n",
       "  </thead>\n",
       "  <tbody>\n",
       "    <tr>\n",
       "      <th>0</th>\n",
       "      <td>25</td>\n",
       "      <td>45</td>\n",
       "      <td>30</td>\n",
       "      <td>54</td>\n",
       "    </tr>\n",
       "    <tr>\n",
       "      <th>1</th>\n",
       "      <td>30</td>\n",
       "      <td>55</td>\n",
       "      <td>29</td>\n",
       "      <td>60</td>\n",
       "    </tr>\n",
       "    <tr>\n",
       "      <th>2</th>\n",
       "      <td>28</td>\n",
       "      <td>29</td>\n",
       "      <td>33</td>\n",
       "      <td>51</td>\n",
       "    </tr>\n",
       "    <tr>\n",
       "      <th>3</th>\n",
       "      <td>36</td>\n",
       "      <td>56</td>\n",
       "      <td>37</td>\n",
       "      <td>62</td>\n",
       "    </tr>\n",
       "    <tr>\n",
       "      <th>4</th>\n",
       "      <td>29</td>\n",
       "      <td>40</td>\n",
       "      <td>27</td>\n",
       "      <td>73</td>\n",
       "    </tr>\n",
       "  </tbody>\n",
       "</table>\n",
       "</div>"
      ],
      "text/plain": [
       "    A   B   C   D\n",
       "0  25  45  30  54\n",
       "1  30  55  29  60\n",
       "2  28  29  33  51\n",
       "3  36  56  37  62\n",
       "4  29  40  27  73"
      ]
     },
     "execution_count": 1,
     "metadata": {},
     "output_type": "execute_result"
    }
   ],
   "source": [
    "import pandas as pd\n",
    "import matplotlib.pyplot as plt\n",
    "\n",
    "df = pd.read_csv('c:/3/test1.txt', sep=\"\\t\")\n",
    "df"
   ]
  },
  {
   "cell_type": "markdown",
   "metadata": {},
   "source": [
    "Analizujemy tylko jeden czynnik ponieważ interesuje nas jakość leczenia (to ten jedne czynnik) więc wybieramy ANOVA jednokierunkową."
   ]
  },
  {
   "cell_type": "code",
   "execution_count": 2,
   "metadata": {},
   "outputs": [
    {
     "data": {
      "text/plain": [
       "<matplotlib.axes._subplots.AxesSubplot at 0x24648aeb908>"
      ]
     },
     "execution_count": 2,
     "metadata": {},
     "output_type": "execute_result"
    },
    {
     "data": {
      "image/png": "[encoded data removed]",
      "text/plain": [
       "<Figure size 432x288 with 1 Axes>"
      ]
     },
     "metadata": {
      "needs_background": "light"
     },
     "output_type": "display_data"
    }
   ],
   "source": [
    "df.boxplot(column=['A', 'B', 'C', 'D'], grid=False)"
   ]
  },
  {
   "cell_type": "code",
   "execution_count": 3,
   "metadata": {},
   "outputs": [
    {
     "data": {
      "text/plain": [
       "F_onewayResult(statistic=17.492810457516338, pvalue=2.639241146210922e-05)"
      ]
     },
     "execution_count": 3,
     "metadata": {},
     "output_type": "execute_result"
    }
   ],
   "source": [
    "import scipy.stats as stats\n",
    "k = stats.f_oneway(df['A'], df['B'], df['C'], df['D'])\n",
    "k"
   ]
  },
  {
   "cell_type": "code",
   "execution_count": 4,
   "metadata": {},
   "outputs": [],
   "source": [
    "import statsmodels.api as sm\n",
    "from statsmodels.formula.api import ols"
   ]
  },
  {
   "cell_type": "code",
   "execution_count": 5,
   "metadata": {},
   "outputs": [
    {
     "data": {
      "text/html": [
       "<div>\n",
       "<style scoped>\n",
       "    .dataframe tbody tr th:only-of-type {\n",
       "        vertical-align: middle;\n",
       "    }\n",
       "\n",
       "    .dataframe tbody tr th {\n",
       "        vertical-align: top;\n",
       "    }\n",
       "\n",
       "    .dataframe thead th {\n",
       "        text-align: right;\n",
       "    }\n",
       "</style>\n",
       "<table border=\"1\" class=\"dataframe\">\n",
       "  <thead>\n",
       "    <tr style=\"text-align: right;\">\n",
       "      <th></th>\n",
       "      <th>index</th>\n",
       "      <th>variable</th>\n",
       "      <th>value</th>\n",
       "    </tr>\n",
       "  </thead>\n",
       "  <tbody>\n",
       "    <tr>\n",
       "      <th>0</th>\n",
       "      <td>0</td>\n",
       "      <td>A</td>\n",
       "      <td>25</td>\n",
       "    </tr>\n",
       "    <tr>\n",
       "      <th>1</th>\n",
       "      <td>1</td>\n",
       "      <td>A</td>\n",
       "      <td>30</td>\n",
       "    </tr>\n",
       "    <tr>\n",
       "      <th>2</th>\n",
       "      <td>2</td>\n",
       "      <td>A</td>\n",
       "      <td>28</td>\n",
       "    </tr>\n",
       "  </tbody>\n",
       "</table>\n",
       "</div>"
      ],
      "text/plain": [
       "   index variable  value\n",
       "0      0        A     25\n",
       "1      1        A     30\n",
       "2      2        A     28"
      ]
     },
     "execution_count": 5,
     "metadata": {},
     "output_type": "execute_result"
    }
   ],
   "source": [
    "df_melt = pd.melt(df.reset_index(), id_vars=['index'], value_vars=['A', 'B', 'C', 'D'])\n",
    "df_melt.head(3)"
   ]
  },
  {
   "cell_type": "code",
   "execution_count": 6,
   "metadata": {},
   "outputs": [
    {
     "data": {
      "text/html": [
       "<div>\n",
       "<style scoped>\n",
       "    .dataframe tbody tr th:only-of-type {\n",
       "        vertical-align: middle;\n",
       "    }\n",
       "\n",
       "    .dataframe tbody tr th {\n",
       "        vertical-align: top;\n",
       "    }\n",
       "\n",
       "    .dataframe thead th {\n",
       "        text-align: right;\n",
       "    }\n",
       "</style>\n",
       "<table border=\"1\" class=\"dataframe\">\n",
       "  <thead>\n",
       "    <tr style=\"text-align: right;\">\n",
       "      <th></th>\n",
       "      <th>index</th>\n",
       "      <th>treatments</th>\n",
       "      <th>value</th>\n",
       "    </tr>\n",
       "  </thead>\n",
       "  <tbody>\n",
       "    <tr>\n",
       "      <th>0</th>\n",
       "      <td>0</td>\n",
       "      <td>A</td>\n",
       "      <td>25</td>\n",
       "    </tr>\n",
       "    <tr>\n",
       "      <th>1</th>\n",
       "      <td>1</td>\n",
       "      <td>A</td>\n",
       "      <td>30</td>\n",
       "    </tr>\n",
       "    <tr>\n",
       "      <th>2</th>\n",
       "      <td>2</td>\n",
       "      <td>A</td>\n",
       "      <td>28</td>\n",
       "    </tr>\n",
       "  </tbody>\n",
       "</table>\n",
       "</div>"
      ],
      "text/plain": [
       "   index treatments  value\n",
       "0      0          A     25\n",
       "1      1          A     30\n",
       "2      2          A     28"
      ]
     },
     "execution_count": 6,
     "metadata": {},
     "output_type": "execute_result"
    }
   ],
   "source": [
    "df_melt.columns = ['index', 'treatments', 'value']\n",
    "df_melt.head(3)"
   ]
  },
  {
   "cell_type": "code",
   "execution_count": 7,
   "metadata": {},
   "outputs": [
    {
     "name": "stdout",
     "output_type": "stream",
     "text": [
      "                sum_sq    df         F    PR(>F)\n",
      "C(treatments)  3010.95   3.0  17.49281  0.000026\n",
      "Residual        918.00  16.0       NaN       NaN\n"
     ]
    }
   ],
   "source": [
    "import statsmodels.api as sm\n",
    "from statsmodels.formula.api import ols\n",
    "\n",
    "model = ols('value ~ C(treatments)', data=df_melt).fit()\n",
    "\n",
    "anova_table = sm.stats.anova_lm(model, typ=2)\n",
    "print(anova_table)"
   ]
  },
  {
   "cell_type": "markdown",
   "metadata": {},
   "source": [
    "Interpretacja : Wartość P uzyskana z analizy ANOVA jest znacząca (P <0,05), a zatem wnioskujemy, że istnieją znaczące różnice między sposobami leczenia."
   ]
  },
  {
   "cell_type": "markdown",
   "metadata": {},
   "source": [
    "### Testu HSD Tukeya"
   ]
  },
  {
   "cell_type": "code",
   "execution_count": 8,
   "metadata": {},
   "outputs": [
    {
     "name": "stdout",
     "output_type": "stream",
     "text": [
      "Multiple Comparison of Means - Tukey HSD,FWER=0.05\n",
      "==============================================\n",
      "group1 group2 meandiff  lower    upper  reject\n",
      "----------------------------------------------\n",
      "  A      B      15.4    1.6929  29.1071  True \n",
      "  A      C      1.6    -12.1071 15.3071 False \n",
      "  A      D      30.4   16.6929  44.1071  True \n",
      "  B      C     -13.8   -27.5071 -0.0929  True \n",
      "  B      D      15.0    1.2929  28.7071  True \n",
      "  C      D      28.8   15.0929  42.5071  True \n",
      "----------------------------------------------\n"
     ]
    }
   ],
   "source": [
    "from statsmodels.stats.multicomp import pairwise_tukeyhsd\n",
    "# perform multiple pairwise comparison (Tukey HSD)\n",
    "m_comp = pairwise_tukeyhsd(endog=df_melt['value'], groups=df_melt['treatments'], alpha=0.05)\n",
    "print(m_comp)"
   ]
  },
  {
   "cell_type": "markdown",
   "metadata": {},
   "source": [
    "Powyższe wyniki z Tukey HSD sugerują, że oprócz AC, wszystkie inne porównania par w leczeniu odrzucają hipotezę zerową i wskazują na istotne różnice statystyczne w leczeniu."
   ]
  },
  {
   "cell_type": "markdown",
   "metadata": {},
   "source": [
    "### Sprawdzenie spełnienia warunków ANOVA\n",
    "Warunki: \n",
    "1. wartości rezydualne mają rozkład normalny (test Shapiro Wilksa)\n",
    "2. wariancje w grupach są jednorodne (test Levene lub Bartlett)\n",
    "3. obserwacje są prowadzone niezależnie od siebie "
   ]
  },
  {
   "cell_type": "markdown",
   "metadata": {},
   "source": [
    "### Sprawdzenie jednorodności wariancji\n",
    "Test Levene'a można wykorzystać do sprawdzenia jednorodności wariancji . \n",
    "> ##### Hipoteza zerowa : próbki z populacji mają równe wariancje."
   ]
  },
  {
   "cell_type": "code",
   "execution_count": 9,
   "metadata": {},
   "outputs": [
    {
     "name": "stdout",
     "output_type": "stream",
     "text": [
      "Value:    1.9219593192195938\n",
      "p-value:  0.16673281219949276\n"
     ]
    }
   ],
   "source": [
    "import scipy.stats as stats\n",
    "w,p = stats.levene(df['A'], df['B'], df['C'], df['D'])\n",
    "print(\"Value:   \",w)\n",
    "print(\"p-value: \",p)"
   ]
  },
  {
   "cell_type": "markdown",
   "metadata": {},
   "source": [
    "Ponieważ wartość P nie jest znacząca (p>0.05), nie odrzucamy hipotezy zerowej - czyli leczenie ma równe wariancje."
   ]
  },
  {
   "cell_type": "markdown",
   "metadata": {},
   "source": [
    "### Sprawdzenia rozkładu normalnego reszt\n",
    "\n",
    "Test Shapiro-Wilka można wykorzystać do sprawdzenia rozkładu normalnego reszt. \n",
    "\n",
    "> ##### Hipoteza zerowa : wartości rezydualne mają rozkład normalny."
   ]
  },
  {
   "cell_type": "code",
   "execution_count": 10,
   "metadata": {},
   "outputs": [
    {
     "name": "stdout",
     "output_type": "stream",
     "text": [
      "Value:    0.9685019850730896\n",
      "p-value:  0.7229772806167603\n"
     ]
    }
   ],
   "source": [
    "import scipy.stats as stats\n",
    "w, p = stats.shapiro(model.resid)\n",
    "print(\"Value:   \",w)\n",
    "print(\"p-value: \",p)"
   ]
  },
  {
   "cell_type": "markdown",
   "metadata": {},
   "source": [
    "Ponieważ wartość P nie jest znacząca (p>0.05), nie odrzucamy hipotezy zerowej - czyli wartości rezydualne mają rozkład normalny."
   ]
  },
  {
   "cell_type": "markdown",
   "metadata": {},
   "source": [
    "## Sprawdzamy czy poziom insuliny we krwi pacjętek różni się zależnie od wieku.\n",
    "\n",
    "Analizujemy tylko jeden czynnik ponieważ interesuje nas jakość leczenia (to ten jedne czynnik) więc wybieramy ANOVA jednokierunkową.\n",
    "\n",
    "Źródło danych: https://www.kaggle.com/saurabh00007/diabetescsv"
   ]
  },
  {
   "cell_type": "code",
   "execution_count": 11,
   "metadata": {},
   "outputs": [
    {
     "data": {
      "text/html": [
       "<div>\n",
       "<style scoped>\n",
       "    .dataframe tbody tr th:only-of-type {\n",
       "        vertical-align: middle;\n",
       "    }\n",
       "\n",
       "    .dataframe tbody tr th {\n",
       "        vertical-align: top;\n",
       "    }\n",
       "\n",
       "    .dataframe thead th {\n",
       "        text-align: right;\n",
       "    }\n",
       "</style>\n",
       "<table border=\"1\" class=\"dataframe\">\n",
       "  <thead>\n",
       "    <tr style=\"text-align: right;\">\n",
       "      <th></th>\n",
       "      <th>Insulin</th>\n",
       "      <th>Age</th>\n",
       "    </tr>\n",
       "  </thead>\n",
       "  <tbody>\n",
       "    <tr>\n",
       "      <th>0</th>\n",
       "      <td>0</td>\n",
       "      <td>50</td>\n",
       "    </tr>\n",
       "    <tr>\n",
       "      <th>1</th>\n",
       "      <td>0</td>\n",
       "      <td>31</td>\n",
       "    </tr>\n",
       "    <tr>\n",
       "      <th>2</th>\n",
       "      <td>0</td>\n",
       "      <td>32</td>\n",
       "    </tr>\n",
       "  </tbody>\n",
       "</table>\n",
       "</div>"
      ],
      "text/plain": [
       "   Insulin  Age\n",
       "0        0   50\n",
       "1        0   31\n",
       "2        0   32"
      ]
     },
     "execution_count": 11,
     "metadata": {},
     "output_type": "execute_result"
    }
   ],
   "source": [
    "import pandas as pd\n",
    "df = pd.read_csv('c:/1/diabetes.csv', usecols=['Insulin','Age'])\n",
    "df.head(3)"
   ]
  },
  {
   "cell_type": "markdown",
   "metadata": {},
   "source": [
    "Usuwam brakujące dane. Poziom insuliny we krwi nie może wynosić zero, te rekordy usuwamy jako nie nadające się do naszych testów."
   ]
  },
  {
   "cell_type": "code",
   "execution_count": 12,
   "metadata": {},
   "outputs": [
    {
     "data": {
      "text/plain": [
       "Insulin    0\n",
       "Age        0\n",
       "dtype: int64"
      ]
     },
     "execution_count": 12,
     "metadata": {},
     "output_type": "execute_result"
    }
   ],
   "source": [
    "import numpy as np\n",
    "\n",
    "df['Insulin']=df['Insulin'].replace(0,np.nan)\n",
    "df = df.dropna(how ='any')\n",
    "df.isnull().sum()"
   ]
  },
  {
   "cell_type": "markdown",
   "metadata": {},
   "source": [
    "Dzielimy paciętki na cztery grupy zależnie od ich wieku."
   ]
  },
  {
   "cell_type": "code",
   "execution_count": 13,
   "metadata": {},
   "outputs": [],
   "source": [
    "df['Age_G']=pd.qcut(df['Age'], 4,labels=[\"young\",\"adults\",\"middle-aged\",\"old\"])"
   ]
  },
  {
   "cell_type": "code",
   "execution_count": 14,
   "metadata": {},
   "outputs": [
    {
     "data": {
      "text/html": [
       "<div>\n",
       "<style scoped>\n",
       "    .dataframe tbody tr th:only-of-type {\n",
       "        vertical-align: middle;\n",
       "    }\n",
       "\n",
       "    .dataframe tbody tr th {\n",
       "        vertical-align: top;\n",
       "    }\n",
       "\n",
       "    .dataframe thead th {\n",
       "        text-align: right;\n",
       "    }\n",
       "</style>\n",
       "<table border=\"1\" class=\"dataframe\">\n",
       "  <thead>\n",
       "    <tr style=\"text-align: right;\">\n",
       "      <th></th>\n",
       "      <th>Insulin</th>\n",
       "      <th>Age</th>\n",
       "      <th>Age_G</th>\n",
       "    </tr>\n",
       "  </thead>\n",
       "  <tbody>\n",
       "    <tr>\n",
       "      <th>3</th>\n",
       "      <td>94.0</td>\n",
       "      <td>21</td>\n",
       "      <td>young</td>\n",
       "    </tr>\n",
       "    <tr>\n",
       "      <th>4</th>\n",
       "      <td>168.0</td>\n",
       "      <td>33</td>\n",
       "      <td>middle-aged</td>\n",
       "    </tr>\n",
       "    <tr>\n",
       "      <th>6</th>\n",
       "      <td>88.0</td>\n",
       "      <td>26</td>\n",
       "      <td>adults</td>\n",
       "    </tr>\n",
       "    <tr>\n",
       "      <th>8</th>\n",
       "      <td>543.0</td>\n",
       "      <td>53</td>\n",
       "      <td>old</td>\n",
       "    </tr>\n",
       "    <tr>\n",
       "      <th>13</th>\n",
       "      <td>846.0</td>\n",
       "      <td>59</td>\n",
       "      <td>old</td>\n",
       "    </tr>\n",
       "  </tbody>\n",
       "</table>\n",
       "</div>"
      ],
      "text/plain": [
       "    Insulin  Age        Age_G\n",
       "3      94.0   21        young\n",
       "4     168.0   33  middle-aged\n",
       "6      88.0   26       adults\n",
       "8     543.0   53          old\n",
       "13    846.0   59          old"
      ]
     },
     "execution_count": 14,
     "metadata": {},
     "output_type": "execute_result"
    }
   ],
   "source": [
    "df.head()"
   ]
  },
  {
   "cell_type": "markdown",
   "metadata": {},
   "source": [
    "### <span style=\"color:blue\">Test ANOVA</span>"
   ]
  },
  {
   "cell_type": "code",
   "execution_count": 15,
   "metadata": {},
   "outputs": [
    {
     "name": "stdout",
     "output_type": "stream",
     "text": [
      "                sum_sq     df         F    PR(>F)\n",
      "C(Age_G)  2.065342e+05    3.0  5.030065  0.001973\n",
      "Residual  5.337793e+06  390.0       NaN       NaN\n"
     ]
    }
   ],
   "source": [
    "import statsmodels.api as sm\n",
    "from statsmodels.formula.api import ols\n",
    "\n",
    "model2 = ols('Insulin ~ C(Age_G)', data=df).fit()\n",
    "\n",
    "anova_table = sm.stats.anova_lm(model2, typ=2)\n",
    "print(anova_table)"
   ]
  },
  {
   "cell_type": "markdown",
   "metadata": {},
   "source": [
    "Interpretacja : Wartość P uzyskana z analizy ANOVA jest znacząca (P <0,05), a zatem wnioskujemy, że istnieje istotna statystycznie różnica między poziomem insuliny we krwi pomiędzy wymienionymi czterema grupami wiekowymi.\n",
    "\n",
    "ANOVA pokazałe, że istnieje statystycznie istotna różnice w poziomie insuliny pomiędzy grupami wiekowymi pacjętek. Niestety ANOVA nie wskazuje, które grupy wiekowe istotnie różnią się od siebie. \n",
    "\n",
    "Aby poznać pary grup wiekowych różniące się istotnie poziomem insuliny we krwi, należy przeprowadzić analizę wielokrotnego porównania par (porównanie post-hoc) za pomocą testu HSD Tukeya .\n",
    "\n",
    "\n",
    "### <span style=\"color:blue\">Testu HSD Tukeya</span>"
   ]
  },
  {
   "cell_type": "code",
   "execution_count": 16,
   "metadata": {},
   "outputs": [
    {
     "name": "stdout",
     "output_type": "stream",
     "text": [
      "   Multiple Comparison of Means - Tukey HSD,FWER=0.05   \n",
      "========================================================\n",
      "   group1      group2   meandiff  lower    upper  reject\n",
      "--------------------------------------------------------\n",
      "   adults   middle-aged 38.6753  -4.6784   82.029 False \n",
      "   adults       old     54.9994  11.5281  98.4706  True \n",
      "   adults      young     4.8819  -37.3082 47.0721 False \n",
      "middle-aged     old     16.3241  -27.5906 60.2388 False \n",
      "middle-aged    young    -33.7933 -76.4403  8.8536 False \n",
      "    old        young    -50.1174 -92.8839  -7.351  True \n",
      "--------------------------------------------------------\n"
     ]
    }
   ],
   "source": [
    "from statsmodels.stats.multicomp import pairwise_tukeyhsd\n",
    "\n",
    "m_comp = pairwise_tukeyhsd(endog=df['Insulin'], groups=df['Age_G'], alpha=0.05)\n",
    "print(m_comp)"
   ]
  },
  {
   "cell_type": "markdown",
   "metadata": {},
   "source": [
    "Test Tukey HSD wykazał statystycznie istotną różnicę w zawartości insuliny we krwi pomiędzy grypami wiekowymi: \"old\" i \"young\" oraz \"adults\" i \"old\" \n",
    "Powyższe wyniki z Tukey HSD sugerują, że oprócz zestawienia old-young i adults-old, wszystkie inne porównania par zachowują hipotezę zerową czyli w pozostałych grupach nie istnieją istotne różnice statystyczne w zawartości insuliny we krwi.\n",
    "\n",
    "### Sprawdzenie spełnienia warunków ANOVA\n",
    "Warunki: \n",
    "1. wartości rezydualne mają rozkład normalny (test Shapiro Wilksa)\n",
    "2. wariancje w grupach są jednorodne (test Levene lub Bartlett)\n",
    "3. obserwacje są prowadzone niezależnie od siebie \n",
    "\n",
    "### <span style=\"color:blue\">Test Levene'a</span> Sprawdzenie jednorodności wariancji\n",
    "\n",
    "#### Hipoteza zerowa : grupa z populacji mają równe wariancje."
   ]
  },
  {
   "cell_type": "code",
   "execution_count": 17,
   "metadata": {},
   "outputs": [
    {
     "data": {
      "text/html": [
       "<div>\n",
       "<style scoped>\n",
       "    .dataframe tbody tr th:only-of-type {\n",
       "        vertical-align: middle;\n",
       "    }\n",
       "\n",
       "    .dataframe tbody tr th {\n",
       "        vertical-align: top;\n",
       "    }\n",
       "\n",
       "    .dataframe thead th {\n",
       "        text-align: right;\n",
       "    }\n",
       "</style>\n",
       "<table border=\"1\" class=\"dataframe\">\n",
       "  <thead>\n",
       "    <tr style=\"text-align: right;\">\n",
       "      <th></th>\n",
       "      <th>Insulin</th>\n",
       "      <th>Age</th>\n",
       "      <th>Age_G</th>\n",
       "    </tr>\n",
       "  </thead>\n",
       "  <tbody>\n",
       "    <tr>\n",
       "      <th>3</th>\n",
       "      <td>94.0</td>\n",
       "      <td>21</td>\n",
       "      <td>young</td>\n",
       "    </tr>\n",
       "    <tr>\n",
       "      <th>4</th>\n",
       "      <td>168.0</td>\n",
       "      <td>33</td>\n",
       "      <td>middle-aged</td>\n",
       "    </tr>\n",
       "    <tr>\n",
       "      <th>6</th>\n",
       "      <td>88.0</td>\n",
       "      <td>26</td>\n",
       "      <td>adults</td>\n",
       "    </tr>\n",
       "    <tr>\n",
       "      <th>8</th>\n",
       "      <td>543.0</td>\n",
       "      <td>53</td>\n",
       "      <td>old</td>\n",
       "    </tr>\n",
       "    <tr>\n",
       "      <th>13</th>\n",
       "      <td>846.0</td>\n",
       "      <td>59</td>\n",
       "      <td>old</td>\n",
       "    </tr>\n",
       "  </tbody>\n",
       "</table>\n",
       "</div>"
      ],
      "text/plain": [
       "    Insulin  Age        Age_G\n",
       "3      94.0   21        young\n",
       "4     168.0   33  middle-aged\n",
       "6      88.0   26       adults\n",
       "8     543.0   53          old\n",
       "13    846.0   59          old"
      ]
     },
     "execution_count": 17,
     "metadata": {},
     "output_type": "execute_result"
    }
   ],
   "source": [
    "df.head()"
   ]
  },
  {
   "cell_type": "code",
   "execution_count": 18,
   "metadata": {},
   "outputs": [],
   "source": [
    "DFF = df.reset_index()  "
   ]
  },
  {
   "cell_type": "code",
   "execution_count": 19,
   "metadata": {},
   "outputs": [],
   "source": [
    "KOT = pd.pivot_table(DFF,index='index',columns='Age_G', values='Insulin')"
   ]
  },
  {
   "cell_type": "code",
   "execution_count": 20,
   "metadata": {},
   "outputs": [],
   "source": [
    "young=KOT['young'].dropna(how='any')\n",
    "old=KOT['old'].dropna(how='any')\n",
    "middleaged=KOT['middle-aged'].dropna(how='any')\n",
    "adults=KOT['adults'].dropna(how='any')"
   ]
  },
  {
   "cell_type": "code",
   "execution_count": 21,
   "metadata": {},
   "outputs": [
    {
     "name": "stdout",
     "output_type": "stream",
     "text": [
      "Value:    0.8514514983093309\n",
      "p-value:  0.46645004212147656\n"
     ]
    }
   ],
   "source": [
    "import scipy.stats as stats\n",
    "w,p = stats.levene(young,old,middleaged,adults)\n",
    "print(\"Value:   \",w)\n",
    "print(\"p-value: \",p)"
   ]
  },
  {
   "cell_type": "markdown",
   "metadata": {},
   "source": [
    "Ponieważ wartość P nie jest znacząca (p>0.05), nie odrzucamy hipotezy zerowej - czyli grupy wiekowe mają jednorodne wariancje.\n",
    "\n",
    "### <span style=\"color:blue\">Test Shapiro-Wilka </span>Sprawdzenia normalności rozkładu reszt\n",
    "\n",
    "##### Hipoteza zerowa : wartości rezydualne mają rozkład normalny."
   ]
  },
  {
   "cell_type": "code",
   "execution_count": 22,
   "metadata": {},
   "outputs": [
    {
     "name": "stdout",
     "output_type": "stream",
     "text": [
      "Value:    0.8003953695297241\n",
      "p-value:  1.1085818629731166e-21\n"
     ]
    }
   ],
   "source": [
    "import scipy.stats as stats\n",
    "w, p = stats.shapiro(model2.resid)\n",
    "print(\"Value:   \",w)\n",
    "print(\"p-value: \",p)"
   ]
  },
  {
   "cell_type": "markdown",
   "metadata": {},
   "source": [
    "Ponieważ wartość P nie jest znacząca (p>0.05), nie odrzucamy hipotezy zerowej - czyli wartości rezydualne mają rozkład normalny.\n",
    "\n",
    "Na końcu możemy zrobić wykres porównujący grupy wiekowe:"
   ]
  },
  {
   "cell_type": "code",
   "execution_count": 23,
   "metadata": {},
   "outputs": [
    {
     "data": {
      "text/plain": [
       "<matplotlib.axes._subplots.AxesSubplot at 0x2464bdc6d68>"
      ]
     },
     "execution_count": 23,
     "metadata": {},
     "output_type": "execute_result"
    },
    {
     "data": {
      "image/png": "[encoded data removed]",
      "text/plain": [
       "<Figure size 432x288 with 1 Axes>"
      ]
     },
     "metadata": {
      "needs_background": "light"
     },
     "output_type": "display_data"
    }
   ],
   "source": [
    "import matplotlib.pyplot as plt\n",
    "KOT.boxplot(column=['young', 'old', 'middle-aged', 'adults'], grid=False)"
   ]
  },
  {
   "cell_type": "markdown",
   "metadata": {},
   "source": [
    "# Analiza zanieczyszczenia powietrza substancją PT08.S1(CO) za pomocą ANOVA\n",
    "- H0: Zanieczyszczenie powietrze PT08.S1(CO) NIE różni sie istotnie w czterech okresach dobowych\n",
    "- H1: Zanieczyszczenie powietrza PT08.S1(CO) istotnie różni sie w czterech okresach dobowych\n",
    "\n",
    "\n",
    "Analizujemy tylko jeden czynnik ponieważ interesuje nas jakość leczenia (to ten jedne czynnik) więc wybieramy ANOVA jednostronną.\n",
    "\n",
    "źródło danych: "
   ]
  },
  {
   "cell_type": "code",
   "execution_count": 24,
   "metadata": {},
   "outputs": [
    {
     "data": {
      "text/html": [
       "<div>\n",
       "<style scoped>\n",
       "    .dataframe tbody tr th:only-of-type {\n",
       "        vertical-align: middle;\n",
       "    }\n",
       "\n",
       "    .dataframe tbody tr th {\n",
       "        vertical-align: top;\n",
       "    }\n",
       "\n",
       "    .dataframe thead th {\n",
       "        text-align: right;\n",
       "    }\n",
       "</style>\n",
       "<table border=\"1\" class=\"dataframe\">\n",
       "  <thead>\n",
       "    <tr style=\"text-align: right;\">\n",
       "      <th></th>\n",
       "      <th>Unnamed: 0</th>\n",
       "      <th>Date</th>\n",
       "      <th>Time</th>\n",
       "      <th>CO(GT)</th>\n",
       "      <th>PT08.S1(CO)</th>\n",
       "      <th>C6H6(GT)</th>\n",
       "      <th>PT08.S2(NMHC)</th>\n",
       "      <th>NOx(GT)</th>\n",
       "      <th>PT08.S3(NOx)</th>\n",
       "      <th>NO2(GT)</th>\n",
       "      <th>PT08.S4(NO2)</th>\n",
       "      <th>PT08.S5(O3)</th>\n",
       "      <th>T</th>\n",
       "      <th>RH</th>\n",
       "      <th>AH</th>\n",
       "    </tr>\n",
       "  </thead>\n",
       "  <tbody>\n",
       "    <tr>\n",
       "      <th>0</th>\n",
       "      <td>0</td>\n",
       "      <td>10/03/2004</td>\n",
       "      <td>18.00.00</td>\n",
       "      <td>2.6</td>\n",
       "      <td>1360.0</td>\n",
       "      <td>11.9</td>\n",
       "      <td>1046.0</td>\n",
       "      <td>166.0</td>\n",
       "      <td>1056.0</td>\n",
       "      <td>113.0</td>\n",
       "      <td>1692.0</td>\n",
       "      <td>1268.0</td>\n",
       "      <td>13.6</td>\n",
       "      <td>48.9</td>\n",
       "      <td>0.7578</td>\n",
       "    </tr>\n",
       "    <tr>\n",
       "      <th>1</th>\n",
       "      <td>1</td>\n",
       "      <td>10/03/2004</td>\n",
       "      <td>19.00.00</td>\n",
       "      <td>2.0</td>\n",
       "      <td>1292.0</td>\n",
       "      <td>9.4</td>\n",
       "      <td>955.0</td>\n",
       "      <td>103.0</td>\n",
       "      <td>1174.0</td>\n",
       "      <td>92.0</td>\n",
       "      <td>1559.0</td>\n",
       "      <td>972.0</td>\n",
       "      <td>13.3</td>\n",
       "      <td>47.7</td>\n",
       "      <td>0.7255</td>\n",
       "    </tr>\n",
       "    <tr>\n",
       "      <th>2</th>\n",
       "      <td>2</td>\n",
       "      <td>10/03/2004</td>\n",
       "      <td>20.00.00</td>\n",
       "      <td>2.2</td>\n",
       "      <td>1402.0</td>\n",
       "      <td>9.0</td>\n",
       "      <td>939.0</td>\n",
       "      <td>131.0</td>\n",
       "      <td>1140.0</td>\n",
       "      <td>114.0</td>\n",
       "      <td>1555.0</td>\n",
       "      <td>1074.0</td>\n",
       "      <td>11.9</td>\n",
       "      <td>54.0</td>\n",
       "      <td>0.7502</td>\n",
       "    </tr>\n",
       "  </tbody>\n",
       "</table>\n",
       "</div>"
      ],
      "text/plain": [
       "   Unnamed: 0        Date      Time  CO(GT)  PT08.S1(CO)  C6H6(GT)  \\\n",
       "0           0  10/03/2004  18.00.00     2.6       1360.0      11.9   \n",
       "1           1  10/03/2004  19.00.00     2.0       1292.0       9.4   \n",
       "2           2  10/03/2004  20.00.00     2.2       1402.0       9.0   \n",
       "\n",
       "   PT08.S2(NMHC)  NOx(GT)  PT08.S3(NOx)  NO2(GT)  PT08.S4(NO2)  PT08.S5(O3)  \\\n",
       "0         1046.0    166.0        1056.0    113.0        1692.0       1268.0   \n",
       "1          955.0    103.0        1174.0     92.0        1559.0        972.0   \n",
       "2          939.0    131.0        1140.0    114.0        1555.0       1074.0   \n",
       "\n",
       "      T    RH      AH  \n",
       "0  13.6  48.9  0.7578  \n",
       "1  13.3  47.7  0.7255  \n",
       "2  11.9  54.0  0.7502  "
      ]
     },
     "execution_count": 24,
     "metadata": {},
     "output_type": "execute_result"
    }
   ],
   "source": [
    "import pandas as pd\n",
    "df2 = pd.read_csv('c:/TF/AirQ_filled.csv')\n",
    "df2.head(3)"
   ]
  },
  {
   "cell_type": "code",
   "execution_count": 25,
   "metadata": {},
   "outputs": [
    {
     "data": {
      "text/plain": [
       "Unnamed: 0         int64\n",
       "Date              object\n",
       "Time              object\n",
       "CO(GT)           float64\n",
       "PT08.S1(CO)      float64\n",
       "C6H6(GT)         float64\n",
       "PT08.S2(NMHC)    float64\n",
       "NOx(GT)          float64\n",
       "PT08.S3(NOx)     float64\n",
       "NO2(GT)          float64\n",
       "PT08.S4(NO2)     float64\n",
       "PT08.S5(O3)      float64\n",
       "T                float64\n",
       "RH               float64\n",
       "AH               float64\n",
       "dtype: object"
      ]
     },
     "execution_count": 25,
     "metadata": {},
     "output_type": "execute_result"
    }
   ],
   "source": [
    "df2.dtypes"
   ]
  },
  {
   "cell_type": "markdown",
   "metadata": {},
   "source": [
    "Przetwarzamy kolumne Time na format liczbowy."
   ]
  },
  {
   "cell_type": "code",
   "execution_count": 26,
   "metadata": {},
   "outputs": [],
   "source": [
    "df2['Time'] = df2.Time.str.slice(0,2)"
   ]
  },
  {
   "cell_type": "code",
   "execution_count": 27,
   "metadata": {},
   "outputs": [
    {
     "name": "stderr",
     "output_type": "stream",
     "text": [
      "C:\\ProgramData\\Anaconda3\\lib\\site-packages\\ipykernel_launcher.py:1: FutureWarning: convert_objects is deprecated.  To re-infer data dtypes for object columns, use Series.infer_objects()\n",
      "For all other conversions use the data-type specific converters pd.to_datetime, pd.to_timedelta and pd.to_numeric.\n",
      "  \"\"\"Entry point for launching an IPython kernel.\n"
     ]
    },
    {
     "data": {
      "text/plain": [
       "dtype('int64')"
      ]
     },
     "execution_count": 27,
     "metadata": {},
     "output_type": "execute_result"
    }
   ],
   "source": [
    "df2['Time']= df2['Time'].convert_objects(convert_numeric=True) \n",
    "df2['Time'].dtype"
   ]
  },
  {
   "cell_type": "markdown",
   "metadata": {},
   "source": [
    "### Sprawdzamy kompletność danych"
   ]
  },
  {
   "cell_type": "code",
   "execution_count": 28,
   "metadata": {},
   "outputs": [
    {
     "data": {
      "text/plain": [
       "Unnamed: 0       0\n",
       "Date             0\n",
       "Time             0\n",
       "CO(GT)           0\n",
       "PT08.S1(CO)      0\n",
       "C6H6(GT)         0\n",
       "PT08.S2(NMHC)    0\n",
       "NOx(GT)          0\n",
       "PT08.S3(NOx)     0\n",
       "NO2(GT)          0\n",
       "PT08.S4(NO2)     0\n",
       "PT08.S5(O3)      0\n",
       "T                0\n",
       "RH               0\n",
       "AH               0\n",
       "dtype: int64"
      ]
     },
     "execution_count": 28,
     "metadata": {},
     "output_type": "execute_result"
    }
   ],
   "source": [
    "df2.isnull().sum()"
   ]
  },
  {
   "cell_type": "markdown",
   "metadata": {},
   "source": [
    "Wydzielam cztery okresy dobowe."
   ]
  },
  {
   "cell_type": "code",
   "execution_count": 29,
   "metadata": {},
   "outputs": [],
   "source": [
    "df2['Periods'] = pd.qcut(df2.Time,4,labels=[\"0-5\",\"6-12\",\"12-18\",\"18-24\"])"
   ]
  },
  {
   "cell_type": "code",
   "execution_count": 30,
   "metadata": {},
   "outputs": [
    {
     "data": {
      "text/plain": [
       "Unnamed: 0          int64\n",
       "Date               object\n",
       "Time                int64\n",
       "CO(GT)            float64\n",
       "PT08.S1(CO)       float64\n",
       "C6H6(GT)          float64\n",
       "PT08.S2(NMHC)     float64\n",
       "NOx(GT)           float64\n",
       "PT08.S3(NOx)      float64\n",
       "NO2(GT)           float64\n",
       "PT08.S4(NO2)      float64\n",
       "PT08.S5(O3)       float64\n",
       "T                 float64\n",
       "RH                float64\n",
       "AH                float64\n",
       "Periods          category\n",
       "dtype: object"
      ]
     },
     "execution_count": 30,
     "metadata": {},
     "output_type": "execute_result"
    }
   ],
   "source": [
    "df2.dtypes"
   ]
  },
  {
   "cell_type": "markdown",
   "metadata": {},
   "source": [
    "Sprawdzam czasy okresów dobowych."
   ]
  },
  {
   "cell_type": "code",
   "execution_count": 31,
   "metadata": {},
   "outputs": [
    {
     "data": {
      "text/html": [
       "<div>\n",
       "<style scoped>\n",
       "    .dataframe tbody tr th:only-of-type {\n",
       "        vertical-align: middle;\n",
       "    }\n",
       "\n",
       "    .dataframe tbody tr th {\n",
       "        vertical-align: top;\n",
       "    }\n",
       "\n",
       "    .dataframe thead tr th {\n",
       "        text-align: left;\n",
       "    }\n",
       "\n",
       "    .dataframe thead tr:last-of-type th {\n",
       "        text-align: right;\n",
       "    }\n",
       "</style>\n",
       "<table border=\"1\" class=\"dataframe\">\n",
       "  <thead>\n",
       "    <tr>\n",
       "      <th></th>\n",
       "      <th>min</th>\n",
       "      <th>max</th>\n",
       "    </tr>\n",
       "    <tr>\n",
       "      <th></th>\n",
       "      <th>Time</th>\n",
       "      <th>Time</th>\n",
       "    </tr>\n",
       "    <tr>\n",
       "      <th>Periods</th>\n",
       "      <th></th>\n",
       "      <th></th>\n",
       "    </tr>\n",
       "  </thead>\n",
       "  <tbody>\n",
       "    <tr>\n",
       "      <th>0-5</th>\n",
       "      <td>0</td>\n",
       "      <td>5</td>\n",
       "    </tr>\n",
       "    <tr>\n",
       "      <th>6-12</th>\n",
       "      <td>6</td>\n",
       "      <td>11</td>\n",
       "    </tr>\n",
       "    <tr>\n",
       "      <th>12-18</th>\n",
       "      <td>12</td>\n",
       "      <td>18</td>\n",
       "    </tr>\n",
       "    <tr>\n",
       "      <th>18-24</th>\n",
       "      <td>19</td>\n",
       "      <td>23</td>\n",
       "    </tr>\n",
       "  </tbody>\n",
       "</table>\n",
       "</div>"
      ],
      "text/plain": [
       "         min  max\n",
       "        Time Time\n",
       "Periods          \n",
       "0-5        0    5\n",
       "6-12       6   11\n",
       "12-18     12   18\n",
       "18-24     19   23"
      ]
     },
     "execution_count": 31,
     "metadata": {},
     "output_type": "execute_result"
    }
   ],
   "source": [
    "pd.pivot_table(df2, index='Periods', values='Time', aggfunc=['min', 'max'])"
   ]
  },
  {
   "cell_type": "markdown",
   "metadata": {},
   "source": [
    "Teraz tworzymy tabelę przestawną, gdzie w kolumnch będą cztery okresy dobowe."
   ]
  },
  {
   "cell_type": "code",
   "execution_count": 32,
   "metadata": {},
   "outputs": [
    {
     "data": {
      "text/html": [
       "<div>\n",
       "<style scoped>\n",
       "    .dataframe tbody tr th:only-of-type {\n",
       "        vertical-align: middle;\n",
       "    }\n",
       "\n",
       "    .dataframe tbody tr th {\n",
       "        vertical-align: top;\n",
       "    }\n",
       "\n",
       "    .dataframe thead th {\n",
       "        text-align: right;\n",
       "    }\n",
       "</style>\n",
       "<table border=\"1\" class=\"dataframe\">\n",
       "  <thead>\n",
       "    <tr style=\"text-align: right;\">\n",
       "      <th>Periods</th>\n",
       "      <th>0-5</th>\n",
       "      <th>6-12</th>\n",
       "      <th>12-18</th>\n",
       "      <th>18-24</th>\n",
       "    </tr>\n",
       "    <tr>\n",
       "      <th>Date</th>\n",
       "      <th></th>\n",
       "      <th></th>\n",
       "      <th></th>\n",
       "      <th></th>\n",
       "    </tr>\n",
       "  </thead>\n",
       "  <tbody>\n",
       "    <tr>\n",
       "      <th>01/01/2005</th>\n",
       "      <td>1119.166667</td>\n",
       "      <td>968.833333</td>\n",
       "      <td>1186.142857</td>\n",
       "      <td>1182.2</td>\n",
       "    </tr>\n",
       "    <tr>\n",
       "      <th>01/02/2005</th>\n",
       "      <td>1018.833333</td>\n",
       "      <td>1372.000000</td>\n",
       "      <td>1413.857143</td>\n",
       "      <td>1152.4</td>\n",
       "    </tr>\n",
       "    <tr>\n",
       "      <th>01/03/2005</th>\n",
       "      <td>737.666667</td>\n",
       "      <td>827.833333</td>\n",
       "      <td>826.285714</td>\n",
       "      <td>901.4</td>\n",
       "    </tr>\n",
       "    <tr>\n",
       "      <th>01/04/2004</th>\n",
       "      <td>1013.666667</td>\n",
       "      <td>1375.000000</td>\n",
       "      <td>1209.428571</td>\n",
       "      <td>1341.8</td>\n",
       "    </tr>\n",
       "  </tbody>\n",
       "</table>\n",
       "</div>"
      ],
      "text/plain": [
       "Periods             0-5         6-12        12-18   18-24\n",
       "Date                                                     \n",
       "01/01/2005  1119.166667   968.833333  1186.142857  1182.2\n",
       "01/02/2005  1018.833333  1372.000000  1413.857143  1152.4\n",
       "01/03/2005   737.666667   827.833333   826.285714   901.4\n",
       "01/04/2004  1013.666667  1375.000000  1209.428571  1341.8"
      ]
     },
     "execution_count": 32,
     "metadata": {},
     "output_type": "execute_result"
    }
   ],
   "source": [
    "PKS = pd.pivot_table(df2, index = 'Date', columns = 'Periods', values='PT08.S1(CO)')\n",
    "PKS.head(4)"
   ]
  },
  {
   "cell_type": "markdown",
   "metadata": {},
   "source": [
    "### Przyjmujemy hipotezy badawcze dla zanieczyszczeń substancją PT08.S1(CO)\n",
    "\n",
    "- H0: Zanieczyszczenie powietrze PT08.S1(CO) NIE różni sie istotnie w czterech okresach dobowych\n",
    "- H1: Zanieczyszczenie powietrza PT08.S1(CO) istotnie różni sie w czterech okresach dobowych\n",
    "\n",
    "### <span style=\"color:red\">Test ANOVA</span>"
   ]
  },
  {
   "cell_type": "markdown",
   "metadata": {},
   "source": [
    "Zmieniam nazwę PT08.S1(CO) na PT08S1CO."
   ]
  },
  {
   "cell_type": "code",
   "execution_count": 33,
   "metadata": {},
   "outputs": [],
   "source": [
    "df2.rename(columns={'PT08.S1(CO)':'PT08S1CO'},inplace=True)"
   ]
  },
  {
   "cell_type": "code",
   "execution_count": 34,
   "metadata": {},
   "outputs": [
    {
     "name": "stdout",
     "output_type": "stream",
     "text": [
      "                  sum_sq      df           F  PR(>F)\n",
      "C(Periods)  6.715672e+07     3.0  545.269232     0.0\n",
      "Residual    3.839796e+08  9353.0         NaN     NaN\n"
     ]
    }
   ],
   "source": [
    "import statsmodels.api as sm\n",
    "from statsmodels.formula.api import ols\n",
    "\n",
    "model3 = ols('PT08S1CO ~ C(Periods)', data=df2).fit()\n",
    "\n",
    "anova_table = sm.stats.anova_lm(model3, typ=2)\n",
    "print(anova_table)"
   ]
  },
  {
   "cell_type": "markdown",
   "metadata": {},
   "source": [
    "Interpretacja : Wartość P uzyskana z analizy ANOVA jest znacząca (P <0,05), a zatem wnioskujemy, że istnieją istotne statystycznie różnice w zanieczyszczeniu powietrza PT08.S1(CO) w czterech okresach dobowych.\n",
    "\n",
    "ANOVA pokazałą, że istnieje statystycznie istotna różnice w poziomie zanieczyszczenia i hipoteza zerowa została odrzucona na rzecz hipotezy alternatywnej. Niestety ANOVA nie wskazuje, które okresy (ewentualnie) różnią się od siebie. \n",
    "Dla sprawdzenia i wykrycia istotnych statystycznie różnic należy przeprowadzić analizę wielokrotnego porównania par (porównanie post-hoc) za pomocą testu HSD Tukeya.\n",
    "\n",
    "### <span style=\"color:red\">Testu HSD Tukeya</span>"
   ]
  },
  {
   "cell_type": "code",
   "execution_count": 35,
   "metadata": {},
   "outputs": [
    {
     "name": "stdout",
     "output_type": "stream",
     "text": [
      "Multiple Comparison of Means - Tukey HSD,FWER=0.05\n",
      "===============================================\n",
      "group1 group2 meandiff  lower    upper   reject\n",
      "-----------------------------------------------\n",
      " 0-5   12-18  188.375  173.7043 203.0456  True \n",
      " 0-5   18-24  213.6785 197.715  229.6419  True \n",
      " 0-5    6-12  184.4017 169.1811 199.6223  True \n",
      "12-18  18-24  25.3035   9.8635  40.7435   True \n",
      "12-18   6-12  -3.9733  -18.6439 10.6974  False \n",
      "18-24   6-12  -29.2768 -45.2402 -13.3133  True \n",
      "-----------------------------------------------\n"
     ]
    }
   ],
   "source": [
    "from statsmodels.stats.multicomp import pairwise_tukeyhsd\n",
    "\n",
    "m_comp = pairwise_tukeyhsd(endog=df2['PT08S1CO'], groups=df2['Periods'], alpha=0.05)\n",
    "print(m_comp)"
   ]
  },
  {
   "cell_type": "markdown",
   "metadata": {},
   "source": [
    "Test HDS Turkeya wskazał, że jedynie porównanie grup: 6-12 z 12-18 nie dała statystycznie istotnych różnic w zanieczyszczeniu PT08.S1(CO). \n",
    "\n",
    "### Sprawdzenie spełnienia warunków ANOVA\n",
    "Warunki: \n",
    "1. wartości rezydualne mają rozkład normalny (test Shapiro Wilksa)\n",
    "2. wariancje w grupach są jednorodne (test Levene lub Bartlett)\n",
    "3. obserwacje są prowadzone niezależnie od siebie \n",
    "\n",
    "### <span style=\"color:red\">Test Levene'a</span> Sprawdzenie jednorodności wariancji\n",
    "\n",
    "#### Hipoteza zerowa : grupa z populacji mają równe wariancje.\n",
    "\n",
    "Teraz tworzymy tabelę przestawną, gdzie w kolumnch będą 4 okresy dobowe."
   ]
  },
  {
   "cell_type": "code",
   "execution_count": 36,
   "metadata": {},
   "outputs": [
    {
     "data": {
      "text/html": [
       "<div>\n",
       "<style scoped>\n",
       "    .dataframe tbody tr th:only-of-type {\n",
       "        vertical-align: middle;\n",
       "    }\n",
       "\n",
       "    .dataframe tbody tr th {\n",
       "        vertical-align: top;\n",
       "    }\n",
       "\n",
       "    .dataframe thead th {\n",
       "        text-align: right;\n",
       "    }\n",
       "</style>\n",
       "<table border=\"1\" class=\"dataframe\">\n",
       "  <thead>\n",
       "    <tr style=\"text-align: right;\">\n",
       "      <th>Periods</th>\n",
       "      <th>0-5</th>\n",
       "      <th>6-12</th>\n",
       "      <th>12-18</th>\n",
       "      <th>18-24</th>\n",
       "    </tr>\n",
       "    <tr>\n",
       "      <th>Date</th>\n",
       "      <th></th>\n",
       "      <th></th>\n",
       "      <th></th>\n",
       "      <th></th>\n",
       "    </tr>\n",
       "  </thead>\n",
       "  <tbody>\n",
       "    <tr>\n",
       "      <th>01/01/2005</th>\n",
       "      <td>1119.166667</td>\n",
       "      <td>968.833333</td>\n",
       "      <td>1186.142857</td>\n",
       "      <td>1182.2</td>\n",
       "    </tr>\n",
       "    <tr>\n",
       "      <th>01/02/2005</th>\n",
       "      <td>1018.833333</td>\n",
       "      <td>1372.000000</td>\n",
       "      <td>1413.857143</td>\n",
       "      <td>1152.4</td>\n",
       "    </tr>\n",
       "    <tr>\n",
       "      <th>01/03/2005</th>\n",
       "      <td>737.666667</td>\n",
       "      <td>827.833333</td>\n",
       "      <td>826.285714</td>\n",
       "      <td>901.4</td>\n",
       "    </tr>\n",
       "    <tr>\n",
       "      <th>01/04/2004</th>\n",
       "      <td>1013.666667</td>\n",
       "      <td>1375.000000</td>\n",
       "      <td>1209.428571</td>\n",
       "      <td>1341.8</td>\n",
       "    </tr>\n",
       "  </tbody>\n",
       "</table>\n",
       "</div>"
      ],
      "text/plain": [
       "Periods             0-5         6-12        12-18   18-24\n",
       "Date                                                     \n",
       "01/01/2005  1119.166667   968.833333  1186.142857  1182.2\n",
       "01/02/2005  1018.833333  1372.000000  1413.857143  1152.4\n",
       "01/03/2005   737.666667   827.833333   826.285714   901.4\n",
       "01/04/2004  1013.666667  1375.000000  1209.428571  1341.8"
      ]
     },
     "execution_count": 36,
     "metadata": {},
     "output_type": "execute_result"
    }
   ],
   "source": [
    "PKS = pd.pivot_table(df2, index = 'Date', columns = 'Periods', values='PT08S1CO')\n",
    "PKS.head(4)"
   ]
  },
  {
   "cell_type": "code",
   "execution_count": 37,
   "metadata": {},
   "outputs": [],
   "source": [
    "P01=PKS['0-5'].dropna(how='any')\n",
    "P02=PKS['6-12'].dropna(how='any')\n",
    "P03=PKS['12-18'].dropna(how='any')\n",
    "P04=PKS['18-24'].dropna(how='any')"
   ]
  },
  {
   "cell_type": "code",
   "execution_count": 38,
   "metadata": {},
   "outputs": [
    {
     "name": "stdout",
     "output_type": "stream",
     "text": [
      "Value:    30.276341071035155\n",
      "p-value:  5.0608857455897e-19\n"
     ]
    }
   ],
   "source": [
    "import scipy.stats as stats\n",
    "w,p = stats.levene(P01,P02,P03,P04)\n",
    "print(\"Value:   \",w)\n",
    "print(\"p-value: \",p)"
   ]
  },
  {
   "cell_type": "markdown",
   "metadata": {},
   "source": [
    "Ponieważ wartość P nie jest znacząca (p>0.05), nie odrzucamy hipotezy zerowej - czyli grupy wiekowe mają jednorodne wariancje.\n",
    "\n",
    "### <span style=\"color:red\">Test Shapiro-Wilk </span>Sprawdzenia normalności rozkładu reszt\n",
    "\n",
    "##### Hipoteza zerowa : wartości rezydualne mają rozkład normalny."
   ]
  },
  {
   "cell_type": "code",
   "execution_count": 39,
   "metadata": {},
   "outputs": [
    {
     "name": "stdout",
     "output_type": "stream",
     "text": [
      "Value:    0.967054009437561\n",
      "p-value:  0.0\n"
     ]
    },
    {
     "name": "stderr",
     "output_type": "stream",
     "text": [
      "C:\\ProgramData\\Anaconda3\\lib\\site-packages\\scipy\\stats\\morestats.py:1653: UserWarning: p-value may not be accurate for N > 5000.\n",
      "  warnings.warn(\"p-value may not be accurate for N > 5000.\")\n"
     ]
    }
   ],
   "source": [
    "import scipy.stats as stats\n",
    "w, p = stats.shapiro(model3.resid)\n",
    "print(\"Value:   \",w)\n",
    "print(\"p-value: \",np.round(p, decimals=2))"
   ]
  },
  {
   "cell_type": "markdown",
   "metadata": {},
   "source": [
    "Ponieważ wartość P wysokości ZERO jest znaczące bo mniejsze od współczynnika ufności 0.05 (p>0.05), odrzucamy hipoteze zerową - wartości rezydualne nie mają rozkładu normalnego.\n",
    "\n",
    "Przyjrzymy się bliżej resztą modelu."
   ]
  },
  {
   "cell_type": "markdown",
   "metadata": {},
   "source": [
    "Zobaczmy jak to wygląda na wykresie."
   ]
  },
  {
   "cell_type": "code",
   "execution_count": 40,
   "metadata": {},
   "outputs": [],
   "source": [
    "x=model3.resid\n",
    "title = \"Residuals\"\n",
    "x_label = \"level\"\n",
    "y_label = \"probability\""
   ]
  },
  {
   "cell_type": "code",
   "execution_count": 41,
   "metadata": {},
   "outputs": [],
   "source": [
    "def Dist1(x, ax, title, x_label, y_label):\n",
    "    x.plot.kde(ax=ax, legend=False)\n",
    "    ax.set_title(title, color='darkred', alpha=1)\n",
    "    ax.set_ylabel(y_label, color='grey', alpha=0.6)\n",
    "    ax.set_xlabel(x_label, color='grey', alpha=0.6)"
   ]
  },
  {
   "cell_type": "code",
   "execution_count": 42,
   "metadata": {},
   "outputs": [
    {
     "data": {
      "image/png": "[encoded data removed]",
      "text/plain": [
       "<Figure size 432x216 with 1 Axes>"
      ]
     },
     "metadata": {
      "needs_background": "light"
     },
     "output_type": "display_data"
    }
   ],
   "source": [
    "fig, ax = plt.subplots(figsize=(6, 3))\n",
    "Dist1(x, ax, title, x_label, y_label)"
   ]
  },
  {
   "cell_type": "code",
   "execution_count": 43,
   "metadata": {},
   "outputs": [
    {
     "data": {
      "text/plain": [
       "AndersonResult(statistic=85.34820578111066, critical_values=array([0.576, 0.656, 0.787, 0.918, 1.092]), significance_level=array([15. , 10. ,  5. ,  2.5,  1. ]))"
      ]
     },
     "execution_count": 43,
     "metadata": {},
     "output_type": "execute_result"
    }
   ],
   "source": [
    "import scipy\n",
    "scipy.stats.anderson(model3.resid, dist='norm')"
   ]
  },
  {
   "cell_type": "markdown",
   "metadata": {},
   "source": [
    "Tym razem sprawdzimy rozkład normalny reszt za pomocą wykresu QQ.\n",
    "### Q-Q plot"
   ]
  },
  {
   "cell_type": "code",
   "execution_count": 44,
   "metadata": {},
   "outputs": [
    {
     "data": {
      "image/png": "[encoded data removed]",
      "text/plain": [
       "<Figure size 432x288 with 1 Axes>"
      ]
     },
     "metadata": {
      "needs_background": "light"
     },
     "output_type": "display_data"
    }
   ],
   "source": [
    "from statsmodels.graphics.gofplots import qqplot\n",
    "from matplotlib import pyplot\n",
    "\n",
    "qqplot(model3.resid, line='s')\n",
    "pyplot.show()"
   ]
  },
  {
   "cell_type": "markdown",
   "metadata": {},
   "source": [
    "### Jeszcze raz test Shapiro-Wilk \n",
    "wykonany z biblioteki scipy."
   ]
  },
  {
   "cell_type": "code",
   "execution_count": 45,
   "metadata": {},
   "outputs": [
    {
     "name": "stdout",
     "output_type": "stream",
     "text": [
      "Statistics=0.967, p=0.000\n"
     ]
    },
    {
     "name": "stderr",
     "output_type": "stream",
     "text": [
      "C:\\ProgramData\\Anaconda3\\lib\\site-packages\\scipy\\stats\\morestats.py:1653: UserWarning: p-value may not be accurate for N > 5000.\n",
      "  warnings.warn(\"p-value may not be accurate for N > 5000.\")\n"
     ]
    }
   ],
   "source": [
    "from scipy.stats import shapiro\n",
    "\n",
    "stat, p = shapiro(model3.resid)\n",
    "print('Statistics=%.3f, p=%.3f' % (stat, p))"
   ]
  },
  {
   "cell_type": "markdown",
   "metadata": {},
   "source": [
    "### Testy K^2 D'Agostino\n",
    "Test K ^ 2 D'Agostino (Ralpha D'Agostino) oblicza statystyki podsumowujące z danych, mianowicie kurtozę i skośność, aby ustalić, czy rozkład danych odbiega od rozkładu normalnego. Jest to prosty i powszechnie stosowany test statystyczny normalności.\n",
    "\n",
    " - Skew (pochylenie) to kwantyfikacja tego, o ile rozkład jest przesuwany w lewo lub w prawo, miara asymetrii w rozkładzie.\n",
    " - Kurtosis (skośność) określa ilościowo rozkład ogona. \n",
    "\n"
   ]
  },
  {
   "cell_type": "code",
   "execution_count": 46,
   "metadata": {},
   "outputs": [
    {
     "name": "stdout",
     "output_type": "stream",
     "text": [
      "Statistics=727.597, p=0.000\n"
     ]
    }
   ],
   "source": [
    "from scipy.stats import normaltest\n",
    "\n",
    "stat, p = normaltest(model3.resid)\n",
    "print('Statistics=%.3f, p=%.3f' % (stat, p))"
   ]
  },
  {
   "cell_type": "markdown",
   "metadata": {},
   "source": [
    "Test Shapiro-Wilk oraz test K^2 D'Agostino wskazał na zaburzenie normalności rozkładu prawdopodobieństwa wartyości rezydualnych.\n",
    "\n",
    "Nie potrafie tego skomentować. \n",
    "\n",
    "Na końcu wykres porównujący grupy."
   ]
  },
  {
   "cell_type": "code",
   "execution_count": 47,
   "metadata": {},
   "outputs": [
    {
     "data": {
      "text/plain": [
       "<matplotlib.axes._subplots.AxesSubplot at 0x2464d18ccf8>"
      ]
     },
     "execution_count": 47,
     "metadata": {},
     "output_type": "execute_result"
    },
    {
     "data": {
      "image/png": "[encoded data removed]",
      "text/plain": [
       "<Figure size 432x288 with 1 Axes>"
      ]
     },
     "metadata": {
      "needs_background": "light"
     },
     "output_type": "display_data"
    }
   ],
   "source": [
    "import matplotlib.pyplot as plt\n",
    "PKS.boxplot(column=['0-5', '6-12', '12-18', '18-24'], grid=False)"
   ]
  }
 ],
 "metadata": {
  "kernelspec": {
   "display_name": "Python 3",
   "language": "python",
   "name": "python3"
  },
  "language_info": {
   "codemirror_mode": {
    "name": "ipython",
    "version": 3
   },
   "file_extension": ".py",
   "mimetype": "text/x-python",
   "name": "python",
   "nbconvert_exporter": "python",
   "pygments_lexer": "ipython3",
   "version": "3.6.8"
  }
 },
 "nbformat": 4,
 "nbformat_minor": 2
}
