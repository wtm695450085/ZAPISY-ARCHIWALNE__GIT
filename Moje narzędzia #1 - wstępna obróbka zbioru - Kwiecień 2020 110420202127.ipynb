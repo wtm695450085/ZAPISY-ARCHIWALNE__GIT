{
 "cells": [
  {
   "cell_type": "markdown",
   "metadata": {},
   "source": [
    "# Moje narzędzia #1 - wstępna obróbka zbioru - Kwiecień 2020"
   ]
  },
  {
   "cell_type": "code",
   "execution_count": 1,
   "metadata": {},
   "outputs": [
    {
     "name": "stdout",
     "output_type": "stream",
     "text": [
      "(3619621, 24)\n",
      "\n",
      "Index(['id', 'klik', 'data_godzina', 'baner_pozycja', 'strona_id',\n",
      "       'strona_domena', 'strona_kategoria', 'aplikacja_id', 'aplikacja_domena',\n",
      "       'aplikacja_kategoria', 'urz_id', 'urz_ip', 'urz_model', 'urz_typ',\n",
      "       'urz_polaczenie', 'kat1', 'kat2', 'kat3', 'kat4', 'kat5', 'kat6',\n",
      "       'kat7', 'kat8', 'kat9'],\n",
      "      dtype='object')\n"
     ]
    },
    {
     "data": {
      "text/html": [
       "<div>\n",
       "<style scoped>\n",
       "    .dataframe tbody tr th:only-of-type {\n",
       "        vertical-align: middle;\n",
       "    }\n",
       "\n",
       "    .dataframe tbody tr th {\n",
       "        vertical-align: top;\n",
       "    }\n",
       "\n",
       "    .dataframe thead th {\n",
       "        text-align: right;\n",
       "    }\n",
       "</style>\n",
       "<table border=\"1\" class=\"dataframe\">\n",
       "  <thead>\n",
       "    <tr style=\"text-align: right;\">\n",
       "      <th></th>\n",
       "      <th>id</th>\n",
       "      <th>klik</th>\n",
       "      <th>data_godzina</th>\n",
       "      <th>baner_pozycja</th>\n",
       "      <th>strona_id</th>\n",
       "      <th>strona_domena</th>\n",
       "      <th>strona_kategoria</th>\n",
       "      <th>aplikacja_id</th>\n",
       "      <th>aplikacja_domena</th>\n",
       "      <th>aplikacja_kategoria</th>\n",
       "      <th>...</th>\n",
       "      <th>urz_polaczenie</th>\n",
       "      <th>kat1</th>\n",
       "      <th>kat2</th>\n",
       "      <th>kat3</th>\n",
       "      <th>kat4</th>\n",
       "      <th>kat5</th>\n",
       "      <th>kat6</th>\n",
       "      <th>kat7</th>\n",
       "      <th>kat8</th>\n",
       "      <th>kat9</th>\n",
       "    </tr>\n",
       "  </thead>\n",
       "  <tbody>\n",
       "    <tr>\n",
       "      <td>0</td>\n",
       "      <td>93718246913880603</td>\n",
       "      <td>0</td>\n",
       "      <td>17030100</td>\n",
       "      <td>0</td>\n",
       "      <td>85f751fd</td>\n",
       "      <td>c4e18dd6</td>\n",
       "      <td>50e219e0</td>\n",
       "      <td>febd1138</td>\n",
       "      <td>82e27996</td>\n",
       "      <td>0f2161f8</td>\n",
       "      <td>...</td>\n",
       "      <td>0</td>\n",
       "      <td>105</td>\n",
       "      <td>119743</td>\n",
       "      <td>10320</td>\n",
       "      <td>10050</td>\n",
       "      <td>12264</td>\n",
       "      <td>13</td>\n",
       "      <td>10427</td>\n",
       "      <td>100000</td>\n",
       "      <td>61</td>\n",
       "    </tr>\n",
       "    <tr>\n",
       "      <td>1</td>\n",
       "      <td>93718246913880604</td>\n",
       "      <td>0</td>\n",
       "      <td>17030100</td>\n",
       "      <td>0</td>\n",
       "      <td>1fbe01fe</td>\n",
       "      <td>f3845767</td>\n",
       "      <td>28905ebd</td>\n",
       "      <td>ecad2386</td>\n",
       "      <td>7801e8d9</td>\n",
       "      <td>07d7df22</td>\n",
       "      <td>...</td>\n",
       "      <td>0</td>\n",
       "      <td>105</td>\n",
       "      <td>115706</td>\n",
       "      <td>10320</td>\n",
       "      <td>10050</td>\n",
       "      <td>11722</td>\n",
       "      <td>10</td>\n",
       "      <td>10035</td>\n",
       "      <td>-1</td>\n",
       "      <td>79</td>\n",
       "    </tr>\n",
       "    <tr>\n",
       "      <td>2</td>\n",
       "      <td>93718246913880605</td>\n",
       "      <td>0</td>\n",
       "      <td>17030100</td>\n",
       "      <td>0</td>\n",
       "      <td>543a539e</td>\n",
       "      <td>c7ca3108</td>\n",
       "      <td>3e814130</td>\n",
       "      <td>ecad2386</td>\n",
       "      <td>7801e8d9</td>\n",
       "      <td>07d7df22</td>\n",
       "      <td>...</td>\n",
       "      <td>0</td>\n",
       "      <td>105</td>\n",
       "      <td>120352</td>\n",
       "      <td>10320</td>\n",
       "      <td>10050</td>\n",
       "      <td>12333</td>\n",
       "      <td>10</td>\n",
       "      <td>10039</td>\n",
       "      <td>-1</td>\n",
       "      <td>157</td>\n",
       "    </tr>\n",
       "  </tbody>\n",
       "</table>\n",
       "<p>3 rows × 24 columns</p>\n",
       "</div>"
      ],
      "text/plain": [
       "                  id  klik  data_godzina  baner_pozycja strona_id  \\\n",
       "0  93718246913880603     0      17030100              0  85f751fd   \n",
       "1  93718246913880604     0      17030100              0  1fbe01fe   \n",
       "2  93718246913880605     0      17030100              0  543a539e   \n",
       "\n",
       "  strona_domena strona_kategoria aplikacja_id aplikacja_domena  \\\n",
       "0      c4e18dd6         50e219e0     febd1138         82e27996   \n",
       "1      f3845767         28905ebd     ecad2386         7801e8d9   \n",
       "2      c7ca3108         3e814130     ecad2386         7801e8d9   \n",
       "\n",
       "  aplikacja_kategoria  ... urz_polaczenie kat1    kat2   kat3   kat4   kat5  \\\n",
       "0            0f2161f8  ...              0  105  119743  10320  10050  12264   \n",
       "1            07d7df22  ...              0  105  115706  10320  10050  11722   \n",
       "2            07d7df22  ...              0  105  120352  10320  10050  12333   \n",
       "\n",
       "   kat6   kat7    kat8  kat9  \n",
       "0    13  10427  100000    61  \n",
       "1    10  10035      -1    79  \n",
       "2    10  10039      -1   157  \n",
       "\n",
       "[3 rows x 24 columns]"
      ]
     },
     "execution_count": 1,
     "metadata": {},
     "output_type": "execute_result"
    }
   ],
   "source": [
    "import pandas as pd\n",
    "import numpy as np\n",
    "import seaborn as sns\n",
    "import matplotlib.pyplot as plt\n",
    "%matplotlib inline\n",
    "\n",
    "df= pd.read_csv('/home/wojciech/Pulpit/4/kliki_uczenie.csv', sep=';')\n",
    "print(df.shape)\n",
    "print()\n",
    "print(df.columns)\n",
    "df.head(3)"
   ]
  },
  {
   "cell_type": "markdown",
   "metadata": {},
   "source": [
    "## <span style=\"color:green\"> Wielkość bazy df jest ogromna - wyciągam tylko 10% losowo wybranych rekordów</span> \n",
    "Taka metoda jest najbardziej reprezentatywna i oszczędza zasoby komputera."
   ]
  },
  {
   "cell_type": "code",
   "execution_count": 2,
   "metadata": {},
   "outputs": [
    {
     "data": {
      "text/plain": [
       "(361962, 24)"
      ]
     },
     "execution_count": 2,
     "metadata": {},
     "output_type": "execute_result"
    }
   ],
   "source": [
    "df2 = df.sample(frac = 0.1, random_state=10)\n",
    "df2.shape"
   ]
  },
  {
   "cell_type": "markdown",
   "metadata": {},
   "source": [
    "## <span style=\"color:green\"> Wyświetlenie braków </span>  (własnej roboty)"
   ]
  },
  {
   "cell_type": "code",
   "execution_count": 3,
   "metadata": {},
   "outputs": [
    {
     "name": "stdout",
     "output_type": "stream",
     "text": [
      "NUMBER OF EMPTY RECORDS vs. FULL RECORDS\n",
      "----------------------------------------\n"
     ]
    }
   ],
   "source": [
    "a,b = df2.shape     #<- ile mamy kolumn\n",
    "b\n",
    "\n",
    "print('NUMBER OF EMPTY RECORDS vs. FULL RECORDS')\n",
    "print('----------------------------------------')\n",
    "for i in range(1,b):\n",
    "    i = df.columns[i]\n",
    "    r = df[i].isnull().sum()\n",
    "    h = df[i].count()\n",
    "   \n",
    "    if r > 0:\n",
    "        print(i,\"--------\",r,\"--------\",h) "
   ]
  },
  {
   "cell_type": "markdown",
   "metadata": {},
   "source": [
    "## <span style=\"color:green\"> Nie warto kasować rekordów z brakami tylko warto wstawiać tam wartości z poza zakresu </span>"
   ]
  },
  {
   "cell_type": "markdown",
   "metadata": {},
   "source": [
    "Wyszukuje tylko puste rekordy"
   ]
  },
  {
   "cell_type": "code",
   "execution_count": 4,
   "metadata": {},
   "outputs": [
    {
     "data": {
      "text/plain": [
       "Series([], dtype: int64)"
      ]
     },
     "execution_count": 4,
     "metadata": {},
     "output_type": "execute_result"
    }
   ],
   "source": [
    "null_value_stats = df2.isnull().sum(axis=0)\n",
    "null_value_stats[null_value_stats != 0]"
   ]
  },
  {
   "cell_type": "markdown",
   "metadata": {},
   "source": [
    "Wstawia w puste miejsca wartości z poza zakresu"
   ]
  },
  {
   "cell_type": "code",
   "execution_count": 5,
   "metadata": {},
   "outputs": [],
   "source": [
    "df2.fillna(-777, inplace=True)"
   ]
  },
  {
   "cell_type": "markdown",
   "metadata": {},
   "source": [
    "## <span style=\"color:green\"> Przegląd danych pod kontem formatu i ilości wartości unikalnych</span>  (własnej roboty)"
   ]
  },
  {
   "cell_type": "code",
   "execution_count": 6,
   "metadata": {},
   "outputs": [
    {
     "name": "stdout",
     "output_type": "stream",
     "text": [
      "int64 --- 2 --- klik\n",
      "int64 --- 216 --- data_godzina\n",
      "int64 --- 7 --- baner_pozycja\n",
      "object --- 2096 --- strona_id\n",
      "object --- 2086 --- strona_domena\n",
      "object --- 21 --- strona_kategoria\n",
      "object --- 2206 --- aplikacja_id\n",
      "object --- 137 --- aplikacja_domena\n",
      "object --- 25 --- aplikacja_kategoria\n",
      "object --- 59172 --- urz_id\n",
      "object --- 236559 --- urz_ip\n",
      "object --- 4297 --- urz_model\n",
      "int64 --- 4 --- urz_typ\n",
      "int64 --- 4 --- urz_polaczenie\n",
      "int64 --- 7 --- kat1\n",
      "int64 --- 1897 --- kat2\n",
      "int64 --- 8 --- kat3\n",
      "int64 --- 9 --- kat4\n",
      "int64 --- 389 --- kat5\n",
      "int64 --- 4 --- kat6\n",
      "int64 --- 64 --- kat7\n",
      "int64 --- 158 --- kat8\n",
      "int64 --- 55 --- kat9\n"
     ]
    }
   ],
   "source": [
    "a,b = df2.shape     #<- ile mamy kolumn\n",
    "b\n",
    "\n",
    "import numpy as np\n",
    "\n",
    "for i in range(1,b):\n",
    "    i = df2.columns[i]\n",
    "    h = df2[i].nunique()\n",
    "    f = df2[i].dtypes\n",
    "          \n",
    "    print(f,\"---\",h,\"---\", i)"
   ]
  },
  {
   "cell_type": "markdown",
   "metadata": {},
   "source": [
    "## <span style=\"color:green\"> Które z tych funkcji są kategoryczne?</span> (własnej roboty)\n",
    "\n",
    "Stawiam dwa warunki: \n",
    "\n",
    "1. funkcja jest kategoryczna bo ma format 'object'\n",
    "2. funkcja jest kategoryczna bo ma do 10 unikalnych wartości"
   ]
  },
  {
   "cell_type": "code",
   "execution_count": 7,
   "metadata": {},
   "outputs": [
    {
     "name": "stdout",
     "output_type": "stream",
     "text": [
      "ONLY DISCRETE FUNCTION\n",
      "----------------------\n",
      "klik --- int64 --- 2\n",
      "baner_pozycja --- int64 --- 7\n",
      "strona_id --- object --- 2096\n",
      "strona_domena --- object --- 2086\n",
      "strona_kategoria --- object --- 21\n",
      "aplikacja_id --- object --- 2206\n",
      "aplikacja_domena --- object --- 137\n",
      "aplikacja_kategoria --- object --- 25\n",
      "urz_id --- object --- 59172\n",
      "urz_ip --- object --- 236559\n",
      "urz_model --- object --- 4297\n",
      "urz_typ --- int64 --- 4\n",
      "urz_polaczenie --- int64 --- 4\n",
      "kat1 --- int64 --- 7\n",
      "kat3 --- int64 --- 8\n",
      "kat4 --- int64 --- 9\n",
      "kat6 --- int64 --- 4\n"
     ]
    }
   ],
   "source": [
    "a,b = df2.shape     #<- ile mamy kolumn\n",
    "b\n",
    "\n",
    "print('ONLY DISCRETE FUNCTION')\n",
    "print('----------------------')\n",
    "for i in range(1,b):\n",
    "    i = df2.columns[i]\n",
    "    f = df2[i].dtypes\n",
    "    h = df2[i].nunique()\n",
    "    \n",
    "    if f == np.object or h<=10:\n",
    "        print(i,\"---\",f,\"---\",h)"
   ]
  },
  {
   "cell_type": "markdown",
   "metadata": {},
   "source": [
    "#### Potrzebujemy listy z numerami kolumnaby użyć jej w CatBoost¶"
   ]
  },
  {
   "cell_type": "code",
   "execution_count": 8,
   "metadata": {},
   "outputs": [
    {
     "data": {
      "text/plain": [
       "array([ 1,  3,  4,  5,  6,  7,  8,  9, 10, 11, 12, 13, 14, 15, 17, 18, 20])"
      ]
     },
     "execution_count": 8,
     "metadata": {},
     "output_type": "execute_result"
    }
   ],
   "source": [
    "import numpy as np\n",
    "\n",
    "categorical_fun = np.where((df2.dtypes == np.object)|(df2.nunique() <= 10))[0]\n",
    "categorical_fun"
   ]
  },
  {
   "cell_type": "markdown",
   "metadata": {},
   "source": [
    "#### Wyświetlamy co to za kolumny"
   ]
  },
  {
   "cell_type": "code",
   "execution_count": 9,
   "metadata": {},
   "outputs": [
    {
     "name": "stdout",
     "output_type": "stream",
     "text": [
      "id 1\n",
      "klik 3\n",
      "data_godzina 4\n",
      "baner_pozycja 5\n",
      "strona_id 6\n",
      "strona_domena 7\n",
      "strona_kategoria 8\n",
      "aplikacja_id 9\n",
      "aplikacja_domena 10\n",
      "aplikacja_kategoria 11\n",
      "urz_id 12\n",
      "urz_ip 13\n",
      "urz_model 14\n",
      "urz_typ 15\n",
      "urz_polaczenie 17\n",
      "kat1 18\n",
      "kat2 20\n"
     ]
    }
   ],
   "source": [
    "PPS = categorical_fun\n",
    "\n",
    "KOT_MIC = dict(zip(df2, PPS))\n",
    "KOT_sorted_keys_MIC = sorted(KOT_MIC, key=KOT_MIC.get, reverse=False)\n",
    "\n",
    "for r in KOT_sorted_keys_MIC:\n",
    "    print (r, KOT_MIC[r])"
   ]
  },
  {
   "cell_type": "markdown",
   "metadata": {},
   "source": [
    "## <span style=\"color:red\"> Uwaga! \n",
    "#### <span style=\"color:red\">    1. dane categorialne nie muszą mieć tylko formatu tekstowego, \n",
    "\n",
    "#### <span style=\"color:red\">    2. dane tekstowe trzeba przerobić do formatu numerycznego "
   ]
  },
  {
   "cell_type": "markdown",
   "metadata": {},
   "source": [
    "### <span style=\"color:green\"> Narzędzie do automatycznego kodowania zmiennych dyskretnych </span>(własnej roboty)\n"
   ]
  },
  {
   "cell_type": "code",
   "execution_count": 10,
   "metadata": {},
   "outputs": [
    {
     "name": "stdout",
     "output_type": "stream",
     "text": [
      "DISCRETE FUNCTIONS CODED\n",
      "------------------------\n",
      "strona_id --- object\n",
      "strona_domena --- object\n",
      "strona_kategoria --- object\n",
      "aplikacja_id --- object\n",
      "aplikacja_domena --- object\n",
      "aplikacja_kategoria --- object\n",
      "urz_id --- object\n",
      "urz_ip --- object\n",
      "urz_model --- object\n"
     ]
    }
   ],
   "source": [
    "a,b = df2.shape     #<- ile mamy kolumn\n",
    "b\n",
    "\n",
    "print('DISCRETE FUNCTIONS CODED')\n",
    "print('------------------------')\n",
    "for i in range(1,b):\n",
    "    i = df2.columns[i]\n",
    "    f = df2[i].dtypes\n",
    "    if f == np.object:\n",
    "        print(i,\"---\",f)   \n",
    "    \n",
    "        if f == np.object:\n",
    "        \n",
    "            df2[i] = pd.Categorical(df2[i]).codes\n",
    "        \n",
    "            continue"
   ]
  }
 ],
 "metadata": {
  "kernelspec": {
   "display_name": "Python 3",
   "language": "python",
   "name": "python3"
  },
  "language_info": {
   "codemirror_mode": {
    "name": "ipython",
    "version": 3
   },
   "file_extension": ".py",
   "mimetype": "text/x-python",
   "name": "python",
   "nbconvert_exporter": "python",
   "pygments_lexer": "ipython3",
   "version": "3.7.4"
  }
 },
 "nbformat": 4,
 "nbformat_minor": 2
}
