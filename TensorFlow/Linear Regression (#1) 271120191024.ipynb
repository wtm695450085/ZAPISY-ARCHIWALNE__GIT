{
 "cells": [
  {
   "cell_type": "markdown",
   "metadata": {},
   "source": [
    "# Tutorial: Linear Regression in TensorFlow - Case of air quality analysis. \n",
    "#### Part. 1 Supplementing data for further analysis"
   ]
  },
  {
   "cell_type": "markdown",
   "metadata": {},
   "source": [
    "### <span style=\"color:#1155cc\">AirQualityUCI</span>\n",
    "\n",
    "Source of data: https://archive.ics.uci.edu/ml/datasets/Air+Quality"
   ]
  },
  {
   "cell_type": "code",
   "execution_count": 1,
   "metadata": {},
   "outputs": [
    {
     "data": {
      "text/html": [
       "<div>\n",
       "<style scoped>\n",
       "    .dataframe tbody tr th:only-of-type {\n",
       "        vertical-align: middle;\n",
       "    }\n",
       "\n",
       "    .dataframe tbody tr th {\n",
       "        vertical-align: top;\n",
       "    }\n",
       "\n",
       "    .dataframe thead th {\n",
       "        text-align: right;\n",
       "    }\n",
       "</style>\n",
       "<table border=\"1\" class=\"dataframe\">\n",
       "  <thead>\n",
       "    <tr style=\"text-align: right;\">\n",
       "      <th></th>\n",
       "      <th>Date</th>\n",
       "      <th>Time</th>\n",
       "      <th>CO(GT)</th>\n",
       "      <th>PT08.S1(CO)</th>\n",
       "      <th>NMHC(GT)</th>\n",
       "      <th>C6H6(GT)</th>\n",
       "      <th>PT08.S2(NMHC)</th>\n",
       "      <th>NOx(GT)</th>\n",
       "      <th>PT08.S3(NOx)</th>\n",
       "      <th>NO2(GT)</th>\n",
       "      <th>PT08.S4(NO2)</th>\n",
       "      <th>PT08.S5(O3)</th>\n",
       "      <th>T</th>\n",
       "      <th>RH</th>\n",
       "      <th>AH</th>\n",
       "      <th>Unnamed: 15</th>\n",
       "      <th>Unnamed: 16</th>\n",
       "    </tr>\n",
       "  </thead>\n",
       "  <tbody>\n",
       "    <tr>\n",
       "      <th>0</th>\n",
       "      <td>10/03/2004</td>\n",
       "      <td>18.00.00</td>\n",
       "      <td>2,6</td>\n",
       "      <td>1360.0</td>\n",
       "      <td>150.0</td>\n",
       "      <td>11,9</td>\n",
       "      <td>1046.0</td>\n",
       "      <td>166.0</td>\n",
       "      <td>1056.0</td>\n",
       "      <td>113.0</td>\n",
       "      <td>1692.0</td>\n",
       "      <td>1268.0</td>\n",
       "      <td>13,6</td>\n",
       "      <td>48,9</td>\n",
       "      <td>0,7578</td>\n",
       "      <td>NaN</td>\n",
       "      <td>NaN</td>\n",
       "    </tr>\n",
       "    <tr>\n",
       "      <th>1</th>\n",
       "      <td>10/03/2004</td>\n",
       "      <td>19.00.00</td>\n",
       "      <td>2</td>\n",
       "      <td>1292.0</td>\n",
       "      <td>112.0</td>\n",
       "      <td>9,4</td>\n",
       "      <td>955.0</td>\n",
       "      <td>103.0</td>\n",
       "      <td>1174.0</td>\n",
       "      <td>92.0</td>\n",
       "      <td>1559.0</td>\n",
       "      <td>972.0</td>\n",
       "      <td>13,3</td>\n",
       "      <td>47,7</td>\n",
       "      <td>0,7255</td>\n",
       "      <td>NaN</td>\n",
       "      <td>NaN</td>\n",
       "    </tr>\n",
       "    <tr>\n",
       "      <th>2</th>\n",
       "      <td>10/03/2004</td>\n",
       "      <td>20.00.00</td>\n",
       "      <td>2,2</td>\n",
       "      <td>1402.0</td>\n",
       "      <td>88.0</td>\n",
       "      <td>9,0</td>\n",
       "      <td>939.0</td>\n",
       "      <td>131.0</td>\n",
       "      <td>1140.0</td>\n",
       "      <td>114.0</td>\n",
       "      <td>1555.0</td>\n",
       "      <td>1074.0</td>\n",
       "      <td>11,9</td>\n",
       "      <td>54,0</td>\n",
       "      <td>0,7502</td>\n",
       "      <td>NaN</td>\n",
       "      <td>NaN</td>\n",
       "    </tr>\n",
       "  </tbody>\n",
       "</table>\n",
       "</div>"
      ],
      "text/plain": [
       "         Date      Time CO(GT)  PT08.S1(CO)  NMHC(GT) C6H6(GT)  PT08.S2(NMHC)  \\\n",
       "0  10/03/2004  18.00.00    2,6       1360.0     150.0     11,9         1046.0   \n",
       "1  10/03/2004  19.00.00      2       1292.0     112.0      9,4          955.0   \n",
       "2  10/03/2004  20.00.00    2,2       1402.0      88.0      9,0          939.0   \n",
       "\n",
       "   NOx(GT)  PT08.S3(NOx)  NO2(GT)  PT08.S4(NO2)  PT08.S5(O3)     T    RH  \\\n",
       "0    166.0        1056.0    113.0        1692.0       1268.0  13,6  48,9   \n",
       "1    103.0        1174.0     92.0        1559.0        972.0  13,3  47,7   \n",
       "2    131.0        1140.0    114.0        1555.0       1074.0  11,9  54,0   \n",
       "\n",
       "       AH  Unnamed: 15  Unnamed: 16  \n",
       "0  0,7578          NaN          NaN  \n",
       "1  0,7255          NaN          NaN  \n",
       "2  0,7502          NaN          NaN  "
      ]
     },
     "execution_count": 1,
     "metadata": {},
     "output_type": "execute_result"
    }
   ],
   "source": [
    "import pandas as pd\n",
    "df = pd.read_csv('c:/TS/AirQualityUCI.csv', sep=';')\n",
    "df.head(3)"
   ]
  },
  {
   "cell_type": "markdown",
   "metadata": {},
   "source": [
    "### <span style=\"color:#1155cc\">Data Set Information:</span>\n",
    "\n",
    "\n",
    "\n",
    "<span style=\"color:#1155cc\">\n",
    "The dataset contains 9358 instances of hourly averaged responses from an array of 5 metal oxide chemical sensors embedded in an Air Quality Chemical Multisensor Device. The device was located on the field in a significantly polluted area, at road level,within an Italian city. Data were recorded from March 2004 to February 2005 (one year)representing the longest freely available recordings of on field deployed air quality chemical sensor devices responses. Ground Truth hourly averaged concentrations for CO, Non Metanic Hydrocarbons, Benzene, Total Nitrogen Oxides (NOx) and Nitrogen Dioxide (NO2) and were provided by a co-located reference certified analyzer. Evidences of cross-sensitivities as well as both concept and sensor drifts are present as described in De Vito et al., Sens. And Act. B, Vol. 129,2,2008 (citation required) eventually affecting sensors concentration estimation capabilities. Missing values are tagged with -200 value.\n",
    "This dataset can be used exclusively for research purposes. Commercial purposes are fully excluded.</span>\n",
    "\n",
    "<span style=\"color:#f3f3f3\">Supplementing data for further analysis</span>"
   ]
  },
  {
   "cell_type": "markdown",
   "metadata": {},
   "source": [
    "### <span style=\"color:#1155cc\"> Attribute Information:</span>\n",
    "\n",
    "    Date (DD/MM/YYYY)\n",
    "    Time (HH.MM.SS)\n",
    "    True hourly averaged concentration CO in mg/m^3 (reference analyzer)\n",
    "    PT08.S1 (tin oxide) hourly averaged sensor response (nominally CO targeted)\n",
    "    True hourly averaged overall Non Metanic HydroCarbons concentration in microg/m^3 (reference analyzer)\n",
    "    True hourly averaged Benzene concentration in microg/m^3 (reference analyzer)\n",
    "    PT08.S2 (titania) hourly averaged sensor response (nominally NMHC targeted)\n",
    "    True hourly averaged NOx concentration in ppb (reference analyzer)\n",
    "    PT08.S3 (tungsten oxide) hourly averaged sensor response (nominally NOx targeted)\n",
    "    True hourly averaged NO2 concentration in microg/m^3 (reference analyzer)\n",
    "    PT08.S4 (tungsten oxide) hourly averaged sensor response (nominally NO2 targeted)\n",
    "    PT08.S5 (indium oxide) hourly averaged sensor response (nominally O3 targeted)\n",
    "    Temperature in Â°C\n",
    "    Relative Humidity (%)\n",
    "    AH Absolute Humidity\n",
    "\n",
    "\n",
    "<span style=\"color:#f3f3f3\">Tutorial: Supplementing data for further analysis\n",
    "</span>"
   ]
  },
  {
   "cell_type": "markdown",
   "metadata": {},
   "source": [
    "<span style=\"color:#1155cc\">Step 1. Data completeness check</span>"
   ]
  },
  {
   "cell_type": "code",
   "execution_count": 2,
   "metadata": {},
   "outputs": [
    {
     "data": {
      "text/plain": [
       "Date              114\n",
       "Time              114\n",
       "CO(GT)            114\n",
       "PT08.S1(CO)       114\n",
       "NMHC(GT)          114\n",
       "C6H6(GT)          114\n",
       "PT08.S2(NMHC)     114\n",
       "NOx(GT)           114\n",
       "PT08.S3(NOx)      114\n",
       "NO2(GT)           114\n",
       "PT08.S4(NO2)      114\n",
       "PT08.S5(O3)       114\n",
       "T                 114\n",
       "RH                114\n",
       "AH                114\n",
       "Unnamed: 15      9471\n",
       "Unnamed: 16      9471\n",
       "dtype: int64"
      ]
     },
     "execution_count": 2,
     "metadata": {},
     "output_type": "execute_result"
    }
   ],
   "source": [
    "df.isnull().sum()"
   ]
  },
  {
   "cell_type": "markdown",
   "metadata": {},
   "source": [
    "\n",
    "There are a lot of missing values. In addition, we learned that the value -200 means no data. We'll deal with this in a moment. We will now check the statistics of variables in the database."
   ]
  },
  {
   "cell_type": "code",
   "execution_count": 3,
   "metadata": {},
   "outputs": [
    {
     "name": "stderr",
     "output_type": "stream",
     "text": [
      "C:\\ProgramData\\Anaconda3\\envs\\OLD_TF\\lib\\site-packages\\numpy\\lib\\nanfunctions.py:1112: RuntimeWarning: Mean of empty slice\n",
      "  return np.nanmean(a, axis, out=out, keepdims=keepdims)\n"
     ]
    },
    {
     "data": {
      "text/html": [
       "<div>\n",
       "<style scoped>\n",
       "    .dataframe tbody tr th:only-of-type {\n",
       "        vertical-align: middle;\n",
       "    }\n",
       "\n",
       "    .dataframe tbody tr th {\n",
       "        vertical-align: top;\n",
       "    }\n",
       "\n",
       "    .dataframe thead th {\n",
       "        text-align: right;\n",
       "    }\n",
       "</style>\n",
       "<table border=\"1\" class=\"dataframe\">\n",
       "  <thead>\n",
       "    <tr style=\"text-align: right;\">\n",
       "      <th></th>\n",
       "      <th>PT08.S1(CO)</th>\n",
       "      <th>NMHC(GT)</th>\n",
       "      <th>PT08.S2(NMHC)</th>\n",
       "      <th>NOx(GT)</th>\n",
       "      <th>PT08.S3(NOx)</th>\n",
       "      <th>NO2(GT)</th>\n",
       "      <th>PT08.S4(NO2)</th>\n",
       "      <th>PT08.S5(O3)</th>\n",
       "      <th>Unnamed: 15</th>\n",
       "      <th>Unnamed: 16</th>\n",
       "    </tr>\n",
       "  </thead>\n",
       "  <tbody>\n",
       "    <tr>\n",
       "      <th>min</th>\n",
       "      <td>-200.000000</td>\n",
       "      <td>-200.000000</td>\n",
       "      <td>-200.000000</td>\n",
       "      <td>-200.000000</td>\n",
       "      <td>-200.000000</td>\n",
       "      <td>-200.000000</td>\n",
       "      <td>-200.000000</td>\n",
       "      <td>-200.000000</td>\n",
       "      <td>NaN</td>\n",
       "      <td>NaN</td>\n",
       "    </tr>\n",
       "    <tr>\n",
       "      <th>max</th>\n",
       "      <td>2040.000000</td>\n",
       "      <td>1189.000000</td>\n",
       "      <td>2214.000000</td>\n",
       "      <td>1479.000000</td>\n",
       "      <td>2683.000000</td>\n",
       "      <td>340.000000</td>\n",
       "      <td>2775.000000</td>\n",
       "      <td>2523.000000</td>\n",
       "      <td>NaN</td>\n",
       "      <td>NaN</td>\n",
       "    </tr>\n",
       "    <tr>\n",
       "      <th>mean</th>\n",
       "      <td>1048.990061</td>\n",
       "      <td>-159.090093</td>\n",
       "      <td>894.595276</td>\n",
       "      <td>168.616971</td>\n",
       "      <td>794.990168</td>\n",
       "      <td>58.148873</td>\n",
       "      <td>1391.479641</td>\n",
       "      <td>975.072032</td>\n",
       "      <td>NaN</td>\n",
       "      <td>NaN</td>\n",
       "    </tr>\n",
       "    <tr>\n",
       "      <th>median</th>\n",
       "      <td>1053.000000</td>\n",
       "      <td>-200.000000</td>\n",
       "      <td>895.000000</td>\n",
       "      <td>141.000000</td>\n",
       "      <td>794.000000</td>\n",
       "      <td>96.000000</td>\n",
       "      <td>1446.000000</td>\n",
       "      <td>942.000000</td>\n",
       "      <td>NaN</td>\n",
       "      <td>NaN</td>\n",
       "    </tr>\n",
       "  </tbody>\n",
       "</table>\n",
       "</div>"
      ],
      "text/plain": [
       "        PT08.S1(CO)     NMHC(GT)  PT08.S2(NMHC)      NOx(GT)  PT08.S3(NOx)  \\\n",
       "min     -200.000000  -200.000000    -200.000000  -200.000000   -200.000000   \n",
       "max     2040.000000  1189.000000    2214.000000  1479.000000   2683.000000   \n",
       "mean    1048.990061  -159.090093     894.595276   168.616971    794.990168   \n",
       "median  1053.000000  -200.000000     895.000000   141.000000    794.000000   \n",
       "\n",
       "           NO2(GT)  PT08.S4(NO2)  PT08.S5(O3)  Unnamed: 15  Unnamed: 16  \n",
       "min    -200.000000   -200.000000  -200.000000          NaN          NaN  \n",
       "max     340.000000   2775.000000  2523.000000          NaN          NaN  \n",
       "mean     58.148873   1391.479641   975.072032          NaN          NaN  \n",
       "median   96.000000   1446.000000   942.000000          NaN          NaN  "
      ]
     },
     "execution_count": 3,
     "metadata": {},
     "output_type": "execute_result"
    }
   ],
   "source": [
    "df.agg(['min', 'max', 'mean', 'median'])"
   ]
  },
  {
   "cell_type": "code",
   "execution_count": 4,
   "metadata": {},
   "outputs": [
    {
     "data": {
      "text/plain": [
       "(9471, 17)"
      ]
     },
     "execution_count": 4,
     "metadata": {},
     "output_type": "execute_result"
    }
   ],
   "source": [
    "df.shape"
   ]
  },
  {
   "cell_type": "markdown",
   "metadata": {},
   "source": [
    "We delete two empty columns."
   ]
  },
  {
   "cell_type": "code",
   "execution_count": 5,
   "metadata": {},
   "outputs": [],
   "source": [
    "del df['Unnamed: 15']\n",
    "del df['Unnamed: 16']"
   ]
  },
  {
   "cell_type": "markdown",
   "metadata": {},
   "source": [
    "## <span style=\"color:darkgreen\">Step 1: Preliminary analysis of data gaps</span>\n",
    "\n",
    "One more look at how many NaN cells there are."
   ]
  },
  {
   "cell_type": "code",
   "execution_count": 6,
   "metadata": {},
   "outputs": [
    {
     "data": {
      "text/plain": [
       "Date             114\n",
       "Time             114\n",
       "CO(GT)           114\n",
       "PT08.S1(CO)      114\n",
       "NMHC(GT)         114\n",
       "C6H6(GT)         114\n",
       "PT08.S2(NMHC)    114\n",
       "NOx(GT)          114\n",
       "PT08.S3(NOx)     114\n",
       "NO2(GT)          114\n",
       "PT08.S4(NO2)     114\n",
       "PT08.S5(O3)      114\n",
       "T                114\n",
       "RH               114\n",
       "AH               114\n",
       "dtype: int64"
      ]
     },
     "execution_count": 6,
     "metadata": {},
     "output_type": "execute_result"
    }
   ],
   "source": [
    "df.isnull().sum()"
   ]
  },
  {
   "cell_type": "markdown",
   "metadata": {},
   "source": [
    "Now I will try to see these empty cells."
   ]
  },
  {
   "cell_type": "code",
   "execution_count": 7,
   "metadata": {},
   "outputs": [
    {
     "data": {
      "text/html": [
       "<div>\n",
       "<style scoped>\n",
       "    .dataframe tbody tr th:only-of-type {\n",
       "        vertical-align: middle;\n",
       "    }\n",
       "\n",
       "    .dataframe tbody tr th {\n",
       "        vertical-align: top;\n",
       "    }\n",
       "\n",
       "    .dataframe thead th {\n",
       "        text-align: right;\n",
       "    }\n",
       "</style>\n",
       "<table border=\"1\" class=\"dataframe\">\n",
       "  <thead>\n",
       "    <tr style=\"text-align: right;\">\n",
       "      <th></th>\n",
       "      <th>Date</th>\n",
       "      <th>Time</th>\n",
       "      <th>CO(GT)</th>\n",
       "      <th>PT08.S1(CO)</th>\n",
       "      <th>NMHC(GT)</th>\n",
       "      <th>C6H6(GT)</th>\n",
       "      <th>PT08.S2(NMHC)</th>\n",
       "      <th>NOx(GT)</th>\n",
       "      <th>PT08.S3(NOx)</th>\n",
       "      <th>NO2(GT)</th>\n",
       "      <th>PT08.S4(NO2)</th>\n",
       "      <th>PT08.S5(O3)</th>\n",
       "      <th>T</th>\n",
       "      <th>RH</th>\n",
       "      <th>AH</th>\n",
       "    </tr>\n",
       "  </thead>\n",
       "  <tbody>\n",
       "    <tr>\n",
       "      <th>9357</th>\n",
       "      <td>NaN</td>\n",
       "      <td>NaN</td>\n",
       "      <td>NaN</td>\n",
       "      <td>NaN</td>\n",
       "      <td>NaN</td>\n",
       "      <td>NaN</td>\n",
       "      <td>NaN</td>\n",
       "      <td>NaN</td>\n",
       "      <td>NaN</td>\n",
       "      <td>NaN</td>\n",
       "      <td>NaN</td>\n",
       "      <td>NaN</td>\n",
       "      <td>NaN</td>\n",
       "      <td>NaN</td>\n",
       "      <td>NaN</td>\n",
       "    </tr>\n",
       "    <tr>\n",
       "      <th>9358</th>\n",
       "      <td>NaN</td>\n",
       "      <td>NaN</td>\n",
       "      <td>NaN</td>\n",
       "      <td>NaN</td>\n",
       "      <td>NaN</td>\n",
       "      <td>NaN</td>\n",
       "      <td>NaN</td>\n",
       "      <td>NaN</td>\n",
       "      <td>NaN</td>\n",
       "      <td>NaN</td>\n",
       "      <td>NaN</td>\n",
       "      <td>NaN</td>\n",
       "      <td>NaN</td>\n",
       "      <td>NaN</td>\n",
       "      <td>NaN</td>\n",
       "    </tr>\n",
       "    <tr>\n",
       "      <th>9359</th>\n",
       "      <td>NaN</td>\n",
       "      <td>NaN</td>\n",
       "      <td>NaN</td>\n",
       "      <td>NaN</td>\n",
       "      <td>NaN</td>\n",
       "      <td>NaN</td>\n",
       "      <td>NaN</td>\n",
       "      <td>NaN</td>\n",
       "      <td>NaN</td>\n",
       "      <td>NaN</td>\n",
       "      <td>NaN</td>\n",
       "      <td>NaN</td>\n",
       "      <td>NaN</td>\n",
       "      <td>NaN</td>\n",
       "      <td>NaN</td>\n",
       "    </tr>\n",
       "    <tr>\n",
       "      <th>9360</th>\n",
       "      <td>NaN</td>\n",
       "      <td>NaN</td>\n",
       "      <td>NaN</td>\n",
       "      <td>NaN</td>\n",
       "      <td>NaN</td>\n",
       "      <td>NaN</td>\n",
       "      <td>NaN</td>\n",
       "      <td>NaN</td>\n",
       "      <td>NaN</td>\n",
       "      <td>NaN</td>\n",
       "      <td>NaN</td>\n",
       "      <td>NaN</td>\n",
       "      <td>NaN</td>\n",
       "      <td>NaN</td>\n",
       "      <td>NaN</td>\n",
       "    </tr>\n",
       "    <tr>\n",
       "      <th>9361</th>\n",
       "      <td>NaN</td>\n",
       "      <td>NaN</td>\n",
       "      <td>NaN</td>\n",
       "      <td>NaN</td>\n",
       "      <td>NaN</td>\n",
       "      <td>NaN</td>\n",
       "      <td>NaN</td>\n",
       "      <td>NaN</td>\n",
       "      <td>NaN</td>\n",
       "      <td>NaN</td>\n",
       "      <td>NaN</td>\n",
       "      <td>NaN</td>\n",
       "      <td>NaN</td>\n",
       "      <td>NaN</td>\n",
       "      <td>NaN</td>\n",
       "    </tr>\n",
       "    <tr>\n",
       "      <th>...</th>\n",
       "      <td>...</td>\n",
       "      <td>...</td>\n",
       "      <td>...</td>\n",
       "      <td>...</td>\n",
       "      <td>...</td>\n",
       "      <td>...</td>\n",
       "      <td>...</td>\n",
       "      <td>...</td>\n",
       "      <td>...</td>\n",
       "      <td>...</td>\n",
       "      <td>...</td>\n",
       "      <td>...</td>\n",
       "      <td>...</td>\n",
       "      <td>...</td>\n",
       "      <td>...</td>\n",
       "    </tr>\n",
       "    <tr>\n",
       "      <th>9466</th>\n",
       "      <td>NaN</td>\n",
       "      <td>NaN</td>\n",
       "      <td>NaN</td>\n",
       "      <td>NaN</td>\n",
       "      <td>NaN</td>\n",
       "      <td>NaN</td>\n",
       "      <td>NaN</td>\n",
       "      <td>NaN</td>\n",
       "      <td>NaN</td>\n",
       "      <td>NaN</td>\n",
       "      <td>NaN</td>\n",
       "      <td>NaN</td>\n",
       "      <td>NaN</td>\n",
       "      <td>NaN</td>\n",
       "      <td>NaN</td>\n",
       "    </tr>\n",
       "    <tr>\n",
       "      <th>9467</th>\n",
       "      <td>NaN</td>\n",
       "      <td>NaN</td>\n",
       "      <td>NaN</td>\n",
       "      <td>NaN</td>\n",
       "      <td>NaN</td>\n",
       "      <td>NaN</td>\n",
       "      <td>NaN</td>\n",
       "      <td>NaN</td>\n",
       "      <td>NaN</td>\n",
       "      <td>NaN</td>\n",
       "      <td>NaN</td>\n",
       "      <td>NaN</td>\n",
       "      <td>NaN</td>\n",
       "      <td>NaN</td>\n",
       "      <td>NaN</td>\n",
       "    </tr>\n",
       "    <tr>\n",
       "      <th>9468</th>\n",
       "      <td>NaN</td>\n",
       "      <td>NaN</td>\n",
       "      <td>NaN</td>\n",
       "      <td>NaN</td>\n",
       "      <td>NaN</td>\n",
       "      <td>NaN</td>\n",
       "      <td>NaN</td>\n",
       "      <td>NaN</td>\n",
       "      <td>NaN</td>\n",
       "      <td>NaN</td>\n",
       "      <td>NaN</td>\n",
       "      <td>NaN</td>\n",
       "      <td>NaN</td>\n",
       "      <td>NaN</td>\n",
       "      <td>NaN</td>\n",
       "    </tr>\n",
       "    <tr>\n",
       "      <th>9469</th>\n",
       "      <td>NaN</td>\n",
       "      <td>NaN</td>\n",
       "      <td>NaN</td>\n",
       "      <td>NaN</td>\n",
       "      <td>NaN</td>\n",
       "      <td>NaN</td>\n",
       "      <td>NaN</td>\n",
       "      <td>NaN</td>\n",
       "      <td>NaN</td>\n",
       "      <td>NaN</td>\n",
       "      <td>NaN</td>\n",
       "      <td>NaN</td>\n",
       "      <td>NaN</td>\n",
       "      <td>NaN</td>\n",
       "      <td>NaN</td>\n",
       "    </tr>\n",
       "    <tr>\n",
       "      <th>9470</th>\n",
       "      <td>NaN</td>\n",
       "      <td>NaN</td>\n",
       "      <td>NaN</td>\n",
       "      <td>NaN</td>\n",
       "      <td>NaN</td>\n",
       "      <td>NaN</td>\n",
       "      <td>NaN</td>\n",
       "      <td>NaN</td>\n",
       "      <td>NaN</td>\n",
       "      <td>NaN</td>\n",
       "      <td>NaN</td>\n",
       "      <td>NaN</td>\n",
       "      <td>NaN</td>\n",
       "      <td>NaN</td>\n",
       "      <td>NaN</td>\n",
       "    </tr>\n",
       "  </tbody>\n",
       "</table>\n",
       "<p>114 rows × 15 columns</p>\n",
       "</div>"
      ],
      "text/plain": [
       "     Date Time CO(GT)  PT08.S1(CO)  NMHC(GT) C6H6(GT)  PT08.S2(NMHC)  NOx(GT)  \\\n",
       "9357  NaN  NaN    NaN          NaN       NaN      NaN            NaN      NaN   \n",
       "9358  NaN  NaN    NaN          NaN       NaN      NaN            NaN      NaN   \n",
       "9359  NaN  NaN    NaN          NaN       NaN      NaN            NaN      NaN   \n",
       "9360  NaN  NaN    NaN          NaN       NaN      NaN            NaN      NaN   \n",
       "9361  NaN  NaN    NaN          NaN       NaN      NaN            NaN      NaN   \n",
       "...   ...  ...    ...          ...       ...      ...            ...      ...   \n",
       "9466  NaN  NaN    NaN          NaN       NaN      NaN            NaN      NaN   \n",
       "9467  NaN  NaN    NaN          NaN       NaN      NaN            NaN      NaN   \n",
       "9468  NaN  NaN    NaN          NaN       NaN      NaN            NaN      NaN   \n",
       "9469  NaN  NaN    NaN          NaN       NaN      NaN            NaN      NaN   \n",
       "9470  NaN  NaN    NaN          NaN       NaN      NaN            NaN      NaN   \n",
       "\n",
       "      PT08.S3(NOx)  NO2(GT)  PT08.S4(NO2)  PT08.S5(O3)    T   RH   AH  \n",
       "9357           NaN      NaN           NaN          NaN  NaN  NaN  NaN  \n",
       "9358           NaN      NaN           NaN          NaN  NaN  NaN  NaN  \n",
       "9359           NaN      NaN           NaN          NaN  NaN  NaN  NaN  \n",
       "9360           NaN      NaN           NaN          NaN  NaN  NaN  NaN  \n",
       "9361           NaN      NaN           NaN          NaN  NaN  NaN  NaN  \n",
       "...            ...      ...           ...          ...  ...  ...  ...  \n",
       "9466           NaN      NaN           NaN          NaN  NaN  NaN  NaN  \n",
       "9467           NaN      NaN           NaN          NaN  NaN  NaN  NaN  \n",
       "9468           NaN      NaN           NaN          NaN  NaN  NaN  NaN  \n",
       "9469           NaN      NaN           NaN          NaN  NaN  NaN  NaN  \n",
       "9470           NaN      NaN           NaN          NaN  NaN  NaN  NaN  \n",
       "\n",
       "[114 rows x 15 columns]"
      ]
     },
     "execution_count": 7,
     "metadata": {},
     "output_type": "execute_result"
    }
   ],
   "source": [
    "df[df['NMHC(GT)'].isnull()]"
   ]
  },
  {
   "cell_type": "markdown",
   "metadata": {},
   "source": [
    "These are completely empty time series. The device was probably cut off from the power supply, no sensor was working."
   ]
  },
  {
   "cell_type": "code",
   "execution_count": 8,
   "metadata": {},
   "outputs": [
    {
     "data": {
      "text/plain": [
       "Date             0\n",
       "Time             0\n",
       "CO(GT)           0\n",
       "PT08.S1(CO)      0\n",
       "NMHC(GT)         0\n",
       "C6H6(GT)         0\n",
       "PT08.S2(NMHC)    0\n",
       "NOx(GT)          0\n",
       "PT08.S3(NOx)     0\n",
       "NO2(GT)          0\n",
       "PT08.S4(NO2)     0\n",
       "PT08.S5(O3)      0\n",
       "T                0\n",
       "RH               0\n",
       "AH               0\n",
       "dtype: int64"
      ]
     },
     "execution_count": 8,
     "metadata": {},
     "output_type": "execute_result"
    }
   ],
   "source": [
    "df = df.dropna(how='all')\n",
    "df.isnull().sum()"
   ]
  },
  {
   "cell_type": "markdown",
   "metadata": {},
   "source": [
    "We are looking for variables with the value -200 because this means there is no data. The -200 values are entered differently, so I have to do the replacement process in many ways."
   ]
  },
  {
   "cell_type": "code",
   "execution_count": 9,
   "metadata": {},
   "outputs": [],
   "source": [
    "import numpy as np\n",
    "\n",
    "df = df.replace(-200,np.NaN)\n",
    "df = df.replace('-200',np.NaN)\n",
    "df = df.replace('-200.0',np.NaN)\n",
    "df = df.replace('-200,0',np.NaN)"
   ]
  },
  {
   "cell_type": "markdown",
   "metadata": {},
   "source": [
    "The value of -200 has been changed to NaN and we will see how many empty records there are now."
   ]
  },
  {
   "cell_type": "code",
   "execution_count": 10,
   "metadata": {},
   "outputs": [
    {
     "data": {
      "text/plain": [
       "Date                0\n",
       "Time                0\n",
       "CO(GT)           1683\n",
       "PT08.S1(CO)       366\n",
       "NMHC(GT)         8443\n",
       "C6H6(GT)          366\n",
       "PT08.S2(NMHC)     366\n",
       "NOx(GT)          1639\n",
       "PT08.S3(NOx)      366\n",
       "NO2(GT)          1642\n",
       "PT08.S4(NO2)      366\n",
       "PT08.S5(O3)       366\n",
       "T                 366\n",
       "RH                366\n",
       "AH                366\n",
       "dtype: int64"
      ]
     },
     "execution_count": 10,
     "metadata": {},
     "output_type": "execute_result"
    }
   ],
   "source": [
    "df.isnull().sum()"
   ]
  },
  {
   "cell_type": "markdown",
   "metadata": {},
   "source": [
    "Chart of missing data structure."
   ]
  },
  {
   "cell_type": "code",
   "execution_count": 11,
   "metadata": {},
   "outputs": [
    {
     "data": {
      "text/plain": [
       "<function matplotlib.pyplot.show(*args, **kw)>"
      ]
     },
     "execution_count": 11,
     "metadata": {},
     "output_type": "execute_result"
    }
   ],
   "source": [
    "import seaborn as sns\n",
    "import matplotlib.pyplot as plt\n",
    "\n",
    "sns.heatmap(df.isnull(),yticklabels=False,cbar=False,cmap='viridis')\n",
    "plt.show"
   ]
  },
  {
   "cell_type": "markdown",
   "metadata": {},
   "source": [
    "The NMHC (GT) variable is the most incomplete, we eliminate it from research"
   ]
  },
  {
   "cell_type": "code",
   "execution_count": 12,
   "metadata": {},
   "outputs": [],
   "source": [
    "del df['NMHC(GT)']"
   ]
  },
  {
   "cell_type": "markdown",
   "metadata": {},
   "source": [
    "We displaying records with missing data - Function isna ()"
   ]
  },
  {
   "cell_type": "code",
   "execution_count": 13,
   "metadata": {},
   "outputs": [
    {
     "data": {
      "text/html": [
       "<div>\n",
       "<style scoped>\n",
       "    .dataframe tbody tr th:only-of-type {\n",
       "        vertical-align: middle;\n",
       "    }\n",
       "\n",
       "    .dataframe tbody tr th {\n",
       "        vertical-align: top;\n",
       "    }\n",
       "\n",
       "    .dataframe thead th {\n",
       "        text-align: right;\n",
       "    }\n",
       "</style>\n",
       "<table border=\"1\" class=\"dataframe\">\n",
       "  <thead>\n",
       "    <tr style=\"text-align: right;\">\n",
       "      <th></th>\n",
       "      <th>Date</th>\n",
       "      <th>Time</th>\n",
       "      <th>CO(GT)</th>\n",
       "      <th>PT08.S1(CO)</th>\n",
       "      <th>C6H6(GT)</th>\n",
       "      <th>PT08.S2(NMHC)</th>\n",
       "      <th>NOx(GT)</th>\n",
       "      <th>PT08.S3(NOx)</th>\n",
       "      <th>NO2(GT)</th>\n",
       "      <th>PT08.S4(NO2)</th>\n",
       "      <th>PT08.S5(O3)</th>\n",
       "      <th>T</th>\n",
       "      <th>RH</th>\n",
       "      <th>AH</th>\n",
       "    </tr>\n",
       "  </thead>\n",
       "  <tbody>\n",
       "    <tr>\n",
       "      <th>9</th>\n",
       "      <td>11/03/2004</td>\n",
       "      <td>03.00.00</td>\n",
       "      <td>0,6</td>\n",
       "      <td>1010.0</td>\n",
       "      <td>1,7</td>\n",
       "      <td>561.0</td>\n",
       "      <td>NaN</td>\n",
       "      <td>1705.0</td>\n",
       "      <td>NaN</td>\n",
       "      <td>1235.0</td>\n",
       "      <td>501.0</td>\n",
       "      <td>10,3</td>\n",
       "      <td>60,2</td>\n",
       "      <td>0,7517</td>\n",
       "    </tr>\n",
       "    <tr>\n",
       "      <th>10</th>\n",
       "      <td>11/03/2004</td>\n",
       "      <td>04.00.00</td>\n",
       "      <td>NaN</td>\n",
       "      <td>1011.0</td>\n",
       "      <td>1,3</td>\n",
       "      <td>527.0</td>\n",
       "      <td>21.0</td>\n",
       "      <td>1818.0</td>\n",
       "      <td>34.0</td>\n",
       "      <td>1197.0</td>\n",
       "      <td>445.0</td>\n",
       "      <td>10,1</td>\n",
       "      <td>60,5</td>\n",
       "      <td>0,7465</td>\n",
       "    </tr>\n",
       "    <tr>\n",
       "      <th>33</th>\n",
       "      <td>12/03/2004</td>\n",
       "      <td>03.00.00</td>\n",
       "      <td>0,8</td>\n",
       "      <td>889.0</td>\n",
       "      <td>1,9</td>\n",
       "      <td>574.0</td>\n",
       "      <td>NaN</td>\n",
       "      <td>1680.0</td>\n",
       "      <td>NaN</td>\n",
       "      <td>1187.0</td>\n",
       "      <td>512.0</td>\n",
       "      <td>7,0</td>\n",
       "      <td>62,3</td>\n",
       "      <td>0,6261</td>\n",
       "    </tr>\n",
       "    <tr>\n",
       "      <th>34</th>\n",
       "      <td>12/03/2004</td>\n",
       "      <td>04.00.00</td>\n",
       "      <td>NaN</td>\n",
       "      <td>831.0</td>\n",
       "      <td>1,1</td>\n",
       "      <td>506.0</td>\n",
       "      <td>21.0</td>\n",
       "      <td>1893.0</td>\n",
       "      <td>32.0</td>\n",
       "      <td>1134.0</td>\n",
       "      <td>384.0</td>\n",
       "      <td>6,1</td>\n",
       "      <td>65,9</td>\n",
       "      <td>0,6248</td>\n",
       "    </tr>\n",
       "    <tr>\n",
       "      <th>39</th>\n",
       "      <td>12/03/2004</td>\n",
       "      <td>09.00.00</td>\n",
       "      <td>NaN</td>\n",
       "      <td>1545.0</td>\n",
       "      <td>22,1</td>\n",
       "      <td>1353.0</td>\n",
       "      <td>NaN</td>\n",
       "      <td>767.0</td>\n",
       "      <td>NaN</td>\n",
       "      <td>2058.0</td>\n",
       "      <td>1588.0</td>\n",
       "      <td>9,2</td>\n",
       "      <td>56,2</td>\n",
       "      <td>0,6561</td>\n",
       "    </tr>\n",
       "    <tr>\n",
       "      <th>...</th>\n",
       "      <td>...</td>\n",
       "      <td>...</td>\n",
       "      <td>...</td>\n",
       "      <td>...</td>\n",
       "      <td>...</td>\n",
       "      <td>...</td>\n",
       "      <td>...</td>\n",
       "      <td>...</td>\n",
       "      <td>...</td>\n",
       "      <td>...</td>\n",
       "      <td>...</td>\n",
       "      <td>...</td>\n",
       "      <td>...</td>\n",
       "      <td>...</td>\n",
       "    </tr>\n",
       "    <tr>\n",
       "      <th>9058</th>\n",
       "      <td>23/03/2005</td>\n",
       "      <td>04.00.00</td>\n",
       "      <td>NaN</td>\n",
       "      <td>993.0</td>\n",
       "      <td>2,3</td>\n",
       "      <td>604.0</td>\n",
       "      <td>85.0</td>\n",
       "      <td>848.0</td>\n",
       "      <td>65.0</td>\n",
       "      <td>1160.0</td>\n",
       "      <td>762.0</td>\n",
       "      <td>14,5</td>\n",
       "      <td>66,4</td>\n",
       "      <td>1,0919</td>\n",
       "    </tr>\n",
       "    <tr>\n",
       "      <th>9130</th>\n",
       "      <td>26/03/2005</td>\n",
       "      <td>04.00.00</td>\n",
       "      <td>NaN</td>\n",
       "      <td>1122.0</td>\n",
       "      <td>6,0</td>\n",
       "      <td>811.0</td>\n",
       "      <td>181.0</td>\n",
       "      <td>641.0</td>\n",
       "      <td>92.0</td>\n",
       "      <td>1336.0</td>\n",
       "      <td>1122.0</td>\n",
       "      <td>16,2</td>\n",
       "      <td>71,2</td>\n",
       "      <td>1,3013</td>\n",
       "    </tr>\n",
       "    <tr>\n",
       "      <th>9202</th>\n",
       "      <td>29/03/2005</td>\n",
       "      <td>04.00.00</td>\n",
       "      <td>NaN</td>\n",
       "      <td>883.0</td>\n",
       "      <td>1,3</td>\n",
       "      <td>530.0</td>\n",
       "      <td>63.0</td>\n",
       "      <td>997.0</td>\n",
       "      <td>46.0</td>\n",
       "      <td>1102.0</td>\n",
       "      <td>617.0</td>\n",
       "      <td>13,7</td>\n",
       "      <td>68,2</td>\n",
       "      <td>1,0611</td>\n",
       "    </tr>\n",
       "    <tr>\n",
       "      <th>9274</th>\n",
       "      <td>01/04/2005</td>\n",
       "      <td>04.00.00</td>\n",
       "      <td>NaN</td>\n",
       "      <td>818.0</td>\n",
       "      <td>0,8</td>\n",
       "      <td>473.0</td>\n",
       "      <td>47.0</td>\n",
       "      <td>1257.0</td>\n",
       "      <td>41.0</td>\n",
       "      <td>898.0</td>\n",
       "      <td>323.0</td>\n",
       "      <td>13,7</td>\n",
       "      <td>48,8</td>\n",
       "      <td>0,7606</td>\n",
       "    </tr>\n",
       "    <tr>\n",
       "      <th>9346</th>\n",
       "      <td>04/04/2005</td>\n",
       "      <td>04.00.00</td>\n",
       "      <td>NaN</td>\n",
       "      <td>864.0</td>\n",
       "      <td>0,8</td>\n",
       "      <td>478.0</td>\n",
       "      <td>52.0</td>\n",
       "      <td>1116.0</td>\n",
       "      <td>43.0</td>\n",
       "      <td>958.0</td>\n",
       "      <td>489.0</td>\n",
       "      <td>11,8</td>\n",
       "      <td>56,0</td>\n",
       "      <td>0,7743</td>\n",
       "    </tr>\n",
       "  </tbody>\n",
       "</table>\n",
       "<p>2416 rows × 14 columns</p>\n",
       "</div>"
      ],
      "text/plain": [
       "            Date      Time CO(GT)  PT08.S1(CO) C6H6(GT)  PT08.S2(NMHC)  \\\n",
       "9     11/03/2004  03.00.00    0,6       1010.0      1,7          561.0   \n",
       "10    11/03/2004  04.00.00    NaN       1011.0      1,3          527.0   \n",
       "33    12/03/2004  03.00.00    0,8        889.0      1,9          574.0   \n",
       "34    12/03/2004  04.00.00    NaN        831.0      1,1          506.0   \n",
       "39    12/03/2004  09.00.00    NaN       1545.0     22,1         1353.0   \n",
       "...          ...       ...    ...          ...      ...            ...   \n",
       "9058  23/03/2005  04.00.00    NaN        993.0      2,3          604.0   \n",
       "9130  26/03/2005  04.00.00    NaN       1122.0      6,0          811.0   \n",
       "9202  29/03/2005  04.00.00    NaN        883.0      1,3          530.0   \n",
       "9274  01/04/2005  04.00.00    NaN        818.0      0,8          473.0   \n",
       "9346  04/04/2005  04.00.00    NaN        864.0      0,8          478.0   \n",
       "\n",
       "      NOx(GT)  PT08.S3(NOx)  NO2(GT)  PT08.S4(NO2)  PT08.S5(O3)     T    RH  \\\n",
       "9         NaN        1705.0      NaN        1235.0        501.0  10,3  60,2   \n",
       "10       21.0        1818.0     34.0        1197.0        445.0  10,1  60,5   \n",
       "33        NaN        1680.0      NaN        1187.0        512.0   7,0  62,3   \n",
       "34       21.0        1893.0     32.0        1134.0        384.0   6,1  65,9   \n",
       "39        NaN         767.0      NaN        2058.0       1588.0   9,2  56,2   \n",
       "...       ...           ...      ...           ...          ...   ...   ...   \n",
       "9058     85.0         848.0     65.0        1160.0        762.0  14,5  66,4   \n",
       "9130    181.0         641.0     92.0        1336.0       1122.0  16,2  71,2   \n",
       "9202     63.0         997.0     46.0        1102.0        617.0  13,7  68,2   \n",
       "9274     47.0        1257.0     41.0         898.0        323.0  13,7  48,8   \n",
       "9346     52.0        1116.0     43.0         958.0        489.0  11,8  56,0   \n",
       "\n",
       "          AH  \n",
       "9     0,7517  \n",
       "10    0,7465  \n",
       "33    0,6261  \n",
       "34    0,6248  \n",
       "39    0,6561  \n",
       "...      ...  \n",
       "9058  1,0919  \n",
       "9130  1,3013  \n",
       "9202  1,0611  \n",
       "9274  0,7606  \n",
       "9346  0,7743  \n",
       "\n",
       "[2416 rows x 14 columns]"
      ]
     },
     "execution_count": 13,
     "metadata": {},
     "output_type": "execute_result"
    }
   ],
   "source": [
    "df1 = df[df.isna().any(axis=1)]\n",
    "df1"
   ]
  },
  {
   "cell_type": "markdown",
   "metadata": {},
   "source": [
    "## <span style=\"color:darkgreen\">Step 2: Check the level of direct correlation to complete the data</span>\n",
    "CO (GT) there is no data there every few measurements, you have to check what this variable correlates with. I check the data type to make a correlation."
   ]
  },
  {
   "cell_type": "code",
   "execution_count": 14,
   "metadata": {},
   "outputs": [
    {
     "data": {
      "text/plain": [
       "Date              object\n",
       "Time              object\n",
       "CO(GT)            object\n",
       "PT08.S1(CO)      float64\n",
       "C6H6(GT)          object\n",
       "PT08.S2(NMHC)    float64\n",
       "NOx(GT)          float64\n",
       "PT08.S3(NOx)     float64\n",
       "NO2(GT)          float64\n",
       "PT08.S4(NO2)     float64\n",
       "PT08.S5(O3)      float64\n",
       "T                 object\n",
       "RH                object\n",
       "AH                object\n",
       "dtype: object"
      ]
     },
     "execution_count": 14,
     "metadata": {},
     "output_type": "execute_result"
    }
   ],
   "source": [
    "df.dtypes"
   ]
  },
  {
   "cell_type": "code",
   "execution_count": 15,
   "metadata": {},
   "outputs": [],
   "source": [
    "# df['CO(GT)'].astype(float)"
   ]
  },
  {
   "cell_type": "markdown",
   "metadata": {},
   "source": [
    "<span style=\"color:red\">ValueError: could not convert string to float: '2,6'</span>\n",
    "\n",
    "It turns out that it is not so easy to convert text to number format - the problem is in commas. We replace commas with dots."
   ]
  },
  {
   "cell_type": "code",
   "execution_count": 16,
   "metadata": {},
   "outputs": [],
   "source": [
    "df['CO(GT)'] = df['CO(GT)'].str.replace(',','.')\n",
    "df['C6H6(GT)'] = df['C6H6(GT)'].str.replace(',','.')\n",
    "df['T'] = df['T'].str.replace(',','.')\n",
    "df['RH'] = df['RH'].str.replace(',','.')\n",
    "df['AH'] = df['AH'].str.replace(',','.')"
   ]
  },
  {
   "cell_type": "markdown",
   "metadata": {},
   "source": [
    "<span style=\"color:darkblue\">We change the format from object to float </span>"
   ]
  },
  {
   "cell_type": "code",
   "execution_count": 17,
   "metadata": {},
   "outputs": [],
   "source": [
    "df[['CO(GT)','C6H6(GT)', 'T','RH','AH']] = df[['CO(GT)','C6H6(GT)', 'T','RH','AH']].astype(float)"
   ]
  },
  {
   "cell_type": "code",
   "execution_count": 18,
   "metadata": {},
   "outputs": [
    {
     "data": {
      "text/plain": [
       "Date              object\n",
       "Time              object\n",
       "CO(GT)           float64\n",
       "PT08.S1(CO)      float64\n",
       "C6H6(GT)         float64\n",
       "PT08.S2(NMHC)    float64\n",
       "NOx(GT)          float64\n",
       "PT08.S3(NOx)     float64\n",
       "NO2(GT)          float64\n",
       "PT08.S4(NO2)     float64\n",
       "PT08.S5(O3)      float64\n",
       "T                float64\n",
       "RH               float64\n",
       "AH               float64\n",
       "dtype: object"
      ]
     },
     "execution_count": 18,
     "metadata": {},
     "output_type": "execute_result"
    }
   ],
   "source": [
    "df.dtypes"
   ]
  },
  {
   "cell_type": "markdown",
   "metadata": {},
   "source": [
    "<span style=\"color:darkblue\">We can now check the level of direct correlation.</span>"
   ]
  },
  {
   "cell_type": "code",
   "execution_count": 19,
   "metadata": {},
   "outputs": [
    {
     "data": {
      "text/html": [
       "<div>\n",
       "<style scoped>\n",
       "    .dataframe tbody tr th:only-of-type {\n",
       "        vertical-align: middle;\n",
       "    }\n",
       "\n",
       "    .dataframe tbody tr th {\n",
       "        vertical-align: top;\n",
       "    }\n",
       "\n",
       "    .dataframe thead th {\n",
       "        text-align: right;\n",
       "    }\n",
       "</style>\n",
       "<table border=\"1\" class=\"dataframe\">\n",
       "  <thead>\n",
       "    <tr style=\"text-align: right;\">\n",
       "      <th></th>\n",
       "      <th>CO(GT)</th>\n",
       "      <th>PT08.S1(CO)</th>\n",
       "      <th>C6H6(GT)</th>\n",
       "      <th>PT08.S2(NMHC)</th>\n",
       "      <th>NOx(GT)</th>\n",
       "      <th>PT08.S3(NOx)</th>\n",
       "      <th>NO2(GT)</th>\n",
       "      <th>PT08.S4(NO2)</th>\n",
       "      <th>PT08.S5(O3)</th>\n",
       "      <th>T</th>\n",
       "      <th>RH</th>\n",
       "      <th>AH</th>\n",
       "    </tr>\n",
       "  </thead>\n",
       "  <tbody>\n",
       "    <tr>\n",
       "      <th>CO(GT)</th>\n",
       "      <td>1.000000</td>\n",
       "      <td>0.879288</td>\n",
       "      <td>0.931078</td>\n",
       "      <td>0.915514</td>\n",
       "      <td>0.795028</td>\n",
       "      <td>-0.703446</td>\n",
       "      <td>0.683343</td>\n",
       "      <td>0.630703</td>\n",
       "      <td>0.854182</td>\n",
       "      <td>0.022109</td>\n",
       "      <td>0.048890</td>\n",
       "      <td>0.048556</td>\n",
       "    </tr>\n",
       "    <tr>\n",
       "      <th>PT08.S1(CO)</th>\n",
       "      <td>0.879288</td>\n",
       "      <td>1.000000</td>\n",
       "      <td>0.883795</td>\n",
       "      <td>0.892964</td>\n",
       "      <td>0.713654</td>\n",
       "      <td>-0.771938</td>\n",
       "      <td>0.641529</td>\n",
       "      <td>0.682881</td>\n",
       "      <td>0.899324</td>\n",
       "      <td>0.048627</td>\n",
       "      <td>0.114606</td>\n",
       "      <td>0.135324</td>\n",
       "    </tr>\n",
       "    <tr>\n",
       "      <th>C6H6(GT)</th>\n",
       "      <td>0.931078</td>\n",
       "      <td>0.883795</td>\n",
       "      <td>1.000000</td>\n",
       "      <td>0.981950</td>\n",
       "      <td>0.718839</td>\n",
       "      <td>-0.735744</td>\n",
       "      <td>0.614474</td>\n",
       "      <td>0.765731</td>\n",
       "      <td>0.865689</td>\n",
       "      <td>0.198956</td>\n",
       "      <td>-0.061681</td>\n",
       "      <td>0.167972</td>\n",
       "    </tr>\n",
       "    <tr>\n",
       "      <th>PT08.S2(NMHC)</th>\n",
       "      <td>0.915514</td>\n",
       "      <td>0.892964</td>\n",
       "      <td>0.981950</td>\n",
       "      <td>1.000000</td>\n",
       "      <td>0.704435</td>\n",
       "      <td>-0.796703</td>\n",
       "      <td>0.646245</td>\n",
       "      <td>0.777254</td>\n",
       "      <td>0.880578</td>\n",
       "      <td>0.241373</td>\n",
       "      <td>-0.090380</td>\n",
       "      <td>0.186933</td>\n",
       "    </tr>\n",
       "    <tr>\n",
       "      <th>NOx(GT)</th>\n",
       "      <td>0.795028</td>\n",
       "      <td>0.713654</td>\n",
       "      <td>0.718839</td>\n",
       "      <td>0.704435</td>\n",
       "      <td>1.000000</td>\n",
       "      <td>-0.655707</td>\n",
       "      <td>0.763111</td>\n",
       "      <td>0.233731</td>\n",
       "      <td>0.787046</td>\n",
       "      <td>-0.269683</td>\n",
       "      <td>0.221032</td>\n",
       "      <td>-0.149323</td>\n",
       "    </tr>\n",
       "    <tr>\n",
       "      <th>PT08.S3(NOx)</th>\n",
       "      <td>-0.703446</td>\n",
       "      <td>-0.771938</td>\n",
       "      <td>-0.735744</td>\n",
       "      <td>-0.796703</td>\n",
       "      <td>-0.655707</td>\n",
       "      <td>1.000000</td>\n",
       "      <td>-0.652083</td>\n",
       "      <td>-0.538468</td>\n",
       "      <td>-0.796569</td>\n",
       "      <td>-0.145112</td>\n",
       "      <td>-0.056740</td>\n",
       "      <td>-0.232017</td>\n",
       "    </tr>\n",
       "    <tr>\n",
       "      <th>NO2(GT)</th>\n",
       "      <td>0.683343</td>\n",
       "      <td>0.641529</td>\n",
       "      <td>0.614474</td>\n",
       "      <td>0.646245</td>\n",
       "      <td>0.763111</td>\n",
       "      <td>-0.652083</td>\n",
       "      <td>1.000000</td>\n",
       "      <td>0.157360</td>\n",
       "      <td>0.708128</td>\n",
       "      <td>-0.186533</td>\n",
       "      <td>-0.091759</td>\n",
       "      <td>-0.335022</td>\n",
       "    </tr>\n",
       "    <tr>\n",
       "      <th>PT08.S4(NO2)</th>\n",
       "      <td>0.630703</td>\n",
       "      <td>0.682881</td>\n",
       "      <td>0.765731</td>\n",
       "      <td>0.777254</td>\n",
       "      <td>0.233731</td>\n",
       "      <td>-0.538468</td>\n",
       "      <td>0.157360</td>\n",
       "      <td>1.000000</td>\n",
       "      <td>0.591144</td>\n",
       "      <td>0.561270</td>\n",
       "      <td>-0.032188</td>\n",
       "      <td>0.629641</td>\n",
       "    </tr>\n",
       "    <tr>\n",
       "      <th>PT08.S5(O3)</th>\n",
       "      <td>0.854182</td>\n",
       "      <td>0.899324</td>\n",
       "      <td>0.865689</td>\n",
       "      <td>0.880578</td>\n",
       "      <td>0.787046</td>\n",
       "      <td>-0.796569</td>\n",
       "      <td>0.708128</td>\n",
       "      <td>0.591144</td>\n",
       "      <td>1.000000</td>\n",
       "      <td>-0.027172</td>\n",
       "      <td>0.124956</td>\n",
       "      <td>0.070751</td>\n",
       "    </tr>\n",
       "    <tr>\n",
       "      <th>T</th>\n",
       "      <td>0.022109</td>\n",
       "      <td>0.048627</td>\n",
       "      <td>0.198956</td>\n",
       "      <td>0.241373</td>\n",
       "      <td>-0.269683</td>\n",
       "      <td>-0.145112</td>\n",
       "      <td>-0.186533</td>\n",
       "      <td>0.561270</td>\n",
       "      <td>-0.027172</td>\n",
       "      <td>1.000000</td>\n",
       "      <td>-0.578621</td>\n",
       "      <td>0.656397</td>\n",
       "    </tr>\n",
       "    <tr>\n",
       "      <th>RH</th>\n",
       "      <td>0.048890</td>\n",
       "      <td>0.114606</td>\n",
       "      <td>-0.061681</td>\n",
       "      <td>-0.090380</td>\n",
       "      <td>0.221032</td>\n",
       "      <td>-0.056740</td>\n",
       "      <td>-0.091759</td>\n",
       "      <td>-0.032188</td>\n",
       "      <td>0.124956</td>\n",
       "      <td>-0.578621</td>\n",
       "      <td>1.000000</td>\n",
       "      <td>0.167971</td>\n",
       "    </tr>\n",
       "    <tr>\n",
       "      <th>AH</th>\n",
       "      <td>0.048556</td>\n",
       "      <td>0.135324</td>\n",
       "      <td>0.167972</td>\n",
       "      <td>0.186933</td>\n",
       "      <td>-0.149323</td>\n",
       "      <td>-0.232017</td>\n",
       "      <td>-0.335022</td>\n",
       "      <td>0.629641</td>\n",
       "      <td>0.070751</td>\n",
       "      <td>0.656397</td>\n",
       "      <td>0.167971</td>\n",
       "      <td>1.000000</td>\n",
       "    </tr>\n",
       "  </tbody>\n",
       "</table>\n",
       "</div>"
      ],
      "text/plain": [
       "                 CO(GT)  PT08.S1(CO)  C6H6(GT)  PT08.S2(NMHC)   NOx(GT)  \\\n",
       "CO(GT)         1.000000     0.879288  0.931078       0.915514  0.795028   \n",
       "PT08.S1(CO)    0.879288     1.000000  0.883795       0.892964  0.713654   \n",
       "C6H6(GT)       0.931078     0.883795  1.000000       0.981950  0.718839   \n",
       "PT08.S2(NMHC)  0.915514     0.892964  0.981950       1.000000  0.704435   \n",
       "NOx(GT)        0.795028     0.713654  0.718839       0.704435  1.000000   \n",
       "PT08.S3(NOx)  -0.703446    -0.771938 -0.735744      -0.796703 -0.655707   \n",
       "NO2(GT)        0.683343     0.641529  0.614474       0.646245  0.763111   \n",
       "PT08.S4(NO2)   0.630703     0.682881  0.765731       0.777254  0.233731   \n",
       "PT08.S5(O3)    0.854182     0.899324  0.865689       0.880578  0.787046   \n",
       "T              0.022109     0.048627  0.198956       0.241373 -0.269683   \n",
       "RH             0.048890     0.114606 -0.061681      -0.090380  0.221032   \n",
       "AH             0.048556     0.135324  0.167972       0.186933 -0.149323   \n",
       "\n",
       "               PT08.S3(NOx)   NO2(GT)  PT08.S4(NO2)  PT08.S5(O3)         T  \\\n",
       "CO(GT)            -0.703446  0.683343      0.630703     0.854182  0.022109   \n",
       "PT08.S1(CO)       -0.771938  0.641529      0.682881     0.899324  0.048627   \n",
       "C6H6(GT)          -0.735744  0.614474      0.765731     0.865689  0.198956   \n",
       "PT08.S2(NMHC)     -0.796703  0.646245      0.777254     0.880578  0.241373   \n",
       "NOx(GT)           -0.655707  0.763111      0.233731     0.787046 -0.269683   \n",
       "PT08.S3(NOx)       1.000000 -0.652083     -0.538468    -0.796569 -0.145112   \n",
       "NO2(GT)           -0.652083  1.000000      0.157360     0.708128 -0.186533   \n",
       "PT08.S4(NO2)      -0.538468  0.157360      1.000000     0.591144  0.561270   \n",
       "PT08.S5(O3)       -0.796569  0.708128      0.591144     1.000000 -0.027172   \n",
       "T                 -0.145112 -0.186533      0.561270    -0.027172  1.000000   \n",
       "RH                -0.056740 -0.091759     -0.032188     0.124956 -0.578621   \n",
       "AH                -0.232017 -0.335022      0.629641     0.070751  0.656397   \n",
       "\n",
       "                     RH        AH  \n",
       "CO(GT)         0.048890  0.048556  \n",
       "PT08.S1(CO)    0.114606  0.135324  \n",
       "C6H6(GT)      -0.061681  0.167972  \n",
       "PT08.S2(NMHC) -0.090380  0.186933  \n",
       "NOx(GT)        0.221032 -0.149323  \n",
       "PT08.S3(NOx)  -0.056740 -0.232017  \n",
       "NO2(GT)       -0.091759 -0.335022  \n",
       "PT08.S4(NO2)  -0.032188  0.629641  \n",
       "PT08.S5(O3)    0.124956  0.070751  \n",
       "T             -0.578621  0.656397  \n",
       "RH             1.000000  0.167971  \n",
       "AH             0.167971  1.000000  "
      ]
     },
     "execution_count": 19,
     "metadata": {},
     "output_type": "execute_result"
    }
   ],
   "source": [
    "df.corr()"
   ]
  },
  {
   "cell_type": "code",
   "execution_count": 20,
   "metadata": {},
   "outputs": [
    {
     "data": {
      "text/plain": [
       "<matplotlib.axes._subplots.AxesSubplot at 0x18ad8b43390>"
      ]
     },
     "execution_count": 20,
     "metadata": {},
     "output_type": "execute_result"
    },
    {
     "data": {
      "image/png": "[encoded data removed]",
      "text/plain": [
       "<Figure size 1584x720 with 2 Axes>"
      ]
     },
     "metadata": {},
     "output_type": "display_data"
    }
   ],
   "source": [
    "sns.set(style=\"ticks\")\n",
    "\n",
    "corr = df.corr()\n",
    "\n",
    "mask = np.zeros_like(corr, dtype=np.bool)\n",
    "mask[np.triu_indices_from(mask)] = True\n",
    "\n",
    "f, ax = plt.subplots(figsize=(22, 10))\n",
    "cmap = sns.diverging_palette(180, 50, as_cmap=True)\n",
    "\n",
    "sns.heatmap(corr, mask=mask, cmap=cmap, vmax=1.3, center=0.1,annot=True,\n",
    "            square=True, linewidths=.9, cbar_kws={\"shrink\": 0.8})"
   ]
  },
  {
   "cell_type": "markdown",
   "metadata": {},
   "source": [
    "## <span style=\"color:darkgreen\">Step 3. Filling the gaps in variables based on other variables correlated with it</span>\n",
    "<span style=\"color:darkblue\">Filling gaps in the CO (GT) variable.</span>\n",
    "\n",
    "I check what this variable is strongly correlated with and supplement based on this variable, if not, I supplement it as the last or next value."
   ]
  },
  {
   "cell_type": "code",
   "execution_count": 21,
   "metadata": {},
   "outputs": [
    {
     "data": {
      "text/html": [
       "<div>\n",
       "<style scoped>\n",
       "    .dataframe tbody tr th:only-of-type {\n",
       "        vertical-align: middle;\n",
       "    }\n",
       "\n",
       "    .dataframe tbody tr th {\n",
       "        vertical-align: top;\n",
       "    }\n",
       "\n",
       "    .dataframe thead th {\n",
       "        text-align: right;\n",
       "    }\n",
       "</style>\n",
       "<table border=\"1\" class=\"dataframe\">\n",
       "  <thead>\n",
       "    <tr style=\"text-align: right;\">\n",
       "      <th></th>\n",
       "      <th>CO(GT)</th>\n",
       "      <th>PT08.S1(CO)</th>\n",
       "      <th>C6H6(GT)</th>\n",
       "      <th>PT08.S2(NMHC)</th>\n",
       "      <th>NOx(GT)</th>\n",
       "      <th>PT08.S3(NOx)</th>\n",
       "      <th>NO2(GT)</th>\n",
       "      <th>PT08.S4(NO2)</th>\n",
       "      <th>PT08.S5(O3)</th>\n",
       "      <th>T</th>\n",
       "      <th>RH</th>\n",
       "      <th>AH</th>\n",
       "    </tr>\n",
       "  </thead>\n",
       "  <tbody>\n",
       "    <tr>\n",
       "      <th>CO(GT)</th>\n",
       "      <td>1.000000</td>\n",
       "      <td>0.879288</td>\n",
       "      <td>0.931078</td>\n",
       "      <td>0.915514</td>\n",
       "      <td>0.795028</td>\n",
       "      <td>-0.703446</td>\n",
       "      <td>0.683343</td>\n",
       "      <td>0.630703</td>\n",
       "      <td>0.854182</td>\n",
       "      <td>0.022109</td>\n",
       "      <td>0.048890</td>\n",
       "      <td>0.048556</td>\n",
       "    </tr>\n",
       "    <tr>\n",
       "      <th>PT08.S1(CO)</th>\n",
       "      <td>0.879288</td>\n",
       "      <td>1.000000</td>\n",
       "      <td>0.883795</td>\n",
       "      <td>0.892964</td>\n",
       "      <td>0.713654</td>\n",
       "      <td>-0.771938</td>\n",
       "      <td>0.641529</td>\n",
       "      <td>0.682881</td>\n",
       "      <td>0.899324</td>\n",
       "      <td>0.048627</td>\n",
       "      <td>0.114606</td>\n",
       "      <td>0.135324</td>\n",
       "    </tr>\n",
       "    <tr>\n",
       "      <th>C6H6(GT)</th>\n",
       "      <td>0.931078</td>\n",
       "      <td>0.883795</td>\n",
       "      <td>1.000000</td>\n",
       "      <td>0.981950</td>\n",
       "      <td>0.718839</td>\n",
       "      <td>-0.735744</td>\n",
       "      <td>0.614474</td>\n",
       "      <td>0.765731</td>\n",
       "      <td>0.865689</td>\n",
       "      <td>0.198956</td>\n",
       "      <td>-0.061681</td>\n",
       "      <td>0.167972</td>\n",
       "    </tr>\n",
       "    <tr>\n",
       "      <th>PT08.S2(NMHC)</th>\n",
       "      <td>0.915514</td>\n",
       "      <td>0.892964</td>\n",
       "      <td>0.981950</td>\n",
       "      <td>1.000000</td>\n",
       "      <td>0.704435</td>\n",
       "      <td>-0.796703</td>\n",
       "      <td>0.646245</td>\n",
       "      <td>0.777254</td>\n",
       "      <td>0.880578</td>\n",
       "      <td>0.241373</td>\n",
       "      <td>-0.090380</td>\n",
       "      <td>0.186933</td>\n",
       "    </tr>\n",
       "    <tr>\n",
       "      <th>NOx(GT)</th>\n",
       "      <td>0.795028</td>\n",
       "      <td>0.713654</td>\n",
       "      <td>0.718839</td>\n",
       "      <td>0.704435</td>\n",
       "      <td>1.000000</td>\n",
       "      <td>-0.655707</td>\n",
       "      <td>0.763111</td>\n",
       "      <td>0.233731</td>\n",
       "      <td>0.787046</td>\n",
       "      <td>-0.269683</td>\n",
       "      <td>0.221032</td>\n",
       "      <td>-0.149323</td>\n",
       "    </tr>\n",
       "    <tr>\n",
       "      <th>PT08.S3(NOx)</th>\n",
       "      <td>-0.703446</td>\n",
       "      <td>-0.771938</td>\n",
       "      <td>-0.735744</td>\n",
       "      <td>-0.796703</td>\n",
       "      <td>-0.655707</td>\n",
       "      <td>1.000000</td>\n",
       "      <td>-0.652083</td>\n",
       "      <td>-0.538468</td>\n",
       "      <td>-0.796569</td>\n",
       "      <td>-0.145112</td>\n",
       "      <td>-0.056740</td>\n",
       "      <td>-0.232017</td>\n",
       "    </tr>\n",
       "    <tr>\n",
       "      <th>NO2(GT)</th>\n",
       "      <td>0.683343</td>\n",
       "      <td>0.641529</td>\n",
       "      <td>0.614474</td>\n",
       "      <td>0.646245</td>\n",
       "      <td>0.763111</td>\n",
       "      <td>-0.652083</td>\n",
       "      <td>1.000000</td>\n",
       "      <td>0.157360</td>\n",
       "      <td>0.708128</td>\n",
       "      <td>-0.186533</td>\n",
       "      <td>-0.091759</td>\n",
       "      <td>-0.335022</td>\n",
       "    </tr>\n",
       "    <tr>\n",
       "      <th>PT08.S4(NO2)</th>\n",
       "      <td>0.630703</td>\n",
       "      <td>0.682881</td>\n",
       "      <td>0.765731</td>\n",
       "      <td>0.777254</td>\n",
       "      <td>0.233731</td>\n",
       "      <td>-0.538468</td>\n",
       "      <td>0.157360</td>\n",
       "      <td>1.000000</td>\n",
       "      <td>0.591144</td>\n",
       "      <td>0.561270</td>\n",
       "      <td>-0.032188</td>\n",
       "      <td>0.629641</td>\n",
       "    </tr>\n",
       "    <tr>\n",
       "      <th>PT08.S5(O3)</th>\n",
       "      <td>0.854182</td>\n",
       "      <td>0.899324</td>\n",
       "      <td>0.865689</td>\n",
       "      <td>0.880578</td>\n",
       "      <td>0.787046</td>\n",
       "      <td>-0.796569</td>\n",
       "      <td>0.708128</td>\n",
       "      <td>0.591144</td>\n",
       "      <td>1.000000</td>\n",
       "      <td>-0.027172</td>\n",
       "      <td>0.124956</td>\n",
       "      <td>0.070751</td>\n",
       "    </tr>\n",
       "    <tr>\n",
       "      <th>T</th>\n",
       "      <td>0.022109</td>\n",
       "      <td>0.048627</td>\n",
       "      <td>0.198956</td>\n",
       "      <td>0.241373</td>\n",
       "      <td>-0.269683</td>\n",
       "      <td>-0.145112</td>\n",
       "      <td>-0.186533</td>\n",
       "      <td>0.561270</td>\n",
       "      <td>-0.027172</td>\n",
       "      <td>1.000000</td>\n",
       "      <td>-0.578621</td>\n",
       "      <td>0.656397</td>\n",
       "    </tr>\n",
       "    <tr>\n",
       "      <th>RH</th>\n",
       "      <td>0.048890</td>\n",
       "      <td>0.114606</td>\n",
       "      <td>-0.061681</td>\n",
       "      <td>-0.090380</td>\n",
       "      <td>0.221032</td>\n",
       "      <td>-0.056740</td>\n",
       "      <td>-0.091759</td>\n",
       "      <td>-0.032188</td>\n",
       "      <td>0.124956</td>\n",
       "      <td>-0.578621</td>\n",
       "      <td>1.000000</td>\n",
       "      <td>0.167971</td>\n",
       "    </tr>\n",
       "    <tr>\n",
       "      <th>AH</th>\n",
       "      <td>0.048556</td>\n",
       "      <td>0.135324</td>\n",
       "      <td>0.167972</td>\n",
       "      <td>0.186933</td>\n",
       "      <td>-0.149323</td>\n",
       "      <td>-0.232017</td>\n",
       "      <td>-0.335022</td>\n",
       "      <td>0.629641</td>\n",
       "      <td>0.070751</td>\n",
       "      <td>0.656397</td>\n",
       "      <td>0.167971</td>\n",
       "      <td>1.000000</td>\n",
       "    </tr>\n",
       "  </tbody>\n",
       "</table>\n",
       "</div>"
      ],
      "text/plain": [
       "                 CO(GT)  PT08.S1(CO)  C6H6(GT)  PT08.S2(NMHC)   NOx(GT)  \\\n",
       "CO(GT)         1.000000     0.879288  0.931078       0.915514  0.795028   \n",
       "PT08.S1(CO)    0.879288     1.000000  0.883795       0.892964  0.713654   \n",
       "C6H6(GT)       0.931078     0.883795  1.000000       0.981950  0.718839   \n",
       "PT08.S2(NMHC)  0.915514     0.892964  0.981950       1.000000  0.704435   \n",
       "NOx(GT)        0.795028     0.713654  0.718839       0.704435  1.000000   \n",
       "PT08.S3(NOx)  -0.703446    -0.771938 -0.735744      -0.796703 -0.655707   \n",
       "NO2(GT)        0.683343     0.641529  0.614474       0.646245  0.763111   \n",
       "PT08.S4(NO2)   0.630703     0.682881  0.765731       0.777254  0.233731   \n",
       "PT08.S5(O3)    0.854182     0.899324  0.865689       0.880578  0.787046   \n",
       "T              0.022109     0.048627  0.198956       0.241373 -0.269683   \n",
       "RH             0.048890     0.114606 -0.061681      -0.090380  0.221032   \n",
       "AH             0.048556     0.135324  0.167972       0.186933 -0.149323   \n",
       "\n",
       "               PT08.S3(NOx)   NO2(GT)  PT08.S4(NO2)  PT08.S5(O3)         T  \\\n",
       "CO(GT)            -0.703446  0.683343      0.630703     0.854182  0.022109   \n",
       "PT08.S1(CO)       -0.771938  0.641529      0.682881     0.899324  0.048627   \n",
       "C6H6(GT)          -0.735744  0.614474      0.765731     0.865689  0.198956   \n",
       "PT08.S2(NMHC)     -0.796703  0.646245      0.777254     0.880578  0.241373   \n",
       "NOx(GT)           -0.655707  0.763111      0.233731     0.787046 -0.269683   \n",
       "PT08.S3(NOx)       1.000000 -0.652083     -0.538468    -0.796569 -0.145112   \n",
       "NO2(GT)           -0.652083  1.000000      0.157360     0.708128 -0.186533   \n",
       "PT08.S4(NO2)      -0.538468  0.157360      1.000000     0.591144  0.561270   \n",
       "PT08.S5(O3)       -0.796569  0.708128      0.591144     1.000000 -0.027172   \n",
       "T                 -0.145112 -0.186533      0.561270    -0.027172  1.000000   \n",
       "RH                -0.056740 -0.091759     -0.032188     0.124956 -0.578621   \n",
       "AH                -0.232017 -0.335022      0.629641     0.070751  0.656397   \n",
       "\n",
       "                     RH        AH  \n",
       "CO(GT)         0.048890  0.048556  \n",
       "PT08.S1(CO)    0.114606  0.135324  \n",
       "C6H6(GT)      -0.061681  0.167972  \n",
       "PT08.S2(NMHC) -0.090380  0.186933  \n",
       "NOx(GT)        0.221032 -0.149323  \n",
       "PT08.S3(NOx)  -0.056740 -0.232017  \n",
       "NO2(GT)       -0.091759 -0.335022  \n",
       "PT08.S4(NO2)  -0.032188  0.629641  \n",
       "PT08.S5(O3)    0.124956  0.070751  \n",
       "T             -0.578621  0.656397  \n",
       "RH             1.000000  0.167971  \n",
       "AH             0.167971  1.000000  "
      ]
     },
     "execution_count": 21,
     "metadata": {},
     "output_type": "execute_result"
    }
   ],
   "source": [
    "df.corr()\n"
   ]
  },
  {
   "cell_type": "code",
   "execution_count": 22,
   "metadata": {},
   "outputs": [
    {
     "data": {
      "text/plain": [
       "Date              object\n",
       "Time              object\n",
       "CO(GT)           float64\n",
       "PT08.S1(CO)      float64\n",
       "C6H6(GT)         float64\n",
       "PT08.S2(NMHC)    float64\n",
       "NOx(GT)          float64\n",
       "PT08.S3(NOx)     float64\n",
       "NO2(GT)          float64\n",
       "PT08.S4(NO2)     float64\n",
       "PT08.S5(O3)      float64\n",
       "T                float64\n",
       "RH               float64\n",
       "AH               float64\n",
       "dtype: object"
      ]
     },
     "execution_count": 22,
     "metadata": {},
     "output_type": "execute_result"
    }
   ],
   "source": [
    "df.dtypes"
   ]
  },
  {
   "cell_type": "code",
   "execution_count": 23,
   "metadata": {},
   "outputs": [
    {
     "name": "stdout",
     "output_type": "stream",
     "text": [
      "missing value in CO(GT):  1683\n"
     ]
    }
   ],
   "source": [
    "print('missing value in CO(GT): ',df['CO(GT)'].isnull().sum())"
   ]
  },
  {
   "cell_type": "markdown",
   "metadata": {},
   "source": [
    "CO (GT) correlation with other variables."
   ]
  },
  {
   "cell_type": "code",
   "execution_count": 24,
   "metadata": {},
   "outputs": [
    {
     "data": {
      "text/html": [
       "<div>\n",
       "<style scoped>\n",
       "    .dataframe tbody tr th:only-of-type {\n",
       "        vertical-align: middle;\n",
       "    }\n",
       "\n",
       "    .dataframe tbody tr th {\n",
       "        vertical-align: top;\n",
       "    }\n",
       "\n",
       "    .dataframe thead th {\n",
       "        text-align: right;\n",
       "    }\n",
       "</style>\n",
       "<table border=\"1\" class=\"dataframe\">\n",
       "  <thead>\n",
       "    <tr style=\"text-align: right;\">\n",
       "      <th></th>\n",
       "      <th>CO(GT)</th>\n",
       "    </tr>\n",
       "  </thead>\n",
       "  <tbody>\n",
       "    <tr>\n",
       "      <th>PT08.S3(NOx)</th>\n",
       "      <td>-0.703446</td>\n",
       "    </tr>\n",
       "    <tr>\n",
       "      <th>T</th>\n",
       "      <td>0.022109</td>\n",
       "    </tr>\n",
       "    <tr>\n",
       "      <th>AH</th>\n",
       "      <td>0.048556</td>\n",
       "    </tr>\n",
       "    <tr>\n",
       "      <th>RH</th>\n",
       "      <td>0.048890</td>\n",
       "    </tr>\n",
       "    <tr>\n",
       "      <th>PT08.S4(NO2)</th>\n",
       "      <td>0.630703</td>\n",
       "    </tr>\n",
       "    <tr>\n",
       "      <th>NO2(GT)</th>\n",
       "      <td>0.683343</td>\n",
       "    </tr>\n",
       "    <tr>\n",
       "      <th>NOx(GT)</th>\n",
       "      <td>0.795028</td>\n",
       "    </tr>\n",
       "    <tr>\n",
       "      <th>PT08.S5(O3)</th>\n",
       "      <td>0.854182</td>\n",
       "    </tr>\n",
       "    <tr>\n",
       "      <th>PT08.S1(CO)</th>\n",
       "      <td>0.879288</td>\n",
       "    </tr>\n",
       "    <tr>\n",
       "      <th>PT08.S2(NMHC)</th>\n",
       "      <td>0.915514</td>\n",
       "    </tr>\n",
       "    <tr>\n",
       "      <th>C6H6(GT)</th>\n",
       "      <td>0.931078</td>\n",
       "    </tr>\n",
       "    <tr>\n",
       "      <th>CO(GT)</th>\n",
       "      <td>1.000000</td>\n",
       "    </tr>\n",
       "  </tbody>\n",
       "</table>\n",
       "</div>"
      ],
      "text/plain": [
       "                 CO(GT)\n",
       "PT08.S3(NOx)  -0.703446\n",
       "T              0.022109\n",
       "AH             0.048556\n",
       "RH             0.048890\n",
       "PT08.S4(NO2)   0.630703\n",
       "NO2(GT)        0.683343\n",
       "NOx(GT)        0.795028\n",
       "PT08.S5(O3)    0.854182\n",
       "PT08.S1(CO)    0.879288\n",
       "PT08.S2(NMHC)  0.915514\n",
       "C6H6(GT)       0.931078\n",
       "CO(GT)         1.000000"
      ]
     },
     "execution_count": 24,
     "metadata": {},
     "output_type": "execute_result"
    }
   ],
   "source": [
    "CORREL = df.corr()\n",
    "CORREL['CO(GT)'].to_frame().sort_values('CO(GT)')"
   ]
  },
  {
   "cell_type": "markdown",
   "metadata": {},
   "source": [
    "The largest correlation with CO (GT) occurs for C6H6 (GT) which is quite complete. Based on this variable, I fill in the deficiencies in CO (GT)."
   ]
  },
  {
   "cell_type": "code",
   "execution_count": 25,
   "metadata": {},
   "outputs": [],
   "source": [
    "df['CO(GT)'] = df.groupby('C6H6(GT)')['CO(GT)'].apply(lambda x: x.ffill().bfill())"
   ]
  },
  {
   "cell_type": "code",
   "execution_count": 26,
   "metadata": {},
   "outputs": [
    {
     "name": "stdout",
     "output_type": "stream",
     "text": [
      "missing value:  383\n"
     ]
    }
   ],
   "source": [
    "print('missing value: ',df['CO(GT)'].isnull().sum())"
   ]
  },
  {
   "cell_type": "code",
   "execution_count": 27,
   "metadata": {},
   "outputs": [],
   "source": [
    "df['CO(GT)'] = df.groupby('PT08.S1(CO)')['CO(GT)'].apply(lambda x: x.ffill().bfill())"
   ]
  },
  {
   "cell_type": "code",
   "execution_count": 28,
   "metadata": {},
   "outputs": [
    {
     "name": "stdout",
     "output_type": "stream",
     "text": [
      "missing value:  370\n"
     ]
    }
   ],
   "source": [
    "print('missing value: ',df['CO(GT)'].isnull().sum())"
   ]
  },
  {
   "cell_type": "markdown",
   "metadata": {},
   "source": [
    "Now I do simple refilling - the last good value."
   ]
  },
  {
   "cell_type": "code",
   "execution_count": 29,
   "metadata": {},
   "outputs": [],
   "source": [
    "df['CO(GT)'].fillna(method='ffill', inplace=True)   "
   ]
  },
  {
   "cell_type": "code",
   "execution_count": 30,
   "metadata": {},
   "outputs": [
    {
     "name": "stdout",
     "output_type": "stream",
     "text": [
      "missing value:  0\n"
     ]
    }
   ],
   "source": [
    "print('missing value: ',df['CO(GT)'].isnull().sum())"
   ]
  },
  {
   "cell_type": "markdown",
   "metadata": {},
   "source": [
    "### <span style=\"color:darkblue\">Filling gaps in the variable 'C6H6 (GT)'</span>"
   ]
  },
  {
   "cell_type": "code",
   "execution_count": 31,
   "metadata": {},
   "outputs": [
    {
     "name": "stdout",
     "output_type": "stream",
     "text": [
      "missing value:  366\n"
     ]
    }
   ],
   "source": [
    "print('missing value: ',df['C6H6(GT)'].isnull().sum())"
   ]
  },
  {
   "cell_type": "code",
   "execution_count": 32,
   "metadata": {},
   "outputs": [],
   "source": [
    "df['C6H6(GT)'] = df.groupby('CO(GT)')['C6H6(GT)'].apply(lambda x: x.ffill().bfill())"
   ]
  },
  {
   "cell_type": "code",
   "execution_count": 33,
   "metadata": {},
   "outputs": [
    {
     "name": "stdout",
     "output_type": "stream",
     "text": [
      "missing value:  0\n"
     ]
    }
   ],
   "source": [
    "print('missing value: ',df['C6H6(GT)'].isnull().sum())"
   ]
  },
  {
   "cell_type": "markdown",
   "metadata": {},
   "source": [
    "### <span style=\"color:darkblue\">Filling gaps in the variable 'NOx(GT)'</span>"
   ]
  },
  {
   "cell_type": "code",
   "execution_count": 34,
   "metadata": {},
   "outputs": [
    {
     "name": "stdout",
     "output_type": "stream",
     "text": [
      "brakuje wartości:  1639\n"
     ]
    }
   ],
   "source": [
    "print('brakuje wartości: ',df['NOx(GT)'].isnull().sum())"
   ]
  },
  {
   "cell_type": "code",
   "execution_count": 35,
   "metadata": {},
   "outputs": [
    {
     "data": {
      "text/html": [
       "<div>\n",
       "<style scoped>\n",
       "    .dataframe tbody tr th:only-of-type {\n",
       "        vertical-align: middle;\n",
       "    }\n",
       "\n",
       "    .dataframe tbody tr th {\n",
       "        vertical-align: top;\n",
       "    }\n",
       "\n",
       "    .dataframe thead th {\n",
       "        text-align: right;\n",
       "    }\n",
       "</style>\n",
       "<table border=\"1\" class=\"dataframe\">\n",
       "  <thead>\n",
       "    <tr style=\"text-align: right;\">\n",
       "      <th></th>\n",
       "      <th>NOx(GT)</th>\n",
       "    </tr>\n",
       "  </thead>\n",
       "  <tbody>\n",
       "    <tr>\n",
       "      <th>PT08.S3(NOx)</th>\n",
       "      <td>-0.655707</td>\n",
       "    </tr>\n",
       "    <tr>\n",
       "      <th>T</th>\n",
       "      <td>-0.269683</td>\n",
       "    </tr>\n",
       "    <tr>\n",
       "      <th>AH</th>\n",
       "      <td>-0.149323</td>\n",
       "    </tr>\n",
       "    <tr>\n",
       "      <th>RH</th>\n",
       "      <td>0.221032</td>\n",
       "    </tr>\n",
       "    <tr>\n",
       "      <th>PT08.S4(NO2)</th>\n",
       "      <td>0.233731</td>\n",
       "    </tr>\n",
       "    <tr>\n",
       "      <th>PT08.S2(NMHC)</th>\n",
       "      <td>0.704435</td>\n",
       "    </tr>\n",
       "    <tr>\n",
       "      <th>PT08.S1(CO)</th>\n",
       "      <td>0.713654</td>\n",
       "    </tr>\n",
       "    <tr>\n",
       "      <th>C6H6(GT)</th>\n",
       "      <td>0.718839</td>\n",
       "    </tr>\n",
       "    <tr>\n",
       "      <th>NO2(GT)</th>\n",
       "      <td>0.763111</td>\n",
       "    </tr>\n",
       "    <tr>\n",
       "      <th>PT08.S5(O3)</th>\n",
       "      <td>0.787046</td>\n",
       "    </tr>\n",
       "    <tr>\n",
       "      <th>CO(GT)</th>\n",
       "      <td>0.795028</td>\n",
       "    </tr>\n",
       "    <tr>\n",
       "      <th>NOx(GT)</th>\n",
       "      <td>1.000000</td>\n",
       "    </tr>\n",
       "  </tbody>\n",
       "</table>\n",
       "</div>"
      ],
      "text/plain": [
       "                NOx(GT)\n",
       "PT08.S3(NOx)  -0.655707\n",
       "T             -0.269683\n",
       "AH            -0.149323\n",
       "RH             0.221032\n",
       "PT08.S4(NO2)   0.233731\n",
       "PT08.S2(NMHC)  0.704435\n",
       "PT08.S1(CO)    0.713654\n",
       "C6H6(GT)       0.718839\n",
       "NO2(GT)        0.763111\n",
       "PT08.S5(O3)    0.787046\n",
       "CO(GT)         0.795028\n",
       "NOx(GT)        1.000000"
      ]
     },
     "execution_count": 35,
     "metadata": {},
     "output_type": "execute_result"
    }
   ],
   "source": [
    "CORREL['NOx(GT)'].to_frame().sort_values('NOx(GT)')"
   ]
  },
  {
   "cell_type": "code",
   "execution_count": 36,
   "metadata": {},
   "outputs": [],
   "source": [
    "df['NOx(GT)'] = df.groupby('CO(GT)')['NOx(GT)'].apply(lambda x: x.ffill().bfill())"
   ]
  },
  {
   "cell_type": "code",
   "execution_count": 37,
   "metadata": {},
   "outputs": [
    {
     "name": "stdout",
     "output_type": "stream",
     "text": [
      "missing value:  0\n"
     ]
    }
   ],
   "source": [
    "print('missing value: ',df['NOx(GT)'].isnull().sum())"
   ]
  },
  {
   "cell_type": "markdown",
   "metadata": {},
   "source": [
    "## <span style=\"color:darkblue\">Filling gaps in the variable 'C6H6 (GT)'</span>"
   ]
  },
  {
   "cell_type": "code",
   "execution_count": 38,
   "metadata": {},
   "outputs": [
    {
     "name": "stdout",
     "output_type": "stream",
     "text": [
      "missing value:  1642\n"
     ]
    }
   ],
   "source": [
    "print('missing value: ',df['NO2(GT)'].isnull().sum())"
   ]
  },
  {
   "cell_type": "code",
   "execution_count": 39,
   "metadata": {},
   "outputs": [
    {
     "data": {
      "text/html": [
       "<div>\n",
       "<style scoped>\n",
       "    .dataframe tbody tr th:only-of-type {\n",
       "        vertical-align: middle;\n",
       "    }\n",
       "\n",
       "    .dataframe tbody tr th {\n",
       "        vertical-align: top;\n",
       "    }\n",
       "\n",
       "    .dataframe thead th {\n",
       "        text-align: right;\n",
       "    }\n",
       "</style>\n",
       "<table border=\"1\" class=\"dataframe\">\n",
       "  <thead>\n",
       "    <tr style=\"text-align: right;\">\n",
       "      <th></th>\n",
       "      <th>NO2(GT)</th>\n",
       "    </tr>\n",
       "  </thead>\n",
       "  <tbody>\n",
       "    <tr>\n",
       "      <th>PT08.S3(NOx)</th>\n",
       "      <td>-0.652083</td>\n",
       "    </tr>\n",
       "    <tr>\n",
       "      <th>AH</th>\n",
       "      <td>-0.335022</td>\n",
       "    </tr>\n",
       "    <tr>\n",
       "      <th>T</th>\n",
       "      <td>-0.186533</td>\n",
       "    </tr>\n",
       "    <tr>\n",
       "      <th>RH</th>\n",
       "      <td>-0.091759</td>\n",
       "    </tr>\n",
       "    <tr>\n",
       "      <th>PT08.S4(NO2)</th>\n",
       "      <td>0.157360</td>\n",
       "    </tr>\n",
       "    <tr>\n",
       "      <th>C6H6(GT)</th>\n",
       "      <td>0.614474</td>\n",
       "    </tr>\n",
       "    <tr>\n",
       "      <th>PT08.S1(CO)</th>\n",
       "      <td>0.641529</td>\n",
       "    </tr>\n",
       "    <tr>\n",
       "      <th>PT08.S2(NMHC)</th>\n",
       "      <td>0.646245</td>\n",
       "    </tr>\n",
       "    <tr>\n",
       "      <th>CO(GT)</th>\n",
       "      <td>0.683343</td>\n",
       "    </tr>\n",
       "    <tr>\n",
       "      <th>PT08.S5(O3)</th>\n",
       "      <td>0.708128</td>\n",
       "    </tr>\n",
       "    <tr>\n",
       "      <th>NOx(GT)</th>\n",
       "      <td>0.763111</td>\n",
       "    </tr>\n",
       "    <tr>\n",
       "      <th>NO2(GT)</th>\n",
       "      <td>1.000000</td>\n",
       "    </tr>\n",
       "  </tbody>\n",
       "</table>\n",
       "</div>"
      ],
      "text/plain": [
       "                NO2(GT)\n",
       "PT08.S3(NOx)  -0.652083\n",
       "AH            -0.335022\n",
       "T             -0.186533\n",
       "RH            -0.091759\n",
       "PT08.S4(NO2)   0.157360\n",
       "C6H6(GT)       0.614474\n",
       "PT08.S1(CO)    0.641529\n",
       "PT08.S2(NMHC)  0.646245\n",
       "CO(GT)         0.683343\n",
       "PT08.S5(O3)    0.708128\n",
       "NOx(GT)        0.763111\n",
       "NO2(GT)        1.000000"
      ]
     },
     "execution_count": 39,
     "metadata": {},
     "output_type": "execute_result"
    }
   ],
   "source": [
    "CORREL['NO2(GT)'].to_frame().sort_values('NO2(GT)')"
   ]
  },
  {
   "cell_type": "code",
   "execution_count": 40,
   "metadata": {},
   "outputs": [],
   "source": [
    "df['NO2(GT)'] = df.groupby('PT08.S5(O3)')['NO2(GT)'].apply(lambda x: x.ffill().bfill())"
   ]
  },
  {
   "cell_type": "code",
   "execution_count": 41,
   "metadata": {},
   "outputs": [],
   "source": [
    "df['NO2(GT)'] = df.groupby('CO(GT)')['NO2(GT)'].apply(lambda x: x.ffill().bfill())"
   ]
  },
  {
   "cell_type": "code",
   "execution_count": 42,
   "metadata": {},
   "outputs": [
    {
     "name": "stdout",
     "output_type": "stream",
     "text": [
      "missing value:  0\n"
     ]
    }
   ],
   "source": [
    "print('missing value: ',df['NO2(GT)'].isnull().sum())"
   ]
  },
  {
   "cell_type": "code",
   "execution_count": 43,
   "metadata": {},
   "outputs": [
    {
     "data": {
      "text/plain": [
       "<matplotlib.axes._subplots.AxesSubplot at 0x18ad8fea080>"
      ]
     },
     "execution_count": 43,
     "metadata": {},
     "output_type": "execute_result"
    },
    {
     "data": {
      "image/png": "[encoded data removed]",
      "text/plain": [
       "<Figure size 432x288 with 1 Axes>"
      ]
     },
     "metadata": {},
     "output_type": "display_data"
    }
   ],
   "source": [
    "sns.heatmap(df.isnull(),yticklabels=False,cbar=False,cmap='YlGnBu')"
   ]
  },
  {
   "cell_type": "markdown",
   "metadata": {},
   "source": [
    "\n",
    "## <span style=\"color:darkblue\">I complete the records where the entire measuring device did not work.</span>\n",
    "In the drawing it can be seen as solid lines."
   ]
  },
  {
   "cell_type": "code",
   "execution_count": 44,
   "metadata": {},
   "outputs": [
    {
     "data": {
      "text/plain": [
       "(9357, 14)"
      ]
     },
     "execution_count": 44,
     "metadata": {},
     "output_type": "execute_result"
    }
   ],
   "source": [
    "df.shape"
   ]
  },
  {
   "cell_type": "code",
   "execution_count": 45,
   "metadata": {},
   "outputs": [],
   "source": [
    "df.fillna(method='ffill', inplace=True)"
   ]
  },
  {
   "cell_type": "code",
   "execution_count": 46,
   "metadata": {},
   "outputs": [
    {
     "data": {
      "text/plain": [
       "(9357, 14)"
      ]
     },
     "execution_count": 46,
     "metadata": {},
     "output_type": "execute_result"
    }
   ],
   "source": [
    "df.shape"
   ]
  },
  {
   "cell_type": "code",
   "execution_count": 47,
   "metadata": {},
   "outputs": [
    {
     "data": {
      "text/plain": [
       "<matplotlib.axes._subplots.AxesSubplot at 0x18ad95756d8>"
      ]
     },
     "execution_count": 47,
     "metadata": {},
     "output_type": "execute_result"
    },
    {
     "data": {
      "image/png": "[encoded data removed]",
      "text/plain": [
       "<Figure size 432x288 with 1 Axes>"
      ]
     },
     "metadata": {},
     "output_type": "display_data"
    }
   ],
   "source": [
    "sns.heatmap(df.isnull(),yticklabels=False,cbar=False,cmap='Reds')"
   ]
  },
  {
   "cell_type": "code",
   "execution_count": 48,
   "metadata": {},
   "outputs": [
    {
     "data": {
      "text/plain": [
       "Date             0\n",
       "Time             0\n",
       "CO(GT)           0\n",
       "PT08.S1(CO)      0\n",
       "C6H6(GT)         0\n",
       "PT08.S2(NMHC)    0\n",
       "NOx(GT)          0\n",
       "PT08.S3(NOx)     0\n",
       "NO2(GT)          0\n",
       "PT08.S4(NO2)     0\n",
       "PT08.S5(O3)      0\n",
       "T                0\n",
       "RH               0\n",
       "AH               0\n",
       "dtype: int64"
      ]
     },
     "execution_count": 48,
     "metadata": {},
     "output_type": "execute_result"
    }
   ],
   "source": [
    "df.isnull().sum()"
   ]
  },
  {
   "cell_type": "markdown",
   "metadata": {},
   "source": [
    "Data have been completed! In the next parts of this tutorial, we will carry out the process of building a linear regression model at TensorFlow.\n",
    "\n",
    "<span style=\"color:#f3f3f3\">Tutorial: Supplementing data for further analysis</span>"
   ]
  },
  {
   "cell_type": "markdown",
   "metadata": {},
   "source": [
    "Let's save the completed file to disk"
   ]
  },
  {
   "cell_type": "code",
   "execution_count": 53,
   "metadata": {},
   "outputs": [
    {
     "data": {
      "text/html": [
       "<div>\n",
       "<style scoped>\n",
       "    .dataframe tbody tr th:only-of-type {\n",
       "        vertical-align: middle;\n",
       "    }\n",
       "\n",
       "    .dataframe tbody tr th {\n",
       "        vertical-align: top;\n",
       "    }\n",
       "\n",
       "    .dataframe thead th {\n",
       "        text-align: right;\n",
       "    }\n",
       "</style>\n",
       "<table border=\"1\" class=\"dataframe\">\n",
       "  <thead>\n",
       "    <tr style=\"text-align: right;\">\n",
       "      <th></th>\n",
       "      <th>Unnamed: 0</th>\n",
       "      <th>Date</th>\n",
       "      <th>Time</th>\n",
       "      <th>CO(GT)</th>\n",
       "      <th>PT08.S1(CO)</th>\n",
       "      <th>C6H6(GT)</th>\n",
       "      <th>PT08.S2(NMHC)</th>\n",
       "      <th>NOx(GT)</th>\n",
       "      <th>PT08.S3(NOx)</th>\n",
       "      <th>NO2(GT)</th>\n",
       "      <th>PT08.S4(NO2)</th>\n",
       "      <th>PT08.S5(O3)</th>\n",
       "      <th>T</th>\n",
       "      <th>RH</th>\n",
       "      <th>AH</th>\n",
       "    </tr>\n",
       "  </thead>\n",
       "  <tbody>\n",
       "    <tr>\n",
       "      <th>0</th>\n",
       "      <td>0</td>\n",
       "      <td>10/03/2004</td>\n",
       "      <td>18.00.00</td>\n",
       "      <td>2.6</td>\n",
       "      <td>1360.0</td>\n",
       "      <td>11.9</td>\n",
       "      <td>1046.0</td>\n",
       "      <td>166.0</td>\n",
       "      <td>1056.0</td>\n",
       "      <td>113.0</td>\n",
       "      <td>1692.0</td>\n",
       "      <td>1268.0</td>\n",
       "      <td>13.6</td>\n",
       "      <td>48.9</td>\n",
       "      <td>0.7578</td>\n",
       "    </tr>\n",
       "    <tr>\n",
       "      <th>1</th>\n",
       "      <td>1</td>\n",
       "      <td>10/03/2004</td>\n",
       "      <td>19.00.00</td>\n",
       "      <td>2.0</td>\n",
       "      <td>1292.0</td>\n",
       "      <td>9.4</td>\n",
       "      <td>955.0</td>\n",
       "      <td>103.0</td>\n",
       "      <td>1174.0</td>\n",
       "      <td>92.0</td>\n",
       "      <td>1559.0</td>\n",
       "      <td>972.0</td>\n",
       "      <td>13.3</td>\n",
       "      <td>47.7</td>\n",
       "      <td>0.7255</td>\n",
       "    </tr>\n",
       "    <tr>\n",
       "      <th>2</th>\n",
       "      <td>2</td>\n",
       "      <td>10/03/2004</td>\n",
       "      <td>20.00.00</td>\n",
       "      <td>2.2</td>\n",
       "      <td>1402.0</td>\n",
       "      <td>9.0</td>\n",
       "      <td>939.0</td>\n",
       "      <td>131.0</td>\n",
       "      <td>1140.0</td>\n",
       "      <td>114.0</td>\n",
       "      <td>1555.0</td>\n",
       "      <td>1074.0</td>\n",
       "      <td>11.9</td>\n",
       "      <td>54.0</td>\n",
       "      <td>0.7502</td>\n",
       "    </tr>\n",
       "    <tr>\n",
       "      <th>3</th>\n",
       "      <td>3</td>\n",
       "      <td>10/03/2004</td>\n",
       "      <td>21.00.00</td>\n",
       "      <td>2.2</td>\n",
       "      <td>1376.0</td>\n",
       "      <td>9.2</td>\n",
       "      <td>948.0</td>\n",
       "      <td>172.0</td>\n",
       "      <td>1092.0</td>\n",
       "      <td>122.0</td>\n",
       "      <td>1584.0</td>\n",
       "      <td>1203.0</td>\n",
       "      <td>11.0</td>\n",
       "      <td>60.0</td>\n",
       "      <td>0.7867</td>\n",
       "    </tr>\n",
       "    <tr>\n",
       "      <th>4</th>\n",
       "      <td>4</td>\n",
       "      <td>10/03/2004</td>\n",
       "      <td>22.00.00</td>\n",
       "      <td>1.6</td>\n",
       "      <td>1272.0</td>\n",
       "      <td>6.5</td>\n",
       "      <td>836.0</td>\n",
       "      <td>131.0</td>\n",
       "      <td>1205.0</td>\n",
       "      <td>116.0</td>\n",
       "      <td>1490.0</td>\n",
       "      <td>1110.0</td>\n",
       "      <td>11.2</td>\n",
       "      <td>59.6</td>\n",
       "      <td>0.7888</td>\n",
       "    </tr>\n",
       "    <tr>\n",
       "      <th>...</th>\n",
       "      <td>...</td>\n",
       "      <td>...</td>\n",
       "      <td>...</td>\n",
       "      <td>...</td>\n",
       "      <td>...</td>\n",
       "      <td>...</td>\n",
       "      <td>...</td>\n",
       "      <td>...</td>\n",
       "      <td>...</td>\n",
       "      <td>...</td>\n",
       "      <td>...</td>\n",
       "      <td>...</td>\n",
       "      <td>...</td>\n",
       "      <td>...</td>\n",
       "      <td>...</td>\n",
       "    </tr>\n",
       "    <tr>\n",
       "      <th>9352</th>\n",
       "      <td>9352</td>\n",
       "      <td>04/04/2005</td>\n",
       "      <td>10.00.00</td>\n",
       "      <td>3.1</td>\n",
       "      <td>1314.0</td>\n",
       "      <td>13.5</td>\n",
       "      <td>1101.0</td>\n",
       "      <td>472.0</td>\n",
       "      <td>539.0</td>\n",
       "      <td>190.0</td>\n",
       "      <td>1374.0</td>\n",
       "      <td>1729.0</td>\n",
       "      <td>21.9</td>\n",
       "      <td>29.3</td>\n",
       "      <td>0.7568</td>\n",
       "    </tr>\n",
       "    <tr>\n",
       "      <th>9353</th>\n",
       "      <td>9353</td>\n",
       "      <td>04/04/2005</td>\n",
       "      <td>11.00.00</td>\n",
       "      <td>2.4</td>\n",
       "      <td>1163.0</td>\n",
       "      <td>11.4</td>\n",
       "      <td>1027.0</td>\n",
       "      <td>353.0</td>\n",
       "      <td>604.0</td>\n",
       "      <td>179.0</td>\n",
       "      <td>1264.0</td>\n",
       "      <td>1269.0</td>\n",
       "      <td>24.3</td>\n",
       "      <td>23.7</td>\n",
       "      <td>0.7119</td>\n",
       "    </tr>\n",
       "    <tr>\n",
       "      <th>9354</th>\n",
       "      <td>9354</td>\n",
       "      <td>04/04/2005</td>\n",
       "      <td>12.00.00</td>\n",
       "      <td>2.4</td>\n",
       "      <td>1142.0</td>\n",
       "      <td>12.4</td>\n",
       "      <td>1063.0</td>\n",
       "      <td>293.0</td>\n",
       "      <td>603.0</td>\n",
       "      <td>175.0</td>\n",
       "      <td>1241.0</td>\n",
       "      <td>1092.0</td>\n",
       "      <td>26.9</td>\n",
       "      <td>18.3</td>\n",
       "      <td>0.6406</td>\n",
       "    </tr>\n",
       "    <tr>\n",
       "      <th>9355</th>\n",
       "      <td>9355</td>\n",
       "      <td>04/04/2005</td>\n",
       "      <td>13.00.00</td>\n",
       "      <td>2.1</td>\n",
       "      <td>1003.0</td>\n",
       "      <td>9.5</td>\n",
       "      <td>961.0</td>\n",
       "      <td>235.0</td>\n",
       "      <td>702.0</td>\n",
       "      <td>156.0</td>\n",
       "      <td>1041.0</td>\n",
       "      <td>770.0</td>\n",
       "      <td>28.3</td>\n",
       "      <td>13.5</td>\n",
       "      <td>0.5139</td>\n",
       "    </tr>\n",
       "    <tr>\n",
       "      <th>9356</th>\n",
       "      <td>9356</td>\n",
       "      <td>04/04/2005</td>\n",
       "      <td>14.00.00</td>\n",
       "      <td>2.2</td>\n",
       "      <td>1071.0</td>\n",
       "      <td>11.9</td>\n",
       "      <td>1047.0</td>\n",
       "      <td>265.0</td>\n",
       "      <td>654.0</td>\n",
       "      <td>168.0</td>\n",
       "      <td>1129.0</td>\n",
       "      <td>816.0</td>\n",
       "      <td>28.5</td>\n",
       "      <td>13.1</td>\n",
       "      <td>0.5028</td>\n",
       "    </tr>\n",
       "  </tbody>\n",
       "</table>\n",
       "<p>9357 rows × 15 columns</p>\n",
       "</div>"
      ],
      "text/plain": [
       "      Unnamed: 0        Date      Time  CO(GT)  PT08.S1(CO)  C6H6(GT)  \\\n",
       "0              0  10/03/2004  18.00.00     2.6       1360.0      11.9   \n",
       "1              1  10/03/2004  19.00.00     2.0       1292.0       9.4   \n",
       "2              2  10/03/2004  20.00.00     2.2       1402.0       9.0   \n",
       "3              3  10/03/2004  21.00.00     2.2       1376.0       9.2   \n",
       "4              4  10/03/2004  22.00.00     1.6       1272.0       6.5   \n",
       "...          ...         ...       ...     ...          ...       ...   \n",
       "9352        9352  04/04/2005  10.00.00     3.1       1314.0      13.5   \n",
       "9353        9353  04/04/2005  11.00.00     2.4       1163.0      11.4   \n",
       "9354        9354  04/04/2005  12.00.00     2.4       1142.0      12.4   \n",
       "9355        9355  04/04/2005  13.00.00     2.1       1003.0       9.5   \n",
       "9356        9356  04/04/2005  14.00.00     2.2       1071.0      11.9   \n",
       "\n",
       "      PT08.S2(NMHC)  NOx(GT)  PT08.S3(NOx)  NO2(GT)  PT08.S4(NO2)  \\\n",
       "0            1046.0    166.0        1056.0    113.0        1692.0   \n",
       "1             955.0    103.0        1174.0     92.0        1559.0   \n",
       "2             939.0    131.0        1140.0    114.0        1555.0   \n",
       "3             948.0    172.0        1092.0    122.0        1584.0   \n",
       "4             836.0    131.0        1205.0    116.0        1490.0   \n",
       "...             ...      ...           ...      ...           ...   \n",
       "9352         1101.0    472.0         539.0    190.0        1374.0   \n",
       "9353         1027.0    353.0         604.0    179.0        1264.0   \n",
       "9354         1063.0    293.0         603.0    175.0        1241.0   \n",
       "9355          961.0    235.0         702.0    156.0        1041.0   \n",
       "9356         1047.0    265.0         654.0    168.0        1129.0   \n",
       "\n",
       "      PT08.S5(O3)     T    RH      AH  \n",
       "0          1268.0  13.6  48.9  0.7578  \n",
       "1           972.0  13.3  47.7  0.7255  \n",
       "2          1074.0  11.9  54.0  0.7502  \n",
       "3          1203.0  11.0  60.0  0.7867  \n",
       "4          1110.0  11.2  59.6  0.7888  \n",
       "...           ...   ...   ...     ...  \n",
       "9352       1729.0  21.9  29.3  0.7568  \n",
       "9353       1269.0  24.3  23.7  0.7119  \n",
       "9354       1092.0  26.9  18.3  0.6406  \n",
       "9355        770.0  28.3  13.5  0.5139  \n",
       "9356        816.0  28.5  13.1  0.5028  \n",
       "\n",
       "[9357 rows x 15 columns]"
      ]
     },
     "execution_count": 53,
     "metadata": {},
     "output_type": "execute_result"
    }
   ],
   "source": [
    "df.to_csv('c:/TF/AirQ_filled.csv')\n",
    "df2 = pd.read_csv('c:/TF/AirQ_filled.csv')\n",
    "df2.head(3)"
   ]
  }
 ],
 "metadata": {
  "kernelspec": {
   "display_name": "Python 3",
   "language": "python",
   "name": "python3"
  },
  "language_info": {
   "codemirror_mode": {
    "name": "ipython",
    "version": 3
   },
   "file_extension": ".py",
   "mimetype": "text/x-python",
   "name": "python",
   "nbconvert_exporter": "python",
   "pygments_lexer": "ipython3",
   "version": "3.6.9"
  }
 },
 "nbformat": 4,
 "nbformat_minor": 2
}
