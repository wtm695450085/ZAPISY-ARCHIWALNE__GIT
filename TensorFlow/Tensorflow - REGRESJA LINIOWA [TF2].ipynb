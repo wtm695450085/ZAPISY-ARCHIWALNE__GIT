{
 "cells": [
  {
   "cell_type": "markdown",
   "metadata": {},
   "source": [
    "# <span style=\"color:DARKred\">PRACA BAZOWA TF3: Tensorflow - REGRESJA LINIOWA [TF3] </span>\n",
    "# Ćwiczenia na podstawie samouczka GURU99\n",
    "\n",
    "na podstawie: https://www.guru99.com/linear-regression-for-machine-learning.html"
   ]
  },
  {
   "cell_type": "markdown",
   "metadata": {},
   "source": [
    "Zmienna\tOpis:\n",
    "\n",
    "    zn\tOdsetek gruntów mieszkalnych przeznaczonych pod działki o powierzchni ponad 25 000 stóp kwadratowych\n",
    "    indus\tOdsetek niedetalicznych akrów biznesowych na miasto.\n",
    "    nox\tstężenie tlenków azotu\n",
    "    rm\tśrednia liczba pokoi na mieszkanie\n",
    "    wiek\todsetek jednostek zajmowanych przez właścicieli zbudowanych przed 1940 r\n",
    "    dis\tważone odległości do pięciu centrów zatrudnienia w Bostonie\n",
    "    podatek\tpełnowartościowa stawka podatku od nieruchomości za 10 000 dolarów\n",
    "    ptratio\tstosunek liczby uczniów do nauczycieli według miasta\n",
    "    medv\tMediana wartości domów zajmowanych przez właścicieli w tysiącach dolarów\n",
    "\n",
    "    zaciskanie\twskaźnik przestępczości na mieszkańca według miasta\n",
    "    chas\tZmienna zmienna Charles River (1 jeśli ogranicza rzekę; 0 w przeciwnym razie)\n",
    "    b\todsetek czarnych w mieście"
   ]
  },
  {
   "cell_type": "code",
   "execution_count": 1,
   "metadata": {},
   "outputs": [
    {
     "name": "stderr",
     "output_type": "stream",
     "text": [
      "C:\\ProgramData\\Anaconda3\\envs\\OLD_TF\\lib\\site-packages\\tensorflow\\python\\framework\\dtypes.py:493: FutureWarning: Passing (type, 1) or '1type' as a synonym of type is deprecated; in a future version of numpy, it will be understood as (type, (1,)) / '(1,)type'.\n",
      "  _np_qint8 = np.dtype([(\"qint8\", np.int8, 1)])\n",
      "C:\\ProgramData\\Anaconda3\\envs\\OLD_TF\\lib\\site-packages\\tensorflow\\python\\framework\\dtypes.py:494: FutureWarning: Passing (type, 1) or '1type' as a synonym of type is deprecated; in a future version of numpy, it will be understood as (type, (1,)) / '(1,)type'.\n",
      "  _np_quint8 = np.dtype([(\"quint8\", np.uint8, 1)])\n",
      "C:\\ProgramData\\Anaconda3\\envs\\OLD_TF\\lib\\site-packages\\tensorflow\\python\\framework\\dtypes.py:495: FutureWarning: Passing (type, 1) or '1type' as a synonym of type is deprecated; in a future version of numpy, it will be understood as (type, (1,)) / '(1,)type'.\n",
      "  _np_qint16 = np.dtype([(\"qint16\", np.int16, 1)])\n",
      "C:\\ProgramData\\Anaconda3\\envs\\OLD_TF\\lib\\site-packages\\tensorflow\\python\\framework\\dtypes.py:496: FutureWarning: Passing (type, 1) or '1type' as a synonym of type is deprecated; in a future version of numpy, it will be understood as (type, (1,)) / '(1,)type'.\n",
      "  _np_quint16 = np.dtype([(\"quint16\", np.uint16, 1)])\n",
      "C:\\ProgramData\\Anaconda3\\envs\\OLD_TF\\lib\\site-packages\\tensorflow\\python\\framework\\dtypes.py:497: FutureWarning: Passing (type, 1) or '1type' as a synonym of type is deprecated; in a future version of numpy, it will be understood as (type, (1,)) / '(1,)type'.\n",
      "  _np_qint32 = np.dtype([(\"qint32\", np.int32, 1)])\n",
      "C:\\ProgramData\\Anaconda3\\envs\\OLD_TF\\lib\\site-packages\\tensorflow\\python\\framework\\dtypes.py:502: FutureWarning: Passing (type, 1) or '1type' as a synonym of type is deprecated; in a future version of numpy, it will be understood as (type, (1,)) / '(1,)type'.\n",
      "  np_resource = np.dtype([(\"resource\", np.ubyte, 1)])\n"
     ]
    }
   ],
   "source": [
    "import pandas as pd\n",
    "from sklearn import datasets\n",
    "import tensorflow as tf\n",
    "from sklearn.datasets import load_boston\n",
    "import numpy as np\n",
    "import seaborn as sns"
   ]
  },
  {
   "cell_type": "markdown",
   "metadata": {},
   "source": [
    "ściągam dane - bo ta biblioteka jest zaszyta w sklearn"
   ]
  },
  {
   "cell_type": "code",
   "execution_count": 2,
   "metadata": {},
   "outputs": [
    {
     "data": {
      "text/html": [
       "<div>\n",
       "<style scoped>\n",
       "    .dataframe tbody tr th:only-of-type {\n",
       "        vertical-align: middle;\n",
       "    }\n",
       "\n",
       "    .dataframe tbody tr th {\n",
       "        vertical-align: top;\n",
       "    }\n",
       "\n",
       "    .dataframe thead th {\n",
       "        text-align: right;\n",
       "    }\n",
       "</style>\n",
       "<table border=\"1\" class=\"dataframe\">\n",
       "  <thead>\n",
       "    <tr style=\"text-align: right;\">\n",
       "      <th></th>\n",
       "      <th>0</th>\n",
       "      <th>1</th>\n",
       "      <th>2</th>\n",
       "      <th>3</th>\n",
       "      <th>4</th>\n",
       "      <th>5</th>\n",
       "      <th>6</th>\n",
       "      <th>7</th>\n",
       "      <th>8</th>\n",
       "      <th>9</th>\n",
       "      <th>10</th>\n",
       "      <th>11</th>\n",
       "      <th>12</th>\n",
       "    </tr>\n",
       "  </thead>\n",
       "  <tbody>\n",
       "    <tr>\n",
       "      <th>0</th>\n",
       "      <td>0.00632</td>\n",
       "      <td>18.0</td>\n",
       "      <td>2.31</td>\n",
       "      <td>0.0</td>\n",
       "      <td>0.538</td>\n",
       "      <td>6.575</td>\n",
       "      <td>65.2</td>\n",
       "      <td>4.0900</td>\n",
       "      <td>1.0</td>\n",
       "      <td>296.0</td>\n",
       "      <td>15.3</td>\n",
       "      <td>396.90</td>\n",
       "      <td>4.98</td>\n",
       "    </tr>\n",
       "    <tr>\n",
       "      <th>1</th>\n",
       "      <td>0.02731</td>\n",
       "      <td>0.0</td>\n",
       "      <td>7.07</td>\n",
       "      <td>0.0</td>\n",
       "      <td>0.469</td>\n",
       "      <td>6.421</td>\n",
       "      <td>78.9</td>\n",
       "      <td>4.9671</td>\n",
       "      <td>2.0</td>\n",
       "      <td>242.0</td>\n",
       "      <td>17.8</td>\n",
       "      <td>396.90</td>\n",
       "      <td>9.14</td>\n",
       "    </tr>\n",
       "    <tr>\n",
       "      <th>2</th>\n",
       "      <td>0.02729</td>\n",
       "      <td>0.0</td>\n",
       "      <td>7.07</td>\n",
       "      <td>0.0</td>\n",
       "      <td>0.469</td>\n",
       "      <td>7.185</td>\n",
       "      <td>61.1</td>\n",
       "      <td>4.9671</td>\n",
       "      <td>2.0</td>\n",
       "      <td>242.0</td>\n",
       "      <td>17.8</td>\n",
       "      <td>392.83</td>\n",
       "      <td>4.03</td>\n",
       "    </tr>\n",
       "  </tbody>\n",
       "</table>\n",
       "</div>"
      ],
      "text/plain": [
       "         0     1     2    3      4      5     6       7    8      9    10  \\\n",
       "0  0.00632  18.0  2.31  0.0  0.538  6.575  65.2  4.0900  1.0  296.0  15.3   \n",
       "1  0.02731   0.0  7.07  0.0  0.469  6.421  78.9  4.9671  2.0  242.0  17.8   \n",
       "2  0.02729   0.0  7.07  0.0  0.469  7.185  61.1  4.9671  2.0  242.0  17.8   \n",
       "\n",
       "       11    12  \n",
       "0  396.90  4.98  \n",
       "1  396.90  9.14  \n",
       "2  392.83  4.03  "
      ]
     },
     "execution_count": 2,
     "metadata": {},
     "output_type": "execute_result"
    }
   ],
   "source": [
    "boston = load_boston()\n",
    "df = pd.DataFrame(boston.data)\n",
    "df.head(3)"
   ]
  },
  {
   "cell_type": "markdown",
   "metadata": {},
   "source": [
    "Oddzielnie są składowane nazwy kolumn"
   ]
  },
  {
   "cell_type": "code",
   "execution_count": 3,
   "metadata": {},
   "outputs": [
    {
     "data": {
      "text/plain": [
       "array(['CRIM', 'ZN', 'INDUS', 'CHAS', 'NOX', 'RM', 'AGE', 'DIS', 'RAD',\n",
       "       'TAX', 'PTRATIO', 'B', 'LSTAT'], dtype='<U7')"
      ]
     },
     "execution_count": 3,
     "metadata": {},
     "output_type": "execute_result"
    }
   ],
   "source": [
    "boston.feature_names"
   ]
  },
  {
   "cell_type": "markdown",
   "metadata": {},
   "source": [
    "Teraz podstawiamy te nazwy kolumn"
   ]
  },
  {
   "cell_type": "code",
   "execution_count": 4,
   "metadata": {},
   "outputs": [
    {
     "data": {
      "text/html": [
       "<div>\n",
       "<style scoped>\n",
       "    .dataframe tbody tr th:only-of-type {\n",
       "        vertical-align: middle;\n",
       "    }\n",
       "\n",
       "    .dataframe tbody tr th {\n",
       "        vertical-align: top;\n",
       "    }\n",
       "\n",
       "    .dataframe thead th {\n",
       "        text-align: right;\n",
       "    }\n",
       "</style>\n",
       "<table border=\"1\" class=\"dataframe\">\n",
       "  <thead>\n",
       "    <tr style=\"text-align: right;\">\n",
       "      <th></th>\n",
       "      <th>CRIM</th>\n",
       "      <th>ZN</th>\n",
       "      <th>INDUS</th>\n",
       "      <th>CHAS</th>\n",
       "      <th>NOX</th>\n",
       "      <th>RM</th>\n",
       "      <th>AGE</th>\n",
       "      <th>DIS</th>\n",
       "      <th>RAD</th>\n",
       "      <th>TAX</th>\n",
       "      <th>PTRATIO</th>\n",
       "      <th>B</th>\n",
       "      <th>LSTAT</th>\n",
       "      <th>PRICE</th>\n",
       "    </tr>\n",
       "  </thead>\n",
       "  <tbody>\n",
       "    <tr>\n",
       "      <th>0</th>\n",
       "      <td>0.00632</td>\n",
       "      <td>18.0</td>\n",
       "      <td>2.31</td>\n",
       "      <td>0.0</td>\n",
       "      <td>0.538</td>\n",
       "      <td>6.575</td>\n",
       "      <td>65.2</td>\n",
       "      <td>4.0900</td>\n",
       "      <td>1.0</td>\n",
       "      <td>296.0</td>\n",
       "      <td>15.3</td>\n",
       "      <td>396.9</td>\n",
       "      <td>4.98</td>\n",
       "      <td>24.0</td>\n",
       "    </tr>\n",
       "    <tr>\n",
       "      <th>1</th>\n",
       "      <td>0.02731</td>\n",
       "      <td>0.0</td>\n",
       "      <td>7.07</td>\n",
       "      <td>0.0</td>\n",
       "      <td>0.469</td>\n",
       "      <td>6.421</td>\n",
       "      <td>78.9</td>\n",
       "      <td>4.9671</td>\n",
       "      <td>2.0</td>\n",
       "      <td>242.0</td>\n",
       "      <td>17.8</td>\n",
       "      <td>396.9</td>\n",
       "      <td>9.14</td>\n",
       "      <td>21.6</td>\n",
       "    </tr>\n",
       "  </tbody>\n",
       "</table>\n",
       "</div>"
      ],
      "text/plain": [
       "      CRIM    ZN  INDUS  CHAS    NOX     RM   AGE     DIS  RAD    TAX  \\\n",
       "0  0.00632  18.0   2.31   0.0  0.538  6.575  65.2  4.0900  1.0  296.0   \n",
       "1  0.02731   0.0   7.07   0.0  0.469  6.421  78.9  4.9671  2.0  242.0   \n",
       "\n",
       "   PTRATIO      B  LSTAT  PRICE  \n",
       "0     15.3  396.9   4.98   24.0  \n",
       "1     17.8  396.9   9.14   21.6  "
      ]
     },
     "execution_count": 4,
     "metadata": {},
     "output_type": "execute_result"
    }
   ],
   "source": [
    "df.columns = boston.feature_names\n",
    "df['PRICE'] = boston.target\n",
    "df.head(2)"
   ]
  },
  {
   "cell_type": "markdown",
   "metadata": {},
   "source": [
    "Mapuje kolumnę CHAS"
   ]
  },
  {
   "cell_type": "code",
   "execution_count": 5,
   "metadata": {},
   "outputs": [
    {
     "data": {
      "text/plain": [
       "0    no\n",
       "1    no\n",
       "2    no\n",
       "3    no\n",
       "4    no\n",
       "Name: CHAS, dtype: object"
      ]
     },
     "execution_count": 5,
     "metadata": {},
     "output_type": "execute_result"
    }
   ],
   "source": [
    "df['CHAS'] = df['CHAS'].map({1:'yes', 0:'no'})\n",
    "df['CHAS'].head(5)"
   ]
  },
  {
   "cell_type": "markdown",
   "metadata": {},
   "source": [
    "Dzielimy zbiór na treningowy i testowy"
   ]
  },
  {
   "cell_type": "code",
   "execution_count": 6,
   "metadata": {},
   "outputs": [],
   "source": [
    "df_train=df.sample(frac=0.8,random_state=200)\n",
    "df_test=df.drop(df_train.index)"
   ]
  },
  {
   "cell_type": "code",
   "execution_count": 7,
   "metadata": {},
   "outputs": [
    {
     "name": "stdout",
     "output_type": "stream",
     "text": [
      "(405, 14) (101, 14)\n"
     ]
    }
   ],
   "source": [
    "print(df_train.shape, df_test.shape)"
   ]
  },
  {
   "cell_type": "code",
   "execution_count": 8,
   "metadata": {},
   "outputs": [
    {
     "data": {
      "image/png": "[encoded data removed]",
      "text/plain": [
       "<Figure size 450.875x360 with 1 Axes>"
      ]
     },
     "metadata": {
      "needs_background": "light"
     },
     "output_type": "display_data"
    }
   ],
   "source": [
    "## Check non linearity with important features\n",
    "df['Q_PRICE'] =  pd.qcut(df['PRICE'], 4, labels=[\"Lowest\", \"Low\", \"Upper\", \"upper_plus\"])\n",
    "## Show non linearity between RM and LSTAT\n",
    "ax = sns.lmplot(x=\"DIS\", y=\"INDUS\", hue=\"Q_PRICE\", data=df, fit_reg = False,palette=\"Set3\")"
   ]
  },
  {
   "cell_type": "markdown",
   "metadata": {},
   "source": [
    "## Preparation data - STANDARYZACJA\n",
    "Robier funkcję ponieważ to skróci kod"
   ]
  },
  {
   "cell_type": "code",
   "execution_count": 9,
   "metadata": {},
   "outputs": [],
   "source": [
    "from sklearn import preprocessing\n",
    "\n",
    "def standardize_data(df): \n",
    "    # właściwa standaryzacja - w wyniku dostajemy array\n",
    "    X_scaled = preprocessing.scale(df[['CRIM', 'ZN', 'INDUS', 'NOX', 'RM', 'AGE', 'DIS', 'RAD',\n",
    "       'TAX', 'PTRATIO', 'B', 'LSTAT']])\n",
    "    \n",
    "    # Ze zeskalowanych danych robimy DataFrame\n",
    "    X_scaled_df = pd.DataFrame(X_scaled, columns = ['CRIM', 'ZN', 'INDUS', 'NOX', 'RM', 'AGE', 'DIS', 'RAD',\n",
    "       'TAX', 'PTRATIO', 'B', 'LSTAT'])\n",
    "    # dołaczamy kolumny CHAS i PRICE\n",
    "    df_scale = pd.concat([X_scaled_df,\n",
    "                       df['CHAS'],\n",
    "                       df['PRICE']],axis=1, join='inner')\n",
    "    return df_scale"
   ]
  },
  {
   "cell_type": "markdown",
   "metadata": {},
   "source": [
    "Możesz użyć tej funkcji do zbudowania skalowanego zestawu TRENINGOWEGO I TESTOWEGO."
   ]
  },
  {
   "cell_type": "code",
   "execution_count": 10,
   "metadata": {},
   "outputs": [],
   "source": [
    "df_train_scale = standardize_data(df_train)\n",
    "df_test_scale = standardize_data(df_test)"
   ]
  },
  {
   "cell_type": "markdown",
   "metadata": {},
   "source": [
    "W statystyce standaryzacja to proces umieszczania różnych zmiennych w tej samej skali. Ten proces umożliwia porównanie wyników między różnymi typami zmiennych. Zazwyczaj w celu standaryzacji zmiennych oblicza się średnią i odchylenie standardowe dla zmiennej. Następnie dla każdej zaobserwowanej wartości zmiennej odejmuje się średnią i dzieli przez odchylenie standardowe.\n",
    "\n",
    "In statistics, standardization is the process of putting different variables on the same scale. This process allows you to compare scores between different types of variables. Typically, to standardize variables, you calculate the mean and standard deviation for a variable. Then, for each observed value of the variable, you subtract the mean and divide by the standard deviation. https://statisticsbyjim.com/glossary/standardization/\n",
    "\n",
    "\n",
    "Dlaczego powinniśmy standaryzować zmienne?\n",
    "1. ujednolicenie zmiennych może ujawnić istotne ustalenia, których w innym przypadku byś nie zauważył!\n",
    "2."
   ]
  },
  {
   "cell_type": "markdown",
   "metadata": {},
   "source": [
    "### Multicollinearity\n",
    "\n",
    "<span style=\"color:Blue\">Collinearity</span> is a linear association between two explanatory variables.\n",
    "\n",
    "<span style=\"color:Blue\">Multicollinearity</span> refers to a situation in which two or more explanatory variables in a multiple regression model are highly linearly related.\n",
    "\n",
    "Multicollinearity does not reduce the predictive power or reliability of the model as a whole, at least within the sample data set; it only affects calculations regarding individual predictors. That is, a multivariate regression model with collinear predictors can indicate how well the entire bundle of predictors predicts the outcome variable, but it may not give valid results about any individual predictor, or about which predictors are redundant with respect to others.\n",
    "https://en.wikipedia.org/wiki/Multicollinearity\n",
    "\n",
    "The presence of multicollinearity doesn't affect the efficiency of extrapolating the fitted model to new data provided that the predictor variables follow the same pattern of multicollinearity in the new data as in the data on which the regression model is based.\n",
    "\n"
   ]
  },
  {
   "cell_type": "markdown",
   "metadata": {},
   "source": [
    "### STANDARYZACJA - Co robi ta funkcja?\n",
    "\n",
    "sklearn.preprocessing - Standaryzuj zestaw danych wzdłauż dowolnej osi\n",
    "\n",
    "Zwykle standaryzacja odnosi się do procesu odejmowania średniej i dzielenia przez odchylenie standardowe."
   ]
  },
  {
   "cell_type": "code",
   "execution_count": 11,
   "metadata": {},
   "outputs": [
    {
     "data": {
      "text/plain": [
       "array([[-0.41978194,  0.28482986, -1.2879095 , ..., -1.45900038,\n",
       "         0.44105193, -1.0755623 ],\n",
       "       [-0.41733926, -0.48772236, -0.59338101, ..., -0.30309415,\n",
       "         0.44105193, -0.49243937],\n",
       "       [-0.41734159, -0.48772236, -0.59338101, ..., -0.30309415,\n",
       "         0.39642699, -1.2087274 ],\n",
       "       ...,\n",
       "       [-0.41344658, -0.48772236,  0.11573841, ...,  1.17646583,\n",
       "         0.44105193, -0.98304761],\n",
       "       [-0.40776407, -0.48772236,  0.11573841, ...,  1.17646583,\n",
       "         0.4032249 , -0.86530163],\n",
       "       [-0.41500016, -0.48772236,  0.11573841, ...,  1.17646583,\n",
       "         0.44105193, -0.66905833]])"
      ]
     },
     "execution_count": 11,
     "metadata": {},
     "output_type": "execute_result"
    }
   ],
   "source": [
    "X_scaled = preprocessing.scale(df[['CRIM', 'ZN', 'INDUS', 'NOX', 'RM', 'AGE', 'DIS', 'RAD',\n",
    "       'TAX', 'PTRATIO', 'B', 'LSTAT']])\n",
    "X_scaled"
   ]
  },
  {
   "cell_type": "code",
   "execution_count": 12,
   "metadata": {},
   "outputs": [
    {
     "data": {
      "text/html": [
       "<div>\n",
       "<style scoped>\n",
       "    .dataframe tbody tr th:only-of-type {\n",
       "        vertical-align: middle;\n",
       "    }\n",
       "\n",
       "    .dataframe tbody tr th {\n",
       "        vertical-align: top;\n",
       "    }\n",
       "\n",
       "    .dataframe thead th {\n",
       "        text-align: right;\n",
       "    }\n",
       "</style>\n",
       "<table border=\"1\" class=\"dataframe\">\n",
       "  <thead>\n",
       "    <tr style=\"text-align: right;\">\n",
       "      <th></th>\n",
       "      <th>CRIM</th>\n",
       "      <th>ZN</th>\n",
       "      <th>INDUS</th>\n",
       "      <th>NOX</th>\n",
       "      <th>RM</th>\n",
       "      <th>AGE</th>\n",
       "      <th>DIS</th>\n",
       "      <th>RAD</th>\n",
       "      <th>TAX</th>\n",
       "      <th>PTRATIO</th>\n",
       "      <th>B</th>\n",
       "      <th>LSTAT</th>\n",
       "    </tr>\n",
       "  </thead>\n",
       "  <tbody>\n",
       "    <tr>\n",
       "      <th>0</th>\n",
       "      <td>-0.419782</td>\n",
       "      <td>0.284830</td>\n",
       "      <td>-1.287909</td>\n",
       "      <td>-0.144217</td>\n",
       "      <td>0.413672</td>\n",
       "      <td>-0.120013</td>\n",
       "      <td>0.140214</td>\n",
       "      <td>-0.982843</td>\n",
       "      <td>-0.666608</td>\n",
       "      <td>-1.459000</td>\n",
       "      <td>0.441052</td>\n",
       "      <td>-1.075562</td>\n",
       "    </tr>\n",
       "    <tr>\n",
       "      <th>1</th>\n",
       "      <td>-0.417339</td>\n",
       "      <td>-0.487722</td>\n",
       "      <td>-0.593381</td>\n",
       "      <td>-0.740262</td>\n",
       "      <td>0.194274</td>\n",
       "      <td>0.367166</td>\n",
       "      <td>0.557160</td>\n",
       "      <td>-0.867883</td>\n",
       "      <td>-0.987329</td>\n",
       "      <td>-0.303094</td>\n",
       "      <td>0.441052</td>\n",
       "      <td>-0.492439</td>\n",
       "    </tr>\n",
       "    <tr>\n",
       "      <th>2</th>\n",
       "      <td>-0.417342</td>\n",
       "      <td>-0.487722</td>\n",
       "      <td>-0.593381</td>\n",
       "      <td>-0.740262</td>\n",
       "      <td>1.282714</td>\n",
       "      <td>-0.265812</td>\n",
       "      <td>0.557160</td>\n",
       "      <td>-0.867883</td>\n",
       "      <td>-0.987329</td>\n",
       "      <td>-0.303094</td>\n",
       "      <td>0.396427</td>\n",
       "      <td>-1.208727</td>\n",
       "    </tr>\n",
       "    <tr>\n",
       "      <th>3</th>\n",
       "      <td>-0.416750</td>\n",
       "      <td>-0.487722</td>\n",
       "      <td>-1.306878</td>\n",
       "      <td>-0.835284</td>\n",
       "      <td>1.016303</td>\n",
       "      <td>-0.809889</td>\n",
       "      <td>1.077737</td>\n",
       "      <td>-0.752922</td>\n",
       "      <td>-1.106115</td>\n",
       "      <td>0.113032</td>\n",
       "      <td>0.416163</td>\n",
       "      <td>-1.361517</td>\n",
       "    </tr>\n",
       "    <tr>\n",
       "      <th>4</th>\n",
       "      <td>-0.412482</td>\n",
       "      <td>-0.487722</td>\n",
       "      <td>-1.306878</td>\n",
       "      <td>-0.835284</td>\n",
       "      <td>1.228577</td>\n",
       "      <td>-0.511180</td>\n",
       "      <td>1.077737</td>\n",
       "      <td>-0.752922</td>\n",
       "      <td>-1.106115</td>\n",
       "      <td>0.113032</td>\n",
       "      <td>0.441052</td>\n",
       "      <td>-1.026501</td>\n",
       "    </tr>\n",
       "    <tr>\n",
       "      <th>...</th>\n",
       "      <td>...</td>\n",
       "      <td>...</td>\n",
       "      <td>...</td>\n",
       "      <td>...</td>\n",
       "      <td>...</td>\n",
       "      <td>...</td>\n",
       "      <td>...</td>\n",
       "      <td>...</td>\n",
       "      <td>...</td>\n",
       "      <td>...</td>\n",
       "      <td>...</td>\n",
       "      <td>...</td>\n",
       "    </tr>\n",
       "    <tr>\n",
       "      <th>501</th>\n",
       "      <td>-0.413229</td>\n",
       "      <td>-0.487722</td>\n",
       "      <td>0.115738</td>\n",
       "      <td>0.158124</td>\n",
       "      <td>0.439316</td>\n",
       "      <td>0.018673</td>\n",
       "      <td>-0.625796</td>\n",
       "      <td>-0.982843</td>\n",
       "      <td>-0.803212</td>\n",
       "      <td>1.176466</td>\n",
       "      <td>0.387217</td>\n",
       "      <td>-0.418147</td>\n",
       "    </tr>\n",
       "    <tr>\n",
       "      <th>502</th>\n",
       "      <td>-0.415249</td>\n",
       "      <td>-0.487722</td>\n",
       "      <td>0.115738</td>\n",
       "      <td>0.158124</td>\n",
       "      <td>-0.234548</td>\n",
       "      <td>0.288933</td>\n",
       "      <td>-0.716639</td>\n",
       "      <td>-0.982843</td>\n",
       "      <td>-0.803212</td>\n",
       "      <td>1.176466</td>\n",
       "      <td>0.441052</td>\n",
       "      <td>-0.500850</td>\n",
       "    </tr>\n",
       "    <tr>\n",
       "      <th>503</th>\n",
       "      <td>-0.413447</td>\n",
       "      <td>-0.487722</td>\n",
       "      <td>0.115738</td>\n",
       "      <td>0.158124</td>\n",
       "      <td>0.984960</td>\n",
       "      <td>0.797449</td>\n",
       "      <td>-0.773684</td>\n",
       "      <td>-0.982843</td>\n",
       "      <td>-0.803212</td>\n",
       "      <td>1.176466</td>\n",
       "      <td>0.441052</td>\n",
       "      <td>-0.983048</td>\n",
       "    </tr>\n",
       "    <tr>\n",
       "      <th>504</th>\n",
       "      <td>-0.407764</td>\n",
       "      <td>-0.487722</td>\n",
       "      <td>0.115738</td>\n",
       "      <td>0.158124</td>\n",
       "      <td>0.725672</td>\n",
       "      <td>0.736996</td>\n",
       "      <td>-0.668437</td>\n",
       "      <td>-0.982843</td>\n",
       "      <td>-0.803212</td>\n",
       "      <td>1.176466</td>\n",
       "      <td>0.403225</td>\n",
       "      <td>-0.865302</td>\n",
       "    </tr>\n",
       "    <tr>\n",
       "      <th>505</th>\n",
       "      <td>-0.415000</td>\n",
       "      <td>-0.487722</td>\n",
       "      <td>0.115738</td>\n",
       "      <td>0.158124</td>\n",
       "      <td>-0.362767</td>\n",
       "      <td>0.434732</td>\n",
       "      <td>-0.613246</td>\n",
       "      <td>-0.982843</td>\n",
       "      <td>-0.803212</td>\n",
       "      <td>1.176466</td>\n",
       "      <td>0.441052</td>\n",
       "      <td>-0.669058</td>\n",
       "    </tr>\n",
       "  </tbody>\n",
       "</table>\n",
       "<p>506 rows × 12 columns</p>\n",
       "</div>"
      ],
      "text/plain": [
       "         CRIM        ZN     INDUS       NOX        RM       AGE       DIS  \\\n",
       "0   -0.419782  0.284830 -1.287909 -0.144217  0.413672 -0.120013  0.140214   \n",
       "1   -0.417339 -0.487722 -0.593381 -0.740262  0.194274  0.367166  0.557160   \n",
       "2   -0.417342 -0.487722 -0.593381 -0.740262  1.282714 -0.265812  0.557160   \n",
       "3   -0.416750 -0.487722 -1.306878 -0.835284  1.016303 -0.809889  1.077737   \n",
       "4   -0.412482 -0.487722 -1.306878 -0.835284  1.228577 -0.511180  1.077737   \n",
       "..        ...       ...       ...       ...       ...       ...       ...   \n",
       "501 -0.413229 -0.487722  0.115738  0.158124  0.439316  0.018673 -0.625796   \n",
       "502 -0.415249 -0.487722  0.115738  0.158124 -0.234548  0.288933 -0.716639   \n",
       "503 -0.413447 -0.487722  0.115738  0.158124  0.984960  0.797449 -0.773684   \n",
       "504 -0.407764 -0.487722  0.115738  0.158124  0.725672  0.736996 -0.668437   \n",
       "505 -0.415000 -0.487722  0.115738  0.158124 -0.362767  0.434732 -0.613246   \n",
       "\n",
       "          RAD       TAX   PTRATIO         B     LSTAT  \n",
       "0   -0.982843 -0.666608 -1.459000  0.441052 -1.075562  \n",
       "1   -0.867883 -0.987329 -0.303094  0.441052 -0.492439  \n",
       "2   -0.867883 -0.987329 -0.303094  0.396427 -1.208727  \n",
       "3   -0.752922 -1.106115  0.113032  0.416163 -1.361517  \n",
       "4   -0.752922 -1.106115  0.113032  0.441052 -1.026501  \n",
       "..        ...       ...       ...       ...       ...  \n",
       "501 -0.982843 -0.803212  1.176466  0.387217 -0.418147  \n",
       "502 -0.982843 -0.803212  1.176466  0.441052 -0.500850  \n",
       "503 -0.982843 -0.803212  1.176466  0.441052 -0.983048  \n",
       "504 -0.982843 -0.803212  1.176466  0.403225 -0.865302  \n",
       "505 -0.982843 -0.803212  1.176466  0.441052 -0.669058  \n",
       "\n",
       "[506 rows x 12 columns]"
      ]
     },
     "execution_count": 12,
     "metadata": {},
     "output_type": "execute_result"
    }
   ],
   "source": [
    "X_scaled_df = pd.DataFrame(X_scaled, columns = ['CRIM', 'ZN', 'INDUS', 'NOX', 'RM', 'AGE', 'DIS', 'RAD','TAX', 'PTRATIO', 'B', 'LSTAT'])\n",
    "X_scaled_df"
   ]
  },
  {
   "cell_type": "code",
   "execution_count": 13,
   "metadata": {},
   "outputs": [
    {
     "data": {
      "text/plain": [
       "CRIM       0\n",
       "ZN         0\n",
       "INDUS      0\n",
       "NOX        0\n",
       "RM         0\n",
       "AGE        0\n",
       "DIS        0\n",
       "RAD        0\n",
       "TAX        0\n",
       "PTRATIO    0\n",
       "B          0\n",
       "LSTAT      0\n",
       "dtype: int32"
      ]
     },
     "execution_count": 13,
     "metadata": {},
     "output_type": "execute_result"
    }
   ],
   "source": [
    "X_scaled_df.mean().astype(int)\n"
   ]
  },
  {
   "cell_type": "code",
   "execution_count": 14,
   "metadata": {},
   "outputs": [
    {
     "data": {
      "text/plain": [
       "CRIM       1.00099\n",
       "ZN         1.00099\n",
       "INDUS      1.00099\n",
       "NOX        1.00099\n",
       "RM         1.00099\n",
       "AGE        1.00099\n",
       "DIS        1.00099\n",
       "RAD        1.00099\n",
       "TAX        1.00099\n",
       "PTRATIO    1.00099\n",
       "B          1.00099\n",
       "LSTAT      1.00099\n",
       "dtype: float64"
      ]
     },
     "execution_count": 14,
     "metadata": {},
     "output_type": "execute_result"
    }
   ],
   "source": [
    "X_scaled_df.std()"
   ]
  },
  {
   "cell_type": "markdown",
   "metadata": {},
   "source": [
    "Dane są zestandaryzowane średnia 0 i odchylenie standardowe 1"
   ]
  },
  {
   "cell_type": "markdown",
   "metadata": {},
   "source": [
    "Wymieniam, które zmienne są ciągłe i jedna zmienna kategoryczna. \n",
    "### Krok 3. Przekształcam te zmienne na zmiennt TensorFlow."
   ]
  },
  {
   "cell_type": "code",
   "execution_count": 15,
   "metadata": {},
   "outputs": [],
   "source": [
    "CONTI_FEATURES  = ['CRIM', 'ZN', 'INDUS', 'NOX', 'RM', 'AGE', 'DIS', 'RAD','TAX', 'PTRATIO', 'B', 'LSTAT']\n",
    "CATE_FEATURES = ['CHAS']"
   ]
  },
  {
   "cell_type": "code",
   "execution_count": 16,
   "metadata": {},
   "outputs": [],
   "source": [
    "continuous_features = [tf.feature_column.numeric_column(k) for k in CONTI_FEATURES]\n",
    "\n",
    "categorical_features = [tf.feature_column.categorical_column_with_vocabulary_list('CHAS', ['yes','no'])]"
   ]
  },
  {
   "cell_type": "code",
   "execution_count": 17,
   "metadata": {},
   "outputs": [
    {
     "data": {
      "text/plain": [
       "[_NumericColumn(key='CRIM', shape=(1,), default_value=None, dtype=tf.float32, normalizer_fn=None),\n",
       " _NumericColumn(key='ZN', shape=(1,), default_value=None, dtype=tf.float32, normalizer_fn=None),\n",
       " _NumericColumn(key='INDUS', shape=(1,), default_value=None, dtype=tf.float32, normalizer_fn=None),\n",
       " _NumericColumn(key='NOX', shape=(1,), default_value=None, dtype=tf.float32, normalizer_fn=None),\n",
       " _NumericColumn(key='RM', shape=(1,), default_value=None, dtype=tf.float32, normalizer_fn=None),\n",
       " _NumericColumn(key='AGE', shape=(1,), default_value=None, dtype=tf.float32, normalizer_fn=None),\n",
       " _NumericColumn(key='DIS', shape=(1,), default_value=None, dtype=tf.float32, normalizer_fn=None),\n",
       " _NumericColumn(key='RAD', shape=(1,), default_value=None, dtype=tf.float32, normalizer_fn=None),\n",
       " _NumericColumn(key='TAX', shape=(1,), default_value=None, dtype=tf.float32, normalizer_fn=None),\n",
       " _NumericColumn(key='PTRATIO', shape=(1,), default_value=None, dtype=tf.float32, normalizer_fn=None),\n",
       " _NumericColumn(key='B', shape=(1,), default_value=None, dtype=tf.float32, normalizer_fn=None),\n",
       " _NumericColumn(key='LSTAT', shape=(1,), default_value=None, dtype=tf.float32, normalizer_fn=None)]"
      ]
     },
     "execution_count": 17,
     "metadata": {},
     "output_type": "execute_result"
    }
   ],
   "source": [
    "continuous_features"
   ]
  },
  {
   "cell_type": "code",
   "execution_count": 18,
   "metadata": {},
   "outputs": [
    {
     "data": {
      "text/plain": [
       "[_VocabularyListCategoricalColumn(key='CHAS', vocabulary_list=('yes', 'no'), dtype=tf.string, default_value=-1, num_oov_buckets=0)]"
      ]
     },
     "execution_count": 18,
     "metadata": {},
     "output_type": "execute_result"
    }
   ],
   "source": [
    "categorical_features"
   ]
  },
  {
   "cell_type": "markdown",
   "metadata": {},
   "source": [
    "### krok 4. Tworze estymator Regresji liniowej Tensorflow\n",
    "katalog: train_Boston"
   ]
  },
  {
   "cell_type": "code",
   "execution_count": 19,
   "metadata": {},
   "outputs": [
    {
     "name": "stdout",
     "output_type": "stream",
     "text": [
      "INFO:tensorflow:Using default config.\n",
      "INFO:tensorflow:Using config: {'_model_dir': 'train_Boston', '_tf_random_seed': None, '_save_summary_steps': 100, '_save_checkpoints_steps': None, '_save_checkpoints_secs': 600, '_session_config': None, '_keep_checkpoint_max': 5, '_keep_checkpoint_every_n_hours': 10000, '_log_step_count_steps': 100, '_service': None, '_cluster_spec': <tensorflow.python.training.server_lib.ClusterSpec object at 0x000001D3428176D8>, '_task_type': 'worker', '_task_id': 0, '_master': '', '_is_chief': True, '_num_ps_replicas': 0, '_num_worker_replicas': 1}\n"
     ]
    }
   ],
   "source": [
    "model = tf.estimator.LinearRegressor(    \n",
    "    model_dir=\"train_Boston\",     \n",
    "    feature_columns=categorical_features + continuous_features)"
   ]
  },
  {
   "cell_type": "markdown",
   "metadata": {},
   "source": [
    "Na razie model nic nie zrobił."
   ]
  },
  {
   "cell_type": "markdown",
   "metadata": {},
   "source": [
    " ### krok 4. Teraz przekształacamy komórki w tensory TensorFlow\n",
    " \n",
    " \n",
    " ### Definiowanie jak karmić model\n",
    " Trudna część z TensorFlow to sposób na karmienie modelu. Tensorflow został zaprojektowany do pracy z obliczeniami równoległymi i bardzo dużym zestawem danych. Z powodu ograniczenia zasobów maszyny nie jest możliwe zasilenie modelu wszystkimi danymi jednocześnie. W tym celu musisz za każdym razem podać dużą porcję danych. Zauważ, że mówimy o ogromnym zestawie danych z milionami lub więcej rekordów. Jeśli nie dodasz partii (batch), wystąpi błąd pamięci.\n",
    "\n",
    "Na przykład, jeśli twoje dane zawierają 100) obserwacji i zdefiniujesz wielkość partii (batch size) na 10, oznacza to, że model zobaczy 10 obserwacji dla każdej (iteration) iteracji (10 * 10).\n",
    "\n",
    "Gdy model zobaczy wszystkie dane, kończy jedną epokę (epoch). Epoka określa, ile razy model ma widzieć dane. Lepiej jest ustawić ten krok na none i pozwolić modelowi wykonać iterację liczbę razy.\n",
    "\n",
    "Drugą informacją do dodania jest to, czy chcesz przetasować dane przed każdą iteracją (iteration). Podczas szkolenia ważne jest tasowanie danych, aby model nie nauczył się określonego wzorca zestawu danych. Jeśli model pozna szczegóły podstawowego wzorca danych, będzie miał trudności z uogólnieniem prognozy dla niewidocznych danych. Nazywa się to nadmiernym dopasowaniem (overfitting). Model działa dobrze na danych treningowych, ale nie może poprawnie przewidzieć dla niewidocznych danych.\n",
    "\n",
    "TensorFlow sprawia, że te dwa kroki są łatwe do zrobienia. Gdy dane trafiają do potoku (pipeline), wie, ile obserwacji potrzebuje (partia- batch) i czy musi je tasować (shuffle).\n",
    "\n",
    "Aby poinstruować Tensorflow, jak karmić model, możesz użyć pandas_input_fn. Ten obiekt potrzebuje 5 parametrów:\n",
    "\n",
    "x: dane funkcji\n",
    "y: dane etykiety\n",
    "batch_size: partia. Domyślnie 128\n",
    "num_epoch: domyślnie liczba epok 1\n",
    "Shuffle: Losuj lub nie dane. Domyślnie Brak\n",
    "\n",
    "Musisz karmić model wiele razy, aby zdefiniować funkcję powtarzania tego procesu. cała ta funkcja get_input_fn."
   ]
  },
  {
   "cell_type": "code",
   "execution_count": 20,
   "metadata": {},
   "outputs": [],
   "source": [
    "FEATURES = ['CRIM', 'ZN', 'INDUS', 'NOX', 'RM', 'AGE', 'DIS', 'RAD','TAX', 'PTRATIO', 'B', 'LSTAT', 'CHAS']\n",
    "LABEL= 'PRICE'\n",
    "\n",
    "def get_input_fn(data_set, num_epochs=None, n_batch = 128, shuffle=True):\n",
    "    return tf.estimator.inputs.pandas_input_fn(\n",
    "       x=pd.DataFrame({k: data_set[k].values for k in FEATURES}),\n",
    "       y = pd.Series(data_set[LABEL].values),\n",
    "       batch_size=n_batch,   \n",
    "       num_epochs=num_epochs,\n",
    "       shuffle=shuffle)"
   ]
  },
  {
   "cell_type": "markdown",
   "metadata": {},
   "source": [
    "## Trenowanie modelu"
   ]
  },
  {
   "cell_type": "code",
   "execution_count": 21,
   "metadata": {},
   "outputs": [
    {
     "name": "stdout",
     "output_type": "stream",
     "text": [
      "INFO:tensorflow:Create CheckpointSaverHook.\n",
      "INFO:tensorflow:Restoring parameters from train_Boston\\model.ckpt-5000\n",
      "INFO:tensorflow:Saving checkpoints for 5001 into train_Boston\\model.ckpt.\n",
      "INFO:tensorflow:loss = 4394.5273, step = 5001\n",
      "INFO:tensorflow:global_step/sec: 267.038\n",
      "INFO:tensorflow:loss = 15689.098, step = 5101 (0.377 sec)\n",
      "INFO:tensorflow:global_step/sec: 308.748\n",
      "INFO:tensorflow:loss = 9877.889, step = 5201 (0.324 sec)\n",
      "INFO:tensorflow:global_step/sec: 307.338\n",
      "INFO:tensorflow:loss = 9766.83, step = 5301 (0.325 sec)\n",
      "INFO:tensorflow:global_step/sec: 298.686\n",
      "INFO:tensorflow:loss = 12885.824, step = 5401 (0.334 sec)\n",
      "INFO:tensorflow:global_step/sec: 305.938\n",
      "INFO:tensorflow:loss = 7560.785, step = 5501 (0.327 sec)\n",
      "INFO:tensorflow:global_step/sec: 300.466\n",
      "INFO:tensorflow:loss = 16011.377, step = 5601 (0.333 sec)\n",
      "INFO:tensorflow:global_step/sec: 301.816\n",
      "INFO:tensorflow:loss = 10546.868, step = 5701 (0.331 sec)\n",
      "INFO:tensorflow:global_step/sec: 309.212\n",
      "INFO:tensorflow:loss = 6920.983, step = 5801 (0.323 sec)\n",
      "INFO:tensorflow:global_step/sec: 305.486\n",
      "INFO:tensorflow:loss = 12828.651, step = 5901 (0.327 sec)\n",
      "INFO:tensorflow:Saving checkpoints for 6000 into train_Boston\\model.ckpt.\n",
      "INFO:tensorflow:Loss for final step: 13221.454.\n"
     ]
    },
    {
     "data": {
      "text/plain": [
       "<tensorflow.python.estimator.canned.linear.LinearRegressor at 0x1d3427bc630>"
      ]
     },
     "execution_count": 21,
     "metadata": {},
     "output_type": "execute_result"
    }
   ],
   "source": [
    "model.train(input_fn=get_input_fn(df_train_scale, \n",
    "                                      num_epochs=None,\n",
    "                                      n_batch = 128,\n",
    "                                      shuffle=False),\n",
    "                                      steps=1000)"
   ]
  },
  {
   "cell_type": "markdown",
   "metadata": {},
   "source": [
    "## krok 7. Szacowanie wydajności modelu na zestawie testowym zestandaryzowanym"
   ]
  },
  {
   "cell_type": "code",
   "execution_count": 22,
   "metadata": {},
   "outputs": [
    {
     "name": "stdout",
     "output_type": "stream",
     "text": [
      "INFO:tensorflow:Starting evaluation at 2019-12-11-19:20:39\n",
      "INFO:tensorflow:Restoring parameters from train_Boston\\model.ckpt-6000\n",
      "INFO:tensorflow:Finished evaluation at 2019-12-11-19:20:40\n",
      "INFO:tensorflow:Saving dict for global step 6000: average_loss = 37.2367, global_step = 6000, loss = 707.49725\n"
     ]
    },
    {
     "data": {
      "text/plain": [
       "{'average_loss': 37.2367, 'loss': 707.49725, 'global_step': 6000}"
      ]
     },
     "execution_count": 22,
     "metadata": {},
     "output_type": "execute_result"
    }
   ],
   "source": [
    "model.evaluate(input_fn=get_input_fn(df_test_scale, \n",
    "                                      num_epochs=1,\n",
    "                                      n_batch = 128,\n",
    "                                      shuffle=False),\n",
    "                                      steps=1000)"
   ]
  },
  {
   "cell_type": "markdown",
   "metadata": {},
   "source": [
    "## Obliczanie R2 dla modelu Regresji liniowej Tensorflow\n",
    "Robię predykcję dla zestawu tesowego"
   ]
  },
  {
   "cell_type": "code",
   "execution_count": 23,
   "metadata": {},
   "outputs": [],
   "source": [
    "y = model.predict(    \n",
    "         input_fn=get_input_fn(df_test,                          \n",
    "         num_epochs=1,                          \n",
    "         n_batch = 256,                          \n",
    "         shuffle=False))"
   ]
  },
  {
   "cell_type": "code",
   "execution_count": 24,
   "metadata": {},
   "outputs": [
    {
     "name": "stdout",
     "output_type": "stream",
     "text": [
      "INFO:tensorflow:Restoring parameters from train_Boston\\model.ckpt-6000\n"
     ]
    }
   ],
   "source": [
    "import itertools\n",
    "\n",
    "predictions = list(p[\"predictions\"] for p in itertools.islice(y, 1871))\n",
    "#print(\"Predictions: {}\".format(str(predictions)))"
   ]
  },
  {
   "cell_type": "code",
   "execution_count": 25,
   "metadata": {},
   "outputs": [],
   "source": [
    "# predictions"
   ]
  },
  {
   "cell_type": "markdown",
   "metadata": {},
   "source": [
    "Model dał nam ciąg wyników y. Przetwarzam teraz ten ciąg wyników na listę."
   ]
  },
  {
   "cell_type": "code",
   "execution_count": 26,
   "metadata": {},
   "outputs": [],
   "source": [
    "import numpy as np\n",
    "\n",
    "conc = np.vstack(predictions)\n",
    "# conc"
   ]
  },
  {
   "cell_type": "code",
   "execution_count": 27,
   "metadata": {},
   "outputs": [
    {
     "data": {
      "text/plain": [
       "dtype('float32')"
      ]
     },
     "execution_count": 27,
     "metadata": {},
     "output_type": "execute_result"
    }
   ],
   "source": [
    "ZHP = pd.DataFrame(conc)\n",
    "ZHP.rename(columns={0:'y_pred'}, inplace=True)\n",
    "\n",
    "kot = ZHP['y_pred'].values\n",
    "kot = kot.astype('float32')\n",
    "kot.dtype"
   ]
  },
  {
   "cell_type": "code",
   "execution_count": 28,
   "metadata": {},
   "outputs": [],
   "source": [
    "# kot"
   ]
  },
  {
   "cell_type": "code",
   "execution_count": 29,
   "metadata": {},
   "outputs": [
    {
     "data": {
      "text/plain": [
       "dtype('float32')"
      ]
     },
     "execution_count": 29,
     "metadata": {},
     "output_type": "execute_result"
    }
   ],
   "source": [
    "y = df_test['PRICE'].values\n",
    "y = y.astype('float32')\n",
    "y.dtype"
   ]
  },
  {
   "cell_type": "markdown",
   "metadata": {},
   "source": [
    "Teraz tworzę ramkę danych ze zmiennymi rzeczywistymi i przewidywanymi dla y."
   ]
  },
  {
   "cell_type": "code",
   "execution_count": 30,
   "metadata": {},
   "outputs": [
    {
     "data": {
      "text/plain": [
       "y         float32\n",
       "y_pred    float32\n",
       "dtype: object"
      ]
     },
     "execution_count": 30,
     "metadata": {},
     "output_type": "execute_result"
    }
   ],
   "source": [
    "PZU = pd.DataFrame({'y': y, 'y_pred': kot })\n",
    "PZU.dtypes"
   ]
  },
  {
   "cell_type": "markdown",
   "metadata": {},
   "source": [
    "https://stackoverflow.com/questions/42351184/how-to-calculate-r2-in-tensorflow"
   ]
  },
  {
   "cell_type": "code",
   "execution_count": 31,
   "metadata": {},
   "outputs": [],
   "source": [
    "def R_squared(y, y_pred):\n",
    "    \n",
    "  residual = tf.reduce_sum(tf.square(tf.subtract(y,y_pred)))\n",
    "  total = tf.reduce_sum(tf.square(tf.subtract(y, tf.reduce_mean(y))))\n",
    "  r2 = tf.subtract(1.0, tf.div(residual, total))\n",
    "  return r2"
   ]
  },
  {
   "cell_type": "markdown",
   "metadata": {},
   "source": [
    "https://blog.minitab.com/blog/adventures-in-statistics-2/regression-analysis-how-do-i-interpret-r-squared-and-assess-the-goodness-of-fit"
   ]
  },
  {
   "cell_type": "markdown",
   "metadata": {},
   "source": [
    "Aby użyć tej funkcji, obie zmienne muszą mieć ten sam typ danych."
   ]
  },
  {
   "cell_type": "code",
   "execution_count": 32,
   "metadata": {},
   "outputs": [
    {
     "data": {
      "text/plain": [
       "dtype('float32')"
      ]
     },
     "execution_count": 32,
     "metadata": {},
     "output_type": "execute_result"
    }
   ],
   "source": [
    "y.dtype"
   ]
  },
  {
   "cell_type": "code",
   "execution_count": 33,
   "metadata": {},
   "outputs": [
    {
     "data": {
      "text/plain": [
       "dtype('float32')"
      ]
     },
     "execution_count": 33,
     "metadata": {},
     "output_type": "execute_result"
    }
   ],
   "source": [
    "kot.dtype"
   ]
  },
  {
   "cell_type": "code",
   "execution_count": 34,
   "metadata": {},
   "outputs": [],
   "source": [
    "residual = tf.reduce_sum(tf.square(tf.subtract(y,kot)))"
   ]
  },
  {
   "cell_type": "code",
   "execution_count": 35,
   "metadata": {},
   "outputs": [],
   "source": [
    "total = tf.reduce_sum(tf.square(tf.subtract(y, tf.reduce_mean(y))))"
   ]
  },
  {
   "cell_type": "code",
   "execution_count": 36,
   "metadata": {},
   "outputs": [
    {
     "data": {
      "text/plain": [
       "<tf.Tensor 'Sub_2:0' shape=() dtype=float32>"
      ]
     },
     "execution_count": 36,
     "metadata": {},
     "output_type": "execute_result"
    }
   ],
   "source": [
    "r2 = tf.subtract(1.0, tf.div(residual, total))\n",
    "r2"
   ]
  },
  {
   "cell_type": "markdown",
   "metadata": {},
   "source": [
    "Uruchmiam sesje TensorFlow dla r2"
   ]
  },
  {
   "cell_type": "code",
   "execution_count": 37,
   "metadata": {},
   "outputs": [
    {
     "name": "stdout",
     "output_type": "stream",
     "text": [
      "R Square parameter:  -371.77762\n"
     ]
    }
   ],
   "source": [
    "sess = tf.Session()\n",
    "a = sess.run(r2)\n",
    "print('R Square parameter: ',a)"
   ]
  },
  {
   "cell_type": "markdown",
   "metadata": {},
   "source": [
    "Utrata modelu to 1651. Jest to miara do pokonania w następnej sekcji\n",
    "## Krok 8. Ulepszanie modelu przez tworzenie zmiennych syntetycznych\n",
    "mamy silne związki korelacji pomiędzy niektórymi zmiennymi niezależnymi. Te związki występują parami. Poniższa funkcja tworzono jest po to aby utworzyć w zbiorze zmiennych treningowych i zmiennych testowych kolumny ze zmiennymi syntetycznymi \n"
   ]
  },
  {
   "cell_type": "code",
   "execution_count": 38,
   "metadata": {},
   "outputs": [],
   "source": [
    "def interaction_term(var_1, var_2, name):\n",
    "    t_train = df_train_scale[var_1]*df_train_scale[var_2]\n",
    "    train = t_train.rename(name)\n",
    "    t_test = df_test_scale[var_1]*df_test_scale[var_2]\n",
    "    test = t_test.rename(name)\n",
    "    return train, test"
   ]
  },
  {
   "cell_type": "markdown",
   "metadata": {},
   "source": [
    "Za pomocą funkcji tworzymy nowe kolumny syntetyczne"
   ]
  },
  {
   "cell_type": "code",
   "execution_count": 39,
   "metadata": {},
   "outputs": [],
   "source": [
    "TwoIN_train, TwoIN_test= interaction_term('INDUS', 'NOX', 'TwoIN')"
   ]
  },
  {
   "cell_type": "code",
   "execution_count": 40,
   "metadata": {},
   "outputs": [
    {
     "name": "stdout",
     "output_type": "stream",
     "text": [
      "(325,) (19,)\n"
     ]
    }
   ],
   "source": [
    "print(TwoIN_train.shape, TwoIN_test.shape)"
   ]
  },
  {
   "cell_type": "code",
   "execution_count": 41,
   "metadata": {},
   "outputs": [
    {
     "data": {
      "text/plain": [
       "2    0.075608\n",
       "4    1.582601\n",
       "5    0.680999\n",
       "8    0.323489\n",
       "Name: TwoIN, dtype: float64"
      ]
     },
     "execution_count": 41,
     "metadata": {},
     "output_type": "execute_result"
    }
   ],
   "source": [
    "TwoIN_train.head(4)"
   ]
  },
  {
   "cell_type": "markdown",
   "metadata": {},
   "source": [
    "Wcześniej była funkcja do podwójnej interakcji.\n",
    "Teraz robimy funkcję do potrójnych interakcji."
   ]
  },
  {
   "cell_type": "code",
   "execution_count": 42,
   "metadata": {},
   "outputs": [],
   "source": [
    "def triple_interaction_term(var_1, var_2,var_3, name):\n",
    "    t_train = df_train_scale[var_1]*df_train_scale[var_2]*df_train_scale[var_3]\n",
    "    train = t_train.rename(name)\n",
    "    t_test = df_test_scale[var_1]*df_test_scale[var_2]*df_test_scale[var_3]\n",
    "    test = t_test.rename(name)\n",
    "    return train, test"
   ]
  },
  {
   "cell_type": "code",
   "execution_count": 43,
   "metadata": {},
   "outputs": [],
   "source": [
    "ThreeIN_train, ThreeIN_test= triple_interaction_term('INDUS', 'NOX', 'DIS','ThreeIN')"
   ]
  },
  {
   "cell_type": "markdown",
   "metadata": {},
   "source": [
    "Teraz tworzymy nową dataFrame ze zmiennych zestandaryzowanych oraz zmiennych syntetycznych."
   ]
  },
  {
   "cell_type": "code",
   "execution_count": 44,
   "metadata": {},
   "outputs": [
    {
     "data": {
      "text/html": [
       "<div>\n",
       "<style scoped>\n",
       "    .dataframe tbody tr th:only-of-type {\n",
       "        vertical-align: middle;\n",
       "    }\n",
       "\n",
       "    .dataframe tbody tr th {\n",
       "        vertical-align: top;\n",
       "    }\n",
       "\n",
       "    .dataframe thead th {\n",
       "        text-align: right;\n",
       "    }\n",
       "</style>\n",
       "<table border=\"1\" class=\"dataframe\">\n",
       "  <thead>\n",
       "    <tr style=\"text-align: right;\">\n",
       "      <th></th>\n",
       "      <th>CRIM</th>\n",
       "      <th>ZN</th>\n",
       "      <th>INDUS</th>\n",
       "      <th>NOX</th>\n",
       "      <th>RM</th>\n",
       "      <th>AGE</th>\n",
       "      <th>DIS</th>\n",
       "      <th>RAD</th>\n",
       "      <th>TAX</th>\n",
       "      <th>PTRATIO</th>\n",
       "      <th>B</th>\n",
       "      <th>LSTAT</th>\n",
       "      <th>CHAS</th>\n",
       "      <th>PRICE</th>\n",
       "      <th>TwoIN</th>\n",
       "      <th>ThreeIN</th>\n",
       "    </tr>\n",
       "  </thead>\n",
       "  <tbody>\n",
       "    <tr>\n",
       "      <th>2</th>\n",
       "      <td>-0.278174</td>\n",
       "      <td>-0.47701</td>\n",
       "      <td>-0.464046</td>\n",
       "      <td>-0.162933</td>\n",
       "      <td>-0.188265</td>\n",
       "      <td>0.812916</td>\n",
       "      <td>0.105941</td>\n",
       "      <td>-0.661477</td>\n",
       "      <td>-0.616881</td>\n",
       "      <td>1.147718</td>\n",
       "      <td>0.444455</td>\n",
       "      <td>0.803221</td>\n",
       "      <td>no</td>\n",
       "      <td>34.7</td>\n",
       "      <td>0.075608</td>\n",
       "      <td>0.008010</td>\n",
       "    </tr>\n",
       "    <tr>\n",
       "      <th>4</th>\n",
       "      <td>1.014608</td>\n",
       "      <td>-0.47701</td>\n",
       "      <td>0.992729</td>\n",
       "      <td>1.594192</td>\n",
       "      <td>-0.595967</td>\n",
       "      <td>0.987593</td>\n",
       "      <td>-0.907724</td>\n",
       "      <td>1.636106</td>\n",
       "      <td>1.502932</td>\n",
       "      <td>0.776192</td>\n",
       "      <td>-1.278797</td>\n",
       "      <td>1.504488</td>\n",
       "      <td>no</td>\n",
       "      <td>36.2</td>\n",
       "      <td>1.582601</td>\n",
       "      <td>-1.436565</td>\n",
       "    </tr>\n",
       "    <tr>\n",
       "      <th>5</th>\n",
       "      <td>-0.409562</td>\n",
       "      <td>-0.47701</td>\n",
       "      <td>-1.155868</td>\n",
       "      <td>-0.589166</td>\n",
       "      <td>1.036257</td>\n",
       "      <td>0.620414</td>\n",
       "      <td>-0.164461</td>\n",
       "      <td>-0.891235</td>\n",
       "      <td>-0.835358</td>\n",
       "      <td>-0.338387</td>\n",
       "      <td>0.444455</td>\n",
       "      <td>-1.025327</td>\n",
       "      <td>no</td>\n",
       "      <td>28.7</td>\n",
       "      <td>0.680999</td>\n",
       "      <td>-0.111997</td>\n",
       "    </tr>\n",
       "    <tr>\n",
       "      <th>8</th>\n",
       "      <td>-0.370330</td>\n",
       "      <td>-0.47701</td>\n",
       "      <td>-0.747795</td>\n",
       "      <td>-0.432591</td>\n",
       "      <td>-0.157121</td>\n",
       "      <td>0.798656</td>\n",
       "      <td>-0.346465</td>\n",
       "      <td>-0.201960</td>\n",
       "      <td>-0.616881</td>\n",
       "      <td>-0.524150</td>\n",
       "      <td>0.426162</td>\n",
       "      <td>1.182209</td>\n",
       "      <td>no</td>\n",
       "      <td>16.5</td>\n",
       "      <td>0.323489</td>\n",
       "      <td>-0.112078</td>\n",
       "    </tr>\n",
       "    <tr>\n",
       "      <th>9</th>\n",
       "      <td>1.828346</td>\n",
       "      <td>-0.47701</td>\n",
       "      <td>0.992729</td>\n",
       "      <td>1.246247</td>\n",
       "      <td>-2.699598</td>\n",
       "      <td>0.795092</td>\n",
       "      <td>-1.129861</td>\n",
       "      <td>1.636106</td>\n",
       "      <td>1.502932</td>\n",
       "      <td>0.776192</td>\n",
       "      <td>-0.779497</td>\n",
       "      <td>2.450575</td>\n",
       "      <td>no</td>\n",
       "      <td>18.9</td>\n",
       "      <td>1.237185</td>\n",
       "      <td>-1.397847</td>\n",
       "    </tr>\n",
       "  </tbody>\n",
       "</table>\n",
       "</div>"
      ],
      "text/plain": [
       "       CRIM       ZN     INDUS       NOX        RM       AGE       DIS  \\\n",
       "2 -0.278174 -0.47701 -0.464046 -0.162933 -0.188265  0.812916  0.105941   \n",
       "4  1.014608 -0.47701  0.992729  1.594192 -0.595967  0.987593 -0.907724   \n",
       "5 -0.409562 -0.47701 -1.155868 -0.589166  1.036257  0.620414 -0.164461   \n",
       "8 -0.370330 -0.47701 -0.747795 -0.432591 -0.157121  0.798656 -0.346465   \n",
       "9  1.828346 -0.47701  0.992729  1.246247 -2.699598  0.795092 -1.129861   \n",
       "\n",
       "        RAD       TAX   PTRATIO         B     LSTAT CHAS  PRICE     TwoIN  \\\n",
       "2 -0.661477 -0.616881  1.147718  0.444455  0.803221   no   34.7  0.075608   \n",
       "4  1.636106  1.502932  0.776192 -1.278797  1.504488   no   36.2  1.582601   \n",
       "5 -0.891235 -0.835358 -0.338387  0.444455 -1.025327   no   28.7  0.680999   \n",
       "8 -0.201960 -0.616881 -0.524150  0.426162  1.182209   no   16.5  0.323489   \n",
       "9  1.636106  1.502932  0.776192 -0.779497  2.450575   no   18.9  1.237185   \n",
       "\n",
       "    ThreeIN  \n",
       "2  0.008010  \n",
       "4 -1.436565  \n",
       "5 -0.111997  \n",
       "8 -0.112078  \n",
       "9 -1.397847  "
      ]
     },
     "execution_count": 44,
     "metadata": {},
     "output_type": "execute_result"
    }
   ],
   "source": [
    "df_train_new = pd.concat([df_train_scale,\n",
    "                          TwoIN_train,\n",
    "                          ThreeIN_train],\n",
    "                         axis=1, join='inner')\n",
    "df_test_new = pd.concat([df_test_scale,\n",
    "                         TwoIN_test,\n",
    "                         ThreeIN_test],\n",
    "                         axis=1, join='inner')\n",
    "df_train_new.head(5)"
   ]
  },
  {
   "cell_type": "markdown",
   "metadata": {},
   "source": [
    "## Krok 8: Odnowa model teraz ze zmiennymi systetycznymi"
   ]
  },
  {
   "cell_type": "code",
   "execution_count": 45,
   "metadata": {},
   "outputs": [
    {
     "name": "stdout",
     "output_type": "stream",
     "text": [
      "INFO:tensorflow:Using default config.\n",
      "INFO:tensorflow:Using config: {'_model_dir': 'train_Boston_1', '_tf_random_seed': None, '_save_summary_steps': 100, '_save_checkpoints_steps': None, '_save_checkpoints_secs': 600, '_session_config': None, '_keep_checkpoint_max': 5, '_keep_checkpoint_every_n_hours': 10000, '_log_step_count_steps': 100, '_service': None, '_cluster_spec': <tensorflow.python.training.server_lib.ClusterSpec object at 0x000001D345398048>, '_task_type': 'worker', '_task_id': 0, '_master': '', '_is_chief': True, '_num_ps_replicas': 0, '_num_worker_replicas': 1}\n"
     ]
    }
   ],
   "source": [
    "CONTI_FEATURES_NEW  = ['CRIM', 'ZN', 'INDUS', 'NOX', 'RM', 'AGE', 'DIS', 'RAD','TAX', 'PTRATIO', 'B', 'LSTAT',\n",
    "                       'TwoIN', 'ThreeIN']\n",
    "### ciągle ten sam mechaizm jest nowy katalog\n",
    "continuous_features_new = [tf.feature_column.numeric_column(k) for k in CONTI_FEATURES_NEW]\n",
    "model = tf.estimator.LinearRegressor(\n",
    "    model_dir=\"train_Boston_1\", \n",
    "    feature_columns= categorical_features + continuous_features_new)"
   ]
  },
  {
   "cell_type": "code",
   "execution_count": 46,
   "metadata": {},
   "outputs": [],
   "source": [
    "FEATURES = ['CRIM', 'ZN', 'INDUS', 'NOX', 'RM', 'AGE', 'DIS', 'RAD','TAX', 'PTRATIO', 'B', 'LSTAT', 'TwoIN', 'ThreeIN','CHAS']\n",
    "LABEL= 'PRICE'\n",
    "def get_input_fn(data_set, num_epochs=None, n_batch = 128, shuffle=True):\n",
    "    return tf.estimator.inputs.pandas_input_fn(\n",
    "       x=pd.DataFrame({k: data_set[k].values for k in FEATURES}),\n",
    "       y = pd.Series(data_set[LABEL].values),\n",
    "       batch_size=n_batch,   \n",
    "       num_epochs=num_epochs,\n",
    "       shuffle=shuffle)"
   ]
  },
  {
   "cell_type": "code",
   "execution_count": 47,
   "metadata": {},
   "outputs": [
    {
     "name": "stdout",
     "output_type": "stream",
     "text": [
      "INFO:tensorflow:Create CheckpointSaverHook.\n",
      "INFO:tensorflow:Restoring parameters from train_Boston_1\\model.ckpt-5000\n",
      "INFO:tensorflow:Saving checkpoints for 5001 into train_Boston_1\\model.ckpt.\n",
      "INFO:tensorflow:loss = 5000.8623, step = 5001\n",
      "INFO:tensorflow:global_step/sec: 252.648\n",
      "INFO:tensorflow:loss = 16727.855, step = 5101 (0.399 sec)\n",
      "INFO:tensorflow:global_step/sec: 291.769\n",
      "INFO:tensorflow:loss = 10596.656, step = 5201 (0.343 sec)\n",
      "INFO:tensorflow:global_step/sec: 294.757\n",
      "INFO:tensorflow:loss = 9706.863, step = 5301 (0.339 sec)\n",
      "INFO:tensorflow:global_step/sec: 296.927\n",
      "INFO:tensorflow:loss = 14228.927, step = 5401 (0.337 sec)\n",
      "INFO:tensorflow:global_step/sec: 286.383\n",
      "INFO:tensorflow:loss = 8271.289, step = 5501 (0.350 sec)\n",
      "INFO:tensorflow:global_step/sec: 294.756\n",
      "INFO:tensorflow:loss = 16709.549, step = 5601 (0.339 sec)\n",
      "INFO:tensorflow:global_step/sec: 293.043\n",
      "INFO:tensorflow:loss = 11188.109, step = 5701 (0.341 sec)\n",
      "INFO:tensorflow:global_step/sec: 294.326\n",
      "INFO:tensorflow:loss = 6759.6416, step = 5801 (0.340 sec)\n",
      "INFO:tensorflow:global_step/sec: 293.896\n",
      "INFO:tensorflow:loss = 14074.804, step = 5901 (0.340 sec)\n",
      "INFO:tensorflow:Saving checkpoints for 6000 into train_Boston_1\\model.ckpt.\n",
      "INFO:tensorflow:Loss for final step: 14459.398.\n"
     ]
    },
    {
     "data": {
      "text/plain": [
       "<tensorflow.python.estimator.canned.linear.LinearRegressor at 0x1d3453987f0>"
      ]
     },
     "execution_count": 47,
     "metadata": {},
     "output_type": "execute_result"
    }
   ],
   "source": [
    "model.train(input_fn=get_input_fn(df_train_new, \n",
    "                                      num_epochs=None,\n",
    "                                      n_batch = 128,\n",
    "                                      shuffle=False),\n",
    "                                      steps=1000)"
   ]
  },
  {
   "cell_type": "markdown",
   "metadata": {},
   "source": [
    "### Teraz sprawdzenie na zbiorze testowym"
   ]
  },
  {
   "cell_type": "code",
   "execution_count": 48,
   "metadata": {},
   "outputs": [
    {
     "name": "stdout",
     "output_type": "stream",
     "text": [
      "INFO:tensorflow:Starting evaluation at 2019-12-11-19:20:46\n",
      "INFO:tensorflow:Restoring parameters from train_Boston_1\\model.ckpt-6000\n",
      "INFO:tensorflow:Finished evaluation at 2019-12-11-19:20:46\n",
      "INFO:tensorflow:Saving dict for global step 6000: average_loss = 51.858578, global_step = 6000, loss = 985.313\n"
     ]
    },
    {
     "data": {
      "text/plain": [
       "{'average_loss': 51.858578, 'loss': 985.313, 'global_step': 6000}"
      ]
     },
     "execution_count": 48,
     "metadata": {},
     "output_type": "execute_result"
    }
   ],
   "source": [
    "model.evaluate(input_fn=get_input_fn(df_test_new, \n",
    "                                      num_epochs=1,\n",
    "                                      n_batch = 128,\n",
    "                                      shuffle=False),\n",
    "                                      steps=1000)"
   ]
  },
  {
   "cell_type": "markdown",
   "metadata": {},
   "source": [
    "Nowa strata to 1515. Wystarczy dodać dwie nowe zmienne, by zmniejszyć stratę. Oznacza to, że możesz dokonać lepszej prognozy niż w modelu porównawczym."
   ]
  },
  {
   "cell_type": "markdown",
   "metadata": {},
   "source": [
    "https://www.guru99.com/linear-regression-for-machine-learning.html"
   ]
  }
 ],
 "metadata": {
  "kernelspec": {
   "display_name": "Python 3",
   "language": "python",
   "name": "python3"
  },
  "language_info": {
   "codemirror_mode": {
    "name": "ipython",
    "version": 3
   },
   "file_extension": ".py",
   "mimetype": "text/x-python",
   "name": "python",
   "nbconvert_exporter": "python",
   "pygments_lexer": "ipython3",
   "version": "3.6.9"
  }
 },
 "nbformat": 4,
 "nbformat_minor": 2
}
