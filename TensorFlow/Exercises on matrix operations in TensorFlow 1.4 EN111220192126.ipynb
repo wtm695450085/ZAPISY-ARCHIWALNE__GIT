{
 "cells": [
  {
   "cell_type": "markdown",
   "metadata": {},
   "source": [
    "# Exercises on matrix operations in TensorFlow 1.4\n",
    "Practice makes perfect"
   ]
  },
  {
   "cell_type": "code",
   "execution_count": 1,
   "metadata": {},
   "outputs": [
    {
     "name": "stderr",
     "output_type": "stream",
     "text": [
      "C:\\ProgramData\\Anaconda3\\envs\\OLD_TF\\lib\\site-packages\\tensorflow\\python\\framework\\dtypes.py:493: FutureWarning: Passing (type, 1) or '1type' as a synonym of type is deprecated; in a future version of numpy, it will be understood as (type, (1,)) / '(1,)type'.\n",
      "  _np_qint8 = np.dtype([(\"qint8\", np.int8, 1)])\n",
      "C:\\ProgramData\\Anaconda3\\envs\\OLD_TF\\lib\\site-packages\\tensorflow\\python\\framework\\dtypes.py:494: FutureWarning: Passing (type, 1) or '1type' as a synonym of type is deprecated; in a future version of numpy, it will be understood as (type, (1,)) / '(1,)type'.\n",
      "  _np_quint8 = np.dtype([(\"quint8\", np.uint8, 1)])\n",
      "C:\\ProgramData\\Anaconda3\\envs\\OLD_TF\\lib\\site-packages\\tensorflow\\python\\framework\\dtypes.py:495: FutureWarning: Passing (type, 1) or '1type' as a synonym of type is deprecated; in a future version of numpy, it will be understood as (type, (1,)) / '(1,)type'.\n",
      "  _np_qint16 = np.dtype([(\"qint16\", np.int16, 1)])\n",
      "C:\\ProgramData\\Anaconda3\\envs\\OLD_TF\\lib\\site-packages\\tensorflow\\python\\framework\\dtypes.py:496: FutureWarning: Passing (type, 1) or '1type' as a synonym of type is deprecated; in a future version of numpy, it will be understood as (type, (1,)) / '(1,)type'.\n",
      "  _np_quint16 = np.dtype([(\"quint16\", np.uint16, 1)])\n",
      "C:\\ProgramData\\Anaconda3\\envs\\OLD_TF\\lib\\site-packages\\tensorflow\\python\\framework\\dtypes.py:497: FutureWarning: Passing (type, 1) or '1type' as a synonym of type is deprecated; in a future version of numpy, it will be understood as (type, (1,)) / '(1,)type'.\n",
      "  _np_qint32 = np.dtype([(\"qint32\", np.int32, 1)])\n",
      "C:\\ProgramData\\Anaconda3\\envs\\OLD_TF\\lib\\site-packages\\tensorflow\\python\\framework\\dtypes.py:502: FutureWarning: Passing (type, 1) or '1type' as a synonym of type is deprecated; in a future version of numpy, it will be understood as (type, (1,)) / '(1,)type'.\n",
      "  np_resource = np.dtype([(\"resource\", np.ubyte, 1)])\n"
     ]
    }
   ],
   "source": [
    "import pandas as pd\n",
    "import tensorflow as tf\n",
    "import matplotlib.pyplot as plt"
   ]
  },
  {
   "cell_type": "markdown",
   "metadata": {},
   "source": [
    "$ \\begin{eqnarray} \n",
    "  \\nonumber\n",
    "&=&\n",
    "\\begin{bmatrix}\n",
    "  1\\\\\n",
    "  3\\\\\n",
    "  5\\\\\n",
    "\\end{bmatrix}+ \n",
    "\\begin{bmatrix}\n",
    "1 &   3\\\\\n",
    " 2 &  4\\\\\n",
    "\\end{bmatrix}\n",
    "\\end{eqnarray} $"
   ]
  },
  {
   "cell_type": "markdown",
   "metadata": {},
   "source": [
    "$\\begin{bmatrix}\n",
    "a & b \\\\\n",
    "c & d\n",
    "\\end{bmatrix}$"
   ]
  },
  {
   "cell_type": "markdown",
   "metadata": {},
   "source": [
    "$\\begin{bmatrix}\n",
    "1 & 2 \\\\\n",
    "3 & 4 \\\\\n",
    "5 & 6\n",
    "\\end{bmatrix}$"
   ]
  },
  {
   "attachments": {
    "image.png": {
     "image/png": "[encoded data removed]"
    }
   },
   "cell_type": "markdown",
   "metadata": {},
   "source": [
    "### Exercise 1. Please define a tensor: constant = vector [1, 2, 3] in format int16\n",
    "![image.png](attachment:image.png)"
   ]
  },
  {
   "attachments": {},
   "cell_type": "markdown",
   "metadata": {},
   "source": [
    "$ \\begin{bmatrix}\n",
    "1  \\\\\n",
    "2  \\\\\n",
    "3 \n",
    "\\end{bmatrix}$"
   ]
  },
  {
   "cell_type": "code",
   "execution_count": 2,
   "metadata": {},
   "outputs": [
    {
     "name": "stdout",
     "output_type": "stream",
     "text": [
      "Tensor(\"Const:0\", shape=(3,), dtype=int16)\n"
     ]
    }
   ],
   "source": [
    "vector1 = tf.constant ([1,3,5], tf.int16)\n",
    "print(vector1)"
   ]
  },
  {
   "attachments": {
    "image.png": {
     "image/png": "[encoded data removed]"
    }
   },
   "cell_type": "markdown",
   "metadata": {},
   "source": [
    "### Exercise 2. Please define a tensor: constant = matrix [1, 2, 3, 4] in format int16\n",
    "![image2.png](attachment:image.png)"
   ]
  },
  {
   "cell_type": "markdown",
   "metadata": {},
   "source": [
    "$\\begin{bmatrix}\n",
    "1 & 2 \\\\\n",
    "3 & 4\n",
    "\\end{bmatrix}$"
   ]
  },
  {
   "cell_type": "code",
   "execution_count": 3,
   "metadata": {},
   "outputs": [
    {
     "name": "stdout",
     "output_type": "stream",
     "text": [
      "Tensor(\"Const_1:0\", shape=(2, 2), dtype=int16)\n"
     ]
    }
   ],
   "source": [
    "matrix1 = tf.constant ([[1, 2],[3, 4]], tf.int16)\n",
    "print (matrix1)"
   ]
  },
  {
   "attachments": {
    "image.png": {
     "image/png": "[encoded data removed]"
    }
   },
   "cell_type": "markdown",
   "metadata": {},
   "source": [
    "### Exercise 3. Please define a tensor: constant = matrix [1, 2, 3, 4, 5, 6] in format int16\n",
    "![image3.png](attachment:image.png)"
   ]
  },
  {
   "cell_type": "markdown",
   "metadata": {},
   "source": [
    "$\\begin{bmatrix}\n",
    "1 & 2 \\\\\n",
    "3 & 4 \\\\\n",
    "5 & 6\n",
    "\\end{bmatrix}$"
   ]
  },
  {
   "cell_type": "code",
   "execution_count": 4,
   "metadata": {},
   "outputs": [
    {
     "name": "stdout",
     "output_type": "stream",
     "text": [
      "Tensor(\"Const_2:0\", shape=(1, 3, 2), dtype=int16)\n"
     ]
    }
   ],
   "source": [
    "matrix2 = tf.constant ([[[1, 2],  [3, 4], [5, 6]]], tf.int16)\n",
    "print (matrix2)"
   ]
  },
  {
   "cell_type": "code",
   "execution_count": 5,
   "metadata": {},
   "outputs": [
    {
     "data": {
      "text/plain": [
       "TensorShape([Dimension(1), Dimension(3), Dimension(2)])"
      ]
     },
     "execution_count": 5,
     "metadata": {},
     "output_type": "execute_result"
    }
   ],
   "source": [
    "matrix2.shape"
   ]
  },
  {
   "attachments": {
    "image.png": {
     "image/png": "[encoded data removed]"
    }
   },
   "cell_type": "markdown",
   "metadata": {},
   "source": [
    "### Exercise 4. Create a tensor in the form of a vector of a specific shape 5, filled with zeros\n",
    "![image4.png](attachment:image.png)"
   ]
  },
  {
   "cell_type": "markdown",
   "metadata": {},
   "source": [
    "$\\begin{bmatrix}\n",
    "0  \\\\\n",
    "0  \\\\\n",
    "0  \\\\\n",
    "0  \\\\\n",
    "0\n",
    "\\end{bmatrix}$"
   ]
  },
  {
   "cell_type": "code",
   "execution_count": 6,
   "metadata": {},
   "outputs": [
    {
     "name": "stdout",
     "output_type": "stream",
     "text": [
      "Tensor(\"zeros:0\", shape=(5,), dtype=float32)\n"
     ]
    },
    {
     "data": {
      "text/plain": [
       "TensorShape([Dimension(5)])"
      ]
     },
     "execution_count": 6,
     "metadata": {},
     "output_type": "execute_result"
    }
   ],
   "source": [
    "kot = tf.zeros(5)\n",
    "print(kot)\n",
    "kot.shape"
   ]
  },
  {
   "attachments": {
    "image.png": {
     "image/png": "[encoded data removed]"
    }
   },
   "cell_type": "markdown",
   "metadata": {},
   "source": [
    "### Exercise 5. Create a tensor in the form of a matrix with a specific 4x4 shape, filled with only ones\n",
    "\n",
    "![image5.png](attachment:image.png)"
   ]
  },
  {
   "cell_type": "markdown",
   "metadata": {},
   "source": [
    "$\\begin{bmatrix}\n",
    "1 & 1 & 1 & 1\\\\\n",
    "1 & 1 & 1 & 1\\\\\n",
    "1 & 1 & 1 & 1\\\\\n",
    "1 & 1 & 1 & 1\n",
    "\\end{bmatrix}$"
   ]
  },
  {
   "cell_type": "code",
   "execution_count": 7,
   "metadata": {},
   "outputs": [
    {
     "name": "stdout",
     "output_type": "stream",
     "text": [
      "Tensor(\"ones:0\", shape=(4, 4), dtype=float32)\n"
     ]
    },
    {
     "data": {
      "text/plain": [
       "TensorShape([Dimension(4), Dimension(4)])"
      ]
     },
     "execution_count": 7,
     "metadata": {},
     "output_type": "execute_result"
    }
   ],
   "source": [
    "fok = tf.ones ([4, 4])\n",
    "print(fok)\n",
    "fok.shape"
   ]
  },
  {
   "attachments": {
    "image.png": {
     "image/png": "[encoded data removed]"
    }
   },
   "cell_type": "markdown",
   "metadata": {},
   "source": [
    "### Exercise 6. Matrix adding \n",
    "![image6.png](attachment:image.png)"
   ]
  },
  {
   "cell_type": "markdown",
   "metadata": {},
   "source": [
    "$ \\begin{eqnarray} \n",
    "  \\nonumber\n",
    "\\begin{bmatrix}\n",
    " 2 &  5\\\\\n",
    " 4 &  5\\\\\n",
    "\\end{bmatrix}\n",
    "&=&\n",
    "\\begin{bmatrix}\n",
    " 1 &  3\\\\\n",
    " 2 &  4\\\\\n",
    "\\end{bmatrix}+ \n",
    "\\begin{bmatrix}\n",
    " 1 &  2\\\\\n",
    " 2 &  1\\\\\n",
    "\\end{bmatrix}\n",
    "\\end{eqnarray} $"
   ]
  },
  {
   "cell_type": "markdown",
   "metadata": {},
   "source": [
    "To add two matrices, their dimensions must be equal. That is, the number of rows and the number of columns of the first and second matrices must be equal."
   ]
  },
  {
   "cell_type": "code",
   "execution_count": 8,
   "metadata": {},
   "outputs": [],
   "source": [
    "matrix3 = tf.constant ([[[1, 3], [2, 4]]], tf.int16)\n",
    "matrix4 = tf.constant ([[[1, 2], [2, 1]]], tf.int16)"
   ]
  },
  {
   "cell_type": "code",
   "execution_count": 9,
   "metadata": {},
   "outputs": [],
   "source": [
    "PZU = tf.add(matrix3, matrix4)"
   ]
  },
  {
   "cell_type": "code",
   "execution_count": 10,
   "metadata": {},
   "outputs": [
    {
     "name": "stdout",
     "output_type": "stream",
     "text": [
      "[[[2 5]\n",
      "  [4 5]]]\n"
     ]
    }
   ],
   "source": [
    "sess = tf.Session()\n",
    "print(sess.run(PZU))"
   ]
  },
  {
   "attachments": {
    "image.png": {
     "image/png": "[encoded data removed]"
    }
   },
   "cell_type": "markdown",
   "metadata": {},
   "source": [
    "### Exercise 7. Matrix subtraction\n",
    "![image7.png](attachment:image.png)"
   ]
  },
  {
   "cell_type": "markdown",
   "metadata": {},
   "source": [
    "### $ \\begin{eqnarray} \n",
    "  \\nonumber\n",
    "\\begin{bmatrix}\n",
    " 0 &  1\\\\\n",
    " 0 &  3\\\\\n",
    "\\end{bmatrix}\n",
    "&=&\n",
    "\\begin{bmatrix}\n",
    " 1 &  3\\\\\n",
    " 2 &  4\\\\\n",
    "\\end{bmatrix}- \n",
    "\\begin{bmatrix}\n",
    " 1 &  2\\\\\n",
    " 2 &  1\\\\\n",
    "\\end{bmatrix}\n",
    "\\end{eqnarray} $"
   ]
  },
  {
   "cell_type": "markdown",
   "metadata": {},
   "source": [
    "To subtract two matrices their dimensions must be equal. That is, the number of rows and the number of columns of the first and second matrices must be equal."
   ]
  },
  {
   "cell_type": "code",
   "execution_count": 11,
   "metadata": {},
   "outputs": [],
   "source": [
    "PZU = tf.subtract(matrix3, matrix4)"
   ]
  },
  {
   "cell_type": "code",
   "execution_count": 12,
   "metadata": {},
   "outputs": [
    {
     "name": "stdout",
     "output_type": "stream",
     "text": [
      "[[[0 1]\n",
      "  [0 3]]]\n"
     ]
    }
   ],
   "source": [
    "sess = tf.Session()\n",
    "print(sess.run(PZU))"
   ]
  },
  {
   "attachments": {
    "image.png": {
     "image/png": "[encoded data removed]"
    }
   },
   "cell_type": "markdown",
   "metadata": {},
   "source": [
    "### Exercise 8. Multiply the matrix by a number \n",
    "![image8.png](attachment:image.png)"
   ]
  },
  {
   "cell_type": "markdown",
   "metadata": {},
   "source": [
    "### $ \\begin{eqnarray} \n",
    "  \\nonumber\n",
    "\\begin{bmatrix}\n",
    " 5 &  10 \\\\\n",
    " 15 &  20 \\\\\n",
    "\\end{bmatrix}\n",
    "&=&\n",
    "\\begin{bmatrix}\n",
    " 1 &  2 \\\\\n",
    " 3 &  4 \\\\\n",
    "\\end{bmatrix}* \n",
    "\\end{eqnarray}$ 5"
   ]
  },
  {
   "cell_type": "code",
   "execution_count": 13,
   "metadata": {},
   "outputs": [],
   "source": [
    "matrix1 = tf.constant ([[1, 2],[3, 4]], tf.int16)"
   ]
  },
  {
   "cell_type": "code",
   "execution_count": 14,
   "metadata": {},
   "outputs": [],
   "source": [
    "FOK = tf.multiply (matrix1, 5)"
   ]
  },
  {
   "cell_type": "code",
   "execution_count": 15,
   "metadata": {},
   "outputs": [
    {
     "name": "stdout",
     "output_type": "stream",
     "text": [
      "[[ 5 10]\n",
      " [15 20]]\n"
     ]
    }
   ],
   "source": [
    "sess = tf.Session()\n",
    "print(sess.run(FOK))"
   ]
  },
  {
   "attachments": {
    "image.png": {
     "image/png": "[encoded data removed]"
    }
   },
   "cell_type": "markdown",
   "metadata": {},
   "source": [
    "### Exercise 9. Multiply the matrix by a number TensorFlow\n",
    "![image9.png](attachment:image.png)"
   ]
  },
  {
   "cell_type": "markdown",
   "metadata": {},
   "source": [
    "### $ \\begin{eqnarray} \n",
    "  \\nonumber\n",
    "\\begin{bmatrix}\n",
    " 10 &  35 &  20\\\\\n",
    " 25 &  10 &  5\\\\\n",
    " 30 &  15 &  20\\\\\n",
    "\\end{bmatrix}\n",
    "&=&\n",
    "\\begin{bmatrix}\n",
    " 2 &  7 &  4\\\\\n",
    " 5 &  2 &  1\\\\\n",
    " 6 &  3 &  4\\\\\n",
    "\\end{bmatrix}* \n",
    "\\end{eqnarray}$ 5"
   ]
  },
  {
   "cell_type": "code",
   "execution_count": 16,
   "metadata": {},
   "outputs": [],
   "source": [
    "matrix5 = tf.constant ([[2,7,4],[5,2,1],[6,3,4]], tf.int16)"
   ]
  },
  {
   "cell_type": "code",
   "execution_count": 17,
   "metadata": {},
   "outputs": [],
   "source": [
    "ZHP = tf.multiply (matrix1, 5)"
   ]
  },
  {
   "cell_type": "code",
   "execution_count": 18,
   "metadata": {},
   "outputs": [
    {
     "name": "stdout",
     "output_type": "stream",
     "text": [
      "[[ 5 10]\n",
      " [15 20]]\n"
     ]
    }
   ],
   "source": [
    "sess = tf.Session()\n",
    "print(sess.run(ZHP))"
   ]
  },
  {
   "attachments": {
    "image.png": {
     "image/png": "[encoded data removed]"
    }
   },
   "cell_type": "markdown",
   "metadata": {},
   "source": [
    "### Exercise 10. Multiply the matrix by a matrix TensorFlow\n",
    "\n",
    "Matrix multiplication is not alternating.\n",
    "\n",
    "![image11.png](attachment:image.png)"
   ]
  },
  {
   "cell_type": "markdown",
   "metadata": {},
   "source": [
    "### $ \\begin{eqnarray} \n",
    "  \\nonumber\n",
    "\\begin{bmatrix}\n",
    " 33 &  40\\\\\n",
    " 86 &  66\\\\\n",
    "\\end{bmatrix}\n",
    "&=&\n",
    "\\begin{bmatrix}\n",
    " 1 &  4 &  6\\\\\n",
    " 8 &  2 &  4\\\\\n",
    "\\end{bmatrix}* \n",
    "\\begin{bmatrix}\n",
    " 9 &  6\\\\\n",
    " 3 &  7\\\\\n",
    " 2 &  1\\\\\n",
    "\\end{bmatrix}\n",
    "\\end{eqnarray} $"
   ]
  },
  {
   "attachments": {
    "image.png": {
     "image/png": "[encoded data removed]"
    }
   },
   "cell_type": "markdown",
   "metadata": {},
   "source": [
    "![image.png](attachment:image.png)"
   ]
  },
  {
   "cell_type": "code",
   "execution_count": 19,
   "metadata": {},
   "outputs": [],
   "source": [
    "matrix6 = tf.constant([[1,4,6],[8,2,4]],tf.int32)\n",
    "matrix7 = tf.constant([[9,6],[3,7],[2,1]],tf.int32)\n",
    "\n",
    "KPU = tf.matmul(matrix6,matrix7)"
   ]
  },
  {
   "cell_type": "code",
   "execution_count": 20,
   "metadata": {},
   "outputs": [
    {
     "name": "stdout",
     "output_type": "stream",
     "text": [
      "[[33 40]\n",
      " [86 66]]\n"
     ]
    }
   ],
   "source": [
    "sess = tf.Session()\n",
    "print(sess.run(KPU))"
   ]
  },
  {
   "cell_type": "markdown",
   "metadata": {},
   "source": [
    "### Exercise 11. Multiply the matrix by a matrix TensorFlow\n",
    "Matrix multiplication is not alternating."
   ]
  },
  {
   "attachments": {
    "image.png": {
     "image/png": "[encoded data removed]"
    }
   },
   "cell_type": "markdown",
   "metadata": {},
   "source": [
    "![image.png](attachment:image.png)"
   ]
  },
  {
   "cell_type": "code",
   "execution_count": 21,
   "metadata": {},
   "outputs": [],
   "source": [
    "KPU = tf.matmul(matrix7,matrix6)"
   ]
  },
  {
   "cell_type": "code",
   "execution_count": 22,
   "metadata": {},
   "outputs": [
    {
     "name": "stdout",
     "output_type": "stream",
     "text": [
      "[[57 48 78]\n",
      " [59 26 46]\n",
      " [10 10 16]]\n"
     ]
    }
   ],
   "source": [
    "sess = tf.Session()\n",
    "print(sess.run(KPU))"
   ]
  },
  {
   "cell_type": "markdown",
   "metadata": {},
   "source": [
    "### Exercise 11. Multiplication of C⋅D square matrices"
   ]
  },
  {
   "attachments": {
    "image.png": {
     "image/png": "[encoded data removed]"
    }
   },
   "cell_type": "markdown",
   "metadata": {},
   "source": [
    "![image.png](attachment:image.png)"
   ]
  },
  {
   "cell_type": "code",
   "execution_count": 23,
   "metadata": {},
   "outputs": [],
   "source": [
    "matrix8 = tf.constant([[5,6,1],[8,7,9],[1,5,2]],tf.int32)\n",
    "matrix9 = tf.constant([[4,6,7],[2,5,1],[0,3,9]],tf.int32)"
   ]
  },
  {
   "cell_type": "code",
   "execution_count": 24,
   "metadata": {},
   "outputs": [],
   "source": [
    "PKS = tf.matmul(matrix8,matrix9)"
   ]
  },
  {
   "cell_type": "code",
   "execution_count": 25,
   "metadata": {},
   "outputs": [
    {
     "name": "stdout",
     "output_type": "stream",
     "text": [
      "[[ 32  63  50]\n",
      " [ 46 110 144]\n",
      " [ 14  37  30]]\n"
     ]
    }
   ],
   "source": [
    "sess = tf.Session()\n",
    "print(sess.run(PKS))"
   ]
  },
  {
   "attachments": {
    "image.png": {
     "image/png": "[encoded data removed]"
    }
   },
   "cell_type": "markdown",
   "metadata": {},
   "source": [
    "### Exercise 11.Transpose the matrix\n",
    "![image12.png](attachment:image.png)"
   ]
  },
  {
   "cell_type": "markdown",
   "metadata": {},
   "source": [
    "\n",
    "\n",
    "$A=\\begin{bmatrix} \n",
    "1 & 3 & 9 \\\\ \n",
    "7 & 2 & 5 \\\\  \n",
    "\\end{bmatrix}$\n",
    "\n",
    "$A^T=\\begin{bmatrix} \n",
    "1 & 7 \\\\\n",
    "3 & 2 \\\\ \n",
    "9 & 5 \\\\  \n",
    "\\end{bmatrix}$\n"
   ]
  },
  {
   "cell_type": "code",
   "execution_count": 26,
   "metadata": {},
   "outputs": [],
   "source": [
    "x = tf.constant([[1, 3, 9], [7, 2, 5]])\n",
    "GAP = tf.transpose(x)"
   ]
  },
  {
   "cell_type": "code",
   "execution_count": 27,
   "metadata": {},
   "outputs": [
    {
     "name": "stdout",
     "output_type": "stream",
     "text": [
      "[[1 7]\n",
      " [3 2]\n",
      " [9 5]]\n"
     ]
    }
   ],
   "source": [
    "sess = tf.Session()\n",
    "print(sess.run(GAP))"
   ]
  },
  {
   "cell_type": "markdown",
   "metadata": {},
   "source": [
    "### Exercise 12. Determinant of the matrix"
   ]
  },
  {
   "attachments": {
    "image.png": {
     "image/png": "[encoded data removed]"
    }
   },
   "cell_type": "markdown",
   "metadata": {},
   "source": [
    "![image.png](attachment:image.png)"
   ]
  },
  {
   "cell_type": "markdown",
   "metadata": {},
   "source": [
    "$A = \\begin{bmatrix}\n",
    "1 & 2 \\\\\n",
    "3 & 4\n",
    "\\end{bmatrix}$\n",
    "\n",
    "\n",
    "$|A| = (1*4)-(3*2)= -2$ "
   ]
  },
  {
   "cell_type": "code",
   "execution_count": 28,
   "metadata": {},
   "outputs": [],
   "source": [
    "matrix1 = tf.constant ([[1, 2],[3, 4]], tf.float32)"
   ]
  },
  {
   "cell_type": "code",
   "execution_count": 29,
   "metadata": {},
   "outputs": [],
   "source": [
    "PKO = tf.matrix_determinant(matrix1)"
   ]
  },
  {
   "cell_type": "code",
   "execution_count": 30,
   "metadata": {},
   "outputs": [
    {
     "name": "stdout",
     "output_type": "stream",
     "text": [
      "-2.0\n"
     ]
    }
   ],
   "source": [
    "sess = tf.Session()\n",
    "print(sess.run(PKO))"
   ]
  },
  {
   "cell_type": "markdown",
   "metadata": {},
   "source": [
    "### Exercise 13. Diagonal matrix\n",
    "Diagonal matrix - a matrix, usually square [a], whose all coefficients lying outside the main diagonal (main diagonal) are zero. In other words, it is an upper- and lower-triangular matrix at the same time."
   ]
  },
  {
   "cell_type": "code",
   "execution_count": 31,
   "metadata": {},
   "outputs": [],
   "source": [
    "PPS = tf.diag([1.2, 1.5, 1.0, 7.1, 2, 8.3])"
   ]
  },
  {
   "cell_type": "code",
   "execution_count": 32,
   "metadata": {},
   "outputs": [
    {
     "name": "stdout",
     "output_type": "stream",
     "text": [
      "[[1.2 0.  0.  0.  0.  0. ]\n",
      " [0.  1.5 0.  0.  0.  0. ]\n",
      " [0.  0.  1.  0.  0.  0. ]\n",
      " [0.  0.  0.  7.1 0.  0. ]\n",
      " [0.  0.  0.  0.  2.  0. ]\n",
      " [0.  0.  0.  0.  0.  8.3]]\n"
     ]
    }
   ],
   "source": [
    "sess = tf.Session()\n",
    "print(sess.run(PPS))"
   ]
  },
  {
   "cell_type": "markdown",
   "metadata": {},
   "source": [
    "### Exercise 14. Outputs random values from a truncated normal distribution\n",
    "https://docs.w3cub.com/tensorflow~python/tf/truncated_normal/\n",
    "\n",
    "The generated values follow a normal distribution with specified mean and standard deviation, except that values whose magnitude is more than 2 standard deviations from the mean are dropped and re-picked."
   ]
  },
  {
   "cell_type": "code",
   "execution_count": 33,
   "metadata": {},
   "outputs": [],
   "source": [
    "ABC = tf.truncated_normal([2, 3])"
   ]
  },
  {
   "cell_type": "code",
   "execution_count": 34,
   "metadata": {},
   "outputs": [
    {
     "name": "stdout",
     "output_type": "stream",
     "text": [
      "[[ 0.05371307  1.4564506  -1.7267214 ]\n",
      " [-1.7192566   1.5986782   0.91717476]]\n"
     ]
    }
   ],
   "source": [
    "sess = tf.Session()\n",
    "print(sess.run(ABC))"
   ]
  },
  {
   "cell_type": "code",
   "execution_count": 35,
   "metadata": {},
   "outputs": [
    {
     "name": "stdout",
     "output_type": "stream",
     "text": [
      "(2, 3)\n"
     ]
    }
   ],
   "source": [
    "print(ABC.shape)"
   ]
  },
  {
   "cell_type": "markdown",
   "metadata": {},
   "source": [
    "Random values for the mean: 7 and standard deviation: 2. Generate matrix: 3 by 5, the values should be in the format: float32."
   ]
  },
  {
   "cell_type": "code",
   "execution_count": 39,
   "metadata": {},
   "outputs": [],
   "source": [
    "KSU = tf.truncated_normal([3,5],mean=7,stddev=2.0,dtype=tf.float32)\n",
    "sess = tf.Session()"
   ]
  },
  {
   "cell_type": "markdown",
   "metadata": {},
   "source": [
    "### Exercise 15. Creates a tensor filled with a scalar value.\n",
    "\n",
    "This operation creates a tensor of shape dims and fills it with value.\n",
    "https://docs.w3cub.com/tensorflow~python/tf/fill/"
   ]
  },
  {
   "cell_type": "code",
   "execution_count": 40,
   "metadata": {},
   "outputs": [
    {
     "name": "stdout",
     "output_type": "stream",
     "text": [
      "[[4 4]\n",
      " [4 4]\n",
      " [4 4]\n",
      " [4 4]]\n"
     ]
    }
   ],
   "source": [
    "print(sess.run(tf.fill([4,2],4)))"
   ]
  },
  {
   "cell_type": "markdown",
   "metadata": {},
   "source": [
    "Macierz 4x2 wypełniona wartościami 4"
   ]
  },
  {
   "cell_type": "markdown",
   "metadata": {},
   "source": [
    "### Exercise 16. Outputs random values from a uniform distribution.\n",
    "\n",
    "The generated values follow a uniform distribution in the range [minval, maxval). The lower bound minval is included in the range, while the upper bound maxval is excluded.\n",
    "\n",
    "https://docs.w3cub.com/tensorflow~python/tf/random_uniform/"
   ]
  },
  {
   "cell_type": "code",
   "execution_count": 41,
   "metadata": {},
   "outputs": [],
   "source": [
    "GAD = tf.random_uniform([3,7], minval=4, maxval=8, dtype=tf.float32)"
   ]
  },
  {
   "cell_type": "code",
   "execution_count": 42,
   "metadata": {},
   "outputs": [
    {
     "name": "stdout",
     "output_type": "stream",
     "text": [
      "[[5.8656416 4.652042  4.3458786 5.7581544 6.0479655 6.6700726 6.035503 ]\n",
      " [5.729369  7.1762366 6.052859  6.8669724 6.278867  5.959975  7.3483486]\n",
      " [7.441143  7.3443627 6.4590683 5.6526484 5.656465  4.5448027 5.9519987]]\n"
     ]
    }
   ],
   "source": [
    "sess = tf.Session()\n",
    "print(sess.run(GAD))"
   ]
  },
  {
   "cell_type": "markdown",
   "metadata": {},
   "source": [
    "### Exercise 17. Transforming the matrix into a Tensorflow matrix\n",
    "\n",
    "We have some kind of matrix and we want to include it in the tensorflow model."
   ]
  },
  {
   "cell_type": "code",
   "execution_count": 43,
   "metadata": {},
   "outputs": [
    {
     "data": {
      "text/plain": [
       "array([[ 1.,  2.,  3.],\n",
       "       [-3., -7., -1.],\n",
       "       [ 0.,  5., -2.]])"
      ]
     },
     "execution_count": 43,
     "metadata": {},
     "output_type": "execute_result"
    }
   ],
   "source": [
    "import numpy as np\n",
    "KAT = np.array([[1., 2., 3.],[-3., -7., -1.],[0., 5., -2.]])\n",
    "KAT"
   ]
  },
  {
   "cell_type": "code",
   "execution_count": 44,
   "metadata": {},
   "outputs": [],
   "source": [
    "DOK = tf.convert_to_tensor(KAT)"
   ]
  },
  {
   "cell_type": "code",
   "execution_count": 45,
   "metadata": {},
   "outputs": [
    {
     "name": "stdout",
     "output_type": "stream",
     "text": [
      "[[ 1.  2.  3.]\n",
      " [-3. -7. -1.]\n",
      " [ 0.  5. -2.]]\n"
     ]
    }
   ],
   "source": [
    "sess = tf.Session()\n",
    "print(sess.run(DOK))"
   ]
  }
 ],
 "metadata": {
  "kernelspec": {
   "display_name": "Python 3",
   "language": "python",
   "name": "python3"
  },
  "language_info": {
   "codemirror_mode": {
    "name": "ipython",
    "version": 3
   },
   "file_extension": ".py",
   "mimetype": "text/x-python",
   "name": "python",
   "nbconvert_exporter": "python",
   "pygments_lexer": "ipython3",
   "version": "3.6.9"
  }
 },
 "nbformat": 4,
 "nbformat_minor": 2
}
