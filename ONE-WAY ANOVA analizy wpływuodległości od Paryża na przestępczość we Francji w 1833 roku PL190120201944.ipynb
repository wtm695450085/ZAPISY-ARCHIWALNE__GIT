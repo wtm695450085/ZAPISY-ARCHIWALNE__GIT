{
 "cells": [
  {
   "cell_type": "markdown",
   "metadata": {},
   "source": [
    "# ONE-WAY ANOVA analizy wpływuodległości od Paryża na przestępczość we Francji w 1833 roku\n",
    "18:10\n",
    "\n",
    "Guerry, Essay on the Moral Statistics of France (1833)\n",
    "Source: http://datavis.ca/gallery/guerry/guerrydat.html\n"
   ]
  },
  {
   "cell_type": "markdown",
   "metadata": {},
   "source": [
    "<div class=\"alert-success\">\n",
    "    \n",
    "1. <span style=\"color:blue\">dept</span> wydział\tNum\tID działu Standardowe numery dla działów, z wyjątkiem Korsyki (200).\n",
    "2. <span style=\"color:blue\">Region</span> Region\tChar (1)\tRegion Region Francji („N” = „Północ”, „S” = „Południe”, „E” = „Wschód”, „W” = „Zachód”, „C” = „Środek”). Korsyka ma kod „” (brak, NA)\n",
    "3.\t<span style=\"color:blue\">Department</span> Departament\tChar (25)\tNazwa departamentu Nazwy departamentów są nazywane zgodnie z użyciem w 1830 roku. Zobacz depts.txt, aby uzyskać alternatywne kodowanie nazw departamentów.\n",
    "4.\t<span style=\"color:blue\">Crime_pers</span> Crime_pers\tNum\tMuzyka pop. za przestępstwa przeciwko osobom Źródło: A2 (Compte général, 1825-1830)\n",
    "5.\t<span style=\"color:blue\">Crime_prop</span> Crime_prop\tNum\tMuzyka pop. za przestępstwo przeciwko mieniu Źródło: A2 (Compte général, 1825-1830)\n",
    "6.\t<span style=\"color:blue\">Literacy</span> Alfabetyzacja\tNum\tProcent odczytu i zapisu Procent poborowych wojskowych, którzy potrafią czytać i pisać Źródło: A2\n",
    "7.\t<span style=\"color:blue\">Donations</span> Darowizny\tNum\tDarowizny dla biednych Źródło: A2 (Bulletin des lois)\n",
    "8.\t<span style=\"color:blue\">Infants</span> Niemowlęta\tNum\tMuzyka pop. na nielegalne urodzenie Źródło: A2 (Bureaau des Longitudes, 1817-1821)\n",
    "9.\t<span style=\"color:blue\">Suicides</span> Samobójstwa\tNum\tMuzyka pop. na samobójstwo Źródło: A2 (Compte général, 1827-1830)\n",
    "10.\t<span style=\"color:blue\">MainCity</span> Główne Miasto\tChar (5)\tRozmiar głównego miasta Rozmiar głównego miasta („1: Sm”, „2: Med”, „3: Lg”), stosowany jako surogat dla gęstości zalewania. Duże odnosi się do górnej 10, małe do dolnej 10; wszystkie pozostałe są sklasyfikowane jako średnie. Źródło: A1\n",
    "11.\t<span style=\"color:blue\">Wealth</span> Bogactwo\tRanga\tPodatek per capita od nieruchomości osobistych Indeks rankingowy oparty na podatkach od nieruchomości osobistych i ruchomych na mieszkańca Źródło: A1\n",
    "12.\t<span style=\"color:blue\">Commerce</span> Handel\tRanga\tHandel i przemysł Handel i przemysł mierzony rangą liczby patentów / populacji Źródło: A1\n",
    "13.\t<span style=\"color:blue\">Clergy</span> Kler\tRanga\tDystrybucja duchowieństwa Dystrybucja duchowieństwa mierzona stopniem liczby księży katolickich w czynnej służbie / ludności Źródło: A1 (Almanach officiel du clergy, 1829)\n",
    "14.\t<span style=\"color:blue\">Crime_parents</span> Kryminalni rodzice\tRanga\tPrzestępstwa przeciwko rodzicom Przestępstwa przeciwko rodzicom, mierzone stopniem stosunku przestępstw przeciwko rodzicom do wszystkich przestępstw - Średnia z lat 1825–1830 Źródło: A1 (Compte général)\n",
    "15.\t<span style=\"color:blue\">Infanticide</span> Dzieciobójca\tRanga\tLiczba dzieciobójstw na jednego mieszkańca Wskaźnik wskaźnikowy liczby dzieciobójstw do liczby ludności - Średnia z lat 1825–1830 Źródło: A1 (Compte général)\n",
    "16.\t<span style=\"color:blue\">Donation_clergy</span> Duchowieństwo\tRanga\tDarowizny dla duchowieństwa Wskaźniki rankingowe liczby zapisów i darowizn między żywymi dla ludności - Średnia dla lat 1815–1824 Źródło: A1 (Bull. Des lois, ordunn. D'autorization)\n",
    "17.\t<span style=\"color:blue\">Lottery</span> Loteria\tRanga Zakład per capita w Royal Lottery Ranking rankingowy wpływów z zakładów loterii królewskiej do liczby ludności --- Średnia z lat 1822–1826 Źródło: A1 (Compte rendus par le ministre des finances)\n",
    "18.\t<span style=\"color:blue\">Desertion</span> Dezercja\tRanga\tDezercja wojskowa Desercja wojskowa, stosunek liczby młodych żołnierzy oskarżonych o dezercję do siły kontyngentu wojskowego, minus deficyt spowodowany niewystarczalnością dostępnych polan - średnia z lat 1825–1827. Źródło: A1 (Compte du ministere du guerre, 1829 etat V)\n",
    "19.\t<span style=\"color:blue\">Instruction</span> Instrukcja\tRanga\tRankingi instrukcji zapisane z mapy instrukcji Guerry'ego. Uwaga: jest to odwrotnie związane z umiejętnością czytania i pisania (zgodnie z definicją tutaj).\n",
    "20.\t<span style=\"color:blue\">Prostitutes</span> Prostytutki\tNum\tProstytutki w Paryżu Liczba prostytutek zarejestrowanych w Paryżu w latach 1816–1834, sklasyfikowanych według departamentu ich urodzenia Źródło: Parent-Duchatelet (1836), De la prostitution en Paris\n",
    "21.\t<span style=\"color:blue\">Distance</span> Dystans\tNum\tOdległość do Paryża (km) Odległość każdego centroidu departamentu do centroidu Sekwany (Paryż) Źródło: obliczone na podstawie centroidów departamentów\n",
    "22.\t<span style=\"color:blue\">Area</span> Powierzchnia\tNum\tObszar (1000 km^2) Źródło: Angeville (1836)\n",
    "23.\t<span style=\"color:blue\">Pop1831</span> Pop1831\tNum\t1831 populacja ludności w 1831 roku, pochodzi z Angeville (1836), Essai sur la Statistique de la Populacja français w 1000s.\n",
    "    \n",
    "</div>"
   ]
  },
  {
   "cell_type": "code",
   "execution_count": 2,
   "metadata": {},
   "outputs": [
    {
     "data": {
      "text/html": [
       "<div>\n",
       "<style scoped>\n",
       "    .dataframe tbody tr th:only-of-type {\n",
       "        vertical-align: middle;\n",
       "    }\n",
       "\n",
       "    .dataframe tbody tr th {\n",
       "        vertical-align: top;\n",
       "    }\n",
       "\n",
       "    .dataframe thead th {\n",
       "        text-align: right;\n",
       "    }\n",
       "</style>\n",
       "<table border=\"1\" class=\"dataframe\">\n",
       "  <thead>\n",
       "    <tr style=\"text-align: right;\">\n",
       "      <th></th>\n",
       "      <th>dept</th>\n",
       "      <th>Region</th>\n",
       "      <th>Crime_pers</th>\n",
       "      <th>Crime_prop</th>\n",
       "      <th>Literacy</th>\n",
       "      <th>Donations</th>\n",
       "      <th>Infants</th>\n",
       "      <th>Suicides</th>\n",
       "      <th>MainCity</th>\n",
       "      <th>Wealth</th>\n",
       "      <th>...</th>\n",
       "      <th>Crime_parents</th>\n",
       "      <th>Infanticide</th>\n",
       "      <th>Donation_clergy</th>\n",
       "      <th>Lottery</th>\n",
       "      <th>Desertion</th>\n",
       "      <th>Instruction</th>\n",
       "      <th>Prostitutes</th>\n",
       "      <th>Distance</th>\n",
       "      <th>Area</th>\n",
       "      <th>Pop1831</th>\n",
       "    </tr>\n",
       "    <tr>\n",
       "      <th>Department</th>\n",
       "      <th></th>\n",
       "      <th></th>\n",
       "      <th></th>\n",
       "      <th></th>\n",
       "      <th></th>\n",
       "      <th></th>\n",
       "      <th></th>\n",
       "      <th></th>\n",
       "      <th></th>\n",
       "      <th></th>\n",
       "      <th></th>\n",
       "      <th></th>\n",
       "      <th></th>\n",
       "      <th></th>\n",
       "      <th></th>\n",
       "      <th></th>\n",
       "      <th></th>\n",
       "      <th></th>\n",
       "      <th></th>\n",
       "      <th></th>\n",
       "      <th></th>\n",
       "    </tr>\n",
       "  </thead>\n",
       "  <tbody>\n",
       "    <tr>\n",
       "      <th>Ain</th>\n",
       "      <td>1</td>\n",
       "      <td>E</td>\n",
       "      <td>28870</td>\n",
       "      <td>15890</td>\n",
       "      <td>37</td>\n",
       "      <td>5098</td>\n",
       "      <td>33120</td>\n",
       "      <td>35039</td>\n",
       "      <td>2:Med</td>\n",
       "      <td>73</td>\n",
       "      <td>...</td>\n",
       "      <td>71</td>\n",
       "      <td>60</td>\n",
       "      <td>69</td>\n",
       "      <td>41</td>\n",
       "      <td>55</td>\n",
       "      <td>46</td>\n",
       "      <td>13</td>\n",
       "      <td>218.372</td>\n",
       "      <td>5762</td>\n",
       "      <td>346.03</td>\n",
       "    </tr>\n",
       "    <tr>\n",
       "      <th>Aisne</th>\n",
       "      <td>2</td>\n",
       "      <td>N</td>\n",
       "      <td>26226</td>\n",
       "      <td>5521</td>\n",
       "      <td>51</td>\n",
       "      <td>8901</td>\n",
       "      <td>14572</td>\n",
       "      <td>12831</td>\n",
       "      <td>2:Med</td>\n",
       "      <td>22</td>\n",
       "      <td>...</td>\n",
       "      <td>4</td>\n",
       "      <td>82</td>\n",
       "      <td>36</td>\n",
       "      <td>38</td>\n",
       "      <td>82</td>\n",
       "      <td>24</td>\n",
       "      <td>327</td>\n",
       "      <td>65.945</td>\n",
       "      <td>7369</td>\n",
       "      <td>513.00</td>\n",
       "    </tr>\n",
       "    <tr>\n",
       "      <th>Allier</th>\n",
       "      <td>3</td>\n",
       "      <td>C</td>\n",
       "      <td>26747</td>\n",
       "      <td>7925</td>\n",
       "      <td>13</td>\n",
       "      <td>10973</td>\n",
       "      <td>17044</td>\n",
       "      <td>114121</td>\n",
       "      <td>2:Med</td>\n",
       "      <td>61</td>\n",
       "      <td>...</td>\n",
       "      <td>46</td>\n",
       "      <td>42</td>\n",
       "      <td>76</td>\n",
       "      <td>66</td>\n",
       "      <td>16</td>\n",
       "      <td>85</td>\n",
       "      <td>34</td>\n",
       "      <td>161.927</td>\n",
       "      <td>7340</td>\n",
       "      <td>298.26</td>\n",
       "    </tr>\n",
       "    <tr>\n",
       "      <th>Basses-Alpes</th>\n",
       "      <td>4</td>\n",
       "      <td>E</td>\n",
       "      <td>12935</td>\n",
       "      <td>7289</td>\n",
       "      <td>46</td>\n",
       "      <td>2733</td>\n",
       "      <td>23018</td>\n",
       "      <td>14238</td>\n",
       "      <td>1:Sm</td>\n",
       "      <td>76</td>\n",
       "      <td>...</td>\n",
       "      <td>70</td>\n",
       "      <td>12</td>\n",
       "      <td>37</td>\n",
       "      <td>80</td>\n",
       "      <td>32</td>\n",
       "      <td>29</td>\n",
       "      <td>2</td>\n",
       "      <td>351.399</td>\n",
       "      <td>6925</td>\n",
       "      <td>155.90</td>\n",
       "    </tr>\n",
       "  </tbody>\n",
       "</table>\n",
       "<p>4 rows × 22 columns</p>\n",
       "</div>"
      ],
      "text/plain": [
       "              dept Region  Crime_pers  Crime_prop  Literacy  Donations  \\\n",
       "Department                                                               \n",
       "Ain              1      E       28870       15890        37       5098   \n",
       "Aisne            2      N       26226        5521        51       8901   \n",
       "Allier           3      C       26747        7925        13      10973   \n",
       "Basses-Alpes     4      E       12935        7289        46       2733   \n",
       "\n",
       "              Infants  Suicides MainCity  Wealth  ...  Crime_parents  \\\n",
       "Department                                        ...                  \n",
       "Ain             33120     35039    2:Med      73  ...             71   \n",
       "Aisne           14572     12831    2:Med      22  ...              4   \n",
       "Allier          17044    114121    2:Med      61  ...             46   \n",
       "Basses-Alpes    23018     14238     1:Sm      76  ...             70   \n",
       "\n",
       "              Infanticide  Donation_clergy  Lottery  Desertion  Instruction  \\\n",
       "Department                                                                    \n",
       "Ain                    60               69       41         55           46   \n",
       "Aisne                  82               36       38         82           24   \n",
       "Allier                 42               76       66         16           85   \n",
       "Basses-Alpes           12               37       80         32           29   \n",
       "\n",
       "              Prostitutes  Distance  Area  Pop1831  \n",
       "Department                                          \n",
       "Ain                    13   218.372  5762   346.03  \n",
       "Aisne                 327    65.945  7369   513.00  \n",
       "Allier                 34   161.927  7340   298.26  \n",
       "Basses-Alpes            2   351.399  6925   155.90  \n",
       "\n",
       "[4 rows x 22 columns]"
      ]
     },
     "execution_count": 2,
     "metadata": {},
     "output_type": "execute_result"
    }
   ],
   "source": [
    "import pandas as pd\n",
    "\n",
    "df = pd.read_csv('c:/1/Guerry.csv', index_col='Department')\n",
    "del df['Unnamed: 0']\n",
    "df.head(4)"
   ]
  },
  {
   "cell_type": "markdown",
   "metadata": {},
   "source": [
    "<div class=\"alert-success\">\n",
    "This is a blue colored box\n",
    "</div>"
   ]
  },
  {
   "cell_type": "markdown",
   "metadata": {},
   "source": [
    "<div class=\"alert-danger\">\n",
    "This is a red colored box\n",
    "</div>"
   ]
  },
  {
   "cell_type": "markdown",
   "metadata": {},
   "source": [
    "<div class=\"alert-warning\">\n",
    "This is a yellow colored box\n",
    "</div>"
   ]
  },
  {
   "cell_type": "markdown",
   "metadata": {},
   "source": [
    "<div class=\"alert-info\">\n",
    "This is a blue colored box\n",
    "</div>"
   ]
  },
  {
   "cell_type": "markdown",
   "metadata": {},
   "source": [
    "Celem naszego badanie jest sprawdzenie czy istnieje istotny statystycznie wpływ miasta Paryża na poziom przestępczości przeciwko osobom (Crime_pers). Podzielę wszystkie departamenty na 4 strefy odległości od miasta Paryża (Distance) i porówna poziom przestępczości przeciwko osobom.\n",
    "\n",
    "\n",
    "\n",
    "<div class=\"alert-info\">\n",
    " \n",
    " - h0: poziom przestępczości (średnia) przeciwko osobom jest taki sam pomiędzy strefami\n",
    " - h1: poziom przestępczości (średnia) przeciwko osobom jest statycznie inny pomiędzy strefami\n",
    "</div>"
   ]
  },
  {
   "cell_type": "code",
   "execution_count": 9,
   "metadata": {},
   "outputs": [],
   "source": [
    "df['Class_of_Distance']=pd.qcut(df['Distance'], 4,labels=[\"do 120 km\",\"120-200 km\",\"200-280 km\",\"280-539 km\"])"
   ]
  },
  {
   "cell_type": "code",
   "execution_count": 12,
   "metadata": {},
   "outputs": [
    {
     "data": {
      "text/html": [
       "<div>\n",
       "<style scoped>\n",
       "    .dataframe tbody tr th:only-of-type {\n",
       "        vertical-align: middle;\n",
       "    }\n",
       "\n",
       "    .dataframe tbody tr th {\n",
       "        vertical-align: top;\n",
       "    }\n",
       "\n",
       "    .dataframe thead tr th {\n",
       "        text-align: left;\n",
       "    }\n",
       "\n",
       "    .dataframe thead tr:last-of-type th {\n",
       "        text-align: right;\n",
       "    }\n",
       "</style>\n",
       "<table border=\"1\" class=\"dataframe\">\n",
       "  <thead>\n",
       "    <tr>\n",
       "      <th></th>\n",
       "      <th>min</th>\n",
       "      <th>max</th>\n",
       "      <th>count</th>\n",
       "    </tr>\n",
       "    <tr>\n",
       "      <th></th>\n",
       "      <th>Distance</th>\n",
       "      <th>Distance</th>\n",
       "      <th>Distance</th>\n",
       "    </tr>\n",
       "    <tr>\n",
       "      <th>Class_of_Distance</th>\n",
       "      <th></th>\n",
       "      <th></th>\n",
       "      <th></th>\n",
       "    </tr>\n",
       "  </thead>\n",
       "  <tbody>\n",
       "    <tr>\n",
       "      <th>do 120 km</th>\n",
       "      <td>0.000</td>\n",
       "      <td>119.718</td>\n",
       "      <td>22</td>\n",
       "    </tr>\n",
       "    <tr>\n",
       "      <th>120-200 km</th>\n",
       "      <td>126.378</td>\n",
       "      <td>199.167</td>\n",
       "      <td>21</td>\n",
       "    </tr>\n",
       "    <tr>\n",
       "      <th>200-280 km</th>\n",
       "      <td>202.065</td>\n",
       "      <td>283.810</td>\n",
       "      <td>21</td>\n",
       "    </tr>\n",
       "    <tr>\n",
       "      <th>280-539 km</th>\n",
       "      <td>291.624</td>\n",
       "      <td>539.213</td>\n",
       "      <td>22</td>\n",
       "    </tr>\n",
       "  </tbody>\n",
       "</table>\n",
       "</div>"
      ],
      "text/plain": [
       "                       min      max    count\n",
       "                  Distance Distance Distance\n",
       "Class_of_Distance                           \n",
       "do 120 km            0.000  119.718       22\n",
       "120-200 km         126.378  199.167       21\n",
       "200-280 km         202.065  283.810       21\n",
       "280-539 km         291.624  539.213       22"
      ]
     },
     "execution_count": 12,
     "metadata": {},
     "output_type": "execute_result"
    }
   ],
   "source": [
    "pd.pivot_table(df, index= ['Class_of_Distance'], values= \"Distance\", aggfunc= ['min','max', 'count'])"
   ]
  },
  {
   "cell_type": "markdown",
   "metadata": {},
   "source": [
    "Nazwałęm te klasy dopiero po tym jak komputer je wskazał. Innymi słowy qcut - podzielil miasteczka na 4 klasy po równo, ja dodałem odpowiednie nazwy klas. Mając klasy Tworzę odpowiednią data frame aby utworzyć One-way ANOVA."
   ]
  },
  {
   "cell_type": "code",
   "execution_count": 14,
   "metadata": {},
   "outputs": [
    {
     "data": {
      "text/html": [
       "<div>\n",
       "<style scoped>\n",
       "    .dataframe tbody tr th:only-of-type {\n",
       "        vertical-align: middle;\n",
       "    }\n",
       "\n",
       "    .dataframe tbody tr th {\n",
       "        vertical-align: top;\n",
       "    }\n",
       "\n",
       "    .dataframe thead th {\n",
       "        text-align: right;\n",
       "    }\n",
       "</style>\n",
       "<table border=\"1\" class=\"dataframe\">\n",
       "  <thead>\n",
       "    <tr style=\"text-align: right;\">\n",
       "      <th></th>\n",
       "      <th>Crime_pers</th>\n",
       "      <th>Class_of_Distance</th>\n",
       "    </tr>\n",
       "    <tr>\n",
       "      <th>Department</th>\n",
       "      <th></th>\n",
       "      <th></th>\n",
       "    </tr>\n",
       "  </thead>\n",
       "  <tbody>\n",
       "    <tr>\n",
       "      <th>Ain</th>\n",
       "      <td>28870</td>\n",
       "      <td>200-280 km</td>\n",
       "    </tr>\n",
       "    <tr>\n",
       "      <th>Aisne</th>\n",
       "      <td>26226</td>\n",
       "      <td>do 120 km</td>\n",
       "    </tr>\n",
       "    <tr>\n",
       "      <th>Allier</th>\n",
       "      <td>26747</td>\n",
       "      <td>120-200 km</td>\n",
       "    </tr>\n",
       "  </tbody>\n",
       "</table>\n",
       "</div>"
      ],
      "text/plain": [
       "            Crime_pers Class_of_Distance\n",
       "Department                              \n",
       "Ain              28870        200-280 km\n",
       "Aisne            26226         do 120 km\n",
       "Allier           26747        120-200 km"
      ]
     },
     "execution_count": 14,
     "metadata": {},
     "output_type": "execute_result"
    }
   ],
   "source": [
    "df[['Crime_pers','Class_of_Distance']].head(3)"
   ]
  },
  {
   "cell_type": "markdown",
   "metadata": {},
   "source": [
    "### <span style=\"color:blue\">Test ANOVA</span>"
   ]
  },
  {
   "cell_type": "code",
   "execution_count": 16,
   "metadata": {},
   "outputs": [
    {
     "name": "stdout",
     "output_type": "stream",
     "text": [
      "                            sum_sq    df          F    PR(>F)\n",
      "C(Class_of_Distance)  1.408371e+09   3.0  11.392976  0.000003\n",
      "Residual              3.378877e+09  82.0        NaN       NaN\n"
     ]
    }
   ],
   "source": [
    "import statsmodels.api as sm\n",
    "from statsmodels.formula.api import ols\n",
    "\n",
    "model_H = ols('Crime_pers ~ C(Class_of_Distance)', data=df).fit()\n",
    "\n",
    "anova_table = sm.stats.anova_lm(model_H, typ=2)\n",
    "print(anova_table)"
   ]
  },
  {
   "cell_type": "markdown",
   "metadata": {},
   "source": [
    "<div class=\"alert-info\">\n",
    "<span style=\"color:darkblue\">\n",
    "Interpretacja: Wartość P uzyskana z analizy ANOVA jest znacząca (P<'0,05'), a zatem wnioskujemy, że istnieje istotna statystycznie różnica między poziomem przestępczości przeciwko osobom pomiędzy czterema obszarami podzielonymi na podstawie  odległości od Paryża.\n",
    "                                                                     \n",
    "</span>\n",
    "</div>\n",
    "\n",
    "ANOVA pokazałe, że istnieje statystycznie istotna różnice w poziomie przestępczości. Niestety ANOVA nie wskazuje, które grupy obszary istotnie różnią się od siebie. \n",
    "Aby poznać pary obszarów różniące się istotnie poziomem prtzestępczości, należy przeprowadzić analizę wielokrotnego porównania par (porównanie post-hoc) za pomocą testu HSD Tukeya.\n",
    "\n",
    "### <span style=\"color:blue\">Testu HSD Tukeya</span>"
   ]
  },
  {
   "cell_type": "code",
   "execution_count": 18,
   "metadata": {},
   "outputs": [
    {
     "name": "stdout",
     "output_type": "stream",
     "text": [
      "       Multiple Comparison of Means - Tukey HSD,FWER=0.05      \n",
      "===============================================================\n",
      "  group1     group2     meandiff     lower      upper    reject\n",
      "---------------------------------------------------------------\n",
      "120-200 km 200-280 km   -6203.0   -11398.3884 -1007.6116  True \n",
      "120-200 km 280-539 km -10450.2446 -15586.2551 -5314.234   True \n",
      "120-200 km do 120 km   -1923.1537  -7059.1642 3212.8569  False \n",
      "200-280 km 280-539 km  -4247.2446  -9383.2551  888.766   False \n",
      "200-280 km do 120 km   4279.8463   -856.1642  9415.8569  False \n",
      "280-539 km do 120 km   8527.0909   3451.1527  13603.0291  True \n",
      "---------------------------------------------------------------\n"
     ]
    }
   ],
   "source": [
    "from statsmodels.stats.multicomp import pairwise_tukeyhsd\n",
    "\n",
    "m_comp = pairwise_tukeyhsd(endog=df['Crime_pers'], groups=df['Class_of_Distance'], alpha=0.05)\n",
    "print(m_comp)"
   ]
  },
  {
   "cell_type": "code",
   "execution_count": 37,
   "metadata": {},
   "outputs": [
    {
     "data": {
      "text/plain": [
       "<matplotlib.collections.LineCollection at 0x14963a6ecc0>"
      ]
     },
     "execution_count": 37,
     "metadata": {},
     "output_type": "execute_result"
    },
    {
     "data": {
      "image/png": "[encoded data removed]",
      "text/plain": [
       "<Figure size 720x432 with 1 Axes>"
      ]
     },
     "metadata": {
      "needs_background": "light"
     },
     "output_type": "display_data"
    }
   ],
   "source": [
    "m_comp.plot_simultaneous()    # Plot group confidence intervals\n",
    "plt.vlines(x=20000,ymin=-0.5,ymax=3.5, color=\"red\", alpha=0.8, linestyle='--')"
   ]
  },
  {
   "cell_type": "markdown",
   "metadata": {},
   "source": [
    "<div class=\"alert-info\">\n",
    "<span style=\"color:darkblue\">\n",
    "\n",
    "Test Tukey HSD wykazał statystycznie istotną różnicę w przestępczości pomiędzy  trzeba parami obszarów0:\n",
    "\n",
    "- \"120-200 km\" i \"200-280 km\" \n",
    "- \"120-200 km\" i \"280-590 km\" \n",
    "- \"280-590 km\" i \"do 120 km\" \n",
    "\n",
    "Powyższe wyniki z Tukey HSD sugerują, że oprócz wymienionych zestawów, wszystkie inne porównania par zachowują hipotezę zerową czyli w pozostałych obszarach nie istnieją istotne różnice statystyczne w poziomie przestępczości przeciwko osobom.\n",
    "\n",
    "</span>\n",
    "</div>"
   ]
  },
  {
   "cell_type": "markdown",
   "metadata": {},
   "source": [
    "### Sprawdzenie spełnienia warunków ANOVA\n",
    "Warunki: \n",
    "1. wartości rezydualne mają rozkład normalny (test Shapiro Wilksa)\n",
    "2. wariancje w grupach są jednorodne (test Levene lub Bartlett)\n",
    "3. obserwacje są prowadzone niezależnie od siebie \n",
    "\n",
    "### <span style=\"color:blue\">Test Levene'a</span> Sprawdzenie jednorodności wariancji\n",
    "\n",
    "<div class=\"alert-info\">\n",
    "<span style=\"color:darkblue\">\n",
    "    \n",
    "Hipoteza zerowa : grupy z populacji mają równe wariancje.\n"
   ]
  },
  {
   "cell_type": "code",
   "execution_count": 20,
   "metadata": {},
   "outputs": [
    {
     "data": {
      "text/html": [
       "<div>\n",
       "<style scoped>\n",
       "    .dataframe tbody tr th:only-of-type {\n",
       "        vertical-align: middle;\n",
       "    }\n",
       "\n",
       "    .dataframe tbody tr th {\n",
       "        vertical-align: top;\n",
       "    }\n",
       "\n",
       "    .dataframe thead th {\n",
       "        text-align: right;\n",
       "    }\n",
       "</style>\n",
       "<table border=\"1\" class=\"dataframe\">\n",
       "  <thead>\n",
       "    <tr style=\"text-align: right;\">\n",
       "      <th>Class_of_Distance</th>\n",
       "      <th>do 120 km</th>\n",
       "      <th>120-200 km</th>\n",
       "      <th>200-280 km</th>\n",
       "      <th>280-539 km</th>\n",
       "    </tr>\n",
       "    <tr>\n",
       "      <th>Department</th>\n",
       "      <th></th>\n",
       "      <th></th>\n",
       "      <th></th>\n",
       "      <th></th>\n",
       "    </tr>\n",
       "  </thead>\n",
       "  <tbody>\n",
       "    <tr>\n",
       "      <th>Ain</th>\n",
       "      <td>NaN</td>\n",
       "      <td>NaN</td>\n",
       "      <td>28870.0</td>\n",
       "      <td>NaN</td>\n",
       "    </tr>\n",
       "    <tr>\n",
       "      <th>Aisne</th>\n",
       "      <td>26226.0</td>\n",
       "      <td>NaN</td>\n",
       "      <td>NaN</td>\n",
       "      <td>NaN</td>\n",
       "    </tr>\n",
       "    <tr>\n",
       "      <th>Allier</th>\n",
       "      <td>NaN</td>\n",
       "      <td>26747.0</td>\n",
       "      <td>NaN</td>\n",
       "      <td>NaN</td>\n",
       "    </tr>\n",
       "    <tr>\n",
       "      <th>Ardeche</th>\n",
       "      <td>NaN</td>\n",
       "      <td>NaN</td>\n",
       "      <td>9474.0</td>\n",
       "      <td>NaN</td>\n",
       "    </tr>\n",
       "  </tbody>\n",
       "</table>\n",
       "</div>"
      ],
      "text/plain": [
       "Class_of_Distance  do 120 km  120-200 km  200-280 km  280-539 km\n",
       "Department                                                      \n",
       "Ain                      NaN         NaN     28870.0         NaN\n",
       "Aisne                26226.0         NaN         NaN         NaN\n",
       "Allier                   NaN     26747.0         NaN         NaN\n",
       "Ardeche                  NaN         NaN      9474.0         NaN"
      ]
     },
     "execution_count": 20,
     "metadata": {},
     "output_type": "execute_result"
    }
   ],
   "source": [
    "PKS = pd.pivot_table(df, index = 'Department', columns = 'Class_of_Distance', values='Crime_pers')\n",
    "PKS.head(4)"
   ]
  },
  {
   "cell_type": "markdown",
   "metadata": {},
   "source": [
    "<div class=\"alert-danger\">\n",
    "Test Levene'a nie toleruje pustych wartości NaN\n",
    "    \n",
    "</div>"
   ]
  },
  {
   "cell_type": "code",
   "execution_count": 21,
   "metadata": {},
   "outputs": [],
   "source": [
    "P01=PKS['do 120 km'].dropna(how='any')\n",
    "P02=PKS['120-200 km'].dropna(how='any')\n",
    "P03=PKS['200-280 km'].dropna(how='any')\n",
    "P04=PKS['280-539 km'].dropna(how='any')"
   ]
  },
  {
   "cell_type": "markdown",
   "metadata": {},
   "source": [
    "Wykresy przedstawiają statystyki poziomu przestępczości w zadanych czterech obszarach."
   ]
  },
  {
   "cell_type": "code",
   "execution_count": 29,
   "metadata": {},
   "outputs": [
    {
     "data": {
      "text/plain": [
       "<matplotlib.axes._subplots.AxesSubplot at 0x149634c7da0>"
      ]
     },
     "execution_count": 29,
     "metadata": {},
     "output_type": "execute_result"
    },
    {
     "data": {
      "image/png": "[encoded data removed]",
      "text/plain": [
       "<Figure size 432x288 with 1 Axes>"
      ]
     },
     "metadata": {
      "needs_background": "light"
     },
     "output_type": "display_data"
    }
   ],
   "source": [
    "PKS.plot.kde()"
   ]
  },
  {
   "cell_type": "code",
   "execution_count": 31,
   "metadata": {},
   "outputs": [
    {
     "data": {
      "text/plain": [
       "<matplotlib.axes._subplots.AxesSubplot at 0x149637838d0>"
      ]
     },
     "execution_count": 31,
     "metadata": {},
     "output_type": "execute_result"
    },
    {
     "data": {
      "image/png": "[encoded data removed]",
      "text/plain": [
       "<Figure size 432x288 with 1 Axes>"
      ]
     },
     "metadata": {
      "needs_background": "light"
     },
     "output_type": "display_data"
    }
   ],
   "source": [
    "import matplotlib.pyplot as plt\n",
    "PKS.boxplot(column=['do 120 km', '120-200 km', '200-280 km', '280-539 km'], grid=False)"
   ]
  },
  {
   "cell_type": "code",
   "execution_count": 30,
   "metadata": {},
   "outputs": [
    {
     "name": "stdout",
     "output_type": "stream",
     "text": [
      "Value:    1.2094373013491309\n",
      "p-value:  0.31156953536619264\n"
     ]
    }
   ],
   "source": [
    "import scipy.stats as stats\n",
    "w,p = stats.levene(P01,P02,P03,P04)\n",
    "print(\"Value:   \",w)\n",
    "print(\"p-value: \",p)"
   ]
  },
  {
   "cell_type": "markdown",
   "metadata": {},
   "source": [
    "\n",
    "\n",
    "\n",
    "Ponieważ wartość P nie jest nieznacząca (p>0.05), nie odrzucamy hipotezy zerowej - czyli grupy wiekowe mają jednorodne wariancje.\n",
    "\n",
    "### <span style=\"color:blue\">Test Shapiro-Wilk </span>Sprawdzenia normalności rozkładu reszt\n",
    "\n",
    "<div class=\"alert-info\">\n",
    "<span style=\"color:darkblue\">\n",
    "Hipoteza zerowa : wartości rezydualne mają rozkład normalny."
   ]
  },
  {
   "cell_type": "code",
   "execution_count": 25,
   "metadata": {},
   "outputs": [
    {
     "name": "stdout",
     "output_type": "stream",
     "text": [
      "Value:    0.9815720915794373\n",
      "p-value:  0.26\n"
     ]
    }
   ],
   "source": [
    "import scipy.stats as stats\n",
    "import numpy as np\n",
    "\n",
    "\n",
    "w, p = stats.shapiro(model_H.resid)\n",
    "print(\"Value:   \",w)\n",
    "print(\"p-value: \",np.round(p, decimals=2))"
   ]
  },
  {
   "cell_type": "markdown",
   "metadata": {},
   "source": [
    "<div class=\"alert-info\">\n",
    "<span style=\"color:darkblue\">\n",
    "    \n",
    "Ponieważ wartość P nie jest znaczące bo większa od współczynnika ufności 0.05 (p>0.05), nie ma podstaw do odrzucenia hipotezy zerowej - wartości rezydualne mają rozkład normalny.\n",
    "\n",
    "\n",
    "\n",
    "</span>\n",
    "</div>\n",
    "\n",
    "Przyjrzymy się bliżej resztą modelu."
   ]
  },
  {
   "cell_type": "code",
   "execution_count": 26,
   "metadata": {},
   "outputs": [
    {
     "data": {
      "image/png": "[encoded data removed]",
      "text/plain": [
       "<Figure size 432x288 with 1 Axes>"
      ]
     },
     "metadata": {
      "needs_background": "light"
     },
     "output_type": "display_data"
    }
   ],
   "source": [
    "from statsmodels.graphics.gofplots import qqplot\n",
    "from matplotlib import pyplot\n",
    "\n",
    "qqplot(model_H.resid, line='s')\n",
    "pyplot.show()"
   ]
  },
  {
   "cell_type": "markdown",
   "metadata": {},
   "source": [
    "Faktynie reszty zachowują prawie idealny rozkłąd normalny."
   ]
  },
  {
   "cell_type": "code",
   "execution_count": null,
   "metadata": {},
   "outputs": [],
   "source": []
  }
 ],
 "metadata": {
  "kernelspec": {
   "display_name": "Python 3",
   "language": "python",
   "name": "python3"
  },
  "language_info": {
   "codemirror_mode": {
    "name": "ipython",
    "version": 3
   },
   "file_extension": ".py",
   "mimetype": "text/x-python",
   "name": "python",
   "nbconvert_exporter": "python",
   "pygments_lexer": "ipython3",
   "version": "3.6.8"
  }
 },
 "nbformat": 4,
 "nbformat_minor": 2
}
