{
 "cells": [
  {
   "cell_type": "markdown",
   "metadata": {},
   "source": [
    "## Tensorflow - Calculation of R square for linear regression"
   ]
  },
  {
   "cell_type": "markdown",
   "metadata": {},
   "source": [
    "Parking Birmingham occupancy\n",
    "Source of data: https://archive.ics.uci.edu/ml/datasets/Parking+Birmingham"
   ]
  },
  {
   "cell_type": "code",
   "execution_count": 35,
   "metadata": {},
   "outputs": [
    {
     "data": {
      "text/html": [
       "<div>\n",
       "<style scoped>\n",
       "    .dataframe tbody tr th:only-of-type {\n",
       "        vertical-align: middle;\n",
       "    }\n",
       "\n",
       "    .dataframe tbody tr th {\n",
       "        vertical-align: top;\n",
       "    }\n",
       "\n",
       "    .dataframe thead th {\n",
       "        text-align: right;\n",
       "    }\n",
       "</style>\n",
       "<table border=\"1\" class=\"dataframe\">\n",
       "  <thead>\n",
       "    <tr style=\"text-align: right;\">\n",
       "      <th></th>\n",
       "      <th>SystemCodeNumber</th>\n",
       "      <th>Capacity</th>\n",
       "      <th>Occupancy</th>\n",
       "      <th>LastUpdated</th>\n",
       "    </tr>\n",
       "  </thead>\n",
       "  <tbody>\n",
       "    <tr>\n",
       "      <th>0</th>\n",
       "      <td>BHMBCCMKT01</td>\n",
       "      <td>577</td>\n",
       "      <td>61</td>\n",
       "      <td>2016-10-04 07:59:42</td>\n",
       "    </tr>\n",
       "    <tr>\n",
       "      <th>1</th>\n",
       "      <td>BHMBCCMKT01</td>\n",
       "      <td>577</td>\n",
       "      <td>64</td>\n",
       "      <td>2016-10-04 08:25:42</td>\n",
       "    </tr>\n",
       "    <tr>\n",
       "      <th>2</th>\n",
       "      <td>BHMBCCMKT01</td>\n",
       "      <td>577</td>\n",
       "      <td>80</td>\n",
       "      <td>2016-10-04 08:59:42</td>\n",
       "    </tr>\n",
       "  </tbody>\n",
       "</table>\n",
       "</div>"
      ],
      "text/plain": [
       "  SystemCodeNumber  Capacity  Occupancy          LastUpdated\n",
       "0      BHMBCCMKT01       577         61  2016-10-04 07:59:42\n",
       "1      BHMBCCMKT01       577         64  2016-10-04 08:25:42\n",
       "2      BHMBCCMKT01       577         80  2016-10-04 08:59:42"
      ]
     },
     "execution_count": 35,
     "metadata": {},
     "output_type": "execute_result"
    }
   ],
   "source": [
    "import pandas as pd\n",
    "\n",
    "df = pd.read_csv('c:/TF/ParkingBirmingham.csv')\n",
    "df.head(3)"
   ]
  },
  {
   "cell_type": "code",
   "execution_count": 2,
   "metadata": {},
   "outputs": [
    {
     "data": {
      "text/plain": [
       "SystemCodeNumber            object\n",
       "Capacity                     int64\n",
       "Occupancy                    int64\n",
       "LastUpdated         datetime64[ns]\n",
       "dtype: object"
      ]
     },
     "execution_count": 2,
     "metadata": {},
     "output_type": "execute_result"
    }
   ],
   "source": [
    "df.LastUpdated = pd.to_datetime(df.LastUpdated)\n",
    "df.dtypes"
   ]
  },
  {
   "cell_type": "code",
   "execution_count": 3,
   "metadata": {},
   "outputs": [],
   "source": [
    "df['month'] = df.LastUpdated.dt.month\n",
    "df['hour'] = df.LastUpdated.dt.hour\n",
    "df['weekday_name'] = df.LastUpdated.dt.weekday_name\n",
    "df['weekday'] = df.LastUpdated.dt.weekday"
   ]
  },
  {
   "cell_type": "code",
   "execution_count": 4,
   "metadata": {},
   "outputs": [
    {
     "data": {
      "text/html": [
       "<div>\n",
       "<style scoped>\n",
       "    .dataframe tbody tr th:only-of-type {\n",
       "        vertical-align: middle;\n",
       "    }\n",
       "\n",
       "    .dataframe tbody tr th {\n",
       "        vertical-align: top;\n",
       "    }\n",
       "\n",
       "    .dataframe thead th {\n",
       "        text-align: right;\n",
       "    }\n",
       "</style>\n",
       "<table border=\"1\" class=\"dataframe\">\n",
       "  <thead>\n",
       "    <tr style=\"text-align: right;\">\n",
       "      <th></th>\n",
       "      <th>SystemCodeNumber</th>\n",
       "      <th>Capacity</th>\n",
       "      <th>Occupancy</th>\n",
       "      <th>LastUpdated</th>\n",
       "      <th>month</th>\n",
       "      <th>hour</th>\n",
       "      <th>weekday_name</th>\n",
       "      <th>weekday</th>\n",
       "    </tr>\n",
       "  </thead>\n",
       "  <tbody>\n",
       "    <tr>\n",
       "      <th>0</th>\n",
       "      <td>BHMBCCMKT01</td>\n",
       "      <td>577</td>\n",
       "      <td>61</td>\n",
       "      <td>2016-10-04 07:59:42</td>\n",
       "      <td>10</td>\n",
       "      <td>7</td>\n",
       "      <td>Tuesday</td>\n",
       "      <td>1</td>\n",
       "    </tr>\n",
       "    <tr>\n",
       "      <th>1</th>\n",
       "      <td>BHMBCCMKT01</td>\n",
       "      <td>577</td>\n",
       "      <td>64</td>\n",
       "      <td>2016-10-04 08:25:42</td>\n",
       "      <td>10</td>\n",
       "      <td>8</td>\n",
       "      <td>Tuesday</td>\n",
       "      <td>1</td>\n",
       "    </tr>\n",
       "    <tr>\n",
       "      <th>2</th>\n",
       "      <td>BHMBCCMKT01</td>\n",
       "      <td>577</td>\n",
       "      <td>80</td>\n",
       "      <td>2016-10-04 08:59:42</td>\n",
       "      <td>10</td>\n",
       "      <td>8</td>\n",
       "      <td>Tuesday</td>\n",
       "      <td>1</td>\n",
       "    </tr>\n",
       "    <tr>\n",
       "      <th>3</th>\n",
       "      <td>BHMBCCMKT01</td>\n",
       "      <td>577</td>\n",
       "      <td>107</td>\n",
       "      <td>2016-10-04 09:32:46</td>\n",
       "      <td>10</td>\n",
       "      <td>9</td>\n",
       "      <td>Tuesday</td>\n",
       "      <td>1</td>\n",
       "    </tr>\n",
       "  </tbody>\n",
       "</table>\n",
       "</div>"
      ],
      "text/plain": [
       "  SystemCodeNumber  Capacity  Occupancy         LastUpdated  month  hour  \\\n",
       "0      BHMBCCMKT01       577         61 2016-10-04 07:59:42     10     7   \n",
       "1      BHMBCCMKT01       577         64 2016-10-04 08:25:42     10     8   \n",
       "2      BHMBCCMKT01       577         80 2016-10-04 08:59:42     10     8   \n",
       "3      BHMBCCMKT01       577        107 2016-10-04 09:32:46     10     9   \n",
       "\n",
       "  weekday_name  weekday  \n",
       "0      Tuesday        1  \n",
       "1      Tuesday        1  \n",
       "2      Tuesday        1  \n",
       "3      Tuesday        1  "
      ]
     },
     "execution_count": 4,
     "metadata": {},
     "output_type": "execute_result"
    }
   ],
   "source": [
    "df.head(4)"
   ]
  },
  {
   "cell_type": "code",
   "execution_count": 5,
   "metadata": {},
   "outputs": [
    {
     "data": {
      "text/plain": [
       "(1312, 8)"
      ]
     },
     "execution_count": 5,
     "metadata": {},
     "output_type": "execute_result"
    }
   ],
   "source": [
    "df = df.loc[df['SystemCodeNumber']=='BHMMBMMBX01'] \n",
    "df.shape"
   ]
  },
  {
   "cell_type": "code",
   "execution_count": 6,
   "metadata": {},
   "outputs": [
    {
     "name": "stderr",
     "output_type": "stream",
     "text": [
      "C:\\ProgramData\\Anaconda3\\envs\\OLD_TF\\lib\\site-packages\\tensorflow\\python\\framework\\dtypes.py:493: FutureWarning: Passing (type, 1) or '1type' as a synonym of type is deprecated; in a future version of numpy, it will be understood as (type, (1,)) / '(1,)type'.\n",
      "  _np_qint8 = np.dtype([(\"qint8\", np.int8, 1)])\n",
      "C:\\ProgramData\\Anaconda3\\envs\\OLD_TF\\lib\\site-packages\\tensorflow\\python\\framework\\dtypes.py:494: FutureWarning: Passing (type, 1) or '1type' as a synonym of type is deprecated; in a future version of numpy, it will be understood as (type, (1,)) / '(1,)type'.\n",
      "  _np_quint8 = np.dtype([(\"quint8\", np.uint8, 1)])\n",
      "C:\\ProgramData\\Anaconda3\\envs\\OLD_TF\\lib\\site-packages\\tensorflow\\python\\framework\\dtypes.py:495: FutureWarning: Passing (type, 1) or '1type' as a synonym of type is deprecated; in a future version of numpy, it will be understood as (type, (1,)) / '(1,)type'.\n",
      "  _np_qint16 = np.dtype([(\"qint16\", np.int16, 1)])\n",
      "C:\\ProgramData\\Anaconda3\\envs\\OLD_TF\\lib\\site-packages\\tensorflow\\python\\framework\\dtypes.py:496: FutureWarning: Passing (type, 1) or '1type' as a synonym of type is deprecated; in a future version of numpy, it will be understood as (type, (1,)) / '(1,)type'.\n",
      "  _np_quint16 = np.dtype([(\"quint16\", np.uint16, 1)])\n",
      "C:\\ProgramData\\Anaconda3\\envs\\OLD_TF\\lib\\site-packages\\tensorflow\\python\\framework\\dtypes.py:497: FutureWarning: Passing (type, 1) or '1type' as a synonym of type is deprecated; in a future version of numpy, it will be understood as (type, (1,)) / '(1,)type'.\n",
      "  _np_qint32 = np.dtype([(\"qint32\", np.int32, 1)])\n",
      "C:\\ProgramData\\Anaconda3\\envs\\OLD_TF\\lib\\site-packages\\tensorflow\\python\\framework\\dtypes.py:502: FutureWarning: Passing (type, 1) or '1type' as a synonym of type is deprecated; in a future version of numpy, it will be understood as (type, (1,)) / '(1,)type'.\n",
      "  np_resource = np.dtype([(\"resource\", np.ubyte, 1)])\n"
     ]
    }
   ],
   "source": [
    "import tensorflow as tf"
   ]
  },
  {
   "cell_type": "markdown",
   "metadata": {},
   "source": [
    "### Step 1: Convert Data\n",
    "\n",
    "We convert numeric variables in the correct Tensorflow format. Tensorflow provides a continuous variable conversion method: tf.feature_column.numeric_column ()."
   ]
  },
  {
   "cell_type": "code",
   "execution_count": 7,
   "metadata": {},
   "outputs": [],
   "source": [
    "FEATURES = ['month', 'hour', 'weekday'] \n",
    "LABEL = 'Occupancy'"
   ]
  },
  {
   "cell_type": "code",
   "execution_count": 8,
   "metadata": {},
   "outputs": [
    {
     "data": {
      "text/plain": [
       "[_NumericColumn(key='month', shape=(1,), default_value=None, dtype=tf.float32, normalizer_fn=None),\n",
       " _NumericColumn(key='hour', shape=(1,), default_value=None, dtype=tf.float32, normalizer_fn=None),\n",
       " _NumericColumn(key='weekday', shape=(1,), default_value=None, dtype=tf.float32, normalizer_fn=None)]"
      ]
     },
     "execution_count": 8,
     "metadata": {},
     "output_type": "execute_result"
    }
   ],
   "source": [
    "PKS = [tf.feature_column.numeric_column(k) for k in FEATURES] \n",
    "PKS"
   ]
  },
  {
   "cell_type": "markdown",
   "metadata": {},
   "source": [
    "### Step 2: Defining the estimator\n",
    "\n",
    "Tensorflow will automatically create a file called \"ABC\" in your working directory. You must use this path to access Tensorboard. The estimator applies to independent variables."
   ]
  },
  {
   "cell_type": "code",
   "execution_count": 9,
   "metadata": {},
   "outputs": [
    {
     "name": "stdout",
     "output_type": "stream",
     "text": [
      "INFO:tensorflow:Using default config.\n",
      "INFO:tensorflow:Using config: {'_model_dir': 'ABC', '_tf_random_seed': None, '_save_summary_steps': 100, '_save_checkpoints_steps': None, '_save_checkpoints_secs': 600, '_session_config': None, '_keep_checkpoint_max': 5, '_keep_checkpoint_every_n_hours': 10000, '_log_step_count_steps': 100, '_service': None, '_cluster_spec': <tensorflow.python.training.server_lib.ClusterSpec object at 0x00000147BB11B940>, '_task_type': 'worker', '_task_id': 0, '_master': '', '_is_chief': True, '_num_ps_replicas': 0, '_num_worker_replicas': 1}\n"
     ]
    }
   ],
   "source": [
    "estimator = tf.estimator.LinearRegressor( feature_columns=PKS, model_dir=\"ABC\")"
   ]
  },
  {
   "cell_type": "markdown",
   "metadata": {},
   "source": [
    "To instruct Tensorflow how to feed the model, you can use pandas_input_fn. This object needs 5 parameters: x: function data y: label data batch_size: batch. Default 128 num_epoch: by default number of epochs 1 random: Random or not data. Default None"
   ]
  },
  {
   "cell_type": "code",
   "execution_count": 10,
   "metadata": {},
   "outputs": [],
   "source": [
    "def get_input_fn(data_set, num_epochs=None, n_batch = 128, shuffle=True): \n",
    "    return tf.estimator.inputs.pandas_input_fn( x=pd.DataFrame({k: data_set[k].values for k in FEATURES}),\n",
    "                                               y = pd.Series(data_set[LABEL].values), batch_size=n_batch, num_epochs=num_epochs, shuffle=shuffle)"
   ]
  },
  {
   "cell_type": "markdown",
   "metadata": {},
   "source": [
    "### Step 3: Model training\n",
    "- To feed the model you can use the function created above: get_input_fn.\n",
    "- Then you instruct the model to iterate 1000 times.\n",
    "- Remember that you do not specify the number of epochs (num_epochs).\n",
    "- It is better to set the number of epochs to none and define the number of iterations.\n",
    "\n",
    "To test the model, we must divide the data set into a test set and a training set."
   ]
  },
  {
   "cell_type": "code",
   "execution_count": 11,
   "metadata": {},
   "outputs": [
    {
     "name": "stdout",
     "output_type": "stream",
     "text": [
      "(1050, 8) (262, 8)\n"
     ]
    }
   ],
   "source": [
    "df_train=df.sample(frac=0.8,random_state=200) \n",
    "df_test=df.drop(df_train.index) \n",
    "print(df_train.shape, df_test.shape)"
   ]
  },
  {
   "cell_type": "code",
   "execution_count": 12,
   "metadata": {},
   "outputs": [
    {
     "name": "stdout",
     "output_type": "stream",
     "text": [
      "INFO:tensorflow:Create CheckpointSaverHook.\n",
      "INFO:tensorflow:Restoring parameters from ABC\\model.ckpt-20000\n",
      "INFO:tensorflow:Saving checkpoints for 20001 into ABC\\model.ckpt.\n",
      "INFO:tensorflow:loss = 1604473.0, step = 20001\n",
      "INFO:tensorflow:global_step/sec: 524.813\n",
      "INFO:tensorflow:loss = 1890832.8, step = 20101 (0.191 sec)\n",
      "INFO:tensorflow:global_step/sec: 595.828\n",
      "INFO:tensorflow:loss = 1691072.0, step = 20201 (0.183 sec)\n",
      "INFO:tensorflow:global_step/sec: 581.214\n",
      "INFO:tensorflow:loss = 1660972.2, step = 20301 (0.172 sec)\n",
      "INFO:tensorflow:global_step/sec: 577.628\n",
      "INFO:tensorflow:loss = 1830299.8, step = 20401 (0.158 sec)\n",
      "INFO:tensorflow:global_step/sec: 591.553\n",
      "INFO:tensorflow:loss = 1564311.5, step = 20501 (0.169 sec)\n",
      "INFO:tensorflow:global_step/sec: 659.048\n",
      "INFO:tensorflow:loss = 1851407.0, step = 20601 (0.167 sec)\n",
      "INFO:tensorflow:global_step/sec: 565.153\n",
      "INFO:tensorflow:loss = 1717692.1, step = 20701 (0.161 sec)\n",
      "INFO:tensorflow:global_step/sec: 597.055\n",
      "INFO:tensorflow:loss = 1668234.1, step = 20801 (0.167 sec)\n",
      "INFO:tensorflow:global_step/sec: 597.223\n",
      "INFO:tensorflow:loss = 1785292.5, step = 20901 (0.167 sec)\n",
      "INFO:tensorflow:Saving checkpoints for 21000 into ABC\\model.ckpt.\n",
      "INFO:tensorflow:Loss for final step: 1761262.6.\n"
     ]
    },
    {
     "data": {
      "text/plain": [
       "<tensorflow.python.estimator.canned.linear.LinearRegressor at 0x147bb11bd30>"
      ]
     },
     "execution_count": 12,
     "metadata": {},
     "output_type": "execute_result"
    }
   ],
   "source": [
    "estimator.train(input_fn=get_input_fn(df_train, num_epochs=None, n_batch = 128, shuffle=False), steps=1000)"
   ]
  },
  {
   "cell_type": "markdown",
   "metadata": {},
   "source": [
    "### Step 4. Model evaluation\n",
    "\n",
    "To enter a test set, use the following code:"
   ]
  },
  {
   "cell_type": "code",
   "execution_count": 13,
   "metadata": {},
   "outputs": [
    {
     "name": "stdout",
     "output_type": "stream",
     "text": [
      "INFO:tensorflow:Starting evaluation at 2019-12-03-10:35:11\n",
      "INFO:tensorflow:Restoring parameters from ABC\\model.ckpt-21000\n",
      "INFO:tensorflow:Finished evaluation at 2019-12-03-10:35:11\n",
      "INFO:tensorflow:Saving dict for global step 21000: average_loss = 12334.496, global_step = 21000, loss = 1077212.6\n"
     ]
    }
   ],
   "source": [
    "ev = estimator.evaluate( input_fn=get_input_fn(df_test, num_epochs=1, n_batch = 128, shuffle=False))"
   ]
  },
  {
   "cell_type": "markdown",
   "metadata": {},
   "source": [
    "### Step 5. Calculation of R Square"
   ]
  },
  {
   "cell_type": "markdown",
   "metadata": {},
   "source": [
    "# <span style=\"color:#4c1130\">Calculation of R Square parameter using Tensorflow</span>"
   ]
  },
  {
   "cell_type": "markdown",
   "metadata": {},
   "source": [
    "### I make a prediction on a test set"
   ]
  },
  {
   "cell_type": "code",
   "execution_count": 14,
   "metadata": {},
   "outputs": [],
   "source": [
    "y = estimator.predict(    \n",
    "         input_fn=get_input_fn(df_test,                          \n",
    "         num_epochs=1,                          \n",
    "         n_batch = 256,                          \n",
    "         shuffle=False))"
   ]
  },
  {
   "cell_type": "code",
   "execution_count": 15,
   "metadata": {},
   "outputs": [
    {
     "name": "stdout",
     "output_type": "stream",
     "text": [
      "INFO:tensorflow:Restoring parameters from ABC\\model.ckpt-21000\n"
     ]
    }
   ],
   "source": [
    "import itertools\n",
    "\n",
    "predictions = list(p[\"predictions\"] for p in itertools.islice(y, 1871))\n",
    "#print(\"Predictions: {}\".format(str(predictions)))"
   ]
  },
  {
   "cell_type": "code",
   "execution_count": 16,
   "metadata": {},
   "outputs": [
    {
     "data": {
      "text/plain": [
       "[array([319.3249], dtype=float32),\n",
       " array([437.01642], dtype=float32),\n",
       " array([476.24692], dtype=float32),\n",
       " array([495.86215], dtype=float32),\n",
       " array([326.4933], dtype=float32),\n",
       " array([424.56955], dtype=float32),\n",
       " array([444.1848], dtype=float32),\n",
       " array([510.19894], dtype=float32),\n",
       " array([360.44534], dtype=float32),\n",
       " array([478.13684], dtype=float32),\n",
       " array([367.61374], dtype=float32),\n",
       " array([406.84424], dtype=float32),\n",
       " array([446.07474], dtype=float32),\n",
       " array([485.30524], dtype=float32),\n",
       " array([485.30524], dtype=float32),\n",
       " array([524.5357], dtype=float32),\n",
       " array([374.78214], dtype=float32),\n",
       " array([374.78214], dtype=float32),\n",
       " array([394.3974], dtype=float32),\n",
       " array([394.3974], dtype=float32),\n",
       " array([433.62787], dtype=float32),\n",
       " array([433.62787], dtype=float32),\n",
       " array([472.8584], dtype=float32),\n",
       " array([492.47363], dtype=float32),\n",
       " array([512.08887], dtype=float32),\n",
       " array([531.7041], dtype=float32),\n",
       " array([351.38702], dtype=float32),\n",
       " array([338.94016], dtype=float32),\n",
       " array([437.01642], dtype=float32),\n",
       " array([456.63165], dtype=float32),\n",
       " array([495.86215], dtype=float32),\n",
       " array([404.95428], dtype=float32),\n",
       " array([444.1848], dtype=float32),\n",
       " array([483.4153], dtype=float32),\n",
       " array([333.66168], dtype=float32),\n",
       " array([412.12268], dtype=float32),\n",
       " array([451.3532], dtype=float32),\n",
       " array([451.3532], dtype=float32),\n",
       " array([470.96844], dtype=float32),\n",
       " array([510.19894], dtype=float32),\n",
       " array([399.67584], dtype=float32),\n",
       " array([399.67584], dtype=float32),\n",
       " array([438.90634], dtype=float32),\n",
       " array([438.90634], dtype=float32),\n",
       " array([458.5216], dtype=float32),\n",
       " array([478.13684], dtype=float32),\n",
       " array([478.13684], dtype=float32),\n",
       " array([426.45947], dtype=float32),\n",
       " array([465.69], dtype=float32),\n",
       " array([465.69], dtype=float32),\n",
       " array([394.3974], dtype=float32),\n",
       " array([394.3974], dtype=float32),\n",
       " array([453.24313], dtype=float32),\n",
       " array([472.8584], dtype=float32),\n",
       " array([410.23276], dtype=float32),\n",
       " array([449.46326], dtype=float32),\n",
       " array([346.10855], dtype=float32),\n",
       " array([424.56955], dtype=float32),\n",
       " array([444.1848], dtype=float32),\n",
       " array([463.80005], dtype=float32),\n",
       " array([387.229], dtype=float32),\n",
       " array([414.01263], dtype=float32),\n",
       " array([453.24313], dtype=float32),\n",
       " array([472.8584], dtype=float32),\n",
       " array([351.38702], dtype=float32),\n",
       " array([351.38702], dtype=float32),\n",
       " array([410.23276], dtype=float32),\n",
       " array([410.23276], dtype=float32),\n",
       " array([469.07852], dtype=float32),\n",
       " array([358.55542], dtype=float32),\n",
       " array([346.10855], dtype=float32),\n",
       " array([365.72382], dtype=float32),\n",
       " array([365.72382], dtype=float32),\n",
       " array([404.95428], dtype=float32),\n",
       " array([424.56955], dtype=float32),\n",
       " array([353.27695], dtype=float32),\n",
       " array([372.8922], dtype=float32),\n",
       " array([412.12268], dtype=float32),\n",
       " array([431.73795], dtype=float32),\n",
       " array([451.3532], dtype=float32),\n",
       " array([360.44534], dtype=float32),\n",
       " array([380.0606], dtype=float32),\n",
       " array([438.90634], dtype=float32),\n",
       " array([478.13684], dtype=float32),\n",
       " array([517.3673], dtype=float32),\n",
       " array([347.99847], dtype=float32),\n",
       " array([446.07474], dtype=float32),\n",
       " array([453.24313], dtype=float32),\n",
       " array([512.08887], dtype=float32),\n",
       " array([351.38702], dtype=float32),\n",
       " array([390.6175], dtype=float32),\n",
       " array([429.84802], dtype=float32),\n",
       " array([429.84802], dtype=float32),\n",
       " array([429.84802], dtype=float32),\n",
       " array([488.69376], dtype=float32),\n",
       " array([472.53754], dtype=float32),\n",
       " array([511.768], dtype=float32),\n",
       " array([518.9364], dtype=float32),\n",
       " array([369.1828], dtype=float32),\n",
       " array([408.41333], dtype=float32),\n",
       " array([447.6438], dtype=float32),\n",
       " array([486.87433], dtype=float32),\n",
       " array([506.48956], dtype=float32),\n",
       " array([415.58173], dtype=float32),\n",
       " array([415.58173], dtype=float32),\n",
       " array([533.2732], dtype=float32),\n",
       " array([383.5196], dtype=float32),\n",
       " array([481.59586], dtype=float32),\n",
       " array([520.82635], dtype=float32),\n",
       " array([540.4416], dtype=float32),\n",
       " array([429.91852], dtype=float32),\n",
       " array([429.91852], dtype=float32),\n",
       " array([469.149], dtype=float32),\n",
       " array([488.76425], dtype=float32),\n",
       " array([527.99475], dtype=float32),\n",
       " array([527.99475], dtype=float32),\n",
       " array([347.6776], dtype=float32),\n",
       " array([426.1386], dtype=float32),\n",
       " array([426.1386], dtype=float32),\n",
       " array([504.5996], dtype=float32),\n",
       " array([335.23077], dtype=float32),\n",
       " array([433.307], dtype=float32),\n",
       " array([472.53754], dtype=float32),\n",
       " array([511.768], dtype=float32),\n",
       " array([362.0144], dtype=float32),\n",
       " array([401.24493], dtype=float32),\n",
       " array([460.09067], dtype=float32),\n",
       " array([518.9364], dtype=float32),\n",
       " array([408.41333], dtype=float32),\n",
       " array([408.41333], dtype=float32),\n",
       " array([447.6438], dtype=float32),\n",
       " array([467.25906], dtype=float32),\n",
       " array([526.1048], dtype=float32),\n",
       " array([376.3512], dtype=float32),\n",
       " array([415.58173], dtype=float32),\n",
       " array([474.42746], dtype=float32),\n",
       " array([494.04272], dtype=float32),\n",
       " array([442.36536], dtype=float32),\n",
       " array([429.91852], dtype=float32),\n",
       " array([469.149], dtype=float32),\n",
       " array([488.76425], dtype=float32),\n",
       " array([508.37952], dtype=float32),\n",
       " array([386.90814], dtype=float32),\n",
       " array([386.90814], dtype=float32),\n",
       " array([406.52338], dtype=float32),\n",
       " array([426.1386], dtype=float32),\n",
       " array([445.75388], dtype=float32),\n",
       " array([374.46127], dtype=float32),\n",
       " array([413.69177], dtype=float32),\n",
       " array([413.69177], dtype=float32),\n",
       " array([492.15277], dtype=float32),\n",
       " array([401.24493], dtype=float32),\n",
       " array([440.4754], dtype=float32),\n",
       " array([518.9364], dtype=float32),\n",
       " array([376.3512], dtype=float32),\n",
       " array([435.19696], dtype=float32),\n",
       " array([474.42746], dtype=float32),\n",
       " array([513.65796], dtype=float32),\n",
       " array([363.90436], dtype=float32),\n",
       " array([403.13486], dtype=float32),\n",
       " array([501.21112], dtype=float32),\n",
       " array([540.4416], dtype=float32),\n",
       " array([540.4416], dtype=float32),\n",
       " array([390.688], dtype=float32),\n",
       " array([449.53375], dtype=float32),\n",
       " array([488.76425], dtype=float32),\n",
       " array([527.99475], dtype=float32),\n",
       " array([426.1386], dtype=float32),\n",
       " array([465.36914], dtype=float32),\n",
       " array([484.98438], dtype=float32),\n",
       " array([354.846], dtype=float32),\n",
       " array([374.46127], dtype=float32),\n",
       " array([492.15277], dtype=float32),\n",
       " array([401.24493], dtype=float32),\n",
       " array([369.1828], dtype=float32),\n",
       " array([388.79807], dtype=float32),\n",
       " array([428.02856], dtype=float32),\n",
       " array([486.87433], dtype=float32),\n",
       " array([376.3512], dtype=float32),\n",
       " array([395.96646], dtype=float32),\n",
       " array([415.58173], dtype=float32),\n",
       " array([435.19696], dtype=float32),\n",
       " array([422.75012], dtype=float32),\n",
       " array([461.9806], dtype=float32),\n",
       " array([410.30325], dtype=float32),\n",
       " array([410.30325], dtype=float32),\n",
       " array([429.91852], dtype=float32),\n",
       " array([449.53375], dtype=float32),\n",
       " array([469.149], dtype=float32),\n",
       " array([508.37952], dtype=float32),\n",
       " array([527.99475], dtype=float32),\n",
       " array([547.61], dtype=float32),\n",
       " array([445.75388], dtype=float32),\n",
       " array([465.36914], dtype=float32),\n",
       " array([504.5996], dtype=float32),\n",
       " array([472.53754], dtype=float32),\n",
       " array([362.0144], dtype=float32),\n",
       " array([440.4754], dtype=float32),\n",
       " array([518.9364], dtype=float32),\n",
       " array([372.64185], dtype=float32),\n",
       " array([431.48758], dtype=float32),\n",
       " array([431.48758], dtype=float32),\n",
       " array([549.1791], dtype=float32),\n",
       " array([363.5835], dtype=float32),\n",
       " array([402.814], dtype=float32),\n",
       " array([422.42926], dtype=float32),\n",
       " array([442.0445], dtype=float32),\n",
       " array([409.9824], dtype=float32),\n",
       " array([409.9824], dtype=float32),\n",
       " array([429.59766], dtype=float32),\n",
       " array([488.4434], dtype=float32),\n",
       " array([495.6118], dtype=float32),\n",
       " array([385.08868], dtype=float32),\n",
       " array([404.70392], dtype=float32),\n",
       " array([424.31918], dtype=float32),\n",
       " array([463.54968], dtype=float32),\n",
       " array([502.78018], dtype=float32),\n",
       " array([411.8723], dtype=float32),\n",
       " array([431.48758], dtype=float32),\n",
       " array([509.94858], dtype=float32),\n",
       " array([509.94858], dtype=float32),\n",
       " array([379.81024], dtype=float32),\n",
       " array([419.0407], dtype=float32),\n",
       " array([458.27124], dtype=float32),\n",
       " array([497.5017], dtype=float32),\n",
       " array([536.73224], dtype=float32),\n",
       " array([406.59387], dtype=float32),\n",
       " array([426.2091], dtype=float32),\n",
       " array([445.82437], dtype=float32),\n",
       " array([465.43964], dtype=float32),\n",
       " array([543.90063], dtype=float32),\n",
       " array([422.42926], dtype=float32),\n",
       " array([422.42926], dtype=float32),\n",
       " array([481.275], dtype=float32),\n",
       " array([481.275], dtype=float32),\n",
       " array([520.5055], dtype=float32),\n",
       " array([429.59766], dtype=float32),\n",
       " array([468.82812], dtype=float32),\n",
       " array([488.4434], dtype=float32),\n",
       " array([436.76605], dtype=float32),\n",
       " array([495.6118], dtype=float32),\n",
       " array([515.22705], dtype=float32),\n",
       " array([385.08868], dtype=float32),\n",
       " array([404.70392], dtype=float32),\n",
       " array([502.78018], dtype=float32),\n",
       " array([502.78018], dtype=float32),\n",
       " array([372.64185], dtype=float32),\n",
       " array([451.10284], dtype=float32),\n",
       " array([451.10284], dtype=float32),\n",
       " array([419.0407], dtype=float32),\n",
       " array([419.0407], dtype=float32),\n",
       " array([438.65598], dtype=float32),\n",
       " array([477.88647], dtype=float32),\n",
       " array([517.11694], dtype=float32),\n",
       " array([517.11694], dtype=float32),\n",
       " array([536.73224], dtype=float32),\n",
       " array([406.59387], dtype=float32),\n",
       " array([426.2091], dtype=float32),\n",
       " array([485.05487], dtype=float32),\n",
       " array([485.05487], dtype=float32),\n",
       " array([504.6701], dtype=float32),\n",
       " array([442.0445], dtype=float32)]"
      ]
     },
     "execution_count": 16,
     "metadata": {},
     "output_type": "execute_result"
    }
   ],
   "source": [
    "predictions"
   ]
  },
  {
   "cell_type": "markdown",
   "metadata": {},
   "source": [
    "The model gave us a result string y. I am now processing this result string into a list."
   ]
  },
  {
   "cell_type": "code",
   "execution_count": 17,
   "metadata": {},
   "outputs": [
    {
     "data": {
      "text/plain": [
       "array([[319.3249 ],\n",
       "       [437.01642],\n",
       "       [476.24692],\n",
       "       [495.86215],\n",
       "       [326.4933 ],\n",
       "       [424.56955],\n",
       "       [444.1848 ],\n",
       "       [510.19894],\n",
       "       [360.44534],\n",
       "       [478.13684],\n",
       "       [367.61374],\n",
       "       [406.84424],\n",
       "       [446.07474],\n",
       "       [485.30524],\n",
       "       [485.30524],\n",
       "       [524.5357 ],\n",
       "       [374.78214],\n",
       "       [374.78214],\n",
       "       [394.3974 ],\n",
       "       [394.3974 ],\n",
       "       [433.62787],\n",
       "       [433.62787],\n",
       "       [472.8584 ],\n",
       "       [492.47363],\n",
       "       [512.08887],\n",
       "       [531.7041 ],\n",
       "       [351.38702],\n",
       "       [338.94016],\n",
       "       [437.01642],\n",
       "       [456.63165],\n",
       "       [495.86215],\n",
       "       [404.95428],\n",
       "       [444.1848 ],\n",
       "       [483.4153 ],\n",
       "       [333.66168],\n",
       "       [412.12268],\n",
       "       [451.3532 ],\n",
       "       [451.3532 ],\n",
       "       [470.96844],\n",
       "       [510.19894],\n",
       "       [399.67584],\n",
       "       [399.67584],\n",
       "       [438.90634],\n",
       "       [438.90634],\n",
       "       [458.5216 ],\n",
       "       [478.13684],\n",
       "       [478.13684],\n",
       "       [426.45947],\n",
       "       [465.69   ],\n",
       "       [465.69   ],\n",
       "       [394.3974 ],\n",
       "       [394.3974 ],\n",
       "       [453.24313],\n",
       "       [472.8584 ],\n",
       "       [410.23276],\n",
       "       [449.46326],\n",
       "       [346.10855],\n",
       "       [424.56955],\n",
       "       [444.1848 ],\n",
       "       [463.80005],\n",
       "       [387.229  ],\n",
       "       [414.01263],\n",
       "       [453.24313],\n",
       "       [472.8584 ],\n",
       "       [351.38702],\n",
       "       [351.38702],\n",
       "       [410.23276],\n",
       "       [410.23276],\n",
       "       [469.07852],\n",
       "       [358.55542],\n",
       "       [346.10855],\n",
       "       [365.72382],\n",
       "       [365.72382],\n",
       "       [404.95428],\n",
       "       [424.56955],\n",
       "       [353.27695],\n",
       "       [372.8922 ],\n",
       "       [412.12268],\n",
       "       [431.73795],\n",
       "       [451.3532 ],\n",
       "       [360.44534],\n",
       "       [380.0606 ],\n",
       "       [438.90634],\n",
       "       [478.13684],\n",
       "       [517.3673 ],\n",
       "       [347.99847],\n",
       "       [446.07474],\n",
       "       [453.24313],\n",
       "       [512.08887],\n",
       "       [351.38702],\n",
       "       [390.6175 ],\n",
       "       [429.84802],\n",
       "       [429.84802],\n",
       "       [429.84802],\n",
       "       [488.69376],\n",
       "       [472.53754],\n",
       "       [511.768  ],\n",
       "       [518.9364 ],\n",
       "       [369.1828 ],\n",
       "       [408.41333],\n",
       "       [447.6438 ],\n",
       "       [486.87433],\n",
       "       [506.48956],\n",
       "       [415.58173],\n",
       "       [415.58173],\n",
       "       [533.2732 ],\n",
       "       [383.5196 ],\n",
       "       [481.59586],\n",
       "       [520.82635],\n",
       "       [540.4416 ],\n",
       "       [429.91852],\n",
       "       [429.91852],\n",
       "       [469.149  ],\n",
       "       [488.76425],\n",
       "       [527.99475],\n",
       "       [527.99475],\n",
       "       [347.6776 ],\n",
       "       [426.1386 ],\n",
       "       [426.1386 ],\n",
       "       [504.5996 ],\n",
       "       [335.23077],\n",
       "       [433.307  ],\n",
       "       [472.53754],\n",
       "       [511.768  ],\n",
       "       [362.0144 ],\n",
       "       [401.24493],\n",
       "       [460.09067],\n",
       "       [518.9364 ],\n",
       "       [408.41333],\n",
       "       [408.41333],\n",
       "       [447.6438 ],\n",
       "       [467.25906],\n",
       "       [526.1048 ],\n",
       "       [376.3512 ],\n",
       "       [415.58173],\n",
       "       [474.42746],\n",
       "       [494.04272],\n",
       "       [442.36536],\n",
       "       [429.91852],\n",
       "       [469.149  ],\n",
       "       [488.76425],\n",
       "       [508.37952],\n",
       "       [386.90814],\n",
       "       [386.90814],\n",
       "       [406.52338],\n",
       "       [426.1386 ],\n",
       "       [445.75388],\n",
       "       [374.46127],\n",
       "       [413.69177],\n",
       "       [413.69177],\n",
       "       [492.15277],\n",
       "       [401.24493],\n",
       "       [440.4754 ],\n",
       "       [518.9364 ],\n",
       "       [376.3512 ],\n",
       "       [435.19696],\n",
       "       [474.42746],\n",
       "       [513.65796],\n",
       "       [363.90436],\n",
       "       [403.13486],\n",
       "       [501.21112],\n",
       "       [540.4416 ],\n",
       "       [540.4416 ],\n",
       "       [390.688  ],\n",
       "       [449.53375],\n",
       "       [488.76425],\n",
       "       [527.99475],\n",
       "       [426.1386 ],\n",
       "       [465.36914],\n",
       "       [484.98438],\n",
       "       [354.846  ],\n",
       "       [374.46127],\n",
       "       [492.15277],\n",
       "       [401.24493],\n",
       "       [369.1828 ],\n",
       "       [388.79807],\n",
       "       [428.02856],\n",
       "       [486.87433],\n",
       "       [376.3512 ],\n",
       "       [395.96646],\n",
       "       [415.58173],\n",
       "       [435.19696],\n",
       "       [422.75012],\n",
       "       [461.9806 ],\n",
       "       [410.30325],\n",
       "       [410.30325],\n",
       "       [429.91852],\n",
       "       [449.53375],\n",
       "       [469.149  ],\n",
       "       [508.37952],\n",
       "       [527.99475],\n",
       "       [547.61   ],\n",
       "       [445.75388],\n",
       "       [465.36914],\n",
       "       [504.5996 ],\n",
       "       [472.53754],\n",
       "       [362.0144 ],\n",
       "       [440.4754 ],\n",
       "       [518.9364 ],\n",
       "       [372.64185],\n",
       "       [431.48758],\n",
       "       [431.48758],\n",
       "       [549.1791 ],\n",
       "       [363.5835 ],\n",
       "       [402.814  ],\n",
       "       [422.42926],\n",
       "       [442.0445 ],\n",
       "       [409.9824 ],\n",
       "       [409.9824 ],\n",
       "       [429.59766],\n",
       "       [488.4434 ],\n",
       "       [495.6118 ],\n",
       "       [385.08868],\n",
       "       [404.70392],\n",
       "       [424.31918],\n",
       "       [463.54968],\n",
       "       [502.78018],\n",
       "       [411.8723 ],\n",
       "       [431.48758],\n",
       "       [509.94858],\n",
       "       [509.94858],\n",
       "       [379.81024],\n",
       "       [419.0407 ],\n",
       "       [458.27124],\n",
       "       [497.5017 ],\n",
       "       [536.73224],\n",
       "       [406.59387],\n",
       "       [426.2091 ],\n",
       "       [445.82437],\n",
       "       [465.43964],\n",
       "       [543.90063],\n",
       "       [422.42926],\n",
       "       [422.42926],\n",
       "       [481.275  ],\n",
       "       [481.275  ],\n",
       "       [520.5055 ],\n",
       "       [429.59766],\n",
       "       [468.82812],\n",
       "       [488.4434 ],\n",
       "       [436.76605],\n",
       "       [495.6118 ],\n",
       "       [515.22705],\n",
       "       [385.08868],\n",
       "       [404.70392],\n",
       "       [502.78018],\n",
       "       [502.78018],\n",
       "       [372.64185],\n",
       "       [451.10284],\n",
       "       [451.10284],\n",
       "       [419.0407 ],\n",
       "       [419.0407 ],\n",
       "       [438.65598],\n",
       "       [477.88647],\n",
       "       [517.11694],\n",
       "       [517.11694],\n",
       "       [536.73224],\n",
       "       [406.59387],\n",
       "       [426.2091 ],\n",
       "       [485.05487],\n",
       "       [485.05487],\n",
       "       [504.6701 ],\n",
       "       [442.0445 ]], dtype=float32)"
      ]
     },
     "execution_count": 17,
     "metadata": {},
     "output_type": "execute_result"
    }
   ],
   "source": [
    "import numpy as np\n",
    "\n",
    "conc = np.vstack(predictions)\n",
    "conc"
   ]
  },
  {
   "cell_type": "code",
   "execution_count": 18,
   "metadata": {},
   "outputs": [
    {
     "data": {
      "text/plain": [
       "dtype('float32')"
      ]
     },
     "execution_count": 18,
     "metadata": {},
     "output_type": "execute_result"
    }
   ],
   "source": [
    "ZHP = pd.DataFrame(conc)\n",
    "ZHP.rename(columns={0:'y_pred'}, inplace=True)\n",
    "\n",
    "kot = ZHP['y_pred'].values\n",
    "kot = kot.astype('float32')\n",
    "kot.dtype"
   ]
  },
  {
   "cell_type": "markdown",
   "metadata": {},
   "source": [
    "Now I'm creating a list of real y values from the test set."
   ]
  },
  {
   "cell_type": "code",
   "execution_count": 19,
   "metadata": {},
   "outputs": [
    {
     "data": {
      "text/plain": [
       "dtype('float32')"
      ]
     },
     "execution_count": 19,
     "metadata": {},
     "output_type": "execute_result"
    }
   ],
   "source": [
    "y = df_test['Occupancy'].values\n",
    "y = y.astype('float32')\n",
    "y.dtype"
   ]
  },
  {
   "cell_type": "markdown",
   "metadata": {},
   "source": [
    "Now I create a dataframe with y-real and y-predicted variables."
   ]
  },
  {
   "cell_type": "code",
   "execution_count": 20,
   "metadata": {},
   "outputs": [
    {
     "data": {
      "text/plain": [
       "y         float32\n",
       "y_pred    float32\n",
       "dtype: object"
      ]
     },
     "execution_count": 20,
     "metadata": {},
     "output_type": "execute_result"
    }
   ],
   "source": [
    "PZU = pd.DataFrame({'y': y, 'y_pred': kot })\n",
    "PZU.dtypes"
   ]
  },
  {
   "cell_type": "markdown",
   "metadata": {},
   "source": [
    "https://stackoverflow.com/questions/42351184/how-to-calculate-r2-in-tensorflow"
   ]
  },
  {
   "cell_type": "code",
   "execution_count": 21,
   "metadata": {},
   "outputs": [],
   "source": [
    "def R_squared(y, y_pred):\n",
    "    \n",
    "  residual = tf.reduce_sum(tf.square(tf.subtract(y,y_pred)))\n",
    "  total = tf.reduce_sum(tf.square(tf.subtract(y, tf.reduce_mean(y))))\n",
    "  r2 = tf.subtract(1.0, tf.div(residual, total))\n",
    "  return r2"
   ]
  },
  {
   "cell_type": "markdown",
   "metadata": {},
   "source": [
    "https://blog.minitab.com/blog/adventures-in-statistics-2/regression-analysis-how-do-i-interpret-r-squared-and-assess-the-goodness-of-fit"
   ]
  },
  {
   "cell_type": "markdown",
   "metadata": {},
   "source": [
    "To use this function, both variables must have the same data type."
   ]
  },
  {
   "cell_type": "code",
   "execution_count": 22,
   "metadata": {},
   "outputs": [
    {
     "data": {
      "text/plain": [
       "dtype('float32')"
      ]
     },
     "execution_count": 22,
     "metadata": {},
     "output_type": "execute_result"
    }
   ],
   "source": [
    "y.dtype"
   ]
  },
  {
   "cell_type": "code",
   "execution_count": 23,
   "metadata": {},
   "outputs": [
    {
     "data": {
      "text/plain": [
       "dtype('float32')"
      ]
     },
     "execution_count": 23,
     "metadata": {},
     "output_type": "execute_result"
    }
   ],
   "source": [
    "kot.dtype"
   ]
  },
  {
   "cell_type": "code",
   "execution_count": 24,
   "metadata": {},
   "outputs": [],
   "source": [
    "residual = tf.reduce_sum(tf.square(tf.subtract(y,kot)))"
   ]
  },
  {
   "cell_type": "code",
   "execution_count": 25,
   "metadata": {},
   "outputs": [],
   "source": [
    "total = tf.reduce_sum(tf.square(tf.subtract(y, tf.reduce_mean(y))))"
   ]
  },
  {
   "cell_type": "code",
   "execution_count": 26,
   "metadata": {},
   "outputs": [],
   "source": [
    "r2 = tf.subtract(1.0, tf.div(residual, total))"
   ]
  },
  {
   "cell_type": "code",
   "execution_count": 27,
   "metadata": {},
   "outputs": [
    {
     "data": {
      "text/plain": [
       "<tf.Tensor 'Sub_2:0' shape=() dtype=float32>"
      ]
     },
     "execution_count": 27,
     "metadata": {},
     "output_type": "execute_result"
    }
   ],
   "source": [
    "r2"
   ]
  },
  {
   "cell_type": "code",
   "execution_count": 28,
   "metadata": {},
   "outputs": [
    {
     "name": "stdout",
     "output_type": "stream",
     "text": [
      "R Square parameter:  0.13424665\n"
     ]
    }
   ],
   "source": [
    "sess = tf.Session()\n",
    "a = sess.run(r2)\n",
    "print('R Square parameter: ',a)"
   ]
  },
  {
   "cell_type": "markdown",
   "metadata": {},
   "source": [
    "\n",
    "# <span style=\"color:#4c1130\">Calculation of R Square parameter using Pandas</span>"
   ]
  },
  {
   "cell_type": "code",
   "execution_count": 29,
   "metadata": {},
   "outputs": [
    {
     "data": {
      "text/html": [
       "<div>\n",
       "<style scoped>\n",
       "    .dataframe tbody tr th:only-of-type {\n",
       "        vertical-align: middle;\n",
       "    }\n",
       "\n",
       "    .dataframe tbody tr th {\n",
       "        vertical-align: top;\n",
       "    }\n",
       "\n",
       "    .dataframe thead th {\n",
       "        text-align: right;\n",
       "    }\n",
       "</style>\n",
       "<table border=\"1\" class=\"dataframe\">\n",
       "  <thead>\n",
       "    <tr style=\"text-align: right;\">\n",
       "      <th></th>\n",
       "      <th>y</th>\n",
       "      <th>y_pred</th>\n",
       "    </tr>\n",
       "  </thead>\n",
       "  <tbody>\n",
       "    <tr>\n",
       "      <th>0</th>\n",
       "      <td>264.0</td>\n",
       "      <td>319.324890</td>\n",
       "    </tr>\n",
       "    <tr>\n",
       "      <th>1</th>\n",
       "      <td>651.0</td>\n",
       "      <td>437.016418</td>\n",
       "    </tr>\n",
       "    <tr>\n",
       "      <th>2</th>\n",
       "      <td>572.0</td>\n",
       "      <td>476.246918</td>\n",
       "    </tr>\n",
       "    <tr>\n",
       "      <th>3</th>\n",
       "      <td>471.0</td>\n",
       "      <td>495.862152</td>\n",
       "    </tr>\n",
       "    <tr>\n",
       "      <th>4</th>\n",
       "      <td>282.0</td>\n",
       "      <td>326.493286</td>\n",
       "    </tr>\n",
       "  </tbody>\n",
       "</table>\n",
       "</div>"
      ],
      "text/plain": [
       "       y      y_pred\n",
       "0  264.0  319.324890\n",
       "1  651.0  437.016418\n",
       "2  572.0  476.246918\n",
       "3  471.0  495.862152\n",
       "4  282.0  326.493286"
      ]
     },
     "execution_count": 29,
     "metadata": {},
     "output_type": "execute_result"
    }
   ],
   "source": [
    "PZU.head(5)"
   ]
  },
  {
   "cell_type": "code",
   "execution_count": 30,
   "metadata": {},
   "outputs": [
    {
     "data": {
      "text/html": [
       "<div>\n",
       "<style scoped>\n",
       "    .dataframe tbody tr th:only-of-type {\n",
       "        vertical-align: middle;\n",
       "    }\n",
       "\n",
       "    .dataframe tbody tr th {\n",
       "        vertical-align: top;\n",
       "    }\n",
       "\n",
       "    .dataframe thead th {\n",
       "        text-align: right;\n",
       "    }\n",
       "</style>\n",
       "<table border=\"1\" class=\"dataframe\">\n",
       "  <thead>\n",
       "    <tr style=\"text-align: right;\">\n",
       "      <th></th>\n",
       "      <th>y</th>\n",
       "      <th>y_pred</th>\n",
       "      <th>SSE</th>\n",
       "    </tr>\n",
       "  </thead>\n",
       "  <tbody>\n",
       "    <tr>\n",
       "      <th>0</th>\n",
       "      <td>264.0</td>\n",
       "      <td>319.324890</td>\n",
       "      <td>3060.843506</td>\n",
       "    </tr>\n",
       "    <tr>\n",
       "      <th>1</th>\n",
       "      <td>651.0</td>\n",
       "      <td>437.016418</td>\n",
       "      <td>45788.972656</td>\n",
       "    </tr>\n",
       "    <tr>\n",
       "      <th>2</th>\n",
       "      <td>572.0</td>\n",
       "      <td>476.246918</td>\n",
       "      <td>9168.652344</td>\n",
       "    </tr>\n",
       "  </tbody>\n",
       "</table>\n",
       "</div>"
      ],
      "text/plain": [
       "       y      y_pred           SSE\n",
       "0  264.0  319.324890   3060.843506\n",
       "1  651.0  437.016418  45788.972656\n",
       "2  572.0  476.246918   9168.652344"
      ]
     },
     "execution_count": 30,
     "metadata": {},
     "output_type": "execute_result"
    }
   ],
   "source": [
    "PZU['SSE'] = (PZU['y'] - PZU['y_pred'])**2\n",
    "PZU.head(3)"
   ]
  },
  {
   "cell_type": "markdown",
   "metadata": {},
   "source": [
    "\n",
    "### <span style=\"color:darkgreen\">Point 2. We calculate the average empirical value of y</span>"
   ]
  },
  {
   "cell_type": "code",
   "execution_count": 31,
   "metadata": {},
   "outputs": [
    {
     "data": {
      "text/html": [
       "<div>\n",
       "<style scoped>\n",
       "    .dataframe tbody tr th:only-of-type {\n",
       "        vertical-align: middle;\n",
       "    }\n",
       "\n",
       "    .dataframe tbody tr th {\n",
       "        vertical-align: top;\n",
       "    }\n",
       "\n",
       "    .dataframe thead th {\n",
       "        text-align: right;\n",
       "    }\n",
       "</style>\n",
       "<table border=\"1\" class=\"dataframe\">\n",
       "  <thead>\n",
       "    <tr style=\"text-align: right;\">\n",
       "      <th></th>\n",
       "      <th>y</th>\n",
       "      <th>y_pred</th>\n",
       "      <th>SSE</th>\n",
       "      <th>ave_y</th>\n",
       "    </tr>\n",
       "  </thead>\n",
       "  <tbody>\n",
       "    <tr>\n",
       "      <th>0</th>\n",
       "      <td>264.0</td>\n",
       "      <td>319.324890</td>\n",
       "      <td>3060.843506</td>\n",
       "      <td>463.973297</td>\n",
       "    </tr>\n",
       "    <tr>\n",
       "      <th>1</th>\n",
       "      <td>651.0</td>\n",
       "      <td>437.016418</td>\n",
       "      <td>45788.972656</td>\n",
       "      <td>463.973297</td>\n",
       "    </tr>\n",
       "    <tr>\n",
       "      <th>2</th>\n",
       "      <td>572.0</td>\n",
       "      <td>476.246918</td>\n",
       "      <td>9168.652344</td>\n",
       "      <td>463.973297</td>\n",
       "    </tr>\n",
       "  </tbody>\n",
       "</table>\n",
       "</div>"
      ],
      "text/plain": [
       "       y      y_pred           SSE       ave_y\n",
       "0  264.0  319.324890   3060.843506  463.973297\n",
       "1  651.0  437.016418  45788.972656  463.973297\n",
       "2  572.0  476.246918   9168.652344  463.973297"
      ]
     },
     "execution_count": 31,
     "metadata": {},
     "output_type": "execute_result"
    }
   ],
   "source": [
    "PZU['ave_y'] = PZU['y'].mean()\n",
    "PZU.head(3)"
   ]
  },
  {
   "cell_type": "markdown",
   "metadata": {},
   "source": [
    "### <span style=\"color:darkgreen\">Point 3. We calculate the difference between empirical values y and the average of empirical values y</span>"
   ]
  },
  {
   "cell_type": "code",
   "execution_count": 32,
   "metadata": {},
   "outputs": [
    {
     "data": {
      "text/html": [
       "<div>\n",
       "<style scoped>\n",
       "    .dataframe tbody tr th:only-of-type {\n",
       "        vertical-align: middle;\n",
       "    }\n",
       "\n",
       "    .dataframe tbody tr th {\n",
       "        vertical-align: top;\n",
       "    }\n",
       "\n",
       "    .dataframe thead th {\n",
       "        text-align: right;\n",
       "    }\n",
       "</style>\n",
       "<table border=\"1\" class=\"dataframe\">\n",
       "  <thead>\n",
       "    <tr style=\"text-align: right;\">\n",
       "      <th></th>\n",
       "      <th>y</th>\n",
       "      <th>y_pred</th>\n",
       "      <th>SSE</th>\n",
       "      <th>ave_y</th>\n",
       "      <th>SST</th>\n",
       "    </tr>\n",
       "  </thead>\n",
       "  <tbody>\n",
       "    <tr>\n",
       "      <th>0</th>\n",
       "      <td>264.0</td>\n",
       "      <td>319.324890</td>\n",
       "      <td>3060.843506</td>\n",
       "      <td>463.973297</td>\n",
       "      <td>39989.320312</td>\n",
       "    </tr>\n",
       "    <tr>\n",
       "      <th>1</th>\n",
       "      <td>651.0</td>\n",
       "      <td>437.016418</td>\n",
       "      <td>45788.972656</td>\n",
       "      <td>463.973297</td>\n",
       "      <td>34978.988281</td>\n",
       "    </tr>\n",
       "    <tr>\n",
       "      <th>2</th>\n",
       "      <td>572.0</td>\n",
       "      <td>476.246918</td>\n",
       "      <td>9168.652344</td>\n",
       "      <td>463.973297</td>\n",
       "      <td>11669.768555</td>\n",
       "    </tr>\n",
       "  </tbody>\n",
       "</table>\n",
       "</div>"
      ],
      "text/plain": [
       "       y      y_pred           SSE       ave_y           SST\n",
       "0  264.0  319.324890   3060.843506  463.973297  39989.320312\n",
       "1  651.0  437.016418  45788.972656  463.973297  34978.988281\n",
       "2  572.0  476.246918   9168.652344  463.973297  11669.768555"
      ]
     },
     "execution_count": 32,
     "metadata": {},
     "output_type": "execute_result"
    }
   ],
   "source": [
    "PZU['SST'] = (PZU['y'] - PZU['ave_y'])**2\n",
    "PZU.head(3)"
   ]
  },
  {
   "cell_type": "markdown",
   "metadata": {},
   "source": [
    "### <span style=\"color:darkgreen\">Point 4. We calculate the difference between sum of SST and sum of SSE</span>"
   ]
  },
  {
   "cell_type": "code",
   "execution_count": 33,
   "metadata": {},
   "outputs": [
    {
     "name": "stdout",
     "output_type": "stream",
     "text": [
      "Sum_SST : 3732746.8\n",
      "Sum_SSE : 3231638.2\n"
     ]
    }
   ],
   "source": [
    "Sum_SST = PZU['SST'].sum()\n",
    "print('Sum_SST :',Sum_SST)\n",
    "Sum_SSE = PZU['SSE'].sum()\n",
    "print('Sum_SSE :',Sum_SSE)\n",
    "SSR = Sum_SST - Sum_SSE"
   ]
  },
  {
   "cell_type": "markdown",
   "metadata": {},
   "source": [
    "### <span style=\"color:darkgreen\">Point 5. We calculate the R Square parameter</span>"
   ]
  },
  {
   "cell_type": "code",
   "execution_count": 34,
   "metadata": {},
   "outputs": [
    {
     "name": "stdout",
     "output_type": "stream",
     "text": [
      "R Square parameter:  0.13424659\n"
     ]
    }
   ],
   "source": [
    "r2 = SSR/Sum_SST\n",
    "print('R Square parameter: ',r2)"
   ]
  },
  {
   "cell_type": "code",
   "execution_count": null,
   "metadata": {},
   "outputs": [],
   "source": []
  }
 ],
 "metadata": {
  "kernelspec": {
   "display_name": "Python 3",
   "language": "python",
   "name": "python3"
  },
  "language_info": {
   "codemirror_mode": {
    "name": "ipython",
    "version": 3
   },
   "file_extension": ".py",
   "mimetype": "text/x-python",
   "name": "python",
   "nbconvert_exporter": "python",
   "pygments_lexer": "ipython3",
   "version": "3.6.9"
  }
 },
 "nbformat": 4,
 "nbformat_minor": 2
}
