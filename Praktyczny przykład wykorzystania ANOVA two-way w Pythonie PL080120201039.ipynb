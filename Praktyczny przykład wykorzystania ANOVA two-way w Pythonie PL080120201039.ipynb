{
 "cells": [
  {
   "cell_type": "markdown",
   "metadata": {},
   "source": [
    "## Praktyczny przykład wykorzystania ANOVA two-way w Pythonie\n",
    "Source of data: http://faculty.webster.edu/woolflm/8canswer.html\n",
    "\n",
    "### Model ANOVA two-way (two-factor)\n",
    "\n",
    "W tej analizie robimy porównie dwóch czyników w tych samych populacjach. \n",
    "Porównuje się na przykład temperaturę i ciśnienie w procesie w kilku różnych okresach.\n",
    "Tworzy się trzy hipotezy zerowe:\n",
    "- h01: średnia temperatury w procesach jest równa\n",
    "- h02: średnie ciśnienie w procesach jest równe\n",
    "- h03: nie ma powiązania między ciśnieniem a temperaturą\n",
    "\n",
    "Mówimy, że występuje interakcja pomiędzy dwoma czynnikami, jeżeli efekt uzyskany przy danym poziomie jednego czynnika zależy od poziomu drugiego czynnika. Brak interakcji oznacza, że czynniki są addytywne.\n",
    "\n",
    "Przeprowadzając two-way ANOVA powinniśmy najpierw sprawdzić trzecią hipotezę zerową.  \n",
    "\n",
    "Analiza ANOVA jest dla H01 i H02 dwiema ANOWA jednoczynnikowymi jednak przy H03 jest już połączeniem tych dwóch ANOVA one-way czyli ANOVA two-way.\n",
    "\n",
    "### ANOVA trzy czynnikowa \n",
    "Polega na trzech hipotezach zerowych ANOVA one-way o równości średnich dla czynników A, B, C oraz kilku hipotez interakcji: AB, AC, BC, ABC."
   ]
  },
  {
   "cell_type": "markdown",
   "metadata": {},
   "source": [
    "#### Case Study ANOVA\n",
    "\n",
    "Przeprowadzono badania, których celem było określenie poziomu *radości życia*. Postawiono następujące hipotezy zerowe:\n",
    "-  h0a - średnia *radość życia* jest taka sama dla kobiet i mężczyzn\n",
    "-  H0b - średnia *radość życia* jest taka sama wśród trzech grup: 'Young Adult', 'Middle Adult', 'Older Adult'. \n",
    "-  H0c - nie istnieje interakcji pomiędzy grupami: 'Young Adult', 'Middle Adult', 'Older Adult' a płcią badanych osób mającej wpływ na poziom *radość życia*."
   ]
  },
  {
   "cell_type": "code",
   "execution_count": 1,
   "metadata": {},
   "outputs": [
    {
     "data": {
      "text/html": [
       "<div>\n",
       "<style scoped>\n",
       "    .dataframe tbody tr th:only-of-type {\n",
       "        vertical-align: middle;\n",
       "    }\n",
       "\n",
       "    .dataframe tbody tr th {\n",
       "        vertical-align: top;\n",
       "    }\n",
       "\n",
       "    .dataframe thead th {\n",
       "        text-align: right;\n",
       "    }\n",
       "</style>\n",
       "<table border=\"1\" class=\"dataframe\">\n",
       "  <thead>\n",
       "    <tr style=\"text-align: right;\">\n",
       "      <th></th>\n",
       "      <th>Group</th>\n",
       "      <th>Young Adult</th>\n",
       "      <th>Middle Adult</th>\n",
       "      <th>Older Adult</th>\n",
       "    </tr>\n",
       "  </thead>\n",
       "  <tbody>\n",
       "    <tr>\n",
       "      <th>0</th>\n",
       "      <td>Male</td>\n",
       "      <td>4</td>\n",
       "      <td>7</td>\n",
       "      <td>10</td>\n",
       "    </tr>\n",
       "    <tr>\n",
       "      <th>1</th>\n",
       "      <td>Male</td>\n",
       "      <td>2</td>\n",
       "      <td>5</td>\n",
       "      <td>7</td>\n",
       "    </tr>\n",
       "    <tr>\n",
       "      <th>2</th>\n",
       "      <td>Male</td>\n",
       "      <td>3</td>\n",
       "      <td>7</td>\n",
       "      <td>9</td>\n",
       "    </tr>\n",
       "    <tr>\n",
       "      <th>3</th>\n",
       "      <td>Male</td>\n",
       "      <td>4</td>\n",
       "      <td>5</td>\n",
       "      <td>8</td>\n",
       "    </tr>\n",
       "    <tr>\n",
       "      <th>4</th>\n",
       "      <td>Male</td>\n",
       "      <td>2</td>\n",
       "      <td>6</td>\n",
       "      <td>11</td>\n",
       "    </tr>\n",
       "    <tr>\n",
       "      <th>5</th>\n",
       "      <td>Female</td>\n",
       "      <td>7</td>\n",
       "      <td>8</td>\n",
       "      <td>10</td>\n",
       "    </tr>\n",
       "    <tr>\n",
       "      <th>6</th>\n",
       "      <td>Female</td>\n",
       "      <td>4</td>\n",
       "      <td>10</td>\n",
       "      <td>9</td>\n",
       "    </tr>\n",
       "    <tr>\n",
       "      <th>7</th>\n",
       "      <td>Female</td>\n",
       "      <td>3</td>\n",
       "      <td>7</td>\n",
       "      <td>12</td>\n",
       "    </tr>\n",
       "    <tr>\n",
       "      <th>8</th>\n",
       "      <td>Female</td>\n",
       "      <td>6</td>\n",
       "      <td>7</td>\n",
       "      <td>11</td>\n",
       "    </tr>\n",
       "    <tr>\n",
       "      <th>9</th>\n",
       "      <td>Female</td>\n",
       "      <td>5</td>\n",
       "      <td>8</td>\n",
       "      <td>13</td>\n",
       "    </tr>\n",
       "  </tbody>\n",
       "</table>\n",
       "</div>"
      ],
      "text/plain": [
       "    Group  Young Adult  Middle Adult  Older Adult\n",
       "0    Male            4             7           10\n",
       "1    Male            2             5            7\n",
       "2    Male            3             7            9\n",
       "3    Male            4             5            8\n",
       "4    Male            2             6           11\n",
       "5  Female            7             8           10\n",
       "6  Female            4            10            9\n",
       "7  Female            3             7           12\n",
       "8  Female            6             7           11\n",
       "9  Female            5             8           13"
      ]
     },
     "execution_count": 1,
     "metadata": {},
     "output_type": "execute_result"
    }
   ],
   "source": [
    "import pandas as pd\n",
    "\n",
    "cc =['Male', 'Male', 'Male', 'Male','Male','Female','Female','Female','Female','Female']\n",
    "aaa\t = [4,2,3,4,2,7,4,3,6,5]\n",
    "bbb = [7,5,7,5,6,8,10,7,7,8]\n",
    "ccc = [10,7,9,8,11,10,9,12,11,13]\n",
    "df = pd.DataFrame({'Group': cc, 'Young Adult':aaa, 'Middle Adult':bbb, 'Older Adult':ccc })\n",
    "df"
   ]
  },
  {
   "cell_type": "markdown",
   "metadata": {},
   "source": [
    "#### Warunki ANOVA\n",
    "\n",
    "<span style=\"color:blue\"> Analiza ANOVA to analiza stwierdzająca istnienie różnic pomiędzy średnimi w kilku populacjch. ANOVA weryfikuje zgodność średnich w kilku populachach anlizując ich wariancję. Celem AVONA jest wykrycie różnic między średnimi jednak nazywa się ją analizą wariancji. Założenia stosowania anailzy wariancji ANOVA:</span>\n",
    " - <span style=\"color:blue\">Próby zostały pobrane niezależnie od siebie z każdej z r populacji</span>\n",
    " - <span style=\"color:blue\">W każdej z r badanych populacji rozkłąd jest normalny o tej samej wariancji. Średnie w r populacjach mogą być równę, lecz nie muszą*</span>\n",
    "\n",
    "*źródło: Amir D. Aczel, \"Statystyka w zarządzaniu\" PWN str.391\n",
    "\n",
    "Spełnienie warunków 1 i 2 jest niezbędne do zastosowania analizy ANOVA. Dopuszcza się rozkłady zbliżone do normalnych. Jeżel rozkłady są silnie skośne itp. znacznie odbiegają od rozkłądów normalnych lub gdy wariancje w przybliżeniu nie są jednakowe nie należy stosować ANOVA. W takim wypadku należy zastosować test nieparametryczny Kruskala-Wallisa.\n",
    "\n",
    "#### Sprawdzenie czy zmienne niezależne mają rozkłąd normalny. Wyszły nieistotne wartości p-value (tzn. p>0,05). Wszystkie zmienne mają rozkład normalny."
   ]
  },
  {
   "cell_type": "code",
   "execution_count": 2,
   "metadata": {},
   "outputs": [
    {
     "name": "stdout",
     "output_type": "stream",
     "text": [
      "Young Adult:   p=0.691\n",
      "Middle Adult:  p=0.564\n",
      "Older Adult:   p=0.582\n"
     ]
    },
    {
     "name": "stderr",
     "output_type": "stream",
     "text": [
      "C:\\ProgramData\\Anaconda3\\lib\\site-packages\\scipy\\stats\\stats.py:1416: UserWarning: kurtosistest only valid for n>=20 ... continuing anyway, n=10\n",
      "  \"anyway, n=%i\" % int(n))\n"
     ]
    }
   ],
   "source": [
    "from scipy.stats import normaltest\n",
    "\n",
    "stat, p = normaltest(df['Young Adult'])\n",
    "print(\"Young Adult:  \",'p=%.3f' % p)\n",
    "\n",
    "stat, p = normaltest(df['Middle Adult'])\n",
    "print(\"Middle Adult: \",'p=%.3f' % p)\n",
    "\n",
    "stat, p = normaltest(df['Older Adult'])\n",
    "print(\"Older Adult:  \",'p=%.3f' % p)"
   ]
  },
  {
   "cell_type": "code",
   "execution_count": 3,
   "metadata": {},
   "outputs": [],
   "source": [
    "import matplotlib.pyplot as plt\n",
    "import seaborn as sns\n",
    "\n",
    "\n",
    "fig, ax = plt.subplots()\n",
    "df.plot.kde(ax=ax, legend=True, title='Histogram: A vs. B')\n",
    "ax.set_ylabel('Probability')\n",
    "ax.grid(axis='y')"
   ]
  },
  {
   "cell_type": "markdown",
   "metadata": {},
   "source": [
    "Test wykazał, że grupy mają rozkłady normalne."
   ]
  },
  {
   "cell_type": "code",
   "execution_count": 4,
   "metadata": {},
   "outputs": [
    {
     "data": {
      "text/plain": [
       "<matplotlib.axes._subplots.AxesSubplot at 0x22ff1f3ecc0>"
      ]
     },
     "execution_count": 4,
     "metadata": {},
     "output_type": "execute_result"
    },
    {
     "data": {
      "image/png": "[encoded data removed]",
      "text/plain": [
       "<Figure size 432x288 with 1 Axes>"
      ]
     },
     "metadata": {
      "needs_background": "light"
     },
     "output_type": "display_data"
    }
   ],
   "source": [
    "df.boxplot(column=['Young Adult', 'Middle Adult', 'Older Adult'], grid=False)"
   ]
  },
  {
   "cell_type": "code",
   "execution_count": 5,
   "metadata": {},
   "outputs": [
    {
     "data": {
      "text/plain": [
       "<matplotlib.axes._subplots.AxesSubplot at 0x22ff1f3e518>"
      ]
     },
     "execution_count": 5,
     "metadata": {},
     "output_type": "execute_result"
    },
    {
     "data": {
      "image/png": "[encoded data removed]",
      "text/plain": [
       "<Figure size 432x288 with 1 Axes>"
      ]
     },
     "metadata": {
      "needs_background": "light"
     },
     "output_type": "display_data"
    }
   ],
   "source": [
    "df.plot.kde()"
   ]
  },
  {
   "cell_type": "markdown",
   "metadata": {},
   "source": [
    "#### Sprawdzamy czy wariancje w tych grupach są podobne."
   ]
  },
  {
   "cell_type": "code",
   "execution_count": 6,
   "metadata": {},
   "outputs": [
    {
     "name": "stdout",
     "output_type": "stream",
     "text": [
      "'Young Adult:   k=2.4\n",
      "Middle Adult:   k=2.0\n",
      "Older Adult:    k=3.0\n"
     ]
    }
   ],
   "source": [
    "k = df['Young Adult'].var(ddof=0)\n",
    "print(\"'Young Adult:  \",'k=%.1f' % k)\n",
    "\n",
    "k = df['Middle Adult'].var(ddof=0)\n",
    "print(\"Middle Adult:  \",'k=%.1f' % k)\n",
    "\n",
    "k = df['Older Adult'].var(ddof=0)\n",
    "print(\"Older Adult:   \",'k=%.1f' % k)"
   ]
  },
  {
   "cell_type": "markdown",
   "metadata": {},
   "source": [
    "Wariancje mają zbliżoną wartoś, można zastosować test ANOVA."
   ]
  },
  {
   "cell_type": "markdown",
   "metadata": {},
   "source": [
    "Przekształcamy dataframe do postaci wymaganej przez statmodels."
   ]
  },
  {
   "cell_type": "code",
   "execution_count": 7,
   "metadata": {},
   "outputs": [
    {
     "data": {
      "text/html": [
       "<div>\n",
       "<style scoped>\n",
       "    .dataframe tbody tr th:only-of-type {\n",
       "        vertical-align: middle;\n",
       "    }\n",
       "\n",
       "    .dataframe tbody tr th {\n",
       "        vertical-align: top;\n",
       "    }\n",
       "\n",
       "    .dataframe thead th {\n",
       "        text-align: right;\n",
       "    }\n",
       "</style>\n",
       "<table border=\"1\" class=\"dataframe\">\n",
       "  <thead>\n",
       "    <tr style=\"text-align: right;\">\n",
       "      <th></th>\n",
       "      <th>Group</th>\n",
       "      <th>variable</th>\n",
       "      <th>value</th>\n",
       "    </tr>\n",
       "  </thead>\n",
       "  <tbody>\n",
       "    <tr>\n",
       "      <th>24</th>\n",
       "      <td>Male</td>\n",
       "      <td>Older Adult</td>\n",
       "      <td>11</td>\n",
       "    </tr>\n",
       "    <tr>\n",
       "      <th>20</th>\n",
       "      <td>Male</td>\n",
       "      <td>Older Adult</td>\n",
       "      <td>10</td>\n",
       "    </tr>\n",
       "    <tr>\n",
       "      <th>3</th>\n",
       "      <td>Male</td>\n",
       "      <td>Young Adult</td>\n",
       "      <td>4</td>\n",
       "    </tr>\n",
       "    <tr>\n",
       "      <th>16</th>\n",
       "      <td>Female</td>\n",
       "      <td>Middle Adult</td>\n",
       "      <td>10</td>\n",
       "    </tr>\n",
       "    <tr>\n",
       "      <th>2</th>\n",
       "      <td>Male</td>\n",
       "      <td>Young Adult</td>\n",
       "      <td>3</td>\n",
       "    </tr>\n",
       "  </tbody>\n",
       "</table>\n",
       "</div>"
      ],
      "text/plain": [
       "     Group      variable  value\n",
       "24    Male   Older Adult     11\n",
       "20    Male   Older Adult     10\n",
       "3     Male   Young Adult      4\n",
       "16  Female  Middle Adult     10\n",
       "2     Male   Young Adult      3"
      ]
     },
     "execution_count": 7,
     "metadata": {},
     "output_type": "execute_result"
    }
   ],
   "source": [
    "df_melt = pd.melt(df.reset_index(),  id_vars=['Group'], value_vars=['Young Adult', 'Middle Adult', 'Older Adult'])\n",
    "df_melt.sample(5)"
   ]
  },
  {
   "cell_type": "code",
   "execution_count": 8,
   "metadata": {},
   "outputs": [
    {
     "data": {
      "text/html": [
       "<div>\n",
       "<style scoped>\n",
       "    .dataframe tbody tr th:only-of-type {\n",
       "        vertical-align: middle;\n",
       "    }\n",
       "\n",
       "    .dataframe tbody tr th {\n",
       "        vertical-align: top;\n",
       "    }\n",
       "\n",
       "    .dataframe thead th {\n",
       "        text-align: right;\n",
       "    }\n",
       "</style>\n",
       "<table border=\"1\" class=\"dataframe\">\n",
       "  <thead>\n",
       "    <tr style=\"text-align: right;\">\n",
       "      <th></th>\n",
       "      <th>sum_sq</th>\n",
       "      <th>df</th>\n",
       "      <th>F</th>\n",
       "      <th>PR(&gt;F)</th>\n",
       "    </tr>\n",
       "  </thead>\n",
       "  <tbody>\n",
       "    <tr>\n",
       "      <th>C(Group)</th>\n",
       "      <td>3.000000e+01</td>\n",
       "      <td>1.0</td>\n",
       "      <td>1.636364e+01</td>\n",
       "      <td>4.700077e-04</td>\n",
       "    </tr>\n",
       "    <tr>\n",
       "      <th>C(variable)</th>\n",
       "      <td>1.800000e+02</td>\n",
       "      <td>2.0</td>\n",
       "      <td>4.909091e+01</td>\n",
       "      <td>3.299559e-09</td>\n",
       "    </tr>\n",
       "    <tr>\n",
       "      <th>C(Group):C(variable)</th>\n",
       "      <td>1.183291e-29</td>\n",
       "      <td>2.0</td>\n",
       "      <td>3.227158e-30</td>\n",
       "      <td>1.000000e+00</td>\n",
       "    </tr>\n",
       "    <tr>\n",
       "      <th>Residual</th>\n",
       "      <td>4.400000e+01</td>\n",
       "      <td>24.0</td>\n",
       "      <td>NaN</td>\n",
       "      <td>NaN</td>\n",
       "    </tr>\n",
       "  </tbody>\n",
       "</table>\n",
       "</div>"
      ],
      "text/plain": [
       "                            sum_sq    df             F        PR(>F)\n",
       "C(Group)              3.000000e+01   1.0  1.636364e+01  4.700077e-04\n",
       "C(variable)           1.800000e+02   2.0  4.909091e+01  3.299559e-09\n",
       "C(Group):C(variable)  1.183291e-29   2.0  3.227158e-30  1.000000e+00\n",
       "Residual              4.400000e+01  24.0           NaN           NaN"
      ]
     },
     "execution_count": 8,
     "metadata": {},
     "output_type": "execute_result"
    }
   ],
   "source": [
    "import statsmodels.api as sm\n",
    "from statsmodels.formula.api import ols\n",
    "\n",
    "\n",
    "model = ols('value ~ C(Group) + C(variable) + C(Group):C(variable)', data=df_melt).fit()\n",
    "anova_table = sm.stats.anova_lm(model, typ=2)\n",
    "anova_table"
   ]
  },
  {
   "cell_type": "code",
   "execution_count": 9,
   "metadata": {},
   "outputs": [
    {
     "name": "stderr",
     "output_type": "stream",
     "text": [
      "C:\\ProgramData\\Anaconda3\\lib\\site-packages\\seaborn\\categorical.py:3666: UserWarning: The `factorplot` function has been renamed to `catplot`. The original name will be removed in a future release. Please update your code. Note that the default `kind` in `factorplot` (`'point'`) has changed `'strip'` in `catplot`.\n",
      "  warnings.warn(msg)\n"
     ]
    },
    {
     "data": {
      "text/plain": [
       "Text(0.5, 1, 'Agitation by type of music')"
      ]
     },
     "execution_count": 9,
     "metadata": {},
     "output_type": "execute_result"
    },
    {
     "data": {
      "image/png": "[encoded data removed]",
      "text/plain": [
       "<Figure size 632.925x432 with 1 Axes>"
      ]
     },
     "metadata": {},
     "output_type": "display_data"
    }
   ],
   "source": [
    "import matplotlib.pyplot as plt\n",
    "import seaborn as sns\n",
    "\n",
    "kot = [\"#c0c7ce\", \"#e40c2b\"]\n",
    "\n",
    "sns.set(font_scale=1.5)\n",
    "sns.factorplot('variable','value',hue='Group',data=df_melt , palette=kot, height=6, aspect=1.2)\n",
    "plt.title('Agitation by type of music', fontsize=20)"
   ]
  },
  {
   "cell_type": "markdown",
   "metadata": {},
   "source": [
    "#### Odrzucamy hipotezę H0a: Istnieją znaczące różnice pomiędzy płcią (F = 16,36, p=0,0004700077, p <0,01)\n",
    "\n",
    "#### Odrzucamy hipotezę H0b: Istnieją znaczące różnice pomiędzy grupami wiekowymi (F = 49,09, p=0,000000003299559, p <0,01)\n",
    "\n",
    "#### Zachowujemy hipotezę H0c: Brak efektu interakcji (F = 0,00, p=1 nieistotny).\n",
    "\n",
    "Z danych wynika, że starsi dorośli mają najwyższy poziom zadowolenia z życia, a młodsi dorośli mają najniższy poziom zadowolenia z życia. Kobiety mają także znacznie wyższą satysfakcję z życia niż mężczyźni."
   ]
  },
  {
   "cell_type": "markdown",
   "metadata": {},
   "source": [
    "### Dzielimy grupę na mężczyzn i kobiety i oddzielnie testujemy Tukey HSD"
   ]
  },
  {
   "cell_type": "code",
   "execution_count": 10,
   "metadata": {},
   "outputs": [],
   "source": [
    "Male = df_melt[df_melt['Group']=='Male']\n",
    "Female = df_melt[df_melt['Group']=='Female']"
   ]
  },
  {
   "cell_type": "markdown",
   "metadata": {},
   "source": [
    "# Tukey HSD Test dla mężczyzn "
   ]
  },
  {
   "cell_type": "code",
   "execution_count": 11,
   "metadata": {},
   "outputs": [
    {
     "name": "stdout",
     "output_type": "stream",
     "text": [
      "   Multiple Comparison of Means - Tukey HSD,FWER=0.05   \n",
      "========================================================\n",
      "   group1       group2   meandiff  lower   upper  reject\n",
      "--------------------------------------------------------\n",
      "Middle Adult Older Adult   3.0     0.9345  5.0655  True \n",
      "Middle Adult Young Adult   -3.0   -5.0655 -0.9345  True \n",
      "Older Adult  Young Adult   -6.0   -8.0655 -3.9345  True \n",
      "--------------------------------------------------------\n"
     ]
    }
   ],
   "source": [
    "import scipy.stats as stats\n",
    "from statsmodels.stats.multicomp import (pairwise_tukeyhsd,MultiComparison)\n",
    "\n",
    "# Tworzę specjalną wartość\n",
    "KOT = MultiComparison(Male['value'],Male['variable'])\n",
    "AA = KOT.tukeyhsd()\n",
    "print(AA.summary())"
   ]
  },
  {
   "cell_type": "code",
   "execution_count": 12,
   "metadata": {},
   "outputs": [
    {
     "data": {
      "text/plain": [
       "<matplotlib.collections.LineCollection at 0x22ff2f43278>"
      ]
     },
     "execution_count": 12,
     "metadata": {},
     "output_type": "execute_result"
    },
    {
     "data": {
      "image/png": "[encoded data removed]",
      "text/plain": [
       "<Figure size 720x432 with 1 Axes>"
      ]
     },
     "metadata": {},
     "output_type": "display_data"
    }
   ],
   "source": [
    "AA.plot_simultaneous()    \n",
    "plt.vlines(x=160,ymin=-0.5,ymax=3.5, color=\"red\")"
   ]
  },
  {
   "cell_type": "markdown",
   "metadata": {},
   "source": [
    "Istnieją duże różnice w zadowoleniu z życia pomiędzy grupami mężczyzn: 'Young Adult', 'Middle Adult', 'Older Adult'.\n",
    "\n",
    "### Test Bonferroniego\n",
    "Jest to test substytucyjny do testu tukey HDS."
   ]
  },
  {
   "cell_type": "code",
   "execution_count": 13,
   "metadata": {},
   "outputs": [
    {
     "name": "stdout",
     "output_type": "stream",
     "text": [
      "Test Multiple Comparison ttest_rel \n",
      "FWER=0.05 method=Holm\n",
      "alphacSidak=0.02, alphacBonf=0.017\n",
      "========================================================\n",
      "   group1       group2     stat   pval  pval_corr reject\n",
      "--------------------------------------------------------\n",
      "Middle Adult Older Adult -5.4772 0.0054   0.0108   True \n",
      "Middle Adult Young Adult  5.4772 0.0054   0.0108   True \n",
      "Older Adult  Young Adult  7.1714 0.002    0.006    True \n",
      "--------------------------------------------------------\n"
     ]
    }
   ],
   "source": [
    "import scipy.stats as stats\n",
    "from statsmodels.stats.multicomp import (pairwise_tukeyhsd,MultiComparison)\n",
    "\n",
    "# Tworzę specjalną wartość\n",
    "KOT = MultiComparison(Male['value'],Male['variable'])\n",
    "comp = KOT.allpairtest(stats.ttest_rel, method='Holm')\n",
    "print (comp[0])"
   ]
  },
  {
   "cell_type": "markdown",
   "metadata": {},
   "source": [
    "# Tukey HSD Test dla kobiet"
   ]
  },
  {
   "cell_type": "code",
   "execution_count": 14,
   "metadata": {},
   "outputs": [
    {
     "name": "stdout",
     "output_type": "stream",
     "text": [
      "   Multiple Comparison of Means - Tukey HSD,FWER=0.05   \n",
      "========================================================\n",
      "   group1       group2   meandiff  lower   upper  reject\n",
      "--------------------------------------------------------\n",
      "Middle Adult Older Adult   3.0     0.9345  5.0655  True \n",
      "Middle Adult Young Adult   -3.0   -5.0655 -0.9345  True \n",
      "Older Adult  Young Adult   -6.0   -8.0655 -3.9345  True \n",
      "--------------------------------------------------------\n"
     ]
    }
   ],
   "source": [
    "import scipy.stats as stats\n",
    "from statsmodels.stats.multicomp import (pairwise_tukeyhsd,MultiComparison)\n",
    "\n",
    "# Tworzę specjalną wartość\n",
    "KOT = MultiComparison(Female['value'],Female['variable'])\n",
    "FF = KOT.tukeyhsd()\n",
    "print(AA.summary())"
   ]
  },
  {
   "cell_type": "code",
   "execution_count": 15,
   "metadata": {},
   "outputs": [
    {
     "data": {
      "text/plain": [
       "<matplotlib.collections.LineCollection at 0x22ff2f9b438>"
      ]
     },
     "execution_count": 15,
     "metadata": {},
     "output_type": "execute_result"
    },
    {
     "data": {
      "image/png": "[encoded data removed]",
      "text/plain": [
       "<Figure size 720x432 with 1 Axes>"
      ]
     },
     "metadata": {},
     "output_type": "display_data"
    }
   ],
   "source": [
    "FF.plot_simultaneous()    \n",
    "plt.vlines(x=160,ymin=-0.5,ymax=3.5, color=\"red\")"
   ]
  },
  {
   "cell_type": "markdown",
   "metadata": {},
   "source": [
    "Zarówno wśród kobiet jak i wśród mężczyzn istnieje wysoki poziom różnic pomiędzy grupami wiekowymi."
   ]
  }
 ],
 "metadata": {
  "kernelspec": {
   "display_name": "Python 3",
   "language": "python",
   "name": "python3"
  },
  "language_info": {
   "codemirror_mode": {
    "name": "ipython",
    "version": 3
   },
   "file_extension": ".py",
   "mimetype": "text/x-python",
   "name": "python",
   "nbconvert_exporter": "python",
   "pygments_lexer": "ipython3",
   "version": "3.6.8"
  }
 },
 "nbformat": 4,
 "nbformat_minor": 2
}
