{
 "cells": [
  {
   "cell_type": "markdown",
   "metadata": {},
   "source": [
    "# Graficzny przykład ANOVA two-way - interaction_plot\n",
    "Source of data: http://faculty.webster.edu/woolflm/8canswer.html\n",
    "\n",
    "### Model ANOVA two-way (two-factor)\n",
    "W tej analizie robimy porównie dwóch czyników w tych samych populacjach. \n",
    "\n",
    "Analiza ANOVA jest dla H01 i H02 dwiema ANOVA jednoczynnikowymi jednak przy H03 jest już połączeniem tych dwóch ANOVA one-way czyli ANOVA two-way.\n",
    "\n",
    "Przeprowadzono badania, których celem było określenie poziomu *radości życia*. Postawiono następujące hipotezy zerowe:\n",
    "- h0a - średnia *radość życia* jest taka sama dla kobiet i mężczyzn\n",
    "- H0b - średnia *radość życia* jest taka sama wśród trzech grup: 'Young Adult', 'Middle Adult', 'Older Adult'. \n",
    "- H0c - nie istnieje interakcji pomiędzy grupami: 'Young Adult', 'Middle Adult', 'Older Adult' a płcią badanych osób mającej wpływ na poziom *radość życia*.\n",
    "\n",
    "Kodujemy bazwy grup:\n",
    " - 'Young Adult' :1\n",
    " - 'Middle Adult':2\n",
    " - 'Older Adult' :3"
   ]
  },
  {
   "cell_type": "code",
   "execution_count": 5,
   "metadata": {},
   "outputs": [
    {
     "data": {
      "text/html": [
       "<div>\n",
       "<style scoped>\n",
       "    .dataframe tbody tr th:only-of-type {\n",
       "        vertical-align: middle;\n",
       "    }\n",
       "\n",
       "    .dataframe tbody tr th {\n",
       "        vertical-align: top;\n",
       "    }\n",
       "\n",
       "    .dataframe thead th {\n",
       "        text-align: right;\n",
       "    }\n",
       "</style>\n",
       "<table border=\"1\" class=\"dataframe\">\n",
       "  <thead>\n",
       "    <tr style=\"text-align: right;\">\n",
       "      <th></th>\n",
       "      <th>Group</th>\n",
       "      <th>1</th>\n",
       "      <th>2</th>\n",
       "      <th>3</th>\n",
       "    </tr>\n",
       "  </thead>\n",
       "  <tbody>\n",
       "    <tr>\n",
       "      <th>0</th>\n",
       "      <td>Male</td>\n",
       "      <td>4</td>\n",
       "      <td>7</td>\n",
       "      <td>10</td>\n",
       "    </tr>\n",
       "    <tr>\n",
       "      <th>1</th>\n",
       "      <td>Male</td>\n",
       "      <td>2</td>\n",
       "      <td>5</td>\n",
       "      <td>7</td>\n",
       "    </tr>\n",
       "    <tr>\n",
       "      <th>2</th>\n",
       "      <td>Male</td>\n",
       "      <td>3</td>\n",
       "      <td>7</td>\n",
       "      <td>9</td>\n",
       "    </tr>\n",
       "    <tr>\n",
       "      <th>3</th>\n",
       "      <td>Male</td>\n",
       "      <td>4</td>\n",
       "      <td>5</td>\n",
       "      <td>8</td>\n",
       "    </tr>\n",
       "    <tr>\n",
       "      <th>4</th>\n",
       "      <td>Male</td>\n",
       "      <td>2</td>\n",
       "      <td>6</td>\n",
       "      <td>11</td>\n",
       "    </tr>\n",
       "    <tr>\n",
       "      <th>5</th>\n",
       "      <td>Female</td>\n",
       "      <td>7</td>\n",
       "      <td>8</td>\n",
       "      <td>10</td>\n",
       "    </tr>\n",
       "    <tr>\n",
       "      <th>6</th>\n",
       "      <td>Female</td>\n",
       "      <td>4</td>\n",
       "      <td>10</td>\n",
       "      <td>9</td>\n",
       "    </tr>\n",
       "    <tr>\n",
       "      <th>7</th>\n",
       "      <td>Female</td>\n",
       "      <td>3</td>\n",
       "      <td>7</td>\n",
       "      <td>12</td>\n",
       "    </tr>\n",
       "    <tr>\n",
       "      <th>8</th>\n",
       "      <td>Female</td>\n",
       "      <td>6</td>\n",
       "      <td>7</td>\n",
       "      <td>11</td>\n",
       "    </tr>\n",
       "    <tr>\n",
       "      <th>9</th>\n",
       "      <td>Female</td>\n",
       "      <td>5</td>\n",
       "      <td>8</td>\n",
       "      <td>13</td>\n",
       "    </tr>\n",
       "  </tbody>\n",
       "</table>\n",
       "</div>"
      ],
      "text/plain": [
       "    Group  1   2   3\n",
       "0    Male  4   7  10\n",
       "1    Male  2   5   7\n",
       "2    Male  3   7   9\n",
       "3    Male  4   5   8\n",
       "4    Male  2   6  11\n",
       "5  Female  7   8  10\n",
       "6  Female  4  10   9\n",
       "7  Female  3   7  12\n",
       "8  Female  6   7  11\n",
       "9  Female  5   8  13"
      ]
     },
     "execution_count": 5,
     "metadata": {},
     "output_type": "execute_result"
    }
   ],
   "source": [
    "import pandas as pd\n",
    "\n",
    "cc =['Male', 'Male', 'Male', 'Male','Male','Female','Female','Female','Female','Female']\n",
    "aaa\t = [4,2,3,4,2,7,4,3,6,5]\n",
    "bbb = [7,5,7,5,6,8,10,7,7,8]\n",
    "ccc = [10,7,9,8,11,10,9,12,11,13]\n",
    "df = pd.DataFrame({'Group': cc, 1:aaa, 2:bbb, 3:ccc })\n",
    "df"
   ]
  },
  {
   "cell_type": "markdown",
   "metadata": {},
   "source": [
    "Badaliśy już ten zbiór danych pod kontem możliwości wykorzystania go w analizie ANOVA.\n",
    "- Próby zostały pobrane niezależnie od siebie z każdej z r populacji\n",
    "- W każdej z r badanych populacji rozkłąd jest normalny o tej samej wariancji. Średnie w r populacjach mogą być równę, lecz nie muszą*\n",
    "\n",
    "Analiza ANOVA tej próby jest opisana w linku poniżej:\n",
    "http://sigmaquality.pl/python/praktyczny-przyklad-wykorzystania-anova-two-way-w-pythonie-pl080120201039/\n",
    "\n",
    "Przekształacamy dataframe do postaci zgodniej ze statmodels."
   ]
  },
  {
   "cell_type": "code",
   "execution_count": 12,
   "metadata": {},
   "outputs": [
    {
     "data": {
      "text/html": [
       "<div>\n",
       "<style scoped>\n",
       "    .dataframe tbody tr th:only-of-type {\n",
       "        vertical-align: middle;\n",
       "    }\n",
       "\n",
       "    .dataframe tbody tr th {\n",
       "        vertical-align: top;\n",
       "    }\n",
       "\n",
       "    .dataframe thead th {\n",
       "        text-align: right;\n",
       "    }\n",
       "</style>\n",
       "<table border=\"1\" class=\"dataframe\">\n",
       "  <thead>\n",
       "    <tr style=\"text-align: right;\">\n",
       "      <th></th>\n",
       "      <th>Sex</th>\n",
       "      <th>Age</th>\n",
       "      <th>value</th>\n",
       "    </tr>\n",
       "  </thead>\n",
       "  <tbody>\n",
       "    <tr>\n",
       "      <th>9</th>\n",
       "      <td>Female</td>\n",
       "      <td>1</td>\n",
       "      <td>5</td>\n",
       "    </tr>\n",
       "    <tr>\n",
       "      <th>3</th>\n",
       "      <td>Male</td>\n",
       "      <td>1</td>\n",
       "      <td>4</td>\n",
       "    </tr>\n",
       "    <tr>\n",
       "      <th>0</th>\n",
       "      <td>Male</td>\n",
       "      <td>1</td>\n",
       "      <td>4</td>\n",
       "    </tr>\n",
       "    <tr>\n",
       "      <th>20</th>\n",
       "      <td>Male</td>\n",
       "      <td>3</td>\n",
       "      <td>10</td>\n",
       "    </tr>\n",
       "    <tr>\n",
       "      <th>28</th>\n",
       "      <td>Female</td>\n",
       "      <td>3</td>\n",
       "      <td>11</td>\n",
       "    </tr>\n",
       "  </tbody>\n",
       "</table>\n",
       "</div>"
      ],
      "text/plain": [
       "       Sex Age  value\n",
       "9   Female   1      5\n",
       "3     Male   1      4\n",
       "0     Male   1      4\n",
       "20    Male   3     10\n",
       "28  Female   3     11"
      ]
     },
     "execution_count": 12,
     "metadata": {},
     "output_type": "execute_result"
    }
   ],
   "source": [
    "df_melt = pd.melt(df.reset_index(),  id_vars=['Group'], value_vars=[1, 2, 3])\n",
    "df_melt.columns = ['Sex','Age','value']\n",
    "df_melt.sample(5)"
   ]
  },
  {
   "cell_type": "code",
   "execution_count": 34,
   "metadata": {},
   "outputs": [
    {
     "data": {
      "text/plain": [
       "Sex      object\n",
       "Age       int64\n",
       "value     int64\n",
       "dtype: object"
      ]
     },
     "execution_count": 34,
     "metadata": {},
     "output_type": "execute_result"
    }
   ],
   "source": [
    "df_melt['Age'] = df_melt['Age'].astype('int64')\n",
    "df_melt.dtypes"
   ]
  },
  {
   "cell_type": "markdown",
   "metadata": {},
   "source": [
    "Teraz tworzymy dwa modele regresji wielorakiej OLS."
   ]
  },
  {
   "cell_type": "code",
   "execution_count": 49,
   "metadata": {},
   "outputs": [],
   "source": [
    "from statsmodels.formula.api import ols\n",
    "from statsmodels.stats.anova import anova_lm\n",
    "\n",
    "Reg1 = ols(formula = \"value ~ Age + Sex\", data = df_melt)\n",
    "Fit1 = Reg1.fit()\n",
    "\n",
    "Reg2 = ols(formula = \"value ~ Age*Sex\", data = df_melt)\n",
    "Fit2 = Reg2.fit()"
   ]
  },
  {
   "cell_type": "code",
   "execution_count": 50,
   "metadata": {},
   "outputs": [
    {
     "name": "stdout",
     "output_type": "stream",
     "text": [
      "int64\n",
      "int64\n",
      "object\n"
     ]
    }
   ],
   "source": [
    "print(df_melt['value'].dtype)\n",
    "print(df_melt['Age'].dtype)\n",
    "print(df_melt['Sex'].dtype)"
   ]
  },
  {
   "cell_type": "code",
   "execution_count": 63,
   "metadata": {},
   "outputs": [
    {
     "data": {
      "image/png": "[encoded data removed]",
      "text/plain": [
       "<Figure size 432x288 with 1 Axes>"
      ]
     },
     "metadata": {
      "needs_background": "light"
     },
     "output_type": "display_data"
    },
    {
     "data": {
      "image/png": "[encoded data removed]",
      "text/plain": [
       "<Figure size 432x288 with 1 Axes>"
      ]
     },
     "metadata": {
      "needs_background": "light"
     },
     "output_type": "display_data"
    },
    {
     "data": {
      "image/png": "[encoded data removed]",
      "text/plain": [
       "<Figure size 432x288 with 1 Axes>"
      ]
     },
     "metadata": {
      "needs_background": "light"
     },
     "output_type": "display_data"
    }
   ],
   "source": [
    "from statsmodels.graphics.factorplots import interaction_plot\n",
    "\n",
    "\n",
    "fig = interaction_plot(df_melt['Age'], df_melt['Sex'],df_melt['value'],\n",
    "             colors=['black','darkgreen'], markers=['D','x'], linestyles=[\"-\", \"--\"], ylabel='radość życia', xlabel='Grupa wiekowa')\n",
    "fig = interaction_plot(df_melt['Age'],df_melt['Sex'], Fit1.fittedvalues,\n",
    "            colors=['black','darkgreen'], markers=['D','x'],linestyles=[\"-\", \"--\"], ylabel='radość życia - OLS', xlabel='Grupa wiekowa')\n",
    "fig = interaction_plot(df_melt['Age'],df_melt['Sex'], Fit2.fittedvalues,\n",
    "             colors=['black','darkgreen'], markers=['D','x'], linestyles=[\"-\", \"--\"], ylabel='radość życia - OLS interakcja', xlabel='Grupa wiekowa')\n",
    "\n",
    "import matplotlib.pyplot as plt\n",
    "plt.show()"
   ]
  },
  {
   "cell_type": "markdown",
   "metadata": {},
   "source": [
    "### Interpretacja wykresu interakcji\n",
    "\n",
    "Wykres interakcji pokazuje w jaki sposób związek między jednym czynnikiem kategorycznym (płeć) a ciągłą reakcją zależy od wartości drugiego czynnika kategorycznego (grupa wiekowa). Ten wykres wyświetla średnie dla poziomów jednego czynnika na osi y oraz osobną linię dla każdego czynnika.\n",
    "\n",
    "- Równoległe linie oznaczają brak interakcji.\n",
    "- Linie nierównoległe - występuje interakcja. \n",
    "\n",
    "Im bardziej nierównoległe są linie, tym większa jest siła interakcji.\n",
    "Chociaż można użyć tego wykresu do wyświetlenia efektów, należy wykonać odpowiedni test ANOVA i ocenić istotność statystyczną efektów. Jeśli efekty interakcji są znaczące, nie można interpretować głównych efektów bez uwzględnienia efektów interakcji."
   ]
  }
 ],
 "metadata": {
  "kernelspec": {
   "display_name": "Python 3",
   "language": "python",
   "name": "python3"
  },
  "language_info": {
   "codemirror_mode": {
    "name": "ipython",
    "version": 3
   },
   "file_extension": ".py",
   "mimetype": "text/x-python",
   "name": "python",
   "nbconvert_exporter": "python",
   "pygments_lexer": "ipython3",
   "version": "3.6.8"
  }
 },
 "nbformat": 4,
 "nbformat_minor": 2
}
