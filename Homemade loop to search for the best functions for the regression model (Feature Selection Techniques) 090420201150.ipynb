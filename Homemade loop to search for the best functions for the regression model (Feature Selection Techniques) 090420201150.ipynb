{
 "cells": [
  {
   "cell_type": "markdown",
   "metadata": {},
   "source": [
    "# Homemade loop to search for the best functions for the regression model (Feature Selection Techniques)"
   ]
  },
  {
   "cell_type": "code",
   "execution_count": 1,
   "metadata": {},
   "outputs": [
    {
     "data": {
      "text/html": [
       "<div>\n",
       "<style scoped>\n",
       "    .dataframe tbody tr th:only-of-type {\n",
       "        vertical-align: middle;\n",
       "    }\n",
       "\n",
       "    .dataframe tbody tr th {\n",
       "        vertical-align: top;\n",
       "    }\n",
       "\n",
       "    .dataframe thead th {\n",
       "        text-align: right;\n",
       "    }\n",
       "</style>\n",
       "<table border=\"1\" class=\"dataframe\">\n",
       "  <thead>\n",
       "    <tr style=\"text-align: right;\">\n",
       "      <th></th>\n",
       "      <th>Unnamed: 0</th>\n",
       "      <th>PassengerId</th>\n",
       "      <th>Survived</th>\n",
       "      <th>Pclass</th>\n",
       "      <th>Name</th>\n",
       "      <th>Sex</th>\n",
       "      <th>Age</th>\n",
       "      <th>SibSp</th>\n",
       "      <th>Parch</th>\n",
       "      <th>Ticket</th>\n",
       "      <th>Fare</th>\n",
       "      <th>Cabin</th>\n",
       "      <th>Embarked</th>\n",
       "    </tr>\n",
       "  </thead>\n",
       "  <tbody>\n",
       "    <tr>\n",
       "      <td>0</td>\n",
       "      <td>0</td>\n",
       "      <td>1</td>\n",
       "      <td>0</td>\n",
       "      <td>3</td>\n",
       "      <td>Braund, Mr. Owen Harris</td>\n",
       "      <td>male</td>\n",
       "      <td>22.0</td>\n",
       "      <td>1</td>\n",
       "      <td>0</td>\n",
       "      <td>A/5 21171</td>\n",
       "      <td>7.2500</td>\n",
       "      <td>NaN</td>\n",
       "      <td>S</td>\n",
       "    </tr>\n",
       "    <tr>\n",
       "      <td>1</td>\n",
       "      <td>1</td>\n",
       "      <td>2</td>\n",
       "      <td>1</td>\n",
       "      <td>1</td>\n",
       "      <td>Cumings, Mrs. John Bradley (Florence Briggs Th...</td>\n",
       "      <td>female</td>\n",
       "      <td>38.0</td>\n",
       "      <td>1</td>\n",
       "      <td>0</td>\n",
       "      <td>PC 17599</td>\n",
       "      <td>71.2833</td>\n",
       "      <td>C85</td>\n",
       "      <td>C</td>\n",
       "    </tr>\n",
       "  </tbody>\n",
       "</table>\n",
       "</div>"
      ],
      "text/plain": [
       "   Unnamed: 0  PassengerId  Survived  Pclass  \\\n",
       "0           0            1         0       3   \n",
       "1           1            2         1       1   \n",
       "\n",
       "                                                Name     Sex   Age  SibSp  \\\n",
       "0                            Braund, Mr. Owen Harris    male  22.0      1   \n",
       "1  Cumings, Mrs. John Bradley (Florence Briggs Th...  female  38.0      1   \n",
       "\n",
       "   Parch     Ticket     Fare Cabin Embarked  \n",
       "0      0  A/5 21171   7.2500   NaN        S  \n",
       "1      0   PC 17599  71.2833   C85        C  "
      ]
     },
     "execution_count": 1,
     "metadata": {},
     "output_type": "execute_result"
    }
   ],
   "source": [
    "import pandas as pd\n",
    "\n",
    "df = pd.read_csv('/home/wojciech/Pulpit/1/tit_train.csv', na_values=\"-1\")\n",
    "df.head(2)"
   ]
  },
  {
   "cell_type": "markdown",
   "metadata": {},
   "source": [
    "## I started with a loop connecting two functions in pairs"
   ]
  },
  {
   "cell_type": "code",
   "execution_count": 2,
   "metadata": {},
   "outputs": [
    {
     "data": {
      "text/plain": [
       "13"
      ]
     },
     "execution_count": 2,
     "metadata": {},
     "output_type": "execute_result"
    }
   ],
   "source": [
    "## ile jest zmiennych\n",
    "a,b = df.shape     #<- ile mamy kolumn\n",
    "b"
   ]
  },
  {
   "cell_type": "code",
   "execution_count": 3,
   "metadata": {},
   "outputs": [
    {
     "name": "stdout",
     "output_type": "stream",
     "text": [
      "PassengerId PassengerId\n",
      "PassengerId Survived\n",
      "PassengerId Pclass\n",
      "PassengerId Name\n",
      "PassengerId Sex\n",
      "PassengerId Age\n",
      "PassengerId SibSp\n",
      "PassengerId Parch\n",
      "PassengerId Ticket\n",
      "PassengerId Fare\n",
      "PassengerId Cabin\n",
      "PassengerId Embarked\n",
      "Survived PassengerId\n",
      "Survived Survived\n",
      "Survived Pclass\n",
      "Survived Name\n",
      "Survived Sex\n",
      "Survived Age\n",
      "Survived SibSp\n",
      "Survived Parch\n",
      "Survived Ticket\n",
      "Survived Fare\n",
      "Survived Cabin\n",
      "Survived Embarked\n",
      "Pclass PassengerId\n",
      "Pclass Survived\n",
      "Pclass Pclass\n",
      "Pclass Name\n",
      "Pclass Sex\n",
      "Pclass Age\n",
      "Pclass SibSp\n",
      "Pclass Parch\n",
      "Pclass Ticket\n",
      "Pclass Fare\n",
      "Pclass Cabin\n",
      "Pclass Embarked\n",
      "Name PassengerId\n",
      "Name Survived\n",
      "Name Pclass\n",
      "Name Name\n",
      "Name Sex\n",
      "Name Age\n",
      "Name SibSp\n",
      "Name Parch\n",
      "Name Ticket\n",
      "Name Fare\n",
      "Name Cabin\n",
      "Name Embarked\n",
      "Sex PassengerId\n",
      "Sex Survived\n",
      "Sex Pclass\n",
      "Sex Name\n",
      "Sex Sex\n",
      "Sex Age\n",
      "Sex SibSp\n",
      "Sex Parch\n",
      "Sex Ticket\n",
      "Sex Fare\n",
      "Sex Cabin\n",
      "Sex Embarked\n",
      "Age PassengerId\n",
      "Age Survived\n",
      "Age Pclass\n",
      "Age Name\n",
      "Age Sex\n",
      "Age Age\n",
      "Age SibSp\n",
      "Age Parch\n",
      "Age Ticket\n",
      "Age Fare\n",
      "Age Cabin\n",
      "Age Embarked\n",
      "SibSp PassengerId\n",
      "SibSp Survived\n",
      "SibSp Pclass\n",
      "SibSp Name\n",
      "SibSp Sex\n",
      "SibSp Age\n",
      "SibSp SibSp\n",
      "SibSp Parch\n",
      "SibSp Ticket\n",
      "SibSp Fare\n",
      "SibSp Cabin\n",
      "SibSp Embarked\n",
      "Parch PassengerId\n",
      "Parch Survived\n",
      "Parch Pclass\n",
      "Parch Name\n",
      "Parch Sex\n",
      "Parch Age\n",
      "Parch SibSp\n",
      "Parch Parch\n",
      "Parch Ticket\n",
      "Parch Fare\n",
      "Parch Cabin\n",
      "Parch Embarked\n",
      "Ticket PassengerId\n",
      "Ticket Survived\n",
      "Ticket Pclass\n",
      "Ticket Name\n",
      "Ticket Sex\n",
      "Ticket Age\n",
      "Ticket SibSp\n",
      "Ticket Parch\n",
      "Ticket Ticket\n",
      "Ticket Fare\n",
      "Ticket Cabin\n",
      "Ticket Embarked\n",
      "Fare PassengerId\n",
      "Fare Survived\n",
      "Fare Pclass\n",
      "Fare Name\n",
      "Fare Sex\n",
      "Fare Age\n",
      "Fare SibSp\n",
      "Fare Parch\n",
      "Fare Ticket\n",
      "Fare Fare\n",
      "Fare Cabin\n",
      "Fare Embarked\n",
      "Cabin PassengerId\n",
      "Cabin Survived\n",
      "Cabin Pclass\n",
      "Cabin Name\n",
      "Cabin Sex\n",
      "Cabin Age\n",
      "Cabin SibSp\n",
      "Cabin Parch\n",
      "Cabin Ticket\n",
      "Cabin Fare\n",
      "Cabin Cabin\n",
      "Cabin Embarked\n",
      "Embarked PassengerId\n",
      "Embarked Survived\n",
      "Embarked Pclass\n",
      "Embarked Name\n",
      "Embarked Sex\n",
      "Embarked Age\n",
      "Embarked SibSp\n",
      "Embarked Parch\n",
      "Embarked Ticket\n",
      "Embarked Fare\n",
      "Embarked Cabin\n",
      "Embarked Embarked\n"
     ]
    }
   ],
   "source": [
    "for i in range(1,b):\n",
    "    i = df.columns[i]\n",
    "    for f in range (1,b):\n",
    "        f = df.columns[f]\n",
    "        print(i,f)\n",
    "       "
   ]
  },
  {
   "cell_type": "markdown",
   "metadata": {},
   "source": [
    "## Using loops in place of gaps I insert values out of range"
   ]
  },
  {
   "cell_type": "code",
   "execution_count": 4,
   "metadata": {},
   "outputs": [
    {
     "name": "stdout",
     "output_type": "stream",
     "text": [
      "NUMBER OF EMPTY RECORDS vs. FULL RECORDS\n",
      "----------------------------------------\n",
      "Age -------- 177 -------- 714\n",
      "Cabin -------- 687 -------- 204\n",
      "Embarked -------- 2 -------- 889\n"
     ]
    }
   ],
   "source": [
    "print('NUMBER OF EMPTY RECORDS vs. FULL RECORDS')\n",
    "print('----------------------------------------')\n",
    "for i in range(1,b):\n",
    "    i = df.columns[i]\n",
    "    r = df[i].isnull().sum()\n",
    "    h = df[i].count()\n",
    "   \n",
    "    if r > 0:\n",
    "        print(i,\"--------\",r,\"--------\",h) "
   ]
  },
  {
   "cell_type": "code",
   "execution_count": 5,
   "metadata": {},
   "outputs": [],
   "source": [
    "df.fillna(-777, inplace=True)"
   ]
  },
  {
   "cell_type": "code",
   "execution_count": 6,
   "metadata": {},
   "outputs": [
    {
     "data": {
      "text/plain": [
       "Unnamed: 0     0\n",
       "PassengerId    0\n",
       "Survived       0\n",
       "Pclass         0\n",
       "Name           0\n",
       "Sex            0\n",
       "Age            0\n",
       "SibSp          0\n",
       "Parch          0\n",
       "Ticket         0\n",
       "Fare           0\n",
       "Cabin          0\n",
       "Embarked       0\n",
       "dtype: int64"
      ]
     },
     "execution_count": 6,
     "metadata": {},
     "output_type": "execute_result"
    }
   ],
   "source": [
    "df = df.dropna(how='any')\n",
    "df.isnull().sum()"
   ]
  },
  {
   "cell_type": "code",
   "execution_count": 7,
   "metadata": {},
   "outputs": [
    {
     "data": {
      "text/plain": [
       "(891, 13)"
      ]
     },
     "execution_count": 7,
     "metadata": {},
     "output_type": "execute_result"
    }
   ],
   "source": [
    "df.shape"
   ]
  },
  {
   "cell_type": "markdown",
   "metadata": {},
   "source": [
    "### Encodes discrete (categorical) variables"
   ]
  },
  {
   "cell_type": "code",
   "execution_count": 8,
   "metadata": {},
   "outputs": [
    {
     "name": "stdout",
     "output_type": "stream",
     "text": [
      "DISCRETE FUNCTIONS CODED\n",
      "------------------------\n",
      "Name --- object\n",
      "Sex --- object\n",
      "Ticket --- object\n",
      "Cabin --- object\n",
      "Embarked --- object\n"
     ]
    }
   ],
   "source": [
    "import numpy as np\n",
    "\n",
    "a,b = df.shape     #<- ile mamy kolumn\n",
    "b\n",
    "\n",
    "\n",
    "print('DISCRETE FUNCTIONS CODED')\n",
    "print('------------------------')\n",
    "for i in range(1,b):\n",
    "    i = df.columns[i]\n",
    "    f = df[i].dtypes\n",
    "    if f == np.object:\n",
    "        print(i,\"---\",f)   \n",
    "    \n",
    "        if f == np.object:\n",
    "        \n",
    "            df[i] = pd.Categorical(df[i]).codes\n",
    "        \n",
    "            continue\n",
    "    "
   ]
  },
  {
   "cell_type": "markdown",
   "metadata": {},
   "source": [
    "## <span style=\"color:blue\">I run the LinearRegression () model"
   ]
  },
  {
   "cell_type": "code",
   "execution_count": 9,
   "metadata": {},
   "outputs": [],
   "source": [
    "y = df['Survived']\n",
    "X = df.drop('Survived', axis=1)"
   ]
  },
  {
   "cell_type": "code",
   "execution_count": 10,
   "metadata": {},
   "outputs": [],
   "source": [
    "from sklearn.linear_model import LinearRegression\n",
    "\n",
    "regr = LinearRegression() \n",
    " "
   ]
  },
  {
   "cell_type": "markdown",
   "metadata": {},
   "source": [
    "### I create loops for two variables based on LinearRegression ()"
   ]
  },
  {
   "cell_type": "code",
   "execution_count": 11,
   "metadata": {},
   "outputs": [
    {
     "name": "stdout",
     "output_type": "stream",
     "text": [
      "b:  13\n",
      "a : [1, 2, 3, 4, 5, 6, 7, 8, 9, 10, 11, 12]\n"
     ]
    }
   ],
   "source": [
    "\n",
    "c,b = df.shape     #<- ile mamy kolumn\n",
    "print('b: ',b)\n",
    "\n",
    "a = list(range(1,b))\n",
    "print('a :', a)"
   ]
  },
  {
   "cell_type": "code",
   "execution_count": 12,
   "metadata": {},
   "outputs": [
    {
     "name": "stdout",
     "output_type": "stream",
     "text": [
      " RR2: 0.754 Index(['Pclass', 'Sex'], dtype='object')\n",
      " RR2: 0.754 Index(['Sex', 'Pclass'], dtype='object')\n",
      " RR2: 0.722 Index(['Sex', 'Fare'], dtype='object')\n",
      " RR2: 0.733 Index(['Sex', 'Cabin'], dtype='object')\n",
      " RR2: 0.722 Index(['Fare', 'Sex'], dtype='object')\n",
      " RR2: 0.733 Index(['Cabin', 'Sex'], dtype='object')\n"
     ]
    }
   ],
   "source": [
    "from sklearn import metrics\n",
    "b= b-2\n",
    "\n",
    "\n",
    "for i in range(1,b):\n",
    "    i = a[i]\n",
    "    for f in range (1,b):\n",
    "        f = a[f]\n",
    "        \n",
    "        y = df['Survived']       \n",
    "        X = df.drop('Survived', axis=1)\n",
    "        \n",
    "        #a = X.columns[i]\n",
    "        \n",
    "        #b = X.columns[f]\n",
    "        \n",
    "        col = X.columns[[i,f]]   #<-- nazwy kolumn\n",
    "        X = X[col]               #<-- FAKTYCZNE warianty zbioru X\n",
    "        regr.fit(X, y)\n",
    "        y_pred = regr.predict(X)\n",
    "        R = regr.score(X, y)\n",
    "        R2 = np.sqrt(metrics.mean_squared_error(y, y_pred))\n",
    "        RR2 = R2+R\n",
    "        if RR2 > 0.72:\n",
    "        # print(' R2: %.3f' %R2, ' regr.score:%.3f' %regr.score(X, y), col)\n",
    "            print(' RR2: %.3f' %RR2, col)\n",
    "        "
   ]
  },
  {
   "cell_type": "markdown",
   "metadata": {},
   "source": [
    "### I create loops for three variables based on LinearRegression ()"
   ]
  },
  {
   "cell_type": "code",
   "execution_count": 13,
   "metadata": {},
   "outputs": [
    {
     "name": "stdout",
     "output_type": "stream",
     "text": [
      " RR2: 0.758 Index(['Pclass', 'Sex', 'SibSp'], dtype='object')\n",
      " RR2: 0.758 Index(['Pclass', 'Sex', 'Cabin'], dtype='object')\n",
      " RR2: 0.758 Index(['Pclass', 'Sex', 'Embarked'], dtype='object')\n",
      " RR2: 0.758 Index(['Pclass', 'SibSp', 'Sex'], dtype='object')\n",
      " RR2: 0.758 Index(['Pclass', 'Cabin', 'Sex'], dtype='object')\n",
      " RR2: 0.758 Index(['Pclass', 'Embarked', 'Sex'], dtype='object')\n",
      " RR2: 0.758 Index(['Sex', 'Pclass', 'SibSp'], dtype='object')\n",
      " RR2: 0.758 Index(['Sex', 'Pclass', 'Cabin'], dtype='object')\n",
      " RR2: 0.758 Index(['Sex', 'Pclass', 'Embarked'], dtype='object')\n",
      " RR2: 0.758 Index(['Sex', 'SibSp', 'Pclass'], dtype='object')\n",
      " RR2: 0.758 Index(['Sex', 'Cabin', 'Pclass'], dtype='object')\n",
      " RR2: 0.758 Index(['Sex', 'Embarked', 'Pclass'], dtype='object')\n",
      " RR2: 0.758 Index(['SibSp', 'Pclass', 'Sex'], dtype='object')\n",
      " RR2: 0.758 Index(['SibSp', 'Sex', 'Pclass'], dtype='object')\n",
      " RR2: 0.758 Index(['Cabin', 'Pclass', 'Sex'], dtype='object')\n",
      " RR2: 0.758 Index(['Cabin', 'Sex', 'Pclass'], dtype='object')\n",
      " RR2: 0.758 Index(['Embarked', 'Pclass', 'Sex'], dtype='object')\n",
      " RR2: 0.758 Index(['Embarked', 'Sex', 'Pclass'], dtype='object')\n"
     ]
    }
   ],
   "source": [
    "from sklearn import metrics\n",
    "\n",
    "for i in range(1,b):\n",
    "    i = a[i]\n",
    "    for f in range (1,b):\n",
    "        f = a[f]\n",
    "        for g in range (1,b):\n",
    "            g = a[g]\n",
    "        \n",
    "        \n",
    "            y = df['Survived']       \n",
    "            X = df.drop('Survived', axis=1)\n",
    "        \n",
    "            \n",
    "            col = X.columns[[i,f,g]]   #<-- nazwy kolumn\n",
    "            X = X[col]               #<-- FAKTYCZNE warianty zbioru X\n",
    "            regr.fit(X, y)\n",
    "            y_pred = regr.predict(X)\n",
    "            R = regr.score(X, y)\n",
    "            R2 = np.sqrt(metrics.mean_squared_error(y, y_pred))\n",
    "            RR2 = R2+R\n",
    "            if RR2 >= 0.757:\n",
    "       \n",
    "                print(' RR2: %.3f' %RR2, col)\n",
    "        "
   ]
  },
  {
   "cell_type": "markdown",
   "metadata": {},
   "source": [
    "### I create loops for four variables based on LinearRegression ()"
   ]
  },
  {
   "cell_type": "code",
   "execution_count": 14,
   "metadata": {},
   "outputs": [
    {
     "name": "stdout",
     "output_type": "stream",
     "text": [
      " RR2: 0.762 Index(['Pclass', 'Sex', 'Cabin', 'Embarked'], dtype='object')\n",
      " RR2: 0.762 Index(['Pclass', 'Cabin', 'Sex', 'Embarked'], dtype='object')\n",
      " RR2: 0.762 Index(['Sex', 'Pclass', 'Cabin', 'Embarked'], dtype='object')\n",
      " RR2: 0.762 Index(['Sex', 'Cabin', 'Pclass', 'Embarked'], dtype='object')\n",
      " RR2: 0.762 Index(['Cabin', 'Pclass', 'Sex', 'Embarked'], dtype='object')\n",
      " RR2: 0.762 Index(['Cabin', 'Sex', 'Pclass', 'Embarked'], dtype='object')\n"
     ]
    }
   ],
   "source": [
    "from sklearn import metrics\n",
    "\n",
    "for i in range(1,b):\n",
    "    i = a[i]\n",
    "    for f in range (1,b):\n",
    "        f = a[f]\n",
    "        for g in range (1,b):\n",
    "            g = a[g]\n",
    "            for r in range (1,b):\n",
    "                r = a[r]\n",
    "        \n",
    "            y = df['Survived']       \n",
    "            X = df.drop('Survived', axis=1)\n",
    "        \n",
    "            \n",
    "            col = X.columns[[i,f,g,r]]   #<-- nazwy kolumn\n",
    "            X = X[col]               #<-- FAKTYCZNE warianty zbioru X\n",
    "            regr.fit(X, y)\n",
    "            y_pred = regr.predict(X)\n",
    "            R = regr.score(X, y)\n",
    "            R2 = np.sqrt(metrics.mean_squared_error(y, y_pred))\n",
    "            RR2 = R2+R\n",
    "            if RR2 >= 0.761:\n",
    "       \n",
    "                print(' RR2: %.3f' %RR2, col)\n",
    "        "
   ]
  },
  {
   "cell_type": "markdown",
   "metadata": {},
   "source": [
    "## <span style=\"color:blue\"> I am starting the RandomForestRegressor model"
   ]
  },
  {
   "cell_type": "code",
   "execution_count": 15,
   "metadata": {},
   "outputs": [
    {
     "name": "stdout",
     "output_type": "stream",
     "text": [
      "(891, 12)\n",
      "(891,)\n"
     ]
    }
   ],
   "source": [
    "y = df['Survived']       \n",
    "X = df.drop('Survived', axis=1)\n",
    "print(X.shape)\n",
    "print(y.shape)"
   ]
  },
  {
   "cell_type": "code",
   "execution_count": 16,
   "metadata": {},
   "outputs": [
    {
     "name": "stderr",
     "output_type": "stream",
     "text": [
      "/home/wojciech/anaconda3/lib/python3.7/site-packages/sklearn/ensemble/forest.py:245: FutureWarning: The default value of n_estimators will change from 10 in version 0.20 to 100 in 0.22.\n",
      "  \"10 in version 0.20 to 100 in 0.22.\", FutureWarning)\n"
     ]
    }
   ],
   "source": [
    "from sklearn.ensemble import RandomForestRegressor\n",
    "\n",
    "model_RFC1 = RandomForestRegressor().fit(X, y)\n"
   ]
  },
  {
   "cell_type": "code",
   "execution_count": 17,
   "metadata": {},
   "outputs": [
    {
     "name": "stdout",
     "output_type": "stream",
     "text": [
      " RR2: 1.051 Index(['Name', 'Ticket', 'Sex'], dtype='object')\n",
      " RR2: 1.050 Index(['Sex', 'Name', 'Ticket'], dtype='object')\n",
      " RR2: 1.052 Index(['Sex', 'Name', 'Fare'], dtype='object')\n",
      " RR2: 1.050 Index(['Sex', 'Age', 'Ticket'], dtype='object')\n",
      " RR2: 1.052 Index(['Sex', 'Ticket', 'Name'], dtype='object')\n",
      " RR2: 1.052 Index(['Sex', 'Fare', 'Name'], dtype='object')\n",
      " RR2: 1.051 Index(['Ticket', 'Name', 'Sex'], dtype='object')\n",
      " RR2: 1.053 Index(['Ticket', 'Sex', 'Name'], dtype='object')\n",
      " RR2: 1.052 Index(['Fare', 'Sex', 'Name'], dtype='object')\n"
     ]
    }
   ],
   "source": [
    "from sklearn import metrics\n",
    "\n",
    "for i in range(1,b):\n",
    "    i = a[i]\n",
    "    for f in range (1,b):\n",
    "        f = a[f]\n",
    "        for g in range (1,b):\n",
    "            g = a[g]\n",
    "        \n",
    "        \n",
    "            y = df['Survived']       \n",
    "            X = df.drop('Survived', axis=1)\n",
    "        \n",
    "            \n",
    "            col = X.columns[[i,f,g]]   #<-- nazwy kolumn\n",
    "            X = X[col]               #<-- FAKTYCZNE warianty zbioru X\n",
    "            model_RFC1.fit(X, y)\n",
    "            y_pred2 = model_RFC1.predict(X)\n",
    "            R = model_RFC1.score(X, y)\n",
    "            R2 = np.sqrt(metrics.mean_squared_error(y, y_pred2))\n",
    "            RR2 = R2+R\n",
    "            if RR2 >= 1.05:\n",
    "       \n",
    "                print(' RR2: %.3f' %RR2, col)"
   ]
  },
  {
   "cell_type": "markdown",
   "metadata": {},
   "source": [
    "My own tractor comes to similar conclusions as other tools in the series: Feature Selection Techniques.\n",
    "Only that my tractor is probably faster in calculations .....   \n",
    "    "
   ]
  }
 ],
 "metadata": {
  "kernelspec": {
   "display_name": "Python 3",
   "language": "python",
   "name": "python3"
  },
  "language_info": {
   "codemirror_mode": {
    "name": "ipython",
    "version": 3
   },
   "file_extension": ".py",
   "mimetype": "text/x-python",
   "name": "python",
   "nbconvert_exporter": "python",
   "pygments_lexer": "ipython3",
   "version": "3.7.4"
  }
 },
 "nbformat": 4,
 "nbformat_minor": 2
}
