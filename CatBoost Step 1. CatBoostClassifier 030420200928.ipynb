{
 "cells": [
  {
   "cell_type": "markdown",
   "metadata": {},
   "source": [
    "# CatBoost Step 1. CatBoostClassifier"
   ]
  },
  {
   "cell_type": "code",
   "execution_count": 1,
   "metadata": {},
   "outputs": [],
   "source": [
    "##  colorful prints\n",
    "def black(text):\n",
    "     print('\\033[30m', text, '\\033[0m', sep='')  \n",
    "def red(text):\n",
    "     print('\\033[31m', text, '\\033[0m', sep='')  \n",
    "def green(text):\n",
    "     print('\\033[32m', text, '\\033[0m', sep='')  \n",
    "def yellow(text):\n",
    "     print('\\033[33m', text, '\\033[0m', sep='')  \n",
    "def blue(text):\n",
    "     print('\\033[34m', text, '\\033[0m', sep='') \n",
    "def magenta(text):\n",
    "     print('\\033[35m', text, '\\033[0m', sep='')  \n",
    "def cyan(text):\n",
    "     print('\\033[36m', text, '\\033[0m', sep='')  \n",
    "def gray(text):\n",
    "     print('\\033[90m', text, '\\033[0m', sep='')"
   ]
  },
  {
   "cell_type": "markdown",
   "metadata": {},
   "source": [
    "I use the popular Titanic database."
   ]
  },
  {
   "cell_type": "code",
   "execution_count": 2,
   "metadata": {},
   "outputs": [
    {
     "data": {
      "text/html": [
       "<div>\n",
       "<style scoped>\n",
       "    .dataframe tbody tr th:only-of-type {\n",
       "        vertical-align: middle;\n",
       "    }\n",
       "\n",
       "    .dataframe tbody tr th {\n",
       "        vertical-align: top;\n",
       "    }\n",
       "\n",
       "    .dataframe thead th {\n",
       "        text-align: right;\n",
       "    }\n",
       "</style>\n",
       "<table border=\"1\" class=\"dataframe\">\n",
       "  <thead>\n",
       "    <tr style=\"text-align: right;\">\n",
       "      <th></th>\n",
       "      <th>Unnamed: 0</th>\n",
       "      <th>PassengerId</th>\n",
       "      <th>Survived</th>\n",
       "      <th>Pclass</th>\n",
       "      <th>Name</th>\n",
       "      <th>Sex</th>\n",
       "      <th>Age</th>\n",
       "      <th>SibSp</th>\n",
       "      <th>Parch</th>\n",
       "      <th>Ticket</th>\n",
       "      <th>Fare</th>\n",
       "      <th>Cabin</th>\n",
       "      <th>Embarked</th>\n",
       "    </tr>\n",
       "  </thead>\n",
       "  <tbody>\n",
       "    <tr>\n",
       "      <td>0</td>\n",
       "      <td>0</td>\n",
       "      <td>1</td>\n",
       "      <td>0</td>\n",
       "      <td>3</td>\n",
       "      <td>Braund, Mr. Owen Harris</td>\n",
       "      <td>male</td>\n",
       "      <td>22.0</td>\n",
       "      <td>1</td>\n",
       "      <td>0</td>\n",
       "      <td>A/5 21171</td>\n",
       "      <td>7.2500</td>\n",
       "      <td>NaN</td>\n",
       "      <td>S</td>\n",
       "    </tr>\n",
       "    <tr>\n",
       "      <td>1</td>\n",
       "      <td>1</td>\n",
       "      <td>2</td>\n",
       "      <td>1</td>\n",
       "      <td>1</td>\n",
       "      <td>Cumings, Mrs. John Bradley (Florence Briggs Th...</td>\n",
       "      <td>female</td>\n",
       "      <td>38.0</td>\n",
       "      <td>1</td>\n",
       "      <td>0</td>\n",
       "      <td>PC 17599</td>\n",
       "      <td>71.2833</td>\n",
       "      <td>C85</td>\n",
       "      <td>C</td>\n",
       "    </tr>\n",
       "    <tr>\n",
       "      <td>2</td>\n",
       "      <td>2</td>\n",
       "      <td>3</td>\n",
       "      <td>1</td>\n",
       "      <td>3</td>\n",
       "      <td>Heikkinen, Miss. Laina</td>\n",
       "      <td>female</td>\n",
       "      <td>26.0</td>\n",
       "      <td>0</td>\n",
       "      <td>0</td>\n",
       "      <td>STON/O2. 3101282</td>\n",
       "      <td>7.9250</td>\n",
       "      <td>NaN</td>\n",
       "      <td>S</td>\n",
       "    </tr>\n",
       "  </tbody>\n",
       "</table>\n",
       "</div>"
      ],
      "text/plain": [
       "   Unnamed: 0  PassengerId  Survived  Pclass  \\\n",
       "0           0            1         0       3   \n",
       "1           1            2         1       1   \n",
       "2           2            3         1       3   \n",
       "\n",
       "                                                Name     Sex   Age  SibSp  \\\n",
       "0                            Braund, Mr. Owen Harris    male  22.0      1   \n",
       "1  Cumings, Mrs. John Bradley (Florence Briggs Th...  female  38.0      1   \n",
       "2                             Heikkinen, Miss. Laina  female  26.0      0   \n",
       "\n",
       "   Parch            Ticket     Fare Cabin Embarked  \n",
       "0      0         A/5 21171   7.2500   NaN        S  \n",
       "1      0          PC 17599  71.2833   C85        C  \n",
       "2      0  STON/O2. 3101282   7.9250   NaN        S  "
      ]
     },
     "execution_count": 2,
     "metadata": {},
     "output_type": "execute_result"
    }
   ],
   "source": [
    "import pandas as pd\n",
    "\n",
    "df = pd.read_csv('/home/wojciech/Pulpit/1/tit_train.csv')\n",
    "df.head(3)"
   ]
  },
  {
   "cell_type": "markdown",
   "metadata": {},
   "source": [
    "## Quick cleaning and removal of columns"
   ]
  },
  {
   "cell_type": "code",
   "execution_count": 3,
   "metadata": {},
   "outputs": [],
   "source": [
    "df.drop(['PassengerId','Unnamed: 0', 'Cabin','Name','Ticket'], axis=1, inplace=True)"
   ]
  },
  {
   "cell_type": "markdown",
   "metadata": {},
   "source": [
    "## Select all discrete columns and convert them into discrete data in bulk"
   ]
  },
  {
   "cell_type": "code",
   "execution_count": 4,
   "metadata": {},
   "outputs": [
    {
     "name": "stdout",
     "output_type": "stream",
     "text": [
      "\u001b[34mSurvived      int64\n",
      "Pclass        int64\n",
      "Sex          object\n",
      "Age         float64\n",
      "SibSp         int64\n",
      "Parch         int64\n",
      "Fare        float64\n",
      "Embarked     object\n",
      "dtype: object\u001b[0m\n",
      "\u001b[90mSurvived    0\n",
      "Pclass      0\n",
      "Sex         0\n",
      "Age         0\n",
      "SibSp       0\n",
      "Parch       0\n",
      "Fare        0\n",
      "Embarked    0\n",
      "dtype: int64\u001b[0m\n",
      "\u001b[32m(712, 8)\u001b[0m\n"
     ]
    }
   ],
   "source": [
    "blue(df.dtypes)\n",
    "df = df.dropna(how='any')\n",
    "gray(df.isnull().sum())\n",
    "green(df.shape)"
   ]
  },
  {
   "cell_type": "raw",
   "metadata": {},
   "source": [
    "categorical_vars = df.describe(include=[\"object\"]).columns\n",
    "categorical_vars"
   ]
  },
  {
   "cell_type": "raw",
   "metadata": {},
   "source": [
    "from sklearn.preprocessing import LabelEncoder\n",
    "df[categorical_vars] = df[categorical_vars].apply(LabelEncoder().fit_transform)\n",
    "blue(df['Sex'].value_counts())\n",
    "green(df['Embarked'].value_counts())"
   ]
  },
  {
   "cell_type": "code",
   "execution_count": 5,
   "metadata": {},
   "outputs": [],
   "source": [
    "X = df.drop('Survived', axis=1) \n",
    "y = df['Survived']  \n",
    "\n",
    "from sklearn.model_selection import train_test_split\n",
    "X_train, X_test, y_train, y_test = train_test_split(X, y, test_size=0.20, random_state=123,stratify=y)\n",
    "# Jeżeli się rzuca wtedy wycinamy stratify=y."
   ]
  },
  {
   "cell_type": "markdown",
   "metadata": {},
   "source": [
    "# CatBoostClassifier - First model"
   ]
  },
  {
   "cell_type": "code",
   "execution_count": 6,
   "metadata": {},
   "outputs": [],
   "source": [
    "from catboost import CatBoostClassifier, Pool\n",
    "# Initialize CatBoostClassifier\n",
    "model_CB1 = CatBoostClassifier(\n",
    "    custom_loss=['Accuracy'],\n",
    "    random_seed=42,\n",
    "    logging_level='Silent'\n",
    ")"
   ]
  },
  {
   "cell_type": "markdown",
   "metadata": {},
   "source": [
    "Model parameters:\n",
    "\n",
    "- custom_loss - Metric used during the training, selected: ['Accuracy']\n",
    "    https://catboost.ai/docs/search/?query=%27Accuracy%27\n",
    "- random_seed = 42 The random seed used for training. That random values are the same every time.\n",
    "- logging_level = 'Silent' Log in level to exit to standard output. 'Silent' - do not send any login information to the standard output. 'Verbose' - send the following data to the standard output, then it shows in model.fit all the learning path. 'Info' or 'Debug' - displaying additional information and the number of trees.\n",
    "\n",
    "\n",
    "Two new features are associated with the CatBoostClassifier model. This model needs to be split between categorical and numeric variables. This information is declared in the model in the cat_features manual. Column numbers containing categorical variables are provided there. This information must be in the model.\n",
    "Another novelty: categorical variables, e.g. text, do not need to be coded because the algorithm will encode them into a digital format."
   ]
  },
  {
   "cell_type": "markdown",
   "metadata": {},
   "source": [
    "### A function that assigns variables to a set of categorical variables based on the number of unique values"
   ]
  },
  {
   "cell_type": "code",
   "execution_count": 7,
   "metadata": {},
   "outputs": [
    {
     "data": {
      "text/plain": [
       "array([0, 1, 3, 4, 6])"
      ]
     },
     "execution_count": 7,
     "metadata": {},
     "output_type": "execute_result"
    }
   ],
   "source": [
    "import numpy as np\n",
    "\n",
    "categorical_fuX = np.where(X_train.nunique() <8) [0]\n",
    "categorical_fuX"
   ]
  },
  {
   "cell_type": "markdown",
   "metadata": {},
   "source": [
    "### Function that assigns variables to a set of categorical variables based on np.float"
   ]
  },
  {
   "cell_type": "code",
   "execution_count": 8,
   "metadata": {},
   "outputs": [
    {
     "data": {
      "text/plain": [
       "array([0, 1, 3, 4, 6])"
      ]
     },
     "execution_count": 8,
     "metadata": {},
     "output_type": "execute_result"
    }
   ],
   "source": [
    "import numpy as np\n",
    "\n",
    "categorical_ff = np.where(X_train.dtypes != np.float)[0]\n",
    "categorical_ff"
   ]
  },
  {
   "cell_type": "code",
   "execution_count": 9,
   "metadata": {},
   "outputs": [
    {
     "data": {
      "text/plain": [
       "'Parch'"
      ]
     },
     "execution_count": 9,
     "metadata": {},
     "output_type": "execute_result"
    }
   ],
   "source": [
    "X_train.columns[4]"
   ]
  },
  {
   "cell_type": "markdown",
   "metadata": {},
   "source": [
    "### Model fit"
   ]
  },
  {
   "cell_type": "code",
   "execution_count": 10,
   "metadata": {},
   "outputs": [
    {
     "data": {
      "text/plain": [
       "<catboost.core.CatBoostClassifier at 0x7f407b394710>"
      ]
     },
     "execution_count": 10,
     "metadata": {},
     "output_type": "execute_result"
    }
   ],
   "source": [
    "cat_features = categorical_fuX\n",
    "\n",
    "# Fit model\n",
    "model_CB1.fit(X_train, y_train, cat_features)"
   ]
  },
  {
   "cell_type": "code",
   "execution_count": 11,
   "metadata": {},
   "outputs": [
    {
     "name": "stdout",
     "output_type": "stream",
     "text": [
      "\u001b[34m[0 0 0 1 0 1 0 1 0 0 0 1 0 0 0 0 1 0 0 0 0 0 0 1 1 0 0 0 0 1 0 0 0 0 1 0 1\n",
      " 0 0 1 0 0 1 0 0 0 0 0 0 1 0 0 0 0 0 0 0 0 1 0 1 0 0 1 0 0 0 0 1 0 0 0 0 0\n",
      " 0 0 1 0 1 1 0 1 1 0 0 0 0 0 0 1 0 1 0 0 1 0 1 0 0 1 0 1 0 1 0 0 0 0 1 0 0\n",
      " 0 0 0 0 0 0 1 0 1 0 0 0 1 0 0 0 0 0 0 1 0 0 0 1 1 1 0 1 0 0 1 1]\u001b[0m\n"
     ]
    }
   ],
   "source": [
    "# Get predicted classes\n",
    "pred_y = model_CB1.predict(X_test)\n",
    "blue(pred_y)"
   ]
  },
  {
   "cell_type": "code",
   "execution_count": 12,
   "metadata": {},
   "outputs": [
    {
     "name": "stdout",
     "output_type": "stream",
     "text": [
      "\u001b[34m[[0.85263078 0.14736922]\n",
      " [0.83668927 0.16331073]\n",
      " [0.88530278 0.11469722]\n",
      " [0.0271033  0.9728967 ]\n",
      " [0.53206745 0.46793255]\n",
      " [0.05454385 0.94545615]]\u001b[0m\n"
     ]
    }
   ],
   "source": [
    "# Get predicted probabilities for each class\n",
    "preds_proba = model_CB1.predict_proba(X_test)\n",
    "blue(preds_proba[:6])"
   ]
  },
  {
   "cell_type": "markdown",
   "metadata": {},
   "source": [
    "Assuming that the goal is classification (0,1), then the classifier would derive the dimension probability matrix (N, 2). The first index refers to the probability that the data belongs to class 0, and the second index refers to the probability that the data belongs to class 1.\n",
    "\n",
    "Both values in the line must give 1."
   ]
  },
  {
   "cell_type": "code",
   "execution_count": 13,
   "metadata": {},
   "outputs": [
    {
     "name": "stdout",
     "output_type": "stream",
     "text": [
      "\u001b[34m[-1.75538548 -1.63379809 -2.04363396  3.58062234 -0.12844609  2.85266251\n",
      " -1.94092344  3.23063388 -2.02739665 -0.78200409 -1.8936431   1.79676921\n",
      " -1.69474646 -2.21282392 -0.42516321 -2.18014857  0.44380189 -1.64375843\n",
      " -1.9981667  -1.85581634 -2.07620424 -1.95036355 -2.12249651  1.27041272\n",
      "  1.62970858]\u001b[0m\n"
     ]
    }
   ],
   "source": [
    "# Get predicted RawFormulaVal\n",
    "pred_raw = model_CB1.predict(X_test, prediction_type='RawFormulaVal')\n",
    "blue(pred_raw[:25])"
   ]
  },
  {
   "cell_type": "markdown",
   "metadata": {},
   "source": [
    "The required prediction type.\n",
    "\n",
    " - prediction_type = 'Probability', probability for 0 and 1, which gives a total of 1 (e.g. [0.54761429 0.45238571])\n",
    " - prediction_type = 'Class', categorical values 0-1\n",
    " - prediction_type = 'RawFormulaVal', numeric values, continuous (when classifying, setting continuous values gives better model quality - I don't know why."
   ]
  },
  {
   "cell_type": "code",
   "execution_count": 14,
   "metadata": {},
   "outputs": [],
   "source": [
    "# Classification Assessment\n",
    "def Classification_Assessment(model ,Xtrain, ytrain, Xtest, ytest, y_pred):\n",
    "    import numpy as np\n",
    "    import matplotlib.pyplot as plt\n",
    "    from sklearn import metrics\n",
    "    from sklearn.metrics import classification_report, confusion_matrix\n",
    "    from sklearn.metrics import confusion_matrix, log_loss, auc, roc_curve, roc_auc_score, recall_score, precision_recall_curve\n",
    "    from sklearn.metrics import make_scorer, precision_score, fbeta_score, f1_score, classification_report\n",
    "\n",
    "    print(\"Recall Training data:     \", np.round(recall_score(ytrain, model.predict(Xtrain)), decimals=4))\n",
    "    print(\"Precision Training data:  \", np.round(precision_score(ytrain, model.predict(Xtrain)), decimals=4))\n",
    "    print(\"----------------------------------------------------------------------\")\n",
    "    print(\"Recall Test data:         \", np.round(recall_score(ytest, model.predict(Xtest)), decimals=4)) \n",
    "    print(\"Precision Test data:      \", np.round(precision_score(ytest, model.predict(Xtest)), decimals=4))\n",
    "    print(\"----------------------------------------------------------------------\")\n",
    "    print(\"Confusion Matrix Test data\")\n",
    "    print(confusion_matrix(ytest, model.predict(Xtest)))\n",
    "    print(\"----------------------------------------------------------------------\")\n",
    "    print(classification_report(ytest, model.predict(Xtest)))\n",
    "    \n",
    "    y_pred_proba = model.predict_proba(Xtest)[::,1]\n",
    "    fpr, tpr, _ = metrics.roc_curve(ytest,  y_pred)\n",
    "    auc = metrics.roc_auc_score(ytest, y_pred)\n",
    "    plt.plot(fpr, tpr, label='Logistic Regression (auc = %0.2f)' % auc)\n",
    "    plt.xlabel('False Positive Rate',color='grey', fontsize = 13)\n",
    "    plt.ylabel('True Positive Rate',color='grey', fontsize = 13)\n",
    "    plt.title('Receiver operating characteristic')\n",
    "    plt.legend(loc=\"lower right\")\n",
    "    plt.legend(loc=4)\n",
    "    plt.plot([0, 1], [0, 1],'r--')\n",
    "    plt.show()\n",
    "    print('auc',auc)"
   ]
  },
  {
   "cell_type": "code",
   "execution_count": 25,
   "metadata": {},
   "outputs": [
    {
     "name": "stdout",
     "output_type": "stream",
     "text": [
      "Recall Training data:      0.1913\n",
      "Precision Training data:   0.9565\n",
      "----------------------------------------------------------------------\n",
      "Recall Test data:          0.1207\n",
      "Precision Test data:       0.875\n",
      "----------------------------------------------------------------------\n",
      "Confusion Matrix Test data\n",
      "[[84  1]\n",
      " [51  7]]\n",
      "----------------------------------------------------------------------\n",
      "              precision    recall  f1-score   support\n",
      "\n",
      "           0       0.62      0.99      0.76        85\n",
      "           1       0.88      0.12      0.21        58\n",
      "\n",
      "    accuracy                           0.64       143\n",
      "   macro avg       0.75      0.55      0.49       143\n",
      "weighted avg       0.72      0.64      0.54       143\n",
      "\n"
     ]
    },
    {
     "data": {
      "image/png": "[encoded data removed]",
      "text/plain": [
       "<Figure size 432x288 with 1 Axes>"
      ]
     },
     "metadata": {
      "needs_background": "light"
     },
     "output_type": "display_data"
    },
    {
     "name": "stdout",
     "output_type": "stream",
     "text": [
      "auc 0.8940162271805274\n"
     ]
    }
   ],
   "source": [
    "Classification_Assessment(model_CB1 ,X_train, y_train, X_test, y_test, pred_raw)"
   ]
  },
  {
   "cell_type": "markdown",
   "metadata": {},
   "source": [
    "### # CatBoostClassifier - Secound model"
   ]
  },
  {
   "cell_type": "code",
   "execution_count": 16,
   "metadata": {},
   "outputs": [],
   "source": [
    "from catboost import CatBoostRegressor\n",
    "\n",
    "model_CB2 = CatBoostClassifier(iterations=2000,\n",
    "                           learning_rate=1,\n",
    "                           logging_level='Silent',\n",
    "                           depth=2)"
   ]
  },
  {
   "cell_type": "markdown",
   "metadata": {},
   "source": [
    "Iterations and learning rate\n",
    "  - By default, CatBoost builds 1000 trees (iterations = 1000). The number of iterations can be reduced to speed up training. When the number of iterations decreases, the learning rate should be increased.\n",
    "  - Reduce the learning rate if you observe over-matching.\n",
    " "
   ]
  },
  {
   "cell_type": "code",
   "execution_count": 17,
   "metadata": {},
   "outputs": [
    {
     "data": {
      "text/plain": [
       "<catboost.core.CatBoostClassifier at 0x7f407032e350>"
      ]
     },
     "execution_count": 17,
     "metadata": {},
     "output_type": "execute_result"
    }
   ],
   "source": [
    "cat_features = categorical_fuX\n",
    "\n",
    "# Fit model\n",
    "model_CB2.fit(X_train,  y_train, cat_features)"
   ]
  },
  {
   "cell_type": "code",
   "execution_count": 18,
   "metadata": {},
   "outputs": [
    {
     "name": "stdout",
     "output_type": "stream",
     "text": [
      "\u001b[34m[-1.16704217  1.48566011 -0.74675383 10.50311507  4.01697576  6.02699475\n",
      " -2.78016881  6.66757517  2.29665968 -1.07726253 -4.84687783  5.98579841\n",
      "  0.52268062 -3.32868989 -0.59928617 -6.08291549 -2.152742    2.3453906\n",
      " -0.01923405 -2.78393673  0.38571559 -1.51933139 -5.6825021   3.51415835\n",
      "  2.01112103]\u001b[0m\n"
     ]
    }
   ],
   "source": [
    "# Get predicted RawFormulaVal\n",
    "pred_raw2 = model_CB2.predict(X_test, prediction_type='RawFormulaVal')\n",
    "blue(pred_raw2[:25])"
   ]
  },
  {
   "cell_type": "code",
   "execution_count": 19,
   "metadata": {},
   "outputs": [
    {
     "name": "stdout",
     "output_type": "stream",
     "text": [
      "Recall Training data:      0.9087\n",
      "Precision Training data:   0.8427\n",
      "----------------------------------------------------------------------\n",
      "Recall Test data:          0.7931\n",
      "Precision Test data:       0.7419\n",
      "----------------------------------------------------------------------\n",
      "Confusion Matrix Test data\n",
      "[[69 16]\n",
      " [12 46]]\n",
      "----------------------------------------------------------------------\n",
      "              precision    recall  f1-score   support\n",
      "\n",
      "           0       0.85      0.81      0.83        85\n",
      "           1       0.74      0.79      0.77        58\n",
      "\n",
      "    accuracy                           0.80       143\n",
      "   macro avg       0.80      0.80      0.80       143\n",
      "weighted avg       0.81      0.80      0.81       143\n",
      "\n"
     ]
    },
    {
     "data": {
      "image/png": "[encoded data removed]",
      "text/plain": [
       "<Figure size 432x288 with 1 Axes>"
      ]
     },
     "metadata": {
      "needs_background": "light"
     },
     "output_type": "display_data"
    },
    {
     "name": "stdout",
     "output_type": "stream",
     "text": [
      "auc 0.8753549695740366\n"
     ]
    }
   ],
   "source": [
    "Classification_Assessment(model_CB2 ,X_train, y_train, X_test, y_test, pred_raw2)"
   ]
  },
  {
   "cell_type": "markdown",
   "metadata": {},
   "source": [
    "## Comparison to the RandomForestClassifier model\n",
    "This model is on steroids, so its execution time is long. \n",
    "\n",
    "First, however, you had to encode discrete variables in the srt format into a numeric value."
   ]
  },
  {
   "cell_type": "markdown",
   "metadata": {},
   "source": [
    "### Which variables have non-digital values?"
   ]
  },
  {
   "cell_type": "code",
   "execution_count": 20,
   "metadata": {
    "scrolled": true
   },
   "outputs": [
    {
     "data": {
      "text/plain": [
       "array([1, 6])"
      ]
     },
     "execution_count": 20,
     "metadata": {},
     "output_type": "execute_result"
    }
   ],
   "source": [
    "import numpy as np\n",
    "\n",
    "categorical_X_train = np.where(X_train.dtypes == np.object)[0]\n",
    "categorical_X_train\n",
    "\n",
    "categorical_X_test = np.where(X_test.dtypes == np.object)[0]\n",
    "categorical_X_test"
   ]
  },
  {
   "cell_type": "code",
   "execution_count": 21,
   "metadata": {},
   "outputs": [
    {
     "name": "stdout",
     "output_type": "stream",
     "text": [
      "\u001b[34mIndex(['Sex', 'Embarked'], dtype='object')\u001b[0m\n",
      "\u001b[32mIndex(['Sex', 'Embarked'], dtype='object')\u001b[0m\n"
     ]
    }
   ],
   "source": [
    "kot = X_train.columns[categorical_X_train]\n",
    "blue(kot)\n",
    "kot2 = X_test.columns[categorical_X_test]\n",
    "green(kot2)"
   ]
  },
  {
   "cell_type": "code",
   "execution_count": 22,
   "metadata": {},
   "outputs": [
    {
     "name": "stderr",
     "output_type": "stream",
     "text": [
      "/home/wojciech/anaconda3/lib/python3.7/site-packages/pandas/core/frame.py:3494: SettingWithCopyWarning: \n",
      "A value is trying to be set on a copy of a slice from a DataFrame.\n",
      "Try using .loc[row_indexer,col_indexer] = value instead\n",
      "\n",
      "See the caveats in the documentation: http://pandas.pydata.org/pandas-docs/stable/user_guide/indexing.html#returning-a-view-versus-a-copy\n",
      "  self[k1] = value[k2]\n"
     ]
    },
    {
     "data": {
      "text/html": [
       "<div>\n",
       "<style scoped>\n",
       "    .dataframe tbody tr th:only-of-type {\n",
       "        vertical-align: middle;\n",
       "    }\n",
       "\n",
       "    .dataframe tbody tr th {\n",
       "        vertical-align: top;\n",
       "    }\n",
       "\n",
       "    .dataframe thead th {\n",
       "        text-align: right;\n",
       "    }\n",
       "</style>\n",
       "<table border=\"1\" class=\"dataframe\">\n",
       "  <thead>\n",
       "    <tr style=\"text-align: right;\">\n",
       "      <th></th>\n",
       "      <th>Pclass</th>\n",
       "      <th>Sex</th>\n",
       "      <th>Age</th>\n",
       "      <th>SibSp</th>\n",
       "      <th>Parch</th>\n",
       "      <th>Fare</th>\n",
       "      <th>Embarked</th>\n",
       "    </tr>\n",
       "  </thead>\n",
       "  <tbody>\n",
       "    <tr>\n",
       "      <td>91</td>\n",
       "      <td>3</td>\n",
       "      <td>1</td>\n",
       "      <td>20.0</td>\n",
       "      <td>0</td>\n",
       "      <td>0</td>\n",
       "      <td>7.8542</td>\n",
       "      <td>2</td>\n",
       "    </tr>\n",
       "    <tr>\n",
       "      <td>390</td>\n",
       "      <td>1</td>\n",
       "      <td>1</td>\n",
       "      <td>36.0</td>\n",
       "      <td>1</td>\n",
       "      <td>2</td>\n",
       "      <td>120.0000</td>\n",
       "      <td>2</td>\n",
       "    </tr>\n",
       "    <tr>\n",
       "      <td>219</td>\n",
       "      <td>2</td>\n",
       "      <td>1</td>\n",
       "      <td>30.0</td>\n",
       "      <td>0</td>\n",
       "      <td>0</td>\n",
       "      <td>10.5000</td>\n",
       "      <td>2</td>\n",
       "    </tr>\n",
       "    <tr>\n",
       "      <td>63</td>\n",
       "      <td>3</td>\n",
       "      <td>1</td>\n",
       "      <td>4.0</td>\n",
       "      <td>3</td>\n",
       "      <td>2</td>\n",
       "      <td>27.9000</td>\n",
       "      <td>2</td>\n",
       "    </tr>\n",
       "    <tr>\n",
       "      <td>780</td>\n",
       "      <td>3</td>\n",
       "      <td>0</td>\n",
       "      <td>13.0</td>\n",
       "      <td>0</td>\n",
       "      <td>0</td>\n",
       "      <td>7.2292</td>\n",
       "      <td>0</td>\n",
       "    </tr>\n",
       "  </tbody>\n",
       "</table>\n",
       "</div>"
      ],
      "text/plain": [
       "     Pclass  Sex   Age  SibSp  Parch      Fare  Embarked\n",
       "91        3    1  20.0      0      0    7.8542         2\n",
       "390       1    1  36.0      1      2  120.0000         2\n",
       "219       2    1  30.0      0      0   10.5000         2\n",
       "63        3    1   4.0      3      2   27.9000         2\n",
       "780       3    0  13.0      0      0    7.2292         0"
      ]
     },
     "execution_count": 22,
     "metadata": {},
     "output_type": "execute_result"
    }
   ],
   "source": [
    "from sklearn.preprocessing import LabelEncoder\n",
    "\n",
    "X_train[kot] = X_train[kot].apply(LabelEncoder().fit_transform)\n",
    "X_test[kot2] = X_test[kot2].apply(LabelEncoder().fit_transform)\n",
    "\n",
    "X_train.head()"
   ]
  },
  {
   "cell_type": "markdown",
   "metadata": {},
   "source": [
    "### I am starting the RandomForestClassifier model with very strong optimization"
   ]
  },
  {
   "cell_type": "code",
   "execution_count": 23,
   "metadata": {},
   "outputs": [
    {
     "name": "stdout",
     "output_type": "stream",
     "text": [
      "Fri Apr  3 08:04:59 2020\n",
      "Pomiar czasu wykonania tego zadania\n",
      "Czas:                 3.0613633433977765\n",
      "Czas na jeden rekor w min.:  0.004299667617131709\n"
     ]
    }
   ],
   "source": [
    "from sklearn.pipeline import make_pipeline\n",
    "from sklearn import preprocessing\n",
    "from sklearn.ensemble import RandomForestClassifier\n",
    "from sklearn.model_selection import GridSearchCV\n",
    "from sklearn.datasets import make_classification\n",
    "\n",
    "import time\n",
    "start_time = time.time() ## pomiar czasu: start pomiaru czasu\n",
    "print(time.ctime())\n",
    "print('Pomiar czasu wykonania tego zadania')\n",
    "\n",
    "rfc=RandomForestClassifier(random_state=42)\n",
    "param_grid = { \n",
    "    'n_estimators': [200, 500],\n",
    "    'max_features': ['auto', 'sqrt', 'log2'],\n",
    "    'max_depth' : [4,5,6,7,8],\n",
    "    'criterion' :['gini', 'entropy']\n",
    "}\n",
    "CV_rfc = GridSearchCV(estimator=rfc, param_grid=param_grid, cv= 5)\n",
    "CV_rfc.fit(X_train, y_train)\n",
    "\n",
    "y_pred_RFC = CV_rfc.predict(X_test)\n",
    "\n",
    "\n",
    "\n",
    "CZAS =((time.time() - start_time)/60) ## koniec pomiaru czasu\n",
    "r,C = (df.shape )\n",
    "print('Czas:                ',CZAS)\n",
    "print('Czas na jeden rekor w min.: ',CZAS/r)"
   ]
  },
  {
   "cell_type": "code",
   "execution_count": 24,
   "metadata": {},
   "outputs": [
    {
     "name": "stdout",
     "output_type": "stream",
     "text": [
      "Recall Training data:      0.6609\n",
      "Precision Training data:   0.9212\n",
      "----------------------------------------------------------------------\n",
      "Recall Test data:          0.6379\n",
      "Precision Test data:       0.9024\n",
      "----------------------------------------------------------------------\n",
      "Confusion Matrix Test data\n",
      "[[81  4]\n",
      " [21 37]]\n",
      "----------------------------------------------------------------------\n",
      "              precision    recall  f1-score   support\n",
      "\n",
      "           0       0.79      0.95      0.87        85\n",
      "           1       0.90      0.64      0.75        58\n",
      "\n",
      "    accuracy                           0.83       143\n",
      "   macro avg       0.85      0.80      0.81       143\n",
      "weighted avg       0.84      0.83      0.82       143\n",
      "\n"
     ]
    },
    {
     "data": {
      "image/png": "[encoded data removed]",
      "text/plain": [
       "<Figure size 432x288 with 1 Axes>"
      ]
     },
     "metadata": {
      "needs_background": "light"
     },
     "output_type": "display_data"
    },
    {
     "name": "stdout",
     "output_type": "stream",
     "text": [
      "auc 0.7954361054766733\n"
     ]
    }
   ],
   "source": [
    "Classification_Assessment(CV_rfc ,X_train, y_train, X_test, y_test, y_pred_RFC)"
   ]
  },
  {
   "cell_type": "markdown",
   "metadata": {},
   "source": [
    "Without a doubt, the new CatBoostClassifier model works better (faster and more accurately) than the highly optimized RandomForestClassifier."
   ]
  }
 ],
 "metadata": {
  "kernelspec": {
   "display_name": "Python 3",
   "language": "python",
   "name": "python3"
  },
  "language_info": {
   "codemirror_mode": {
    "name": "ipython",
    "version": 3
   },
   "file_extension": ".py",
   "mimetype": "text/x-python",
   "name": "python",
   "nbconvert_exporter": "python",
   "pygments_lexer": "ipython3",
   "version": "3.7.4"
  }
 },
 "nbformat": 4,
 "nbformat_minor": 2
}
