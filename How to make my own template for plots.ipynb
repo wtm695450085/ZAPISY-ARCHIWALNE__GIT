{
 "cells": [
  {
   "cell_type": "markdown",
   "metadata": {},
   "source": [
    "# How to make my own template for plots"
   ]
  },
  {
   "cell_type": "markdown",
   "metadata": {},
   "source": [
    "Today we learn how to make my own template for plots.\n",
    "I have to confess something. I have a problem with plots, graphics, visualizations. I have no problem with image or with decision what I have to create. I have a problem with realization.\n",
    "In frankly speaking there are so many methods of creating plots in python, I can remember what to use it. Sure, if I could do some more exercises it would be easier for me. Never mind!\n",
    "Fortunately somebody invented computer, who can remember this pretty mess. I decided to create special library of plots. This solution gave me independence.\n",
    "I can make presentation faster because I don't have thought about colors or plot size. Every plot is the same, a have, prepared earlier my own style.\n",
    "Are you convenience? Let's go to do template for plots !\n",
    "\n",
    "Data preparation\n",
    "\n",
    "At the first step we open data and needed libraries. "
   ]
  },
  {
   "cell_type": "code",
   "execution_count": 6,
   "metadata": {},
   "outputs": [
    {
     "data": {
      "text/html": [
       "<div>\n",
       "<style scoped>\n",
       "    .dataframe tbody tr th:only-of-type {\n",
       "        vertical-align: middle;\n",
       "    }\n",
       "\n",
       "    .dataframe tbody tr th {\n",
       "        vertical-align: top;\n",
       "    }\n",
       "\n",
       "    .dataframe thead th {\n",
       "        text-align: right;\n",
       "    }\n",
       "</style>\n",
       "<table border=\"1\" class=\"dataframe\">\n",
       "  <thead>\n",
       "    <tr style=\"text-align: right;\">\n",
       "      <th></th>\n",
       "      <th>year</th>\n",
       "      <th>rank</th>\n",
       "      <th>company</th>\n",
       "      <th>revenue</th>\n",
       "      <th>profit</th>\n",
       "    </tr>\n",
       "  </thead>\n",
       "  <tbody>\n",
       "    <tr>\n",
       "      <th>0</th>\n",
       "      <td>1955</td>\n",
       "      <td>1</td>\n",
       "      <td>General Motors</td>\n",
       "      <td>9823.5</td>\n",
       "      <td>806</td>\n",
       "    </tr>\n",
       "    <tr>\n",
       "      <th>1</th>\n",
       "      <td>1955</td>\n",
       "      <td>2</td>\n",
       "      <td>Exxon Mobil</td>\n",
       "      <td>5661.4</td>\n",
       "      <td>584.8</td>\n",
       "    </tr>\n",
       "    <tr>\n",
       "      <th>2</th>\n",
       "      <td>1955</td>\n",
       "      <td>3</td>\n",
       "      <td>U.S. Steel</td>\n",
       "      <td>3250.4</td>\n",
       "      <td>195.4</td>\n",
       "    </tr>\n",
       "  </tbody>\n",
       "</table>\n",
       "</div>"
      ],
      "text/plain": [
       "   year  rank         company  revenue profit\n",
       "0  1955     1  General Motors   9823.5    806\n",
       "1  1955     2     Exxon Mobil   5661.4  584.8\n",
       "2  1955     3      U.S. Steel   3250.4  195.4"
      ]
     },
     "execution_count": 6,
     "metadata": {},
     "output_type": "execute_result"
    }
   ],
   "source": [
    "import pandas as pd\n",
    "import numpy as np\n",
    "import matplotlib.pyplot as plt\n",
    "## data source: https://s3.amazonaws.com/dq-blog-files/fortune500.csv\n",
    "df = pd.read_csv('c:/1/Fortune500.txt')\n",
    "df.columns = ['year', 'rank', 'company', 'revenue', 'profit']\n",
    "df.head(3)"
   ]
  },
  {
   "cell_type": "markdown",
   "metadata": {},
   "source": [
    "We routinely check how formats have our columns. Turn out we have non numeric data in column: 'profit'. The reason of that may be any words or signs in place of numbers. We have to find out what kind of contamination are there."
   ]
  },
  {
   "cell_type": "code",
   "execution_count": 7,
   "metadata": {},
   "outputs": [
    {
     "data": {
      "text/plain": [
       "year         int64\n",
       "rank         int64\n",
       "company     object\n",
       "revenue    float64\n",
       "profit      object\n",
       "dtype: object"
      ]
     },
     "execution_count": 7,
     "metadata": {},
     "output_type": "execute_result"
    }
   ],
   "source": [
    "df.dtypes"
   ]
  },
  {
   "cell_type": "code",
   "execution_count": 11,
   "metadata": {},
   "outputs": [
    {
     "data": {
      "text/plain": [
       "<bound method IndexOpsMixin.value_counts of 0           806\n",
       "1         584.8\n",
       "2         195.4\n",
       "3         212.6\n",
       "4          19.1\n",
       "5          18.5\n",
       "6           1.6\n",
       "7         182.8\n",
       "8         183.8\n",
       "9         344.4\n",
       "10        132.8\n",
       "11        117.2\n",
       "12         84.6\n",
       "13        226.1\n",
       "14         55.8\n",
       "15        121.1\n",
       "16         37.4\n",
       "17        211.9\n",
       "18         48.1\n",
       "19           37\n",
       "20         91.6\n",
       "21         36.3\n",
       "22         40.5\n",
       "23         89.8\n",
       "24         40.5\n",
       "25         36.2\n",
       "26         52.3\n",
       "27         52.9\n",
       "28         43.7\n",
       "29         76.2\n",
       "          ...  \n",
       "25470     306.4\n",
       "25471     359.9\n",
       "25472     235.8\n",
       "25473    -118.5\n",
       "25474     131.9\n",
       "25475      14.9\n",
       "25476     409.1\n",
       "25477       257\n",
       "25478     137.1\n",
       "25479     -2165\n",
       "25480     215.6\n",
       "25481    -181.9\n",
       "25482     192.4\n",
       "25483     111.6\n",
       "25484       524\n",
       "25485      N.A.\n",
       "25486       188\n",
       "25487     331.2\n",
       "25488      64.9\n",
       "25489        49\n",
       "25490      -458\n",
       "25491       154\n",
       "25492      71.8\n",
       "25493       328\n",
       "25494    -567.6\n",
       "25495       493\n",
       "25496     175.4\n",
       "25497      57.8\n",
       "25498      70.6\n",
       "25499       584\n",
       "Name: profit, Length: 25500, dtype: object>"
      ]
     },
     "execution_count": 11,
     "metadata": {},
     "output_type": "execute_result"
    }
   ],
   "source": [
    "df.profit.value_counts"
   ]
  },
  {
   "cell_type": "markdown",
   "metadata": {},
   "source": [
    "I detected contamination. So I wipe it out and exchange format from str in to float."
   ]
  },
  {
   "cell_type": "code",
   "execution_count": 12,
   "metadata": {},
   "outputs": [],
   "source": [
    "df.loc[df.profit=='N.A.']\n",
    "df.profit.replace('N.A.',np.nan, inplace = True)\n",
    "df = df.dropna(how='any')\n",
    "df['profit'] = df['profit'].apply(pd.to_numeric)"
   ]
  },
  {
   "cell_type": "markdown",
   "metadata": {},
   "source": [
    "Ok, we have data ready to next steps!\n",
    "We do template for plots\n",
    "I prepared template for linear plots. I use them most frequently because I am a financial analyst.\n",
    "This ready for using template I put to my repository.\n",
    "Now we need to have adequate prepared data to put into the template."
   ]
  },
  {
   "cell_type": "code",
   "execution_count": null,
   "metadata": {},
   "outputs": [],
   "source": [
    "def LinearPlot(x, y, ax, title, x_label, y_label):\n",
    "    ax.set_title(title, color='darkred', alpha=1)\n",
    "    ax.set_ylabel(y_label, color='grey', alpha=0.6)\n",
    "    ax.set_xlabel(x_label, color='grey', alpha=0.6)\n",
    "    ax.plot(x, y, color='black', alpha=0.6, linestyle='dashed')\n",
    "    ax.grid(linewidth=0.85, alpha=0.2)\n",
    "    ax.margins(x=0, y=0)"
   ]
  },
  {
   "cell_type": "markdown",
   "metadata": {},
   "source": [
    "# Pivot table is the best"
   ]
  },
  {
   "cell_type": "markdown",
   "metadata": {},
   "source": [
    "To have good linear plot we need three things: x arrow, y arrow and data.\n",
    "Additionally, a title and descriptions of axes could be useful.\n",
    "Now we create pivot table, next exchange it into dataframe.\n",
    "Next easily query I separate x and y and data."
   ]
  },
  {
   "cell_type": "code",
   "execution_count": 14,
   "metadata": {},
   "outputs": [],
   "source": [
    "Ewa = df.pivot_table(index='year', values=['revenue', 'profit'], aggfunc='mean')\n",
    "df2 = Ewa.reset_index()\n",
    "\n",
    "x = df2.year\n",
    "y = df2.profit\n",
    "title = 'Profit fortune500'\n",
    "y_label = 'Profit (millions)'\n",
    "x_label = 'Years'"
   ]
  },
  {
   "cell_type": "markdown",
   "metadata": {},
   "source": [
    "# Use template"
   ]
  },
  {
   "cell_type": "code",
   "execution_count": 15,
   "metadata": {},
   "outputs": [
    {
     "data": {
      "image/png": "[encoded data removed]",
      "text/plain": [
       "<Figure size 432x144 with 1 Axes>"
      ]
     },
     "metadata": {
      "needs_background": "light"
     },
     "output_type": "display_data"
    }
   ],
   "source": [
    "fig, ax = plt.subplots(figsize=(6, 2))\n",
    "LinearPlot(x, y, ax, title, x_label, y_label)"
   ]
  },
  {
   "cell_type": "code",
   "execution_count": 17,
   "metadata": {},
   "outputs": [
    {
     "data": {
      "image/png": "[encoded data removed]",
      "text/plain": [
       "<Figure size 432x144 with 1 Axes>"
      ]
     },
     "metadata": {
      "needs_background": "light"
     },
     "output_type": "display_data"
    }
   ],
   "source": [
    "x = df2.year\n",
    "y = df2.revenue\n",
    "title = 'Revenue fortune500'\n",
    "y_label = 'Profit (millions)'\n",
    "x_label = 'Years'\n",
    "\n",
    "fig, ax = plt.subplots(figsize=(6, 2))\n",
    "LinearPlot(x, y, ax, title, x_label, y_label)"
   ]
  },
  {
   "cell_type": "markdown",
   "metadata": {},
   "source": [
    "I hope this is good solution to do template for plots!"
   ]
  }
 ],
 "metadata": {
  "kernelspec": {
   "display_name": "Python 3",
   "language": "python",
   "name": "python3"
  },
  "language_info": {
   "codemirror_mode": {
    "name": "ipython",
    "version": 3
   },
   "file_extension": ".py",
   "mimetype": "text/x-python",
   "name": "python",
   "nbconvert_exporter": "python",
   "pygments_lexer": "ipython3",
   "version": "3.7.3"
  }
 },
 "nbformat": 4,
 "nbformat_minor": 2
}
