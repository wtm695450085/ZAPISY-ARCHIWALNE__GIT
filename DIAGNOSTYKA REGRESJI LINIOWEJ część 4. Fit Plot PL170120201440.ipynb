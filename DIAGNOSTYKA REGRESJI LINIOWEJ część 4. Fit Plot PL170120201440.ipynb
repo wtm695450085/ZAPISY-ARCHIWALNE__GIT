{
 "cells": [
  {
   "cell_type": "markdown",
   "metadata": {},
   "source": [
    "# DIAGNOSTYKA REGRESJI LINIOWEJ część 4. Fit Plot \n",
    "\n",
    "14:15\n",
    "\n",
    "### Guerry, Essay on the Moral Statistics of France (1833)\n",
    "\n",
    "Source: http://datavis.ca/gallery/guerry/guerrydat.html"
   ]
  },
  {
   "cell_type": "markdown",
   "metadata": {},
   "source": [
    "\n",
    "1. <span style=\"color:blue\">dept</span> wydział\tNum\tID działu Standardowe numery dla działów, z wyjątkiem Korsyki (200).\n",
    "2. <span style=\"color:blue\">Region</span> Region\tChar (1)\tRegion Region Francji („N” = „Północ”, „S” = „Południe”, „E” = „Wschód”, „W” = „Zachód”, „C” = „Środek”). Korsyka ma kod „” (brak, NA)\n",
    "3.\t<span style=\"color:blue\">Department</span> Departament\tChar (25)\tNazwa departamentu Nazwy departamentów są nazywane zgodnie z użyciem w 1830 roku. Zobacz depts.txt, aby uzyskać alternatywne kodowanie nazw departamentów.\n",
    "4.\t<span style=\"color:blue\">Crime_pers</span> Crime_pers\tNum\tMuzyka pop. za przestępstwa przeciwko osobom Źródło: A2 (Compte général, 1825-1830)\n",
    "5.\t<span style=\"color:blue\">Crime_prop</span> Crime_prop\tNum\tMuzyka pop. za przestępstwo przeciwko mieniu Źródło: A2 (Compte général, 1825-1830)\n",
    "6.\t<span style=\"color:blue\">Literacy</span> Alfabetyzacja\tNum\tProcent odczytu i zapisu Procent poborowych wojskowych, którzy potrafią czytać i pisać Źródło: A2\n",
    "7.\t<span style=\"color:blue\">Donations</span> Darowizny\tNum\tDarowizny dla biednych Źródło: A2 (Bulletin des lois)\n",
    "8.\t<span style=\"color:blue\">Infants</span> Niemowlęta\tNum\tMuzyka pop. na nielegalne urodzenie Źródło: A2 (Bureaau des Longitudes, 1817-1821)\n",
    "9.\t<span style=\"color:blue\">Suicides</span> Samobójstwa\tNum\tMuzyka pop. na samobójstwo Źródło: A2 (Compte général, 1827-1830)\n",
    "10.\t<span style=\"color:blue\">MainCity</span> Główne Miasto\tChar (5)\tRozmiar głównego miasta Rozmiar głównego miasta („1: Sm”, „2: Med”, „3: Lg”), stosowany jako surogat dla gęstości zalewania. Duże odnosi się do górnej 10, małe do dolnej 10; wszystkie pozostałe są sklasyfikowane jako średnie. Źródło: A1\n",
    "11.\t<span style=\"color:blue\">Wealth</span> Bogactwo\tRanga\tPodatek per capita od nieruchomości osobistych Indeks rankingowy oparty na podatkach od nieruchomości osobistych i ruchomych na mieszkańca Źródło: A1\n",
    "12.\t<span style=\"color:blue\">Commerce</span> Handel\tRanga\tHandel i przemysł Handel i przemysł mierzony rangą liczby patentów / populacji Źródło: A1\n",
    "13.\t<span style=\"color:blue\">Clergy</span> Kler\tRanga\tDystrybucja duchowieństwa Dystrybucja duchowieństwa mierzona stopniem liczby księży katolickich w czynnej służbie / ludności Źródło: A1 (Almanach officiel du clergy, 1829)\n",
    "14.\t<span style=\"color:blue\">Crime_parents</span> Kryminalni rodzice\tRanga\tPrzestępstwa przeciwko rodzicom Przestępstwa przeciwko rodzicom, mierzone stopniem stosunku przestępstw przeciwko rodzicom do wszystkich przestępstw - Średnia z lat 1825–1830 Źródło: A1 (Compte général)\n",
    "15.\t<span style=\"color:blue\">Infanticide</span> Dzieciobójca\tRanga\tLiczba dzieciobójstw na jednego mieszkańca Wskaźnik wskaźnikowy liczby dzieciobójstw do liczby ludności - Średnia z lat 1825–1830 Źródło: A1 (Compte général)\n",
    "16.\t<span style=\"color:blue\">Donation_clergy</span> Duchowieństwo\tRanga\tDarowizny dla duchowieństwa Wskaźniki rankingowe liczby zapisów i darowizn między żywymi dla ludności - Średnia dla lat 1815–1824 Źródło: A1 (Bull. Des lois, ordunn. D'autorization)\n",
    "17.\t<span style=\"color:blue\">Lottery</span> Loteria\tRanga Zakład per capita w Royal Lottery Ranking rankingowy wpływów z zakładów loterii królewskiej do liczby ludności --- Średnia z lat 1822–1826 Źródło: A1 (Compte rendus par le ministre des finances)\n",
    "18.\t<span style=\"color:blue\">Desertion</span> Dezercja\tRanga\tDezercja wojskowa Desercja wojskowa, stosunek liczby młodych żołnierzy oskarżonych o dezercję do siły kontyngentu wojskowego, minus deficyt spowodowany niewystarczalnością dostępnych polan - średnia z lat 1825–1827. Źródło: A1 (Compte du ministere du guerre, 1829 etat V)\n",
    "19.\t<span style=\"color:blue\">Instruction</span> Instrukcja\tRanga\tRankingi instrukcji zapisane z mapy instrukcji Guerry'ego. Uwaga: jest to odwrotnie związane z umiejętnością czytania i pisania (zgodnie z definicją tutaj).\n",
    "20.\t<span style=\"color:blue\">Prostitutes</span> Prostytutki\tNum\tProstytutki w Paryżu Liczba prostytutek zarejestrowanych w Paryżu w latach 1816–1834, sklasyfikowanych według departamentu ich urodzenia Źródło: Parent-Duchatelet (1836), De la prostitution en Paris\n",
    "21.\t<span style=\"color:blue\">Distance</span> Dystans\tNum\tOdległość do Paryża (km) Odległość każdego centroidu departamentu do centroidu Sekwany (Paryż) Źródło: obliczone na podstawie centroidów departamentów\n",
    "22.\t<span style=\"color:blue\">Area</span> Powierzchnia\tNum\tObszar (1000 km^2) Źródło: Angeville (1836)\n",
    "23.\t<span style=\"color:blue\">Pop1831</span> Pop1831\tNum\t1831 populacja ludności w 1831 roku, pochodzi z Angeville (1836), Essai sur la Statistique de la Populacja français w 1000s."
   ]
  },
  {
   "cell_type": "code",
   "execution_count": 1,
   "metadata": {},
   "outputs": [
    {
     "data": {
      "text/html": [
       "<div>\n",
       "<style scoped>\n",
       "    .dataframe tbody tr th:only-of-type {\n",
       "        vertical-align: middle;\n",
       "    }\n",
       "\n",
       "    .dataframe tbody tr th {\n",
       "        vertical-align: top;\n",
       "    }\n",
       "\n",
       "    .dataframe thead th {\n",
       "        text-align: right;\n",
       "    }\n",
       "</style>\n",
       "<table border=\"1\" class=\"dataframe\">\n",
       "  <thead>\n",
       "    <tr style=\"text-align: right;\">\n",
       "      <th></th>\n",
       "      <th>dept</th>\n",
       "      <th>Region</th>\n",
       "      <th>Crime_pers</th>\n",
       "      <th>Crime_prop</th>\n",
       "      <th>Literacy</th>\n",
       "      <th>Donations</th>\n",
       "      <th>Infants</th>\n",
       "      <th>Suicides</th>\n",
       "      <th>MainCity</th>\n",
       "      <th>Wealth</th>\n",
       "      <th>...</th>\n",
       "      <th>Crime_parents</th>\n",
       "      <th>Infanticide</th>\n",
       "      <th>Donation_clergy</th>\n",
       "      <th>Lottery</th>\n",
       "      <th>Desertion</th>\n",
       "      <th>Instruction</th>\n",
       "      <th>Prostitutes</th>\n",
       "      <th>Distance</th>\n",
       "      <th>Area</th>\n",
       "      <th>Pop1831</th>\n",
       "    </tr>\n",
       "    <tr>\n",
       "      <th>Department</th>\n",
       "      <th></th>\n",
       "      <th></th>\n",
       "      <th></th>\n",
       "      <th></th>\n",
       "      <th></th>\n",
       "      <th></th>\n",
       "      <th></th>\n",
       "      <th></th>\n",
       "      <th></th>\n",
       "      <th></th>\n",
       "      <th></th>\n",
       "      <th></th>\n",
       "      <th></th>\n",
       "      <th></th>\n",
       "      <th></th>\n",
       "      <th></th>\n",
       "      <th></th>\n",
       "      <th></th>\n",
       "      <th></th>\n",
       "      <th></th>\n",
       "      <th></th>\n",
       "    </tr>\n",
       "  </thead>\n",
       "  <tbody>\n",
       "    <tr>\n",
       "      <th>Ain</th>\n",
       "      <td>1</td>\n",
       "      <td>E</td>\n",
       "      <td>28870</td>\n",
       "      <td>15890</td>\n",
       "      <td>37</td>\n",
       "      <td>5098</td>\n",
       "      <td>33120</td>\n",
       "      <td>35039</td>\n",
       "      <td>2:Med</td>\n",
       "      <td>73</td>\n",
       "      <td>...</td>\n",
       "      <td>71</td>\n",
       "      <td>60</td>\n",
       "      <td>69</td>\n",
       "      <td>41</td>\n",
       "      <td>55</td>\n",
       "      <td>46</td>\n",
       "      <td>13</td>\n",
       "      <td>218.372</td>\n",
       "      <td>5762</td>\n",
       "      <td>346.03</td>\n",
       "    </tr>\n",
       "    <tr>\n",
       "      <th>Aisne</th>\n",
       "      <td>2</td>\n",
       "      <td>N</td>\n",
       "      <td>26226</td>\n",
       "      <td>5521</td>\n",
       "      <td>51</td>\n",
       "      <td>8901</td>\n",
       "      <td>14572</td>\n",
       "      <td>12831</td>\n",
       "      <td>2:Med</td>\n",
       "      <td>22</td>\n",
       "      <td>...</td>\n",
       "      <td>4</td>\n",
       "      <td>82</td>\n",
       "      <td>36</td>\n",
       "      <td>38</td>\n",
       "      <td>82</td>\n",
       "      <td>24</td>\n",
       "      <td>327</td>\n",
       "      <td>65.945</td>\n",
       "      <td>7369</td>\n",
       "      <td>513.00</td>\n",
       "    </tr>\n",
       "    <tr>\n",
       "      <th>Allier</th>\n",
       "      <td>3</td>\n",
       "      <td>C</td>\n",
       "      <td>26747</td>\n",
       "      <td>7925</td>\n",
       "      <td>13</td>\n",
       "      <td>10973</td>\n",
       "      <td>17044</td>\n",
       "      <td>114121</td>\n",
       "      <td>2:Med</td>\n",
       "      <td>61</td>\n",
       "      <td>...</td>\n",
       "      <td>46</td>\n",
       "      <td>42</td>\n",
       "      <td>76</td>\n",
       "      <td>66</td>\n",
       "      <td>16</td>\n",
       "      <td>85</td>\n",
       "      <td>34</td>\n",
       "      <td>161.927</td>\n",
       "      <td>7340</td>\n",
       "      <td>298.26</td>\n",
       "    </tr>\n",
       "    <tr>\n",
       "      <th>Basses-Alpes</th>\n",
       "      <td>4</td>\n",
       "      <td>E</td>\n",
       "      <td>12935</td>\n",
       "      <td>7289</td>\n",
       "      <td>46</td>\n",
       "      <td>2733</td>\n",
       "      <td>23018</td>\n",
       "      <td>14238</td>\n",
       "      <td>1:Sm</td>\n",
       "      <td>76</td>\n",
       "      <td>...</td>\n",
       "      <td>70</td>\n",
       "      <td>12</td>\n",
       "      <td>37</td>\n",
       "      <td>80</td>\n",
       "      <td>32</td>\n",
       "      <td>29</td>\n",
       "      <td>2</td>\n",
       "      <td>351.399</td>\n",
       "      <td>6925</td>\n",
       "      <td>155.90</td>\n",
       "    </tr>\n",
       "  </tbody>\n",
       "</table>\n",
       "<p>4 rows × 22 columns</p>\n",
       "</div>"
      ],
      "text/plain": [
       "              dept Region  Crime_pers  Crime_prop  Literacy  Donations  \\\n",
       "Department                                                               \n",
       "Ain              1      E       28870       15890        37       5098   \n",
       "Aisne            2      N       26226        5521        51       8901   \n",
       "Allier           3      C       26747        7925        13      10973   \n",
       "Basses-Alpes     4      E       12935        7289        46       2733   \n",
       "\n",
       "              Infants  Suicides MainCity  Wealth  ...  Crime_parents  \\\n",
       "Department                                        ...                  \n",
       "Ain             33120     35039    2:Med      73  ...             71   \n",
       "Aisne           14572     12831    2:Med      22  ...              4   \n",
       "Allier          17044    114121    2:Med      61  ...             46   \n",
       "Basses-Alpes    23018     14238     1:Sm      76  ...             70   \n",
       "\n",
       "              Infanticide  Donation_clergy  Lottery  Desertion  Instruction  \\\n",
       "Department                                                                    \n",
       "Ain                    60               69       41         55           46   \n",
       "Aisne                  82               36       38         82           24   \n",
       "Allier                 42               76       66         16           85   \n",
       "Basses-Alpes           12               37       80         32           29   \n",
       "\n",
       "              Prostitutes  Distance  Area  Pop1831  \n",
       "Department                                          \n",
       "Ain                    13   218.372  5762   346.03  \n",
       "Aisne                 327    65.945  7369   513.00  \n",
       "Allier                 34   161.927  7340   298.26  \n",
       "Basses-Alpes            2   351.399  6925   155.90  \n",
       "\n",
       "[4 rows x 22 columns]"
      ]
     },
     "execution_count": 1,
     "metadata": {},
     "output_type": "execute_result"
    }
   ],
   "source": [
    "import pandas as pd\n",
    "\n",
    "df = pd.read_csv('c:/1/Guerry.csv', index_col='Department')\n",
    "del df['Unnamed: 0']\n",
    "df.head(4)"
   ]
  },
  {
   "cell_type": "code",
   "execution_count": 2,
   "metadata": {},
   "outputs": [
    {
     "data": {
      "text/plain": [
       "Text(0, 0.5, 'Zmienne nezależne ciągłe')"
      ]
     },
     "execution_count": 2,
     "metadata": {},
     "output_type": "execute_result"
    }
   ],
   "source": [
    "import matplotlib.pyplot as plt\n",
    "\n",
    "CORREL = df.corr().sort_values('Wealth')\n",
    "\n",
    "plt.figure(figsize=(10,6))\n",
    "CORREL['Wealth'].plot(kind='barh', color='red')\n",
    "plt.title('Korelacja ze zmienną wynikową', fontsize=20)\n",
    "plt.xlabel('Poziom korelacji')\n",
    "plt.ylabel('Zmienne nezależne ciągłe')"
   ]
  },
  {
   "cell_type": "markdown",
   "metadata": {},
   "source": [
    "Sprawdziliśmy już w części drugiej kompletność danych oraz format zmiennych dla zbioru: Guerry.csv.\n",
    "\n",
    "### Teraz będę budował regresjię wieloczynnikową. \n",
    " - Zmienną zależną będzie poziom lokalnej zamożności mieszkańców ('Wealth')\n",
    " - zmiennymi opisującymi będą: prostytucja (Prostitutes) - wskazująca na istnienie lokalnego nadmiaru siły roboczej i braku zajęcia, poziom darowizn na kościół ('Donation_clergy'), oraz poziom lokalnego przemysłu i handlu ('Commerce').\n"
   ]
  },
  {
   "cell_type": "code",
   "execution_count": 3,
   "metadata": {},
   "outputs": [
    {
     "name": "stderr",
     "output_type": "stream",
     "text": [
      "C:\\ProgramData\\Anaconda3\\lib\\site-packages\\numpy\\core\\fromnumeric.py:2389: FutureWarning: Method .ptp is deprecated and will be removed in a future version. Use numpy.ptp instead.\n",
      "  return ptp(axis=axis, out=out, **kwargs)\n"
     ]
    },
    {
     "data": {
      "text/html": [
       "<table class=\"simpletable\">\n",
       "<caption>OLS Regression Results</caption>\n",
       "<tr>\n",
       "  <th>Dep. Variable:</th>         <td>Wealth</td>      <th>  R-squared:         </th> <td>   0.335</td>\n",
       "</tr>\n",
       "<tr>\n",
       "  <th>Model:</th>                   <td>OLS</td>       <th>  Adj. R-squared:    </th> <td>   0.311</td>\n",
       "</tr>\n",
       "<tr>\n",
       "  <th>Method:</th>             <td>Least Squares</td>  <th>  F-statistic:       </th> <td>   13.78</td>\n",
       "</tr>\n",
       "<tr>\n",
       "  <th>Date:</th>             <td>Fri, 17 Jan 2020</td> <th>  Prob (F-statistic):</th> <td>2.33e-07</td>\n",
       "</tr>\n",
       "<tr>\n",
       "  <th>Time:</th>                 <td>14:39:43</td>     <th>  Log-Likelihood:    </th> <td> -380.69</td>\n",
       "</tr>\n",
       "<tr>\n",
       "  <th>No. Observations:</th>      <td>    86</td>      <th>  AIC:               </th> <td>   769.4</td>\n",
       "</tr>\n",
       "<tr>\n",
       "  <th>Df Residuals:</th>          <td>    82</td>      <th>  BIC:               </th> <td>   779.2</td>\n",
       "</tr>\n",
       "<tr>\n",
       "  <th>Df Model:</th>              <td>     3</td>      <th>                     </th>     <td> </td>   \n",
       "</tr>\n",
       "<tr>\n",
       "  <th>Covariance Type:</th>      <td>nonrobust</td>    <th>                     </th>     <td> </td>   \n",
       "</tr>\n",
       "</table>\n",
       "<table class=\"simpletable\">\n",
       "<tr>\n",
       "         <td></td>            <th>coef</th>     <th>std err</th>      <th>t</th>      <th>P>|t|</th>  <th>[0.025</th>    <th>0.975]</th>  \n",
       "</tr>\n",
       "<tr>\n",
       "  <th>const</th>           <td>   17.3567</td> <td>    5.772</td> <td>    3.007</td> <td> 0.003</td> <td>    5.875</td> <td>   28.838</td>\n",
       "</tr>\n",
       "<tr>\n",
       "  <th>Commerce</th>        <td>    0.3788</td> <td>    0.095</td> <td>    4.001</td> <td> 0.000</td> <td>    0.190</td> <td>    0.567</td>\n",
       "</tr>\n",
       "<tr>\n",
       "  <th>Prostitutes</th>     <td>   -0.0099</td> <td>    0.004</td> <td>   -2.204</td> <td> 0.030</td> <td>   -0.019</td> <td>   -0.001</td>\n",
       "</tr>\n",
       "<tr>\n",
       "  <th>Donation_clergy</th> <td>    0.2605</td> <td>    0.092</td> <td>    2.846</td> <td> 0.006</td> <td>    0.078</td> <td>    0.443</td>\n",
       "</tr>\n",
       "</table>\n",
       "<table class=\"simpletable\">\n",
       "<tr>\n",
       "  <th>Omnibus:</th>       <td> 2.237</td> <th>  Durbin-Watson:     </th> <td>   1.588</td>\n",
       "</tr>\n",
       "<tr>\n",
       "  <th>Prob(Omnibus):</th> <td> 0.327</td> <th>  Jarque-Bera (JB):  </th> <td>   1.776</td>\n",
       "</tr>\n",
       "<tr>\n",
       "  <th>Skew:</th>          <td> 0.194</td> <th>  Prob(JB):          </th> <td>   0.412</td>\n",
       "</tr>\n",
       "<tr>\n",
       "  <th>Kurtosis:</th>      <td> 2.412</td> <th>  Cond. No.          </th> <td>1.39e+03</td>\n",
       "</tr>\n",
       "</table><br/><br/>Warnings:<br/>[1] Standard Errors assume that the covariance matrix of the errors is correctly specified.<br/>[2] The condition number is large, 1.39e+03. This might indicate that there are<br/>strong multicollinearity or other numerical problems."
      ],
      "text/plain": [
       "<class 'statsmodels.iolib.summary.Summary'>\n",
       "\"\"\"\n",
       "                            OLS Regression Results                            \n",
       "==============================================================================\n",
       "Dep. Variable:                 Wealth   R-squared:                       0.335\n",
       "Model:                            OLS   Adj. R-squared:                  0.311\n",
       "Method:                 Least Squares   F-statistic:                     13.78\n",
       "Date:                Fri, 17 Jan 2020   Prob (F-statistic):           2.33e-07\n",
       "Time:                        14:39:43   Log-Likelihood:                -380.69\n",
       "No. Observations:                  86   AIC:                             769.4\n",
       "Df Residuals:                      82   BIC:                             779.2\n",
       "Df Model:                           3                                         \n",
       "Covariance Type:            nonrobust                                         \n",
       "===================================================================================\n",
       "                      coef    std err          t      P>|t|      [0.025      0.975]\n",
       "-----------------------------------------------------------------------------------\n",
       "const              17.3567      5.772      3.007      0.003       5.875      28.838\n",
       "Commerce            0.3788      0.095      4.001      0.000       0.190       0.567\n",
       "Prostitutes        -0.0099      0.004     -2.204      0.030      -0.019      -0.001\n",
       "Donation_clergy     0.2605      0.092      2.846      0.006       0.078       0.443\n",
       "==============================================================================\n",
       "Omnibus:                        2.237   Durbin-Watson:                   1.588\n",
       "Prob(Omnibus):                  0.327   Jarque-Bera (JB):                1.776\n",
       "Skew:                           0.194   Prob(JB):                        0.412\n",
       "Kurtosis:                       2.412   Cond. No.                     1.39e+03\n",
       "==============================================================================\n",
       "\n",
       "Warnings:\n",
       "[1] Standard Errors assume that the covariance matrix of the errors is correctly specified.\n",
       "[2] The condition number is large, 1.39e+03. This might indicate that there are\n",
       "strong multicollinearity or other numerical problems.\n",
       "\"\"\""
      ]
     },
     "execution_count": 3,
     "metadata": {},
     "output_type": "execute_result"
    }
   ],
   "source": [
    "from statsmodels.formula.api import ols\n",
    "import statsmodels.api as sm\n",
    "\n",
    "X = df[['Commerce','Prostitutes','Donation_clergy']]\n",
    "y = df['Wealth']\n",
    "\n",
    "model = sm.OLS(y, sm.add_constant(X))\n",
    "model_fit = model.fit()\n",
    "\n",
    "model_fit.summary()"
   ]
  },
  {
   "cell_type": "markdown",
   "metadata": {},
   "source": [
    "## Przykład dobrej odpowiedzi modelu: zmienna 'Donation_clergy'"
   ]
  },
  {
   "cell_type": "code",
   "execution_count": 4,
   "metadata": {},
   "outputs": [
    {
     "data": {
      "image/png": "[encoded data removed]",
      "text/plain": [
       "<Figure size 864x576 with 1 Axes>"
      ]
     },
     "metadata": {
      "needs_background": "light"
     },
     "output_type": "display_data"
    }
   ],
   "source": [
    "fig, ax = plt.subplots(figsize=(12, 8))\n",
    "fig = sm.graphics.plot_fit(model_fit, \"Donation_clergy\", ax=ax)"
   ]
  },
  {
   "cell_type": "code",
   "execution_count": 5,
   "metadata": {},
   "outputs": [
    {
     "data": {
      "text/plain": [
       "<matplotlib.axes._subplots.AxesSubplot at 0x16115308ac8>"
      ]
     },
     "execution_count": 5,
     "metadata": {},
     "output_type": "execute_result"
    },
    {
     "data": {
      "image/png": "[encoded data removed]",
      "text/plain": [
       "<Figure size 432x288 with 1 Axes>"
      ]
     },
     "metadata": {
      "needs_background": "light"
     },
     "output_type": "display_data"
    }
   ],
   "source": [
    "import seaborn as sns\n",
    "\n",
    "sns.regplot(x='Donation_clergy', y='Wealth', data=df)"
   ]
  },
  {
   "cell_type": "markdown",
   "metadata": {},
   "source": [
    "## Przykład złej odpowiedzi modelu: zmienna 'Prostitutes'\n"
   ]
  },
  {
   "cell_type": "code",
   "execution_count": 6,
   "metadata": {},
   "outputs": [
    {
     "data": {
      "image/png": "[encoded data removed]",
      "text/plain": [
       "<Figure size 864x576 with 1 Axes>"
      ]
     },
     "metadata": {
      "needs_background": "light"
     },
     "output_type": "display_data"
    }
   ],
   "source": [
    "fig, ax = plt.subplots(figsize=(12, 8))\n",
    "fig = sm.graphics.plot_fit(model_fit, \"Prostitutes\", ax=ax)"
   ]
  },
  {
   "cell_type": "code",
   "execution_count": 7,
   "metadata": {},
   "outputs": [
    {
     "data": {
      "text/plain": [
       "<matplotlib.axes._subplots.AxesSubplot at 0x16115818b00>"
      ]
     },
     "execution_count": 7,
     "metadata": {},
     "output_type": "execute_result"
    },
    {
     "data": {
      "image/png": "[encoded data removed]",
      "text/plain": [
       "<Figure size 432x288 with 1 Axes>"
      ]
     },
     "metadata": {
      "needs_background": "light"
     },
     "output_type": "display_data"
    }
   ],
   "source": [
    "sns.regplot(x='Prostitutes', y='Wealth', data=df)"
   ]
  }
 ],
 "metadata": {
  "kernelspec": {
   "display_name": "Python 3",
   "language": "python",
   "name": "python3"
  },
  "language_info": {
   "codemirror_mode": {
    "name": "ipython",
    "version": 3
   },
   "file_extension": ".py",
   "mimetype": "text/x-python",
   "name": "python",
   "nbconvert_exporter": "python",
   "pygments_lexer": "ipython3",
   "version": "3.6.8"
  }
 },
 "nbformat": 4,
 "nbformat_minor": 2
}
