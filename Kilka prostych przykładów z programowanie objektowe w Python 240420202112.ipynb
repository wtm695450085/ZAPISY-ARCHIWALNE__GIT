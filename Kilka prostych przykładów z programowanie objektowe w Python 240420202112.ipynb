{
 "cells": [
  {
   "cell_type": "markdown",
   "metadata": {},
   "source": [
    "# Kilka prostych przykładów z programowanie objektowe w Python"
   ]
  },
  {
   "cell_type": "markdown",
   "metadata": {},
   "source": [
    "### Koty"
   ]
  },
  {
   "cell_type": "code",
   "execution_count": 1,
   "metadata": {},
   "outputs": [],
   "source": [
    "class kolor_kota(object): \n",
    "    def __init__(self, imię, kolor): \n",
    "        self.imię = imię \n",
    "        self.kolor = kolor\n",
    "    "
   ]
  },
  {
   "cell_type": "code",
   "execution_count": 2,
   "metadata": {},
   "outputs": [],
   "source": [
    "nk1 = kolor_kota('Kremówka', 'ruda') \n",
    "nk2 = kolor_kota('Helen', 'biało-szary')"
   ]
  },
  {
   "cell_type": "code",
   "execution_count": 3,
   "metadata": {},
   "outputs": [
    {
     "name": "stdout",
     "output_type": "stream",
     "text": [
      "imię nk1:  Kremówka\n",
      "kolor nk1: ruda\n",
      "imię nk2:  Helen\n",
      "kolor nk2: biało-szary\n"
     ]
    }
   ],
   "source": [
    "print('imię nk1: ',nk1.imię) \n",
    "print('kolor nk1:',nk1.kolor) \n",
    "print('imię nk2: ', nk2. imię) \n",
    "print('kolor nk2:', nk2.kolor)"
   ]
  },
  {
   "cell_type": "markdown",
   "metadata": {},
   "source": [
    "### Dane kotów"
   ]
  },
  {
   "cell_type": "code",
   "execution_count": 4,
   "metadata": {},
   "outputs": [],
   "source": [
    "class Dane_kotów(object): \n",
    "    def __init__(self, nazwa, kolor, rok, miejsce_urodzenia):\n",
    "        self.nazwa = nazwa \n",
    "        self.kolor = kolor \n",
    "        self.rok = rok \n",
    "        self.miejsce_urodzenia = miejsce_urodzenia "
   ]
  },
  {
   "cell_type": "code",
   "execution_count": 5,
   "metadata": {},
   "outputs": [
    {
     "name": "stdout",
     "output_type": "stream",
     "text": [
      "2014\n"
     ]
    }
   ],
   "source": [
    "k1 = Dane_kotów('Helen', 'biało-czarny',2014,'Pruszków') \n",
    "print(k1.rok)"
   ]
  },
  {
   "cell_type": "markdown",
   "metadata": {},
   "source": [
    "### Psy"
   ]
  },
  {
   "cell_type": "code",
   "execution_count": 6,
   "metadata": {},
   "outputs": [],
   "source": [
    "class Psy(object):\n",
    "    def __init__(self, imię, kolor):\n",
    "             self.imię = imię\n",
    "             self.kolor = kolor   "
   ]
  },
  {
   "cell_type": "code",
   "execution_count": 7,
   "metadata": {},
   "outputs": [
    {
     "name": "stdout",
     "output_type": "stream",
     "text": [
      "Daks\n",
      "biały\n"
     ]
    }
   ],
   "source": [
    "p1 = Psy('Daks', 'rudy')      \n",
    "p2 = Psy('Foker', 'biały')\n",
    "print(p1.imię)\n",
    "print(p2.kolor)"
   ]
  },
  {
   "cell_type": "markdown",
   "metadata": {},
   "source": [
    "### Traktory"
   ]
  },
  {
   "cell_type": "code",
   "execution_count": 8,
   "metadata": {},
   "outputs": [],
   "source": [
    "class Traktory(object):\n",
    "    def __init__(self, model, kolor, producent, udźwig):\n",
    "        self.kolor = kolor \n",
    "        self.producent = producent \n",
    "        self.udźwig = udźwig \n",
    "        self.model = model\n",
    "     \n",
    "    def start(self): \n",
    "        print(\"Jedzie\")\n",
    "    \n",
    "    def stop(self): \n",
    "        print(\"Staje\")\n",
    "        \n",
    "    def przyspieszenie(self): \n",
    "        print(\"przyspieszenie...Przyśpieszenie działa\")\n",
    "    \n",
    "    def skrzynia_biegów(self, Typ_skrzyni): \n",
    "        print(\"Praca_biegów\")\n",
    "        \n",
    "        \n",
    "Traktor1 = Traktory(\"Ursus C-152\",\"Ursus\", 'Czerwony', '487kNT' )    "
   ]
  },
  {
   "cell_type": "code",
   "execution_count": 9,
   "metadata": {},
   "outputs": [
    {
     "name": "stdout",
     "output_type": "stream",
     "text": [
      "Staje\n",
      "stop:   None\n",
      "udźwig: 487kNT\n"
     ]
    }
   ],
   "source": [
    "print('stop:  ',Traktor1.stop()) #<-- funkja stop działa\n",
    "print('udźwig:',Traktor1.udźwig) #<-- Atrybut __init__ działa"
   ]
  },
  {
   "cell_type": "markdown",
   "metadata": {},
   "source": [
    "### Działka"
   ]
  },
  {
   "cell_type": "code",
   "execution_count": 10,
   "metadata": {},
   "outputs": [],
   "source": [
    "class Dzialka: \n",
    "    \n",
    "    def __init__(self, dlugosc, szerokosc, koszt_metra=0): \n",
    "        self.dlugosc = dlugosc \n",
    "        self.szerokosc = szerokosc \n",
    "        self.koszt_metra = koszt_metra\n",
    "        \n",
    "    def obwod(self): \n",
    "        return 2 * (self.dlugosc + self.szerokosc) \n",
    "        \n",
    "    def powierzchnia(self): \n",
    "        return self.dlugosc * self.szerokosc\n",
    "        \n",
    "    def cena(self): \n",
    "        area = self.powierzchnia() \n",
    "        return (area * self.koszt_metra)/1000\n",
    "        \n",
    "        "
   ]
  },
  {
   "cell_type": "code",
   "execution_count": 11,
   "metadata": {},
   "outputs": [
    {
     "name": "stdout",
     "output_type": "stream",
     "text": [
      "Obwód działki w konstancinie: 1100\n",
      "Powierzchnia działki w konstancinie: 51600 m^2\n",
      "Cena działki w konstancinie: tyś. zł 9546.0\n"
     ]
    }
   ],
   "source": [
    "Konstancin = Dzialka(430, 120, 185)\n",
    "\n",
    "print(\"Obwód działki w konstancinie: %s\" % Konstancin.obwod()) \n",
    "print(\"Powierzchnia działki w konstancinie: %s m^2\" % (Konstancin.powierzchnia()))\n",
    "print(\"Cena działki w konstancinie: tyś. zł %s\" % (Konstancin.cena()))\n"
   ]
  },
  {
   "cell_type": "markdown",
   "metadata": {},
   "source": [
    "### Wykres"
   ]
  },
  {
   "cell_type": "code",
   "execution_count": 12,
   "metadata": {},
   "outputs": [],
   "source": [
    "class MyDataClass:\n",
    "    \n",
    "    def __init__(self, data, time):\n",
    "        self.data = data\n",
    "        self.time = time\n",
    "    \n",
    "    def plot(self): \n",
    "        plt.plot(self.time, self.data)\n",
    "\n",
    "import matplotlib.pyplot as plt\n"
   ]
  },
  {
   "cell_type": "code",
   "execution_count": 13,
   "metadata": {},
   "outputs": [],
   "source": [
    "data = [1,4,5,7,12,5]\n",
    "time = [1,2,3,4,5,6]\n",
    "kot = MyDataClass(data,time)"
   ]
  },
  {
   "cell_type": "code",
   "execution_count": 14,
   "metadata": {},
   "outputs": [
    {
     "data": {
      "image/png": "[encoded data removed]",
      "text/plain": [
       "<Figure size 432x288 with 1 Axes>"
      ]
     },
     "metadata": {
      "needs_background": "light"
     },
     "output_type": "display_data"
    }
   ],
   "source": [
    "kot.plot()"
   ]
  },
  {
   "cell_type": "markdown",
   "metadata": {},
   "source": [
    "### Class z drukowaniem"
   ]
  },
  {
   "cell_type": "code",
   "execution_count": 22,
   "metadata": {},
   "outputs": [],
   "source": [
    "class Rectangle:\n",
    "    def __init__(self, length, breadth, unit_cost=0):\n",
    "        self.length = length\n",
    "        self.breadth = breadth\n",
    "        self.unit_cost = unit_cost\n",
    "        # print(\"Area of Rectangle: %s cm^2\\nCost of rectangular field: Rs. %s \" % (self.get_area(), self.calculate_cost()))\n",
    "\n",
    "    def __str__(self):\n",
    "        return (\"Area of Rectangle: %s cm^2\\nCost of rectangular field: Rs. %s \" % (self.get_area(), self.calculate_cost()))\n",
    "\n",
    "    def get_perimeter(self):\n",
    "        return 2 * (self.length + self.breadth)\n",
    "\n",
    "    def get_area(self):\n",
    "        return self.length * self.breadth\n",
    "\n",
    "    def calculate_cost(self):\n",
    "        area = self.get_area()\n",
    "        return area * self.unit_cost"
   ]
  },
  {
   "cell_type": "code",
   "execution_count": 24,
   "metadata": {},
   "outputs": [
    {
     "name": "stdout",
     "output_type": "stream",
     "text": [
      "Area of Rectangle: 5535 cm^2\n",
      "Cost of rectangular field: Rs. 71955 \n"
     ]
    }
   ],
   "source": [
    "print(Rectangle(123,45,13))"
   ]
  },
  {
   "cell_type": "code",
   "execution_count": 25,
   "metadata": {},
   "outputs": [],
   "source": [
    "class Rectangle:\n",
    "    def __init__(self, length, breadth, unit_cost=0):\n",
    "        self.length = length\n",
    "        self.breadth = breadth\n",
    "        self.unit_cost = unit_cost\n",
    "        print(self)\n",
    "\n",
    "    def __repr__(self):\n",
    "        area_str = \"Area of Rectangle: %s cm^2\" % (self.get_area())\n",
    "        cost_str = \"Cost of rectangular field: Rs. %s \" %(self.calculate_cost())\n",
    "        return area_str + \"\\n\" + cost_str\n",
    "\n",
    "    def get_perimeter(self):\n",
    "        return 2 * (self.length + self.breadth)\n",
    "\n",
    "    def get_area(self):\n",
    "        return self.length * self.breadth\n",
    "\n",
    "    def calculate_cost(self):\n",
    "        area = self.get_area()\n",
    "        return area * self.unit_cost"
   ]
  },
  {
   "cell_type": "code",
   "execution_count": 26,
   "metadata": {},
   "outputs": [
    {
     "name": "stdout",
     "output_type": "stream",
     "text": [
      "Area of Rectangle: 19200 cm^2\n",
      "Cost of rectangular field: Rs. 38400000 \n"
     ]
    }
   ],
   "source": [
    "r = Rectangle(160, 120, 2000)"
   ]
  },
  {
   "cell_type": "code",
   "execution_count": null,
   "metadata": {},
   "outputs": [],
   "source": []
  },
  {
   "cell_type": "code",
   "execution_count": null,
   "metadata": {},
   "outputs": [],
   "source": []
  }
 ],
 "metadata": {
  "kernelspec": {
   "display_name": "Python 3",
   "language": "python",
   "name": "python3"
  },
  "language_info": {
   "codemirror_mode": {
    "name": "ipython",
    "version": 3
   },
   "file_extension": ".py",
   "mimetype": "text/x-python",
   "name": "python",
   "nbconvert_exporter": "python",
   "pygments_lexer": "ipython3",
   "version": "3.7.4"
  }
 },
 "nbformat": 4,
 "nbformat_minor": 2
}
