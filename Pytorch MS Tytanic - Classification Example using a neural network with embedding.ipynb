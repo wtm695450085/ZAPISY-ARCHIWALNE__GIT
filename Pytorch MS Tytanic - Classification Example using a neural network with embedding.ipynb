{
 "cells": [
  {
   "cell_type": "markdown",
   "metadata": {},
   "source": [
    "# Pytorch: MS Tytanic - Classification Example using a neural network with embedding"
   ]
  },
  {
   "cell_type": "code",
   "execution_count": 1,
   "metadata": {},
   "outputs": [
    {
     "name": "stdout",
     "output_type": "stream",
     "text": [
      "Wed Mar 11 07:58:05 2020\n"
     ]
    }
   ],
   "source": [
    "import time\n",
    "start_time = time.time() ## pomiar czasu: start pomiaru czasu\n",
    "print(time.ctime())"
   ]
  },
  {
   "cell_type": "code",
   "execution_count": 2,
   "metadata": {},
   "outputs": [],
   "source": [
    "import torch\n",
    "import torch.nn as nn\n",
    "import numpy as np\n",
    "import pandas as pd\n",
    "import matplotlib.pyplot as plt\n",
    "import seaborn as sns\n",
    "%matplotlib inline"
   ]
  },
  {
   "cell_type": "markdown",
   "metadata": {},
   "source": [
    "### I import data"
   ]
  },
  {
   "cell_type": "code",
   "execution_count": 3,
   "metadata": {},
   "outputs": [
    {
     "data": {
      "text/html": [
       "<div>\n",
       "<style scoped>\n",
       "    .dataframe tbody tr th:only-of-type {\n",
       "        vertical-align: middle;\n",
       "    }\n",
       "\n",
       "    .dataframe tbody tr th {\n",
       "        vertical-align: top;\n",
       "    }\n",
       "\n",
       "    .dataframe thead th {\n",
       "        text-align: right;\n",
       "    }\n",
       "</style>\n",
       "<table border=\"1\" class=\"dataframe\">\n",
       "  <thead>\n",
       "    <tr style=\"text-align: right;\">\n",
       "      <th></th>\n",
       "      <th>Unnamed: 0</th>\n",
       "      <th>PassengerId</th>\n",
       "      <th>Survived</th>\n",
       "      <th>Pclass</th>\n",
       "      <th>Name</th>\n",
       "      <th>Sex</th>\n",
       "      <th>Age</th>\n",
       "      <th>SibSp</th>\n",
       "      <th>Parch</th>\n",
       "      <th>Ticket</th>\n",
       "      <th>Fare</th>\n",
       "      <th>Cabin</th>\n",
       "      <th>Embarked</th>\n",
       "    </tr>\n",
       "  </thead>\n",
       "  <tbody>\n",
       "    <tr>\n",
       "      <td>0</td>\n",
       "      <td>0</td>\n",
       "      <td>1</td>\n",
       "      <td>0</td>\n",
       "      <td>3</td>\n",
       "      <td>Braund, Mr. Owen Harris</td>\n",
       "      <td>male</td>\n",
       "      <td>22.0</td>\n",
       "      <td>1</td>\n",
       "      <td>0</td>\n",
       "      <td>A/5 21171</td>\n",
       "      <td>7.2500</td>\n",
       "      <td>NaN</td>\n",
       "      <td>S</td>\n",
       "    </tr>\n",
       "    <tr>\n",
       "      <td>1</td>\n",
       "      <td>1</td>\n",
       "      <td>2</td>\n",
       "      <td>1</td>\n",
       "      <td>1</td>\n",
       "      <td>Cumings, Mrs. John Bradley (Florence Briggs Th...</td>\n",
       "      <td>female</td>\n",
       "      <td>38.0</td>\n",
       "      <td>1</td>\n",
       "      <td>0</td>\n",
       "      <td>PC 17599</td>\n",
       "      <td>71.2833</td>\n",
       "      <td>C85</td>\n",
       "      <td>C</td>\n",
       "    </tr>\n",
       "    <tr>\n",
       "      <td>2</td>\n",
       "      <td>2</td>\n",
       "      <td>3</td>\n",
       "      <td>1</td>\n",
       "      <td>3</td>\n",
       "      <td>Heikkinen, Miss. Laina</td>\n",
       "      <td>female</td>\n",
       "      <td>26.0</td>\n",
       "      <td>0</td>\n",
       "      <td>0</td>\n",
       "      <td>STON/O2. 3101282</td>\n",
       "      <td>7.9250</td>\n",
       "      <td>NaN</td>\n",
       "      <td>S</td>\n",
       "    </tr>\n",
       "  </tbody>\n",
       "</table>\n",
       "</div>"
      ],
      "text/plain": [
       "   Unnamed: 0  PassengerId  Survived  Pclass  \\\n",
       "0           0            1         0       3   \n",
       "1           1            2         1       1   \n",
       "2           2            3         1       3   \n",
       "\n",
       "                                                Name     Sex   Age  SibSp  \\\n",
       "0                            Braund, Mr. Owen Harris    male  22.0      1   \n",
       "1  Cumings, Mrs. John Bradley (Florence Briggs Th...  female  38.0      1   \n",
       "2                             Heikkinen, Miss. Laina  female  26.0      0   \n",
       "\n",
       "   Parch            Ticket     Fare Cabin Embarked  \n",
       "0      0         A/5 21171   7.2500   NaN        S  \n",
       "1      0          PC 17599  71.2833   C85        C  \n",
       "2      0  STON/O2. 3101282   7.9250   NaN        S  "
      ]
     },
     "execution_count": 3,
     "metadata": {},
     "output_type": "execute_result"
    }
   ],
   "source": [
    "import pandas as pd\n",
    "\n",
    "df = pd.read_csv('/home/wojciech/Pulpit/1/kaggletrain.csv')\n",
    "df.head(3)"
   ]
  },
  {
   "cell_type": "code",
   "execution_count": 4,
   "metadata": {},
   "outputs": [
    {
     "data": {
      "text/plain": [
       "(891, 13)"
      ]
     },
     "execution_count": 4,
     "metadata": {},
     "output_type": "execute_result"
    }
   ],
   "source": [
    "df.shape"
   ]
  },
  {
   "cell_type": "code",
   "execution_count": 5,
   "metadata": {},
   "outputs": [
    {
     "data": {
      "text/plain": [
       "<matplotlib.axes._subplots.AxesSubplot at 0x7fddd975ddd0>"
      ]
     },
     "execution_count": 5,
     "metadata": {},
     "output_type": "execute_result"
    },
    {
     "data": {
      "image/png": "[encoded data removed]",
      "text/plain": [
       "<Figure size 432x288 with 1 Axes>"
      ]
     },
     "metadata": {},
     "output_type": "display_data"
    }
   ],
   "source": [
    "df.Survived.value_counts().plot(kind='pie', autopct='%1.0f%%', colors=['#45818e', '#f1c232'], explode=(0.05, 0.05))"
   ]
  },
  {
   "cell_type": "markdown",
   "metadata": {},
   "source": [
    "### I check data completeness and delete records with empty NaN values"
   ]
  },
  {
   "cell_type": "code",
   "execution_count": 6,
   "metadata": {},
   "outputs": [
    {
     "data": {
      "text/plain": [
       "Unnamed: 0       0\n",
       "PassengerId      0\n",
       "Survived         0\n",
       "Pclass           0\n",
       "Name             0\n",
       "Sex              0\n",
       "Age            177\n",
       "SibSp            0\n",
       "Parch            0\n",
       "Ticket           0\n",
       "Fare             0\n",
       "Cabin          687\n",
       "Embarked         2\n",
       "dtype: int64"
      ]
     },
     "execution_count": 6,
     "metadata": {},
     "output_type": "execute_result"
    }
   ],
   "source": [
    "df.isnull().sum()"
   ]
  },
  {
   "cell_type": "code",
   "execution_count": 7,
   "metadata": {},
   "outputs": [
    {
     "name": "stdout",
     "output_type": "stream",
     "text": [
      "Observation of variables:  (891, 13)\n"
     ]
    },
    {
     "data": {
      "text/plain": [
       "<matplotlib.axes._subplots.AxesSubplot at 0x7fddd70fc910>"
      ]
     },
     "execution_count": 7,
     "metadata": {},
     "output_type": "execute_result"
    },
    {
     "data": {
      "image/png": "[encoded data removed]",
      "text/plain": [
       "<Figure size 432x288 with 1 Axes>"
      ]
     },
     "metadata": {
      "needs_background": "light"
     },
     "output_type": "display_data"
    }
   ],
   "source": [
    "import seaborn as sns\n",
    "\n",
    "print('Observation of variables: ',df.shape)\n",
    "sns.heatmap(df.isnull(),yticklabels=False,cbar=False,cmap='BuPu')"
   ]
  },
  {
   "cell_type": "markdown",
   "metadata": {},
   "source": [
    "### I delete several columns and empty records in Age columns"
   ]
  },
  {
   "cell_type": "code",
   "execution_count": 8,
   "metadata": {},
   "outputs": [],
   "source": [
    "del df['Cabin']\n",
    "del df['Ticket']\n",
    "del df['Name']\n",
    "del df['Unnamed: 0']"
   ]
  },
  {
   "cell_type": "code",
   "execution_count": 9,
   "metadata": {},
   "outputs": [],
   "source": [
    "df=df.dropna(how='any')"
   ]
  },
  {
   "cell_type": "code",
   "execution_count": 10,
   "metadata": {},
   "outputs": [
    {
     "data": {
      "text/plain": [
       "PassengerId    0\n",
       "Survived       0\n",
       "Pclass         0\n",
       "Sex            0\n",
       "Age            0\n",
       "SibSp          0\n",
       "Parch          0\n",
       "Fare           0\n",
       "Embarked       0\n",
       "dtype: int64"
      ]
     },
     "execution_count": 10,
     "metadata": {},
     "output_type": "execute_result"
    }
   ],
   "source": [
    "df.isnull().sum()"
   ]
  },
  {
   "cell_type": "markdown",
   "metadata": {},
   "source": [
    "### Arrangement of columns with categorical and continuous data"
   ]
  },
  {
   "cell_type": "code",
   "execution_count": 11,
   "metadata": {},
   "outputs": [
    {
     "data": {
      "text/plain": [
       "Index(['PassengerId', 'Survived', 'Pclass', 'Sex', 'Age', 'SibSp', 'Parch',\n",
       "       'Fare', 'Embarked'],\n",
       "      dtype='object')"
      ]
     },
     "execution_count": 11,
     "metadata": {},
     "output_type": "execute_result"
    }
   ],
   "source": [
    "df.columns"
   ]
  },
  {
   "cell_type": "code",
   "execution_count": 12,
   "metadata": {},
   "outputs": [
    {
     "data": {
      "text/plain": [
       "Index(['Sex', 'Embarked'], dtype='object')"
      ]
     },
     "execution_count": 12,
     "metadata": {},
     "output_type": "execute_result"
    }
   ],
   "source": [
    "df.describe(include=[\"object\"]).columns"
   ]
  },
  {
   "cell_type": "code",
   "execution_count": 13,
   "metadata": {},
   "outputs": [
    {
     "data": {
      "text/plain": [
       "Index(['PassengerId', 'Survived', 'Pclass', 'Age', 'SibSp', 'Parch', 'Fare'], dtype='object')"
      ]
     },
     "execution_count": 13,
     "metadata": {},
     "output_type": "execute_result"
    }
   ],
   "source": [
    "df.describe(include=[np.number]).columns"
   ]
  },
  {
   "cell_type": "code",
   "execution_count": 14,
   "metadata": {},
   "outputs": [],
   "source": [
    "\n",
    "categorical_columns = ['Sex', 'Embarked']\n",
    "numerical_columns = ['PassengerId', 'Age', 'SibSp','Parch', 'Fare','Pclass']"
   ]
  },
  {
   "cell_type": "code",
   "execution_count": 15,
   "metadata": {},
   "outputs": [
    {
     "data": {
      "text/plain": [
       "0    519\n",
       "1    110\n",
       "2     68\n",
       "5      5\n",
       "3      5\n",
       "4      4\n",
       "6      1\n",
       "Name: Parch, dtype: int64"
      ]
     },
     "execution_count": 15,
     "metadata": {},
     "output_type": "execute_result"
    }
   ],
   "source": [
    "df['Parch'].value_counts()"
   ]
  },
  {
   "cell_type": "markdown",
   "metadata": {},
   "source": [
    "### We determine that the output variable is the 'Stroke' column"
   ]
  },
  {
   "cell_type": "code",
   "execution_count": 16,
   "metadata": {},
   "outputs": [],
   "source": [
    "outputs = ['Survived']"
   ]
  },
  {
   "cell_type": "markdown",
   "metadata": {},
   "source": [
    "### Digitization of text variables"
   ]
  },
  {
   "cell_type": "code",
   "execution_count": 17,
   "metadata": {},
   "outputs": [
    {
     "data": {
      "text/plain": [
       "PassengerId      int64\n",
       "Survived         int64\n",
       "Pclass           int64\n",
       "Sex             object\n",
       "Age            float64\n",
       "SibSp            int64\n",
       "Parch            int64\n",
       "Fare           float64\n",
       "Embarked        object\n",
       "dtype: object"
      ]
     },
     "execution_count": 17,
     "metadata": {},
     "output_type": "execute_result"
    }
   ],
   "source": [
    "df.dtypes"
   ]
  },
  {
   "cell_type": "markdown",
   "metadata": {},
   "source": [
    "We need to convert types for qualitative columns to category. We can do this using the astype () function, as shown below:"
   ]
  },
  {
   "cell_type": "markdown",
   "metadata": {},
   "source": [
    "## <span style=\"color:red\">Introducing a new data type: 'category'</span>"
   ]
  },
  {
   "cell_type": "code",
   "execution_count": 18,
   "metadata": {},
   "outputs": [],
   "source": [
    "for category in categorical_columns:\n",
    "    df[category] = df[category].astype('category')"
   ]
  },
  {
   "cell_type": "code",
   "execution_count": 19,
   "metadata": {},
   "outputs": [
    {
     "data": {
      "text/plain": [
       "PassengerId       int64\n",
       "Survived          int64\n",
       "Pclass            int64\n",
       "Sex            category\n",
       "Age             float64\n",
       "SibSp             int64\n",
       "Parch             int64\n",
       "Fare            float64\n",
       "Embarked       category\n",
       "dtype: object"
      ]
     },
     "execution_count": 19,
     "metadata": {},
     "output_type": "execute_result"
    }
   ],
   "source": [
    "df.dtypes"
   ]
  },
  {
   "cell_type": "code",
   "execution_count": 20,
   "metadata": {},
   "outputs": [
    {
     "data": {
      "text/plain": [
       "Index(['female', 'male'], dtype='object')"
      ]
     },
     "execution_count": 20,
     "metadata": {},
     "output_type": "execute_result"
    }
   ],
   "source": [
    "df['Sex'].cat.categories"
   ]
  },
  {
   "cell_type": "code",
   "execution_count": 21,
   "metadata": {},
   "outputs": [
    {
     "data": {
      "text/plain": [
       "Index(['C', 'Q', 'S'], dtype='object')"
      ]
     },
     "execution_count": 21,
     "metadata": {},
     "output_type": "execute_result"
    }
   ],
   "source": [
    "df['Embarked'].cat.categories"
   ]
  },
  {
   "cell_type": "markdown",
   "metadata": {},
   "source": [
    "### Digitization of data"
   ]
  },
  {
   "cell_type": "code",
   "execution_count": 22,
   "metadata": {},
   "outputs": [
    {
     "data": {
      "text/plain": [
       "PassengerId       int64\n",
       "Survived          int64\n",
       "Pclass            int64\n",
       "Sex            category\n",
       "Age             float64\n",
       "SibSp             int64\n",
       "Parch             int64\n",
       "Fare            float64\n",
       "Embarked       category\n",
       "dtype: object"
      ]
     },
     "execution_count": 22,
     "metadata": {},
     "output_type": "execute_result"
    }
   ],
   "source": [
    "df.dtypes"
   ]
  },
  {
   "cell_type": "markdown",
   "metadata": {},
   "source": [
    "### Why did we digitize data in the format?"
   ]
  },
  {
   "cell_type": "markdown",
   "metadata": {},
   "source": [
    "The basic purpose of separating categorical columns from numeric columns is that the values in the numeric column can be directly input into neural networks. However, categorized column values must first be converted to numeric types."
   ]
  },
  {
   "cell_type": "code",
   "execution_count": 23,
   "metadata": {},
   "outputs": [
    {
     "data": {
      "text/plain": [
       "['Sex', 'Embarked']"
      ]
     },
     "execution_count": 23,
     "metadata": {},
     "output_type": "execute_result"
    }
   ],
   "source": [
    "categorical_columns"
   ]
  },
  {
   "cell_type": "markdown",
   "metadata": {},
   "source": [
    "### Conversion of categorical variables to Numpy matrix"
   ]
  },
  {
   "cell_type": "code",
   "execution_count": 24,
   "metadata": {},
   "outputs": [
    {
     "data": {
      "text/plain": [
       "array([[1, 2],\n",
       "       [0, 0],\n",
       "       [0, 2],\n",
       "       [0, 2],\n",
       "       [1, 2],\n",
       "       [1, 2],\n",
       "       [1, 2],\n",
       "       [0, 2],\n",
       "       [0, 0],\n",
       "       [0, 2]], dtype=int8)"
      ]
     },
     "execution_count": 24,
     "metadata": {},
     "output_type": "execute_result"
    }
   ],
   "source": [
    "p1 = df['Sex'].cat.codes.values\n",
    "p2 = df['Embarked'].cat.codes.values\n",
    "\n",
    "\n",
    "NumP_matrix = np.stack([p1, p2], 1)\n",
    "\n",
    "NumP_matrix[:10]\n"
   ]
  },
  {
   "cell_type": "markdown",
   "metadata": {},
   "source": [
    "### Creating a Pytorch tensor from the Numpy matrix"
   ]
  },
  {
   "cell_type": "code",
   "execution_count": 25,
   "metadata": {},
   "outputs": [
    {
     "data": {
      "text/plain": [
       "tensor([[1, 2],\n",
       "        [0, 0],\n",
       "        [0, 2],\n",
       "        [0, 2],\n",
       "        [1, 2],\n",
       "        [1, 2],\n",
       "        [1, 2],\n",
       "        [0, 2],\n",
       "        [0, 0],\n",
       "        [0, 2]])"
      ]
     },
     "execution_count": 25,
     "metadata": {},
     "output_type": "execute_result"
    }
   ],
   "source": [
    "categorical_data = torch.tensor(NumP_matrix, dtype=torch.int64)\n",
    "categorical_data[:10]"
   ]
  },
  {
   "cell_type": "markdown",
   "metadata": {},
   "source": [
    "### Conversion of DataFrame numeric columns to a Pytorch tensor"
   ]
  },
  {
   "cell_type": "code",
   "execution_count": 26,
   "metadata": {},
   "outputs": [
    {
     "data": {
      "text/plain": [
       "tensor([[ 1.0000, 22.0000,  1.0000,  0.0000,  7.2500,  3.0000],\n",
       "        [ 2.0000, 38.0000,  1.0000,  0.0000, 71.2833,  1.0000],\n",
       "        [ 3.0000, 26.0000,  0.0000,  0.0000,  7.9250,  3.0000],\n",
       "        [ 4.0000, 35.0000,  1.0000,  0.0000, 53.1000,  1.0000],\n",
       "        [ 5.0000, 35.0000,  0.0000,  0.0000,  8.0500,  3.0000]])"
      ]
     },
     "execution_count": 26,
     "metadata": {},
     "output_type": "execute_result"
    }
   ],
   "source": [
    "numerical_data = np.stack([df[col].values for col in numerical_columns], 1)\n",
    "numerical_data = torch.tensor(numerical_data, dtype=torch.float)\n",
    "numerical_data[:5]"
   ]
  },
  {
   "cell_type": "markdown",
   "metadata": {},
   "source": [
    "### Convert result variables to the Pytorch tensor"
   ]
  },
  {
   "cell_type": "code",
   "execution_count": 27,
   "metadata": {},
   "outputs": [
    {
     "data": {
      "text/plain": [
       "tensor([0, 1, 1, 1, 0])"
      ]
     },
     "execution_count": 27,
     "metadata": {},
     "output_type": "execute_result"
    }
   ],
   "source": [
    "outputs = torch.tensor(df[outputs].values).flatten()\n",
    "outputs[:5]"
   ]
  },
  {
   "cell_type": "markdown",
   "metadata": {},
   "source": [
    "### Let's sum up the tensors"
   ]
  },
  {
   "cell_type": "code",
   "execution_count": 28,
   "metadata": {},
   "outputs": [
    {
     "name": "stdout",
     "output_type": "stream",
     "text": [
      "categorical_data:  torch.Size([712, 2])\n",
      "numerical_data:    torch.Size([712, 6])\n",
      "outputs:           torch.Size([712])\n"
     ]
    }
   ],
   "source": [
    "print('categorical_data: ',categorical_data.shape)\n",
    "print('numerical_data:   ',numerical_data.shape)\n",
    "print('outputs:          ',outputs.shape)"
   ]
  },
  {
   "cell_type": "markdown",
   "metadata": {},
   "source": [
    "## <span style=\"color:red\">settlement</span>\n",
    "We have transformed our categorical columns into numerical ones, in which the unique value is represented by one integer (digitization - e.g. smoker is 1). Based on such a column (variable), we can train the model, but there is a better way ...\n",
    "\n",
    "A better way is to represent the value in a categorical column as an N-dimensional vector instead of a single integer. This process is called deposition. The vector is able to capture more information and can find relationships between different categorical values ​​in a more appropriate way. Therefore, we will represent values ​​in categorical columns in the form of N-dimensional vectors.\n",
    "\n",
    "We need to define the embedding size (vector dimensions) for all qualitative columns. There is no hard and fast rule regarding the number of dimensions. A good rule for defining the embedding size for a column is to divide the number of unique values ​​in the column by 2 (but not more than 50).\n"
   ]
  },
  {
   "cell_type": "markdown",
   "metadata": {},
   "source": [
    "The script below creates a tuple containing the number of unique values and dimension sizes for all quality columns."
   ]
  },
  {
   "cell_type": "markdown",
   "metadata": {},
   "source": [
    "The rule is simple: the embedding matrix must always be in the number of rows greater than the range of variables in the number of rows: that's why I added col_size + 2, it's a big stock."
   ]
  },
  {
   "cell_type": "code",
   "execution_count": 29,
   "metadata": {},
   "outputs": [
    {
     "name": "stdout",
     "output_type": "stream",
     "text": [
      "[(4, 3), (5, 4)]\n"
     ]
    }
   ],
   "source": [
    "categorical_column_sizes = [len(df[column].cat.categories) for column in categorical_columns]\n",
    "categorical_embedding_sizes = [(col_size+2, min(50, (col_size+5)//2)) for col_size in categorical_column_sizes]\n",
    "print(categorical_embedding_sizes)"
   ]
  },
  {
   "cell_type": "markdown",
   "metadata": {},
   "source": [
    "### Dzielenie zestawu na szkoleniowy i testowy"
   ]
  },
  {
   "cell_type": "code",
   "execution_count": 30,
   "metadata": {},
   "outputs": [],
   "source": [
    "total_records = df['Age'].count()\n",
    "test_records = int(total_records * .2)\n",
    "\n",
    "categorical_train_data = categorical_data[:total_records-test_records]\n",
    "categorical_test_data = categorical_data[total_records-test_records:total_records]\n",
    "numerical_train_data = numerical_data[:total_records-test_records]\n",
    "numerical_test_data = numerical_data[total_records-test_records:total_records]\n",
    "train_outputs = outputs[:total_records-test_records]\n",
    "test_outputs = outputs[total_records-test_records:total_records]"
   ]
  },
  {
   "cell_type": "markdown",
   "metadata": {},
   "source": [
    "Aby sprawdzić, czy poprawnie podzieliliśmy dane na zestawy treningów i testów, wydrukujmy długości rekordów szkolenia i testów:"
   ]
  },
  {
   "cell_type": "code",
   "execution_count": 31,
   "metadata": {},
   "outputs": [
    {
     "name": "stdout",
     "output_type": "stream",
     "text": [
      "categorical_train_data:  torch.Size([570, 2])\n",
      "numerical_train_data:    torch.Size([570, 6])\n",
      "train_outputs:           torch.Size([570])\n",
      "----------------------------------------------------\n",
      "categorical_test_data:   torch.Size([142, 2])\n",
      "numerical_test_data:     torch.Size([142, 6])\n",
      "test_outputs:            torch.Size([142])\n"
     ]
    }
   ],
   "source": [
    "print('categorical_train_data: ',categorical_train_data.shape)\n",
    "print('numerical_train_data:   ',numerical_train_data.shape)\n",
    "print('train_outputs:          ', train_outputs.shape)\n",
    "print('----------------------------------------------------')\n",
    "print('categorical_test_data:  ',categorical_test_data.shape)\n",
    "print('numerical_test_data:    ',numerical_test_data.shape)\n",
    "print('test_outputs:           ',test_outputs.shape)"
   ]
  },
  {
   "cell_type": "markdown",
   "metadata": {},
   "source": [
    "### Creating the Pytorch classification model"
   ]
  },
  {
   "cell_type": "code",
   "execution_count": 32,
   "metadata": {},
   "outputs": [],
   "source": [
    "class Model(nn.Module):\n",
    "\n",
    "    def __init__(self, embedding_size, num_numerical_cols, output_size, layers, p=0.4):\n",
    "        super().__init__()\n",
    "        self.all_embeddings = nn.ModuleList([nn.Embedding(ni, nf) for ni, nf in embedding_size])\n",
    "        self.embedding_dropout = nn.Dropout(p)\n",
    "        self.batch_norm_num = nn.BatchNorm1d(num_numerical_cols)\n",
    "\n",
    "        all_layers = []\n",
    "        num_categorical_cols = sum((nf for ni, nf in embedding_size))\n",
    "        input_size = num_categorical_cols + num_numerical_cols\n",
    "\n",
    "        for i in layers:\n",
    "            all_layers.append(nn.Linear(input_size, i))\n",
    "            all_layers.append(nn.ReLU(inplace=True))\n",
    "            all_layers.append(nn.BatchNorm1d(i))\n",
    "            all_layers.append(nn.Dropout(p))\n",
    "            input_size = i\n",
    "\n",
    "        all_layers.append(nn.Linear(layers[-1], output_size))\n",
    "\n",
    "        self.layers = nn.Sequential(*all_layers)\n",
    "\n",
    "    def forward(self, x_categorical, x_numerical):\n",
    "        embeddings = []\n",
    "        for i,e in enumerate(self.all_embeddings):\n",
    "            embeddings.append(e(x_categorical[:,i]))\n",
    "        x = torch.cat(embeddings, 1)\n",
    "        x = self.embedding_dropout(x)\n",
    "\n",
    "        x_numerical = self.batch_norm_num(x_numerical)\n",
    "        x = torch.cat([x, x_numerical], 1)\n",
    "        x = self.layers(x)\n",
    "        return x"
   ]
  },
  {
   "cell_type": "code",
   "execution_count": 33,
   "metadata": {},
   "outputs": [
    {
     "name": "stdout",
     "output_type": "stream",
     "text": [
      "categorical_embedding_sizes:   [(4, 3), (5, 4)]\n",
      "6\n"
     ]
    }
   ],
   "source": [
    "print('categorical_embedding_sizes:  ',categorical_embedding_sizes)\n",
    "print(numerical_data.shape[1])"
   ]
  },
  {
   "cell_type": "code",
   "execution_count": 34,
   "metadata": {},
   "outputs": [],
   "source": [
    "model = Model(categorical_embedding_sizes, numerical_data.shape[1], 2, [200,100,50], p=0.4)"
   ]
  },
  {
   "cell_type": "code",
   "execution_count": 35,
   "metadata": {},
   "outputs": [
    {
     "name": "stdout",
     "output_type": "stream",
     "text": [
      "Model(\n",
      "  (all_embeddings): ModuleList(\n",
      "    (0): Embedding(4, 3)\n",
      "    (1): Embedding(5, 4)\n",
      "  )\n",
      "  (embedding_dropout): Dropout(p=0.4, inplace=False)\n",
      "  (batch_norm_num): BatchNorm1d(6, eps=1e-05, momentum=0.1, affine=True, track_running_stats=True)\n",
      "  (layers): Sequential(\n",
      "    (0): Linear(in_features=13, out_features=200, bias=True)\n",
      "    (1): ReLU(inplace=True)\n",
      "    (2): BatchNorm1d(200, eps=1e-05, momentum=0.1, affine=True, track_running_stats=True)\n",
      "    (3): Dropout(p=0.4, inplace=False)\n",
      "    (4): Linear(in_features=200, out_features=100, bias=True)\n",
      "    (5): ReLU(inplace=True)\n",
      "    (6): BatchNorm1d(100, eps=1e-05, momentum=0.1, affine=True, track_running_stats=True)\n",
      "    (7): Dropout(p=0.4, inplace=False)\n",
      "    (8): Linear(in_features=100, out_features=50, bias=True)\n",
      "    (9): ReLU(inplace=True)\n",
      "    (10): BatchNorm1d(50, eps=1e-05, momentum=0.1, affine=True, track_running_stats=True)\n",
      "    (11): Dropout(p=0.4, inplace=False)\n",
      "    (12): Linear(in_features=50, out_features=2, bias=True)\n",
      "  )\n",
      ")\n"
     ]
    }
   ],
   "source": [
    "print(model)"
   ]
  },
  {
   "cell_type": "markdown",
   "metadata": {},
   "source": [
    "### Creating a loss function"
   ]
  },
  {
   "cell_type": "code",
   "execution_count": 36,
   "metadata": {},
   "outputs": [],
   "source": [
    "#loss_function = torch.nn.MSELoss(reduction='sum')\n",
    "loss_function = nn.CrossEntropyLoss()\n",
    "#loss_function = nn.BCEWithLogitsLoss()"
   ]
  },
  {
   "cell_type": "markdown",
   "metadata": {},
   "source": [
    "### Defining the optimizer"
   ]
  },
  {
   "cell_type": "code",
   "execution_count": 37,
   "metadata": {},
   "outputs": [],
   "source": [
    "optimizer = torch.optim.Adam(model.parameters(), lr=0.005)\n",
    "#optimizer = torch.optim.SGD(model.parameters(), lr=0.001)\n",
    "#optimizer = torch.optim.Rprop(model.parameters(), lr=0.001, etas=(0.5, 1.2), step_sizes=(1e-06, 50))"
   ]
  },
  {
   "cell_type": "code",
   "execution_count": 38,
   "metadata": {},
   "outputs": [
    {
     "name": "stdout",
     "output_type": "stream",
     "text": [
      "categorical_embedding_sizes:   [(4, 3), (5, 4)]\n",
      "6\n",
      "categorical_train_data:  torch.Size([570, 2])\n",
      "numerical_train_data:    torch.Size([570, 6])\n",
      "outputs:                 torch.Size([570])\n"
     ]
    }
   ],
   "source": [
    "print('categorical_embedding_sizes:  ',categorical_embedding_sizes)\n",
    "print(numerical_data.shape[1])\n",
    "print('categorical_train_data: ',categorical_train_data.shape)\n",
    "print('numerical_train_data:   ',numerical_train_data.shape)\n",
    "print('outputs:                ',train_outputs.shape)"
   ]
  },
  {
   "cell_type": "code",
   "execution_count": 39,
   "metadata": {},
   "outputs": [],
   "source": [
    "y_pred = model(categorical_train_data, numerical_train_data)"
   ]
  },
  {
   "cell_type": "code",
   "execution_count": 40,
   "metadata": {},
   "outputs": [
    {
     "name": "stdout",
     "output_type": "stream",
     "text": [
      "epoch:   1 loss: 0.75798762\n",
      "epoch:  51 loss: 0.46794149\n",
      "epoch: 101 loss: 0.40129563\n",
      "epoch: 151 loss: 0.36819917\n",
      "epoch: 201 loss: 0.38335440\n",
      "epoch: 251 loss: 0.34457776\n",
      "epoch: 301 loss: 0.34096593\n",
      "epoch: 351 loss: 0.33481178\n",
      "epoch: 401 loss: 0.31270745\n",
      "epoch: 451 loss: 0.28896174\n",
      "epoch: 501 loss: 0.30315563\n",
      "epoch: 551 loss: 0.28325975\n",
      "epoch: 601 loss: 0.28311190\n",
      "epoch: 651 loss: 0.28181159\n",
      "epoch: 701 loss: 0.25203362\n",
      "epoch: 751 loss: 0.23067927\n",
      "epoch: 801 loss: 0.22721779\n",
      "epoch: 851 loss: 0.21823877\n",
      "epoch: 901 loss: 0.23612224\n",
      "epoch: 951 loss: 0.19916874\n",
      "epoch: 1001 loss: 0.18573402\n",
      "epoch: 1051 loss: 0.19601844\n",
      "epoch: 1101 loss: 0.21755174\n",
      "epoch: 1151 loss: 0.16066019\n",
      "epoch: 1201 loss: 0.19210535\n",
      "epoch: 1251 loss: 0.18088962\n",
      "epoch: 1301 loss: 0.20280677\n",
      "epoch: 1351 loss: 0.17518044\n",
      "epoch: 1401 loss: 0.17039256\n",
      "epoch: 1451 loss: 0.13132723\n",
      "epoch: 1501 loss: 0.15249592\n",
      "epoch: 1551 loss: 0.15695214\n",
      "epoch: 1600 loss: 0.1524524987\n"
     ]
    }
   ],
   "source": [
    "epochs = 1600\n",
    "aggregated_losses = []\n",
    "\n",
    "for i in range(epochs):\n",
    "    i += 1\n",
    "    y_pred = model(categorical_train_data, numerical_train_data)\n",
    "    \n",
    "    single_loss = loss_function(y_pred, train_outputs)\n",
    "    aggregated_losses.append(single_loss)\n",
    "\n",
    "    if i%50 == 1:\n",
    "        print(f'epoch: {i:3} loss: {single_loss.item():10.8f}')\n",
    "\n",
    "    optimizer.zero_grad()\n",
    "    single_loss.backward()\n",
    "    optimizer.step()\n",
    "\n",
    "print(f'epoch: {i:3} loss: {single_loss.item():10.10f}')"
   ]
  },
  {
   "cell_type": "code",
   "execution_count": 41,
   "metadata": {},
   "outputs": [
    {
     "data": {
      "image/png": "[encoded data removed]",
      "text/plain": [
       "<Figure size 432x288 with 1 Axes>"
      ]
     },
     "metadata": {
      "needs_background": "light"
     },
     "output_type": "display_data"
    }
   ],
   "source": [
    "plt.plot(range(epochs), aggregated_losses, color='r')\n",
    "plt.ylabel('Loss')\n",
    "plt.xlabel('epoch');"
   ]
  },
  {
   "cell_type": "markdown",
   "metadata": {},
   "source": [
    "### Forecast based on the model"
   ]
  },
  {
   "cell_type": "code",
   "execution_count": 42,
   "metadata": {},
   "outputs": [
    {
     "name": "stdout",
     "output_type": "stream",
     "text": [
      "Loss train_set: 0.19752462\n"
     ]
    }
   ],
   "source": [
    "with torch.no_grad():\n",
    "    y_val_train = model(categorical_train_data, numerical_train_data)\n",
    "    loss = loss_function( y_val_train, train_outputs)\n",
    "print(f'Loss train_set: {loss:.8f}')"
   ]
  },
  {
   "cell_type": "code",
   "execution_count": 43,
   "metadata": {},
   "outputs": [
    {
     "name": "stdout",
     "output_type": "stream",
     "text": [
      "Loss: 0.76465970\n"
     ]
    }
   ],
   "source": [
    "with torch.no_grad():\n",
    "    y_val = model(categorical_test_data, numerical_test_data)\n",
    "    loss = loss_function(y_val, test_outputs)\n",
    "print(f'Loss: {loss:.8f}')"
   ]
  },
  {
   "cell_type": "markdown",
   "metadata": {},
   "source": [
    "Because we've determined that our output layer will contain 2 neurons, each forecast will contain 2 values. For example, the first 5 predicted values are:"
   ]
  },
  {
   "cell_type": "code",
   "execution_count": 44,
   "metadata": {},
   "outputs": [
    {
     "name": "stdout",
     "output_type": "stream",
     "text": [
      "tensor([[ 1.4549, -2.7559],\n",
      "        [-7.8097,  6.2669],\n",
      "        [ 1.6351, -1.9715],\n",
      "        [-0.3592,  0.2070],\n",
      "        [ 4.8382, -6.4910]])\n"
     ]
    }
   ],
   "source": [
    "print(y_val[:5])"
   ]
  },
  {
   "cell_type": "markdown",
   "metadata": {},
   "source": [
    "The purpose of such forecasts is that if the actual result is 0, the value at index 0 should be higher than the value at index 1 and vice versa. We can get the largest value index from the list using the following script:"
   ]
  },
  {
   "cell_type": "code",
   "execution_count": 45,
   "metadata": {},
   "outputs": [],
   "source": [
    "y_val = np.argmax(y_val, axis=1)"
   ]
  },
  {
   "cell_type": "markdown",
   "metadata": {},
   "source": [
    "The above equation returns the maximum value indicators along the axis."
   ]
  },
  {
   "cell_type": "code",
   "execution_count": 46,
   "metadata": {},
   "outputs": [
    {
     "name": "stdout",
     "output_type": "stream",
     "text": [
      "tensor([0, 1, 0, 1, 0, 0, 0, 1, 0, 0, 1, 0, 0, 0, 0, 0, 1, 0, 1, 0, 0, 0, 0, 1,\n",
      "        1, 0, 1, 1, 0, 0, 0, 1, 0, 0, 0, 1, 0, 0, 1, 1, 1, 0, 0, 0, 0, 0, 0, 0,\n",
      "        0, 1, 0, 1, 1, 0, 0, 0, 0, 1, 0, 0, 0, 0, 1, 1, 0, 1, 0, 1, 1, 0, 0, 0,\n",
      "        0, 1, 0, 1, 0, 0, 0, 0, 0, 0, 0, 1, 0, 1, 0, 0, 1, 0, 1, 0, 1, 0, 0, 1,\n",
      "        0, 1, 0, 0, 1, 0, 0, 0, 0, 0, 0, 0, 1, 1, 1, 1, 1, 0, 1, 0, 0, 0, 0, 0,\n",
      "        1, 1, 1, 0, 1, 1, 0, 1, 1, 0, 0, 0, 1, 0, 0, 1, 0, 0, 1, 1, 1, 0])\n"
     ]
    }
   ],
   "source": [
    "print(y_val[:195])"
   ]
  },
  {
   "cell_type": "markdown",
   "metadata": {},
   "source": [
    "Because in the list of originally predicted results for the first five records, the values at zero indexes are greater than the values at the first indexes, we can see 0 in the first five rows of processed output."
   ]
  },
  {
   "cell_type": "code",
   "execution_count": 47,
   "metadata": {},
   "outputs": [
    {
     "name": "stdout",
     "output_type": "stream",
     "text": [
      "[[74 13]\n",
      " [16 39]]\n",
      "              precision    recall  f1-score   support\n",
      "\n",
      "           0       0.82      0.85      0.84        87\n",
      "           1       0.75      0.71      0.73        55\n",
      "\n",
      "    accuracy                           0.80       142\n",
      "   macro avg       0.79      0.78      0.78       142\n",
      "weighted avg       0.79      0.80      0.79       142\n",
      "\n",
      "0.795774647887324\n"
     ]
    }
   ],
   "source": [
    "from sklearn.metrics import classification_report, confusion_matrix, accuracy_score\n",
    "\n",
    "print(confusion_matrix(test_outputs,y_val))\n",
    "print(classification_report(test_outputs,y_val))\n",
    "print(accuracy_score(test_outputs, y_val))"
   ]
  },
  {
   "cell_type": "markdown",
   "metadata": {},
   "source": [
    "### We save the whole model"
   ]
  },
  {
   "cell_type": "code",
   "execution_count": 48,
   "metadata": {},
   "outputs": [
    {
     "name": "stderr",
     "output_type": "stream",
     "text": [
      "/home/wojciech/anaconda3/lib/python3.7/site-packages/torch/serialization.py:360: UserWarning: Couldn't retrieve source code for container of type Model. It won't be checked for correctness upon loading.\n",
      "  \"type \" + obj.__name__ + \". It won't be checked \"\n"
     ]
    }
   ],
   "source": [
    "torch.save(model,'/home/wojciech/Pulpit/3/byk2.pb')"
   ]
  },
  {
   "cell_type": "markdown",
   "metadata": {},
   "source": [
    "### We play the whole model"
   ]
  },
  {
   "cell_type": "code",
   "execution_count": 49,
   "metadata": {},
   "outputs": [
    {
     "data": {
      "text/plain": [
       "Model(\n",
       "  (all_embeddings): ModuleList(\n",
       "    (0): Embedding(4, 3)\n",
       "    (1): Embedding(5, 4)\n",
       "  )\n",
       "  (embedding_dropout): Dropout(p=0.4, inplace=False)\n",
       "  (batch_norm_num): BatchNorm1d(6, eps=1e-05, momentum=0.1, affine=True, track_running_stats=True)\n",
       "  (layers): Sequential(\n",
       "    (0): Linear(in_features=13, out_features=200, bias=True)\n",
       "    (1): ReLU(inplace=True)\n",
       "    (2): BatchNorm1d(200, eps=1e-05, momentum=0.1, affine=True, track_running_stats=True)\n",
       "    (3): Dropout(p=0.4, inplace=False)\n",
       "    (4): Linear(in_features=200, out_features=100, bias=True)\n",
       "    (5): ReLU(inplace=True)\n",
       "    (6): BatchNorm1d(100, eps=1e-05, momentum=0.1, affine=True, track_running_stats=True)\n",
       "    (7): Dropout(p=0.4, inplace=False)\n",
       "    (8): Linear(in_features=100, out_features=50, bias=True)\n",
       "    (9): ReLU(inplace=True)\n",
       "    (10): BatchNorm1d(50, eps=1e-05, momentum=0.1, affine=True, track_running_stats=True)\n",
       "    (11): Dropout(p=0.4, inplace=False)\n",
       "    (12): Linear(in_features=50, out_features=2, bias=True)\n",
       "  )\n",
       ")"
      ]
     },
     "execution_count": 49,
     "metadata": {},
     "output_type": "execute_result"
    }
   ],
   "source": [
    "KOT = torch.load('/home/wojciech/Pulpit/3/byk2.pb')\n",
    "KOT.eval()"
   ]
  },
  {
   "cell_type": "markdown",
   "metadata": {},
   "source": [
    "### By substituting other independent variables, one can get the vector of output variables"
   ]
  },
  {
   "cell_type": "code",
   "execution_count": 50,
   "metadata": {},
   "outputs": [
    {
     "data": {
      "text/plain": [
       "tensor([[1, 2],\n",
       "        [1, 2],\n",
       "        [0, 2],\n",
       "        [1, 1],\n",
       "        [1, 2],\n",
       "        [1, 2],\n",
       "        [0, 0],\n",
       "        [0, 2],\n",
       "        [1, 0],\n",
       "        [1, 0],\n",
       "        [0, 2],\n",
       "        [1, 0],\n",
       "        [1, 2],\n",
       "        [1, 2],\n",
       "        [1, 2],\n",
       "        [0, 2],\n",
       "        [1, 2],\n",
       "        [0, 0],\n",
       "        [1, 1],\n",
       "        [1, 0],\n",
       "        [1, 2],\n",
       "        [1, 2],\n",
       "        [1, 0],\n",
       "        [1, 2],\n",
       "        [1, 2],\n",
       "        [0, 1],\n",
       "        [1, 2],\n",
       "        [1, 2],\n",
       "        [1, 2],\n",
       "        [1, 2],\n",
       "        [0, 2],\n",
       "        [0, 0],\n",
       "        [1, 0],\n",
       "        [0, 1],\n",
       "        [1, 2],\n",
       "        [1, 2],\n",
       "        [1, 2],\n",
       "        [1, 2],\n",
       "        [0, 2],\n",
       "        [1, 0],\n",
       "        [1, 2],\n",
       "        [0, 0],\n",
       "        [1, 2],\n",
       "        [0, 2],\n",
       "        [0, 2],\n",
       "        [1, 2],\n",
       "        [1, 2],\n",
       "        [1, 0],\n",
       "        [0, 0],\n",
       "        [0, 0],\n",
       "        [1, 2],\n",
       "        [0, 0],\n",
       "        [0, 0],\n",
       "        [1, 2],\n",
       "        [1, 2],\n",
       "        [1, 2],\n",
       "        [1, 2],\n",
       "        [0, 2],\n",
       "        [1, 2],\n",
       "        [1, 2],\n",
       "        [1, 0],\n",
       "        [1, 2],\n",
       "        [0, 0],\n",
       "        [0, 2],\n",
       "        [0, 2],\n",
       "        [0, 2],\n",
       "        [0, 1],\n",
       "        [0, 2],\n",
       "        [0, 2],\n",
       "        [1, 2],\n",
       "        [1, 2],\n",
       "        [0, 2],\n",
       "        [1, 2],\n",
       "        [1, 2],\n",
       "        [1, 2],\n",
       "        [0, 2],\n",
       "        [1, 2],\n",
       "        [1, 0],\n",
       "        [1, 2],\n",
       "        [0, 2],\n",
       "        [0, 2],\n",
       "        [1, 1],\n",
       "        [0, 2],\n",
       "        [0, 0],\n",
       "        [0, 2],\n",
       "        [0, 0],\n",
       "        [1, 2],\n",
       "        [1, 2],\n",
       "        [1, 2],\n",
       "        [1, 2],\n",
       "        [1, 2],\n",
       "        [0, 2],\n",
       "        [1, 2],\n",
       "        [1, 2],\n",
       "        [1, 2],\n",
       "        [1, 0],\n",
       "        [0, 2],\n",
       "        [0, 2],\n",
       "        [1, 0],\n",
       "        [0, 2],\n",
       "        [0, 2],\n",
       "        [1, 2],\n",
       "        [1, 2],\n",
       "        [0, 1],\n",
       "        [1, 2],\n",
       "        [1, 2],\n",
       "        [1, 2],\n",
       "        [0, 2],\n",
       "        [1, 2],\n",
       "        [0, 2],\n",
       "        [1, 2],\n",
       "        [1, 2],\n",
       "        [0, 2],\n",
       "        [1, 2]])"
      ]
     },
     "execution_count": 50,
     "metadata": {},
     "output_type": "execute_result"
    }
   ],
   "source": [
    "A = categorical_train_data[::5]\n",
    "A"
   ]
  },
  {
   "cell_type": "code",
   "execution_count": 51,
   "metadata": {},
   "outputs": [
    {
     "data": {
      "text/plain": [
       "tensor([[  1.0000,  22.0000,   1.0000,   0.0000,   7.2500,   3.0000],\n",
       "        [  7.0000,  54.0000,   0.0000,   0.0000,  51.8625,   1.0000],\n",
       "        [ 12.0000,  58.0000,   0.0000,   0.0000,  26.5500,   1.0000],\n",
       "        [ 17.0000,   2.0000,   4.0000,   1.0000,  29.1250,   3.0000],\n",
       "        [ 24.0000,  28.0000,   0.0000,   0.0000,  35.5000,   1.0000],\n",
       "        [ 34.0000,  66.0000,   0.0000,   0.0000,  10.5000,   2.0000],\n",
       "        [ 40.0000,  14.0000,   1.0000,   0.0000,  11.2417,   3.0000],\n",
       "        [ 50.0000,  18.0000,   1.0000,   0.0000,  17.8000,   3.0000],\n",
       "        [ 55.0000,  65.0000,   0.0000,   1.0000,  61.9792,   1.0000],\n",
       "        [ 61.0000,  22.0000,   0.0000,   0.0000,   7.2292,   3.0000],\n",
       "        [ 69.0000,  17.0000,   4.0000,   2.0000,   7.9250,   3.0000],\n",
       "        [ 74.0000,  26.0000,   1.0000,   0.0000,  14.4542,   3.0000],\n",
       "        [ 81.0000,  22.0000,   0.0000,   0.0000,   9.0000,   3.0000],\n",
       "        [ 87.0000,  16.0000,   1.0000,   3.0000,  34.3750,   3.0000],\n",
       "        [ 93.0000,  46.0000,   1.0000,   0.0000,  61.1750,   1.0000],\n",
       "        [ 99.0000,  34.0000,   0.0000,   1.0000,  23.0000,   2.0000],\n",
       "        [105.0000,  37.0000,   2.0000,   0.0000,   7.9250,   3.0000],\n",
       "        [112.0000,  14.5000,   1.0000,   0.0000,  14.4542,   3.0000],\n",
       "        [117.0000,  70.5000,   0.0000,   0.0000,   7.7500,   3.0000],\n",
       "        [123.0000,  32.5000,   1.0000,   0.0000,  30.0708,   2.0000],\n",
       "        [130.0000,  45.0000,   0.0000,   0.0000,   6.9750,   3.0000],\n",
       "        [135.0000,  25.0000,   0.0000,   0.0000,  13.0000,   2.0000],\n",
       "        [140.0000,  24.0000,   0.0000,   0.0000,  79.2000,   1.0000],\n",
       "        [146.0000,  19.0000,   1.0000,   1.0000,  36.7500,   2.0000],\n",
       "        [151.0000,  51.0000,   0.0000,   0.0000,  12.5250,   2.0000],\n",
       "        [157.0000,  16.0000,   0.0000,   0.0000,   7.7333,   3.0000],\n",
       "        [164.0000,  17.0000,   0.0000,   0.0000,   8.6625,   3.0000],\n",
       "        [171.0000,  61.0000,   0.0000,   0.0000,  33.5000,   1.0000],\n",
       "        [176.0000,  18.0000,   1.0000,   1.0000,   7.8542,   3.0000],\n",
       "        [184.0000,   1.0000,   2.0000,   1.0000,  39.0000,   2.0000],\n",
       "        [191.0000,  32.0000,   0.0000,   0.0000,  13.0000,   2.0000],\n",
       "        [196.0000,  58.0000,   0.0000,   0.0000, 146.5208,   1.0000],\n",
       "        [204.0000,  45.5000,   0.0000,   0.0000,   7.2250,   3.0000],\n",
       "        [209.0000,  16.0000,   0.0000,   0.0000,   7.7500,   3.0000],\n",
       "        [214.0000,  30.0000,   0.0000,   0.0000,  13.0000,   2.0000],\n",
       "        [220.0000,  30.0000,   0.0000,   0.0000,  10.5000,   2.0000],\n",
       "        [226.0000,  22.0000,   0.0000,   0.0000,   9.3500,   3.0000],\n",
       "        [232.0000,  29.0000,   0.0000,   0.0000,   7.7750,   3.0000],\n",
       "        [238.0000,   8.0000,   0.0000,   2.0000,  26.2500,   2.0000],\n",
       "        [245.0000,  30.0000,   0.0000,   0.0000,   7.2250,   3.0000],\n",
       "        [250.0000,  54.0000,   1.0000,   0.0000,  26.0000,   2.0000],\n",
       "        [256.0000,  29.0000,   0.0000,   2.0000,  15.2458,   3.0000],\n",
       "        [263.0000,  52.0000,   1.0000,   1.0000,  79.6500,   1.0000],\n",
       "        [269.0000,  58.0000,   0.0000,   1.0000, 153.4625,   1.0000],\n",
       "        [276.0000,  63.0000,   1.0000,   0.0000,  77.9583,   1.0000],\n",
       "        [282.0000,  28.0000,   0.0000,   0.0000,   7.8542,   3.0000],\n",
       "        [288.0000,  22.0000,   0.0000,   0.0000,   7.8958,   3.0000],\n",
       "        [293.0000,  36.0000,   0.0000,   0.0000,  12.8750,   2.0000],\n",
       "        [300.0000,  50.0000,   0.0000,   1.0000, 247.5208,   1.0000],\n",
       "        [310.0000,  30.0000,   0.0000,   0.0000,  56.9292,   1.0000],\n",
       "        [315.0000,  43.0000,   1.0000,   1.0000,  26.2500,   2.0000],\n",
       "        [320.0000,  40.0000,   1.0000,   1.0000, 134.5000,   1.0000],\n",
       "        [326.0000,  36.0000,   0.0000,   0.0000, 135.6333,   1.0000],\n",
       "        [332.0000,  45.5000,   0.0000,   0.0000,  28.5000,   1.0000],\n",
       "        [339.0000,  45.0000,   0.0000,   0.0000,   8.0500,   3.0000],\n",
       "        [344.0000,  25.0000,   0.0000,   0.0000,  13.0000,   2.0000],\n",
       "        [350.0000,  42.0000,   0.0000,   0.0000,   8.6625,   3.0000],\n",
       "        [357.0000,  22.0000,   0.0000,   1.0000,  55.0000,   1.0000],\n",
       "        [364.0000,  35.0000,   0.0000,   0.0000,   7.0500,   3.0000],\n",
       "        [372.0000,  18.0000,   1.0000,   0.0000,   6.4958,   3.0000],\n",
       "        [378.0000,  27.0000,   0.0000,   2.0000, 211.5000,   1.0000],\n",
       "        [383.0000,  32.0000,   0.0000,   0.0000,   7.9250,   3.0000],\n",
       "        [390.0000,  17.0000,   0.0000,   0.0000,  12.0000,   2.0000],\n",
       "        [395.0000,  24.0000,   0.0000,   2.0000,  16.7000,   3.0000],\n",
       "        [400.0000,  28.0000,   0.0000,   0.0000,  12.6500,   2.0000],\n",
       "        [405.0000,  20.0000,   0.0000,   0.0000,   8.6625,   3.0000],\n",
       "        [413.0000,  33.0000,   1.0000,   0.0000,  90.0000,   1.0000],\n",
       "        [420.0000,  10.0000,   0.0000,   2.0000,  24.1500,   3.0000],\n",
       "        [427.0000,  28.0000,   1.0000,   0.0000,  26.0000,   2.0000],\n",
       "        [434.0000,  17.0000,   0.0000,   0.0000,   7.1250,   3.0000],\n",
       "        [439.0000,  64.0000,   1.0000,   4.0000, 263.0000,   1.0000],\n",
       "        [444.0000,  28.0000,   0.0000,   0.0000,  13.0000,   2.0000],\n",
       "        [450.0000,  52.0000,   0.0000,   0.0000,  30.5000,   1.0000],\n",
       "        [457.0000,  65.0000,   0.0000,   0.0000,  26.5500,   1.0000],\n",
       "        [464.0000,  48.0000,   0.0000,   0.0000,  13.0000,   2.0000],\n",
       "        [473.0000,  33.0000,   1.0000,   2.0000,  27.7500,   2.0000],\n",
       "        [479.0000,  22.0000,   0.0000,   0.0000,   7.5208,   3.0000],\n",
       "        [485.0000,  25.0000,   1.0000,   0.0000,  91.0792,   1.0000],\n",
       "        [492.0000,  21.0000,   0.0000,   0.0000,   7.2500,   3.0000],\n",
       "        [499.0000,  25.0000,   1.0000,   2.0000, 151.5500,   1.0000],\n",
       "        [505.0000,  16.0000,   0.0000,   0.0000,  86.5000,   1.0000],\n",
       "        [511.0000,  29.0000,   0.0000,   0.0000,   7.7500,   3.0000],\n",
       "        [517.0000,  34.0000,   0.0000,   0.0000,  10.5000,   2.0000],\n",
       "        [524.0000,  44.0000,   0.0000,   1.0000,  57.9792,   1.0000],\n",
       "        [531.0000,   2.0000,   1.0000,   1.0000,  26.0000,   2.0000],\n",
       "        [538.0000,  30.0000,   0.0000,   0.0000, 106.4250,   1.0000],\n",
       "        [544.0000,  32.0000,   1.0000,   0.0000,  26.0000,   2.0000],\n",
       "        [550.0000,   8.0000,   1.0000,   1.0000,  36.7500,   2.0000],\n",
       "        [556.0000,  62.0000,   0.0000,   0.0000,  26.5500,   1.0000],\n",
       "        [563.0000,  28.0000,   0.0000,   0.0000,  13.5000,   2.0000],\n",
       "        [571.0000,  62.0000,   0.0000,   0.0000,  10.5000,   2.0000],\n",
       "        [577.0000,  34.0000,   0.0000,   0.0000,  13.0000,   2.0000],\n",
       "        [583.0000,  54.0000,   0.0000,   0.0000,  26.0000,   2.0000],\n",
       "        [589.0000,  22.0000,   0.0000,   0.0000,   8.0500,   3.0000],\n",
       "        [596.0000,  36.0000,   1.0000,   1.0000,  24.1500,   3.0000],\n",
       "        [605.0000,  35.0000,   0.0000,   0.0000,  26.5500,   1.0000],\n",
       "        [610.0000,  40.0000,   0.0000,   0.0000, 153.4625,   1.0000],\n",
       "        [618.0000,  26.0000,   1.0000,   0.0000,  16.1000,   3.0000],\n",
       "        [623.0000,  20.0000,   1.0000,   1.0000,  15.7417,   3.0000],\n",
       "        [628.0000,  21.0000,   0.0000,   0.0000,  77.9583,   1.0000],\n",
       "        [635.0000,   9.0000,   3.0000,   2.0000,  27.9000,   3.0000],\n",
       "        [641.0000,  20.0000,   0.0000,   0.0000,   7.8542,   3.0000],\n",
       "        [647.0000,  19.0000,   0.0000,   0.0000,   7.8958,   3.0000],\n",
       "        [655.0000,  18.0000,   0.0000,   0.0000,   6.7500,   3.0000],\n",
       "        [661.0000,  50.0000,   2.0000,   0.0000, 133.6500,   1.0000],\n",
       "        [666.0000,  32.0000,   2.0000,   0.0000,  73.5000,   2.0000],\n",
       "        [673.0000,  70.0000,   0.0000,   0.0000,  10.5000,   2.0000],\n",
       "        [679.0000,  43.0000,   1.0000,   6.0000,  46.9000,   3.0000],\n",
       "        [685.0000,  60.0000,   1.0000,   1.0000,  39.0000,   2.0000],\n",
       "        [690.0000,  15.0000,   0.0000,   1.0000, 211.3375,   1.0000],\n",
       "        [696.0000,  52.0000,   0.0000,   0.0000,  13.5000,   2.0000],\n",
       "        [702.0000,  35.0000,   0.0000,   0.0000,  26.2875,   1.0000],\n",
       "        [707.0000,  45.0000,   0.0000,   0.0000,  13.5000,   2.0000],\n",
       "        [714.0000,  29.0000,   0.0000,   0.0000,   9.4833,   3.0000]])"
      ]
     },
     "execution_count": 51,
     "metadata": {},
     "output_type": "execute_result"
    }
   ],
   "source": [
    "B = numerical_train_data[::5]\n",
    "B"
   ]
  },
  {
   "cell_type": "code",
   "execution_count": 52,
   "metadata": {},
   "outputs": [],
   "source": [
    "y =train_outputs[::5]"
   ]
  },
  {
   "cell_type": "code",
   "execution_count": 53,
   "metadata": {},
   "outputs": [
    {
     "data": {
      "text/plain": [
       "tensor([[ 3.1183, -3.6037],\n",
       "        [ 3.6648, -4.4968],\n",
       "        [-5.4060,  4.7106],\n",
       "        [ 6.0832, -8.2568],\n",
       "        [-2.7152,  2.8045],\n",
       "        [ 3.1732, -5.2538],\n",
       "        [-3.1322,  3.1460],\n",
       "        [ 2.4081, -2.8837],\n",
       "        [ 5.9845, -7.8051],\n",
       "        [ 1.7470, -2.0218]], grad_fn=<SliceBackward>)"
      ]
     },
     "execution_count": 53,
     "metadata": {},
     "output_type": "execute_result"
    }
   ],
   "source": [
    "y_pred_AB = KOT(A, B)\n",
    "y_pred_AB[:10]"
   ]
  },
  {
   "cell_type": "code",
   "execution_count": 54,
   "metadata": {},
   "outputs": [
    {
     "name": "stdout",
     "output_type": "stream",
     "text": [
      "Loss train_set: 0.06691397\n"
     ]
    }
   ],
   "source": [
    "with torch.no_grad():\n",
    "    y_val_AB = KOT(A,B)\n",
    "    loss = loss_function( y_val_AB, y)\n",
    "print(f'Loss train_set: {loss:.8f}')"
   ]
  },
  {
   "cell_type": "code",
   "execution_count": 55,
   "metadata": {},
   "outputs": [],
   "source": [
    "y_val = np.argmax(y_val_AB, axis=1)"
   ]
  },
  {
   "cell_type": "code",
   "execution_count": 56,
   "metadata": {},
   "outputs": [
    {
     "name": "stdout",
     "output_type": "stream",
     "text": [
      "[[66  1]\n",
      " [ 3 44]]\n",
      "              precision    recall  f1-score   support\n",
      "\n",
      "           0       0.96      0.99      0.97        67\n",
      "           1       0.98      0.94      0.96        47\n",
      "\n",
      "    accuracy                           0.96       114\n",
      "   macro avg       0.97      0.96      0.96       114\n",
      "weighted avg       0.97      0.96      0.96       114\n",
      "\n",
      "0.9649122807017544\n"
     ]
    }
   ],
   "source": [
    "from sklearn.metrics import classification_report, confusion_matrix, accuracy_score\n",
    "\n",
    "print(confusion_matrix(y,y_val))\n",
    "print(classification_report(y,y_val))\n",
    "print(accuracy_score(y, y_val))"
   ]
  },
  {
   "cell_type": "code",
   "execution_count": 57,
   "metadata": {},
   "outputs": [
    {
     "name": "stdout",
     "output_type": "stream",
     "text": [
      "Measuring the time to complete this task:\n",
      "0.7621555407842\n"
     ]
    }
   ],
   "source": [
    "print('Measuring the time to complete this task:')\n",
    "print((time.time() - start_time)/60) ## koniec pomiaru czasu"
   ]
  }
 ],
 "metadata": {
  "kernelspec": {
   "display_name": "Python 3",
   "language": "python",
   "name": "python3"
  },
  "language_info": {
   "codemirror_mode": {
    "name": "ipython",
    "version": 3
   },
   "file_extension": ".py",
   "mimetype": "text/x-python",
   "name": "python",
   "nbconvert_exporter": "python",
   "pygments_lexer": "ipython3",
   "version": "3.7.4"
  }
 },
 "nbformat": 4,
 "nbformat_minor": 2
}
