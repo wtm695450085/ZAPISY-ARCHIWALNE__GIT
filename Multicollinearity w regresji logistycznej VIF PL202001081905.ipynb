{
 "cells": [
  {
   "cell_type": "markdown",
   "metadata": {},
   "source": [
    "# Problem występowania współliniowości zmiennych niezależnych w regresji logistycznej. Przykład użycia testu VIF.\n",
    "\n",
    "Jednym z najważniejszych warunków w modelu regresji logistycznej jest brak współliniowości (multicollinearity) zmiennych niezależnych. Oznacza to, że model powinien mieć niewielką współliniowość zmiennych opisujących lub jej brak. \n",
    "\n",
    "### Multicollinearity zmiennych niezależnych prowadzi do niewiarygodnych i niestabilnych oszacowań. Model nie jest stabilny, niewielkie zmiany w zmiennych niezależnych mogą diametralnie zmieniać wyniki klasyfikacji modelu."
   ]
  },
  {
   "cell_type": "markdown",
   "metadata": {},
   "source": [
    "Mimo że regresja logistyczna nie jest regresją lecz klasyfikacją, obowiązują tu podobne zasady. Ważna jest zmiana zmiennej zależnej dla każdej 1 zmiany jednostki w zmiennej niezależnej, gdy wszystkie pozostałe zmienne niezależne są stałe.\n",
    "\n",
    "Chodzi o to, żeby zmianna jednej zmiennej nie wiązała się ze zmianą innych zmiennych niezależnych. Gdy zmienne niezależne są skorelowane, oznacza to, że zmiany w jednej zmiennej są powiązane ze zmianami w innej zmiennej. Im silniejsza korelacja, tym trudniej jest zmienić jedną zmienną bez zmiany drugiej. Modelowi trudno jest oszacować związek między każdą zmienną niezależną a zmienną zależną niezależnie, ponieważ wtedy gdy zmienne niezależne są skorelowane zmieniają się zgodnie."
   ]
  },
  {
   "cell_type": "markdown",
   "metadata": {},
   "source": [
    "Dowodem na istnienie współliniowości (multicollinearity) zmiennych niezależnych w modelu regresji logistycznej jest ich skorelowanie. Ta korelacja stanowi problem, ponieważ zmienne niezależne powinny być niezależne. Jeśli stopień korelacji między zmiennymi jest wystarczająco wysoki, może to powodować problemy w dopasowaniu modelu i interpretacji wyników."
   ]
  },
  {
   "cell_type": "markdown",
   "metadata": {},
   "source": [
    "### Jak radzić sobie z problemem multicollinearity w modelu regresji logistycznej? \n",
    "Multicolinearity można sprawdzić robiąc prostą macierz regresji dla zmiennych niezależnych. \n",
    "Korfelacja zmiennych niezależnych to nie to samo co multicollinearity ponieważ multicollinearity może się pojawić w modelu, nawet gdy izolowane pary zmiennych nie są współliniowe (skorelowane), pojawia się interakcja 3 zmiennych itd. \n",
    "Dlatego multicollinearity jest czasem bardziej trudne do wykrycia.\n",
    "\n"
   ]
  },
  {
   "cell_type": "markdown",
   "metadata": {},
   "source": [
    "### <span style = \"color: blue\"> Variance Inflation Factor (VIF)</span>\n",
    "\n",
    "Variance Inflation Factor (VIF) to miara multicollinearity między zmiennymi predykcyjnymi w regresji wielokrotnej. Określa ilościowo nasilenie multicollinearity w zwykłej analizie regresji metodą najmniejszych kwadratów . Zapewnia wskaźnik, który mierzy, o ile wariancja (kwadrat odchylenia standardowego oszacowania ) szacowanego współczynnika regresji jest zwiększona z powodu kolinearności. \n",
    "\n",
    "Pierwiastek kwadratowy współczynnika inflacji wariancji wskazuje, o ile większy błąd standardowy wzrasta w porównaniu z tym, czy zmienna ta ma korelację 0 z innymi zmiennymi predykcyjnymi w modelu.\n",
    "\n",
    "<span style = \"color: green\"> *Przykład\n",
    "Jeśli współczynnik inflacji wariancji zmiennej predykcyjnej wynosił 5,27 (√5,27 = 2,3), oznacza to, że błąd standardowy współczynnika tej zmiennej predykcyjnej jest 2,3 razy większy niż w przypadku, gdy zmienna predyktorowa ma 0 korelacji z innymi zmiennymi predykcyjnymi.*</span>\n",
    "\n",
    "(źródło:https://en.wikipedia.org/wiki/Variance_inflation_factor)\n",
    "\n",
    "Kroki wdrażania VIF\n",
    "1. Uruchom regresję wieloraką. \n",
    "2. Oblicz współczynniki VIF.\n",
    "3. Sprawdź współczynniki dla każdej zmiennej predykcyjnej, jeśli VIF wynosi między 5-10, prawdopodobnie występuje multicollinearity i powinieneś rozważyć usunięcie tej zmiennej.\n",
    "\n",
    "źródło: https://etav.github.io/python/vif_factor_python.html\n",
    "\n"
   ]
  },
  {
   "cell_type": "markdown",
   "metadata": {},
   "source": [
    "Czyli przed rozpoczęciem pracy nad modelem regresji logistycznej należy utworzyć model regresji wielorakiej i przez VIF wyselekcjonować, wybrać dane do modelu regresji logistycznej.\n",
    "\n",
    "Jak wspominają tutaj: https://www.ibm.com/support/pages/multicollinearity-diagnostics-logistic-regression-nomreg-or-plum\n",
    "> Procedury regresji dla zmiennych zależnych kategorycznie nie mają diagnostyki kolinearności. W tym celu można jednak użyć procedury regresji liniowej. Statystyka kolinearności w regresji dotyczy relacji między predyktorami, ignorując zmienną zależną. Możesz więc uruchomić REGRESSION z tą samą listą predyktorów i zmiennej zależnej, jakiej chcesz użyć w REGRESJI LOGISTYCZNEJ (na przykład) i zażądać diagnostyki kolinearności. Uruchom regresję logistyczną, aby uzyskać właściwe współczynniki, przewidywane prawdopodobieństwa itp. Po podjęciu niezbędnych decyzji (porzucenie predyktorów itp.) Wynikających z analizy kolinearności.\n",
    "\n",
    "\n"
   ]
  },
  {
   "cell_type": "code",
   "execution_count": 1,
   "metadata": {},
   "outputs": [
    {
     "data": {
      "text/html": [
       "<div>\n",
       "<style scoped>\n",
       "    .dataframe tbody tr th:only-of-type {\n",
       "        vertical-align: middle;\n",
       "    }\n",
       "\n",
       "    .dataframe tbody tr th {\n",
       "        vertical-align: top;\n",
       "    }\n",
       "\n",
       "    .dataframe thead th {\n",
       "        text-align: right;\n",
       "    }\n",
       "</style>\n",
       "<table border=\"1\" class=\"dataframe\">\n",
       "  <thead>\n",
       "    <tr style=\"text-align: right;\">\n",
       "      <th></th>\n",
       "      <th>nr.</th>\n",
       "      <th>factorA</th>\n",
       "      <th>factorB</th>\n",
       "      <th>citric catoda</th>\n",
       "      <th>residual butanol</th>\n",
       "      <th>caroton</th>\n",
       "      <th>stable nodinol</th>\n",
       "      <th>sulfur in nodinol</th>\n",
       "      <th>density</th>\n",
       "      <th>pH</th>\n",
       "      <th>noracid</th>\n",
       "      <th>lacapon</th>\n",
       "      <th>quality class</th>\n",
       "    </tr>\n",
       "  </thead>\n",
       "  <tbody>\n",
       "    <tr>\n",
       "      <th>0</th>\n",
       "      <td>0</td>\n",
       "      <td>4.933333</td>\n",
       "      <td>0.466667</td>\n",
       "      <td>0.000000</td>\n",
       "      <td>1.266667</td>\n",
       "      <td>0.050667</td>\n",
       "      <td>7.333333</td>\n",
       "      <td>22.666667</td>\n",
       "      <td>0.665200</td>\n",
       "      <td>2.340000</td>\n",
       "      <td>0.373333</td>\n",
       "      <td>6.266667</td>\n",
       "      <td>1</td>\n",
       "    </tr>\n",
       "    <tr>\n",
       "      <th>1</th>\n",
       "      <td>1</td>\n",
       "      <td>5.200000</td>\n",
       "      <td>0.586667</td>\n",
       "      <td>0.000000</td>\n",
       "      <td>1.733333</td>\n",
       "      <td>0.065333</td>\n",
       "      <td>16.666667</td>\n",
       "      <td>44.666667</td>\n",
       "      <td>0.664533</td>\n",
       "      <td>2.133333</td>\n",
       "      <td>0.453333</td>\n",
       "      <td>6.533333</td>\n",
       "      <td>1</td>\n",
       "    </tr>\n",
       "    <tr>\n",
       "      <th>2</th>\n",
       "      <td>2</td>\n",
       "      <td>5.200000</td>\n",
       "      <td>0.506667</td>\n",
       "      <td>0.026667</td>\n",
       "      <td>1.533333</td>\n",
       "      <td>0.061333</td>\n",
       "      <td>10.000000</td>\n",
       "      <td>36.000000</td>\n",
       "      <td>0.664667</td>\n",
       "      <td>2.173333</td>\n",
       "      <td>0.433333</td>\n",
       "      <td>6.533333</td>\n",
       "      <td>1</td>\n",
       "    </tr>\n",
       "    <tr>\n",
       "      <th>3</th>\n",
       "      <td>3</td>\n",
       "      <td>7.466667</td>\n",
       "      <td>0.186667</td>\n",
       "      <td>0.373333</td>\n",
       "      <td>1.266667</td>\n",
       "      <td>0.050000</td>\n",
       "      <td>11.333333</td>\n",
       "      <td>40.000000</td>\n",
       "      <td>0.665333</td>\n",
       "      <td>2.106667</td>\n",
       "      <td>0.386667</td>\n",
       "      <td>6.533333</td>\n",
       "      <td>2</td>\n",
       "    </tr>\n",
       "    <tr>\n",
       "      <th>4</th>\n",
       "      <td>4</td>\n",
       "      <td>4.933333</td>\n",
       "      <td>0.466667</td>\n",
       "      <td>0.000000</td>\n",
       "      <td>1.266667</td>\n",
       "      <td>0.050667</td>\n",
       "      <td>7.333333</td>\n",
       "      <td>22.666667</td>\n",
       "      <td>0.665200</td>\n",
       "      <td>2.340000</td>\n",
       "      <td>0.373333</td>\n",
       "      <td>6.266667</td>\n",
       "      <td>1</td>\n",
       "    </tr>\n",
       "  </tbody>\n",
       "</table>\n",
       "</div>"
      ],
      "text/plain": [
       "   nr.   factorA   factorB  citric catoda  residual butanol   caroton  \\\n",
       "0    0  4.933333  0.466667       0.000000          1.266667  0.050667   \n",
       "1    1  5.200000  0.586667       0.000000          1.733333  0.065333   \n",
       "2    2  5.200000  0.506667       0.026667          1.533333  0.061333   \n",
       "3    3  7.466667  0.186667       0.373333          1.266667  0.050000   \n",
       "4    4  4.933333  0.466667       0.000000          1.266667  0.050667   \n",
       "\n",
       "   stable nodinol  sulfur in nodinol   density        pH   noracid   lacapon  \\\n",
       "0        7.333333          22.666667  0.665200  2.340000  0.373333  6.266667   \n",
       "1       16.666667          44.666667  0.664533  2.133333  0.453333  6.533333   \n",
       "2       10.000000          36.000000  0.664667  2.173333  0.433333  6.533333   \n",
       "3       11.333333          40.000000  0.665333  2.106667  0.386667  6.533333   \n",
       "4        7.333333          22.666667  0.665200  2.340000  0.373333  6.266667   \n",
       "\n",
       "   quality class  \n",
       "0              1  \n",
       "1              1  \n",
       "2              1  \n",
       "3              2  \n",
       "4              1  "
      ]
     },
     "execution_count": 1,
     "metadata": {},
     "output_type": "execute_result"
    }
   ],
   "source": [
    "import pandas as pd\n",
    "import numpy as np\n",
    "\n",
    "df = pd.read_csv('c:/2/poliaxid.csv', index_col=0)\n",
    "#del df['Unnamed: 0.1']\n",
    "df.head(5)"
   ]
  },
  {
   "cell_type": "markdown",
   "metadata": {},
   "source": [
    "Z ciekawości sprawdzamy jaki jest poziom korelacji pomiędzy zmiennymi niezależnymi."
   ]
  },
  {
   "cell_type": "code",
   "execution_count": 2,
   "metadata": {},
   "outputs": [
    {
     "data": {
      "text/plain": [
       "<function matplotlib.pyplot.show(*args, **kw)>"
      ]
     },
     "execution_count": 2,
     "metadata": {},
     "output_type": "execute_result"
    }
   ],
   "source": [
    "import seaborn as sns\n",
    "import matplotlib.pyplot as plt\n",
    "plt.figure(figsize=(10,10))\n",
    "\n",
    "\n",
    "CORREL = df.corr()\n",
    "sns.heatmap(CORREL, cmap=\"YlGnBu\", annot=True, cbar=False)\n",
    "plt.show"
   ]
  },
  {
   "cell_type": "markdown",
   "metadata": {},
   "source": [
    "Widać wyraźnie, że niektóre zmienne są ze sobą silnie skorelowane. Nie możemy ich ślepo eliminować z modelu. Następnym krokiem jest stworzenie prostego modelu regresji wielorakiej OLS.\n",
    "\n",
    "Rutynowo sprawdzamy kompletność i format danych."
   ]
  },
  {
   "cell_type": "code",
   "execution_count": 3,
   "metadata": {},
   "outputs": [
    {
     "data": {
      "text/plain": [
       "nr.                  0\n",
       "factorA              0\n",
       "factorB              0\n",
       "citric catoda        0\n",
       "residual butanol     0\n",
       "caroton              0\n",
       "stable nodinol       0\n",
       "sulfur in nodinol    0\n",
       "density              0\n",
       "pH                   0\n",
       "noracid              0\n",
       "lacapon              0\n",
       "quality class        0\n",
       "dtype: int64"
      ]
     },
     "execution_count": 3,
     "metadata": {},
     "output_type": "execute_result"
    }
   ],
   "source": [
    "df.isnull().sum()"
   ]
  },
  {
   "cell_type": "code",
   "execution_count": 4,
   "metadata": {},
   "outputs": [
    {
     "data": {
      "text/plain": [
       "nr.                    int64\n",
       "factorA              float64\n",
       "factorB              float64\n",
       "citric catoda        float64\n",
       "residual butanol     float64\n",
       "caroton              float64\n",
       "stable nodinol       float64\n",
       "sulfur in nodinol    float64\n",
       "density              float64\n",
       "pH                   float64\n",
       "noracid              float64\n",
       "lacapon              float64\n",
       "quality class          int64\n",
       "dtype: object"
      ]
     },
     "execution_count": 4,
     "metadata": {},
     "output_type": "execute_result"
    }
   ],
   "source": [
    "df.dtypes"
   ]
  },
  {
   "cell_type": "markdown",
   "metadata": {},
   "source": [
    "Budujemy regresję liniową w bibliotece statmodel.\n",
    "\n",
    "### <span style=\"color:blue\">Tworzymy model regresji liniowej</span>"
   ]
  },
  {
   "cell_type": "code",
   "execution_count": 5,
   "metadata": {},
   "outputs": [
    {
     "data": {
      "text/plain": [
       "Index(['nr.', 'factorA', 'factorB', 'citric catoda', 'residual butanol',\n",
       "       'caroton', 'stable nodinol', 'sulfur in nodinol', 'density', 'pH',\n",
       "       'noracid', 'lacapon', 'quality class'],\n",
       "      dtype='object')"
      ]
     },
     "execution_count": 5,
     "metadata": {},
     "output_type": "execute_result"
    }
   ],
   "source": [
    "df.columns"
   ]
  },
  {
   "cell_type": "code",
   "execution_count": 6,
   "metadata": {},
   "outputs": [],
   "source": [
    "df.columns=['nr.', 'factorA', 'factorB', 'citric_catoda', 'residual_butanol',\n",
    "       'caroton', 'stable_nodinol', 'sulfur_in_nodinol', 'density', 'pH',\n",
    "       'noracid', 'lacapon', 'quality_class']"
   ]
  },
  {
   "cell_type": "code",
   "execution_count": 7,
   "metadata": {},
   "outputs": [],
   "source": [
    "#import statsmodels.api as sm\n",
    "#from statsmodels.formula.api import ols"
   ]
  },
  {
   "cell_type": "markdown",
   "metadata": {},
   "source": [
    "## VIF (Variation Inflation Factor)\n",
    "\n",
    "Dzięki temu czynnikowi jesteśmy w stanie wskazać, która zmienna powinna zostać wyeliminowana z modelu."
   ]
  },
  {
   "cell_type": "code",
   "execution_count": 8,
   "metadata": {},
   "outputs": [
    {
     "data": {
      "text/plain": [
       "Index(['nr.', 'factorA', 'factorB', 'citric_catoda', 'residual_butanol',\n",
       "       'caroton', 'stable_nodinol', 'sulfur_in_nodinol', 'density', 'pH',\n",
       "       'noracid', 'lacapon', 'quality_class'],\n",
       "      dtype='object')"
      ]
     },
     "execution_count": 8,
     "metadata": {},
     "output_type": "execute_result"
    }
   ],
   "source": [
    "df.columns"
   ]
  },
  {
   "cell_type": "code",
   "execution_count": 9,
   "metadata": {},
   "outputs": [
    {
     "name": "stdout",
     "output_type": "stream",
     "text": [
      "[1709157.8270185539, 7.777537721773227, 1.7885509640263009, 3.1329923025205733, 1.7030403470293642, 1.4834333245817521, 1.9734391365941484, 6.3474498618969335, 2.20192092692558, 3.323580122673945, 1.429921652882204, 3.034070351762669]\n"
     ]
    }
   ],
   "source": [
    "from patsy import dmatrices\n",
    "from statsmodels.stats.outliers_influence import variance_inflation_factor\n",
    "import statsmodels.formula.api as smf\n",
    "\n",
    "lm = smf.ols(formula = 'quality_class ~ factorA+factorB+citric_catoda+residual_butanol+caroton+stable_nodinol+density+sulfur_in_nodinol+pH+noracid+lacapon', data = df).fit()\n",
    "y, X = dmatrices('quality_class ~ factorA+factorB+citric_catoda+residual_butanol+caroton+stable_nodinol+density+sulfur_in_nodinol+pH+noracid+lacapon', data = df, return_type = \"dataframe\")\n",
    "vif = [variance_inflation_factor(X.values, i) for i in range(X.shape[1])]\n",
    "print(vif)"
   ]
  },
  {
   "cell_type": "markdown",
   "metadata": {},
   "source": [
    "Ustawiamy macierz wyników."
   ]
  },
  {
   "cell_type": "code",
   "execution_count": 10,
   "metadata": {},
   "outputs": [
    {
     "data": {
      "text/plain": [
       "Index(['Intercept', 'factorA', 'factorB', 'citric_catoda', 'residual_butanol',\n",
       "       'caroton', 'stable_nodinol', 'density', 'sulfur_in_nodinol', 'pH',\n",
       "       'noracid', 'lacapon'],\n",
       "      dtype='object')"
      ]
     },
     "execution_count": 10,
     "metadata": {},
     "output_type": "execute_result"
    }
   ],
   "source": [
    "X.columns"
   ]
  },
  {
   "cell_type": "code",
   "execution_count": 11,
   "metadata": {},
   "outputs": [],
   "source": [
    "vif  =  np.round(vif, decimals=2) "
   ]
  },
  {
   "cell_type": "code",
   "execution_count": 12,
   "metadata": {},
   "outputs": [],
   "source": [
    "vif = list(map(float, vif))\n",
    "name = list(X)"
   ]
  },
  {
   "cell_type": "code",
   "execution_count": 13,
   "metadata": {},
   "outputs": [
    {
     "data": {
      "text/html": [
       "<div>\n",
       "<style scoped>\n",
       "    .dataframe tbody tr th:only-of-type {\n",
       "        vertical-align: middle;\n",
       "    }\n",
       "\n",
       "    .dataframe tbody tr th {\n",
       "        vertical-align: top;\n",
       "    }\n",
       "\n",
       "    .dataframe thead th {\n",
       "        text-align: right;\n",
       "    }\n",
       "</style>\n",
       "<table border=\"1\" class=\"dataframe\">\n",
       "  <thead>\n",
       "    <tr style=\"text-align: right;\">\n",
       "      <th></th>\n",
       "      <th>name</th>\n",
       "      <th>vif</th>\n",
       "    </tr>\n",
       "  </thead>\n",
       "  <tbody>\n",
       "    <tr>\n",
       "      <th>0</th>\n",
       "      <td>Intercept</td>\n",
       "      <td>1709157.83</td>\n",
       "    </tr>\n",
       "    <tr>\n",
       "      <th>1</th>\n",
       "      <td>factorA</td>\n",
       "      <td>7.78</td>\n",
       "    </tr>\n",
       "    <tr>\n",
       "      <th>2</th>\n",
       "      <td>factorB</td>\n",
       "      <td>1.79</td>\n",
       "    </tr>\n",
       "    <tr>\n",
       "      <th>3</th>\n",
       "      <td>citric_catoda</td>\n",
       "      <td>3.13</td>\n",
       "    </tr>\n",
       "    <tr>\n",
       "      <th>4</th>\n",
       "      <td>residual_butanol</td>\n",
       "      <td>1.70</td>\n",
       "    </tr>\n",
       "    <tr>\n",
       "      <th>5</th>\n",
       "      <td>caroton</td>\n",
       "      <td>1.48</td>\n",
       "    </tr>\n",
       "    <tr>\n",
       "      <th>6</th>\n",
       "      <td>stable_nodinol</td>\n",
       "      <td>1.97</td>\n",
       "    </tr>\n",
       "    <tr>\n",
       "      <th>7</th>\n",
       "      <td>density</td>\n",
       "      <td>6.35</td>\n",
       "    </tr>\n",
       "    <tr>\n",
       "      <th>8</th>\n",
       "      <td>sulfur_in_nodinol</td>\n",
       "      <td>2.20</td>\n",
       "    </tr>\n",
       "    <tr>\n",
       "      <th>9</th>\n",
       "      <td>pH</td>\n",
       "      <td>3.32</td>\n",
       "    </tr>\n",
       "    <tr>\n",
       "      <th>10</th>\n",
       "      <td>noracid</td>\n",
       "      <td>1.43</td>\n",
       "    </tr>\n",
       "    <tr>\n",
       "      <th>11</th>\n",
       "      <td>lacapon</td>\n",
       "      <td>3.03</td>\n",
       "    </tr>\n",
       "  </tbody>\n",
       "</table>\n",
       "</div>"
      ],
      "text/plain": [
       "                 name         vif\n",
       "0           Intercept  1709157.83\n",
       "1             factorA        7.78\n",
       "2             factorB        1.79\n",
       "3       citric_catoda        3.13\n",
       "4    residual_butanol        1.70\n",
       "5             caroton        1.48\n",
       "6      stable_nodinol        1.97\n",
       "7             density        6.35\n",
       "8   sulfur_in_nodinol        2.20\n",
       "9                  pH        3.32\n",
       "10            noracid        1.43\n",
       "11            lacapon        3.03"
      ]
     },
     "execution_count": 13,
     "metadata": {},
     "output_type": "execute_result"
    }
   ],
   "source": [
    "s1=pd.Series(name,name='name')\n",
    "s2=pd.Series( vif,name='vif')\n",
    "\n",
    "RFE_list = pd.concat([s1,s2], axis=1)\n",
    "\n",
    "RFE_list"
   ]
  },
  {
   "cell_type": "markdown",
   "metadata": {},
   "source": [
    "Interpretacja: wynik w postaci wektora reprezentuje zmienną w określonej kolejności jak w modelu. W zaleceniu VIF wskazano, że jeśli współczynnik przypisany do zmiennej jest większy niż 5, zmienna ta jest wysoce skorelowana z innymi zmiennymi i powinna zostać wyeliminowana z modelu.\n",
    "\n",
    "Test wykazał, że zmienne: _density_ oraz _factorA_ powinny zostać usunięta z modelu.\n",
    "jeszcze raz oglądamy macierz korelacji"
   ]
  },
  {
   "cell_type": "markdown",
   "metadata": {},
   "source": [
    "### Jeszcze raz tworzymy macierz korelacji vif i sprawdzamy zmienne po wyeliminowaniu: factorA i density."
   ]
  },
  {
   "cell_type": "code",
   "execution_count": 14,
   "metadata": {},
   "outputs": [
    {
     "name": "stdout",
     "output_type": "stream",
     "text": [
      "[809.2230489081707, 1.6530213053949512, 2.1806661580635818, 1.093561268844909, 1.3702675584858117, 1.9475860748759193, 2.0181057450324356, 1.6077595870352759, 1.3354874384986997, 1.2793132834168612]\n"
     ]
    }
   ],
   "source": [
    "lm = smf.ols(formula = 'quality_class ~ factorB+citric_catoda+residual_butanol+caroton+stable_nodinol+sulfur_in_nodinol+pH+noracid+lacapon', data = df).fit()\n",
    "y, X = dmatrices('quality_class ~ factorB+citric_catoda+residual_butanol+caroton+stable_nodinol+sulfur_in_nodinol+pH+noracid+lacapon', data = df, return_type = \"dataframe\")\n",
    "vif2 = [variance_inflation_factor(X.values, i) for i in range(X.shape[1])]\n",
    "print(vif2)"
   ]
  },
  {
   "cell_type": "code",
   "execution_count": 15,
   "metadata": {},
   "outputs": [
    {
     "data": {
      "text/html": [
       "<div>\n",
       "<style scoped>\n",
       "    .dataframe tbody tr th:only-of-type {\n",
       "        vertical-align: middle;\n",
       "    }\n",
       "\n",
       "    .dataframe tbody tr th {\n",
       "        vertical-align: top;\n",
       "    }\n",
       "\n",
       "    .dataframe thead th {\n",
       "        text-align: right;\n",
       "    }\n",
       "</style>\n",
       "<table border=\"1\" class=\"dataframe\">\n",
       "  <thead>\n",
       "    <tr style=\"text-align: right;\">\n",
       "      <th></th>\n",
       "      <th>name</th>\n",
       "      <th>vif</th>\n",
       "    </tr>\n",
       "  </thead>\n",
       "  <tbody>\n",
       "    <tr>\n",
       "      <th>0</th>\n",
       "      <td>Intercept</td>\n",
       "      <td>809.223049</td>\n",
       "    </tr>\n",
       "    <tr>\n",
       "      <th>1</th>\n",
       "      <td>factorB</td>\n",
       "      <td>1.653021</td>\n",
       "    </tr>\n",
       "    <tr>\n",
       "      <th>2</th>\n",
       "      <td>citric_catoda</td>\n",
       "      <td>2.180666</td>\n",
       "    </tr>\n",
       "    <tr>\n",
       "      <th>3</th>\n",
       "      <td>residual_butanol</td>\n",
       "      <td>1.093561</td>\n",
       "    </tr>\n",
       "    <tr>\n",
       "      <th>4</th>\n",
       "      <td>caroton</td>\n",
       "      <td>1.370268</td>\n",
       "    </tr>\n",
       "    <tr>\n",
       "      <th>5</th>\n",
       "      <td>stable_nodinol</td>\n",
       "      <td>1.947586</td>\n",
       "    </tr>\n",
       "    <tr>\n",
       "      <th>6</th>\n",
       "      <td>sulfur_in_nodinol</td>\n",
       "      <td>2.018106</td>\n",
       "    </tr>\n",
       "    <tr>\n",
       "      <th>7</th>\n",
       "      <td>pH</td>\n",
       "      <td>1.607760</td>\n",
       "    </tr>\n",
       "    <tr>\n",
       "      <th>8</th>\n",
       "      <td>noracid</td>\n",
       "      <td>1.335487</td>\n",
       "    </tr>\n",
       "    <tr>\n",
       "      <th>9</th>\n",
       "      <td>lacapon</td>\n",
       "      <td>1.279313</td>\n",
       "    </tr>\n",
       "  </tbody>\n",
       "</table>\n",
       "</div>"
      ],
      "text/plain": [
       "                name         vif\n",
       "0          Intercept  809.223049\n",
       "1            factorB    1.653021\n",
       "2      citric_catoda    2.180666\n",
       "3   residual_butanol    1.093561\n",
       "4            caroton    1.370268\n",
       "5     stable_nodinol    1.947586\n",
       "6  sulfur_in_nodinol    2.018106\n",
       "7                 pH    1.607760\n",
       "8            noracid    1.335487\n",
       "9            lacapon    1.279313"
      ]
     },
     "execution_count": 15,
     "metadata": {},
     "output_type": "execute_result"
    }
   ],
   "source": [
    "X2 = 'Intercept', 'factorB', 'citric_catoda', 'residual_butanol','caroton', 'stable_nodinol', 'sulfur_in_nodinol', 'pH','noracid', 'lacapon'\n",
    "\n",
    "\n",
    "vif  =  np.round(vif2, decimals=2) \n",
    "vif = list(map(float, vif2))\n",
    "name = list(X2)\n",
    "\n",
    "s1=pd.Series(name,name='name')\n",
    "s2=pd.Series( vif2,name='vif')\n",
    "\n",
    "RFE_list = pd.concat([s1,s2], axis=1)\n",
    "\n",
    "RFE_list"
   ]
  },
  {
   "cell_type": "markdown",
   "metadata": {},
   "source": [
    "Teraz wyraźnie zmienjaszył się poziom vif, oznacza to że zminiejszył się stopień multicollinearity,"
   ]
  }
 ],
 "metadata": {
  "kernelspec": {
   "display_name": "Python 3",
   "language": "python",
   "name": "python3"
  },
  "language_info": {
   "codemirror_mode": {
    "name": "ipython",
    "version": 3
   },
   "file_extension": ".py",
   "mimetype": "text/x-python",
   "name": "python",
   "nbconvert_exporter": "python",
   "pygments_lexer": "ipython3",
   "version": "3.6.8"
  }
 },
 "nbformat": 4,
 "nbformat_minor": 2
}
