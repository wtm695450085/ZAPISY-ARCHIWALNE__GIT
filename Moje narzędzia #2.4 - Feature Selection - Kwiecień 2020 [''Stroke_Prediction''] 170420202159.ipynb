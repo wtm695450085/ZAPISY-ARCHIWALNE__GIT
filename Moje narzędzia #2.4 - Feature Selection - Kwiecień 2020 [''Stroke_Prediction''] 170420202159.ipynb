{
 "cells": [
  {
   "cell_type": "markdown",
   "metadata": {},
   "source": [
    "### Moje narzędzia #2.4 - Feature Selection - Kwiecień 2020 [''Stroke_Prediction'']"
   ]
  },
  {
   "cell_type": "code",
   "execution_count": 1,
   "metadata": {},
   "outputs": [
    {
     "name": "stdout",
     "output_type": "stream",
     "text": [
      "(43400, 12)\n",
      "\n",
      "Index(['ID', 'Gender', 'Age_In_Days', 'Hypertension', 'Heart_Disease',\n",
      "       'Ever_Married', 'Type_Of_Work', 'Residence', 'Avg_Glucose', 'BMI',\n",
      "       'Smoking_Status', 'Stroke'],\n",
      "      dtype='object')\n"
     ]
    },
    {
     "data": {
      "text/html": [
       "<div>\n",
       "<style scoped>\n",
       "    .dataframe tbody tr th:only-of-type {\n",
       "        vertical-align: middle;\n",
       "    }\n",
       "\n",
       "    .dataframe tbody tr th {\n",
       "        vertical-align: top;\n",
       "    }\n",
       "\n",
       "    .dataframe thead th {\n",
       "        text-align: right;\n",
       "    }\n",
       "</style>\n",
       "<table border=\"1\" class=\"dataframe\">\n",
       "  <thead>\n",
       "    <tr style=\"text-align: right;\">\n",
       "      <th></th>\n",
       "      <th>ID</th>\n",
       "      <th>Gender</th>\n",
       "      <th>Age_In_Days</th>\n",
       "      <th>Hypertension</th>\n",
       "      <th>Heart_Disease</th>\n",
       "      <th>Ever_Married</th>\n",
       "      <th>Type_Of_Work</th>\n",
       "      <th>Residence</th>\n",
       "      <th>Avg_Glucose</th>\n",
       "      <th>BMI</th>\n",
       "      <th>Smoking_Status</th>\n",
       "      <th>Stroke</th>\n",
       "    </tr>\n",
       "  </thead>\n",
       "  <tbody>\n",
       "    <tr>\n",
       "      <td>0</td>\n",
       "      <td>31153</td>\n",
       "      <td>Male</td>\n",
       "      <td>1104.0</td>\n",
       "      <td>0</td>\n",
       "      <td>0</td>\n",
       "      <td>No</td>\n",
       "      <td>children</td>\n",
       "      <td>Rural</td>\n",
       "      <td>95.12</td>\n",
       "      <td>18.0</td>\n",
       "      <td>NaN</td>\n",
       "      <td>0</td>\n",
       "    </tr>\n",
       "    <tr>\n",
       "      <td>1</td>\n",
       "      <td>30650</td>\n",
       "      <td>Male</td>\n",
       "      <td>21204.0</td>\n",
       "      <td>1</td>\n",
       "      <td>0</td>\n",
       "      <td>Yes</td>\n",
       "      <td>Private</td>\n",
       "      <td>Urban</td>\n",
       "      <td>87.96</td>\n",
       "      <td>39.2</td>\n",
       "      <td>never smoked</td>\n",
       "      <td>0</td>\n",
       "    </tr>\n",
       "    <tr>\n",
       "      <td>2</td>\n",
       "      <td>17412</td>\n",
       "      <td>Female</td>\n",
       "      <td>2928.0</td>\n",
       "      <td>0</td>\n",
       "      <td>0</td>\n",
       "      <td>No</td>\n",
       "      <td>Private</td>\n",
       "      <td>Urban</td>\n",
       "      <td>110.89</td>\n",
       "      <td>17.6</td>\n",
       "      <td>NaN</td>\n",
       "      <td>0</td>\n",
       "    </tr>\n",
       "  </tbody>\n",
       "</table>\n",
       "</div>"
      ],
      "text/plain": [
       "      ID  Gender  Age_In_Days  Hypertension  Heart_Disease Ever_Married  \\\n",
       "0  31153    Male       1104.0             0              0           No   \n",
       "1  30650    Male      21204.0             1              0          Yes   \n",
       "2  17412  Female       2928.0             0              0           No   \n",
       "\n",
       "  Type_Of_Work Residence  Avg_Glucose   BMI Smoking_Status  Stroke  \n",
       "0     children     Rural        95.12  18.0            NaN       0  \n",
       "1      Private     Urban        87.96  39.2   never smoked       0  \n",
       "2      Private     Urban       110.89  17.6            NaN       0  "
      ]
     },
     "execution_count": 1,
     "metadata": {},
     "output_type": "execute_result"
    }
   ],
   "source": [
    "import pandas as pd\n",
    "import numpy as np\n",
    "import seaborn as sns\n",
    "import matplotlib.pyplot as plt\n",
    "import warnings \n",
    "\n",
    "warnings.filterwarnings(\"ignore\")\n",
    "\n",
    "%matplotlib inline\n",
    "\n",
    "df= pd.read_csv('/home/wojciech/Pulpit/1/Stroke_Prediction.csv')\n",
    "print(df.shape)\n",
    "print()\n",
    "print(df.columns)\n",
    "df.head(3)"
   ]
  },
  {
   "cell_type": "markdown",
   "metadata": {},
   "source": [
    "### <span style=\"color:green\"> Kasuje bezsensowne kolumny"
   ]
  },
  {
   "cell_type": "code",
   "execution_count": 2,
   "metadata": {},
   "outputs": [],
   "source": [
    "# del df['Unnamed: 0']\n",
    "# del df['Unnamed: 0.1']"
   ]
  },
  {
   "cell_type": "markdown",
   "metadata": {},
   "source": [
    "### <span style=\"color:green\"> Wielkość bazy df jest ogromna - wyciągam tylko 100% losowo wybranych rekordów</span> \n",
    "Taka metoda jest najbardziej reprezentatywna i oszczędza zasoby komputera."
   ]
  },
  {
   "cell_type": "code",
   "execution_count": 5,
   "metadata": {},
   "outputs": [
    {
     "data": {
      "text/plain": [
       "(43400, 12)"
      ]
     },
     "execution_count": 5,
     "metadata": {},
     "output_type": "execute_result"
    }
   ],
   "source": [
    "df2 = df.sample(frac = 1.00, random_state=10)\n",
    "df2.shape"
   ]
  },
  {
   "cell_type": "markdown",
   "metadata": {},
   "source": [
    "## <span style=\"color:green\"> Wyświetlenie braków </span>  (własnej roboty)"
   ]
  },
  {
   "cell_type": "code",
   "execution_count": 6,
   "metadata": {},
   "outputs": [
    {
     "name": "stdout",
     "output_type": "stream",
     "text": [
      "NUMBER OF EMPTY RECORDS vs. FULL RECORDS\n",
      "----------------------------------------\n",
      "BMI -------- 1462 -------- 41938 -------- 3.4860985263961086\n",
      "Smoking_Status -------- 13292 -------- 30108 -------- 44.14773482130995\n"
     ]
    }
   ],
   "source": [
    "a,b = df2.shape     #<- ile mamy kolumn\n",
    "b\n",
    "\n",
    "print('NUMBER OF EMPTY RECORDS vs. FULL RECORDS')\n",
    "print('----------------------------------------')\n",
    "for i in range(1,b):\n",
    "    i = df2.columns[i]\n",
    "    r = df2[i].isnull().sum()\n",
    "    h = df2[i].count()\n",
    "    pr = (r/h)*100\n",
    "   \n",
    "    if r > 0:\n",
    "        print(i,\"--------\",r,\"--------\",h,\"--------\",pr) "
   ]
  },
  {
   "cell_type": "markdown",
   "metadata": {},
   "source": [
    "## <span style=\"color:green\"> Nie warto kasować rekordów z brakami tylko warto wstawiać tam wartości z poza zakresu </span>"
   ]
  },
  {
   "cell_type": "markdown",
   "metadata": {},
   "source": [
    "Wyszukuje tylko puste rekordy"
   ]
  },
  {
   "cell_type": "code",
   "execution_count": 7,
   "metadata": {},
   "outputs": [
    {
     "data": {
      "text/plain": [
       "BMI                1462\n",
       "Smoking_Status    13292\n",
       "dtype: int64"
      ]
     },
     "execution_count": 7,
     "metadata": {},
     "output_type": "execute_result"
    }
   ],
   "source": [
    "null_value_stats = df2.isnull().sum(axis=0)\n",
    "null_value_stats[null_value_stats != 0]"
   ]
  },
  {
   "cell_type": "code",
   "execution_count": 8,
   "metadata": {},
   "outputs": [
    {
     "data": {
      "text/plain": [
       "<matplotlib.axes._subplots.AxesSubplot at 0x7fa6b8243490>"
      ]
     },
     "execution_count": 8,
     "metadata": {},
     "output_type": "execute_result"
    },
    {
     "data": {
      "image/png": "[encoded data removed]",
      "text/plain": [
       "<Figure size 432x288 with 1 Axes>"
      ]
     },
     "metadata": {
      "needs_background": "light"
     },
     "output_type": "display_data"
    }
   ],
   "source": [
    "import seaborn as sns\n",
    "\n",
    "sns.heatmap(df2.isnull(),yticklabels=False,cbar=False,cmap='viridis')"
   ]
  },
  {
   "cell_type": "markdown",
   "metadata": {},
   "source": [
    "Wstawia w puste miejsca wartości z poza zakresu"
   ]
  },
  {
   "cell_type": "code",
   "execution_count": 9,
   "metadata": {},
   "outputs": [],
   "source": [
    "df2.fillna(7777, inplace=True)"
   ]
  },
  {
   "cell_type": "markdown",
   "metadata": {},
   "source": [
    "## <span style=\"color:green\"> Przegląd danych pod kontem formatu i ilości wartości unikalnych</span>  (własnej roboty)"
   ]
  },
  {
   "cell_type": "code",
   "execution_count": 10,
   "metadata": {},
   "outputs": [
    {
     "name": "stdout",
     "output_type": "stream",
     "text": [
      "object ---nunique-> 3 ---name-> Gender\n",
      "float64 ---nunique-> 4848 ---name-> Age_In_Days\n",
      "int64 ---nunique-> 2 ---name-> Hypertension\n",
      "int64 ---nunique-> 2 ---name-> Heart_Disease\n",
      "object ---nunique-> 2 ---name-> Ever_Married\n",
      "object ---nunique-> 5 ---name-> Type_Of_Work\n",
      "object ---nunique-> 2 ---name-> Residence\n",
      "float64 ---nunique-> 12543 ---name-> Avg_Glucose\n",
      "float64 ---nunique-> 556 ---name-> BMI\n",
      "object ---nunique-> 4 ---name-> Smoking_Status\n",
      "int64 ---nunique-> 2 ---name-> Stroke\n"
     ]
    }
   ],
   "source": [
    "a,b = df2.shape     #<- ile mamy kolumn\n",
    "b\n",
    "\n",
    "import numpy as np\n",
    "\n",
    "for i in range(1,b):\n",
    "    i = df2.columns[i]\n",
    "    h = df2[i].nunique()\n",
    "    f = df2[i].dtypes\n",
    "          \n",
    "    print(f,'---nunique->',h,'---name->', i)"
   ]
  },
  {
   "cell_type": "markdown",
   "metadata": {},
   "source": [
    "## <span style=\"color:green\"> Które z tych funkcji są kategoryczne?</span> (własnej roboty)\n",
    "\n",
    "Stawiam dwa warunki: \n",
    "\n",
    "1. funkcja jest kategoryczna bo ma format 'object'\n",
    "2. funkcja jest kategoryczna bo ma do 10 unikalnych wartości"
   ]
  },
  {
   "cell_type": "code",
   "execution_count": 11,
   "metadata": {},
   "outputs": [
    {
     "name": "stdout",
     "output_type": "stream",
     "text": [
      "ONLY DISCRETE FUNCTION\n",
      "----------------------\n",
      "Gender --- object --- 3\n",
      "Hypertension --- int64 --- 2\n",
      "Heart_Disease --- int64 --- 2\n",
      "Ever_Married --- object --- 2\n",
      "Type_Of_Work --- object --- 5\n",
      "Residence --- object --- 2\n",
      "Smoking_Status --- object --- 4\n",
      "Stroke --- int64 --- 2\n"
     ]
    }
   ],
   "source": [
    "a,b = df2.shape     #<- ile mamy kolumn\n",
    "b\n",
    "\n",
    "print('ONLY DISCRETE FUNCTION')\n",
    "print('----------------------')\n",
    "for i in range(1,b):\n",
    "    i = df2.columns[i]\n",
    "    f = df2[i].dtypes\n",
    "    h = df2[i].nunique()\n",
    "    \n",
    "    if f == np.object or h<=10:\n",
    "        print(i,\"---\",f,\"---\",h)"
   ]
  },
  {
   "cell_type": "markdown",
   "metadata": {},
   "source": [
    "#### Potrzebujemy listy z numerami kolumnaby użyć jej w CatBoost¶"
   ]
  },
  {
   "cell_type": "code",
   "execution_count": 12,
   "metadata": {},
   "outputs": [
    {
     "name": "stdout",
     "output_type": "stream",
     "text": [
      "\n",
      "categorical_fun:  8\n",
      "categorical_fun:  [ 1  3  4  5  6  7 10 11]\n",
      "\n",
      "numerical_fun:  4\n",
      "numerical_fun:  [0 2 8 9]\n",
      "\n",
      "LICZBA KOLUMN MA SIĘ ZGADZAĆ!\n",
      "all columns:                      12\n",
      "numerical_fun + categorical_fun:  12\n"
     ]
    }
   ],
   "source": [
    "import numpy as np\n",
    "a,b = df2.shape     #<- ile mamy kolumn\n",
    "b\n",
    "\n",
    "print()\n",
    "categorical_fun = np.where((df2.dtypes == np.object)|(df2.nunique() <= 15))[0]\n",
    "x1 = len(categorical_fun)\n",
    "print('categorical_fun: ',x1)\n",
    "print('categorical_fun: ',categorical_fun)\n",
    "print()\n",
    "numerical_fun = np.where((df2.dtypes != np.object)&(df2.nunique() > 15))[0]\n",
    "x2 = len(numerical_fun)\n",
    "print('numerical_fun: ',x2)\n",
    "print('numerical_fun: ',numerical_fun)\n",
    "print()\n",
    "print('LICZBA KOLUMN MA SIĘ ZGADZAĆ!')\n",
    "print('all columns:                     ',b)\n",
    "print('numerical_fun + categorical_fun: ',x1+x2)"
   ]
  },
  {
   "cell_type": "markdown",
   "metadata": {},
   "source": [
    "## <span style=\"color:red\"> Uwaga! \n",
    "#### <span style=\"color:red\">    1. dane categorialne nie muszą mieć tylko formatu tekstowego, \n",
    "\n",
    "#### <span style=\"color:red\">    2. dane tekstowe trzeba przerobić do formatu numerycznego "
   ]
  },
  {
   "cell_type": "markdown",
   "metadata": {},
   "source": [
    "### <span style=\"color:green\"> Narzędzie do automatycznego kodowania zmiennych dyskretnych </span>(własnej roboty)\n"
   ]
  },
  {
   "cell_type": "code",
   "execution_count": 13,
   "metadata": {},
   "outputs": [
    {
     "name": "stdout",
     "output_type": "stream",
     "text": [
      "DISCRETE FUNCTIONS CODED\n",
      "------------------------\n",
      "Gender --- object\n",
      "Ever_Married --- object\n",
      "Type_Of_Work --- object\n",
      "Residence --- object\n",
      "Smoking_Status --- object\n"
     ]
    }
   ],
   "source": [
    "a,b = df2.shape     #<- ile mamy kolumn\n",
    "b\n",
    "\n",
    "print('DISCRETE FUNCTIONS CODED')\n",
    "print('------------------------')\n",
    "for i in range(1,b):\n",
    "    i = df2.columns[i]\n",
    "    f = df2[i].dtypes\n",
    "    if f == np.object:\n",
    "        print(i,\"---\",f)   \n",
    "    \n",
    "        if f == np.object:\n",
    "        \n",
    "            df2[i] = pd.Categorical(df2[i]).codes\n",
    "        \n",
    "            continue"
   ]
  },
  {
   "cell_type": "markdown",
   "metadata": {},
   "source": [
    "### <span style=\"color:green\"> Narzędzie do automatycznej zmiany znaku na plus </span>(własnej roboty)"
   ]
  },
  {
   "cell_type": "code",
   "execution_count": 14,
   "metadata": {},
   "outputs": [
    {
     "data": {
      "text/plain": [
       "40901    False\n",
       "35943    False\n",
       "34620    False\n",
       "15550    False\n",
       "40360    False\n",
       "         ...  \n",
       "40059    False\n",
       "28017    False\n",
       "29199    False\n",
       "40061    False\n",
       "17673    False\n",
       "Length: 43400, dtype: bool"
      ]
     },
     "execution_count": 14,
     "metadata": {},
     "output_type": "execute_result"
    }
   ],
   "source": [
    "(df2 < 0).all(1)"
   ]
  },
  {
   "cell_type": "code",
   "execution_count": 15,
   "metadata": {},
   "outputs": [
    {
     "data": {
      "text/html": [
       "<div>\n",
       "<style scoped>\n",
       "    .dataframe tbody tr th:only-of-type {\n",
       "        vertical-align: middle;\n",
       "    }\n",
       "\n",
       "    .dataframe tbody tr th {\n",
       "        vertical-align: top;\n",
       "    }\n",
       "\n",
       "    .dataframe thead th {\n",
       "        text-align: right;\n",
       "    }\n",
       "</style>\n",
       "<table border=\"1\" class=\"dataframe\">\n",
       "  <thead>\n",
       "    <tr style=\"text-align: right;\">\n",
       "      <th></th>\n",
       "      <th>ID</th>\n",
       "      <th>Gender</th>\n",
       "      <th>Age_In_Days</th>\n",
       "      <th>Hypertension</th>\n",
       "      <th>Heart_Disease</th>\n",
       "      <th>Ever_Married</th>\n",
       "      <th>Type_Of_Work</th>\n",
       "      <th>Residence</th>\n",
       "      <th>Avg_Glucose</th>\n",
       "      <th>BMI</th>\n",
       "      <th>Smoking_Status</th>\n",
       "      <th>Stroke</th>\n",
       "    </tr>\n",
       "  </thead>\n",
       "  <tbody>\n",
       "    <tr>\n",
       "      <td>40901</td>\n",
       "      <td>57244</td>\n",
       "      <td>0</td>\n",
       "      <td>17546.0</td>\n",
       "      <td>0</td>\n",
       "      <td>0</td>\n",
       "      <td>1</td>\n",
       "      <td>2</td>\n",
       "      <td>1</td>\n",
       "      <td>56.54</td>\n",
       "      <td>35.9</td>\n",
       "      <td>2</td>\n",
       "      <td>0</td>\n",
       "    </tr>\n",
       "    <tr>\n",
       "      <td>35943</td>\n",
       "      <td>12001</td>\n",
       "      <td>0</td>\n",
       "      <td>20844.0</td>\n",
       "      <td>0</td>\n",
       "      <td>0</td>\n",
       "      <td>1</td>\n",
       "      <td>2</td>\n",
       "      <td>0</td>\n",
       "      <td>86.48</td>\n",
       "      <td>23.8</td>\n",
       "      <td>2</td>\n",
       "      <td>0</td>\n",
       "    </tr>\n",
       "    <tr>\n",
       "      <td>34620</td>\n",
       "      <td>25334</td>\n",
       "      <td>0</td>\n",
       "      <td>29612.0</td>\n",
       "      <td>0</td>\n",
       "      <td>0</td>\n",
       "      <td>1</td>\n",
       "      <td>2</td>\n",
       "      <td>0</td>\n",
       "      <td>86.86</td>\n",
       "      <td>31.7</td>\n",
       "      <td>2</td>\n",
       "      <td>0</td>\n",
       "    </tr>\n",
       "    <tr>\n",
       "      <td>15550</td>\n",
       "      <td>52679</td>\n",
       "      <td>0</td>\n",
       "      <td>16455.0</td>\n",
       "      <td>0</td>\n",
       "      <td>0</td>\n",
       "      <td>1</td>\n",
       "      <td>2</td>\n",
       "      <td>1</td>\n",
       "      <td>79.49</td>\n",
       "      <td>31.6</td>\n",
       "      <td>2</td>\n",
       "      <td>0</td>\n",
       "    </tr>\n",
       "    <tr>\n",
       "      <td>40360</td>\n",
       "      <td>40046</td>\n",
       "      <td>0</td>\n",
       "      <td>28872.0</td>\n",
       "      <td>0</td>\n",
       "      <td>0</td>\n",
       "      <td>1</td>\n",
       "      <td>3</td>\n",
       "      <td>0</td>\n",
       "      <td>80.47</td>\n",
       "      <td>28.0</td>\n",
       "      <td>2</td>\n",
       "      <td>0</td>\n",
       "    </tr>\n",
       "  </tbody>\n",
       "</table>\n",
       "</div>"
      ],
      "text/plain": [
       "          ID  Gender  Age_In_Days  Hypertension  Heart_Disease  Ever_Married  \\\n",
       "40901  57244       0      17546.0             0              0             1   \n",
       "35943  12001       0      20844.0             0              0             1   \n",
       "34620  25334       0      29612.0             0              0             1   \n",
       "15550  52679       0      16455.0             0              0             1   \n",
       "40360  40046       0      28872.0             0              0             1   \n",
       "\n",
       "       Type_Of_Work  Residence  Avg_Glucose   BMI  Smoking_Status  Stroke  \n",
       "40901             2          1        56.54  35.9               2       0  \n",
       "35943             2          0        86.48  23.8               2       0  \n",
       "34620             2          0        86.86  31.7               2       0  \n",
       "15550             2          1        79.49  31.6               2       0  \n",
       "40360             3          0        80.47  28.0               2       0  "
      ]
     },
     "execution_count": 15,
     "metadata": {},
     "output_type": "execute_result"
    }
   ],
   "source": [
    "df2.head()"
   ]
  },
  {
   "cell_type": "markdown",
   "metadata": {},
   "source": [
    "### <span style=\"color:green\">Szukamy ujemnych wartości i je zmieniamy (przesuwamy) aby były dodatnie\n",
    "Filtr Ch2 nie lubi ujemnych wartości"
   ]
  },
  {
   "cell_type": "code",
   "execution_count": 16,
   "metadata": {},
   "outputs": [
    {
     "name": "stdout",
     "output_type": "stream",
     "text": [
      "NEGATIVE VALUES\n",
      "---------------\n",
      "Age_In_Days --- -16381.0\n"
     ]
    }
   ],
   "source": [
    "a,b = df2.shape     #<- ile mamy kolumn\n",
    "b\n",
    "\n",
    "print('NEGATIVE VALUES')\n",
    "print('---------------')\n",
    "for i in range(1,b):\n",
    "    i = df2.columns[i]\n",
    "    f = df2[i].min()\n",
    "    if f < 0: \n",
    "        print(i,\"---\",f)"
   ]
  },
  {
   "cell_type": "markdown",
   "metadata": {},
   "source": [
    "#### Najpierw trzeba się upewnić czy ujemna wartość to nie jest ewidentny błąd"
   ]
  },
  {
   "cell_type": "code",
   "execution_count": 25,
   "metadata": {},
   "outputs": [
    {
     "data": {
      "text/plain": [
       "0"
      ]
     },
     "execution_count": 25,
     "metadata": {},
     "output_type": "execute_result"
    }
   ],
   "source": [
    "(df2['Age_In_Days']==-16381.0).sum()"
   ]
  },
  {
   "cell_type": "code",
   "execution_count": 26,
   "metadata": {},
   "outputs": [],
   "source": [
    "df2['Age_In_Days'] = df2['Age_In_Days'].replace(-16381.0,0)"
   ]
  },
  {
   "cell_type": "markdown",
   "metadata": {},
   "source": [
    "#### usuwamy wartości ujemne (przesuwamy)"
   ]
  },
  {
   "cell_type": "code",
   "execution_count": 28,
   "metadata": {},
   "outputs": [],
   "source": [
    "#df2['Age_In_Day'] = df2['Age_In_Day']+(-df2['Age_In_Day'].min())\n",
    "#df2['cons_conf_idx'] = df2['cons_conf_idx']+(-df2['cons_conf_idx'].min())"
   ]
  },
  {
   "cell_type": "markdown",
   "metadata": {},
   "source": [
    "### <span style=\"color:green\"> Sprawdzam czy nie ma już zmiennych tekstowych i wartości pustych"
   ]
  },
  {
   "cell_type": "code",
   "execution_count": 33,
   "metadata": {},
   "outputs": [
    {
     "data": {
      "text/plain": [
       "Series([], dtype: int64)"
      ]
     },
     "execution_count": 33,
     "metadata": {},
     "output_type": "execute_result"
    }
   ],
   "source": [
    "null_value_stats = df2.isnull().sum(axis=0)\n",
    "null_value_stats[null_value_stats != 0]"
   ]
  },
  {
   "cell_type": "code",
   "execution_count": 34,
   "metadata": {},
   "outputs": [
    {
     "data": {
      "text/plain": [
       "(array([], dtype=int64),)"
      ]
     },
     "execution_count": 34,
     "metadata": {},
     "output_type": "execute_result"
    }
   ],
   "source": [
    "obj = np.where(df2.dtypes == np.object)\n",
    "obj"
   ]
  },
  {
   "cell_type": "markdown",
   "metadata": {},
   "source": [
    "## <span style= \"color:green\"> Ustawiamy zmienną wynikową (manualnie)"
   ]
  },
  {
   "cell_type": "code",
   "execution_count": 35,
   "metadata": {},
   "outputs": [],
   "source": [
    "result = 'Stroke'"
   ]
  },
  {
   "cell_type": "markdown",
   "metadata": {},
   "source": [
    "# Feature Selection"
   ]
  },
  {
   "cell_type": "markdown",
   "metadata": {},
   "source": [
    "### <span style=\"color:purple\"> Wydzielam zmienne kategoryczne"
   ]
  },
  {
   "cell_type": "code",
   "execution_count": 37,
   "metadata": {},
   "outputs": [
    {
     "data": {
      "text/html": [
       "<div>\n",
       "<style scoped>\n",
       "    .dataframe tbody tr th:only-of-type {\n",
       "        vertical-align: middle;\n",
       "    }\n",
       "\n",
       "    .dataframe tbody tr th {\n",
       "        vertical-align: top;\n",
       "    }\n",
       "\n",
       "    .dataframe thead th {\n",
       "        text-align: right;\n",
       "    }\n",
       "</style>\n",
       "<table border=\"1\" class=\"dataframe\">\n",
       "  <thead>\n",
       "    <tr style=\"text-align: right;\">\n",
       "      <th></th>\n",
       "      <th>Gender</th>\n",
       "      <th>Hypertension</th>\n",
       "      <th>Heart_Disease</th>\n",
       "      <th>Ever_Married</th>\n",
       "      <th>Type_Of_Work</th>\n",
       "      <th>Residence</th>\n",
       "      <th>Smoking_Status</th>\n",
       "      <th>Stroke</th>\n",
       "    </tr>\n",
       "  </thead>\n",
       "  <tbody>\n",
       "    <tr>\n",
       "      <td>40901</td>\n",
       "      <td>0</td>\n",
       "      <td>0</td>\n",
       "      <td>0</td>\n",
       "      <td>1</td>\n",
       "      <td>2</td>\n",
       "      <td>1</td>\n",
       "      <td>2</td>\n",
       "      <td>0</td>\n",
       "    </tr>\n",
       "    <tr>\n",
       "      <td>35943</td>\n",
       "      <td>0</td>\n",
       "      <td>0</td>\n",
       "      <td>0</td>\n",
       "      <td>1</td>\n",
       "      <td>2</td>\n",
       "      <td>0</td>\n",
       "      <td>2</td>\n",
       "      <td>0</td>\n",
       "    </tr>\n",
       "    <tr>\n",
       "      <td>34620</td>\n",
       "      <td>0</td>\n",
       "      <td>0</td>\n",
       "      <td>0</td>\n",
       "      <td>1</td>\n",
       "      <td>2</td>\n",
       "      <td>0</td>\n",
       "      <td>2</td>\n",
       "      <td>0</td>\n",
       "    </tr>\n",
       "  </tbody>\n",
       "</table>\n",
       "</div>"
      ],
      "text/plain": [
       "       Gender  Hypertension  Heart_Disease  Ever_Married  Type_Of_Work  \\\n",
       "40901       0             0              0             1             2   \n",
       "35943       0             0              0             1             2   \n",
       "34620       0             0              0             1             2   \n",
       "\n",
       "       Residence  Smoking_Status  Stroke  \n",
       "40901          1               2       0  \n",
       "35943          0               2       0  \n",
       "34620          0               2       0  "
      ]
     },
     "execution_count": 37,
     "metadata": {},
     "output_type": "execute_result"
    }
   ],
   "source": [
    "cat_c = df2.columns[categorical_fun]\n",
    "\n",
    "df_cat= df2[cat_c]\n",
    "df_cat.head(3)"
   ]
  },
  {
   "cell_type": "code",
   "execution_count": 38,
   "metadata": {},
   "outputs": [],
   "source": [
    "X_cat = df_cat.drop(result, axis=1)\n",
    "y = df_cat[result]\n",
    "\n",
    "from sklearn.model_selection import train_test_split\n",
    "X_train, X_test, y_train, y_test = train_test_split(X_cat, y, test_size=0.20, random_state=123,stratify=y)\n",
    "# Jeżeli się rzuca wtedy wycinamy stratify=y."
   ]
  },
  {
   "attachments": {
    "obraz.png": {
     "image/png": "[encoded data removed]"
    }
   },
   "cell_type": "markdown",
   "metadata": {},
   "source": [
    "## Filter\n",
    "### 1. Chi-Squered and Mutual Information\n",
    "![obraz.png](attachment:obraz.png)"
   ]
  },
  {
   "cell_type": "markdown",
   "metadata": {},
   "source": [
    "## <span style=\"color:blue\"> Mutual Information Feature Selection: Mutual_info_classif ()\n",
    "\n",
    "Mmutual Information is usually used in the construction of decision trees for selecting variables."
   ]
  },
  {
   "cell_type": "code",
   "execution_count": 39,
   "metadata": {},
   "outputs": [],
   "source": [
    "from sklearn.feature_selection import mutual_info_classif\n",
    "from sklearn.feature_selection import SelectKBest\n",
    "\n",
    "\n",
    "def select_features_MIC(X_train, y_train, X_test):\n",
    "    MIC = SelectKBest(score_func=mutual_info_classif, k='all')\n",
    "    MIC.fit(X_train, y_train)\n",
    "    X_train_MIC = MIC.transform(X_train)\n",
    "    X_test_MIC = MIC.transform(X_test)\n",
    "    return X_train_MIC, X_test_MIC, MIC"
   ]
  },
  {
   "cell_type": "code",
   "execution_count": 22,
   "metadata": {},
   "outputs": [],
   "source": [
    "X_train_MIC, X_test_MIC, MIC = select_features_MIC(X_train, y_train, X_test)"
   ]
  },
  {
   "cell_type": "code",
   "execution_count": 23,
   "metadata": {},
   "outputs": [
    {
     "name": "stdout",
     "output_type": "stream",
     "text": [
      "Feature 0: 0.000347\n",
      "Feature 1: 0.038747\n",
      "Feature 2: 0.035121\n",
      "Feature 3: 0.016765\n",
      "Feature 4: 0.031111\n",
      "Feature 5: 0.024158\n",
      "Feature 6: 0.008067\n",
      "Feature 7: 0.017851\n",
      "Feature 8: 0.004052\n",
      "Feature 9: 0.015306\n",
      "Feature 10: 0.021261\n",
      "Feature 11: 0.003064\n",
      "Feature 12: 0.020094\n",
      "Feature 13: 0.028453\n",
      "Feature 14: 0.031606\n",
      "Feature 15: 0.024541\n"
     ]
    }
   ],
   "source": [
    "for i in range(len(MIC.scores_)):\n",
    "    r = MIC.scores_[i]\n",
    "    if r>0:\n",
    "        print('Feature %d: %f' % (i, MIC.scores_[i]))"
   ]
  },
  {
   "cell_type": "code",
   "execution_count": 24,
   "metadata": {},
   "outputs": [
    {
     "data": {
      "text/plain": [
       "array([0.   , 0.039, 0.035, 0.017, 0.031, 0.024, 0.008, 0.018, 0.004,\n",
       "       0.015, 0.021, 0.003, 0.02 , 0.028, 0.032, 0.025])"
      ]
     },
     "execution_count": 24,
     "metadata": {},
     "output_type": "execute_result"
    }
   ],
   "source": [
    "importance_mic = np.round(MIC.scores_, decimals=3)\n",
    "importance_mic"
   ]
  },
  {
   "cell_type": "code",
   "execution_count": 25,
   "metadata": {},
   "outputs": [
    {
     "name": "stdout",
     "output_type": "stream",
     "text": [
      "klik 0.039\n",
      "data_godzina 0.035\n",
      "urz_polaczenie 0.032\n",
      "strona_id 0.031\n",
      "urz_typ 0.028\n",
      "kat1 0.025\n",
      "strona_domena 0.024\n",
      "urz_id 0.021\n",
      "urz_model 0.02\n",
      "aplikacja_id 0.018\n",
      "baner_pozycja 0.017\n",
      "aplikacja_kategoria 0.015\n",
      "strona_kategoria 0.008\n",
      "aplikacja_domena 0.004\n",
      "urz_ip 0.003\n"
     ]
    }
   ],
   "source": [
    "KOT_MIC = dict(zip(df2, importance_mic))\n",
    "KOT_sorted_keys_MIC = sorted(KOT_MIC, key=KOT_MIC.get, reverse=True)\n",
    "\n",
    "for r in KOT_sorted_keys_MIC:\n",
    "    m = KOT_MIC[r]\n",
    "    if m>0:\n",
    "        print (r, KOT_MIC[r])   "
   ]
  },
  {
   "cell_type": "markdown",
   "metadata": {},
   "source": [
    "## <span style=\"color:blue\"> Feature Selection by Chi-Squared"
   ]
  },
  {
   "cell_type": "code",
   "execution_count": 26,
   "metadata": {},
   "outputs": [],
   "source": [
    "from sklearn.feature_selection import SelectKBest\n",
    "from sklearn.feature_selection import chi2\n",
    "\n",
    "def select_features_CH2(X_train, y_train, X_test):\n",
    "    CH2 = SelectKBest(score_func=chi2, k=4)\n",
    "    CH2.fit(X_train, y_train)\n",
    "    X_train_CH2 = CH2.transform(X_train)\n",
    "    X_test_CH2 = CH2.transform(X_test)\n",
    "    return X_train_CH2, X_test_CH2, CH2"
   ]
  },
  {
   "cell_type": "code",
   "execution_count": 27,
   "metadata": {},
   "outputs": [],
   "source": [
    "X_train_CH2, X_test_CH2, CH2 = select_features_CH2(X_train, y_train, X_test)"
   ]
  },
  {
   "cell_type": "code",
   "execution_count": 28,
   "metadata": {},
   "outputs": [
    {
     "name": "stdout",
     "output_type": "stream",
     "text": [
      "Feature 0: 67.070875\n",
      "Feature 1: 3293.772923\n",
      "Feature 2: 32758.915490\n",
      "Feature 3: 83.810820\n",
      "Feature 4: 75193.107933\n",
      "Feature 5: 1081.035396\n",
      "Feature 6: 5639.027682\n",
      "Feature 7: 11940.069704\n",
      "Feature 8: 37621.181027\n",
      "Feature 9: 51.080130\n",
      "Feature 10: 64.326852\n",
      "Feature 11: 2175.922678\n",
      "Feature 14: 552.922827\n"
     ]
    }
   ],
   "source": [
    "for i in range(len(CH2.scores_)):\n",
    "    r = CH2.scores_[i]\n",
    "    if r>50:\n",
    "        print('Feature %d: %f' % (i, CH2.scores_[i]))"
   ]
  },
  {
   "cell_type": "markdown",
   "metadata": {},
   "source": [
    "## <span style=\"color:green\"> Sprawdzenie czy dobrze przyporządkował. Trzeba porównać nazwę poniżej z nazwą po zip."
   ]
  },
  {
   "cell_type": "code",
   "execution_count": 29,
   "metadata": {},
   "outputs": [
    {
     "data": {
      "text/plain": [
       "'baner_pozycja'"
      ]
     },
     "execution_count": 29,
     "metadata": {},
     "output_type": "execute_result"
    }
   ],
   "source": [
    "df2.columns[3]"
   ]
  },
  {
   "cell_type": "code",
   "execution_count": 30,
   "metadata": {},
   "outputs": [
    {
     "name": "stdout",
     "output_type": "stream",
     "text": [
      "75193.108 strona_id\n",
      "37621.181 aplikacja_domena\n",
      "32758.915 data_godzina\n",
      "11940.07 aplikacja_id\n",
      "5639.028 strona_kategoria\n",
      "3293.773 klik\n",
      "2175.923 urz_ip\n",
      "1081.035 strona_domena\n",
      "552.923 urz_polaczenie\n",
      "83.811 baner_pozycja\n",
      "67.071 id\n",
      "64.327 urz_id\n",
      "51.08 aplikacja_kategoria\n"
     ]
    }
   ],
   "source": [
    "importance_CH2 = np.round(CH2.scores_, decimals=3)\n",
    "importance_CH2\n",
    "\n",
    "KOT_CH2 = dict(zip(df2, importance_CH2))\n",
    "KOT_CH2_sorted_keys = sorted(KOT_CH2, key=KOT_CH2.get, reverse=True)\n",
    "\n",
    "for r in KOT_CH2_sorted_keys:\n",
    "    g = KOT_CH2[r]\n",
    "    if g>50:\n",
    "        print (KOT_CH2[r],r)"
   ]
  },
  {
   "cell_type": "markdown",
   "metadata": {},
   "source": [
    "## Tworzę tabelkę podsumowującą: Chi-Squared i Mutual Information"
   ]
  },
  {
   "cell_type": "code",
   "execution_count": 31,
   "metadata": {},
   "outputs": [
    {
     "data": {
      "text/html": [
       "<div>\n",
       "<style scoped>\n",
       "    .dataframe tbody tr th:only-of-type {\n",
       "        vertical-align: middle;\n",
       "    }\n",
       "\n",
       "    .dataframe tbody tr th {\n",
       "        vertical-align: top;\n",
       "    }\n",
       "\n",
       "    .dataframe thead th {\n",
       "        text-align: right;\n",
       "    }\n",
       "</style>\n",
       "<table border=\"1\" class=\"dataframe\">\n",
       "  <thead>\n",
       "    <tr style=\"text-align: right;\">\n",
       "      <th></th>\n",
       "      <th>Feature</th>\n",
       "      <th>Rank_MIC</th>\n",
       "      <th>Rank_CH2</th>\n",
       "      <th>Total</th>\n",
       "    </tr>\n",
       "  </thead>\n",
       "  <tbody>\n",
       "    <tr>\n",
       "      <td>2</td>\n",
       "      <td>strona_domena</td>\n",
       "      <td>15.0</td>\n",
       "      <td>14.0</td>\n",
       "      <td>29.0</td>\n",
       "    </tr>\n",
       "    <tr>\n",
       "      <td>4</td>\n",
       "      <td>aplikacja_id</td>\n",
       "      <td>13.0</td>\n",
       "      <td>16.0</td>\n",
       "      <td>29.0</td>\n",
       "    </tr>\n",
       "    <tr>\n",
       "      <td>1</td>\n",
       "      <td>strona_id</td>\n",
       "      <td>16.0</td>\n",
       "      <td>11.0</td>\n",
       "      <td>27.0</td>\n",
       "    </tr>\n",
       "    <tr>\n",
       "      <td>14</td>\n",
       "      <td>kat4</td>\n",
       "      <td>14.0</td>\n",
       "      <td>8.0</td>\n",
       "      <td>22.0</td>\n",
       "    </tr>\n",
       "    <tr>\n",
       "      <td>7</td>\n",
       "      <td>urz_id</td>\n",
       "      <td>7.0</td>\n",
       "      <td>13.0</td>\n",
       "      <td>20.0</td>\n",
       "    </tr>\n",
       "    <tr>\n",
       "      <td>5</td>\n",
       "      <td>aplikacja_domena</td>\n",
       "      <td>10.0</td>\n",
       "      <td>9.0</td>\n",
       "      <td>19.0</td>\n",
       "    </tr>\n",
       "    <tr>\n",
       "      <td>8</td>\n",
       "      <td>urz_ip</td>\n",
       "      <td>3.0</td>\n",
       "      <td>15.0</td>\n",
       "      <td>18.0</td>\n",
       "    </tr>\n",
       "    <tr>\n",
       "      <td>6</td>\n",
       "      <td>aplikacja_kategoria</td>\n",
       "      <td>4.0</td>\n",
       "      <td>12.0</td>\n",
       "      <td>16.0</td>\n",
       "    </tr>\n",
       "    <tr>\n",
       "      <td>10</td>\n",
       "      <td>urz_typ</td>\n",
       "      <td>9.0</td>\n",
       "      <td>5.0</td>\n",
       "      <td>14.0</td>\n",
       "    </tr>\n",
       "    <tr>\n",
       "      <td>13</td>\n",
       "      <td>kat3</td>\n",
       "      <td>12.0</td>\n",
       "      <td>2.0</td>\n",
       "      <td>14.0</td>\n",
       "    </tr>\n",
       "    <tr>\n",
       "      <td>15</td>\n",
       "      <td>kat6</td>\n",
       "      <td>11.0</td>\n",
       "      <td>3.0</td>\n",
       "      <td>14.0</td>\n",
       "    </tr>\n",
       "    <tr>\n",
       "      <td>3</td>\n",
       "      <td>strona_kategoria</td>\n",
       "      <td>6.0</td>\n",
       "      <td>7.0</td>\n",
       "      <td>13.0</td>\n",
       "    </tr>\n",
       "    <tr>\n",
       "      <td>11</td>\n",
       "      <td>urz_polaczenie</td>\n",
       "      <td>2.0</td>\n",
       "      <td>10.0</td>\n",
       "      <td>12.0</td>\n",
       "    </tr>\n",
       "    <tr>\n",
       "      <td>9</td>\n",
       "      <td>urz_model</td>\n",
       "      <td>5.0</td>\n",
       "      <td>4.0</td>\n",
       "      <td>9.0</td>\n",
       "    </tr>\n",
       "    <tr>\n",
       "      <td>12</td>\n",
       "      <td>kat1</td>\n",
       "      <td>8.0</td>\n",
       "      <td>1.0</td>\n",
       "      <td>9.0</td>\n",
       "    </tr>\n",
       "    <tr>\n",
       "      <td>0</td>\n",
       "      <td>baner_pozycja</td>\n",
       "      <td>1.0</td>\n",
       "      <td>6.0</td>\n",
       "      <td>7.0</td>\n",
       "    </tr>\n",
       "  </tbody>\n",
       "</table>\n",
       "</div>"
      ],
      "text/plain": [
       "                Feature  Rank_MIC  Rank_CH2  Total\n",
       "2         strona_domena      15.0      14.0   29.0\n",
       "4          aplikacja_id      13.0      16.0   29.0\n",
       "1             strona_id      16.0      11.0   27.0\n",
       "14                 kat4      14.0       8.0   22.0\n",
       "7                urz_id       7.0      13.0   20.0\n",
       "5      aplikacja_domena      10.0       9.0   19.0\n",
       "8                urz_ip       3.0      15.0   18.0\n",
       "6   aplikacja_kategoria       4.0      12.0   16.0\n",
       "10              urz_typ       9.0       5.0   14.0\n",
       "13                 kat3      12.0       2.0   14.0\n",
       "15                 kat6      11.0       3.0   14.0\n",
       "3      strona_kategoria       6.0       7.0   13.0\n",
       "11       urz_polaczenie       2.0      10.0   12.0\n",
       "9             urz_model       5.0       4.0    9.0\n",
       "12                 kat1       8.0       1.0    9.0\n",
       "0         baner_pozycja       1.0       6.0    7.0"
      ]
     },
     "execution_count": 31,
     "metadata": {},
     "output_type": "execute_result"
    }
   ],
   "source": [
    "feature_name = X_cat.columns\n",
    "\n",
    "feature_selection_df = pd.DataFrame({'Feature':feature_name, 'Chi-Squared':importance_CH2, 'Mutual Information':importance_mic})\n",
    "feature_selection_df[\"Rank_MIC\"] = feature_selection_df[\"Mutual Information\"].rank(method ='average')\n",
    "feature_selection_df[\"Rank_CH2\"] = feature_selection_df[\"Chi-Squared\"].rank(method ='average') \n",
    "feature_selection_df\n",
    "\n",
    "del feature_selection_df['Chi-Squared'] \n",
    "del feature_selection_df['Mutual Information'] \n",
    "\n",
    "feature_selection_df['Total'] = np.sum(feature_selection_df, axis=1)\n",
    "feature_selection_df = feature_selection_df.sort_values('Total',ascending=False )\n",
    "feature_selection_df.head(20)"
   ]
  },
  {
   "cell_type": "markdown",
   "metadata": {},
   "source": [
    "Sprawdzam liczebność zbioru:"
   ]
  },
  {
   "cell_type": "code",
   "execution_count": 32,
   "metadata": {},
   "outputs": [
    {
     "data": {
      "text/plain": [
       "(16, 4)"
      ]
     },
     "execution_count": 32,
     "metadata": {},
     "output_type": "execute_result"
    }
   ],
   "source": [
    "feature_selection_df.shape ##<-- wyszła jedna zmienna 'Target'"
   ]
  },
  {
   "attachments": {
    "obraz.png": {
     "image/png": "[encoded data removed]"
    }
   },
   "cell_type": "markdown",
   "metadata": {},
   "source": [
    "# Feature Selection Techniques (by filter methods): numerical_ input, categorical output\n",
    "\n",
    "![obraz.png](attachment:obraz.png)"
   ]
  },
  {
   "cell_type": "markdown",
   "metadata": {},
   "source": [
    "### <span style=\"color:purple\"> Wydzielam zmienne numeryczne\n",
    "\n",
    "Muszę dodać zmienną kategoryczną 'TARGET' bo jest to zmienna wynikowa (mimo, że jest to zmienna dyskretna)."
   ]
  },
  {
   "cell_type": "code",
   "execution_count": 33,
   "metadata": {},
   "outputs": [
    {
     "data": {
      "text/html": [
       "<div>\n",
       "<style scoped>\n",
       "    .dataframe tbody tr th:only-of-type {\n",
       "        vertical-align: middle;\n",
       "    }\n",
       "\n",
       "    .dataframe tbody tr th {\n",
       "        vertical-align: top;\n",
       "    }\n",
       "\n",
       "    .dataframe thead th {\n",
       "        text-align: right;\n",
       "    }\n",
       "</style>\n",
       "<table border=\"1\" class=\"dataframe\">\n",
       "  <thead>\n",
       "    <tr style=\"text-align: right;\">\n",
       "      <th></th>\n",
       "      <th>id</th>\n",
       "      <th>data_godzina</th>\n",
       "      <th>kat2</th>\n",
       "      <th>kat5</th>\n",
       "      <th>kat7</th>\n",
       "      <th>kat8</th>\n",
       "      <th>kat9</th>\n",
       "      <th>klik</th>\n",
       "    </tr>\n",
       "  </thead>\n",
       "  <tbody>\n",
       "    <tr>\n",
       "      <td>2912077</td>\n",
       "      <td>93718246916792680</td>\n",
       "      <td>17030810</td>\n",
       "      <td>117239</td>\n",
       "      <td>11973</td>\n",
       "      <td>10039</td>\n",
       "      <td>0</td>\n",
       "      <td>23</td>\n",
       "      <td>0</td>\n",
       "    </tr>\n",
       "    <tr>\n",
       "      <td>354809</td>\n",
       "      <td>93718246914235412</td>\n",
       "      <td>17030118</td>\n",
       "      <td>116615</td>\n",
       "      <td>11863</td>\n",
       "      <td>10039</td>\n",
       "      <td>0</td>\n",
       "      <td>23</td>\n",
       "      <td>0</td>\n",
       "    </tr>\n",
       "    <tr>\n",
       "      <td>2979730</td>\n",
       "      <td>93718246916860333</td>\n",
       "      <td>17030813</td>\n",
       "      <td>123224</td>\n",
       "      <td>12676</td>\n",
       "      <td>10035</td>\n",
       "      <td>100177</td>\n",
       "      <td>221</td>\n",
       "      <td>0</td>\n",
       "    </tr>\n",
       "  </tbody>\n",
       "</table>\n",
       "</div>"
      ],
      "text/plain": [
       "                        id  data_godzina    kat2   kat5   kat7    kat8  kat9  \\\n",
       "2912077  93718246916792680      17030810  117239  11973  10039       0    23   \n",
       "354809   93718246914235412      17030118  116615  11863  10039       0    23   \n",
       "2979730  93718246916860333      17030813  123224  12676  10035  100177   221   \n",
       "\n",
       "         klik  \n",
       "2912077     0  \n",
       "354809      0  \n",
       "2979730     0  "
      ]
     },
     "execution_count": 33,
     "metadata": {},
     "output_type": "execute_result"
    }
   ],
   "source": [
    "num_c = df2.columns[numerical_fun]\n",
    "\n",
    "df_num= df2[num_c]\n",
    "\n",
    "df_num[result] = df2[result]\n",
    "df_num.head(3)"
   ]
  },
  {
   "cell_type": "code",
   "execution_count": 34,
   "metadata": {},
   "outputs": [],
   "source": [
    "X_num = df_num.drop(result, axis=1)\n",
    "y = df_num[result]"
   ]
  },
  {
   "cell_type": "markdown",
   "metadata": {},
   "source": [
    "## Redukcja zmiennych niezależnych za pomocą OLS"
   ]
  },
  {
   "cell_type": "code",
   "execution_count": 35,
   "metadata": {},
   "outputs": [
    {
     "name": "stdout",
     "output_type": "stream",
     "text": [
      "                            OLS Regression Results                            \n",
      "==============================================================================\n",
      "Dep. Variable:                   klik   R-squared:                       0.007\n",
      "Model:                            OLS   Adj. R-squared:                  0.007\n",
      "Method:                 Least Squares   F-statistic:                     334.0\n",
      "Date:                Fri, 17 Apr 2020   Prob (F-statistic):          5.96e-287\n",
      "Time:                        21:08:48   Log-Likelihood:                -78857.\n",
      "No. Observations:              180981   AIC:                         1.577e+05\n",
      "Df Residuals:                  180976   BIC:                         1.578e+05\n",
      "Df Model:                           4                                         \n",
      "Covariance Type:            nonrobust                                         \n",
      "================================================================================\n",
      "                   coef    std err          t      P>|t|      [0.025      0.975]\n",
      "--------------------------------------------------------------------------------\n",
      "const        -1.674e-19   1.38e-19     -1.209      0.227   -4.39e-19    1.04e-19\n",
      "id            -7.04e-16   6.06e-16     -1.162      0.245   -1.89e-15    4.84e-16\n",
      "data_godzina   3.92e-06   3.34e-06      1.175      0.240   -2.62e-06    1.05e-05\n",
      "kat2         -6.825e-06   8.06e-07     -8.466      0.000    -8.4e-06   -5.24e-06\n",
      "kat5          1.819e-05   6.53e-06      2.785      0.005    5.39e-06     3.1e-05\n",
      "kat7         -1.206e-08   2.57e-06     -0.005      0.996   -5.05e-06    5.02e-06\n",
      "kat8          -4.28e-07   1.78e-08    -24.048      0.000   -4.63e-07   -3.93e-07\n",
      "kat9          1.252e-06   4.65e-07      2.690      0.007     3.4e-07    2.16e-06\n",
      "==============================================================================\n",
      "Omnibus:                    49132.640   Durbin-Watson:                   1.993\n",
      "Prob(Omnibus):                  0.000   Jarque-Bera (JB):            99948.074\n",
      "Skew:                           1.739   Prob(JB):                         0.00\n",
      "Kurtosis:                       4.077   Cond. No.                     7.92e+28\n",
      "==============================================================================\n",
      "\n",
      "Warnings:\n",
      "[1] Standard Errors assume that the covariance matrix of the errors is correctly specified.\n",
      "[2] The smallest eigenvalue is 2.53e-19. This might indicate that there are\n",
      "strong multicollinearity problems or that the design matrix is singular.\n"
     ]
    }
   ],
   "source": [
    "from statsmodels.formula.api import ols\n",
    "import statsmodels.api as sm\n",
    "\n",
    "model = sm.OLS(y, sm.add_constant(X_num))\n",
    "model_fit = model.fit()\n",
    "\n",
    "print(model_fit.summary())"
   ]
  },
  {
   "cell_type": "markdown",
   "metadata": {},
   "source": [
    "Wyodrębniam z powyższego zestawienia tabelę z 'P>|t|'"
   ]
  },
  {
   "cell_type": "code",
   "execution_count": 36,
   "metadata": {},
   "outputs": [],
   "source": [
    "p_values = model_fit.summary2().tables[1]['P>|t|']"
   ]
  },
  {
   "cell_type": "markdown",
   "metadata": {},
   "source": [
    "Obrabiam tą tabelę, zaokrąglam itp."
   ]
  },
  {
   "cell_type": "code",
   "execution_count": 37,
   "metadata": {},
   "outputs": [
    {
     "name": "stdout",
     "output_type": "stream",
     "text": [
      "(8, 1)\n"
     ]
    },
    {
     "data": {
      "text/html": [
       "<div>\n",
       "<style scoped>\n",
       "    .dataframe tbody tr th:only-of-type {\n",
       "        vertical-align: middle;\n",
       "    }\n",
       "\n",
       "    .dataframe tbody tr th {\n",
       "        vertical-align: top;\n",
       "    }\n",
       "\n",
       "    .dataframe thead th {\n",
       "        text-align: right;\n",
       "    }\n",
       "</style>\n",
       "<table border=\"1\" class=\"dataframe\">\n",
       "  <thead>\n",
       "    <tr style=\"text-align: right;\">\n",
       "      <th></th>\n",
       "      <th>P&gt;|t|</th>\n",
       "    </tr>\n",
       "  </thead>\n",
       "  <tbody>\n",
       "    <tr>\n",
       "      <td>kat2</td>\n",
       "      <td>0.00</td>\n",
       "    </tr>\n",
       "    <tr>\n",
       "      <td>kat8</td>\n",
       "      <td>0.00</td>\n",
       "    </tr>\n",
       "    <tr>\n",
       "      <td>kat5</td>\n",
       "      <td>0.01</td>\n",
       "    </tr>\n",
       "    <tr>\n",
       "      <td>kat9</td>\n",
       "      <td>0.01</td>\n",
       "    </tr>\n",
       "  </tbody>\n",
       "</table>\n",
       "</div>"
      ],
      "text/plain": [
       "      P>|t|\n",
       "kat2   0.00\n",
       "kat8   0.00\n",
       "kat5   0.01\n",
       "kat9   0.01"
      ]
     },
     "execution_count": 37,
     "metadata": {},
     "output_type": "execute_result"
    }
   ],
   "source": [
    "p_values = np.round(p_values, decimals=2)\n",
    "p_values= p_values.sort_values(ascending=True)\n",
    "\n",
    "p_values = p_values.to_frame()\n",
    "print(p_values.shape)\n",
    "\n",
    "p_values[p_values['P>|t|']<=0.01]   #<--wartości p-value mniejsze i równe 0.01"
   ]
  },
  {
   "cell_type": "markdown",
   "metadata": {},
   "source": [
    "Dodaje ranking ważności (odwrotny - najlepsze są te gdzie p-value<0.01)."
   ]
  },
  {
   "cell_type": "code",
   "execution_count": 38,
   "metadata": {},
   "outputs": [],
   "source": [
    "p_values.drop('const', axis=0, inplace=True)"
   ]
  },
  {
   "cell_type": "code",
   "execution_count": 39,
   "metadata": {},
   "outputs": [
    {
     "data": {
      "text/html": [
       "<div>\n",
       "<style scoped>\n",
       "    .dataframe tbody tr th:only-of-type {\n",
       "        vertical-align: middle;\n",
       "    }\n",
       "\n",
       "    .dataframe tbody tr th {\n",
       "        vertical-align: top;\n",
       "    }\n",
       "\n",
       "    .dataframe thead th {\n",
       "        text-align: right;\n",
       "    }\n",
       "</style>\n",
       "<table border=\"1\" class=\"dataframe\">\n",
       "  <thead>\n",
       "    <tr style=\"text-align: right;\">\n",
       "      <th></th>\n",
       "      <th>P&gt;|t|</th>\n",
       "      <th>p-value_rank</th>\n",
       "    </tr>\n",
       "  </thead>\n",
       "  <tbody>\n",
       "    <tr>\n",
       "      <td>kat2</td>\n",
       "      <td>0.00</td>\n",
       "      <td>6.0</td>\n",
       "    </tr>\n",
       "    <tr>\n",
       "      <td>kat8</td>\n",
       "      <td>0.00</td>\n",
       "      <td>6.0</td>\n",
       "    </tr>\n",
       "    <tr>\n",
       "      <td>kat5</td>\n",
       "      <td>0.01</td>\n",
       "      <td>4.0</td>\n",
       "    </tr>\n",
       "    <tr>\n",
       "      <td>kat9</td>\n",
       "      <td>0.01</td>\n",
       "      <td>4.0</td>\n",
       "    </tr>\n",
       "    <tr>\n",
       "      <td>data_godzina</td>\n",
       "      <td>0.24</td>\n",
       "      <td>3.0</td>\n",
       "    </tr>\n",
       "  </tbody>\n",
       "</table>\n",
       "</div>"
      ],
      "text/plain": [
       "              P>|t|  p-value_rank\n",
       "kat2           0.00           6.0\n",
       "kat8           0.00           6.0\n",
       "kat5           0.01           4.0\n",
       "kat9           0.01           4.0\n",
       "data_godzina   0.24           3.0"
      ]
     },
     "execution_count": 39,
     "metadata": {},
     "output_type": "execute_result"
    }
   ],
   "source": [
    "p_values[\"p-value_rank\"] = p_values[\"P>|t|\"].rank(method ='min',ascending=False) \n",
    "p_values.head(5)"
   ]
  },
  {
   "cell_type": "markdown",
   "metadata": {},
   "source": [
    "Mnożę razy dwa ponieważ dla zmiennych kategorycznych mam dwa testy a dla zmiennych numerycznych mam jeden test. Chodzi o wyrównanie szans."
   ]
  },
  {
   "cell_type": "code",
   "execution_count": 40,
   "metadata": {},
   "outputs": [
    {
     "data": {
      "text/html": [
       "<div>\n",
       "<style scoped>\n",
       "    .dataframe tbody tr th:only-of-type {\n",
       "        vertical-align: middle;\n",
       "    }\n",
       "\n",
       "    .dataframe tbody tr th {\n",
       "        vertical-align: top;\n",
       "    }\n",
       "\n",
       "    .dataframe thead th {\n",
       "        text-align: right;\n",
       "    }\n",
       "</style>\n",
       "<table border=\"1\" class=\"dataframe\">\n",
       "  <thead>\n",
       "    <tr style=\"text-align: right;\">\n",
       "      <th></th>\n",
       "      <th>p-value_x2</th>\n",
       "    </tr>\n",
       "  </thead>\n",
       "  <tbody>\n",
       "    <tr>\n",
       "      <td>kat2</td>\n",
       "      <td>12.0</td>\n",
       "    </tr>\n",
       "    <tr>\n",
       "      <td>kat8</td>\n",
       "      <td>12.0</td>\n",
       "    </tr>\n",
       "    <tr>\n",
       "      <td>kat5</td>\n",
       "      <td>8.0</td>\n",
       "    </tr>\n",
       "  </tbody>\n",
       "</table>\n",
       "</div>"
      ],
      "text/plain": [
       "      p-value_x2\n",
       "kat2        12.0\n",
       "kat8        12.0\n",
       "kat5         8.0"
      ]
     },
     "execution_count": 40,
     "metadata": {},
     "output_type": "execute_result"
    }
   ],
   "source": [
    "del p_values['P>|t|'] \n",
    "p_values['p-value_x2'] = p_values['p-value_rank']*2\n",
    "del p_values['p-value_rank'] \n",
    "p_values.head(3)"
   ]
  },
  {
   "cell_type": "code",
   "execution_count": 41,
   "metadata": {},
   "outputs": [],
   "source": [
    "feature_selection_df=feature_selection_df.set_index('Feature')"
   ]
  },
  {
   "cell_type": "code",
   "execution_count": 42,
   "metadata": {},
   "outputs": [],
   "source": [
    "del feature_selection_df['Total']"
   ]
  },
  {
   "cell_type": "code",
   "execution_count": 43,
   "metadata": {},
   "outputs": [
    {
     "data": {
      "text/plain": [
       "(16, 2)"
      ]
     },
     "execution_count": 43,
     "metadata": {},
     "output_type": "execute_result"
    }
   ],
   "source": [
    "feature_selection_df.shape"
   ]
  },
  {
   "cell_type": "code",
   "execution_count": 44,
   "metadata": {},
   "outputs": [
    {
     "data": {
      "text/plain": [
       "(7, 1)"
      ]
     },
     "execution_count": 44,
     "metadata": {},
     "output_type": "execute_result"
    }
   ],
   "source": [
    "p_values.shape"
   ]
  },
  {
   "cell_type": "code",
   "execution_count": 45,
   "metadata": {},
   "outputs": [
    {
     "data": {
      "text/html": [
       "<div>\n",
       "<style scoped>\n",
       "    .dataframe tbody tr th:only-of-type {\n",
       "        vertical-align: middle;\n",
       "    }\n",
       "\n",
       "    .dataframe tbody tr th {\n",
       "        vertical-align: top;\n",
       "    }\n",
       "\n",
       "    .dataframe thead th {\n",
       "        text-align: right;\n",
       "    }\n",
       "</style>\n",
       "<table border=\"1\" class=\"dataframe\">\n",
       "  <thead>\n",
       "    <tr style=\"text-align: right;\">\n",
       "      <th></th>\n",
       "      <th>Rank_CH2</th>\n",
       "      <th>Rank_MIC</th>\n",
       "      <th>p-value_x2</th>\n",
       "    </tr>\n",
       "  </thead>\n",
       "  <tbody>\n",
       "    <tr>\n",
       "      <td>kat2</td>\n",
       "      <td>NaN</td>\n",
       "      <td>NaN</td>\n",
       "      <td>12.0</td>\n",
       "    </tr>\n",
       "    <tr>\n",
       "      <td>kat8</td>\n",
       "      <td>NaN</td>\n",
       "      <td>NaN</td>\n",
       "      <td>12.0</td>\n",
       "    </tr>\n",
       "    <tr>\n",
       "      <td>kat5</td>\n",
       "      <td>NaN</td>\n",
       "      <td>NaN</td>\n",
       "      <td>8.0</td>\n",
       "    </tr>\n",
       "    <tr>\n",
       "      <td>kat9</td>\n",
       "      <td>NaN</td>\n",
       "      <td>NaN</td>\n",
       "      <td>8.0</td>\n",
       "    </tr>\n",
       "    <tr>\n",
       "      <td>data_godzina</td>\n",
       "      <td>NaN</td>\n",
       "      <td>NaN</td>\n",
       "      <td>6.0</td>\n",
       "    </tr>\n",
       "    <tr>\n",
       "      <td>id</td>\n",
       "      <td>NaN</td>\n",
       "      <td>NaN</td>\n",
       "      <td>4.0</td>\n",
       "    </tr>\n",
       "    <tr>\n",
       "      <td>kat7</td>\n",
       "      <td>NaN</td>\n",
       "      <td>NaN</td>\n",
       "      <td>2.0</td>\n",
       "    </tr>\n",
       "    <tr>\n",
       "      <td>strona_domena</td>\n",
       "      <td>14.0</td>\n",
       "      <td>15.0</td>\n",
       "      <td>NaN</td>\n",
       "    </tr>\n",
       "    <tr>\n",
       "      <td>aplikacja_id</td>\n",
       "      <td>16.0</td>\n",
       "      <td>13.0</td>\n",
       "      <td>NaN</td>\n",
       "    </tr>\n",
       "    <tr>\n",
       "      <td>strona_id</td>\n",
       "      <td>11.0</td>\n",
       "      <td>16.0</td>\n",
       "      <td>NaN</td>\n",
       "    </tr>\n",
       "    <tr>\n",
       "      <td>kat4</td>\n",
       "      <td>8.0</td>\n",
       "      <td>14.0</td>\n",
       "      <td>NaN</td>\n",
       "    </tr>\n",
       "    <tr>\n",
       "      <td>urz_id</td>\n",
       "      <td>13.0</td>\n",
       "      <td>7.0</td>\n",
       "      <td>NaN</td>\n",
       "    </tr>\n",
       "    <tr>\n",
       "      <td>aplikacja_domena</td>\n",
       "      <td>9.0</td>\n",
       "      <td>10.0</td>\n",
       "      <td>NaN</td>\n",
       "    </tr>\n",
       "    <tr>\n",
       "      <td>urz_ip</td>\n",
       "      <td>15.0</td>\n",
       "      <td>3.0</td>\n",
       "      <td>NaN</td>\n",
       "    </tr>\n",
       "    <tr>\n",
       "      <td>aplikacja_kategoria</td>\n",
       "      <td>12.0</td>\n",
       "      <td>4.0</td>\n",
       "      <td>NaN</td>\n",
       "    </tr>\n",
       "    <tr>\n",
       "      <td>urz_typ</td>\n",
       "      <td>5.0</td>\n",
       "      <td>9.0</td>\n",
       "      <td>NaN</td>\n",
       "    </tr>\n",
       "    <tr>\n",
       "      <td>kat3</td>\n",
       "      <td>2.0</td>\n",
       "      <td>12.0</td>\n",
       "      <td>NaN</td>\n",
       "    </tr>\n",
       "    <tr>\n",
       "      <td>kat6</td>\n",
       "      <td>3.0</td>\n",
       "      <td>11.0</td>\n",
       "      <td>NaN</td>\n",
       "    </tr>\n",
       "    <tr>\n",
       "      <td>strona_kategoria</td>\n",
       "      <td>7.0</td>\n",
       "      <td>6.0</td>\n",
       "      <td>NaN</td>\n",
       "    </tr>\n",
       "    <tr>\n",
       "      <td>urz_polaczenie</td>\n",
       "      <td>10.0</td>\n",
       "      <td>2.0</td>\n",
       "      <td>NaN</td>\n",
       "    </tr>\n",
       "    <tr>\n",
       "      <td>urz_model</td>\n",
       "      <td>4.0</td>\n",
       "      <td>5.0</td>\n",
       "      <td>NaN</td>\n",
       "    </tr>\n",
       "    <tr>\n",
       "      <td>kat1</td>\n",
       "      <td>1.0</td>\n",
       "      <td>8.0</td>\n",
       "      <td>NaN</td>\n",
       "    </tr>\n",
       "    <tr>\n",
       "      <td>baner_pozycja</td>\n",
       "      <td>6.0</td>\n",
       "      <td>1.0</td>\n",
       "      <td>NaN</td>\n",
       "    </tr>\n",
       "  </tbody>\n",
       "</table>\n",
       "</div>"
      ],
      "text/plain": [
       "                     Rank_CH2  Rank_MIC  p-value_x2\n",
       "kat2                      NaN       NaN        12.0\n",
       "kat8                      NaN       NaN        12.0\n",
       "kat5                      NaN       NaN         8.0\n",
       "kat9                      NaN       NaN         8.0\n",
       "data_godzina              NaN       NaN         6.0\n",
       "id                        NaN       NaN         4.0\n",
       "kat7                      NaN       NaN         2.0\n",
       "strona_domena            14.0      15.0         NaN\n",
       "aplikacja_id             16.0      13.0         NaN\n",
       "strona_id                11.0      16.0         NaN\n",
       "kat4                      8.0      14.0         NaN\n",
       "urz_id                   13.0       7.0         NaN\n",
       "aplikacja_domena          9.0      10.0         NaN\n",
       "urz_ip                   15.0       3.0         NaN\n",
       "aplikacja_kategoria      12.0       4.0         NaN\n",
       "urz_typ                   5.0       9.0         NaN\n",
       "kat3                      2.0      12.0         NaN\n",
       "kat6                      3.0      11.0         NaN\n",
       "strona_kategoria          7.0       6.0         NaN\n",
       "urz_polaczenie           10.0       2.0         NaN\n",
       "urz_model                 4.0       5.0         NaN\n",
       "kat1                      1.0       8.0         NaN\n",
       "baner_pozycja             6.0       1.0         NaN"
      ]
     },
     "execution_count": 45,
     "metadata": {},
     "output_type": "execute_result"
    }
   ],
   "source": [
    "df6 = pd.concat([p_values,feature_selection_df], sort=True)\n",
    "df6"
   ]
  },
  {
   "cell_type": "code",
   "execution_count": 46,
   "metadata": {},
   "outputs": [
    {
     "name": "stdout",
     "output_type": "stream",
     "text": [
      "columns:  Index(['Rank_CH2', 'Rank_MIC', 'p-value_x2'], dtype='object')\n",
      "(23, 3)\n"
     ]
    }
   ],
   "source": [
    "print('columns: ',df6.columns)\n",
    "print(df6.shape)"
   ]
  },
  {
   "cell_type": "markdown",
   "metadata": {},
   "source": [
    "# <span style=\"color:red\"> Wrapper Method\n",
    "\n",
    "### Feature Selection Techniques – Backward Elimination"
   ]
  },
  {
   "cell_type": "code",
   "execution_count": 47,
   "metadata": {},
   "outputs": [],
   "source": [
    "X = df2.drop(result, axis=1) \n",
    "y = df2[result]  \n",
    "\n",
    "from sklearn.model_selection import train_test_split\n",
    "\n",
    "X_train, X_test, y_train, y_test = train_test_split(X, y, test_size=0.20, random_state=123)\n",
    "# Jeżeli się rzuca wtedy wycinamy stratify=y."
   ]
  },
  {
   "cell_type": "markdown",
   "metadata": {},
   "source": [
    "# Recursive Feature Elimination (RFE)"
   ]
  },
  {
   "cell_type": "markdown",
   "metadata": {},
   "source": [
    "Ustawiam liczbę zmiennych, które pozostaną w modelu"
   ]
  },
  {
   "cell_type": "code",
   "execution_count": 48,
   "metadata": {},
   "outputs": [],
   "source": [
    "Num_v  =  15"
   ]
  },
  {
   "cell_type": "code",
   "execution_count": 49,
   "metadata": {},
   "outputs": [
    {
     "name": "stdout",
     "output_type": "stream",
     "text": [
      "Number of selected functions:   15\n",
      "\n",
      "The mask of selected features:  [False False  True False  True  True  True  True  True False False False\n",
      "  True  True  True  True  True  True  True  True False False  True]\n",
      "\n",
      "The feature ranking: [8 5 1 3 1 1 1 1 1 7 9 4 1 1 1 1 1 1 1 1 2 6 1]\n",
      "\n",
      "The external estimator: LinearRegression(copy_X=True, fit_intercept=True, n_jobs=None, normalize=False)\n"
     ]
    }
   ],
   "source": [
    "from sklearn.feature_selection import RFE\n",
    "from sklearn.linear_model import LinearRegression\n",
    "\n",
    "model=LinearRegression()\n",
    "rfe=RFE(model,Num_v)\n",
    "\n",
    "# Standaryzacja zmiennych\n",
    "\n",
    "X_rfe = rfe.fit_transform(X,y)\n",
    "\n",
    "model.fit(X_rfe,y)\n",
    "\n",
    "print('Number of selected functions:  ',rfe.n_features_)\n",
    "print()\n",
    "print('The mask of selected features: ',rfe.support_)\n",
    "print()\n",
    "print('The feature ranking:',rfe.ranking_)\n",
    "print()\n",
    "print('The external estimator:',rfe.estimator_)"
   ]
  },
  {
   "cell_type": "markdown",
   "metadata": {},
   "source": [
    "#### Metoda zip na wyświetlenie rankingu cech"
   ]
  },
  {
   "cell_type": "code",
   "execution_count": 50,
   "metadata": {},
   "outputs": [
    {
     "name": "stdout",
     "output_type": "stream",
     "text": [
      "urz_id 9\n",
      "id 8\n",
      "aplikacja_kategoria 7\n",
      "kat7 6\n",
      "klik 5\n",
      "urz_ip 4\n",
      "baner_pozycja 3\n",
      "kat6 2\n",
      "data_godzina 1\n",
      "strona_id 1\n",
      "strona_domena 1\n",
      "strona_kategoria 1\n",
      "aplikacja_id 1\n",
      "aplikacja_domena 1\n",
      "urz_model 1\n",
      "urz_typ 1\n",
      "urz_polaczenie 1\n",
      "kat1 1\n",
      "kat2 1\n",
      "kat3 1\n",
      "kat4 1\n",
      "kat5 1\n",
      "kat8 1\n"
     ]
    }
   ],
   "source": [
    "PPS = rfe.ranking_\n",
    "\n",
    "KOT_MIC = dict(zip(df, PPS))\n",
    "KOT_sorted_keys_MIC = sorted(KOT_MIC, key=KOT_MIC.get, reverse=True)\n",
    "\n",
    "for r in KOT_sorted_keys_MIC:\n",
    "    print (r, KOT_MIC[r])"
   ]
  },
  {
   "cell_type": "markdown",
   "metadata": {},
   "source": [
    "## Embedded Method (Lasso)"
   ]
  },
  {
   "cell_type": "code",
   "execution_count": 51,
   "metadata": {},
   "outputs": [],
   "source": [
    "Num_v = 15"
   ]
  },
  {
   "cell_type": "code",
   "execution_count": 52,
   "metadata": {},
   "outputs": [],
   "source": [
    "from sklearn import linear_model\n",
    "\n",
    "#rlasso = RandomizedLasso(alpha=0.025)\n",
    "\n",
    "# Standaryzacja zmiennych\n",
    "\n",
    "lasso = linear_model.Lasso(alpha=0.1, positive=True)\n",
    "lasso.fit(X, y)\n",
    "\n",
    "\n",
    "#print(lasso.coef_)\n",
    "#print()\n",
    "#print(lasso.intercept_)\n",
    "#print()\n",
    "#print(lasso.score(X,y))\n",
    "\n",
    "lasso = lasso.coef_"
   ]
  },
  {
   "cell_type": "markdown",
   "metadata": {},
   "source": [
    "Metoda zip na wyświetlenie ocen cechy"
   ]
  },
  {
   "cell_type": "code",
   "execution_count": 53,
   "metadata": {},
   "outputs": [
    {
     "name": "stdout",
     "output_type": "stream",
     "text": [
      "kat3 0.000958768830648506\n",
      "strona_kategoria 5.67871132873995e-05\n",
      "kat6 1.2537216493178487e-05\n",
      "urz_ip 8.990563068087638e-07\n",
      "id 0.0\n",
      "klik 0.0\n",
      "data_godzina 0.0\n",
      "baner_pozycja 0.0\n",
      "strona_id 0.0\n",
      "strona_domena 0.0\n",
      "aplikacja_id 0.0\n",
      "aplikacja_domena 0.0\n",
      "aplikacja_kategoria 0.0\n",
      "urz_id 0.0\n",
      "urz_model 0.0\n",
      "urz_typ 0.0\n",
      "urz_polaczenie 0.0\n",
      "kat1 0.0\n",
      "kat2 0.0\n",
      "kat4 0.0\n",
      "kat5 0.0\n",
      "kat7 0.0\n",
      "kat8 0.0\n"
     ]
    }
   ],
   "source": [
    "PPS = lasso\n",
    "\n",
    "#PPS = np.round(PPS, decimals=8)\n",
    "\n",
    "KOT_lasso = dict(zip(df, PPS))\n",
    "KOT_sorted_keys_lasso = sorted(KOT_lasso, key=KOT_lasso.get, reverse=True)\n",
    "\n",
    "\n",
    "for r in KOT_sorted_keys_lasso:\n",
    "    print (r, (KOT_lasso[r]))"
   ]
  },
  {
   "cell_type": "markdown",
   "metadata": {},
   "source": [
    "## RandomForestClassifier"
   ]
  },
  {
   "cell_type": "code",
   "execution_count": 54,
   "metadata": {},
   "outputs": [
    {
     "data": {
      "text/plain": [
       "RandomForestClassifier(bootstrap=True, class_weight=None, criterion='gini',\n",
       "                       max_depth=None, max_features='auto', max_leaf_nodes=None,\n",
       "                       min_impurity_decrease=0.0, min_impurity_split=None,\n",
       "                       min_samples_leaf=1, min_samples_split=2,\n",
       "                       min_weight_fraction_leaf=0.0, n_estimators=10,\n",
       "                       n_jobs=None, oob_score=False, random_state=None,\n",
       "                       verbose=0, warm_start=False)"
      ]
     },
     "execution_count": 54,
     "metadata": {},
     "output_type": "execute_result"
    }
   ],
   "source": [
    "from sklearn.ensemble import RandomForestClassifier\n",
    "\n",
    "rfc = RandomForestClassifier()\n",
    "rfc.fit(X, y)"
   ]
  },
  {
   "cell_type": "code",
   "execution_count": 55,
   "metadata": {},
   "outputs": [],
   "source": [
    "importance_RFC = rfc.feature_importances_"
   ]
  },
  {
   "cell_type": "code",
   "execution_count": 56,
   "metadata": {},
   "outputs": [
    {
     "data": {
      "text/plain": [
       "array([0.   , 0.185, 0.006, 0.034, 0.03 , 0.011, 0.016, 0.007, 0.006,\n",
       "       0.034, 0.276, 0.184, 0.002, 0.01 , 0.003, 0.076, 0.008, 0.009,\n",
       "       0.023, 0.006, 0.015, 0.043, 0.017])"
      ]
     },
     "execution_count": 56,
     "metadata": {},
     "output_type": "execute_result"
    }
   ],
   "source": [
    "importance_RFC = np.round(importance_RFC, decimals=3)\n",
    "importance_RFC"
   ]
  },
  {
   "cell_type": "code",
   "execution_count": 57,
   "metadata": {},
   "outputs": [
    {
     "name": "stdout",
     "output_type": "stream",
     "text": [
      "urz_ip 0.276\n",
      "data_godzina 0.185\n",
      "urz_model 0.184\n",
      "kat2 0.076\n",
      "kat8 0.043\n",
      "strona_id 0.034\n",
      "urz_id 0.034\n",
      "strona_domena 0.03\n",
      "kat5 0.023\n",
      "kat9 0.017\n",
      "aplikacja_id 0.016\n",
      "kat7 0.015\n",
      "strona_kategoria 0.011\n",
      "urz_polaczenie 0.01\n",
      "kat4 0.009\n",
      "kat3 0.008\n",
      "aplikacja_domena 0.007\n",
      "baner_pozycja 0.006\n",
      "aplikacja_kategoria 0.006\n",
      "kat6 0.006\n",
      "kat1 0.003\n",
      "urz_typ 0.002\n",
      "id 0.0\n"
     ]
    }
   ],
   "source": [
    "KOT = dict(zip(X, importance_RFC))\n",
    "KOT_sorted_keys = sorted(KOT, key=KOT.get, reverse=True)\n",
    "\n",
    "for r in KOT_sorted_keys:\n",
    "    print (r, KOT[r])\n",
    "\n",
    "    KOT"
   ]
  },
  {
   "cell_type": "markdown",
   "metadata": {},
   "source": [
    "# Zestawienie informacji z modeli\n",
    "Sprawdzenie wymiarów:"
   ]
  },
  {
   "cell_type": "code",
   "execution_count": 58,
   "metadata": {},
   "outputs": [
    {
     "name": "stdout",
     "output_type": "stream",
     "text": [
      "feature_name:                       (23,)\n",
      "RandomForestClassifier_RFC:         (23,)\n",
      "Recursive Feature Elimination_RFE:  (23,)\n",
      "lasso:                              (23,)\n"
     ]
    }
   ],
   "source": [
    "feature_name = X.columns\n",
    "print('feature_name:                      ',feature_name.shape)\n",
    "print('RandomForestClassifier_RFC:        ',importance_RFC.shape)\n",
    "print('Recursive Feature Elimination_RFE: ',rfe.ranking_.shape)\n",
    "print('lasso:                             ',lasso.shape)\n"
   ]
  },
  {
   "cell_type": "markdown",
   "metadata": {},
   "source": [
    "## Tworzymy tabelę porównawczą modeli:"
   ]
  },
  {
   "cell_type": "code",
   "execution_count": 59,
   "metadata": {},
   "outputs": [],
   "source": [
    "feat_sel_df = pd.DataFrame({'Feature':feature_name, 'RandomForestClassifier':importance_RFC, 'Recursive Feature Elimination (RFE)':rfe.ranking_,'lasso':lasso})"
   ]
  },
  {
   "cell_type": "code",
   "execution_count": 60,
   "metadata": {},
   "outputs": [
    {
     "data": {
      "text/html": [
       "<div>\n",
       "<style scoped>\n",
       "    .dataframe tbody tr th:only-of-type {\n",
       "        vertical-align: middle;\n",
       "    }\n",
       "\n",
       "    .dataframe tbody tr th {\n",
       "        vertical-align: top;\n",
       "    }\n",
       "\n",
       "    .dataframe thead th {\n",
       "        text-align: right;\n",
       "    }\n",
       "</style>\n",
       "<table border=\"1\" class=\"dataframe\">\n",
       "  <thead>\n",
       "    <tr style=\"text-align: right;\">\n",
       "      <th></th>\n",
       "      <th>Feature</th>\n",
       "      <th>RandomForestClassifier</th>\n",
       "      <th>Recursive Feature Elimination (RFE)</th>\n",
       "      <th>lasso</th>\n",
       "    </tr>\n",
       "  </thead>\n",
       "  <tbody>\n",
       "    <tr>\n",
       "      <td>0</td>\n",
       "      <td>id</td>\n",
       "      <td>0.000</td>\n",
       "      <td>8</td>\n",
       "      <td>0.0</td>\n",
       "    </tr>\n",
       "    <tr>\n",
       "      <td>1</td>\n",
       "      <td>data_godzina</td>\n",
       "      <td>0.185</td>\n",
       "      <td>5</td>\n",
       "      <td>0.0</td>\n",
       "    </tr>\n",
       "    <tr>\n",
       "      <td>2</td>\n",
       "      <td>baner_pozycja</td>\n",
       "      <td>0.006</td>\n",
       "      <td>1</td>\n",
       "      <td>0.0</td>\n",
       "    </tr>\n",
       "  </tbody>\n",
       "</table>\n",
       "</div>"
      ],
      "text/plain": [
       "         Feature  RandomForestClassifier  Recursive Feature Elimination (RFE)  \\\n",
       "0             id                   0.000                                    8   \n",
       "1   data_godzina                   0.185                                    5   \n",
       "2  baner_pozycja                   0.006                                    1   \n",
       "\n",
       "   lasso  \n",
       "0    0.0  \n",
       "1    0.0  \n",
       "2    0.0  "
      ]
     },
     "execution_count": 60,
     "metadata": {},
     "output_type": "execute_result"
    }
   ],
   "source": [
    "feat_sel_df.head(3)"
   ]
  },
  {
   "cell_type": "markdown",
   "metadata": {},
   "source": [
    "Jak widać oceny są niekompatibilne do siebie dlatego zrobiłem ocenę rankingową\n",
    "\n",
    "### Tworzymy tabelę rankingową dla Wrapper Method"
   ]
  },
  {
   "cell_type": "code",
   "execution_count": 61,
   "metadata": {},
   "outputs": [],
   "source": [
    "feat_sel_df[\"RFC\"] = feat_sel_df[\"RandomForestClassifier\"].rank(method ='average')\n",
    "feat_sel_df[\"RFE\"] = feat_sel_df[\"Recursive Feature Elimination (RFE)\"].rank(method ='average')\n",
    "feat_sel_df[\"Lasso\"] = feat_sel_df[\"lasso\"].rank(method ='average')\n",
    "\n",
    "del feat_sel_df['RandomForestClassifier'] \n",
    "del feat_sel_df['Recursive Feature Elimination (RFE)'] \n",
    "del feat_sel_df['lasso'] "
   ]
  },
  {
   "cell_type": "code",
   "execution_count": 62,
   "metadata": {},
   "outputs": [
    {
     "data": {
      "text/html": [
       "<div>\n",
       "<style scoped>\n",
       "    .dataframe tbody tr th:only-of-type {\n",
       "        vertical-align: middle;\n",
       "    }\n",
       "\n",
       "    .dataframe tbody tr th {\n",
       "        vertical-align: top;\n",
       "    }\n",
       "\n",
       "    .dataframe thead th {\n",
       "        text-align: right;\n",
       "    }\n",
       "</style>\n",
       "<table border=\"1\" class=\"dataframe\">\n",
       "  <thead>\n",
       "    <tr style=\"text-align: right;\">\n",
       "      <th></th>\n",
       "      <th>Feature</th>\n",
       "      <th>RFC</th>\n",
       "      <th>RFE</th>\n",
       "      <th>Lasso</th>\n",
       "      <th>Total</th>\n",
       "    </tr>\n",
       "  </thead>\n",
       "  <tbody>\n",
       "    <tr>\n",
       "      <td>11</td>\n",
       "      <td>urz_model</td>\n",
       "      <td>21.0</td>\n",
       "      <td>18.0</td>\n",
       "      <td>20.0</td>\n",
       "      <td>59.0</td>\n",
       "    </tr>\n",
       "    <tr>\n",
       "      <td>10</td>\n",
       "      <td>urz_ip</td>\n",
       "      <td>23.0</td>\n",
       "      <td>23.0</td>\n",
       "      <td>10.0</td>\n",
       "      <td>56.0</td>\n",
       "    </tr>\n",
       "    <tr>\n",
       "      <td>1</td>\n",
       "      <td>data_godzina</td>\n",
       "      <td>22.0</td>\n",
       "      <td>19.0</td>\n",
       "      <td>10.0</td>\n",
       "      <td>51.0</td>\n",
       "    </tr>\n",
       "    <tr>\n",
       "      <td>21</td>\n",
       "      <td>kat8</td>\n",
       "      <td>19.0</td>\n",
       "      <td>20.0</td>\n",
       "      <td>10.0</td>\n",
       "      <td>49.0</td>\n",
       "    </tr>\n",
       "    <tr>\n",
       "      <td>20</td>\n",
       "      <td>kat7</td>\n",
       "      <td>12.0</td>\n",
       "      <td>16.0</td>\n",
       "      <td>21.0</td>\n",
       "      <td>49.0</td>\n",
       "    </tr>\n",
       "    <tr>\n",
       "      <td>9</td>\n",
       "      <td>urz_id</td>\n",
       "      <td>17.5</td>\n",
       "      <td>21.0</td>\n",
       "      <td>10.0</td>\n",
       "      <td>48.5</td>\n",
       "    </tr>\n",
       "    <tr>\n",
       "      <td>3</td>\n",
       "      <td>strona_id</td>\n",
       "      <td>17.5</td>\n",
       "      <td>17.0</td>\n",
       "      <td>10.0</td>\n",
       "      <td>44.5</td>\n",
       "    </tr>\n",
       "    <tr>\n",
       "      <td>6</td>\n",
       "      <td>aplikacja_id</td>\n",
       "      <td>13.0</td>\n",
       "      <td>8.0</td>\n",
       "      <td>22.0</td>\n",
       "      <td>43.0</td>\n",
       "    </tr>\n",
       "    <tr>\n",
       "      <td>17</td>\n",
       "      <td>kat4</td>\n",
       "      <td>9.0</td>\n",
       "      <td>8.0</td>\n",
       "      <td>23.0</td>\n",
       "      <td>40.0</td>\n",
       "    </tr>\n",
       "    <tr>\n",
       "      <td>15</td>\n",
       "      <td>kat2</td>\n",
       "      <td>20.0</td>\n",
       "      <td>8.0</td>\n",
       "      <td>10.0</td>\n",
       "      <td>38.0</td>\n",
       "    </tr>\n",
       "  </tbody>\n",
       "</table>\n",
       "</div>"
      ],
      "text/plain": [
       "         Feature   RFC   RFE  Lasso  Total\n",
       "11     urz_model  21.0  18.0   20.0   59.0\n",
       "10        urz_ip  23.0  23.0   10.0   56.0\n",
       "1   data_godzina  22.0  19.0   10.0   51.0\n",
       "21          kat8  19.0  20.0   10.0   49.0\n",
       "20          kat7  12.0  16.0   21.0   49.0\n",
       "9         urz_id  17.5  21.0   10.0   48.5\n",
       "3      strona_id  17.5  17.0   10.0   44.5\n",
       "6   aplikacja_id  13.0   8.0   22.0   43.0\n",
       "17          kat4   9.0   8.0   23.0   40.0\n",
       "15          kat2  20.0   8.0   10.0   38.0"
      ]
     },
     "execution_count": 62,
     "metadata": {},
     "output_type": "execute_result"
    }
   ],
   "source": [
    "feat_sel_df['Total'] = feat_sel_df['RFC']+feat_sel_df['RFE']+feat_sel_df['Lasso']\n",
    "feat_sel_df = feat_sel_df.sort_values('Total',ascending=False )\n",
    "feat_sel_df.head(10)"
   ]
  },
  {
   "cell_type": "code",
   "execution_count": 63,
   "metadata": {},
   "outputs": [],
   "source": [
    "del feat_sel_df['Total']  # <- usuwam podsumowanie 'Total'"
   ]
  },
  {
   "cell_type": "markdown",
   "metadata": {},
   "source": [
    "#### Ustawiamy indeks 'Feature' w tabeli Filtrów"
   ]
  },
  {
   "cell_type": "code",
   "execution_count": 64,
   "metadata": {},
   "outputs": [
    {
     "name": "stdout",
     "output_type": "stream",
     "text": [
      "(23, 3)\n",
      "Index(['kat2', 'kat8', 'kat5', 'kat9', 'data_godzina', 'id', 'kat7',\n",
      "       'strona_domena', 'aplikacja_id', 'strona_id', 'kat4', 'urz_id',\n",
      "       'aplikacja_domena', 'urz_ip', 'aplikacja_kategoria', 'urz_typ', 'kat3',\n",
      "       'kat6', 'strona_kategoria', 'urz_polaczenie', 'urz_model', 'kat1',\n",
      "       'baner_pozycja'],\n",
      "      dtype='object')\n"
     ]
    },
    {
     "data": {
      "text/html": [
       "<div>\n",
       "<style scoped>\n",
       "    .dataframe tbody tr th:only-of-type {\n",
       "        vertical-align: middle;\n",
       "    }\n",
       "\n",
       "    .dataframe tbody tr th {\n",
       "        vertical-align: top;\n",
       "    }\n",
       "\n",
       "    .dataframe thead th {\n",
       "        text-align: right;\n",
       "    }\n",
       "</style>\n",
       "<table border=\"1\" class=\"dataframe\">\n",
       "  <thead>\n",
       "    <tr style=\"text-align: right;\">\n",
       "      <th></th>\n",
       "      <th>index</th>\n",
       "      <th>Rank_CH2</th>\n",
       "      <th>Rank_MIC</th>\n",
       "      <th>p-value_x2</th>\n",
       "    </tr>\n",
       "  </thead>\n",
       "  <tbody>\n",
       "    <tr>\n",
       "      <td>0</td>\n",
       "      <td>kat2</td>\n",
       "      <td>NaN</td>\n",
       "      <td>NaN</td>\n",
       "      <td>12.0</td>\n",
       "    </tr>\n",
       "    <tr>\n",
       "      <td>1</td>\n",
       "      <td>kat8</td>\n",
       "      <td>NaN</td>\n",
       "      <td>NaN</td>\n",
       "      <td>12.0</td>\n",
       "    </tr>\n",
       "    <tr>\n",
       "      <td>2</td>\n",
       "      <td>kat5</td>\n",
       "      <td>NaN</td>\n",
       "      <td>NaN</td>\n",
       "      <td>8.0</td>\n",
       "    </tr>\n",
       "    <tr>\n",
       "      <td>3</td>\n",
       "      <td>kat9</td>\n",
       "      <td>NaN</td>\n",
       "      <td>NaN</td>\n",
       "      <td>8.0</td>\n",
       "    </tr>\n",
       "    <tr>\n",
       "      <td>4</td>\n",
       "      <td>data_godzina</td>\n",
       "      <td>NaN</td>\n",
       "      <td>NaN</td>\n",
       "      <td>6.0</td>\n",
       "    </tr>\n",
       "    <tr>\n",
       "      <td>5</td>\n",
       "      <td>id</td>\n",
       "      <td>NaN</td>\n",
       "      <td>NaN</td>\n",
       "      <td>4.0</td>\n",
       "    </tr>\n",
       "    <tr>\n",
       "      <td>6</td>\n",
       "      <td>kat7</td>\n",
       "      <td>NaN</td>\n",
       "      <td>NaN</td>\n",
       "      <td>2.0</td>\n",
       "    </tr>\n",
       "    <tr>\n",
       "      <td>7</td>\n",
       "      <td>strona_domena</td>\n",
       "      <td>14.0</td>\n",
       "      <td>15.0</td>\n",
       "      <td>NaN</td>\n",
       "    </tr>\n",
       "    <tr>\n",
       "      <td>8</td>\n",
       "      <td>aplikacja_id</td>\n",
       "      <td>16.0</td>\n",
       "      <td>13.0</td>\n",
       "      <td>NaN</td>\n",
       "    </tr>\n",
       "    <tr>\n",
       "      <td>9</td>\n",
       "      <td>strona_id</td>\n",
       "      <td>11.0</td>\n",
       "      <td>16.0</td>\n",
       "      <td>NaN</td>\n",
       "    </tr>\n",
       "    <tr>\n",
       "      <td>10</td>\n",
       "      <td>kat4</td>\n",
       "      <td>8.0</td>\n",
       "      <td>14.0</td>\n",
       "      <td>NaN</td>\n",
       "    </tr>\n",
       "    <tr>\n",
       "      <td>11</td>\n",
       "      <td>urz_id</td>\n",
       "      <td>13.0</td>\n",
       "      <td>7.0</td>\n",
       "      <td>NaN</td>\n",
       "    </tr>\n",
       "    <tr>\n",
       "      <td>12</td>\n",
       "      <td>aplikacja_domena</td>\n",
       "      <td>9.0</td>\n",
       "      <td>10.0</td>\n",
       "      <td>NaN</td>\n",
       "    </tr>\n",
       "    <tr>\n",
       "      <td>13</td>\n",
       "      <td>urz_ip</td>\n",
       "      <td>15.0</td>\n",
       "      <td>3.0</td>\n",
       "      <td>NaN</td>\n",
       "    </tr>\n",
       "    <tr>\n",
       "      <td>14</td>\n",
       "      <td>aplikacja_kategoria</td>\n",
       "      <td>12.0</td>\n",
       "      <td>4.0</td>\n",
       "      <td>NaN</td>\n",
       "    </tr>\n",
       "    <tr>\n",
       "      <td>15</td>\n",
       "      <td>urz_typ</td>\n",
       "      <td>5.0</td>\n",
       "      <td>9.0</td>\n",
       "      <td>NaN</td>\n",
       "    </tr>\n",
       "    <tr>\n",
       "      <td>16</td>\n",
       "      <td>kat3</td>\n",
       "      <td>2.0</td>\n",
       "      <td>12.0</td>\n",
       "      <td>NaN</td>\n",
       "    </tr>\n",
       "    <tr>\n",
       "      <td>17</td>\n",
       "      <td>kat6</td>\n",
       "      <td>3.0</td>\n",
       "      <td>11.0</td>\n",
       "      <td>NaN</td>\n",
       "    </tr>\n",
       "    <tr>\n",
       "      <td>18</td>\n",
       "      <td>strona_kategoria</td>\n",
       "      <td>7.0</td>\n",
       "      <td>6.0</td>\n",
       "      <td>NaN</td>\n",
       "    </tr>\n",
       "    <tr>\n",
       "      <td>19</td>\n",
       "      <td>urz_polaczenie</td>\n",
       "      <td>10.0</td>\n",
       "      <td>2.0</td>\n",
       "      <td>NaN</td>\n",
       "    </tr>\n",
       "    <tr>\n",
       "      <td>20</td>\n",
       "      <td>urz_model</td>\n",
       "      <td>4.0</td>\n",
       "      <td>5.0</td>\n",
       "      <td>NaN</td>\n",
       "    </tr>\n",
       "    <tr>\n",
       "      <td>21</td>\n",
       "      <td>kat1</td>\n",
       "      <td>1.0</td>\n",
       "      <td>8.0</td>\n",
       "      <td>NaN</td>\n",
       "    </tr>\n",
       "    <tr>\n",
       "      <td>22</td>\n",
       "      <td>baner_pozycja</td>\n",
       "      <td>6.0</td>\n",
       "      <td>1.0</td>\n",
       "      <td>NaN</td>\n",
       "    </tr>\n",
       "  </tbody>\n",
       "</table>\n",
       "</div>"
      ],
      "text/plain": [
       "                  index  Rank_CH2  Rank_MIC  p-value_x2\n",
       "0                  kat2       NaN       NaN        12.0\n",
       "1                  kat8       NaN       NaN        12.0\n",
       "2                  kat5       NaN       NaN         8.0\n",
       "3                  kat9       NaN       NaN         8.0\n",
       "4          data_godzina       NaN       NaN         6.0\n",
       "5                    id       NaN       NaN         4.0\n",
       "6                  kat7       NaN       NaN         2.0\n",
       "7         strona_domena      14.0      15.0         NaN\n",
       "8          aplikacja_id      16.0      13.0         NaN\n",
       "9             strona_id      11.0      16.0         NaN\n",
       "10                 kat4       8.0      14.0         NaN\n",
       "11               urz_id      13.0       7.0         NaN\n",
       "12     aplikacja_domena       9.0      10.0         NaN\n",
       "13               urz_ip      15.0       3.0         NaN\n",
       "14  aplikacja_kategoria      12.0       4.0         NaN\n",
       "15              urz_typ       5.0       9.0         NaN\n",
       "16                 kat3       2.0      12.0         NaN\n",
       "17                 kat6       3.0      11.0         NaN\n",
       "18     strona_kategoria       7.0       6.0         NaN\n",
       "19       urz_polaczenie      10.0       2.0         NaN\n",
       "20            urz_model       4.0       5.0         NaN\n",
       "21                 kat1       1.0       8.0         NaN\n",
       "22        baner_pozycja       6.0       1.0         NaN"
      ]
     },
     "execution_count": 64,
     "metadata": {},
     "output_type": "execute_result"
    }
   ],
   "source": [
    "print(df6.shape)   ## obie tabele filtrów i modeli muszą mieć tyle samo wierszy!\n",
    "print(df6.index)\n",
    "df6.reset_index()"
   ]
  },
  {
   "cell_type": "markdown",
   "metadata": {},
   "source": [
    "#### Ustawiamy indeks 'Feature' w tabeli Wrapper Method (kolanem dopychamy)"
   ]
  },
  {
   "cell_type": "code",
   "execution_count": 65,
   "metadata": {},
   "outputs": [
    {
     "name": "stdout",
     "output_type": "stream",
     "text": [
      "(23, 3)\n",
      "Index(['urz_model', 'urz_ip', 'data_godzina', 'kat8', 'kat7', 'urz_id',\n",
      "       'strona_id', 'aplikacja_id', 'kat4', 'kat2', 'strona_domena', 'kat5',\n",
      "       'id', 'kat9', 'strona_kategoria', 'urz_polaczenie', 'kat3',\n",
      "       'aplikacja_domena', 'aplikacja_kategoria', 'kat6', 'baner_pozycja',\n",
      "       'kat1', 'urz_typ'],\n",
      "      dtype='object', name='Feature')\n",
      "Index(['RFC', 'RFE', 'Lasso'], dtype='object')\n"
     ]
    }
   ],
   "source": [
    "feat_sel_df.reset_index()\n",
    "feat_sel_df= feat_sel_df.set_index('Feature')\n",
    "print(feat_sel_df.shape)\n",
    "print(feat_sel_df.index)\n",
    "print(feat_sel_df.columns)"
   ]
  },
  {
   "cell_type": "markdown",
   "metadata": {},
   "source": [
    "### Tworzenie wspólnej tabeli Filters + Wrapper Method"
   ]
  },
  {
   "cell_type": "code",
   "execution_count": 66,
   "metadata": {},
   "outputs": [
    {
     "data": {
      "text/html": [
       "<div>\n",
       "<style scoped>\n",
       "    .dataframe tbody tr th:only-of-type {\n",
       "        vertical-align: middle;\n",
       "    }\n",
       "\n",
       "    .dataframe tbody tr th {\n",
       "        vertical-align: top;\n",
       "    }\n",
       "\n",
       "    .dataframe thead th {\n",
       "        text-align: right;\n",
       "    }\n",
       "</style>\n",
       "<table border=\"1\" class=\"dataframe\">\n",
       "  <thead>\n",
       "    <tr style=\"text-align: right;\">\n",
       "      <th></th>\n",
       "      <th>RFC</th>\n",
       "      <th>RFE</th>\n",
       "      <th>Lasso</th>\n",
       "      <th>Rank_CH2</th>\n",
       "      <th>Rank_MIC</th>\n",
       "      <th>p-value_x2</th>\n",
       "      <th>Total</th>\n",
       "    </tr>\n",
       "  </thead>\n",
       "  <tbody>\n",
       "    <tr>\n",
       "      <td>urz_ip</td>\n",
       "      <td>23.0</td>\n",
       "      <td>23.0</td>\n",
       "      <td>10.0</td>\n",
       "      <td>15.0</td>\n",
       "      <td>3.0</td>\n",
       "      <td>NaN</td>\n",
       "      <td>74.0</td>\n",
       "    </tr>\n",
       "    <tr>\n",
       "      <td>aplikacja_id</td>\n",
       "      <td>13.0</td>\n",
       "      <td>8.0</td>\n",
       "      <td>22.0</td>\n",
       "      <td>16.0</td>\n",
       "      <td>13.0</td>\n",
       "      <td>NaN</td>\n",
       "      <td>72.0</td>\n",
       "    </tr>\n",
       "    <tr>\n",
       "      <td>strona_id</td>\n",
       "      <td>17.5</td>\n",
       "      <td>17.0</td>\n",
       "      <td>10.0</td>\n",
       "      <td>11.0</td>\n",
       "      <td>16.0</td>\n",
       "      <td>NaN</td>\n",
       "      <td>71.5</td>\n",
       "    </tr>\n",
       "    <tr>\n",
       "      <td>urz_id</td>\n",
       "      <td>17.5</td>\n",
       "      <td>21.0</td>\n",
       "      <td>10.0</td>\n",
       "      <td>13.0</td>\n",
       "      <td>7.0</td>\n",
       "      <td>NaN</td>\n",
       "      <td>68.5</td>\n",
       "    </tr>\n",
       "    <tr>\n",
       "      <td>urz_model</td>\n",
       "      <td>21.0</td>\n",
       "      <td>18.0</td>\n",
       "      <td>20.0</td>\n",
       "      <td>4.0</td>\n",
       "      <td>5.0</td>\n",
       "      <td>NaN</td>\n",
       "      <td>68.0</td>\n",
       "    </tr>\n",
       "    <tr>\n",
       "      <td>strona_domena</td>\n",
       "      <td>16.0</td>\n",
       "      <td>8.0</td>\n",
       "      <td>10.0</td>\n",
       "      <td>14.0</td>\n",
       "      <td>15.0</td>\n",
       "      <td>NaN</td>\n",
       "      <td>63.0</td>\n",
       "    </tr>\n",
       "    <tr>\n",
       "      <td>kat4</td>\n",
       "      <td>9.0</td>\n",
       "      <td>8.0</td>\n",
       "      <td>23.0</td>\n",
       "      <td>8.0</td>\n",
       "      <td>14.0</td>\n",
       "      <td>NaN</td>\n",
       "      <td>62.0</td>\n",
       "    </tr>\n",
       "    <tr>\n",
       "      <td>kat8</td>\n",
       "      <td>19.0</td>\n",
       "      <td>20.0</td>\n",
       "      <td>10.0</td>\n",
       "      <td>NaN</td>\n",
       "      <td>NaN</td>\n",
       "      <td>12.0</td>\n",
       "      <td>61.0</td>\n",
       "    </tr>\n",
       "    <tr>\n",
       "      <td>data_godzina</td>\n",
       "      <td>22.0</td>\n",
       "      <td>19.0</td>\n",
       "      <td>10.0</td>\n",
       "      <td>NaN</td>\n",
       "      <td>NaN</td>\n",
       "      <td>6.0</td>\n",
       "      <td>57.0</td>\n",
       "    </tr>\n",
       "    <tr>\n",
       "      <td>kat7</td>\n",
       "      <td>12.0</td>\n",
       "      <td>16.0</td>\n",
       "      <td>21.0</td>\n",
       "      <td>NaN</td>\n",
       "      <td>NaN</td>\n",
       "      <td>2.0</td>\n",
       "      <td>51.0</td>\n",
       "    </tr>\n",
       "    <tr>\n",
       "      <td>kat2</td>\n",
       "      <td>20.0</td>\n",
       "      <td>8.0</td>\n",
       "      <td>10.0</td>\n",
       "      <td>NaN</td>\n",
       "      <td>NaN</td>\n",
       "      <td>12.0</td>\n",
       "      <td>50.0</td>\n",
       "    </tr>\n",
       "    <tr>\n",
       "      <td>aplikacja_domena</td>\n",
       "      <td>7.0</td>\n",
       "      <td>8.0</td>\n",
       "      <td>10.0</td>\n",
       "      <td>9.0</td>\n",
       "      <td>10.0</td>\n",
       "      <td>NaN</td>\n",
       "      <td>44.0</td>\n",
       "    </tr>\n",
       "    <tr>\n",
       "      <td>strona_kategoria</td>\n",
       "      <td>11.0</td>\n",
       "      <td>8.0</td>\n",
       "      <td>10.0</td>\n",
       "      <td>7.0</td>\n",
       "      <td>6.0</td>\n",
       "      <td>NaN</td>\n",
       "      <td>42.0</td>\n",
       "    </tr>\n",
       "    <tr>\n",
       "      <td>kat5</td>\n",
       "      <td>15.0</td>\n",
       "      <td>8.0</td>\n",
       "      <td>10.0</td>\n",
       "      <td>NaN</td>\n",
       "      <td>NaN</td>\n",
       "      <td>8.0</td>\n",
       "      <td>41.0</td>\n",
       "    </tr>\n",
       "    <tr>\n",
       "      <td>kat9</td>\n",
       "      <td>14.0</td>\n",
       "      <td>8.0</td>\n",
       "      <td>10.0</td>\n",
       "      <td>NaN</td>\n",
       "      <td>NaN</td>\n",
       "      <td>8.0</td>\n",
       "      <td>40.0</td>\n",
       "    </tr>\n",
       "    <tr>\n",
       "      <td>urz_polaczenie</td>\n",
       "      <td>10.0</td>\n",
       "      <td>8.0</td>\n",
       "      <td>10.0</td>\n",
       "      <td>10.0</td>\n",
       "      <td>2.0</td>\n",
       "      <td>NaN</td>\n",
       "      <td>40.0</td>\n",
       "    </tr>\n",
       "    <tr>\n",
       "      <td>kat3</td>\n",
       "      <td>8.0</td>\n",
       "      <td>8.0</td>\n",
       "      <td>10.0</td>\n",
       "      <td>2.0</td>\n",
       "      <td>12.0</td>\n",
       "      <td>NaN</td>\n",
       "      <td>40.0</td>\n",
       "    </tr>\n",
       "    <tr>\n",
       "      <td>aplikacja_kategoria</td>\n",
       "      <td>5.0</td>\n",
       "      <td>8.0</td>\n",
       "      <td>10.0</td>\n",
       "      <td>12.0</td>\n",
       "      <td>4.0</td>\n",
       "      <td>NaN</td>\n",
       "      <td>39.0</td>\n",
       "    </tr>\n",
       "    <tr>\n",
       "      <td>id</td>\n",
       "      <td>1.0</td>\n",
       "      <td>22.0</td>\n",
       "      <td>10.0</td>\n",
       "      <td>NaN</td>\n",
       "      <td>NaN</td>\n",
       "      <td>4.0</td>\n",
       "      <td>37.0</td>\n",
       "    </tr>\n",
       "    <tr>\n",
       "      <td>kat6</td>\n",
       "      <td>5.0</td>\n",
       "      <td>8.0</td>\n",
       "      <td>10.0</td>\n",
       "      <td>3.0</td>\n",
       "      <td>11.0</td>\n",
       "      <td>NaN</td>\n",
       "      <td>37.0</td>\n",
       "    </tr>\n",
       "  </tbody>\n",
       "</table>\n",
       "</div>"
      ],
      "text/plain": [
       "                      RFC   RFE  Lasso  Rank_CH2  Rank_MIC  p-value_x2  Total\n",
       "urz_ip               23.0  23.0   10.0      15.0       3.0         NaN   74.0\n",
       "aplikacja_id         13.0   8.0   22.0      16.0      13.0         NaN   72.0\n",
       "strona_id            17.5  17.0   10.0      11.0      16.0         NaN   71.5\n",
       "urz_id               17.5  21.0   10.0      13.0       7.0         NaN   68.5\n",
       "urz_model            21.0  18.0   20.0       4.0       5.0         NaN   68.0\n",
       "strona_domena        16.0   8.0   10.0      14.0      15.0         NaN   63.0\n",
       "kat4                  9.0   8.0   23.0       8.0      14.0         NaN   62.0\n",
       "kat8                 19.0  20.0   10.0       NaN       NaN        12.0   61.0\n",
       "data_godzina         22.0  19.0   10.0       NaN       NaN         6.0   57.0\n",
       "kat7                 12.0  16.0   21.0       NaN       NaN         2.0   51.0\n",
       "kat2                 20.0   8.0   10.0       NaN       NaN        12.0   50.0\n",
       "aplikacja_domena      7.0   8.0   10.0       9.0      10.0         NaN   44.0\n",
       "strona_kategoria     11.0   8.0   10.0       7.0       6.0         NaN   42.0\n",
       "kat5                 15.0   8.0   10.0       NaN       NaN         8.0   41.0\n",
       "kat9                 14.0   8.0   10.0       NaN       NaN         8.0   40.0\n",
       "urz_polaczenie       10.0   8.0   10.0      10.0       2.0         NaN   40.0\n",
       "kat3                  8.0   8.0   10.0       2.0      12.0         NaN   40.0\n",
       "aplikacja_kategoria   5.0   8.0   10.0      12.0       4.0         NaN   39.0\n",
       "id                    1.0  22.0   10.0       NaN       NaN         4.0   37.0\n",
       "kat6                  5.0   8.0   10.0       3.0      11.0         NaN   37.0"
      ]
     },
     "execution_count": 66,
     "metadata": {},
     "output_type": "execute_result"
    }
   ],
   "source": [
    "NOWA = pd.merge(feat_sel_df,df6, how='inner', left_index=True, right_index=True)\n",
    "\n",
    "NOWA['Total'] = np.sum(NOWA, axis=1)\n",
    "NOWA = NOWA.sort_values('Total',ascending=False )\n",
    "NOWA.head(20)"
   ]
  }
 ],
 "metadata": {
  "kernelspec": {
   "display_name": "Python 3",
   "language": "python",
   "name": "python3"
  },
  "language_info": {
   "codemirror_mode": {
    "name": "ipython",
    "version": 3
   },
   "file_extension": ".py",
   "mimetype": "text/x-python",
   "name": "python",
   "nbconvert_exporter": "python",
   "pygments_lexer": "ipython3",
   "version": "3.7.4"
  }
 },
 "nbformat": 4,
 "nbformat_minor": 2
}
