{
 "cells": [
  {
   "cell_type": "markdown",
   "metadata": {},
   "source": [
    "# Part_6: Stroke_Prediction_Pytorch"
   ]
  },
  {
   "cell_type": "code",
   "execution_count": 1,
   "metadata": {},
   "outputs": [],
   "source": [
    "import torch\n",
    "from torch.autograd import Variable\n",
    "import torch.nn.functional as F\n",
    "import torch.utils.data as Data\n",
    "\n",
    "import matplotlib.pyplot as plt\n",
    "%matplotlib inline\n",
    "\n",
    "import numpy as np\n",
    "import imageio"
   ]
  },
  {
   "cell_type": "markdown",
   "metadata": {},
   "source": [
    "### Krok 1. Tworzenie zbioru danych\n"
   ]
  },
  {
   "cell_type": "code",
   "execution_count": 2,
   "metadata": {},
   "outputs": [
    {
     "name": "stdout",
     "output_type": "stream",
     "text": [
      "(29062, 20)\n",
      "Unnamed: 0            int64\n",
      "ID                    int64\n",
      "Gender               object\n",
      "Hypertension          int64\n",
      "Heart_Disease         int64\n",
      "Ever_Married         object\n",
      "Type_Of_Work         object\n",
      "Residence            object\n",
      "Avg_Glucose         float64\n",
      "BMI                 float64\n",
      "Smoking_Status       object\n",
      "Stroke                int64\n",
      "Age_years           float64\n",
      "Age_years_10         object\n",
      "Gender_C              int64\n",
      "Ever_Married_C        int64\n",
      "Type_Of_Work_C        int64\n",
      "Residence_C           int64\n",
      "Smoking_Status_C      int64\n",
      "Age_years_10_C        int64\n",
      "dtype: object\n",
      "29061\n",
      "Index(['Unnamed: 0', 'ID', 'Gender', 'Hypertension', 'Heart_Disease',\n",
      "       'Ever_Married', 'Type_Of_Work', 'Residence', 'Avg_Glucose', 'BMI',\n",
      "       'Smoking_Status', 'Stroke', 'Age_years', 'Age_years_10', 'Gender_C',\n",
      "       'Ever_Married_C', 'Type_Of_Work_C', 'Residence_C', 'Smoking_Status_C',\n",
      "       'Age_years_10_C'],\n",
      "      dtype='object')\n"
     ]
    },
    {
     "data": {
      "text/html": [
       "<div>\n",
       "<style scoped>\n",
       "    .dataframe tbody tr th:only-of-type {\n",
       "        vertical-align: middle;\n",
       "    }\n",
       "\n",
       "    .dataframe tbody tr th {\n",
       "        vertical-align: top;\n",
       "    }\n",
       "\n",
       "    .dataframe thead th {\n",
       "        text-align: right;\n",
       "    }\n",
       "</style>\n",
       "<table border=\"1\" class=\"dataframe\">\n",
       "  <thead>\n",
       "    <tr style=\"text-align: right;\">\n",
       "      <th></th>\n",
       "      <th>Unnamed: 0</th>\n",
       "      <th>ID</th>\n",
       "      <th>Gender</th>\n",
       "      <th>Hypertension</th>\n",
       "      <th>Heart_Disease</th>\n",
       "      <th>Ever_Married</th>\n",
       "      <th>Type_Of_Work</th>\n",
       "      <th>Residence</th>\n",
       "      <th>Avg_Glucose</th>\n",
       "      <th>BMI</th>\n",
       "      <th>Smoking_Status</th>\n",
       "      <th>Stroke</th>\n",
       "      <th>Age_years</th>\n",
       "      <th>Age_years_10</th>\n",
       "      <th>Gender_C</th>\n",
       "      <th>Ever_Married_C</th>\n",
       "      <th>Type_Of_Work_C</th>\n",
       "      <th>Residence_C</th>\n",
       "      <th>Smoking_Status_C</th>\n",
       "      <th>Age_years_10_C</th>\n",
       "    </tr>\n",
       "  </thead>\n",
       "  <tbody>\n",
       "    <tr>\n",
       "      <th>0</th>\n",
       "      <td>0</td>\n",
       "      <td>30650</td>\n",
       "      <td>Male</td>\n",
       "      <td>1</td>\n",
       "      <td>0</td>\n",
       "      <td>Yes</td>\n",
       "      <td>Private</td>\n",
       "      <td>Urban</td>\n",
       "      <td>87.96</td>\n",
       "      <td>39.2</td>\n",
       "      <td>never smoked</td>\n",
       "      <td>0</td>\n",
       "      <td>58.093151</td>\n",
       "      <td>(53.126, 59.076]</td>\n",
       "      <td>1</td>\n",
       "      <td>1</td>\n",
       "      <td>2</td>\n",
       "      <td>1</td>\n",
       "      <td>1</td>\n",
       "      <td>5</td>\n",
       "    </tr>\n",
       "    <tr>\n",
       "      <th>1</th>\n",
       "      <td>1</td>\n",
       "      <td>57008</td>\n",
       "      <td>Female</td>\n",
       "      <td>0</td>\n",
       "      <td>0</td>\n",
       "      <td>Yes</td>\n",
       "      <td>Private</td>\n",
       "      <td>Rural</td>\n",
       "      <td>69.04</td>\n",
       "      <td>35.9</td>\n",
       "      <td>formerly smoked</td>\n",
       "      <td>0</td>\n",
       "      <td>70.076712</td>\n",
       "      <td>(65.121, 74.11]</td>\n",
       "      <td>0</td>\n",
       "      <td>1</td>\n",
       "      <td>2</td>\n",
       "      <td>0</td>\n",
       "      <td>0</td>\n",
       "      <td>7</td>\n",
       "    </tr>\n",
       "    <tr>\n",
       "      <th>2</th>\n",
       "      <td>2</td>\n",
       "      <td>53725</td>\n",
       "      <td>Female</td>\n",
       "      <td>0</td>\n",
       "      <td>0</td>\n",
       "      <td>Yes</td>\n",
       "      <td>Private</td>\n",
       "      <td>Urban</td>\n",
       "      <td>77.59</td>\n",
       "      <td>17.7</td>\n",
       "      <td>formerly smoked</td>\n",
       "      <td>0</td>\n",
       "      <td>52.041096</td>\n",
       "      <td>(48.082, 53.126]</td>\n",
       "      <td>0</td>\n",
       "      <td>1</td>\n",
       "      <td>2</td>\n",
       "      <td>1</td>\n",
       "      <td>0</td>\n",
       "      <td>4</td>\n",
       "    </tr>\n",
       "  </tbody>\n",
       "</table>\n",
       "</div>"
      ],
      "text/plain": [
       "   Unnamed: 0     ID  Gender  Hypertension  Heart_Disease Ever_Married  \\\n",
       "0           0  30650    Male             1              0          Yes   \n",
       "1           1  57008  Female             0              0          Yes   \n",
       "2           2  53725  Female             0              0          Yes   \n",
       "\n",
       "  Type_Of_Work Residence  Avg_Glucose   BMI   Smoking_Status  Stroke  \\\n",
       "0      Private     Urban        87.96  39.2     never smoked       0   \n",
       "1      Private     Rural        69.04  35.9  formerly smoked       0   \n",
       "2      Private     Urban        77.59  17.7  formerly smoked       0   \n",
       "\n",
       "   Age_years      Age_years_10  Gender_C  Ever_Married_C  Type_Of_Work_C  \\\n",
       "0  58.093151  (53.126, 59.076]         1               1               2   \n",
       "1  70.076712   (65.121, 74.11]         0               1               2   \n",
       "2  52.041096  (48.082, 53.126]         0               1               2   \n",
       "\n",
       "   Residence_C  Smoking_Status_C  Age_years_10_C  \n",
       "0            1                 1               5  \n",
       "1            0                 0               7  \n",
       "2            1                 0               4  "
      ]
     },
     "execution_count": 2,
     "metadata": {},
     "output_type": "execute_result"
    }
   ],
   "source": [
    "import pandas as pd\n",
    "\n",
    "df = pd.read_csv('c:/1/Stroke_Prediction_NUM.csv')\n",
    "#  , nrows=1000,parse_dates=['Date'],usecols = ['Unnamed: 0','Date','Consumption']\n",
    "\n",
    "print(df.shape)\n",
    "print(df.dtypes)\n",
    "print(df['Unnamed: 0'].max())\n",
    "print(df.columns)\n",
    "df.head(3)"
   ]
  },
  {
   "cell_type": "code",
   "execution_count": 3,
   "metadata": {},
   "outputs": [
    {
     "data": {
      "text/plain": [
       "Index(['Unnamed: 0', 'ID', 'Hypertension', 'Heart_Disease', 'Avg_Glucose',\n",
       "       'BMI', 'Stroke', 'Age_years', 'Gender_C', 'Ever_Married_C',\n",
       "       'Type_Of_Work_C', 'Residence_C', 'Smoking_Status_C', 'Age_years_10_C'],\n",
       "      dtype='object')"
      ]
     },
     "execution_count": 3,
     "metadata": {},
     "output_type": "execute_result"
    }
   ],
   "source": [
    "df.describe(include=[np.number]).columns"
   ]
  },
  {
   "cell_type": "code",
   "execution_count": 4,
   "metadata": {},
   "outputs": [],
   "source": [
    "import torch\n",
    "import torch.nn as nn\n",
    "\n",
    "# Create dummy input and target tensors (data)\n",
    "x = torch.tensor((df['Hypertension'],df['Heart_Disease'],df['Avg_Glucose'],df['BMI'],df['Age_years'],df['Gender_C'],df['Ever_Married_C'],df['Type_Of_Work_C'],df['Residence_C'],df['Smoking_Status_C'],df['Age_years_10_C']), dtype=torch.float)\n",
    "y = torch.tensor(df['Stroke'], dtype=torch.float)"
   ]
  },
  {
   "cell_type": "code",
   "execution_count": 5,
   "metadata": {},
   "outputs": [],
   "source": [
    "x =torch.transpose(x.flip(0),0,1)\n",
    "y = y.reshape(-1,1)\n",
    "y = y.view(y.shape[0],1)"
   ]
  },
  {
   "cell_type": "code",
   "execution_count": 6,
   "metadata": {},
   "outputs": [
    {
     "data": {
      "text/plain": [
       "tensor([[ 5.0000,  1.0000,  1.0000,  ..., 87.9600,  0.0000,  1.0000],\n",
       "        [ 7.0000,  0.0000,  0.0000,  ..., 69.0400,  0.0000,  0.0000],\n",
       "        [ 4.0000,  0.0000,  1.0000,  ..., 77.5900,  0.0000,  0.0000],\n",
       "        ...,\n",
       "        [ 8.0000,  0.0000,  1.0000,  ..., 91.9400,  0.0000,  1.0000],\n",
       "        [ 2.0000,  1.0000,  1.0000,  ..., 99.1600,  0.0000,  0.0000],\n",
       "        [ 8.0000,  1.0000,  1.0000,  ..., 79.4800,  0.0000,  0.0000]])"
      ]
     },
     "execution_count": 6,
     "metadata": {},
     "output_type": "execute_result"
    }
   ],
   "source": [
    "x"
   ]
  },
  {
   "cell_type": "code",
   "execution_count": 7,
   "metadata": {},
   "outputs": [
    {
     "data": {
      "text/plain": [
       "tensor([[0.],\n",
       "        [0.],\n",
       "        [0.],\n",
       "        ...,\n",
       "        [0.],\n",
       "        [0.],\n",
       "        [0.]])"
      ]
     },
     "execution_count": 7,
     "metadata": {},
     "output_type": "execute_result"
    }
   ],
   "source": [
    "y"
   ]
  },
  {
   "cell_type": "code",
   "execution_count": 8,
   "metadata": {},
   "outputs": [
    {
     "name": "stdout",
     "output_type": "stream",
     "text": [
      "x.shape:  torch.Size([29062, 11])\n",
      "y.shape:  torch.Size([29062, 1])\n"
     ]
    }
   ],
   "source": [
    "print('x.shape: ',x.shape)\n",
    "print('y.shape: ',y.shape)"
   ]
  },
  {
   "cell_type": "code",
   "execution_count": 9,
   "metadata": {},
   "outputs": [],
   "source": [
    "# Create a model\n",
    "model = nn.Sequential(nn.Linear(11, 21),\n",
    "                     nn.ReLU(),\n",
    "                     nn.Linear(21, 1),\n",
    "                     nn.Sigmoid())"
   ]
  },
  {
   "cell_type": "code",
   "execution_count": 10,
   "metadata": {},
   "outputs": [],
   "source": [
    "# Construct the loss function\n",
    "criterion = torch.nn.MSELoss()\n",
    "\n",
    "# Construct the optimizer (Stochastic Gradient Descent in this case)\n",
    "optimizer = torch.optim.SGD(model.parameters(), lr=0.001)"
   ]
  },
  {
   "cell_type": "code",
   "execution_count": 11,
   "metadata": {},
   "outputs": [
    {
     "name": "stdout",
     "output_type": "stream",
     "text": [
      "epoch:  0  loss:  0.7619365453720093\n",
      "epoch:  1  loss:  0.594810426235199\n",
      "epoch:  2  loss:  0.3751734495162964\n",
      "epoch:  3  loss:  0.23151186108589172\n",
      "epoch:  4  loss:  0.14533954858779907\n",
      "epoch:  5  loss:  0.09627034515142441\n",
      "epoch:  6  loss:  0.06945375353097916\n",
      "epoch:  7  loss:  0.054303064942359924\n",
      "epoch:  8  loss:  0.04516179487109184\n",
      "epoch:  9  loss:  0.039268966764211655\n",
      "epoch:  10  loss:  0.03524915874004364\n",
      "epoch:  11  loss:  0.03237738832831383\n",
      "epoch:  12  loss:  0.030247367918491364\n",
      "epoch:  13  loss:  0.02861827053129673\n",
      "epoch:  14  loss:  0.02734033390879631\n",
      "epoch:  15  loss:  0.026316413655877113\n",
      "epoch:  16  loss:  0.025481155142188072\n",
      "epoch:  17  loss:  0.02478926070034504\n",
      "epoch:  18  loss:  0.024208463728427887\n",
      "epoch:  19  loss:  0.023715276271104813\n",
      "epoch:  20  loss:  0.02329222857952118\n",
      "epoch:  21  loss:  0.022926034405827522\n",
      "epoch:  22  loss:  0.022606493905186653\n",
      "epoch:  23  loss:  0.022325653582811356\n",
      "epoch:  24  loss:  0.022077234461903572\n",
      "epoch:  25  loss:  0.021856192499399185\n",
      "epoch:  26  loss:  0.021658455953001976\n",
      "epoch:  27  loss:  0.021480709314346313\n",
      "epoch:  28  loss:  0.021320214495062828\n",
      "epoch:  29  loss:  0.021174699068069458\n",
      "epoch:  30  loss:  0.02104226127266884\n",
      "epoch:  31  loss:  0.020921317860484123\n",
      "epoch:  32  loss:  0.020810484886169434\n",
      "epoch:  33  loss:  0.020708631724119186\n",
      "epoch:  34  loss:  0.020614737644791603\n",
      "epoch:  35  loss:  0.020527983084321022\n",
      "epoch:  36  loss:  0.02044760249555111\n",
      "epoch:  37  loss:  0.020372958853840828\n",
      "epoch:  38  loss:  0.020303495228290558\n",
      "epoch:  39  loss:  0.020238704979419708\n",
      "epoch:  40  loss:  0.02017817460000515\n",
      "epoch:  41  loss:  0.020121509209275246\n",
      "epoch:  42  loss:  0.020068373531103134\n",
      "epoch:  43  loss:  0.02001846395432949\n",
      "epoch:  44  loss:  0.019971506670117378\n",
      "epoch:  45  loss:  0.019927268847823143\n",
      "epoch:  46  loss:  0.019885526970028877\n",
      "epoch:  47  loss:  0.01984609104692936\n",
      "epoch:  48  loss:  0.019808778539299965\n",
      "epoch:  49  loss:  0.019773442298173904\n",
      "epoch:  50  loss:  0.01973993144929409\n",
      "epoch:  51  loss:  0.019708123058080673\n",
      "epoch:  52  loss:  0.01967788301408291\n",
      "epoch:  53  loss:  0.019649116322398186\n",
      "epoch:  54  loss:  0.019621726125478745\n",
      "epoch:  55  loss:  0.019595609977841377\n",
      "epoch:  56  loss:  0.019570695236325264\n",
      "epoch:  57  loss:  0.019546905532479286\n",
      "epoch:  58  loss:  0.019524166360497475\n",
      "epoch:  59  loss:  0.019502412527799606\n",
      "epoch:  60  loss:  0.019481591880321503\n",
      "epoch:  61  loss:  0.01946163736283779\n",
      "epoch:  62  loss:  0.019442515447735786\n",
      "epoch:  63  loss:  0.019424162805080414\n",
      "epoch:  64  loss:  0.019406545907258987\n",
      "epoch:  65  loss:  0.019389623776078224\n",
      "epoch:  66  loss:  0.019373351708054543\n",
      "epoch:  67  loss:  0.019357694312930107\n",
      "epoch:  68  loss:  0.019342632964253426\n",
      "epoch:  69  loss:  0.019328124821186066\n",
      "epoch:  70  loss:  0.01931414194405079\n",
      "epoch:  71  loss:  0.019300663843750954\n",
      "epoch:  72  loss:  0.01928766444325447\n",
      "epoch:  73  loss:  0.01927511766552925\n",
      "epoch:  74  loss:  0.019262999296188354\n",
      "epoch:  75  loss:  0.01925128698348999\n",
      "epoch:  76  loss:  0.01923997327685356\n",
      "epoch:  77  loss:  0.019229035824537277\n",
      "epoch:  78  loss:  0.0192184466868639\n",
      "epoch:  79  loss:  0.01920820213854313\n",
      "epoch:  80  loss:  0.019198283553123474\n",
      "epoch:  81  loss:  0.01918867602944374\n",
      "epoch:  82  loss:  0.019179366528987885\n",
      "epoch:  83  loss:  0.01917034201323986\n",
      "epoch:  84  loss:  0.019161585718393326\n",
      "epoch:  85  loss:  0.01915309950709343\n",
      "epoch:  86  loss:  0.019144853577017784\n",
      "epoch:  87  loss:  0.019136855378746986\n",
      "epoch:  88  loss:  0.019129084423184395\n",
      "epoch:  89  loss:  0.019121533259749413\n",
      "epoch:  90  loss:  0.01911420375108719\n",
      "epoch:  91  loss:  0.019107069820165634\n",
      "epoch:  92  loss:  0.019100135192275047\n",
      "epoch:  93  loss:  0.019093390554189682\n",
      "epoch:  94  loss:  0.019086824730038643\n",
      "epoch:  95  loss:  0.01908043585717678\n",
      "epoch:  96  loss:  0.01907421462237835\n",
      "epoch:  97  loss:  0.01906815730035305\n",
      "epoch:  98  loss:  0.019062256440520287\n",
      "epoch:  99  loss:  0.01905650645494461\n"
     ]
    }
   ],
   "source": [
    "# Gradient Descent\n",
    "for epoch in range(100):\n",
    "    # Forward pass: Compute predicted y by passing x to the model\n",
    "    y_pred = model(x)\n",
    "\n",
    "    # Compute and print loss\n",
    "    loss = criterion(y_pred, y)\n",
    "    print('epoch: ', epoch,' loss: ', loss.item())\n",
    "\n",
    "    # Zero gradients, perform a backward pass, and update the weights.\n",
    "    optimizer.zero_grad()\n",
    "    \n",
    "    # perform a backward pass (backpropagation)\n",
    "    loss.backward()\n",
    "    \n",
    "    # Update the parameters\n",
    "    optimizer.step()"
   ]
  },
  {
   "cell_type": "code",
   "execution_count": 12,
   "metadata": {},
   "outputs": [
    {
     "data": {
      "text/plain": [
       "tensor([[0.0098],\n",
       "        [0.0622],\n",
       "        [0.0246],\n",
       "        ...,\n",
       "        [0.0206],\n",
       "        [0.0021],\n",
       "        [0.0558]], grad_fn=<SigmoidBackward>)"
      ]
     },
     "execution_count": 12,
     "metadata": {},
     "output_type": "execute_result"
    }
   ],
   "source": [
    " y_pred"
   ]
  }
 ],
 "metadata": {
  "kernelspec": {
   "display_name": "Python 3",
   "language": "python",
   "name": "python3"
  },
  "language_info": {
   "codemirror_mode": {
    "name": "ipython",
    "version": 3
   },
   "file_extension": ".py",
   "mimetype": "text/x-python",
   "name": "python",
   "nbconvert_exporter": "python",
   "pygments_lexer": "ipython3",
   "version": "3.6.8"
  }
 },
 "nbformat": 4,
 "nbformat_minor": 2
}
